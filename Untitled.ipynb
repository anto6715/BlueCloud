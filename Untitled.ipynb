{
 "cells": [
  {
   "cell_type": "code",
   "execution_count": 4,
   "metadata": {},
   "outputs": [
    {
     "data": {
      "text/plain": [
       "{}"
      ]
     },
     "execution_count": 4,
     "metadata": {},
     "output_type": "execute_result"
    }
   ],
   "source": [
    "import xarray as xr\n",
    "import numpy as np\n",
    "\n",
    "import pyxpcm\n",
    "from pyxpcm.models import pcm\n",
    "\n",
    "# ISAS dataset\n",
    "file_path = '/home5/pharos/REFERENCE_DATA/OCEAN_REP/ISAS/ISAS15/ANA/ISAS_DT/ARGO_ONLY/2015/'\n",
    "\n",
    "#time range\n",
    "start_date = 20150115\n",
    "end_date = 20150115\n",
    "time_interval = 100 # TODO: easier way to get time interval, date type\n",
    "\n",
    "#spatial extent\n",
    "lon_extent = [-6,35]\n",
    "lat_extent = [30,45]\n",
    "\n",
    "# get list of paths\n",
    "dates_range = np.arange(start_date, end_date + time_interval, time_interval)\n",
    "\n",
    "ds_paths = []\n",
    "for dt in dates_range:\n",
    "    ds_paths.append([file_path + 'ISAS15_ARGO_' + str(dt) +'_fld_TEMP.nc'])\n",
    "\n",
    "#open all data files\n",
    "ds = xr.open_mfdataset(ds_paths,combine='by_coords', concat_dim='time')\n",
    "\n",
    "ds = ds.sel(latitude=slice(lat_extent[0],lat_extent[1]), longitude=slice(lon_extent[0], lon_extent[1])) \n",
    "# !!!!!! after changing depth values, attributes disappear (ds['depth'].values = -np.abs(ds['depth'].values) is not working)\n",
    "ds['depth'] = -np.abs(ds['depth'].values)\n",
    "\n",
    "#Choise of z and pcm features (very important to make a good choise) \n",
    "z = np.arange(0.,-2000,-10.)\n",
    "pcm_features = {'temperature': z}\n",
    "K=6\n",
    "m = pcm(K=K, features=pcm_features)\n",
    "\n",
    "# fit\n",
    "features_in_ds = {'temperature': 'TEMP'}\n",
    "features_zdim='depth'\n",
    "m.fit(ds, features=features_in_ds, dim=features_zdim)\n",
    "\n",
    "#classify data\n",
    "m.predict(ds, features=features_in_ds, dim=features_zdim, inplace=True);\n",
    "\n",
    "# !!!!!! after predict no attributes in coordinates\n",
    "ds.longitude.attrs"
   ]
  },
  {
   "cell_type": "code",
   "execution_count": 9,
   "metadata": {},
   "outputs": [
    {
     "data": {
      "text/plain": [
       "{}"
      ]
     },
     "execution_count": 9,
     "metadata": {},
     "output_type": "execute_result"
    }
   ],
   "source": [
    "import xarray as xr\n",
    "import numpy as np\n",
    "\n",
    "import argopy\n",
    "from argopy import DataFetcher as ArgoDataFetcher\n",
    "argo_loader = ArgoDataFetcher()\n",
    "\n",
    "# get data\n",
    "ds = argo_loader.region([-6, 35, 30, 46, 0, 1000, '2012', '2013']).to_xarray()\n",
    "\n",
    "dsp = ds.argo.point2profile()\n",
    "# !!!!!! after point2profile no attributes in coordinates\n",
    "dsp.LONGITUDE.attrs"
   ]
  },
  {
   "cell_type": "code",
   "execution_count": null,
   "metadata": {},
   "outputs": [],
   "source": []
  }
 ],
 "metadata": {
  "kernelspec": {
   "display_name": "Python 3",
   "language": "python",
   "name": "python3"
  },
  "language_info": {
   "codemirror_mode": {
    "name": "ipython",
    "version": 3
   },
   "file_extension": ".py",
   "mimetype": "text/x-python",
   "name": "python",
   "nbconvert_exporter": "python",
   "pygments_lexer": "ipython3",
   "version": "3.7.6"
  }
 },
 "nbformat": 4,
 "nbformat_minor": 4
}
