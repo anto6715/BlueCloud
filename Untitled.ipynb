{
 "cells": [
  {
   "cell_type": "code",
   "execution_count": 1,
   "metadata": {},
   "outputs": [
    {
     "name": "stdout",
     "output_type": "stream",
     "text": [
      "Found existing installation: argopy 0.1.6\n",
      "Uninstalling argopy-0.1.6:\n",
      "  Successfully uninstalled argopy-0.1.6\n",
      "Collecting git+http://github.com/euroargodev/argopy.git@master\n",
      "  Cloning http://github.com/euroargodev/argopy.git (to revision master) to /tmp/pip-req-build-jz_7asu4\n",
      "  Running command git clone -q http://github.com/euroargodev/argopy.git /tmp/pip-req-build-jz_7asu4\n",
      "  Installing build dependencies ... \u001b[?25ldone\n",
      "\u001b[?25h  Getting requirements to build wheel ... \u001b[?25ldone\n",
      "\u001b[?25h    Preparing wheel metadata ... \u001b[?25ldone\n",
      "\u001b[?25hRequirement already satisfied: toolz>=0.8.2 in /export/home1/agarciaj/anaconda3/lib/python3.7/site-packages (from argopy==0.1.6) (0.10.0)\n",
      "Collecting xarray==0.15.1\n",
      "  Downloading xarray-0.15.1-py3-none-any.whl (668 kB)\n",
      "\u001b[K     |████████████████████████████████| 668 kB 3.0 MB/s eta 0:00:01\n",
      "\u001b[?25hRequirement already satisfied: fsspec>=0.7.4 in /export/home1/agarciaj/anaconda3/lib/python3.7/site-packages (from argopy==0.1.6) (0.7.4)\n",
      "Collecting aiohttp>=3.6.2\n",
      "  Downloading aiohttp-3.6.3-cp37-cp37m-manylinux1_x86_64.whl (1.2 MB)\n",
      "\u001b[K     |████████████████████████████████| 1.2 MB 10.1 MB/s eta 0:00:01\n",
      "\u001b[?25hRequirement already satisfied: scipy>=1.1.0 in /export/home1/agarciaj/anaconda3/lib/python3.7/site-packages (from argopy==0.1.6) (1.5.2)\n",
      "Requirement already satisfied: scikit-learn>=0.21 in /export/home1/agarciaj/anaconda3/lib/python3.7/site-packages (from argopy==0.1.6) (0.22.2.post1)\n",
      "Requirement already satisfied: gsw>=3.3.1 in /export/home1/agarciaj/anaconda3/lib/python3.7/site-packages (from argopy==0.1.6) (3.3.1.post1)\n",
      "Requirement already satisfied: netCDF4>=1.3.1 in /export/home1/agarciaj/anaconda3/lib/python3.7/site-packages (from argopy==0.1.6) (1.5.3)\n",
      "Requirement already satisfied: ipython>=5.0.0 in /export/home1/agarciaj/anaconda3/lib/python3.7/site-packages (from argopy==0.1.6) (7.12.0)\n",
      "Requirement already satisfied: dask>=2.9 in /export/home1/agarciaj/anaconda3/lib/python3.7/site-packages (from argopy==0.1.6) (2.11.0)\n",
      "Collecting erddapy>=0.6\n",
      "  Downloading erddapy-0.7.2-py3-none-any.whl (13 kB)\n",
      "Requirement already satisfied: tqdm>=4.46.0 in /export/home1/agarciaj/anaconda3/lib/python3.7/site-packages (from argopy==0.1.6) (4.47.0)\n",
      "Requirement already satisfied: numpydoc>=0.6.0 in /export/home1/agarciaj/anaconda3/lib/python3.7/site-packages (from argopy==0.1.6) (0.9.2)\n",
      "Requirement already satisfied: numpy>=1.15 in /export/home1/agarciaj/anaconda3/lib/python3.7/site-packages (from xarray==0.15.1->argopy==0.1.6) (1.19.1)\n",
      "Requirement already satisfied: setuptools>=41.2 in /export/home1/agarciaj/anaconda3/lib/python3.7/site-packages (from xarray==0.15.1->argopy==0.1.6) (50.3.0)\n",
      "Requirement already satisfied: pandas>=0.25 in /export/home1/agarciaj/anaconda3/lib/python3.7/site-packages (from xarray==0.15.1->argopy==0.1.6) (1.1.1)\n",
      "Collecting yarl<1.6.0,>=1.0\n",
      "  Downloading yarl-1.5.1-cp37-cp37m-manylinux1_x86_64.whl (258 kB)\n",
      "\u001b[K     |████████████████████████████████| 258 kB 19.4 MB/s eta 0:00:01\n",
      "\u001b[?25hCollecting async-timeout<4.0,>=3.0\n",
      "  Downloading async_timeout-3.0.1-py3-none-any.whl (8.2 kB)\n",
      "Requirement already satisfied: chardet<4.0,>=2.0 in /export/home1/agarciaj/anaconda3/lib/python3.7/site-packages (from aiohttp>=3.6.2->argopy==0.1.6) (3.0.4)\n",
      "Requirement already satisfied: attrs>=17.3.0 in /export/home1/agarciaj/anaconda3/lib/python3.7/site-packages (from aiohttp>=3.6.2->argopy==0.1.6) (19.3.0)\n",
      "Collecting multidict<5.0,>=4.5\n",
      "  Downloading multidict-4.7.6-cp37-cp37m-manylinux1_x86_64.whl (149 kB)\n",
      "\u001b[K     |████████████████████████████████| 149 kB 18.5 MB/s eta 0:00:01\n",
      "\u001b[?25hRequirement already satisfied: joblib>=0.11 in /export/home1/agarciaj/anaconda3/lib/python3.7/site-packages (from scikit-learn>=0.21->argopy==0.1.6) (0.16.0)\n",
      "Requirement already satisfied: cftime in /export/home1/agarciaj/anaconda3/lib/python3.7/site-packages (from netCDF4>=1.3.1->argopy==0.1.6) (1.2.0)\n",
      "Requirement already satisfied: traitlets>=4.2 in /export/home1/agarciaj/anaconda3/lib/python3.7/site-packages (from ipython>=5.0.0->argopy==0.1.6) (4.3.3)\n",
      "Requirement already satisfied: pexpect; sys_platform != \"win32\" in /export/home1/agarciaj/anaconda3/lib/python3.7/site-packages (from ipython>=5.0.0->argopy==0.1.6) (4.8.0)\n",
      "Requirement already satisfied: backcall in /export/home1/agarciaj/anaconda3/lib/python3.7/site-packages (from ipython>=5.0.0->argopy==0.1.6) (0.1.0)\n",
      "Requirement already satisfied: pygments in /export/home1/agarciaj/anaconda3/lib/python3.7/site-packages (from ipython>=5.0.0->argopy==0.1.6) (2.6.1)\n",
      "Requirement already satisfied: pickleshare in /export/home1/agarciaj/anaconda3/lib/python3.7/site-packages (from ipython>=5.0.0->argopy==0.1.6) (0.7.5)\n",
      "Requirement already satisfied: prompt-toolkit!=3.0.0,!=3.0.1,<3.1.0,>=2.0.0 in /export/home1/agarciaj/anaconda3/lib/python3.7/site-packages (from ipython>=5.0.0->argopy==0.1.6) (3.0.3)\n",
      "Requirement already satisfied: jedi>=0.10 in /export/home1/agarciaj/anaconda3/lib/python3.7/site-packages (from ipython>=5.0.0->argopy==0.1.6) (0.17.2)\n",
      "Requirement already satisfied: decorator in /export/home1/agarciaj/anaconda3/lib/python3.7/site-packages (from ipython>=5.0.0->argopy==0.1.6) (4.4.1)\n",
      "Requirement already satisfied: requests in /export/home1/agarciaj/anaconda3/lib/python3.7/site-packages (from erddapy>=0.6->argopy==0.1.6) (2.22.0)\n",
      "Requirement already satisfied: sphinx>=1.6.5 in /export/home1/agarciaj/anaconda3/lib/python3.7/site-packages (from numpydoc>=0.6.0->argopy==0.1.6) (2.4.0)\n",
      "Requirement already satisfied: Jinja2>=2.3 in /export/home1/agarciaj/anaconda3/lib/python3.7/site-packages (from numpydoc>=0.6.0->argopy==0.1.6) (2.11.1)\n",
      "Requirement already satisfied: python-dateutil>=2.7.3 in /export/home1/agarciaj/anaconda3/lib/python3.7/site-packages (from pandas>=0.25->xarray==0.15.1->argopy==0.1.6) (2.8.1)\n",
      "Requirement already satisfied: pytz>=2017.2 in /export/home1/agarciaj/anaconda3/lib/python3.7/site-packages (from pandas>=0.25->xarray==0.15.1->argopy==0.1.6) (2020.1)\n",
      "Requirement already satisfied: typing-extensions>=3.7.4; python_version < \"3.8\" in /export/home1/agarciaj/anaconda3/lib/python3.7/site-packages (from yarl<1.6.0,>=1.0->aiohttp>=3.6.2->argopy==0.1.6) (3.7.4.3)\n",
      "Requirement already satisfied: idna>=2.0 in /export/home1/agarciaj/anaconda3/lib/python3.7/site-packages (from yarl<1.6.0,>=1.0->aiohttp>=3.6.2->argopy==0.1.6) (2.8)\n",
      "Requirement already satisfied: ipython-genutils in /export/home1/agarciaj/anaconda3/lib/python3.7/site-packages (from traitlets>=4.2->ipython>=5.0.0->argopy==0.1.6) (0.2.0)\n",
      "Requirement already satisfied: six in /export/home1/agarciaj/anaconda3/lib/python3.7/site-packages (from traitlets>=4.2->ipython>=5.0.0->argopy==0.1.6) (1.15.0)\n",
      "Requirement already satisfied: ptyprocess>=0.5 in /export/home1/agarciaj/anaconda3/lib/python3.7/site-packages (from pexpect; sys_platform != \"win32\"->ipython>=5.0.0->argopy==0.1.6) (0.6.0)\n",
      "Requirement already satisfied: wcwidth in /export/home1/agarciaj/anaconda3/lib/python3.7/site-packages (from prompt-toolkit!=3.0.0,!=3.0.1,<3.1.0,>=2.0.0->ipython>=5.0.0->argopy==0.1.6) (0.1.8)\n",
      "Requirement already satisfied: parso<0.8.0,>=0.7.0 in /export/home1/agarciaj/anaconda3/lib/python3.7/site-packages (from jedi>=0.10->ipython>=5.0.0->argopy==0.1.6) (0.7.1)\n",
      "Requirement already satisfied: urllib3!=1.25.0,!=1.25.1,<1.26,>=1.21.1 in /export/home1/agarciaj/anaconda3/lib/python3.7/site-packages (from requests->erddapy>=0.6->argopy==0.1.6) (1.25.8)\n",
      "Requirement already satisfied: certifi>=2017.4.17 in /export/home1/agarciaj/anaconda3/lib/python3.7/site-packages (from requests->erddapy>=0.6->argopy==0.1.6) (2019.11.28)\n",
      "Requirement already satisfied: sphinxcontrib-applehelp in /export/home1/agarciaj/anaconda3/lib/python3.7/site-packages (from sphinx>=1.6.5->numpydoc>=0.6.0->argopy==0.1.6) (1.0.1)\n",
      "Requirement already satisfied: docutils>=0.12 in /export/home1/agarciaj/anaconda3/lib/python3.7/site-packages (from sphinx>=1.6.5->numpydoc>=0.6.0->argopy==0.1.6) (0.16)\n",
      "Requirement already satisfied: sphinxcontrib-htmlhelp in /export/home1/agarciaj/anaconda3/lib/python3.7/site-packages (from sphinx>=1.6.5->numpydoc>=0.6.0->argopy==0.1.6) (1.0.2)\n",
      "Requirement already satisfied: imagesize in /export/home1/agarciaj/anaconda3/lib/python3.7/site-packages (from sphinx>=1.6.5->numpydoc>=0.6.0->argopy==0.1.6) (1.2.0)\n",
      "Requirement already satisfied: sphinxcontrib-devhelp in /export/home1/agarciaj/anaconda3/lib/python3.7/site-packages (from sphinx>=1.6.5->numpydoc>=0.6.0->argopy==0.1.6) (1.0.1)\n",
      "Requirement already satisfied: sphinxcontrib-serializinghtml in /export/home1/agarciaj/anaconda3/lib/python3.7/site-packages (from sphinx>=1.6.5->numpydoc>=0.6.0->argopy==0.1.6) (1.1.3)\n",
      "Requirement already satisfied: alabaster<0.8,>=0.7 in /export/home1/agarciaj/anaconda3/lib/python3.7/site-packages (from sphinx>=1.6.5->numpydoc>=0.6.0->argopy==0.1.6) (0.7.12)\n",
      "Requirement already satisfied: babel!=2.0,>=1.3 in /export/home1/agarciaj/anaconda3/lib/python3.7/site-packages (from sphinx>=1.6.5->numpydoc>=0.6.0->argopy==0.1.6) (2.8.0)\n",
      "Requirement already satisfied: packaging in /export/home1/agarciaj/anaconda3/lib/python3.7/site-packages (from sphinx>=1.6.5->numpydoc>=0.6.0->argopy==0.1.6) (20.1)\n",
      "Requirement already satisfied: snowballstemmer>=1.1 in /export/home1/agarciaj/anaconda3/lib/python3.7/site-packages (from sphinx>=1.6.5->numpydoc>=0.6.0->argopy==0.1.6) (2.0.0)\n",
      "Requirement already satisfied: sphinxcontrib-jsmath in /export/home1/agarciaj/anaconda3/lib/python3.7/site-packages (from sphinx>=1.6.5->numpydoc>=0.6.0->argopy==0.1.6) (1.0.1)\n",
      "Requirement already satisfied: sphinxcontrib-qthelp in /export/home1/agarciaj/anaconda3/lib/python3.7/site-packages (from sphinx>=1.6.5->numpydoc>=0.6.0->argopy==0.1.6) (1.0.2)\n",
      "Requirement already satisfied: MarkupSafe>=0.23 in /export/home1/agarciaj/anaconda3/lib/python3.7/site-packages (from Jinja2>=2.3->numpydoc>=0.6.0->argopy==0.1.6) (1.1.1)\n",
      "Requirement already satisfied: pyparsing>=2.0.2 in /export/home1/agarciaj/anaconda3/lib/python3.7/site-packages (from packaging->sphinx>=1.6.5->numpydoc>=0.6.0->argopy==0.1.6) (2.4.6)\n",
      "Building wheels for collected packages: argopy\n",
      "  Building wheel for argopy (PEP 517) ... \u001b[?25ldone\n",
      "\u001b[?25h  Created wheel for argopy: filename=argopy-0.1.6-py3-none-any.whl size=91003 sha256=7355445884b29d2acb00a242dc4c53a17ac9585fd4222d2087bee521cca41497\n",
      "  Stored in directory: /tmp/pip-ephem-wheel-cache-lnrgm74f/wheels/0e/be/5c/f4b38597f5094e6afc8384daefe20d923bb27241b0e1869654\n",
      "Successfully built argopy\n",
      "Installing collected packages: xarray, multidict, yarl, async-timeout, aiohttp, erddapy, argopy\n",
      "  Attempting uninstall: xarray\n",
      "    Found existing installation: xarray 0.16.0\n",
      "    Uninstalling xarray-0.16.0:\n",
      "      Successfully uninstalled xarray-0.16.0\n",
      "  Attempting uninstall: erddapy\n",
      "    Found existing installation: erddapy 0.5.3\n",
      "    Uninstalling erddapy-0.5.3:\n",
      "      Successfully uninstalled erddapy-0.5.3\n",
      "Successfully installed aiohttp-3.6.3 argopy-0.1.6 async-timeout-3.0.1 erddapy-0.7.2 multidict-4.7.6 xarray-0.15.1 yarl-1.5.1\n",
      "Requirement already satisfied: aiohttp in /export/home1/agarciaj/anaconda3/lib/python3.7/site-packages (3.6.3)\n",
      "Requirement already satisfied: attrs>=17.3.0 in /export/home1/agarciaj/anaconda3/lib/python3.7/site-packages (from aiohttp) (19.3.0)\n",
      "Requirement already satisfied: multidict<5.0,>=4.5 in /export/home1/agarciaj/anaconda3/lib/python3.7/site-packages (from aiohttp) (4.7.6)\n",
      "Requirement already satisfied: async-timeout<4.0,>=3.0 in /export/home1/agarciaj/anaconda3/lib/python3.7/site-packages (from aiohttp) (3.0.1)\n",
      "Requirement already satisfied: yarl<1.6.0,>=1.0 in /export/home1/agarciaj/anaconda3/lib/python3.7/site-packages (from aiohttp) (1.5.1)\n",
      "Requirement already satisfied: chardet<4.0,>=2.0 in /export/home1/agarciaj/anaconda3/lib/python3.7/site-packages (from aiohttp) (3.0.4)\n",
      "Requirement already satisfied: typing-extensions>=3.7.4; python_version < \"3.8\" in /export/home1/agarciaj/anaconda3/lib/python3.7/site-packages (from yarl<1.6.0,>=1.0->aiohttp) (3.7.4.3)\n",
      "Requirement already satisfied: idna>=2.0 in /export/home1/agarciaj/anaconda3/lib/python3.7/site-packages (from yarl<1.6.0,>=1.0->aiohttp) (2.8)\n"
     ]
    }
   ],
   "source": [
    "!pip uninstall argopy -y\n",
    "!pip install git+http://github.com/euroargodev/argopy.git@master\n",
    "!pip install aiohttp"
   ]
  },
  {
   "cell_type": "code",
   "execution_count": 2,
   "metadata": {},
   "outputs": [],
   "source": [
    "from argopy import DataFetcher as ArgoDataFetcher\n",
    "argo_loader = ArgoDataFetcher(src='erddap')"
   ]
  },
  {
   "cell_type": "code",
   "execution_count": 3,
   "metadata": {},
   "outputs": [
    {
     "ename": "AttributeError",
     "evalue": "'HTTPFileSystem' object has no attribute 'cat_file'",
     "output_type": "error",
     "traceback": [
      "\u001b[0;31m---------------------------------------------------------------------------\u001b[0m",
      "\u001b[0;31mAttributeError\u001b[0m                            Traceback (most recent call last)",
      "\u001b[0;32m<ipython-input-3-ef122e414c8b>\u001b[0m in \u001b[0;36m<module>\u001b[0;34m\u001b[0m\n\u001b[0;32m----> 1\u001b[0;31m \u001b[0mds\u001b[0m \u001b[0;34m=\u001b[0m \u001b[0margo_loader\u001b[0m\u001b[0;34m.\u001b[0m\u001b[0mfloat\u001b[0m\u001b[0;34m(\u001b[0m\u001b[0;36m6902746\u001b[0m\u001b[0;34m)\u001b[0m\u001b[0;34m.\u001b[0m\u001b[0mto_xarray\u001b[0m\u001b[0;34m(\u001b[0m\u001b[0;34m)\u001b[0m\u001b[0;34m\u001b[0m\u001b[0;34m\u001b[0m\u001b[0m\n\u001b[0m",
      "\u001b[0;32m/export/home1/agarciaj/anaconda3/lib/python3.7/site-packages/argopy/fetchers.py\u001b[0m in \u001b[0;36mto_xarray\u001b[0;34m(self, **kwargs)\u001b[0m\n\u001b[1;32m    270\u001b[0m             raise InvalidFetcher(\" Initialize an access point (%s) first.\" %\n\u001b[1;32m    271\u001b[0m                                  \",\".join(self.Fetchers.keys()))\n\u001b[0;32m--> 272\u001b[0;31m         \u001b[0mxds\u001b[0m \u001b[0;34m=\u001b[0m \u001b[0mself\u001b[0m\u001b[0;34m.\u001b[0m\u001b[0mfetcher\u001b[0m\u001b[0;34m.\u001b[0m\u001b[0mto_xarray\u001b[0m\u001b[0;34m(\u001b[0m\u001b[0;34m**\u001b[0m\u001b[0mkwargs\u001b[0m\u001b[0;34m)\u001b[0m\u001b[0;34m\u001b[0m\u001b[0;34m\u001b[0m\u001b[0m\n\u001b[0m\u001b[1;32m    273\u001b[0m         \u001b[0mxds\u001b[0m \u001b[0;34m=\u001b[0m \u001b[0mself\u001b[0m\u001b[0;34m.\u001b[0m\u001b[0mpostproccessor\u001b[0m\u001b[0;34m(\u001b[0m\u001b[0mxds\u001b[0m\u001b[0;34m)\u001b[0m\u001b[0;34m\u001b[0m\u001b[0;34m\u001b[0m\u001b[0m\n\u001b[1;32m    274\u001b[0m         \u001b[0;32mreturn\u001b[0m \u001b[0mxds\u001b[0m\u001b[0;34m\u001b[0m\u001b[0;34m\u001b[0m\u001b[0m\n",
      "\u001b[0;32m/export/home1/agarciaj/anaconda3/lib/python3.7/site-packages/argopy/data_fetchers/erddap_data.py\u001b[0m in \u001b[0;36mto_xarray\u001b[0;34m(self, errors)\u001b[0m\n\u001b[1;32m    417\u001b[0m         \u001b[0;32mif\u001b[0m \u001b[0;32mnot\u001b[0m \u001b[0mself\u001b[0m\u001b[0;34m.\u001b[0m\u001b[0mparallel\u001b[0m\u001b[0;34m:\u001b[0m\u001b[0;34m\u001b[0m\u001b[0;34m\u001b[0m\u001b[0m\n\u001b[1;32m    418\u001b[0m             \u001b[0;32mif\u001b[0m \u001b[0mlen\u001b[0m\u001b[0;34m(\u001b[0m\u001b[0mself\u001b[0m\u001b[0;34m.\u001b[0m\u001b[0muri\u001b[0m\u001b[0;34m)\u001b[0m \u001b[0;34m==\u001b[0m \u001b[0;36m1\u001b[0m\u001b[0;34m:\u001b[0m\u001b[0;34m\u001b[0m\u001b[0;34m\u001b[0m\u001b[0m\n\u001b[0;32m--> 419\u001b[0;31m                 \u001b[0mds\u001b[0m \u001b[0;34m=\u001b[0m \u001b[0mself\u001b[0m\u001b[0;34m.\u001b[0m\u001b[0mfs\u001b[0m\u001b[0;34m.\u001b[0m\u001b[0mopen_dataset\u001b[0m\u001b[0;34m(\u001b[0m\u001b[0mself\u001b[0m\u001b[0;34m.\u001b[0m\u001b[0muri\u001b[0m\u001b[0;34m[\u001b[0m\u001b[0;36m0\u001b[0m\u001b[0;34m]\u001b[0m\u001b[0;34m)\u001b[0m\u001b[0;34m\u001b[0m\u001b[0;34m\u001b[0m\u001b[0m\n\u001b[0m\u001b[1;32m    420\u001b[0m             \u001b[0;32melse\u001b[0m\u001b[0;34m:\u001b[0m\u001b[0;34m\u001b[0m\u001b[0;34m\u001b[0m\u001b[0m\n\u001b[1;32m    421\u001b[0m                 ds = self.fs.open_mfdataset(\n",
      "\u001b[0;32m/export/home1/agarciaj/anaconda3/lib/python3.7/site-packages/argopy/stores/filesystems.py\u001b[0m in \u001b[0;36mopen_dataset\u001b[0;34m(self, url, *args, **kwargs)\u001b[0m\n\u001b[1;32m    464\u001b[0m         \u001b[0;31m# with self.fs.open(url) as of:\u001b[0m\u001b[0;34m\u001b[0m\u001b[0;34m\u001b[0m\u001b[0;34m\u001b[0m\u001b[0m\n\u001b[1;32m    465\u001b[0m         \u001b[0;31m#     ds = xr.open_dataset(of, *args, **kwargs)\u001b[0m\u001b[0;34m\u001b[0m\u001b[0;34m\u001b[0m\u001b[0;34m\u001b[0m\u001b[0m\n\u001b[0;32m--> 466\u001b[0;31m         \u001b[0mdata\u001b[0m \u001b[0;34m=\u001b[0m \u001b[0mself\u001b[0m\u001b[0;34m.\u001b[0m\u001b[0mfs\u001b[0m\u001b[0;34m.\u001b[0m\u001b[0mcat_file\u001b[0m\u001b[0;34m(\u001b[0m\u001b[0murl\u001b[0m\u001b[0;34m)\u001b[0m\u001b[0;34m\u001b[0m\u001b[0;34m\u001b[0m\u001b[0m\n\u001b[0m\u001b[1;32m    467\u001b[0m         \u001b[0mds\u001b[0m \u001b[0;34m=\u001b[0m \u001b[0mxr\u001b[0m\u001b[0;34m.\u001b[0m\u001b[0mopen_dataset\u001b[0m\u001b[0;34m(\u001b[0m\u001b[0mdata\u001b[0m\u001b[0;34m,\u001b[0m \u001b[0;34m*\u001b[0m\u001b[0margs\u001b[0m\u001b[0;34m,\u001b[0m \u001b[0;34m**\u001b[0m\u001b[0mkwargs\u001b[0m\u001b[0;34m)\u001b[0m\u001b[0;34m\u001b[0m\u001b[0;34m\u001b[0m\u001b[0m\n\u001b[1;32m    468\u001b[0m         \u001b[0;32mif\u001b[0m \u001b[0;34m\"source\"\u001b[0m \u001b[0;32mnot\u001b[0m \u001b[0;32min\u001b[0m \u001b[0mds\u001b[0m\u001b[0;34m.\u001b[0m\u001b[0mencoding\u001b[0m\u001b[0;34m:\u001b[0m\u001b[0;34m\u001b[0m\u001b[0;34m\u001b[0m\u001b[0m\n",
      "\u001b[0;31mAttributeError\u001b[0m: 'HTTPFileSystem' object has no attribute 'cat_file'"
     ]
    }
   ],
   "source": [
    "ds = argo_loader.float(6902746).to_xarray()"
   ]
  },
  {
   "cell_type": "code",
   "execution_count": null,
   "metadata": {},
   "outputs": [],
   "source": []
  }
 ],
 "metadata": {
  "kernelspec": {
   "display_name": "Python 3",
   "language": "python",
   "name": "python3"
  },
  "language_info": {
   "codemirror_mode": {
    "name": "ipython",
    "version": 3
   },
   "file_extension": ".py",
   "mimetype": "text/x-python",
   "name": "python",
   "nbconvert_exporter": "python",
   "pygments_lexer": "ipython3",
   "version": "3.7.6"
  }
 },
 "nbformat": 4,
 "nbformat_minor": 4
}
