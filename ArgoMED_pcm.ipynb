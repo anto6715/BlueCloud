{
 "cells": [
  {
   "cell_type": "markdown",
   "metadata": {},
   "source": [
    "# __Applying PCM to ARGO data in Mediterranean Sea__"
   ]
  },
  {
   "cell_type": "markdown",
   "metadata": {},
   "source": [
    "The aim of this notebook is to be an example of applying the PCM method to in-situ T-S profiles. The dataset is a selection of Argo profiles localted in Mediterranean sea. Notebook developped and run in __local__"
   ]
  },
  {
   "cell_type": "markdown",
   "metadata": {},
   "source": [
    "Libraries needed:"
   ]
  },
  {
   "cell_type": "code",
   "execution_count": null,
   "metadata": {},
   "outputs": [],
   "source": [
    "import xarray as xr\n",
    "# xr.set_options(display_style='text')\n",
    "import numpy as np\n",
    "import pandas as pd\n",
    "import cartopy.crs as ccrs\n",
    "import cartopy.feature as cfeature\n",
    "import matplotlib.pyplot as plt\n",
    "\n",
    "import argopy\n",
    "# not at home\n",
    "#argopy.set_options(cachedir='/home1/homedir5/perso/agarciaj/.cache/argopy',src='localftp',local_ftp='/home/ref-argo/gdac')\n",
    "from argopy import DataFetcher as ArgoDataFetcher\n",
    "argopy.set_options(cachedir='/home1/homedir5/perso/agarciaj/.cache/argopy',src='localftp',local_ftp='/home/ref-argo/gdac')\n",
    "argo_loader = ArgoDataFetcher()\n",
    "#argo_loader = ArgoDataFetcher(cache=True)\n",
    "# trying parallel-requests\n",
    "#argo_loader = ArgoDataFetcher(src='erddap', parallel=True, chunks={'wmo': 2})\n",
    "\n",
    "import pyxpcm\n",
    "from pyxpcm.models import pcm\n",
    "\n",
    "from Plotter import Plotter #new class for plots in pyxpcm\n",
    "\n",
    "from PIL import Image"
   ]
  },
  {
   "cell_type": "markdown",
   "metadata": {},
   "source": [
    "## Getting data\n",
    "***"
   ]
  },
  {
   "cell_type": "markdown",
   "metadata": {},
   "source": [
    "We acces to data using argopy python library"
   ]
  },
  {
   "cell_type": "markdown",
   "metadata": {},
   "source": [
    "<font color=red>TODO</font>: region option makes a square around Mediterranean sea, including some profiles in Black Sea and Atlantic Ocean --> Try to access data using WMO and profile number"
   ]
  },
  {
   "cell_type": "code",
   "execution_count": null,
   "metadata": {},
   "outputs": [],
   "source": [
    "# only one year\n",
    "ds = argo_loader.region([-6, 35, 30, 46, 0, 1000, '2012', '2013']).to_xarray()\n",
    "ds"
   ]
  },
  {
   "cell_type": "markdown",
   "metadata": {},
   "source": [
    "<font color=red>TODO</font>: try to use more than one year (memory limits ?)"
   ]
  },
  {
   "cell_type": "code",
   "execution_count": null,
   "metadata": {},
   "outputs": [],
   "source": [
    "# trying yo use more than one year\n",
    "#ds1 = argo_loader.region([30, 46, -6, 35, 0, 1000, '2011', '2012']).to_xarray()\n",
    "#ds2 = argo_loader.region([30, 46, -6, 35, 0, 1000, '2012', '2013']).to_xarray()\n",
    "#ds = xr.concat([ds1,ds2],dim='N_POINTS')\n",
    "#ds"
   ]
  },
  {
   "cell_type": "code",
   "execution_count": null,
   "metadata": {},
   "outputs": [],
   "source": [
    "dsp = ds.argo.point2profile()\n",
    "dsp"
   ]
  },
  {
   "cell_type": "code",
   "execution_count": null,
   "metadata": {},
   "outputs": [],
   "source": [
    "# interpolation to standard levels\n",
    "z = np.arange(0.,1000,10.)\n",
    "#z"
   ]
  },
  {
   "cell_type": "markdown",
   "metadata": {},
   "source": [
    "with `z = np.arange(0.,200,1.)` interpolation is not working"
   ]
  },
  {
   "cell_type": "code",
   "execution_count": null,
   "metadata": {},
   "outputs": [],
   "source": [
    "dsi = dsp.argo.interp_std_levels(z)\n",
    "#dsi"
   ]
  },
  {
   "cell_type": "markdown",
   "metadata": {},
   "source": [
    "Pressure should be negative to fit the model"
   ]
  },
  {
   "cell_type": "code",
   "execution_count": null,
   "metadata": {},
   "outputs": [],
   "source": [
    "dsi['PRES_INTERPOLATED'] = -dsi.PRES_INTERPOLATED\n",
    "dsi"
   ]
  },
  {
   "cell_type": "code",
   "execution_count": null,
   "metadata": {},
   "outputs": [],
   "source": [
    "coords_list = list(dsi.coords.keys())\n",
    "coords_list"
   ]
  },
  {
   "cell_type": "code",
   "execution_count": null,
   "metadata": {},
   "outputs": [],
   "source": [
    "coords_list = list(dsi.coords.keys())\n",
    "\n",
    "coords_dict = {}\n",
    "for c in coords_list:\n",
    "    axis_at = dsi[c].attrs.get('axis')\n",
    "    print(axis_at)\n",
    "    if axis_at == 'Y':\n",
    "        #creates dictionary latitude: c\n",
    "        coords_dict.update({'latitude': c})\n",
    "    if axis_at == 'X':\n",
    "        #creates dictionary longitude: c\n",
    "        coords_dict.update({'longitude': c})\n",
    "    if axis_at == 'T':\n",
    "        #creates dictionay time: c\n",
    "        coords_dict.update({'time': c})\n",
    "\n",
    "#check number of variables in dict to assign data_type\n",
    "if 'latitude' in coords_dict and 'longitude' in coords_dict:\n",
    "    data_type = 'gridded'\n",
    "else:\n",
    "    data_type = 'profiles'\n",
    "    \n",
    "coords_dict\n"
   ]
  },
  {
   "cell_type": "code",
   "execution_count": null,
   "metadata": {},
   "outputs": [],
   "source": [
    "ds"
   ]
  },
  {
   "cell_type": "markdown",
   "metadata": {},
   "source": [
    "## Applying PCM\n",
    "***"
   ]
  },
  {
   "cell_type": "markdown",
   "metadata": {},
   "source": [
    "We creates a model with K classes and temperature or salinity or both as features"
   ]
  },
  {
   "cell_type": "markdown",
   "metadata": {},
   "source": [
    "### Create PCM"
   ]
  },
  {
   "cell_type": "code",
   "execution_count": null,
   "metadata": {},
   "outputs": [],
   "source": [
    "z = np.arange(0.,-1000,-10.)\n",
    "# only temperature to try temporal representation\n",
    "# pcm_features = {'temperature': z, 'salinity' : z}\n",
    "pcm_features = {'temperature': z}\n",
    "m = pcm(K=6, features=pcm_features)\n",
    "m"
   ]
  },
  {
   "cell_type": "markdown",
   "metadata": {},
   "source": [
    "### Fit model"
   ]
  },
  {
   "cell_type": "code",
   "execution_count": null,
   "metadata": {},
   "outputs": [],
   "source": [
    "# only temperature to try temporal representation\n",
    "# features_in_ds = {'temperature': 'TEMP', 'salinity': 'PSAL'}\n",
    "features_in_ds = {'temperature': 'TEMP'}\n",
    "features_zdim='PRES_INTERPOLATED'\n",
    "m.fit(dsi, features=features_in_ds, dim=features_zdim)\n",
    "m"
   ]
  },
  {
   "cell_type": "markdown",
   "metadata": {},
   "source": [
    "<font color=red>__TODO__</font> : save all trained PCM in a folder"
   ]
  },
  {
   "cell_type": "markdown",
   "metadata": {},
   "source": [
    "### Classify data"
   ]
  },
  {
   "cell_type": "code",
   "execution_count": null,
   "metadata": {},
   "outputs": [],
   "source": [
    "m.predict(dsi, features=features_in_ds, dim=features_zdim, inplace=True);\n",
    "#dsi"
   ]
  },
  {
   "cell_type": "code",
   "execution_count": null,
   "metadata": {},
   "outputs": [],
   "source": [
    "m.predict_proba(dsi, features=features_in_ds, dim=features_zdim, inplace=True);\n",
    "#dsi"
   ]
  },
  {
   "cell_type": "code",
   "execution_count": null,
   "metadata": {},
   "outputs": [],
   "source": [
    "dsi = dsi.pyxpcm.quantile(m, q=[0.05, 0.5, 0.95], of='TEMP', outname='TEMP' + '_Q', keep_attrs=True, inplace=True);\n",
    "# dsi = dsi.pyxpcm.quantile(m, q=[0.05, 0.5, 0.95], of='PSAL', outname='PSAL' + '_Q', keep_attrs=True, inplace=True)\n",
    "#dsi"
   ]
  },
  {
   "cell_type": "code",
   "execution_count": null,
   "metadata": {},
   "outputs": [],
   "source": [
    "#dsi"
   ]
  },
  {
   "cell_type": "markdown",
   "metadata": {},
   "source": [
    "## Visualisation\n",
    "***"
   ]
  },
  {
   "cell_type": "markdown",
   "metadata": {},
   "source": [
    "Initialize Plotter"
   ]
  },
  {
   "cell_type": "code",
   "execution_count": null,
   "metadata": {},
   "outputs": [],
   "source": [
    "P = Plotter(dsi, m, data_type = 'profiles')"
   ]
  },
  {
   "cell_type": "markdown",
   "metadata": {},
   "source": [
    "#### 1. Vertical structure of classes"
   ]
  },
  {
   "cell_type": "code",
   "execution_count": null,
   "metadata": {},
   "outputs": [],
   "source": [
    "P.vertical_structure(q_variable = 'TEMP_Q')\n",
    "#plt.savefig('figures/vertical_struc_EX.png')"
   ]
  },
  {
   "cell_type": "markdown",
   "metadata": {},
   "source": [
    "#### 2. Spatial distribution of classes"
   ]
  },
  {
   "cell_type": "code",
   "execution_count": null,
   "metadata": {},
   "outputs": [],
   "source": [
    "P.spatial_distribution(proj=ccrs.PlateCarree(), extent=np.array([-10,40,30,56]) + np.array([-0.1,+0.1,-0.1,+0.1]), \n",
    "                       co = {'latitude':'LATITUDE', 'longitude':'LONGITUDE'})\n",
    "#plt.savefig('figures/spatial_distr_EX.png')"
   ]
  },
  {
   "cell_type": "markdown",
   "metadata": {},
   "source": [
    "#### 3. Posteriors"
   ]
  },
  {
   "cell_type": "code",
   "execution_count": null,
   "metadata": {},
   "outputs": [],
   "source": [
    "P.plot_posteriors(proj=ccrs.PlateCarree(), extent=np.array([-10,40,30,56]) + np.array([-0.1,+0.1,-0.1,+0.1]), \n",
    "                       co = {'latitude':'LATITUDE', 'longitude':'LONGITUDE'})\n",
    "#plt.savefig('figures/posteriors_EX.png')"
   ]
  },
  {
   "cell_type": "markdown",
   "metadata": {},
   "source": [
    "#### 4. Temporal representation"
   ]
  },
  {
   "cell_type": "markdown",
   "metadata": {},
   "source": [
    "Simple histogram"
   ]
  },
  {
   "cell_type": "code",
   "execution_count": null,
   "metadata": {},
   "outputs": [],
   "source": [
    "fig, axes = plt.subplots()\n",
    "dsi['PCM_LABELS'].plot.hist()\n",
    "# y axis is number of profiles\n",
    "axes.set_ylabel('Number of profiles')\n",
    "#plt.savefig('figures/simple_hist_EX.png')\n",
    "plt.show()"
   ]
  },
  {
   "cell_type": "markdown",
   "metadata": {},
   "source": [
    "Bar plot by __month__"
   ]
  },
  {
   "cell_type": "code",
   "execution_count": null,
   "metadata": {},
   "outputs": [],
   "source": [
    "P.temporal_distribution(time_variable = 'TIME', time_bins = 'month', pond = 'abs')\n",
    "#plt.savefig('figures/temporal_distr_months_EX.png')"
   ]
  },
  {
   "cell_type": "markdown",
   "metadata": {},
   "source": [
    "Bar plot by __month__ (__relative__ number of profiles per month)"
   ]
  },
  {
   "cell_type": "code",
   "execution_count": null,
   "metadata": {},
   "outputs": [],
   "source": [
    "P.temporal_distribution(time_variable = 'TIME', time_bins = 'month', pond = 'rel')"
   ]
  },
  {
   "cell_type": "markdown",
   "metadata": {},
   "source": [
    "Bar plot by __season__"
   ]
  },
  {
   "cell_type": "code",
   "execution_count": null,
   "metadata": {},
   "outputs": [],
   "source": [
    "P.temporal_distribution(time_variable = 'TIME', time_bins = 'season', pond = 'rel')\n",
    "plt.savefig('figures/temporal_distr_season_EX.png')"
   ]
  },
  {
   "cell_type": "code",
   "execution_count": null,
   "metadata": {},
   "outputs": [],
   "source": []
  }
 ],
 "metadata": {
  "kernelspec": {
   "display_name": "Python 3",
   "language": "python",
   "name": "python3"
  },
  "language_info": {
   "codemirror_mode": {
    "name": "ipython",
    "version": 3
   },
   "file_extension": ".py",
   "mimetype": "text/x-python",
   "name": "python",
   "nbconvert_exporter": "python",
   "pygments_lexer": "ipython3",
   "version": "3.7.6"
  }
 },
 "nbformat": 4,
 "nbformat_minor": 4
}
