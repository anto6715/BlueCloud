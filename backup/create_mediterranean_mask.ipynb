{
 "cells": [
  {
   "cell_type": "markdown",
   "metadata": {},
   "source": [
    "Create Mediterranean mask"
   ]
  },
  {
   "cell_type": "code",
   "execution_count": null,
   "metadata": {},
   "outputs": [],
   "source": [
    "mask_file = 'datasets/med00-ogs-bio-an-fc-d_1611233647884.nc'\n",
    "mask = xr.open_dataset(mask_file)\n",
    "mask_f = mask.squeeze()\n",
    "mask_f = mask_f.rename_dims({'latitude': 'lat', 'longitude':'lon'})\n",
    "mask_f = mask_f.rename({'latitude': 'lat', 'longitude':'lon'})\n",
    "\n",
    "mask_f = mask_f.interp_like(ds)\n",
    "mask_f = mask_f['nppv'].notnull().to_dataset()\n",
    "mask_f = mask_f.drop_vars({'depth', 'time'})\n",
    "mask_final = mask_f.rename({'nppv': 'mask'})\n",
    "#print(ds)\n",
    "mask_final['mask'].plot()\n",
    "mask_final.to_netcdf('datasets/Mediterranean_mask_2.nc')\n",
    "mask_final"
   ]
  }
 ],
 "metadata": {
  "kernelspec": {
   "display_name": "Python 3",
   "language": "python",
   "name": "python3"
  },
  "language_info": {
   "codemirror_mode": {
    "name": "ipython",
    "version": 3
   },
   "file_extension": ".py",
   "mimetype": "text/x-python",
   "name": "python",
   "nbconvert_exporter": "python",
   "pygments_lexer": "ipython3",
   "version": "3.7.6"
  }
 },
 "nbformat": 4,
 "nbformat_minor": 4
}
