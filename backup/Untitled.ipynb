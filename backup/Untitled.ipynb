{
 "cells": [
  {
   "cell_type": "code",
   "execution_count": 1,
   "metadata": {},
   "outputs": [],
   "source": [
    "import pyxpcm\n",
    "from pyxpcm.models import pcm"
   ]
  },
  {
   "cell_type": "code",
   "execution_count": 4,
   "metadata": {},
   "outputs": [
    {
     "data": {
      "text/plain": [
       "<pcm 'gmm' (K: 8, F: 1)>\n",
       "Number of class: 8\n",
       "Number of feature: 1\n",
       "Feature names: odict_keys(['temperature'])\n",
       "Fitted: True\n",
       "Feature: 'temperature'\n",
       "\t Interpoler: <class 'pyxpcm.utils.Vertical_Interpolator'>\n",
       "\t Scaler: 'normal', <class 'sklearn.preprocessing._data.StandardScaler'>\n",
       "\t Reducer: True, <class 'sklearn.decomposition._pca.PCA'>\n",
       "Classifier: 'gmm', <class 'sklearn.mixture._gaussian_mixture.GaussianMixture'>\n",
       "\t log likelihood of the training set: 22.753054"
      ]
     },
     "execution_count": 4,
     "metadata": {},
     "output_type": "execute_result"
    }
   ],
   "source": [
    "model_path = 'models/test_model_mediterranean_temp_2018_k8.nc'\n",
    "m = pyxpcm.load_netcdf(model_path)\n",
    "m"
   ]
  },
  {
   "cell_type": "markdown",
   "metadata": {},
   "source": [
    "A: STACK"
   ]
  },
  {
   "cell_type": "code",
   "execution_count": null,
   "metadata": {},
   "outputs": [],
   "source": [
    "def ravel(self, da, dim=None, feature_name=str):\n",
    "X = self._interpoler[feature_name].transform(X, z)"
   ]
  },
  {
   "cell_type": "markdown",
   "metadata": {},
   "source": [
    "B: SCALE"
   ]
  },
  {
   "cell_type": "code",
   "execution_count": null,
   "metadata": {},
   "outputs": [],
   "source": [
    "self._scaler[feature_name].fit(X.data)\n",
    "self._scaler[feature_name] = bck.scaler(with_mean=with_mean, with_std=with_std)"
   ]
  },
  {
   "cell_type": "markdown",
   "metadata": {},
   "source": [
    "C: REDUCE"
   ]
  },
  {
   "cell_type": "code",
   "execution_count": null,
   "metadata": {},
   "outputs": [],
   "source": [
    "self._reducer[feature_name].fit(X.data)"
   ]
  },
  {
   "cell_type": "markdown",
   "metadata": {},
   "source": [
    "D: COMBINE"
   ]
  },
  {
   "cell_type": "code",
   "execution_count": null,
   "metadata": {},
   "outputs": [],
   "source": [
    "def preprocessing_this(self, da, dim=None, feature_name=str(), action='?'):\n",
    "    X, z, sampling_dims = self.ravel(da, dim=dim, feature_name=feature_name)\n",
    "    X = self._interpoler[feature_name].transform(X, z)\n",
    "    self._scaler[feature_name].fit(X.data)\n",
    "    self._reducer[feature_name].fit(X.data)"
   ]
  },
  {
   "cell_type": "code",
   "execution_count": null,
   "metadata": {},
   "outputs": [],
   "source": [
    "x-self._homogeniser ?"
   ]
  },
  {
   "cell_type": "code",
   "execution_count": null,
   "metadata": {},
   "outputs": [],
   "source": [
    "bck = StatisticsBackend(backend, scaler='StandardScaler', reducer='PCA')"
   ]
  }
 ],
 "metadata": {
  "kernelspec": {
   "display_name": "Python 3",
   "language": "python",
   "name": "python3"
  },
  "language_info": {
   "codemirror_mode": {
    "name": "ipython",
    "version": 3
   },
   "file_extension": ".py",
   "mimetype": "text/x-python",
   "name": "python",
   "nbconvert_exporter": "python",
   "pygments_lexer": "ipython3",
   "version": "3.7.6"
  }
 },
 "nbformat": 4,
 "nbformat_minor": 4
}
