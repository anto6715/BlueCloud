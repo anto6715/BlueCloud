{
 "cells": [
  {
   "cell_type": "code",
   "execution_count": 1,
   "metadata": {},
   "outputs": [],
   "source": [
    "from PIL import Image"
   ]
  },
  {
   "cell_type": "markdown",
   "metadata": {},
   "source": [
    "### Transparent to white background"
   ]
  },
  {
   "cell_type": "code",
   "execution_count": 2,
   "metadata": {},
   "outputs": [],
   "source": [
    "image = Image.open('/export/home1/agarciaj_local/home/WORK/Blue-Cloud DOC/Deliverables/D3.3 Users Handbook/figure_workflow.png')\n",
    "new_image = Image.new(\"RGBA\", image.size, \"WHITE\") # Create a white rgba background\n",
    "new_image.paste(image, (0, 0), image)              # Paste the image on the background. Go to the links given below for details.\n",
    "new_image.convert('RGB').save('/export/home1/agarciaj_local/home/WORK/Blue-Cloud DOC/Deliverables/D3.3 Users Handbook/igure_workflow_BL.jpg', \"JPEG\") "
   ]
  },
  {
   "cell_type": "markdown",
   "metadata": {},
   "source": [
    "### Transparent to white background"
   ]
  },
  {
   "cell_type": "code",
   "execution_count": null,
   "metadata": {},
   "outputs": [],
   "source": [
    "image = Image.open('/export/home1/agarciaj_local/DOWNLOAD/ml-recorded-future.png')\n",
    "new_image = Image.new(\"RGBA\", image.size, \"WHITE\") # Create a white rgba background\n",
    "new_image.paste(image, (0, 0), image)              # Paste the image on the background. Go to the links given below for details.\n",
    "new_image.convert('RGB').save('/export/home1/agarciaj_local/DOWNLOAD/ml-recorded-future.jpg', \"JPEG\") "
   ]
  }
 ],
 "metadata": {
  "kernelspec": {
   "display_name": "Python 3",
   "language": "python",
   "name": "python3"
  },
  "language_info": {
   "codemirror_mode": {
    "name": "ipython",
    "version": 3
   },
   "file_extension": ".py",
   "mimetype": "text/x-python",
   "name": "python",
   "nbconvert_exporter": "python",
   "pygments_lexer": "ipython3",
   "version": "3.7.6"
  }
 },
 "nbformat": 4,
 "nbformat_minor": 4
}
