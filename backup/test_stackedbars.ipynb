{
 "cells": [
  {
   "cell_type": "markdown",
   "metadata": {},
   "source": [
    "### stacked bar plot"
   ]
  },
  {
   "cell_type": "code",
   "execution_count": 3,
   "metadata": {},
   "outputs": [],
   "source": [
    "import xarray as xr\n",
    "import numpy as np\n",
    "\n",
    "import pyxpcm\n",
    "from pyxpcm.models import pcm\n",
    "\n",
    "import cartopy.crs as ccrs\n",
    "import cartopy.feature as cfeature\n",
    "import matplotlib.pyplot as plt\n",
    "import matplotlib.colors as mcolors\n",
    "import seaborn as sns\n",
    "\n",
    "import Plotter\n",
    "from Plotter import Plotter #new class for plots in pyxpcm\n",
    "\n",
    "from PIL import Image\n",
    "\n",
    "import importlib"
   ]
  },
  {
   "cell_type": "code",
   "execution_count": 4,
   "metadata": {},
   "outputs": [],
   "source": [
    "m = pyxpcm.load_netcdf('models/tests_model_GLOBAL_REANALYSIS_PHY_001_030_temp.nc')\n",
    "ds = xr.open_dataset('models/tests_ds_GLOBAL_REANALYSIS_PHY_001_030_temp.nc')"
   ]
  },
  {
   "cell_type": "code",
   "execution_count": 29,
   "metadata": {},
   "outputs": [],
   "source": [
    "P = Plotter(ds, m)"
   ]
  },
  {
   "cell_type": "code",
   "execution_count": 27,
   "metadata": {},
   "outputs": [],
   "source": [
    "def temporal_distribution(ds, m, time_variable, time_bins, pond):\n",
    "    '''Plot temporal distribution of classes by moth or by season\n",
    "\n",
    "       Parameters\n",
    "        ----------\n",
    "            time_variable: time variable name\n",
    "            time_bins: 'month' or 'season'\n",
    "            pond: 'abs' or 'rel' (divided by total nomber of observation in time bin)\n",
    "\n",
    "        Returns\n",
    "        -------\n",
    "\n",
    "    '''\n",
    "\n",
    "    # check if more than one temporal step\n",
    "    assert (len(ds[time_variable]) >\n",
    "            1), \"Length of time variable should be > 1\"\n",
    "\n",
    "    # data to be plot\n",
    "    # TODO: is it the best way??\n",
    "    pcm_labels = ds['PCM_LABELS']\n",
    "    kmap = m.plot.cmap(name='Accent')\n",
    "\n",
    "    if time_bins == 'month':\n",
    "        xaxis_labels = ['Jan', 'Feb', 'Mar', 'Apr', 'May',\n",
    "                            'Jun', 'Jul', 'Aug', 'Sep', 'Oct', 'Nov', 'Dec']\n",
    "    if time_bins == 'season':\n",
    "        seasons_dict = {1: 'DJF', 2: 'MAM', 3: 'JJA', 4: 'SON'}\n",
    "        xaxis_labels = ['DJF', 'MAM', 'JJA', 'SON']\n",
    "\n",
    "    width = 0.8/(m.K)  # the width of the bars\n",
    "    fig, ax = plt.subplots(figsize=(10, 6))\n",
    "    kmap = m.plot.cmap()  # TODO: function already in pyxpcm\n",
    "\n",
    "    # loop in k for counting\n",
    "    for cl in range(m.K):\n",
    "        # get time array with k=cl\n",
    "        pcm_labels_k = pcm_labels.where(pcm_labels == cl)\n",
    "\n",
    "        if cl == 0:\n",
    "            counts_k = pcm_labels_k.groupby(\n",
    "                time_variable + '.' + time_bins).count(...)\n",
    "        else:\n",
    "            counts_k = xr.concat([counts_k, pcm_labels_k.groupby(\n",
    "                time_variable + '.' + time_bins).count(...)], \"k\")\n",
    "\n",
    "    if pond == 'rel':\n",
    "        counts_k = counts_k/sum(counts_k)*100\n",
    "    \n",
    "    #start point in stacked bars\n",
    "    counts_cum = counts_k.cumsum(axis=0)\n",
    "\n",
    "    # loop for plotting\n",
    "    for cl in range(m.K):\n",
    "\n",
    "        if time_bins == 'month':\n",
    "            starts = counts_cum.isel(k=cl) - counts_k.isel(k=cl)\n",
    "            ax.barh(counts_k.month, counts_k.isel(k=cl), left=starts, color=kmap(cl), label='K=' + str(cl))\n",
    "            #, width, label='K=' + str(cl),\n",
    "                    \n",
    "        if time_bins == 'season':\n",
    "            x_ticks_k = []\n",
    "            for i in range(len(counts_k.season)):\n",
    "                x_ticks_k.append(\n",
    "                    list(seasons_dict.values()).index(counts_k.season[i])+1)\n",
    "                # print(x_ticks_k)\n",
    "            # plot\n",
    "            starts = counts_cum.isel(k=cl) - counts_k.isel(k=cl)\n",
    "            ax.barh(x_ticks_k, counts_k.isel(k=cl), left=starts, label='K=' + str(cl),\n",
    "                    color=kmap(cl))\n",
    "\n",
    "    # format\n",
    "    title_string = r'Number of profiles in each class by $\\bf{' + time_bins + '}$'\n",
    "    ylabel_string = 'Number of profiles'\n",
    "    if pond == 'rel':\n",
    "        title_string = title_string + '\\n (% of profiles in each bin)'\n",
    "        ylabel_string = '% of profiles'\n",
    "\n",
    "    ax.set_yticks(np.arange(1, len(xaxis_labels)+1))\n",
    "    ax.set_yticklabels(xaxis_labels, fontsize=12)\n",
    "    plt.yticks(fontsize=12)\n",
    "    ax.legend(fontsize=12, bbox_to_anchor=(1.01, 1), loc='upper left')\n",
    "    #ax.set_xticks(np.arange(0.5, len(xaxis_labels)+1.5), minor=True)\n",
    "    #ax.grid(axis='x', which='minor', alpha=0.5, ls='--')\n",
    "    ax.set_xlabel(ylabel_string, fontsize=12)\n",
    "    ax.set_title(title_string, fontsize=14)\n",
    "    fig.tight_layout()"
   ]
  },
  {
   "cell_type": "code",
   "execution_count": 35,
   "metadata": {},
   "outputs": [
    {
     "data": {
      "image/png": "[encoded data removed]",
      "text/plain": [
       "<Figure size 720x432 with 1 Axes>"
      ]
     },
     "metadata": {
      "needs_background": "light"
     },
     "output_type": "display_data"
    }
   ],
   "source": [
    "temporal_distribution(ds, m, time_variable='time', time_bins='month', pond='abs')\n",
    "#P.save_BlueCloud('figures/stacked_plot_test_month.png')"
   ]
  },
  {
   "cell_type": "code",
   "execution_count": null,
   "metadata": {},
   "outputs": [],
   "source": []
  }
 ],
 "metadata": {
  "kernelspec": {
   "display_name": "Python 3",
   "language": "python",
   "name": "python3"
  },
  "language_info": {
   "codemirror_mode": {
    "name": "ipython",
    "version": 3
   },
   "file_extension": ".py",
   "mimetype": "text/x-python",
   "name": "python",
   "nbconvert_exporter": "python",
   "pygments_lexer": "ipython3",
   "version": "3.7.6"
  }
 },
 "nbformat": 4,
 "nbformat_minor": 4
}
