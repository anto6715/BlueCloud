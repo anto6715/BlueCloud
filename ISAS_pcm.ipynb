{
 "cells": [
  {
   "cell_type": "markdown",
   "metadata": {},
   "source": [
    "# Apply PCM to ISAS dataset"
   ]
  },
  {
   "cell_type": "markdown",
   "metadata": {},
   "source": [
    "Apply PCM method to ISAS dataset (example for a gridded product)"
   ]
  },
  {
   "cell_type": "code",
   "execution_count": null,
   "metadata": {},
   "outputs": [],
   "source": [
    "import xarray as xr\n",
    "import numpy as np\n",
    "\n",
    "import pyxpcm\n",
    "from pyxpcm.models import pcm\n",
    "\n",
    "import cartopy.crs as ccrs\n",
    "import cartopy.feature as cfeature\n",
    "import matplotlib.pyplot as plt\n",
    "import seaborn as sns"
   ]
  },
  {
   "cell_type": "markdown",
   "metadata": {},
   "source": [
    "## Get data\n",
    "***"
   ]
  },
  {
   "cell_type": "code",
   "execution_count": null,
   "metadata": {},
   "outputs": [],
   "source": [
    "ds_path = '/home5/pharos/REFERENCE_DATA/OCEAN_REP/ISAS/ISAS15/ANA/ISAS_DT/ARGO_ONLY/2015/ISAS15_ARGO_20151215_fld_TEMP.nc'"
   ]
  },
  {
   "cell_type": "markdown",
   "metadata": {},
   "source": [
    "<font color=red>__TODO__</font> : use more than one time step (more tha one file)"
   ]
  },
  {
   "cell_type": "code",
   "execution_count": null,
   "metadata": {},
   "outputs": [],
   "source": [
    "ds_raw = xr.open_dataset(ds_path)\n",
    "#ds_raw "
   ]
  },
  {
   "cell_type": "code",
   "execution_count": null,
   "metadata": {},
   "outputs": [],
   "source": [
    "ds_raw['depth'] = -ds_raw.depth\n",
    "#ds_raw"
   ]
  },
  {
   "cell_type": "markdown",
   "metadata": {},
   "source": [
    "<font color=blue>__select data in mediterranean__</font>"
   ]
  },
  {
   "cell_type": "code",
   "execution_count": null,
   "metadata": {},
   "outputs": [],
   "source": [
    "ds = ds_raw.sel(latitude=slice(30,45), longitude=slice(-6, 35))\n",
    "# ds"
   ]
  },
  {
   "cell_type": "code",
   "execution_count": null,
   "metadata": {},
   "outputs": [],
   "source": [
    "ds['TEMP'].isel(time=0, depth=0).plot();"
   ]
  },
  {
   "cell_type": "markdown",
   "metadata": {},
   "source": [
    "## Applying PCM\n",
    "***"
   ]
  },
  {
   "cell_type": "markdown",
   "metadata": {},
   "source": [
    "### Create PCM"
   ]
  },
  {
   "cell_type": "code",
   "execution_count": null,
   "metadata": {},
   "outputs": [],
   "source": [
    "z = np.arange(0.,-2000,-10.)\n",
    "pcm_features = {'temperature': z}\n",
    "m = pcm(K=8, features=pcm_features)\n",
    "m"
   ]
  },
  {
   "cell_type": "markdown",
   "metadata": {},
   "source": [
    "### Fit Model"
   ]
  },
  {
   "cell_type": "code",
   "execution_count": null,
   "metadata": {},
   "outputs": [],
   "source": [
    "features_in_ds = {'temperature': 'TEMP'}\n",
    "features_zdim='depth'\n",
    "m.fit(ds, features=features_in_ds, dim=features_zdim)\n",
    "m"
   ]
  },
  {
   "cell_type": "markdown",
   "metadata": {},
   "source": [
    "<font color=red>__TODO__</font> : save all trained PCM in a folder"
   ]
  },
  {
   "cell_type": "markdown",
   "metadata": {},
   "source": [
    "### Classify data"
   ]
  },
  {
   "cell_type": "code",
   "execution_count": null,
   "metadata": {},
   "outputs": [],
   "source": [
    "m.predict(ds, features=features_in_ds, dim=features_zdim, inplace=True);\n",
    "#ds"
   ]
  },
  {
   "cell_type": "code",
   "execution_count": null,
   "metadata": {},
   "outputs": [],
   "source": [
    "m.predict_proba(ds, features=features_in_ds, dim=features_zdim, inplace=True);\n",
    "#ds"
   ]
  },
  {
   "cell_type": "code",
   "execution_count": null,
   "metadata": {},
   "outputs": [],
   "source": [
    "ds = ds.pyxpcm.quantile(m, q=[0.05, 0.5, 0.95], of='TEMP', outname='TEMP' + '_Q', keep_attrs=True, inplace=True)"
   ]
  },
  {
   "cell_type": "markdown",
   "metadata": {},
   "source": [
    "## Visualisation\n",
    "***"
   ]
  },
  {
   "cell_type": "markdown",
   "metadata": {},
   "source": [
    "#### 1. Vertical structure of classes"
   ]
  },
  {
   "cell_type": "code",
   "execution_count": null,
   "metadata": {},
   "outputs": [],
   "source": [
    "fig, ax = m.plot.quantile(ds['TEMP_Q'], maxcols=4, figsize=(10, 8), sharey=True)"
   ]
  },
  {
   "cell_type": "markdown",
   "metadata": {},
   "source": [
    "#### 2. Spatial distribution of classes"
   ]
  },
  {
   "cell_type": "code",
   "execution_count": null,
   "metadata": {},
   "outputs": [],
   "source": [
    "med_data['PCM_LABELS'].isel(time=0).plot();"
   ]
  },
  {
   "cell_type": "code",
   "execution_count": null,
   "metadata": {},
   "outputs": [],
   "source": [
    "#maybe usefull\n",
    "\n",
    "\n",
    "# arrange dataset to plot\n",
    "# if dataset is a matrix\n",
    "PCM_labels_plot = ds['PCM_LABELS']\n",
    "# creates variables longitude and latitude\n",
    "longitude_plot = np.tile(PCM_labels_plot.longitude, len(PCM_labels_plot.latitude))\n",
    "latitude_plot = np.tile(PCM_labels_plot.latitude, len(PCM_labels_plot.longitude))\n",
    "# PCM_labels one dimension\n",
    "PCM_labels_plot = PCM_labels_plot.stack(n_prof=(\"latitude\", \"longitude\"))\n",
    "PCM_labels_plot = PCM_labels_plot.squeeze()"
   ]
  },
  {
   "cell_type": "markdown",
   "metadata": {},
   "source": [
    "With gridded data we can not use scatter plot --> __pcolormesh__"
   ]
  },
  {
   "cell_type": "code",
   "execution_count": null,
   "metadata": {},
   "outputs": [],
   "source": [
    "proj = ccrs.PlateCarree()\n",
    "subplot_kw={'projection': proj, 'extent': np.array([-6,35,30,45]) + np.array([-0.1,+0.1,-0.1,+0.1])}\n",
    "fig, ax = plt.subplots(nrows=1, ncols=1, figsize=(5,5), dpi=120, facecolor='w', edgecolor='k', subplot_kw=subplot_kw)\n",
    "\n",
    "kmap = m.plot.cmap()\n",
    "# sc = ax.scatter(ds['longitude'], ds['latitude'], s=3, c=ds['PCM_LABELS'], cmap=kmap, transform=proj, vmin=0, vmax=m.K)\n",
    "sc = ax.pcolormesh(med_data['longitude'], med_data['latitude'], med_data['PCM_LABELS'].squeeze(), cmap=kmap, transform=proj, vmin=0, vmax=m.K)\n",
    "cl = m.plot.colorbar(ax=ax)\n",
    "\n",
    "gl = m.plot.latlongrid(ax, dx=10)\n",
    "ax.add_feature(cfeature.LAND)\n",
    "ax.add_feature(cfeature.COASTLINE)\n",
    "ax.set_title('LABELS of the training set')\n",
    "# saving figure\n",
    "#plt.savefig('ArgoMed_map_labels_EX.png')\n",
    "plt.show()"
   ]
  },
  {
   "cell_type": "markdown",
   "metadata": {},
   "source": [
    "<font color=red>__TODO__</font> : if gridded data, use pcolormesh, if not gridded data use scatter"
   ]
  },
  {
   "cell_type": "markdown",
   "metadata": {},
   "source": [
    "#### 3. Posteriors"
   ]
  },
  {
   "cell_type": "code",
   "execution_count": null,
   "metadata": {},
   "outputs": [],
   "source": [
    "cmap = sns.light_palette(\"blue\", as_cmap=True)\n",
    "proj = ccrs.PlateCarree()\n",
    "subplot_kw={'projection': proj, 'extent': np.array([-6,35,30,46]) + np.array([-0.1,+0.1,-0.1,+0.1])}\n",
    "fig, ax = m.plot.subplots(figsize=(10,22), maxcols=2, subplot_kw=subplot_kw)\n",
    "\n",
    "for k in m:\n",
    "    sc = ax[k].scatter(ds['longitude'], ds['latitude'], s=3, c=ds['PCM_POST'].sel(pcm_class=k),\n",
    "                       cmap=cmap, transform=proj, vmin=0, vmax=1)\n",
    "    cl = plt.colorbar(sc, ax=ax[k], fraction=0.03)\n",
    "    gl = m.plot.latlongrid(ax[k], fontsize=8, dx=20, dy=10)\n",
    "    ax[k].add_feature(cfeature.LAND)\n",
    "    ax[k].add_feature(cfeature.COASTLINE)\n",
    "    ax[k].set_title('PCM Posteriors k=%i' % k)\n",
    "    \n",
    "plt.savefig('ArgoMed_posteriors_EX.png')"
   ]
  },
  {
   "cell_type": "markdown",
   "metadata": {},
   "source": [
    "#### 4. Temporal representation "
   ]
  },
  {
   "cell_type": "markdown",
   "metadata": {},
   "source": [
    "Temporal representation has no sense because only one time step"
   ]
  },
  {
   "cell_type": "code",
   "execution_count": null,
   "metadata": {},
   "outputs": [],
   "source": []
  }
 ],
 "metadata": {
  "kernelspec": {
   "display_name": "Python 3",
   "language": "python",
   "name": "python3"
  },
  "language_info": {
   "codemirror_mode": {
    "name": "ipython",
    "version": 3
   },
   "file_extension": ".py",
   "mimetype": "text/x-python",
   "name": "python",
   "nbconvert_exporter": "python",
   "pygments_lexer": "ipython3",
   "version": "3.7.6"
  }
 },
 "nbformat": 4,
 "nbformat_minor": 4
}
