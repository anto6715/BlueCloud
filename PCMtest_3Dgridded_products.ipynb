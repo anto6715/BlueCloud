{
 "cells": [
  {
   "cell_type": "markdown",
   "metadata": {},
   "source": [
    "# Apply PCM to 3D gridded products"
   ]
  },
  {
   "cell_type": "markdown",
   "metadata": {},
   "source": [
    "Apply PCM method to __3D gridded products__ defined as inputs in BlueCloud project:\n",
    "- GLOBAL-ANALYSIS-FORECAST-PHY-001-024\n",
    "- GLOBAL_REANALYSIS_PHY_001_030\n",
    "- GLOBAL_REANALYSIS_PHY_001_031\n",
    "- GLOBAL_REANALYSIS_BIO_001_029\n",
    "\n",
    "Only data in Mediterranean sea is used. NetCDF files have been downloaded from CMEMS catalogue.\n",
    "Notebook developped in __local__"
   ]
  },
  {
   "cell_type": "code",
   "execution_count": 2,
   "metadata": {},
   "outputs": [],
   "source": [
    "import xarray as xr\n",
    "import numpy as np\n",
    "\n",
    "import pyxpcm\n",
    "from pyxpcm.models import pcm\n",
    "\n",
    "import cartopy.crs as ccrs\n",
    "import cartopy.feature as cfeature\n",
    "import matplotlib as mpl\n",
    "import matplotlib.pyplot as plt\n",
    "import matplotlib.colors as mcolors\n",
    "import seaborn as sns\n",
    "\n",
    "import Plotter\n",
    "from Plotter import Plotter #new class for plots in pyxpcm\n",
    "\n",
    "from PIL import Image\n",
    "\n",
    "import importlib"
   ]
  },
  {
   "cell_type": "markdown",
   "metadata": {},
   "source": [
    "## User input\n",
    "***"
   ]
  },
  {
   "cell_type": "markdown",
   "metadata": {},
   "source": [
    "__Choose dataset__"
   ]
  },
  {
   "cell_type": "code",
   "execution_count": null,
   "metadata": {
    "tags": [
     "parameters"
    ]
   },
   "outputs": [],
   "source": [
    "# try CORA dataset\n",
    "# file_path = '/home5/pharos/REFERENCE_DATA/OCEAN_REP/CORA/CORA5.1/field/2016/*_TEMP.nc'\n",
    "# lon_extent = [120,165]\n",
    "# lat_extent = [22,55]\n",
    "# temp_var = 'TEMP'\n",
    "# ds = xr.open_mfdataset(file_path,combine='by_coords', concat_dim=time_dim)\n",
    "# ds"
   ]
  },
  {
   "cell_type": "code",
   "execution_count": null,
   "metadata": {},
   "outputs": [],
   "source": [
    "# ds = ds.sel(latitude=slice(lat_extent[0],lat_extent[1]), longitude=slice(lon_extent[0], lon_extent[1])) \n",
    "# ds"
   ]
  },
  {
   "cell_type": "code",
   "execution_count": null,
   "metadata": {},
   "outputs": [],
   "source": [
    "#file_path = '/home5/pharos/REFERENCE_DATA/OCEAN_REP/SODA/assim/SODA_2.2.4/SODA_2.2.4_200801.cdf'\n",
    "#lon_dim = 'lon'\n",
    "#lat_dim = 'lat'\n",
    "#z_dim = 'depth'\n",
    "#temp_var = 'temp'"
   ]
  },
  {
   "cell_type": "code",
   "execution_count": 3,
   "metadata": {},
   "outputs": [],
   "source": [
    "#### file path ####\n",
    "\n",
    "# GLOBAL-ANALYSIS-FORECAST-PHY-001-024\n",
    "#file_path = '/export/home1/agarciaj/datasets/global-analysis-forecast-phy-001-024_1598520725098.nc'\n",
    "\n",
    "# GLOBAL_REANALYSIS_PHY_001_030\n",
    "file_path = '/export/home1/agarciaj/datasets/global-reanalysis-phy-001-030-monthly_1600874641188_caribe.nc'\n",
    "#file_path = '/export/home1/agarciaj/datasets/global-reanalysis-phy-001-030-monthly_1601630960671_safrica.nc'\n",
    "# mediterranean\n",
    "#file_path = '/export/home1/agarciaj/datasets/global-reanalysis-phy-001-030-monthly_1601036810235.nc'\n",
    "\n",
    "# GLOBAL_REANALYSIS_PHY_001_031\n",
    "#file_path = '/export/home1/agarciaj/datasets/global-reanalysis-phy-001-031-grepv2-monthly_1598972586332.nc'\n",
    "\n",
    "# GLOBAL_REANALYSIS_BIO_001_029\n",
    "#file_path = '/export/home1/agarciaj/datasets/global-reanalysis-bio-001-029-monthly_1598524945308.nc'\n",
    "\n",
    "\n",
    "# time and coordinates dimensions (expecify then here but use a generic name in the rest of the notebook)\n",
    "time_dim = 'time'\n",
    "lon_dim = 'longitude'\n",
    "lat_dim = 'latitude'\n",
    "z_dim = 'depth'\n",
    "temp_var = 'thetao'\n",
    "\n",
    "#temp_var = 'fe'"
   ]
  },
  {
   "cell_type": "markdown",
   "metadata": {},
   "source": [
    "__Model options__"
   ]
  },
  {
   "cell_type": "code",
   "execution_count": 4,
   "metadata": {},
   "outputs": [],
   "source": [
    "#Choise of z and pcm features (very important to make a good choise) \n",
    "z = np.arange(-1.,-2000,-10.)\n",
    "pcm_features = {'temperature': z}\n",
    "#pcm_features = {'iron': z}\n",
    "\n",
    "#classes\n",
    "K=10\n",
    "\n",
    "#fit\n",
    "features_in_ds = {'temperature': temp_var}"
   ]
  },
  {
   "cell_type": "markdown",
   "metadata": {},
   "source": [
    "__Plot options__"
   ]
  },
  {
   "cell_type": "code",
   "execution_count": null,
   "metadata": {},
   "outputs": [],
   "source": []
  },
  {
   "cell_type": "markdown",
   "metadata": {},
   "source": [
    "## Get data\n",
    "***"
   ]
  },
  {
   "cell_type": "markdown",
   "metadata": {},
   "source": [
    "Open data files"
   ]
  },
  {
   "cell_type": "code",
   "execution_count": null,
   "metadata": {},
   "outputs": [],
   "source": [
    "#open data file\n",
    "ds = xr.open_dataset(file_path)\n",
    "ds"
   ]
  },
  {
   "cell_type": "markdown",
   "metadata": {},
   "source": [
    "Depth values should be negative"
   ]
  },
  {
   "cell_type": "code",
   "execution_count": null,
   "metadata": {},
   "outputs": [],
   "source": [
    "#at = ds['depth'].attrs\n",
    "#ds.assign_coords(depth=-np.abs(ds['depth'].values), keep_attrs=True)\n",
    "ds['depth'] = -np.abs(ds['depth'].values)\n",
    "#ds['depth'].attrs.update(at) # not working"
   ]
  },
  {
   "cell_type": "code",
   "execution_count": null,
   "metadata": {},
   "outputs": [],
   "source": [
    "# for SODA dataset\n",
    "#ds['lon'] = np.mod((ds['lon'].values +180),360) - 180\n",
    "#ds = ds.sortby('lon')"
   ]
  },
  {
   "cell_type": "code",
   "execution_count": null,
   "metadata": {},
   "outputs": [],
   "source": [
    "#ds['thetao'].isel(depth=5).plot();\n",
    "ds[temp_var].isel(time=0, depth=5).plot();\n",
    "#ds[temp_var].isel(depth=0).plot();\n",
    "#ds['o2'].isel(time=11, depth=5).plot();\n",
    "#ds['fe'].isel(time=11, depth=5).plot();"
   ]
  },
  {
   "cell_type": "markdown",
   "metadata": {},
   "source": [
    "## Applying PCM\n",
    "***"
   ]
  },
  {
   "cell_type": "markdown",
   "metadata": {},
   "source": [
    "### Create PCM"
   ]
  },
  {
   "cell_type": "code",
   "execution_count": null,
   "metadata": {},
   "outputs": [],
   "source": [
    "#z choise\n",
    "z = ds['depth'][0:20]\n",
    "pcm_features = {'temperature': z}\n",
    "#pcm_features = {'iron': z}\n",
    "\n",
    "m = pcm(K=K, features=pcm_features)\n",
    "m"
   ]
  },
  {
   "cell_type": "markdown",
   "metadata": {},
   "source": [
    "### Fit Model"
   ]
  },
  {
   "cell_type": "code",
   "execution_count": null,
   "metadata": {},
   "outputs": [],
   "source": [
    "features_in_ds = {'temperature': temp_var}\n",
    "#features_in_ds = {'iron': temp_var}\n",
    "features_zdim=z_dim\n",
    "m.fit(ds, features=features_in_ds, dim=features_zdim)\n",
    "m"
   ]
  },
  {
   "cell_type": "markdown",
   "metadata": {},
   "source": [
    "<font color=red>__TODO__</font> : save all trained PCM in a folder"
   ]
  },
  {
   "cell_type": "code",
   "execution_count": null,
   "metadata": {},
   "outputs": [],
   "source": [
    "# save model to development\n",
    "# m.to_netcdf('models/tests_model_GLOBAL_REANALYSIS_PHY_001_030_temp.nc')"
   ]
  },
  {
   "cell_type": "markdown",
   "metadata": {},
   "source": [
    "### Predict labels"
   ]
  },
  {
   "cell_type": "code",
   "execution_count": null,
   "metadata": {},
   "outputs": [],
   "source": [
    "features_zdim=z_dim\n",
    "m.predict(ds, features=features_in_ds, dim=features_zdim, inplace=True);\n",
    "#ds"
   ]
  },
  {
   "cell_type": "code",
   "execution_count": null,
   "metadata": {},
   "outputs": [],
   "source": [
    "m.predict_proba(ds, features=features_in_ds, dim=features_zdim, inplace=True);\n",
    "#ds"
   ]
  },
  {
   "cell_type": "code",
   "execution_count": null,
   "metadata": {},
   "outputs": [],
   "source": [
    "ds = ds.pyxpcm.quantile(m, q=[0.05, 0.5, 0.95], of=temp_var, outname=temp_var + '_Q', keep_attrs=True, inplace=True)\n",
    "#ds"
   ]
  },
  {
   "cell_type": "markdown",
   "metadata": {},
   "source": [
    "Robustness"
   ]
  },
  {
   "cell_type": "code",
   "execution_count": null,
   "metadata": {},
   "outputs": [],
   "source": [
    "ds.pyxpcm.robustness(m, inplace=True)\n",
    "ds.pyxpcm.robustness_digit(m, inplace=True)"
   ]
  },
  {
   "cell_type": "code",
   "execution_count": null,
   "metadata": {},
   "outputs": [],
   "source": [
    "# save data for development\n",
    "#ds.to_netcdf('models/tests_ds_GLOBAL_REANALYSIS_PHY_001_030_temp.nc')"
   ]
  },
  {
   "cell_type": "code",
   "execution_count": null,
   "metadata": {},
   "outputs": [],
   "source": [
    "ds"
   ]
  },
  {
   "cell_type": "code",
   "execution_count": 8,
   "metadata": {},
   "outputs": [
    {
     "data": {
      "text/plain": [
       "4.0"
      ]
     },
     "execution_count": 8,
     "metadata": {},
     "output_type": "execute_result"
    }
   ],
   "source": [
    "64/16"
   ]
  },
  {
   "cell_type": "markdown",
   "metadata": {},
   "source": [
    "## Visualisation\n",
    "***"
   ]
  },
  {
   "cell_type": "code",
   "execution_count": 5,
   "metadata": {},
   "outputs": [],
   "source": [
    "# for development\n",
    "m = pyxpcm.load_netcdf('models/tests_model_GLOBAL_REANALYSIS_PHY_001_030_temp.nc')\n",
    "ds = xr.open_dataset('models/tests_ds_GLOBAL_REANALYSIS_PHY_001_030_temp.nc')"
   ]
  },
  {
   "cell_type": "code",
   "execution_count": 6,
   "metadata": {},
   "outputs": [],
   "source": [
    "P = Plotter(ds, m)\n",
    "#P = Plotter(ds, m, coords_dict={'longitude':'lon', 'latitude':'lat'})"
   ]
  },
  {
   "cell_type": "markdown",
   "metadata": {},
   "source": [
    "#### 1. Vertical structure of classes"
   ]
  },
  {
   "cell_type": "code",
   "execution_count": null,
   "metadata": {},
   "outputs": [],
   "source": [
    "#P.vertical_structure(q_variable = temp_var + '_Q', maxcols=4, figsize=(10, 12), sharey=True, xlabel)\n",
    "P.vertical_structure(q_variable = temp_var + '_Q', sharey=True, xlabel='Temperature (°C)')\n",
    "#P.vertical_structure(q_variable = temp_var + '_Q', maxcols=4, figsize=(10, 8), sharey=True, ylim=np.array([-2000,0]))\n",
    "P.save_BlueCloud('figures/vertical_struc_EX.png')\n",
    "#P.save_BlueCloud('figures/test.png')"
   ]
  },
  {
   "cell_type": "code",
   "execution_count": null,
   "metadata": {},
   "outputs": [],
   "source": [
    "P.vertical_structure_comp(q_variable = temp_var + '_Q', plot_q= [0.05, 0.5, 0.95])\n",
    "#P.save_BlueCloud('figures/vertical_struc_comp_EX.png')\n",
    "P.save_BlueCloud('figures/test1.png')"
   ]
  },
  {
   "cell_type": "markdown",
   "metadata": {},
   "source": [
    "#### 2. Spatial distribution of classes"
   ]
  },
  {
   "cell_type": "code",
   "execution_count": null,
   "metadata": {},
   "outputs": [],
   "source": [
    "# TODO: when using isel hours are not good\n",
    "# Input should have only one time step\n",
    "P.spatial_distribution(time_slice=1)\n",
    "P.save_BlueCloud('figures/spatial_distr_EX.png')"
   ]
  },
  {
   "cell_type": "code",
   "execution_count": null,
   "metadata": {},
   "outputs": [],
   "source": [
    "P.spatial_distribution(time_slice='most_freq_label')\n",
    "P.save_BlueCloud('figures/spatial_distr_freq_EX.png')"
   ]
  },
  {
   "cell_type": "code",
   "execution_count": null,
   "metadata": {},
   "outputs": [],
   "source": [
    "# mask = ds.isel(time=7).pyxpcm.mask(m, features=features_in_ds, dim=features_zdim)\n",
    "# mask.plot()"
   ]
  },
  {
   "cell_type": "markdown",
   "metadata": {},
   "source": [
    "#### 3. Posteriors"
   ]
  },
  {
   "cell_type": "code",
   "execution_count": null,
   "metadata": {},
   "outputs": [],
   "source": [
    "# Input should have only one time step\n",
    "P.plot_posteriors()\n",
    "P.save_BlueCloud('figures/posteriors_EX.png')"
   ]
  },
  {
   "cell_type": "markdown",
   "metadata": {},
   "source": [
    "#### 4. Classes pie chart"
   ]
  },
  {
   "cell_type": "code",
   "execution_count": null,
   "metadata": {},
   "outputs": [],
   "source": [
    "P.pie_classes()\n",
    "P.save_BlueCloud('figures/pie_chart_EX.png')"
   ]
  },
  {
   "cell_type": "markdown",
   "metadata": {},
   "source": [
    "#### 5. Temporal representation "
   ]
  },
  {
   "cell_type": "markdown",
   "metadata": {},
   "source": [
    "Bar plot by __month__"
   ]
  },
  {
   "cell_type": "code",
   "execution_count": null,
   "metadata": {},
   "outputs": [],
   "source": [
    "P.temporal_distribution(time_bins = 'month')\n",
    "P.save_BlueCloud('figures/temporal_distr_months_EX.png')"
   ]
  },
  {
   "cell_type": "markdown",
   "metadata": {},
   "source": [
    "Bar plot by __season__"
   ]
  },
  {
   "cell_type": "code",
   "execution_count": null,
   "metadata": {},
   "outputs": [],
   "source": [
    "P.temporal_distribution(time_bins = 'season')\n",
    "P.save_BlueCloud('figures/temporal_distr_season_EX.png')"
   ]
  },
  {
   "cell_type": "code",
   "execution_count": null,
   "metadata": {},
   "outputs": [],
   "source": [
    "#import xarray\n",
    "#xarray.show_versions()"
   ]
  },
  {
   "cell_type": "markdown",
   "metadata": {},
   "source": [
    "# Robustness"
   ]
  },
  {
   "cell_type": "code",
   "execution_count": null,
   "metadata": {},
   "outputs": [],
   "source": [
    "P.plot_robustness(time_slice=7)\n",
    "P.save_BlueCloud('figures/test_robustness.png')"
   ]
  }
 ],
 "metadata": {
  "celltoolbar": "Tags",
  "kernelspec": {
   "display_name": "Python 3",
   "language": "python",
   "name": "python3"
  },
  "language_info": {
   "codemirror_mode": {
    "name": "ipython",
    "version": 3
   },
   "file_extension": ".py",
   "mimetype": "text/x-python",
   "name": "python",
   "nbconvert_exporter": "python",
   "pygments_lexer": "ipython3",
   "version": "3.7.6"
  }
 },
 "nbformat": 4,
 "nbformat_minor": 4
}
