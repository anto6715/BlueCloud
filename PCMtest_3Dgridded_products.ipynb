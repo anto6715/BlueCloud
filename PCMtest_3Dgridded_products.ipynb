{
 "cells": [
  {
   "cell_type": "markdown",
   "metadata": {},
   "source": [
    "# Apply PCM to 3D gridded products"
   ]
  },
  {
   "cell_type": "markdown",
   "metadata": {},
   "source": [
    "Apply PCM method to __3D gridded products__ defined as inputs in BlueCloud project:\n",
    "- GLOBAL-ANALYSIS-FORECAST-PHY-001-024\n",
    "- GLOBAL_REANALYSIS_PHY_001_030\n",
    "- GLOBAL_REANALYSIS_PHY_001_031\n",
    "- GLOBAL_REANALYSIS_BIO_001_029\n",
    "\n",
    "Only data in Mediterranean sea is used. NetCDF files have been downloaded from CMEMS catalogue.\n",
    "Notebook developped in __local__"
   ]
  },
  {
   "cell_type": "code",
   "execution_count": 1,
   "metadata": {},
   "outputs": [],
   "source": [
    "import xarray as xr\n",
    "import numpy as np\n",
    "\n",
    "import pyxpcm\n",
    "from pyxpcm.models import pcm\n",
    "\n",
    "import cartopy.crs as ccrs\n",
    "import cartopy.feature as cfeature\n",
    "import matplotlib.pyplot as plt\n",
    "import matplotlib.colors as mcolors\n",
    "import seaborn as sns\n",
    "\n",
    "import Plotter\n",
    "from Plotter import Plotter #new class for plots in pyxpcm\n",
    "\n",
    "from PIL import Image\n",
    "\n",
    "import importlib"
   ]
  },
  {
   "cell_type": "markdown",
   "metadata": {},
   "source": [
    "## User input\n",
    "***"
   ]
  },
  {
   "cell_type": "markdown",
   "metadata": {},
   "source": [
    "__Choose dataset__"
   ]
  },
  {
   "cell_type": "code",
   "execution_count": null,
   "metadata": {
    "tags": [
     "parameters"
    ]
   },
   "outputs": [],
   "source": [
    "file_path = '/export/home1/agarciaj/datasets/global-reanalysis-phy-001-030-monthly_1598523953615.nc'"
   ]
  },
  {
   "cell_type": "code",
   "execution_count": 2,
   "metadata": {},
   "outputs": [],
   "source": [
    "#### file path ####\n",
    "\n",
    "# GLOBAL-ANALYSIS-FORECAST-PHY-001-024\n",
    "#file_path = '/export/home1/agarciaj/datasets/global-analysis-forecast-phy-001-024_1598520725098.nc'\n",
    "\n",
    "# GLOBAL_REANALYSIS_PHY_001_030\n",
    "#file_path = '/export/home1/agarciaj/datasets/global-reanalysis-phy-001-030-monthly_1598523953615.nc'\n",
    "\n",
    "# GLOBAL_REANALYSIS_PHY_001_031\n",
    "#file_path = '/export/home1/agarciaj/datasets/global-reanalysis-phy-001-031-grepv2-monthly_1598972586332.nc'\n",
    "\n",
    "# GLOBAL_REANALYSIS_BIO_001_029\n",
    "#file_path = '/export/home1/agarciaj/datasets/global-reanalysis-bio-001-029-monthly_1598524945308.nc'\n",
    "\n",
    "\n",
    "# time and coordinates dimensions (expecify then here but use a generic name in the rest of the notebook)\n",
    "time_dim = 'time'\n",
    "lon_dim = 'longitude'\n",
    "let_dim = 'latitude'\n",
    "z_dim = 'depth'\n",
    "temp_var = 'thetao'\n",
    "\n",
    "#temp_var = 'fe'"
   ]
  },
  {
   "cell_type": "markdown",
   "metadata": {},
   "source": [
    "__Model options__"
   ]
  },
  {
   "cell_type": "code",
   "execution_count": 3,
   "metadata": {},
   "outputs": [],
   "source": [
    "#Choise of z and pcm features (very important to make a good choise) \n",
    "z = np.arange(-1.,-2000,-10.)\n",
    "pcm_features = {'temperature': z}\n",
    "#pcm_features = {'iron': z}\n",
    "\n",
    "#classes\n",
    "K=6\n",
    "\n",
    "#fit\n",
    "features_in_ds = {'temperature': temp_var}"
   ]
  },
  {
   "cell_type": "markdown",
   "metadata": {},
   "source": [
    "__Plot options__"
   ]
  },
  {
   "cell_type": "code",
   "execution_count": null,
   "metadata": {},
   "outputs": [],
   "source": []
  },
  {
   "cell_type": "markdown",
   "metadata": {},
   "source": [
    "## Get data\n",
    "***"
   ]
  },
  {
   "cell_type": "markdown",
   "metadata": {},
   "source": [
    "Open data files"
   ]
  },
  {
   "cell_type": "code",
   "execution_count": 4,
   "metadata": {},
   "outputs": [
    {
     "data": {
      "text/html": [
       "<div><svg style=\"position: absolute; width: 0; height: 0; overflow: hidden\">\n",
       "<defs>\n",
       "<symbol id=\"icon-database\" viewBox=\"0 0 32 32\">\n",
       "<path d=\"M16 0c-8.837 0-16 2.239-16 5v4c0 2.761 7.163 5 16 5s16-2.239 16-5v-4c0-2.761-7.163-5-16-5z\"></path>\n",
       "<path d=\"M16 17c-8.837 0-16-2.239-16-5v6c0 2.761 7.163 5 16 5s16-2.239 16-5v-6c0 2.761-7.163 5-16 5z\"></path>\n",
       "<path d=\"M16 26c-8.837 0-16-2.239-16-5v6c0 2.761 7.163 5 16 5s16-2.239 16-5v-6c0 2.761-7.163 5-16 5z\"></path>\n",
       "</symbol>\n",
       "<symbol id=\"icon-file-text2\" viewBox=\"0 0 32 32\">\n",
       "<path d=\"M28.681 7.159c-0.694-0.947-1.662-2.053-2.724-3.116s-2.169-2.030-3.116-2.724c-1.612-1.182-2.393-1.319-2.841-1.319h-15.5c-1.378 0-2.5 1.121-2.5 2.5v27c0 1.378 1.122 2.5 2.5 2.5h23c1.378 0 2.5-1.122 2.5-2.5v-19.5c0-0.448-0.137-1.23-1.319-2.841zM24.543 5.457c0.959 0.959 1.712 1.825 2.268 2.543h-4.811v-4.811c0.718 0.556 1.584 1.309 2.543 2.268zM28 29.5c0 0.271-0.229 0.5-0.5 0.5h-23c-0.271 0-0.5-0.229-0.5-0.5v-27c0-0.271 0.229-0.5 0.5-0.5 0 0 15.499-0 15.5 0v7c0 0.552 0.448 1 1 1h7v19.5z\"></path>\n",
       "<path d=\"M23 26h-14c-0.552 0-1-0.448-1-1s0.448-1 1-1h14c0.552 0 1 0.448 1 1s-0.448 1-1 1z\"></path>\n",
       "<path d=\"M23 22h-14c-0.552 0-1-0.448-1-1s0.448-1 1-1h14c0.552 0 1 0.448 1 1s-0.448 1-1 1z\"></path>\n",
       "<path d=\"M23 18h-14c-0.552 0-1-0.448-1-1s0.448-1 1-1h14c0.552 0 1 0.448 1 1s-0.448 1-1 1z\"></path>\n",
       "</symbol>\n",
       "</defs>\n",
       "</svg>\n",
       "<style>/* CSS stylesheet for displaying xarray objects in jupyterlab.\n",
       " *\n",
       " */\n",
       "\n",
       ":root {\n",
       "  --xr-font-color0: var(--jp-content-font-color0, rgba(0, 0, 0, 1));\n",
       "  --xr-font-color2: var(--jp-content-font-color2, rgba(0, 0, 0, 0.54));\n",
       "  --xr-font-color3: var(--jp-content-font-color3, rgba(0, 0, 0, 0.38));\n",
       "  --xr-border-color: var(--jp-border-color2, #e0e0e0);\n",
       "  --xr-disabled-color: var(--jp-layout-color3, #bdbdbd);\n",
       "  --xr-background-color: var(--jp-layout-color0, white);\n",
       "  --xr-background-color-row-even: var(--jp-layout-color1, white);\n",
       "  --xr-background-color-row-odd: var(--jp-layout-color2, #eeeeee);\n",
       "}\n",
       "\n",
       "html[theme=dark],\n",
       "body.vscode-dark {\n",
       "  --xr-font-color0: rgba(255, 255, 255, 1);\n",
       "  --xr-font-color2: rgba(255, 255, 255, 0.54);\n",
       "  --xr-font-color3: rgba(255, 255, 255, 0.38);\n",
       "  --xr-border-color: #1F1F1F;\n",
       "  --xr-disabled-color: #515151;\n",
       "  --xr-background-color: #111111;\n",
       "  --xr-background-color-row-even: #111111;\n",
       "  --xr-background-color-row-odd: #313131;\n",
       "}\n",
       "\n",
       ".xr-wrap {\n",
       "  display: block;\n",
       "  min-width: 300px;\n",
       "  max-width: 700px;\n",
       "}\n",
       "\n",
       ".xr-text-repr-fallback {\n",
       "  /* fallback to plain text repr when CSS is not injected (untrusted notebook) */\n",
       "  display: none;\n",
       "}\n",
       "\n",
       ".xr-header {\n",
       "  padding-top: 6px;\n",
       "  padding-bottom: 6px;\n",
       "  margin-bottom: 4px;\n",
       "  border-bottom: solid 1px var(--xr-border-color);\n",
       "}\n",
       "\n",
       ".xr-header > div,\n",
       ".xr-header > ul {\n",
       "  display: inline;\n",
       "  margin-top: 0;\n",
       "  margin-bottom: 0;\n",
       "}\n",
       "\n",
       ".xr-obj-type,\n",
       ".xr-array-name {\n",
       "  margin-left: 2px;\n",
       "  margin-right: 10px;\n",
       "}\n",
       "\n",
       ".xr-obj-type {\n",
       "  color: var(--xr-font-color2);\n",
       "}\n",
       "\n",
       ".xr-sections {\n",
       "  padding-left: 0 !important;\n",
       "  display: grid;\n",
       "  grid-template-columns: 150px auto auto 1fr 20px 20px;\n",
       "}\n",
       "\n",
       ".xr-section-item {\n",
       "  display: contents;\n",
       "}\n",
       "\n",
       ".xr-section-item input {\n",
       "  display: none;\n",
       "}\n",
       "\n",
       ".xr-section-item input + label {\n",
       "  color: var(--xr-disabled-color);\n",
       "}\n",
       "\n",
       ".xr-section-item input:enabled + label {\n",
       "  cursor: pointer;\n",
       "  color: var(--xr-font-color2);\n",
       "}\n",
       "\n",
       ".xr-section-item input:enabled + label:hover {\n",
       "  color: var(--xr-font-color0);\n",
       "}\n",
       "\n",
       ".xr-section-summary {\n",
       "  grid-column: 1;\n",
       "  color: var(--xr-font-color2);\n",
       "  font-weight: 500;\n",
       "}\n",
       "\n",
       ".xr-section-summary > span {\n",
       "  display: inline-block;\n",
       "  padding-left: 0.5em;\n",
       "}\n",
       "\n",
       ".xr-section-summary-in:disabled + label {\n",
       "  color: var(--xr-font-color2);\n",
       "}\n",
       "\n",
       ".xr-section-summary-in + label:before {\n",
       "  display: inline-block;\n",
       "  content: '►';\n",
       "  font-size: 11px;\n",
       "  width: 15px;\n",
       "  text-align: center;\n",
       "}\n",
       "\n",
       ".xr-section-summary-in:disabled + label:before {\n",
       "  color: var(--xr-disabled-color);\n",
       "}\n",
       "\n",
       ".xr-section-summary-in:checked + label:before {\n",
       "  content: '▼';\n",
       "}\n",
       "\n",
       ".xr-section-summary-in:checked + label > span {\n",
       "  display: none;\n",
       "}\n",
       "\n",
       ".xr-section-summary,\n",
       ".xr-section-inline-details {\n",
       "  padding-top: 4px;\n",
       "  padding-bottom: 4px;\n",
       "}\n",
       "\n",
       ".xr-section-inline-details {\n",
       "  grid-column: 2 / -1;\n",
       "}\n",
       "\n",
       ".xr-section-details {\n",
       "  display: none;\n",
       "  grid-column: 1 / -1;\n",
       "  margin-bottom: 5px;\n",
       "}\n",
       "\n",
       ".xr-section-summary-in:checked ~ .xr-section-details {\n",
       "  display: contents;\n",
       "}\n",
       "\n",
       ".xr-array-wrap {\n",
       "  grid-column: 1 / -1;\n",
       "  display: grid;\n",
       "  grid-template-columns: 20px auto;\n",
       "}\n",
       "\n",
       ".xr-array-wrap > label {\n",
       "  grid-column: 1;\n",
       "  vertical-align: top;\n",
       "}\n",
       "\n",
       ".xr-preview {\n",
       "  color: var(--xr-font-color3);\n",
       "}\n",
       "\n",
       ".xr-array-preview,\n",
       ".xr-array-data {\n",
       "  padding: 0 5px !important;\n",
       "  grid-column: 2;\n",
       "}\n",
       "\n",
       ".xr-array-data,\n",
       ".xr-array-in:checked ~ .xr-array-preview {\n",
       "  display: none;\n",
       "}\n",
       "\n",
       ".xr-array-in:checked ~ .xr-array-data,\n",
       ".xr-array-preview {\n",
       "  display: inline-block;\n",
       "}\n",
       "\n",
       ".xr-dim-list {\n",
       "  display: inline-block !important;\n",
       "  list-style: none;\n",
       "  padding: 0 !important;\n",
       "  margin: 0;\n",
       "}\n",
       "\n",
       ".xr-dim-list li {\n",
       "  display: inline-block;\n",
       "  padding: 0;\n",
       "  margin: 0;\n",
       "}\n",
       "\n",
       ".xr-dim-list:before {\n",
       "  content: '(';\n",
       "}\n",
       "\n",
       ".xr-dim-list:after {\n",
       "  content: ')';\n",
       "}\n",
       "\n",
       ".xr-dim-list li:not(:last-child):after {\n",
       "  content: ',';\n",
       "  padding-right: 5px;\n",
       "}\n",
       "\n",
       ".xr-has-index {\n",
       "  font-weight: bold;\n",
       "}\n",
       "\n",
       ".xr-var-list,\n",
       ".xr-var-item {\n",
       "  display: contents;\n",
       "}\n",
       "\n",
       ".xr-var-item > div,\n",
       ".xr-var-item label,\n",
       ".xr-var-item > .xr-var-name span {\n",
       "  background-color: var(--xr-background-color-row-even);\n",
       "  margin-bottom: 0;\n",
       "}\n",
       "\n",
       ".xr-var-item > .xr-var-name:hover span {\n",
       "  padding-right: 5px;\n",
       "}\n",
       "\n",
       ".xr-var-list > li:nth-child(odd) > div,\n",
       ".xr-var-list > li:nth-child(odd) > label,\n",
       ".xr-var-list > li:nth-child(odd) > .xr-var-name span {\n",
       "  background-color: var(--xr-background-color-row-odd);\n",
       "}\n",
       "\n",
       ".xr-var-name {\n",
       "  grid-column: 1;\n",
       "}\n",
       "\n",
       ".xr-var-dims {\n",
       "  grid-column: 2;\n",
       "}\n",
       "\n",
       ".xr-var-dtype {\n",
       "  grid-column: 3;\n",
       "  text-align: right;\n",
       "  color: var(--xr-font-color2);\n",
       "}\n",
       "\n",
       ".xr-var-preview {\n",
       "  grid-column: 4;\n",
       "}\n",
       "\n",
       ".xr-var-name,\n",
       ".xr-var-dims,\n",
       ".xr-var-dtype,\n",
       ".xr-preview,\n",
       ".xr-attrs dt {\n",
       "  white-space: nowrap;\n",
       "  overflow: hidden;\n",
       "  text-overflow: ellipsis;\n",
       "  padding-right: 10px;\n",
       "}\n",
       "\n",
       ".xr-var-name:hover,\n",
       ".xr-var-dims:hover,\n",
       ".xr-var-dtype:hover,\n",
       ".xr-attrs dt:hover {\n",
       "  overflow: visible;\n",
       "  width: auto;\n",
       "  z-index: 1;\n",
       "}\n",
       "\n",
       ".xr-var-attrs,\n",
       ".xr-var-data {\n",
       "  display: none;\n",
       "  background-color: var(--xr-background-color) !important;\n",
       "  padding-bottom: 5px !important;\n",
       "}\n",
       "\n",
       ".xr-var-attrs-in:checked ~ .xr-var-attrs,\n",
       ".xr-var-data-in:checked ~ .xr-var-data {\n",
       "  display: block;\n",
       "}\n",
       "\n",
       ".xr-var-data > table {\n",
       "  float: right;\n",
       "}\n",
       "\n",
       ".xr-var-name span,\n",
       ".xr-var-data,\n",
       ".xr-attrs {\n",
       "  padding-left: 25px !important;\n",
       "}\n",
       "\n",
       ".xr-attrs,\n",
       ".xr-var-attrs,\n",
       ".xr-var-data {\n",
       "  grid-column: 1 / -1;\n",
       "}\n",
       "\n",
       "dl.xr-attrs {\n",
       "  padding: 0;\n",
       "  margin: 0;\n",
       "  display: grid;\n",
       "  grid-template-columns: 125px auto;\n",
       "}\n",
       "\n",
       ".xr-attrs dt, dd {\n",
       "  padding: 0;\n",
       "  margin: 0;\n",
       "  float: left;\n",
       "  padding-right: 10px;\n",
       "  width: auto;\n",
       "}\n",
       "\n",
       ".xr-attrs dt {\n",
       "  font-weight: normal;\n",
       "  grid-column: 1;\n",
       "}\n",
       "\n",
       ".xr-attrs dt:hover span {\n",
       "  display: inline-block;\n",
       "  background: var(--xr-background-color);\n",
       "  padding-right: 10px;\n",
       "}\n",
       "\n",
       ".xr-attrs dd {\n",
       "  grid-column: 2;\n",
       "  white-space: pre-wrap;\n",
       "  word-break: break-all;\n",
       "}\n",
       "\n",
       ".xr-icon-database,\n",
       ".xr-icon-file-text2 {\n",
       "  display: inline-block;\n",
       "  vertical-align: middle;\n",
       "  width: 1em;\n",
       "  height: 1.5em !important;\n",
       "  stroke-width: 0;\n",
       "  stroke: currentColor;\n",
       "  fill: currentColor;\n",
       "}\n",
       "</style><pre class='xr-text-repr-fallback'>&lt;xarray.Dataset&gt;\n",
       "Dimensions:    (depth: 50, latitude: 181, longitude: 433, time: 12)\n",
       "Coordinates:\n",
       "  * depth      (depth) float32 0.494025 1.541375 2.645669 ... 5274.784 5727.917\n",
       "  * latitude   (latitude) float32 30.0 30.083334 30.166666 ... 44.916668 45.0\n",
       "  * time       (time) datetime64[ns] 2018-01-16T12:00:00 ... 2018-12-16T12:00:00\n",
       "  * longitude  (longitude) float32 -6.0 -5.9166665 -5.8333335 ... 29.916666 30.0\n",
       "Data variables:\n",
       "    mlotst     (time, latitude, longitude) float32 ...\n",
       "    vo         (time, depth, latitude, longitude) float32 ...\n",
       "    thetao     (time, depth, latitude, longitude) float32 ...\n",
       "    uo         (time, depth, latitude, longitude) float32 ...\n",
       "    bottomT    (time, latitude, longitude) float32 ...\n",
       "    so         (time, depth, latitude, longitude) float32 ...\n",
       "    zos        (time, latitude, longitude) float32 ...\n",
       "Attributes:\n",
       "    title:                         Monthly mean fields for product GLOBAL_REA...\n",
       "    references:                    http://marine.copernicus.eu\n",
       "    credit:                        E.U. Copernicus Marine Service Information...\n",
       "    licence:                       http://marine.copernicus.eu/services-portf...\n",
       "    contact:                       servicedesk.cmems@mercator-ocean.eu\n",
       "    producer:                      CMEMS - Global Monitoring and Forecasting ...\n",
       "    institution:                   Mercator Ocean\n",
       "    Conventions:                   CF-1.6\n",
       "    area:                          GLOBAL\n",
       "    product:                       GLOBAL_REANALYSIS_001_030\n",
       "    dataset:                       global-reanalysis-001-030-monthly\n",
       "    source:                        MERCATOR GLORYS12V1\n",
       "    product_user_manual:           http://marine.copernicus.eu/documents/PUM/...\n",
       "    quality_information_document:  http://marine.copernicus.eu/documents/QUID...\n",
       "    _CoordSysBuilder:              ucar.nc2.dataset.conv.CF1Convention\n",
       "    comment:                       \n",
       "    history:                       Data extracted from dataset http://localho...</pre><div class='xr-wrap' hidden><div class='xr-header'><div class='xr-obj-type'>xarray.Dataset</div></div><ul class='xr-sections'><li class='xr-section-item'><input id='section-61d7790c-fdbb-4a12-a43c-ce568402cd60' class='xr-section-summary-in' type='checkbox' disabled ><label for='section-61d7790c-fdbb-4a12-a43c-ce568402cd60' class='xr-section-summary'  title='Expand/collapse section'>Dimensions:</label><div class='xr-section-inline-details'><ul class='xr-dim-list'><li><span class='xr-has-index'>depth</span>: 50</li><li><span class='xr-has-index'>latitude</span>: 181</li><li><span class='xr-has-index'>longitude</span>: 433</li><li><span class='xr-has-index'>time</span>: 12</li></ul></div><div class='xr-section-details'></div></li><li class='xr-section-item'><input id='section-c2eddfae-27f9-4660-bcac-7e1109c328cf' class='xr-section-summary-in' type='checkbox'  checked><label for='section-c2eddfae-27f9-4660-bcac-7e1109c328cf' class='xr-section-summary' >Coordinates: <span>(4)</span></label><div class='xr-section-inline-details'></div><div class='xr-section-details'><ul class='xr-var-list'><li class='xr-var-item'><div class='xr-var-name'><span class='xr-has-index'>depth</span></div><div class='xr-var-dims'>(depth)</div><div class='xr-var-dtype'>float32</div><div class='xr-var-preview xr-preview'>0.494025 1.541375 ... 5727.917</div><input id='attrs-d054ed9f-380a-47cc-92c4-3bfc98de42af' class='xr-var-attrs-in' type='checkbox' ><label for='attrs-d054ed9f-380a-47cc-92c4-3bfc98de42af' title='Show/Hide attributes'><svg class='icon xr-icon-file-text2'><use xlink:href='#icon-file-text2'></use></svg></label><input id='data-b491d474-950a-4256-8b9c-11851e22dc82' class='xr-var-data-in' type='checkbox'><label for='data-b491d474-950a-4256-8b9c-11851e22dc82' title='Show/Hide data repr'><svg class='icon xr-icon-database'><use xlink:href='#icon-database'></use></svg></label><div class='xr-var-attrs'><dl class='xr-attrs'><dt><span>valid_min :</span></dt><dd>0.494025</dd><dt><span>valid_max :</span></dt><dd>5727.917</dd><dt><span>units :</span></dt><dd>m</dd><dt><span>positive :</span></dt><dd>down</dd><dt><span>unit_long :</span></dt><dd>Meters</dd><dt><span>long_name :</span></dt><dd>Depth</dd><dt><span>standard_name :</span></dt><dd>depth</dd><dt><span>axis :</span></dt><dd>Z</dd><dt><span>_ChunkSizes :</span></dt><dd>50</dd><dt><span>_CoordinateAxisType :</span></dt><dd>Height</dd><dt><span>_CoordinateZisPositive :</span></dt><dd>down</dd></dl></div><div class='xr-var-data'><pre>array([4.940250e-01, 1.541375e+00, 2.645669e+00, 3.819495e+00, 5.078224e+00,\n",
       "       6.440614e+00, 7.929560e+00, 9.572997e+00, 1.140500e+01, 1.346714e+01,\n",
       "       1.581007e+01, 1.849556e+01, 2.159882e+01, 2.521141e+01, 2.944473e+01,\n",
       "       3.443415e+01, 4.034405e+01, 4.737369e+01, 5.576429e+01, 6.580727e+01,\n",
       "       7.785385e+01, 9.232607e+01, 1.097293e+02, 1.306660e+02, 1.558507e+02,\n",
       "       1.861256e+02, 2.224752e+02, 2.660403e+02, 3.181274e+02, 3.802130e+02,\n",
       "       4.539377e+02, 5.410889e+02, 6.435668e+02, 7.633331e+02, 9.023393e+02,\n",
       "       1.062440e+03, 1.245291e+03, 1.452251e+03, 1.684284e+03, 1.941893e+03,\n",
       "       2.225078e+03, 2.533336e+03, 2.865703e+03, 3.220820e+03, 3.597032e+03,\n",
       "       3.992484e+03, 4.405224e+03, 4.833291e+03, 5.274784e+03, 5.727917e+03],\n",
       "      dtype=float32)</pre></div></li><li class='xr-var-item'><div class='xr-var-name'><span class='xr-has-index'>latitude</span></div><div class='xr-var-dims'>(latitude)</div><div class='xr-var-dtype'>float32</div><div class='xr-var-preview xr-preview'>30.0 30.083334 ... 44.916668 45.0</div><input id='attrs-6ac52ba6-eaf8-43bc-93f1-41f8fca11aa0' class='xr-var-attrs-in' type='checkbox' ><label for='attrs-6ac52ba6-eaf8-43bc-93f1-41f8fca11aa0' title='Show/Hide attributes'><svg class='icon xr-icon-file-text2'><use xlink:href='#icon-file-text2'></use></svg></label><input id='data-f13f91e8-c874-4549-98d4-78b64f8e24c6' class='xr-var-data-in' type='checkbox'><label for='data-f13f91e8-c874-4549-98d4-78b64f8e24c6' title='Show/Hide data repr'><svg class='icon xr-icon-database'><use xlink:href='#icon-database'></use></svg></label><div class='xr-var-attrs'><dl class='xr-attrs'><dt><span>valid_min :</span></dt><dd>30.0</dd><dt><span>valid_max :</span></dt><dd>45.0</dd><dt><span>step :</span></dt><dd>0.08333588</dd><dt><span>units :</span></dt><dd>degrees_north</dd><dt><span>unit_long :</span></dt><dd>Degrees North</dd><dt><span>long_name :</span></dt><dd>Latitude</dd><dt><span>standard_name :</span></dt><dd>latitude</dd><dt><span>axis :</span></dt><dd>Y</dd><dt><span>_ChunkSizes :</span></dt><dd>2041</dd><dt><span>_CoordinateAxisType :</span></dt><dd>Lat</dd></dl></div><div class='xr-var-data'><pre>array([30.      , 30.083334, 30.166666, 30.25    , 30.333334, 30.416666,\n",
       "       30.5     , 30.583334, 30.666666, 30.75    , 30.833334, 30.916666,\n",
       "       31.      , 31.083334, 31.166666, 31.25    , 31.333334, 31.416666,\n",
       "       31.5     , 31.583334, 31.666666, 31.75    , 31.833334, 31.916666,\n",
       "       32.      , 32.083332, 32.166668, 32.25    , 32.333332, 32.416668,\n",
       "       32.5     , 32.583332, 32.666668, 32.75    , 32.833332, 32.916668,\n",
       "       33.      , 33.083332, 33.166668, 33.25    , 33.333332, 33.416668,\n",
       "       33.5     , 33.583332, 33.666668, 33.75    , 33.833332, 33.916668,\n",
       "       34.      , 34.083332, 34.166668, 34.25    , 34.333332, 34.416668,\n",
       "       34.5     , 34.583332, 34.666668, 34.75    , 34.833332, 34.916668,\n",
       "       35.      , 35.083332, 35.166668, 35.25    , 35.333332, 35.416668,\n",
       "       35.5     , 35.583332, 35.666668, 35.75    , 35.833332, 35.916668,\n",
       "       36.      , 36.083332, 36.166668, 36.25    , 36.333332, 36.416668,\n",
       "       36.5     , 36.583332, 36.666668, 36.75    , 36.833332, 36.916668,\n",
       "       37.      , 37.083332, 37.166668, 37.25    , 37.333332, 37.416668,\n",
       "       37.5     , 37.583332, 37.666668, 37.75    , 37.833332, 37.916668,\n",
       "       38.      , 38.083332, 38.166668, 38.25    , 38.333332, 38.416668,\n",
       "       38.5     , 38.583332, 38.666668, 38.75    , 38.833332, 38.916668,\n",
       "       39.      , 39.083332, 39.166668, 39.25    , 39.333332, 39.416668,\n",
       "       39.5     , 39.583332, 39.666668, 39.75    , 39.833332, 39.916668,\n",
       "       40.      , 40.083332, 40.166668, 40.25    , 40.333332, 40.416668,\n",
       "       40.5     , 40.583332, 40.666668, 40.75    , 40.833332, 40.916668,\n",
       "       41.      , 41.083332, 41.166668, 41.25    , 41.333332, 41.416668,\n",
       "       41.5     , 41.583332, 41.666668, 41.75    , 41.833332, 41.916668,\n",
       "       42.      , 42.083332, 42.166668, 42.25    , 42.333332, 42.416668,\n",
       "       42.5     , 42.583332, 42.666668, 42.75    , 42.833332, 42.916668,\n",
       "       43.      , 43.083332, 43.166668, 43.25    , 43.333332, 43.416668,\n",
       "       43.5     , 43.583332, 43.666668, 43.75    , 43.833332, 43.916668,\n",
       "       44.      , 44.083332, 44.166668, 44.25    , 44.333332, 44.416668,\n",
       "       44.5     , 44.583332, 44.666668, 44.75    , 44.833332, 44.916668,\n",
       "       45.      ], dtype=float32)</pre></div></li><li class='xr-var-item'><div class='xr-var-name'><span class='xr-has-index'>time</span></div><div class='xr-var-dims'>(time)</div><div class='xr-var-dtype'>datetime64[ns]</div><div class='xr-var-preview xr-preview'>2018-01-16T12:00:00 ... 2018-12-...</div><input id='attrs-8229410c-f62e-4ade-8fb4-e7dff7379287' class='xr-var-attrs-in' type='checkbox' ><label for='attrs-8229410c-f62e-4ade-8fb4-e7dff7379287' title='Show/Hide attributes'><svg class='icon xr-icon-file-text2'><use xlink:href='#icon-file-text2'></use></svg></label><input id='data-7a4f34e7-cd11-462f-b6c9-dfc30e8b6868' class='xr-var-data-in' type='checkbox'><label for='data-7a4f34e7-cd11-462f-b6c9-dfc30e8b6868' title='Show/Hide data repr'><svg class='icon xr-icon-database'><use xlink:href='#icon-database'></use></svg></label><div class='xr-var-attrs'><dl class='xr-attrs'><dt><span>axis :</span></dt><dd>T</dd><dt><span>long_name :</span></dt><dd>Time (hours since 1950-01-01)</dd><dt><span>standard_name :</span></dt><dd>time</dd><dt><span>_CoordinateAxisType :</span></dt><dd>Time</dd><dt><span>valid_min :</span></dt><dd>596460.0</dd><dt><span>valid_max :</span></dt><dd>604476.0</dd></dl></div><div class='xr-var-data'><pre>array([&#x27;2018-01-16T12:00:00.000000000&#x27;, &#x27;2018-02-15T00:00:00.000000000&#x27;,\n",
       "       &#x27;2018-03-16T12:00:00.000000000&#x27;, &#x27;2018-04-16T00:00:00.000000000&#x27;,\n",
       "       &#x27;2018-05-16T12:00:00.000000000&#x27;, &#x27;2018-06-16T00:00:00.000000000&#x27;,\n",
       "       &#x27;2018-07-16T12:00:00.000000000&#x27;, &#x27;2018-08-16T12:00:00.000000000&#x27;,\n",
       "       &#x27;2018-09-16T00:00:00.000000000&#x27;, &#x27;2018-10-16T12:00:00.000000000&#x27;,\n",
       "       &#x27;2018-11-16T00:00:00.000000000&#x27;, &#x27;2018-12-16T12:00:00.000000000&#x27;],\n",
       "      dtype=&#x27;datetime64[ns]&#x27;)</pre></div></li><li class='xr-var-item'><div class='xr-var-name'><span class='xr-has-index'>longitude</span></div><div class='xr-var-dims'>(longitude)</div><div class='xr-var-dtype'>float32</div><div class='xr-var-preview xr-preview'>-6.0 -5.9166665 ... 29.916666 30.0</div><input id='attrs-e2be16ec-d7be-4620-8f38-64832f4c35f7' class='xr-var-attrs-in' type='checkbox' ><label for='attrs-e2be16ec-d7be-4620-8f38-64832f4c35f7' title='Show/Hide attributes'><svg class='icon xr-icon-file-text2'><use xlink:href='#icon-file-text2'></use></svg></label><input id='data-ae076d0b-7ea3-4e72-bbce-8e49272a79f3' class='xr-var-data-in' type='checkbox'><label for='data-ae076d0b-7ea3-4e72-bbce-8e49272a79f3' title='Show/Hide data repr'><svg class='icon xr-icon-database'><use xlink:href='#icon-database'></use></svg></label><div class='xr-var-attrs'><dl class='xr-attrs'><dt><span>valid_min :</span></dt><dd>-6.0</dd><dt><span>valid_max :</span></dt><dd>30.0</dd><dt><span>step :</span></dt><dd>0.08332825</dd><dt><span>units :</span></dt><dd>degrees_east</dd><dt><span>unit_long :</span></dt><dd>Degrees East</dd><dt><span>long_name :</span></dt><dd>Longitude</dd><dt><span>standard_name :</span></dt><dd>longitude</dd><dt><span>axis :</span></dt><dd>X</dd><dt><span>_ChunkSizes :</span></dt><dd>4320</dd><dt><span>_CoordinateAxisType :</span></dt><dd>Lon</dd></dl></div><div class='xr-var-data'><pre>array([-6.      , -5.916667, -5.833333, ..., 29.833334, 29.916666, 30.      ],\n",
       "      dtype=float32)</pre></div></li></ul></div></li><li class='xr-section-item'><input id='section-d6090289-2e1e-4697-863d-4c9d80f85db4' class='xr-section-summary-in' type='checkbox'  checked><label for='section-d6090289-2e1e-4697-863d-4c9d80f85db4' class='xr-section-summary' >Data variables: <span>(7)</span></label><div class='xr-section-inline-details'></div><div class='xr-section-details'><ul class='xr-var-list'><li class='xr-var-item'><div class='xr-var-name'><span>mlotst</span></div><div class='xr-var-dims'>(time, latitude, longitude)</div><div class='xr-var-dtype'>float32</div><div class='xr-var-preview xr-preview'>...</div><input id='attrs-fa2c6122-9ae2-41a9-b99f-303d5c845454' class='xr-var-attrs-in' type='checkbox' ><label for='attrs-fa2c6122-9ae2-41a9-b99f-303d5c845454' title='Show/Hide attributes'><svg class='icon xr-icon-file-text2'><use xlink:href='#icon-file-text2'></use></svg></label><input id='data-360adc0a-fb8c-4900-97fd-81e00215bd74' class='xr-var-data-in' type='checkbox'><label for='data-360adc0a-fb8c-4900-97fd-81e00215bd74' title='Show/Hide data repr'><svg class='icon xr-icon-database'><use xlink:href='#icon-database'></use></svg></label><div class='xr-var-attrs'><dl class='xr-attrs'><dt><span>long_name :</span></dt><dd>Density ocean mixed layer thickness</dd><dt><span>standard_name :</span></dt><dd>ocean_mixed_layer_thickness_defined_by_sigma_theta</dd><dt><span>units :</span></dt><dd>m</dd><dt><span>unit_long :</span></dt><dd>Meters</dd><dt><span>cell_methods :</span></dt><dd>area: mean</dd><dt><span>_ChunkSizes :</span></dt><dd>[   1  681 1440]</dd></dl></div><div class='xr-var-data'><pre>[940476 values with dtype=float32]</pre></div></li><li class='xr-var-item'><div class='xr-var-name'><span>vo</span></div><div class='xr-var-dims'>(time, depth, latitude, longitude)</div><div class='xr-var-dtype'>float32</div><div class='xr-var-preview xr-preview'>...</div><input id='attrs-6e7a3d5b-01b9-4580-a75d-6ad8da9a7e82' class='xr-var-attrs-in' type='checkbox' ><label for='attrs-6e7a3d5b-01b9-4580-a75d-6ad8da9a7e82' title='Show/Hide attributes'><svg class='icon xr-icon-file-text2'><use xlink:href='#icon-file-text2'></use></svg></label><input id='data-41d8c785-2463-497b-8ac6-b72fe97af93a' class='xr-var-data-in' type='checkbox'><label for='data-41d8c785-2463-497b-8ac6-b72fe97af93a' title='Show/Hide data repr'><svg class='icon xr-icon-database'><use xlink:href='#icon-database'></use></svg></label><div class='xr-var-attrs'><dl class='xr-attrs'><dt><span>long_name :</span></dt><dd>Northward velocity</dd><dt><span>standard_name :</span></dt><dd>northward_sea_water_velocity</dd><dt><span>units :</span></dt><dd>m s-1</dd><dt><span>unit_long :</span></dt><dd>Meters per second</dd><dt><span>cell_methods :</span></dt><dd>area: mean</dd><dt><span>_ChunkSizes :</span></dt><dd>[  1   7 341 720]</dd></dl></div><div class='xr-var-data'><pre>[47023800 values with dtype=float32]</pre></div></li><li class='xr-var-item'><div class='xr-var-name'><span>thetao</span></div><div class='xr-var-dims'>(time, depth, latitude, longitude)</div><div class='xr-var-dtype'>float32</div><div class='xr-var-preview xr-preview'>...</div><input id='attrs-0b5e3ca3-7f0e-4e3f-ab09-81ad5a9e69a7' class='xr-var-attrs-in' type='checkbox' ><label for='attrs-0b5e3ca3-7f0e-4e3f-ab09-81ad5a9e69a7' title='Show/Hide attributes'><svg class='icon xr-icon-file-text2'><use xlink:href='#icon-file-text2'></use></svg></label><input id='data-8bfced9d-49a3-4f91-a9df-9f28f29b6a12' class='xr-var-data-in' type='checkbox'><label for='data-8bfced9d-49a3-4f91-a9df-9f28f29b6a12' title='Show/Hide data repr'><svg class='icon xr-icon-database'><use xlink:href='#icon-database'></use></svg></label><div class='xr-var-attrs'><dl class='xr-attrs'><dt><span>long_name :</span></dt><dd>Temperature</dd><dt><span>standard_name :</span></dt><dd>sea_water_potential_temperature</dd><dt><span>units :</span></dt><dd>degrees_C</dd><dt><span>unit_long :</span></dt><dd>Degrees Celsius</dd><dt><span>cell_methods :</span></dt><dd>area: mean</dd><dt><span>_ChunkSizes :</span></dt><dd>[  1   7 341 720]</dd></dl></div><div class='xr-var-data'><pre>[47023800 values with dtype=float32]</pre></div></li><li class='xr-var-item'><div class='xr-var-name'><span>uo</span></div><div class='xr-var-dims'>(time, depth, latitude, longitude)</div><div class='xr-var-dtype'>float32</div><div class='xr-var-preview xr-preview'>...</div><input id='attrs-06fdd1b1-4dca-479f-a9a2-e4a01178bec5' class='xr-var-attrs-in' type='checkbox' ><label for='attrs-06fdd1b1-4dca-479f-a9a2-e4a01178bec5' title='Show/Hide attributes'><svg class='icon xr-icon-file-text2'><use xlink:href='#icon-file-text2'></use></svg></label><input id='data-eee82d40-47e4-438c-a82a-5b7f2fb2bbcc' class='xr-var-data-in' type='checkbox'><label for='data-eee82d40-47e4-438c-a82a-5b7f2fb2bbcc' title='Show/Hide data repr'><svg class='icon xr-icon-database'><use xlink:href='#icon-database'></use></svg></label><div class='xr-var-attrs'><dl class='xr-attrs'><dt><span>long_name :</span></dt><dd>Eastward velocity</dd><dt><span>standard_name :</span></dt><dd>eastward_sea_water_velocity</dd><dt><span>units :</span></dt><dd>m s-1</dd><dt><span>unit_long :</span></dt><dd>Meters per second</dd><dt><span>cell_methods :</span></dt><dd>area: mean</dd><dt><span>_ChunkSizes :</span></dt><dd>[  1   7 341 720]</dd></dl></div><div class='xr-var-data'><pre>[47023800 values with dtype=float32]</pre></div></li><li class='xr-var-item'><div class='xr-var-name'><span>bottomT</span></div><div class='xr-var-dims'>(time, latitude, longitude)</div><div class='xr-var-dtype'>float32</div><div class='xr-var-preview xr-preview'>...</div><input id='attrs-ffa726a5-cf08-4a31-bd71-cb887e020390' class='xr-var-attrs-in' type='checkbox' ><label for='attrs-ffa726a5-cf08-4a31-bd71-cb887e020390' title='Show/Hide attributes'><svg class='icon xr-icon-file-text2'><use xlink:href='#icon-file-text2'></use></svg></label><input id='data-59407373-c6d4-40bf-9654-c16f49f7f9b5' class='xr-var-data-in' type='checkbox'><label for='data-59407373-c6d4-40bf-9654-c16f49f7f9b5' title='Show/Hide data repr'><svg class='icon xr-icon-database'><use xlink:href='#icon-database'></use></svg></label><div class='xr-var-attrs'><dl class='xr-attrs'><dt><span>long_name :</span></dt><dd>Sea floor potential temperature</dd><dt><span>standard_name :</span></dt><dd>sea_water_potential_temperature_at_sea_floor</dd><dt><span>units :</span></dt><dd>degrees_C</dd><dt><span>unit_long :</span></dt><dd>Degrees Celsius</dd><dt><span>cell_methods :</span></dt><dd>area: mean</dd><dt><span>_ChunkSizes :</span></dt><dd>[   1  681 1440]</dd></dl></div><div class='xr-var-data'><pre>[940476 values with dtype=float32]</pre></div></li><li class='xr-var-item'><div class='xr-var-name'><span>so</span></div><div class='xr-var-dims'>(time, depth, latitude, longitude)</div><div class='xr-var-dtype'>float32</div><div class='xr-var-preview xr-preview'>...</div><input id='attrs-8786f0fd-81e0-4108-b9d7-689c9b446451' class='xr-var-attrs-in' type='checkbox' ><label for='attrs-8786f0fd-81e0-4108-b9d7-689c9b446451' title='Show/Hide attributes'><svg class='icon xr-icon-file-text2'><use xlink:href='#icon-file-text2'></use></svg></label><input id='data-ca9b1990-2c12-44d2-9b76-d030658bca98' class='xr-var-data-in' type='checkbox'><label for='data-ca9b1990-2c12-44d2-9b76-d030658bca98' title='Show/Hide data repr'><svg class='icon xr-icon-database'><use xlink:href='#icon-database'></use></svg></label><div class='xr-var-attrs'><dl class='xr-attrs'><dt><span>long_name :</span></dt><dd>Salinity</dd><dt><span>standard_name :</span></dt><dd>sea_water_salinity</dd><dt><span>units :</span></dt><dd>1e-3</dd><dt><span>unit_long :</span></dt><dd>Practical Salinity Unit</dd><dt><span>cell_methods :</span></dt><dd>area: mean</dd><dt><span>_ChunkSizes :</span></dt><dd>[  1   7 341 720]</dd></dl></div><div class='xr-var-data'><pre>[47023800 values with dtype=float32]</pre></div></li><li class='xr-var-item'><div class='xr-var-name'><span>zos</span></div><div class='xr-var-dims'>(time, latitude, longitude)</div><div class='xr-var-dtype'>float32</div><div class='xr-var-preview xr-preview'>...</div><input id='attrs-ee6fcaba-56e2-4a76-adb0-92d64a6ccbd6' class='xr-var-attrs-in' type='checkbox' ><label for='attrs-ee6fcaba-56e2-4a76-adb0-92d64a6ccbd6' title='Show/Hide attributes'><svg class='icon xr-icon-file-text2'><use xlink:href='#icon-file-text2'></use></svg></label><input id='data-25bf596a-8542-4a5a-9919-f2f555233be5' class='xr-var-data-in' type='checkbox'><label for='data-25bf596a-8542-4a5a-9919-f2f555233be5' title='Show/Hide data repr'><svg class='icon xr-icon-database'><use xlink:href='#icon-database'></use></svg></label><div class='xr-var-attrs'><dl class='xr-attrs'><dt><span>long_name :</span></dt><dd>Sea surface height</dd><dt><span>standard_name :</span></dt><dd>sea_surface_height_above_geoid</dd><dt><span>units :</span></dt><dd>m</dd><dt><span>unit_long :</span></dt><dd>Meters</dd><dt><span>cell_methods :</span></dt><dd>area: mean</dd><dt><span>_ChunkSizes :</span></dt><dd>[   1  681 1440]</dd></dl></div><div class='xr-var-data'><pre>[940476 values with dtype=float32]</pre></div></li></ul></div></li><li class='xr-section-item'><input id='section-c06eb695-0ec2-4271-8404-82a7ee1a0f5b' class='xr-section-summary-in' type='checkbox'  ><label for='section-c06eb695-0ec2-4271-8404-82a7ee1a0f5b' class='xr-section-summary' >Attributes: <span>(17)</span></label><div class='xr-section-inline-details'></div><div class='xr-section-details'><dl class='xr-attrs'><dt><span>title :</span></dt><dd>Monthly mean fields for product GLOBAL_REANALYSIS_PHY_001_030</dd><dt><span>references :</span></dt><dd>http://marine.copernicus.eu</dd><dt><span>credit :</span></dt><dd>E.U. Copernicus Marine Service Information (CMEMS)</dd><dt><span>licence :</span></dt><dd>http://marine.copernicus.eu/services-portfolio/service-commitments-and-licence/</dd><dt><span>contact :</span></dt><dd>servicedesk.cmems@mercator-ocean.eu</dd><dt><span>producer :</span></dt><dd>CMEMS - Global Monitoring and Forecasting Centre</dd><dt><span>institution :</span></dt><dd>Mercator Ocean</dd><dt><span>Conventions :</span></dt><dd>CF-1.6</dd><dt><span>area :</span></dt><dd>GLOBAL</dd><dt><span>product :</span></dt><dd>GLOBAL_REANALYSIS_001_030</dd><dt><span>dataset :</span></dt><dd>global-reanalysis-001-030-monthly</dd><dt><span>source :</span></dt><dd>MERCATOR GLORYS12V1</dd><dt><span>product_user_manual :</span></dt><dd>http://marine.copernicus.eu/documents/PUM/CMEMS-GLO-PUM-001-030.pdf</dd><dt><span>quality_information_document :</span></dt><dd>http://marine.copernicus.eu/documents/QUID/CMEMS-GLO-QUID-001-030.pdf</dd><dt><span>_CoordSysBuilder :</span></dt><dd>ucar.nc2.dataset.conv.CF1Convention</dd><dt><span>comment :</span></dt><dd></dd><dt><span>history :</span></dt><dd>Data extracted from dataset http://localhost:8080/thredds/dodsC/global-reanalysis-phy-001-030-monthly</dd></dl></div></li></ul></div></div>"
      ],
      "text/plain": [
       "<xarray.Dataset>\n",
       "Dimensions:    (depth: 50, latitude: 181, longitude: 433, time: 12)\n",
       "Coordinates:\n",
       "  * depth      (depth) float32 0.494025 1.541375 2.645669 ... 5274.784 5727.917\n",
       "  * latitude   (latitude) float32 30.0 30.083334 30.166666 ... 44.916668 45.0\n",
       "  * time       (time) datetime64[ns] 2018-01-16T12:00:00 ... 2018-12-16T12:00:00\n",
       "  * longitude  (longitude) float32 -6.0 -5.9166665 -5.8333335 ... 29.916666 30.0\n",
       "Data variables:\n",
       "    mlotst     (time, latitude, longitude) float32 ...\n",
       "    vo         (time, depth, latitude, longitude) float32 ...\n",
       "    thetao     (time, depth, latitude, longitude) float32 ...\n",
       "    uo         (time, depth, latitude, longitude) float32 ...\n",
       "    bottomT    (time, latitude, longitude) float32 ...\n",
       "    so         (time, depth, latitude, longitude) float32 ...\n",
       "    zos        (time, latitude, longitude) float32 ...\n",
       "Attributes:\n",
       "    title:                         Monthly mean fields for product GLOBAL_REA...\n",
       "    references:                    http://marine.copernicus.eu\n",
       "    credit:                        E.U. Copernicus Marine Service Information...\n",
       "    licence:                       http://marine.copernicus.eu/services-portf...\n",
       "    contact:                       servicedesk.cmems@mercator-ocean.eu\n",
       "    producer:                      CMEMS - Global Monitoring and Forecasting ...\n",
       "    institution:                   Mercator Ocean\n",
       "    Conventions:                   CF-1.6\n",
       "    area:                          GLOBAL\n",
       "    product:                       GLOBAL_REANALYSIS_001_030\n",
       "    dataset:                       global-reanalysis-001-030-monthly\n",
       "    source:                        MERCATOR GLORYS12V1\n",
       "    product_user_manual:           http://marine.copernicus.eu/documents/PUM/...\n",
       "    quality_information_document:  http://marine.copernicus.eu/documents/QUID...\n",
       "    _CoordSysBuilder:              ucar.nc2.dataset.conv.CF1Convention\n",
       "    comment:                       \n",
       "    history:                       Data extracted from dataset http://localho..."
      ]
     },
     "execution_count": 4,
     "metadata": {},
     "output_type": "execute_result"
    }
   ],
   "source": [
    "#open data file\n",
    "ds = xr.open_dataset(file_path)\n",
    "ds"
   ]
  },
  {
   "cell_type": "markdown",
   "metadata": {},
   "source": [
    "Depth values should be negative"
   ]
  },
  {
   "cell_type": "code",
   "execution_count": 5,
   "metadata": {},
   "outputs": [],
   "source": [
    "#at = ds['depth'].attrs\n",
    "#ds.assign_coords(depth=-np.abs(ds['depth'].values), keep_attrs=True)\n",
    "ds['depth'] = -np.abs(ds['depth'].values)\n",
    "#ds['depth'].attrs.update(at) # not working"
   ]
  },
  {
   "cell_type": "code",
   "execution_count": 6,
   "metadata": {},
   "outputs": [
    {
     "data": {
      "image/png": "[encoded data removed]",
      "text/plain": [
       "<Figure size 432x288 with 2 Axes>"
      ]
     },
     "metadata": {
      "needs_background": "light"
     },
     "output_type": "display_data"
    }
   ],
   "source": [
    "#ds['thetao'].isel(depth=5).plot();\n",
    "ds[temp_var].isel(time=11, depth=5).plot();\n",
    "#ds['o2'].isel(time=11, depth=5).plot();\n",
    "#ds['fe'].isel(time=11, depth=5).plot();"
   ]
  },
  {
   "cell_type": "markdown",
   "metadata": {},
   "source": [
    "## Applying PCM\n",
    "***"
   ]
  },
  {
   "cell_type": "markdown",
   "metadata": {},
   "source": [
    "### Create PCM"
   ]
  },
  {
   "cell_type": "code",
   "execution_count": 7,
   "metadata": {},
   "outputs": [
    {
     "data": {
      "text/plain": [
       "<pcm 'gmm' (K: 6, F: 1)>\n",
       "Number of class: 6\n",
       "Number of feature: 1\n",
       "Feature names: odict_keys(['temperature'])\n",
       "Fitted: False\n",
       "Feature: 'temperature'\n",
       "\t Interpoler: <class 'pyxpcm.utils.Vertical_Interpolator'>\n",
       "\t Scaler: 'normal', <class 'sklearn.preprocessing._data.StandardScaler'>\n",
       "\t Reducer: True, <class 'sklearn.decomposition._pca.PCA'>\n",
       "Classifier: 'gmm', <class 'sklearn.mixture._gaussian_mixture.GaussianMixture'>"
      ]
     },
     "execution_count": 7,
     "metadata": {},
     "output_type": "execute_result"
    }
   ],
   "source": [
    "#z choise\n",
    "z = ds['depth'][0:20]\n",
    "pcm_features = {'temperature': z}\n",
    "#pcm_features = {'iron': z}\n",
    "\n",
    "m = pcm(K=K, features=pcm_features)\n",
    "m"
   ]
  },
  {
   "cell_type": "markdown",
   "metadata": {},
   "source": [
    "### Fit Model"
   ]
  },
  {
   "cell_type": "code",
   "execution_count": 8,
   "metadata": {},
   "outputs": [
    {
     "data": {
      "text/plain": [
       "<pcm 'gmm' (K: 6, F: 1)>\n",
       "Number of class: 6\n",
       "Number of feature: 1\n",
       "Feature names: odict_keys(['temperature'])\n",
       "Fitted: True\n",
       "Feature: 'temperature'\n",
       "\t Interpoler: <class 'pyxpcm.utils.Vertical_Interpolator'>\n",
       "\t Scaler: 'normal', <class 'sklearn.preprocessing._data.StandardScaler'>\n",
       "\t Reducer: True, <class 'sklearn.decomposition._pca.PCA'>\n",
       "Classifier: 'gmm', <class 'sklearn.mixture._gaussian_mixture.GaussianMixture'>\n",
       "\t log likelihood of the training set: 42.377287"
      ]
     },
     "execution_count": 8,
     "metadata": {},
     "output_type": "execute_result"
    }
   ],
   "source": [
    "features_in_ds = {'temperature': temp_var}\n",
    "#features_in_ds = {'iron': temp_var}\n",
    "features_zdim=z_dim\n",
    "m.fit(ds, features=features_in_ds, dim=features_zdim)\n",
    "m"
   ]
  },
  {
   "cell_type": "markdown",
   "metadata": {},
   "source": [
    "<font color=red>__TODO__</font> : save all trained PCM in a folder"
   ]
  },
  {
   "cell_type": "code",
   "execution_count": 9,
   "metadata": {},
   "outputs": [],
   "source": [
    "# save model to development\n",
    "m.to_netcdf('models/tests_model_GLOBAL_REANALYSIS_PHY_001_030_temp_2.nc')"
   ]
  },
  {
   "cell_type": "markdown",
   "metadata": {},
   "source": [
    "### Predict labels"
   ]
  },
  {
   "cell_type": "code",
   "execution_count": null,
   "metadata": {},
   "outputs": [],
   "source": [
    "features_zdim=z_dim\n",
    "m.predict(ds, features=features_in_ds, dim=features_zdim, inplace=True);\n",
    "#ds"
   ]
  },
  {
   "cell_type": "code",
   "execution_count": null,
   "metadata": {},
   "outputs": [],
   "source": [
    "m.predict_proba(ds, features=features_in_ds, dim=features_zdim, inplace=True);\n",
    "#ds"
   ]
  },
  {
   "cell_type": "code",
   "execution_count": null,
   "metadata": {},
   "outputs": [],
   "source": [
    "ds = ds.pyxpcm.quantile(m, q=[0.05, 0.5, 0.95], of=temp_var, outname=temp_var + '_Q', keep_attrs=True, inplace=True)\n",
    "#ds"
   ]
  },
  {
   "cell_type": "code",
   "execution_count": null,
   "metadata": {},
   "outputs": [],
   "source": [
    "#ds.to_netcdf('models/tests_ds_GLOBAL_REANALYSIS_PHY_001_030_temp.nc')"
   ]
  },
  {
   "cell_type": "markdown",
   "metadata": {},
   "source": [
    "## Visualisation\n",
    "***"
   ]
  },
  {
   "cell_type": "code",
   "execution_count": null,
   "metadata": {},
   "outputs": [],
   "source": [
    "# for development\n",
    "m = pyxpcm.load_netcdf('models/tests_model_GLOBAL_REANALYSIS_PHY_001_030_temp.nc')\n",
    "ds = xr.open_dataset('models/tests_ds_GLOBAL_REANALYSIS_PHY_001_030_temp.nc')"
   ]
  },
  {
   "cell_type": "code",
   "execution_count": null,
   "metadata": {},
   "outputs": [],
   "source": [
    "P = Plotter(ds, m)"
   ]
  },
  {
   "cell_type": "markdown",
   "metadata": {},
   "source": [
    "#### 1. Vertical structure of classes"
   ]
  },
  {
   "cell_type": "code",
   "execution_count": null,
   "metadata": {},
   "outputs": [],
   "source": [
    "P.vertical_structure(q_variable = temp_var + '_Q', maxcols=4, figsize=(10, 8), sharey=True)\n",
    "#P.vertical_structure(q_variable = temp_var + '_Q', maxcols=4, figsize=(10, 8), sharey=True, ylim=np.array([-2000,0]))\n",
    "P.save_BlueCloud('figures/vertical_struc_EX.png')"
   ]
  },
  {
   "cell_type": "code",
   "execution_count": null,
   "metadata": {},
   "outputs": [],
   "source": [
    "P.vertical_structure_comp(q_variable = temp_var + '_Q', plot_q= 'all')\n",
    "P.save_BlueCloud('figures/vertical_struc_comp_EX.png')"
   ]
  },
  {
   "cell_type": "markdown",
   "metadata": {},
   "source": [
    "#### 2. Spatial distribution of classes"
   ]
  },
  {
   "cell_type": "code",
   "execution_count": null,
   "metadata": {},
   "outputs": [],
   "source": [
    "# TODO: when using isel hours are not good\n",
    "# Input should have only one time step\n",
    "P.spatial_distribution(proj=ccrs.PlateCarree(), \n",
    "                        extent=np.array([-10,40,30,46]) + np.array([-0.1,+0.1,-0.1,+0.1]), \n",
    "                        time_slice=8)\n",
    "\n",
    "P.save_BlueCloud('figures/spatial_distr_EX.png')"
   ]
  },
  {
   "cell_type": "code",
   "execution_count": null,
   "metadata": {},
   "outputs": [],
   "source": [
    "P.spatial_distribution(proj=ccrs.PlateCarree(), \n",
    "                        extent=np.array([-10,40,30,46]) + np.array([-0.1,+0.1,-0.1,+0.1]),\n",
    "                        time_slice='most_freq_label')\n",
    "P.save_BlueCloud('figures/spatial_distr_freq_EX.png')"
   ]
  },
  {
   "cell_type": "markdown",
   "metadata": {},
   "source": [
    "#### 3. Posteriors"
   ]
  },
  {
   "cell_type": "code",
   "execution_count": null,
   "metadata": {},
   "outputs": [],
   "source": [
    "# Input should have only one time step\n",
    "P.plot_posteriors(proj=ccrs.PlateCarree(), extent=np.array([-10,40,30,56]) + np.array([-0.1,+0.1,-0.1,+0.1]), \n",
    "                       time_slice=8)\n",
    "P.save_BlueCloud('figures/posteriors_EX.png')"
   ]
  },
  {
   "cell_type": "markdown",
   "metadata": {},
   "source": [
    "#### 4. Classes pie chart"
   ]
  },
  {
   "cell_type": "code",
   "execution_count": null,
   "metadata": {},
   "outputs": [],
   "source": [
    "P.pie_classes()\n",
    "P.save_BlueCloud('figures/pie_chart_EX.png')"
   ]
  },
  {
   "cell_type": "markdown",
   "metadata": {},
   "source": [
    "#### 5. Temporal representation "
   ]
  },
  {
   "cell_type": "markdown",
   "metadata": {},
   "source": [
    "Bar plot by __month__"
   ]
  },
  {
   "cell_type": "code",
   "execution_count": null,
   "metadata": {},
   "outputs": [],
   "source": [
    "P.temporal_distribution(time_variable = 'time', time_bins = 'month', pond = 'abs')\n",
    "P.save_BlueCloud('figures/temporal_distr_months_EX.png')"
   ]
  },
  {
   "cell_type": "markdown",
   "metadata": {},
   "source": [
    "Bar plot by __month__ (__relative__ number of profiles per month)"
   ]
  },
  {
   "cell_type": "code",
   "execution_count": null,
   "metadata": {},
   "outputs": [],
   "source": [
    "P.temporal_distribution(time_variable = 'time', time_bins = 'month', pond = 'rel')"
   ]
  },
  {
   "cell_type": "markdown",
   "metadata": {},
   "source": [
    "Bar plot by __season__"
   ]
  },
  {
   "cell_type": "code",
   "execution_count": null,
   "metadata": {},
   "outputs": [],
   "source": [
    "P.temporal_distribution(time_variable = 'time', time_bins = 'season', pond = 'rel')\n",
    "P.save_BlueCloud('figures/temporal_distr_season_EX.png')"
   ]
  },
  {
   "cell_type": "code",
   "execution_count": null,
   "metadata": {},
   "outputs": [],
   "source": []
  }
 ],
 "metadata": {
  "celltoolbar": "Tags",
  "kernelspec": {
   "display_name": "Python 3",
   "language": "python",
   "name": "python3"
  },
  "language_info": {
   "codemirror_mode": {
    "name": "ipython",
    "version": 3
   },
   "file_extension": ".py",
   "mimetype": "text/x-python",
   "name": "python",
   "nbconvert_exporter": "python",
   "pygments_lexer": "ipython3",
   "version": "3.7.6"
  }
 },
 "nbformat": 4,
 "nbformat_minor": 4
}
