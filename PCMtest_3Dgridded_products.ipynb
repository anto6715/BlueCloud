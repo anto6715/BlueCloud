{
 "cells": [
  {
   "cell_type": "markdown",
   "metadata": {},
   "source": [
    "# Apply PCM to 3D gridded products"
   ]
  },
  {
   "cell_type": "markdown",
   "metadata": {},
   "source": [
    "Apply PCM method to __3D gridded products__ defined as inputs in BlueCloud project:\n",
    "- GLOBAL-ANALYSIS-FORECAST-PHY-001-024\n",
    "- GLOBAL_REANALYSIS_PHY_001_030\n",
    "- GLOBAL_REANALYSIS_PHY_001_031\n",
    "- GLOBAL_REANALYSIS_BIO_001_029\n",
    "\n",
    "Only data in Mediterranean sea is used. NetCDF files have been downloaded from CMEMS catalogue.\n",
    "Notebook developped in __local__"
   ]
  },
  {
   "cell_type": "code",
   "execution_count": 1,
   "metadata": {},
   "outputs": [],
   "source": [
    "import xarray as xr\n",
    "import numpy as np\n",
    "\n",
    "import pyxpcm\n",
    "from pyxpcm.models import pcm\n",
    "\n",
    "import cartopy.crs as ccrs\n",
    "import cartopy.feature as cfeature\n",
    "import matplotlib.pyplot as plt\n",
    "import matplotlib.colors as mcolors\n",
    "import seaborn as sns\n",
    "\n",
    "import Plotter\n",
    "from Plotter import Plotter #new class for plots in pyxpcm\n",
    "\n",
    "from PIL import Image\n",
    "\n",
    "import importlib"
   ]
  },
  {
   "cell_type": "markdown",
   "metadata": {},
   "source": [
    "## User input\n",
    "***"
   ]
  },
  {
   "cell_type": "markdown",
   "metadata": {},
   "source": [
    "__Choose dataset__"
   ]
  },
  {
   "cell_type": "code",
   "execution_count": 2,
   "metadata": {},
   "outputs": [],
   "source": [
    "#### file path ####\n",
    "\n",
    "# GLOBAL-ANALYSIS-FORECAST-PHY-001-024\n",
    "#file_path = '/export/home1/agarciaj/datasets/global-analysis-forecast-phy-001-024_1598520725098.nc'\n",
    "\n",
    "# GLOBAL_REANALYSIS_PHY_001_030\n",
    "file_path = '/export/home1/agarciaj/datasets/global-reanalysis-phy-001-030-monthly_1598523953615.nc'\n",
    "\n",
    "# GLOBAL_REANALYSIS_PHY_001_031\n",
    "#file_path = '/export/home1/agarciaj/datasets/global-reanalysis-phy-001-031-grepv2-monthly_1598972586332.nc'\n",
    "\n",
    "# GLOBAL_REANALYSIS_BIO_001_029\n",
    "#file_path = '/export/home1/agarciaj/datasets/global-reanalysis-bio-001-029-monthly_1598524945308.nc'\n",
    "\n",
    "\n",
    "# time and coordinates dimensions (expecify then here but use a generic name in the rest of the notebook)\n",
    "time_dim = 'time'\n",
    "lon_dim = 'longitude'\n",
    "let_dim = 'latitude'\n",
    "z_dim = 'depth'\n",
    "temp_var = 'thetao'\n",
    "\n",
    "#temp_var = 'fe'"
   ]
  },
  {
   "cell_type": "markdown",
   "metadata": {},
   "source": [
    "__Model options__"
   ]
  },
  {
   "cell_type": "code",
   "execution_count": 3,
   "metadata": {},
   "outputs": [],
   "source": [
    "#Choise of z and pcm features (very important to make a good choise) \n",
    "z = np.arange(-1.,-2000,-10.)\n",
    "pcm_features = {'temperature': z}\n",
    "#pcm_features = {'iron': z}\n",
    "\n",
    "#classes\n",
    "K=6\n",
    "\n",
    "#fit\n",
    "features_in_ds = {'temperature': temp_var}"
   ]
  },
  {
   "cell_type": "markdown",
   "metadata": {},
   "source": [
    "__Plot options__"
   ]
  },
  {
   "cell_type": "code",
   "execution_count": null,
   "metadata": {},
   "outputs": [],
   "source": []
  },
  {
   "cell_type": "markdown",
   "metadata": {},
   "source": [
    "## Get data\n",
    "***"
   ]
  },
  {
   "cell_type": "markdown",
   "metadata": {},
   "source": [
    "Open data files"
   ]
  },
  {
   "cell_type": "code",
   "execution_count": null,
   "metadata": {},
   "outputs": [],
   "source": [
    "#open data file\n",
    "ds = xr.open_dataset(file_path)\n",
    "ds"
   ]
  },
  {
   "cell_type": "markdown",
   "metadata": {},
   "source": [
    "Depth values should be negative"
   ]
  },
  {
   "cell_type": "code",
   "execution_count": null,
   "metadata": {},
   "outputs": [],
   "source": [
    "#at = ds['depth'].attrs\n",
    "#ds.assign_coords(depth=-np.abs(ds['depth'].values))\n",
    "ds['depth'] = -np.abs(ds['depth'].values)\n",
    "#ds['depth'].attrs.update(at) # not working"
   ]
  },
  {
   "cell_type": "code",
   "execution_count": null,
   "metadata": {},
   "outputs": [],
   "source": [
    "ds"
   ]
  },
  {
   "cell_type": "code",
   "execution_count": null,
   "metadata": {},
   "outputs": [],
   "source": [
    "coords_list = list(ds.coords.keys())\n",
    "coords_list\n",
    "#ds['depth'].attrs"
   ]
  },
  {
   "cell_type": "code",
   "execution_count": null,
   "metadata": {},
   "outputs": [],
   "source": [
    "# make sqeeze before?\n",
    "coords_list = list(ds.coords.keys())\n",
    "\n",
    "coords_dict = {}\n",
    "for c in coords_list:\n",
    "    axis_at = ds[c].attrs.get('axis')\n",
    "    if axis_at == 'Y':\n",
    "        #creates dictionary latitude: c\n",
    "        coords_dict.update({'latitude': c})\n",
    "    if axis_at == 'X':\n",
    "        #creates dictionary longitude: c\n",
    "        coords_dict.update({'longitude': c})\n",
    "    if axis_at == 'T':\n",
    "        #creates dictionay time: c\n",
    "        coords_dict.update({'time': c})\n",
    "    if axis_at == 'Z':\n",
    "        #creates dictionay time: c\n",
    "        coords_dict.update({'depth': c})\n",
    "\n",
    "#check number of variables in dict to assign data_type\n",
    "#if 'latitude' in coords_dict and 'longitude' in coords_dict:\n",
    "#    data_type = 'gridded'\n",
    "#else:\n",
    "#    data_type = 'profiles'\n",
    "    \n",
    "coords_dict\n"
   ]
  },
  {
   "cell_type": "code",
   "execution_count": null,
   "metadata": {},
   "outputs": [],
   "source": [
    "#ds['thetao'].isel(depth=5).plot();\n",
    "ds[temp_var].isel(time=11, depth=5).plot();\n",
    "#ds['o2'].isel(time=11, depth=5).plot();\n",
    "#ds['fe'].isel(time=11, depth=5).plot();"
   ]
  },
  {
   "cell_type": "markdown",
   "metadata": {},
   "source": [
    "<font color=red>__TODO__</font> : Use more tha TEMP variable"
   ]
  },
  {
   "cell_type": "markdown",
   "metadata": {},
   "source": [
    "## Applying PCM\n",
    "***"
   ]
  },
  {
   "cell_type": "markdown",
   "metadata": {},
   "source": [
    "### Create PCM"
   ]
  },
  {
   "cell_type": "code",
   "execution_count": null,
   "metadata": {},
   "outputs": [],
   "source": [
    "#z choise\n",
    "z = ds['depth'][0:20]\n",
    "pcm_features = {'temperature': z}\n",
    "#pcm_features = {'iron': z}\n",
    "\n",
    "m = pcm(K=K, features=pcm_features)\n",
    "m"
   ]
  },
  {
   "cell_type": "code",
   "execution_count": null,
   "metadata": {},
   "outputs": [],
   "source": [
    "ds.depth"
   ]
  },
  {
   "cell_type": "markdown",
   "metadata": {},
   "source": [
    "### Fit Model"
   ]
  },
  {
   "cell_type": "code",
   "execution_count": null,
   "metadata": {},
   "outputs": [],
   "source": [
    "features_in_ds = {'temperature': temp_var}\n",
    "#features_in_ds = {'iron': temp_var}\n",
    "features_zdim=z_dim\n",
    "m.fit(ds, features=features_in_ds, dim=features_zdim)\n",
    "m"
   ]
  },
  {
   "cell_type": "markdown",
   "metadata": {},
   "source": [
    "<font color=red>__TODO__</font> : save all trained PCM in a folder"
   ]
  },
  {
   "cell_type": "code",
   "execution_count": null,
   "metadata": {},
   "outputs": [],
   "source": [
    "# save model to development\n",
    "#m.to_netcdf('models/tests_model_GLOBAL_REANALYSIS_PHY_001_030_temp.nc')"
   ]
  },
  {
   "cell_type": "markdown",
   "metadata": {},
   "source": [
    "### Predict labels"
   ]
  },
  {
   "cell_type": "code",
   "execution_count": null,
   "metadata": {},
   "outputs": [],
   "source": [
    "features_zdim=z_dim\n",
    "m.predict(ds, features=features_in_ds, dim=features_zdim, inplace=True);\n",
    "#ds"
   ]
  },
  {
   "cell_type": "code",
   "execution_count": null,
   "metadata": {},
   "outputs": [],
   "source": [
    "m.predict_proba(ds, features=features_in_ds, dim=features_zdim, inplace=True);\n",
    "#ds"
   ]
  },
  {
   "cell_type": "code",
   "execution_count": null,
   "metadata": {},
   "outputs": [],
   "source": [
    "ds = ds.pyxpcm.quantile(m, q=[0.05, 0.5, 0.95], of=temp_var, outname=temp_var + '_Q', keep_attrs=True, inplace=True)\n",
    "#ds"
   ]
  },
  {
   "cell_type": "code",
   "execution_count": null,
   "metadata": {},
   "outputs": [],
   "source": [
    "#ds.to_netcdf('models/tests_ds_GLOBAL_REANALYSIS_PHY_001_030_temp.nc')"
   ]
  },
  {
   "cell_type": "code",
   "execution_count": null,
   "metadata": {},
   "outputs": [],
   "source": [
    "ds"
   ]
  },
  {
   "cell_type": "markdown",
   "metadata": {},
   "source": [
    "## Visualisation\n",
    "***"
   ]
  },
  {
   "cell_type": "code",
   "execution_count": 4,
   "metadata": {},
   "outputs": [],
   "source": [
    "# for development\n",
    "m = pyxpcm.load_netcdf('models/tests_model_GLOBAL_REANALYSIS_PHY_001_030_temp.nc')\n",
    "ds = xr.open_dataset('models/tests_ds_GLOBAL_REANALYSIS_PHY_001_030_temp.nc')"
   ]
  },
  {
   "cell_type": "code",
   "execution_count": 5,
   "metadata": {},
   "outputs": [],
   "source": [
    "#P = Plotter(ds.squeeze(), m, data_type = 'gridded')\n",
    "P = Plotter(ds, m, data_type = 'gridded')"
   ]
  },
  {
   "cell_type": "markdown",
   "metadata": {},
   "source": [
    "#### 1. Vertical structure of classes"
   ]
  },
  {
   "cell_type": "code",
   "execution_count": null,
   "metadata": {},
   "outputs": [],
   "source": [
    "P.vertical_structure(q_variable = temp_var + '_Q', maxcols=4, figsize=(10, 8), sharey=True)\n",
    "#P.vertical_structure(q_variable = temp_var + '_Q', maxcols=4, figsize=(10, 8), sharey=True, ylim=np.array([-2000,0]))\n",
    "P.save_BlueCloud('figures/tests.png')"
   ]
  },
  {
   "cell_type": "code",
   "execution_count": 7,
   "metadata": {},
   "outputs": [
    {
     "name": "stdout",
     "output_type": "stream",
     "text": [
      "Figure saved in figures/tests_all_profiles.png\n"
     ]
    },
    {
     "data": {
      "image/png": "[encoded data removed]",
      "text/plain": [
       "<Figure size 720x576 with 3 Axes>"
      ]
     },
     "metadata": {},
     "output_type": "display_data"
    }
   ],
   "source": [
    "P.vertical_structure_comp(q_variable = temp_var + '_Q')\n",
    "P.save_BlueCloud('figures/tests_all_profiles.png')"
   ]
  },
  {
   "cell_type": "markdown",
   "metadata": {},
   "source": [
    "#### 2. Spatial distribution of classes"
   ]
  },
  {
   "cell_type": "code",
   "execution_count": null,
   "metadata": {},
   "outputs": [],
   "source": [
    "# TODO: when using isel hours are not good\n",
    "# Input should have only one time step\n",
    "P.spatial_distribution(proj=ccrs.PlateCarree(), \n",
    "                        extent=np.array([-10,40,30,46]) + np.array([-0.1,+0.1,-0.1,+0.1]), \n",
    "                        co = {'latitude':'latitude', 'longitude':'longitude'}, time_slice=8)\n",
    "\n",
    "P.save_BlueCloud('figures/tests.png')"
   ]
  },
  {
   "cell_type": "markdown",
   "metadata": {},
   "source": [
    "#### 3. Posteriors"
   ]
  },
  {
   "cell_type": "code",
   "execution_count": null,
   "metadata": {},
   "outputs": [],
   "source": [
    "# Input should have only one time step\n",
    "P.plot_posteriors(proj=ccrs.PlateCarree(), extent=np.array([-10,40,30,56]) + np.array([-0.1,+0.1,-0.1,+0.1]), \n",
    "                       co = {'latitude':'latitude', 'longitude':'longitude'}, time_slice=8)\n",
    "P.save_BlueCloud('figures/tests.png')"
   ]
  },
  {
   "cell_type": "markdown",
   "metadata": {},
   "source": [
    "#### 4. Temporal representation "
   ]
  },
  {
   "cell_type": "markdown",
   "metadata": {},
   "source": [
    "Simple histogram"
   ]
  },
  {
   "cell_type": "code",
   "execution_count": null,
   "metadata": {},
   "outputs": [],
   "source": [
    "fig, axes = plt.subplots()\n",
    "ds['PCM_LABELS'].plot.hist()\n",
    "# y axis is number of profiles\n",
    "axes.set_ylabel('Number of profiles')\n",
    "plt.show()"
   ]
  },
  {
   "cell_type": "code",
   "execution_count": null,
   "metadata": {},
   "outputs": [],
   "source": [
    "#m.plot.cmap(name='Accent')\n",
    "#m._props['cmap']\n",
    "m._props"
   ]
  },
  {
   "cell_type": "markdown",
   "metadata": {},
   "source": [
    "Bar plot by __month__"
   ]
  },
  {
   "cell_type": "code",
   "execution_count": null,
   "metadata": {},
   "outputs": [],
   "source": [
    "P.temporal_distribution(time_variable = 'time', time_bins = 'month', pond = 'abs')\n",
    "P.save_BlueCloud('figures/test.png')"
   ]
  },
  {
   "cell_type": "markdown",
   "metadata": {},
   "source": [
    "Bar plot by __month__ (__relative__ number of profiles per month)"
   ]
  },
  {
   "cell_type": "code",
   "execution_count": null,
   "metadata": {},
   "outputs": [],
   "source": [
    "P.temporal_distribution(time_variable = 'time', time_bins = 'month', pond = 'rel')"
   ]
  },
  {
   "cell_type": "markdown",
   "metadata": {},
   "source": [
    "Bar plot by __season__"
   ]
  },
  {
   "cell_type": "code",
   "execution_count": null,
   "metadata": {},
   "outputs": [],
   "source": [
    "P.temporal_distribution(time_variable = 'time', time_bins = 'season', pond = 'rel')\n",
    "P.save_BlueCloud('figures/tests.png')"
   ]
  },
  {
   "cell_type": "code",
   "execution_count": null,
   "metadata": {},
   "outputs": [],
   "source": [
    "np.arange(0.5,12.5)"
   ]
  },
  {
   "cell_type": "code",
   "execution_count": null,
   "metadata": {},
   "outputs": [],
   "source": []
  }
 ],
 "metadata": {
  "kernelspec": {
   "display_name": "Python 3",
   "language": "python",
   "name": "python3"
  },
  "language_info": {
   "codemirror_mode": {
    "name": "ipython",
    "version": 3
   },
   "file_extension": ".py",
   "mimetype": "text/x-python",
   "name": "python",
   "nbconvert_exporter": "python",
   "pygments_lexer": "ipython3",
   "version": "3.7.6"
  }
 },
 "nbformat": 4,
 "nbformat_minor": 4
}
