{
 "cells": [
  {
   "cell_type": "markdown",
   "metadata": {},
   "source": [
    "# PCM development notebook"
   ]
  },
  {
   "cell_type": "markdown",
   "metadata": {},
   "source": [
    "The aim of this notebook is to create a PCM model and train it with a dataset. Some figures that could help to PCM model development are also plotted.\n",
    "__TODO__: explain more (pyxpcm, where to find some exemples of models or datasets) and logos "
   ]
  },
  {
   "cell_type": "code",
   "execution_count": 1,
   "metadata": {},
   "outputs": [],
   "source": [
    "import xarray as xr\n",
    "import numpy as np\n",
    "\n",
    "import pyxpcm\n",
    "from pyxpcm.models import pcm\n",
    "\n",
    "import cartopy.crs as ccrs\n",
    "import cartopy.feature as cfeature\n",
    "import matplotlib.pyplot as plt\n",
    "import matplotlib.colors as mcolors\n",
    "import seaborn as sns\n",
    "\n",
    "import Plotter\n",
    "from Plotter import Plotter #new class for plots in pyxpcm\n",
    "\n",
    "from PIL import Image\n",
    "\n",
    "import importlib"
   ]
  },
  {
   "cell_type": "markdown",
   "metadata": {},
   "source": [
    "## User input\n",
    "***"
   ]
  },
  {
   "cell_type": "markdown",
   "metadata": {},
   "source": [
    "__Choose dataset__"
   ]
  },
  {
   "cell_type": "code",
   "execution_count": 2,
   "metadata": {},
   "outputs": [],
   "source": [
    "#### file path ####\n",
    "\n",
    "# GLOBAL-ANALYSIS-FORECAST-PHY-001-024\n",
    "#file_path = '/export/home1/agarciaj/datasets/global-analysis-forecast-phy-001-024_1598520725098.nc'\n",
    "\n",
    "# GLOBAL_REANALYSIS_PHY_001_030\n",
    "#file_path = '/export/home1/agarciaj/datasets/global-reanalysis-phy-001-030-monthly_1600874641188_caribe.nc'\n",
    "#file_path = '/export/home1/agarciaj/datasets/global-reanalysis-phy-001-030-monthly_1601036810235.nc'\n",
    "\n",
    "# GLOBAL_REANALYSIS_PHY_001_031\n",
    "file_path = '/export/home1/agarciaj/datasets/global-reanalysis-phy-001-031-grepv2-monthly_1598972586332.nc'\n",
    "\n",
    "# GLOBAL_REANALYSIS_BIO_001_029\n",
    "#file_path = '/export/home1/agarciaj/datasets/global-reanalysis-bio-001-029-monthly_1598524945308.nc'"
   ]
  },
  {
   "cell_type": "markdown",
   "metadata": {},
   "source": [
    "Variables names in dataset (__TODO__: find an elegant way to do that)"
   ]
  },
  {
   "cell_type": "code",
   "execution_count": 3,
   "metadata": {},
   "outputs": [],
   "source": [
    "# time and coordinates dimensions (expecify then here but use a generic name in the rest of the notebook)\n",
    "time_dim = 'time'\n",
    "lon_dim = 'longitude'\n",
    "lat_dim = 'latitude'\n",
    "z_dim = 'depth'\n",
    "var_name = 'thetao_oras' #temp_var = 'fe'"
   ]
  },
  {
   "cell_type": "markdown",
   "metadata": {},
   "source": [
    "__Model options__"
   ]
  },
  {
   "cell_type": "code",
   "execution_count": 4,
   "metadata": {},
   "outputs": [],
   "source": [
    "#Choise of z and pcm features (very important to make a good choise) \n",
    "z = np.arange(-1.,-2000,-10.)\n",
    "pcm_features = {'temperature': z} #pcm_features = {'iron': z}\n",
    "# {variable name in model: variable name in dataset}\n",
    "features_in_ds = {'temperature': var_name}\n",
    "\n",
    "# number of classes\n",
    "K=6"
   ]
  },
  {
   "cell_type": "markdown",
   "metadata": {},
   "source": [
    "__Plot options__"
   ]
  },
  {
   "cell_type": "code",
   "execution_count": null,
   "metadata": {},
   "outputs": [],
   "source": []
  },
  {
   "cell_type": "markdown",
   "metadata": {},
   "source": [
    "## Load training dataset\n",
    "***"
   ]
  },
  {
   "cell_type": "code",
   "execution_count": 5,
   "metadata": {},
   "outputs": [
    {
     "data": {
      "text/html": [
       "<div><svg style=\"position: absolute; width: 0; height: 0; overflow: hidden\">\n",
       "<defs>\n",
       "<symbol id=\"icon-database\" viewBox=\"0 0 32 32\">\n",
       "<path d=\"M16 0c-8.837 0-16 2.239-16 5v4c0 2.761 7.163 5 16 5s16-2.239 16-5v-4c0-2.761-7.163-5-16-5z\"></path>\n",
       "<path d=\"M16 17c-8.837 0-16-2.239-16-5v6c0 2.761 7.163 5 16 5s16-2.239 16-5v-6c0 2.761-7.163 5-16 5z\"></path>\n",
       "<path d=\"M16 26c-8.837 0-16-2.239-16-5v6c0 2.761 7.163 5 16 5s16-2.239 16-5v-6c0 2.761-7.163 5-16 5z\"></path>\n",
       "</symbol>\n",
       "<symbol id=\"icon-file-text2\" viewBox=\"0 0 32 32\">\n",
       "<path d=\"M28.681 7.159c-0.694-0.947-1.662-2.053-2.724-3.116s-2.169-2.030-3.116-2.724c-1.612-1.182-2.393-1.319-2.841-1.319h-15.5c-1.378 0-2.5 1.121-2.5 2.5v27c0 1.378 1.122 2.5 2.5 2.5h23c1.378 0 2.5-1.122 2.5-2.5v-19.5c0-0.448-0.137-1.23-1.319-2.841zM24.543 5.457c0.959 0.959 1.712 1.825 2.268 2.543h-4.811v-4.811c0.718 0.556 1.584 1.309 2.543 2.268zM28 29.5c0 0.271-0.229 0.5-0.5 0.5h-23c-0.271 0-0.5-0.229-0.5-0.5v-27c0-0.271 0.229-0.5 0.5-0.5 0 0 15.499-0 15.5 0v7c0 0.552 0.448 1 1 1h7v19.5z\"></path>\n",
       "<path d=\"M23 26h-14c-0.552 0-1-0.448-1-1s0.448-1 1-1h14c0.552 0 1 0.448 1 1s-0.448 1-1 1z\"></path>\n",
       "<path d=\"M23 22h-14c-0.552 0-1-0.448-1-1s0.448-1 1-1h14c0.552 0 1 0.448 1 1s-0.448 1-1 1z\"></path>\n",
       "<path d=\"M23 18h-14c-0.552 0-1-0.448-1-1s0.448-1 1-1h14c0.552 0 1 0.448 1 1s-0.448 1-1 1z\"></path>\n",
       "</symbol>\n",
       "</defs>\n",
       "</svg>\n",
       "<style>/* CSS stylesheet for displaying xarray objects in jupyterlab.\n",
       " *\n",
       " */\n",
       "\n",
       ":root {\n",
       "  --xr-font-color0: var(--jp-content-font-color0, rgba(0, 0, 0, 1));\n",
       "  --xr-font-color2: var(--jp-content-font-color2, rgba(0, 0, 0, 0.54));\n",
       "  --xr-font-color3: var(--jp-content-font-color3, rgba(0, 0, 0, 0.38));\n",
       "  --xr-border-color: var(--jp-border-color2, #e0e0e0);\n",
       "  --xr-disabled-color: var(--jp-layout-color3, #bdbdbd);\n",
       "  --xr-background-color: var(--jp-layout-color0, white);\n",
       "  --xr-background-color-row-even: var(--jp-layout-color1, white);\n",
       "  --xr-background-color-row-odd: var(--jp-layout-color2, #eeeeee);\n",
       "}\n",
       "\n",
       "html[theme=dark],\n",
       "body.vscode-dark {\n",
       "  --xr-font-color0: rgba(255, 255, 255, 1);\n",
       "  --xr-font-color2: rgba(255, 255, 255, 0.54);\n",
       "  --xr-font-color3: rgba(255, 255, 255, 0.38);\n",
       "  --xr-border-color: #1F1F1F;\n",
       "  --xr-disabled-color: #515151;\n",
       "  --xr-background-color: #111111;\n",
       "  --xr-background-color-row-even: #111111;\n",
       "  --xr-background-color-row-odd: #313131;\n",
       "}\n",
       "\n",
       ".xr-wrap {\n",
       "  display: block;\n",
       "  min-width: 300px;\n",
       "  max-width: 700px;\n",
       "}\n",
       "\n",
       ".xr-text-repr-fallback {\n",
       "  /* fallback to plain text repr when CSS is not injected (untrusted notebook) */\n",
       "  display: none;\n",
       "}\n",
       "\n",
       ".xr-header {\n",
       "  padding-top: 6px;\n",
       "  padding-bottom: 6px;\n",
       "  margin-bottom: 4px;\n",
       "  border-bottom: solid 1px var(--xr-border-color);\n",
       "}\n",
       "\n",
       ".xr-header > div,\n",
       ".xr-header > ul {\n",
       "  display: inline;\n",
       "  margin-top: 0;\n",
       "  margin-bottom: 0;\n",
       "}\n",
       "\n",
       ".xr-obj-type,\n",
       ".xr-array-name {\n",
       "  margin-left: 2px;\n",
       "  margin-right: 10px;\n",
       "}\n",
       "\n",
       ".xr-obj-type {\n",
       "  color: var(--xr-font-color2);\n",
       "}\n",
       "\n",
       ".xr-sections {\n",
       "  padding-left: 0 !important;\n",
       "  display: grid;\n",
       "  grid-template-columns: 150px auto auto 1fr 20px 20px;\n",
       "}\n",
       "\n",
       ".xr-section-item {\n",
       "  display: contents;\n",
       "}\n",
       "\n",
       ".xr-section-item input {\n",
       "  display: none;\n",
       "}\n",
       "\n",
       ".xr-section-item input + label {\n",
       "  color: var(--xr-disabled-color);\n",
       "}\n",
       "\n",
       ".xr-section-item input:enabled + label {\n",
       "  cursor: pointer;\n",
       "  color: var(--xr-font-color2);\n",
       "}\n",
       "\n",
       ".xr-section-item input:enabled + label:hover {\n",
       "  color: var(--xr-font-color0);\n",
       "}\n",
       "\n",
       ".xr-section-summary {\n",
       "  grid-column: 1;\n",
       "  color: var(--xr-font-color2);\n",
       "  font-weight: 500;\n",
       "}\n",
       "\n",
       ".xr-section-summary > span {\n",
       "  display: inline-block;\n",
       "  padding-left: 0.5em;\n",
       "}\n",
       "\n",
       ".xr-section-summary-in:disabled + label {\n",
       "  color: var(--xr-font-color2);\n",
       "}\n",
       "\n",
       ".xr-section-summary-in + label:before {\n",
       "  display: inline-block;\n",
       "  content: '►';\n",
       "  font-size: 11px;\n",
       "  width: 15px;\n",
       "  text-align: center;\n",
       "}\n",
       "\n",
       ".xr-section-summary-in:disabled + label:before {\n",
       "  color: var(--xr-disabled-color);\n",
       "}\n",
       "\n",
       ".xr-section-summary-in:checked + label:before {\n",
       "  content: '▼';\n",
       "}\n",
       "\n",
       ".xr-section-summary-in:checked + label > span {\n",
       "  display: none;\n",
       "}\n",
       "\n",
       ".xr-section-summary,\n",
       ".xr-section-inline-details {\n",
       "  padding-top: 4px;\n",
       "  padding-bottom: 4px;\n",
       "}\n",
       "\n",
       ".xr-section-inline-details {\n",
       "  grid-column: 2 / -1;\n",
       "}\n",
       "\n",
       ".xr-section-details {\n",
       "  display: none;\n",
       "  grid-column: 1 / -1;\n",
       "  margin-bottom: 5px;\n",
       "}\n",
       "\n",
       ".xr-section-summary-in:checked ~ .xr-section-details {\n",
       "  display: contents;\n",
       "}\n",
       "\n",
       ".xr-array-wrap {\n",
       "  grid-column: 1 / -1;\n",
       "  display: grid;\n",
       "  grid-template-columns: 20px auto;\n",
       "}\n",
       "\n",
       ".xr-array-wrap > label {\n",
       "  grid-column: 1;\n",
       "  vertical-align: top;\n",
       "}\n",
       "\n",
       ".xr-preview {\n",
       "  color: var(--xr-font-color3);\n",
       "}\n",
       "\n",
       ".xr-array-preview,\n",
       ".xr-array-data {\n",
       "  padding: 0 5px !important;\n",
       "  grid-column: 2;\n",
       "}\n",
       "\n",
       ".xr-array-data,\n",
       ".xr-array-in:checked ~ .xr-array-preview {\n",
       "  display: none;\n",
       "}\n",
       "\n",
       ".xr-array-in:checked ~ .xr-array-data,\n",
       ".xr-array-preview {\n",
       "  display: inline-block;\n",
       "}\n",
       "\n",
       ".xr-dim-list {\n",
       "  display: inline-block !important;\n",
       "  list-style: none;\n",
       "  padding: 0 !important;\n",
       "  margin: 0;\n",
       "}\n",
       "\n",
       ".xr-dim-list li {\n",
       "  display: inline-block;\n",
       "  padding: 0;\n",
       "  margin: 0;\n",
       "}\n",
       "\n",
       ".xr-dim-list:before {\n",
       "  content: '(';\n",
       "}\n",
       "\n",
       ".xr-dim-list:after {\n",
       "  content: ')';\n",
       "}\n",
       "\n",
       ".xr-dim-list li:not(:last-child):after {\n",
       "  content: ',';\n",
       "  padding-right: 5px;\n",
       "}\n",
       "\n",
       ".xr-has-index {\n",
       "  font-weight: bold;\n",
       "}\n",
       "\n",
       ".xr-var-list,\n",
       ".xr-var-item {\n",
       "  display: contents;\n",
       "}\n",
       "\n",
       ".xr-var-item > div,\n",
       ".xr-var-item label,\n",
       ".xr-var-item > .xr-var-name span {\n",
       "  background-color: var(--xr-background-color-row-even);\n",
       "  margin-bottom: 0;\n",
       "}\n",
       "\n",
       ".xr-var-item > .xr-var-name:hover span {\n",
       "  padding-right: 5px;\n",
       "}\n",
       "\n",
       ".xr-var-list > li:nth-child(odd) > div,\n",
       ".xr-var-list > li:nth-child(odd) > label,\n",
       ".xr-var-list > li:nth-child(odd) > .xr-var-name span {\n",
       "  background-color: var(--xr-background-color-row-odd);\n",
       "}\n",
       "\n",
       ".xr-var-name {\n",
       "  grid-column: 1;\n",
       "}\n",
       "\n",
       ".xr-var-dims {\n",
       "  grid-column: 2;\n",
       "}\n",
       "\n",
       ".xr-var-dtype {\n",
       "  grid-column: 3;\n",
       "  text-align: right;\n",
       "  color: var(--xr-font-color2);\n",
       "}\n",
       "\n",
       ".xr-var-preview {\n",
       "  grid-column: 4;\n",
       "}\n",
       "\n",
       ".xr-var-name,\n",
       ".xr-var-dims,\n",
       ".xr-var-dtype,\n",
       ".xr-preview,\n",
       ".xr-attrs dt {\n",
       "  white-space: nowrap;\n",
       "  overflow: hidden;\n",
       "  text-overflow: ellipsis;\n",
       "  padding-right: 10px;\n",
       "}\n",
       "\n",
       ".xr-var-name:hover,\n",
       ".xr-var-dims:hover,\n",
       ".xr-var-dtype:hover,\n",
       ".xr-attrs dt:hover {\n",
       "  overflow: visible;\n",
       "  width: auto;\n",
       "  z-index: 1;\n",
       "}\n",
       "\n",
       ".xr-var-attrs,\n",
       ".xr-var-data {\n",
       "  display: none;\n",
       "  background-color: var(--xr-background-color) !important;\n",
       "  padding-bottom: 5px !important;\n",
       "}\n",
       "\n",
       ".xr-var-attrs-in:checked ~ .xr-var-attrs,\n",
       ".xr-var-data-in:checked ~ .xr-var-data {\n",
       "  display: block;\n",
       "}\n",
       "\n",
       ".xr-var-data > table {\n",
       "  float: right;\n",
       "}\n",
       "\n",
       ".xr-var-name span,\n",
       ".xr-var-data,\n",
       ".xr-attrs {\n",
       "  padding-left: 25px !important;\n",
       "}\n",
       "\n",
       ".xr-attrs,\n",
       ".xr-var-attrs,\n",
       ".xr-var-data {\n",
       "  grid-column: 1 / -1;\n",
       "}\n",
       "\n",
       "dl.xr-attrs {\n",
       "  padding: 0;\n",
       "  margin: 0;\n",
       "  display: grid;\n",
       "  grid-template-columns: 125px auto;\n",
       "}\n",
       "\n",
       ".xr-attrs dt, dd {\n",
       "  padding: 0;\n",
       "  margin: 0;\n",
       "  float: left;\n",
       "  padding-right: 10px;\n",
       "  width: auto;\n",
       "}\n",
       "\n",
       ".xr-attrs dt {\n",
       "  font-weight: normal;\n",
       "  grid-column: 1;\n",
       "}\n",
       "\n",
       ".xr-attrs dt:hover span {\n",
       "  display: inline-block;\n",
       "  background: var(--xr-background-color);\n",
       "  padding-right: 10px;\n",
       "}\n",
       "\n",
       ".xr-attrs dd {\n",
       "  grid-column: 2;\n",
       "  white-space: pre-wrap;\n",
       "  word-break: break-all;\n",
       "}\n",
       "\n",
       ".xr-icon-database,\n",
       ".xr-icon-file-text2 {\n",
       "  display: inline-block;\n",
       "  vertical-align: middle;\n",
       "  width: 1em;\n",
       "  height: 1.5em !important;\n",
       "  stroke-width: 0;\n",
       "  stroke: currentColor;\n",
       "  fill: currentColor;\n",
       "}\n",
       "</style><pre class='xr-text-repr-fallback'>&lt;xarray.Dataset&gt;\n",
       "Dimensions:      (depth: 75, latitude: 69, longitude: 197, time: 12)\n",
       "Coordinates:\n",
       "  * latitude     (latitude) float32 30.0 30.25 30.5 30.75 ... 46.5 46.75 47.0\n",
       "  * longitude    (longitude) float32 -6.0 -5.75 -5.5 -5.25 ... 42.5 42.75 43.0\n",
       "  * depth        (depth) float32 -0.50576 -1.555855 ... -5698.061 -5902.058\n",
       "  * time         (time) datetime64[ns] 2017-01-16 ... 2017-12-13T12:00:00\n",
       "Data variables:\n",
       "    zos_glor     (time, latitude, longitude) float32 ...\n",
       "    uo_glor      (time, depth, latitude, longitude) float32 ...\n",
       "    so_glor      (time, depth, latitude, longitude) float32 ...\n",
       "    uo_oras      (time, depth, latitude, longitude) float32 ...\n",
       "    vo_foam      (time, depth, latitude, longitude) float32 ...\n",
       "    so_cglo      (time, depth, latitude, longitude) float32 ...\n",
       "    mlotst_foam  (time, latitude, longitude) float32 ...\n",
       "    thetao_oras  (time, depth, latitude, longitude) float32 ...\n",
       "    mlotst_cglo  (time, latitude, longitude) float32 ...\n",
       "    zos_oras     (time, latitude, longitude) float32 ...\n",
       "    thetao_cglo  (time, depth, latitude, longitude) float32 ...\n",
       "    so_oras      (time, depth, latitude, longitude) float32 ...\n",
       "    vo_cglo      (time, depth, latitude, longitude) float32 ...\n",
       "    uo_cglo      (time, depth, latitude, longitude) float32 ...\n",
       "    zos_cglo     (time, latitude, longitude) float32 ...\n",
       "    vo_oras      (time, depth, latitude, longitude) float32 ...\n",
       "    thetao_glor  (time, depth, latitude, longitude) float32 ...\n",
       "    mlotst_oras  (time, latitude, longitude) float32 ...\n",
       "    thetao_foam  (time, depth, latitude, longitude) float32 ...\n",
       "    uo_foam      (time, depth, latitude, longitude) float32 ...\n",
       "    mlotst_glor  (time, latitude, longitude) float32 ...\n",
       "    so_foam      (time, depth, latitude, longitude) float32 ...\n",
       "    vo_glor      (time, depth, latitude, longitude) float32 ...\n",
       "    zos_foam     (time, latitude, longitude) float32 ...\n",
       "Attributes:\n",
       "    product:                       GLOBAL_REANALYSIS_PHY_001_031\n",
       "    producer:                      CMEMS - Global Monitoring and Forecasting ...\n",
       "    area:                          Global\n",
       "    quality_information_document:  http://marine.copernicus.eu/documents/QUID...\n",
       "    Conventions:                   CF-1.6\n",
       "    credit:                        E.U. Copernicus Marine Service Information...\n",
       "    contact:                       servicedesk.cmems@mercator-ocean.eu\n",
       "    references:                    http://marine.copernicus.eu\n",
       "    licence:                       http://marine.copernicus.eu/services-portf...\n",
       "    institution:                   Mercator Ocean\n",
       "    product_user_manual:           http://marine.copernicus.eu/documents/PUM/...\n",
       "    history:                       Creation 2020-MAY-20 08:00:00 GMT+0200\n",
       "    title:                         Monthly mean fields for product GLOBAL_REA...\n",
       "    dataset:                       global-reanalysis-phy-001-031-grepv2-monthly\n",
       "    source:                        Copernicus Marine Service\n",
       "    _CoordSysBuilder:              ucar.nc2.dataset.conv.CF1Convention\n",
       "    comment:                       </pre><div class='xr-wrap' hidden><div class='xr-header'><div class='xr-obj-type'>xarray.Dataset</div></div><ul class='xr-sections'><li class='xr-section-item'><input id='section-6293a49f-6310-4a0e-90c6-674ab6440fe1' class='xr-section-summary-in' type='checkbox' disabled ><label for='section-6293a49f-6310-4a0e-90c6-674ab6440fe1' class='xr-section-summary'  title='Expand/collapse section'>Dimensions:</label><div class='xr-section-inline-details'><ul class='xr-dim-list'><li><span class='xr-has-index'>depth</span>: 75</li><li><span class='xr-has-index'>latitude</span>: 69</li><li><span class='xr-has-index'>longitude</span>: 197</li><li><span class='xr-has-index'>time</span>: 12</li></ul></div><div class='xr-section-details'></div></li><li class='xr-section-item'><input id='section-d5365403-eb40-4a76-9807-45f23b15da91' class='xr-section-summary-in' type='checkbox'  checked><label for='section-d5365403-eb40-4a76-9807-45f23b15da91' class='xr-section-summary' >Coordinates: <span>(4)</span></label><div class='xr-section-inline-details'></div><div class='xr-section-details'><ul class='xr-var-list'><li class='xr-var-item'><div class='xr-var-name'><span class='xr-has-index'>latitude</span></div><div class='xr-var-dims'>(latitude)</div><div class='xr-var-dtype'>float32</div><div class='xr-var-preview xr-preview'>30.0 30.25 30.5 ... 46.5 46.75 47.0</div><input id='attrs-d59e20cf-39c5-452a-b737-2b667e88a322' class='xr-var-attrs-in' type='checkbox' ><label for='attrs-d59e20cf-39c5-452a-b737-2b667e88a322' title='Show/Hide attributes'><svg class='icon xr-icon-file-text2'><use xlink:href='#icon-file-text2'></use></svg></label><input id='data-8bdd53eb-4415-4ae0-86a2-3fd193342b59' class='xr-var-data-in' type='checkbox'><label for='data-8bdd53eb-4415-4ae0-86a2-3fd193342b59' title='Show/Hide data repr'><svg class='icon xr-icon-database'><use xlink:href='#icon-database'></use></svg></label><div class='xr-var-attrs'><dl class='xr-attrs'><dt><span>valid_min :</span></dt><dd>30.0</dd><dt><span>valid_max :</span></dt><dd>47.0</dd><dt><span>step :</span></dt><dd>0.25</dd><dt><span>units :</span></dt><dd>degrees_north</dd><dt><span>unit_long :</span></dt><dd>Degrees North</dd><dt><span>long_name :</span></dt><dd>Latitude</dd><dt><span>standard_name :</span></dt><dd>latitude</dd><dt><span>axis :</span></dt><dd>Y</dd><dt><span>_ChunkSizes :</span></dt><dd>681</dd><dt><span>_CoordinateAxisType :</span></dt><dd>Lat</dd></dl></div><div class='xr-var-data'><pre>array([30.  , 30.25, 30.5 , 30.75, 31.  , 31.25, 31.5 , 31.75, 32.  , 32.25,\n",
       "       32.5 , 32.75, 33.  , 33.25, 33.5 , 33.75, 34.  , 34.25, 34.5 , 34.75,\n",
       "       35.  , 35.25, 35.5 , 35.75, 36.  , 36.25, 36.5 , 36.75, 37.  , 37.25,\n",
       "       37.5 , 37.75, 38.  , 38.25, 38.5 , 38.75, 39.  , 39.25, 39.5 , 39.75,\n",
       "       40.  , 40.25, 40.5 , 40.75, 41.  , 41.25, 41.5 , 41.75, 42.  , 42.25,\n",
       "       42.5 , 42.75, 43.  , 43.25, 43.5 , 43.75, 44.  , 44.25, 44.5 , 44.75,\n",
       "       45.  , 45.25, 45.5 , 45.75, 46.  , 46.25, 46.5 , 46.75, 47.  ],\n",
       "      dtype=float32)</pre></div></li><li class='xr-var-item'><div class='xr-var-name'><span class='xr-has-index'>longitude</span></div><div class='xr-var-dims'>(longitude)</div><div class='xr-var-dtype'>float32</div><div class='xr-var-preview xr-preview'>-6.0 -5.75 -5.5 ... 42.5 42.75 43.0</div><input id='attrs-6b7fb17b-22a3-4a81-9541-7e0bd307c9e4' class='xr-var-attrs-in' type='checkbox' ><label for='attrs-6b7fb17b-22a3-4a81-9541-7e0bd307c9e4' title='Show/Hide attributes'><svg class='icon xr-icon-file-text2'><use xlink:href='#icon-file-text2'></use></svg></label><input id='data-131fdc67-9b2f-4dd2-b49a-8e3799724eb9' class='xr-var-data-in' type='checkbox'><label for='data-131fdc67-9b2f-4dd2-b49a-8e3799724eb9' title='Show/Hide data repr'><svg class='icon xr-icon-database'><use xlink:href='#icon-database'></use></svg></label><div class='xr-var-attrs'><dl class='xr-attrs'><dt><span>valid_min :</span></dt><dd>-6.0</dd><dt><span>valid_max :</span></dt><dd>43.0</dd><dt><span>step :</span></dt><dd>0.25</dd><dt><span>units :</span></dt><dd>degrees_east</dd><dt><span>unit_long :</span></dt><dd>Degrees East</dd><dt><span>long_name :</span></dt><dd>Longitude</dd><dt><span>standard_name :</span></dt><dd>longitude</dd><dt><span>axis :</span></dt><dd>X</dd><dt><span>_ChunkSizes :</span></dt><dd>1440</dd><dt><span>_CoordinateAxisType :</span></dt><dd>Lon</dd></dl></div><div class='xr-var-data'><pre>array([-6.  , -5.75, -5.5 , -5.25, -5.  , -4.75, -4.5 , -4.25, -4.  , -3.75,\n",
       "       -3.5 , -3.25, -3.  , -2.75, -2.5 , -2.25, -2.  , -1.75, -1.5 , -1.25,\n",
       "       -1.  , -0.75, -0.5 , -0.25,  0.  ,  0.25,  0.5 ,  0.75,  1.  ,  1.25,\n",
       "        1.5 ,  1.75,  2.  ,  2.25,  2.5 ,  2.75,  3.  ,  3.25,  3.5 ,  3.75,\n",
       "        4.  ,  4.25,  4.5 ,  4.75,  5.  ,  5.25,  5.5 ,  5.75,  6.  ,  6.25,\n",
       "        6.5 ,  6.75,  7.  ,  7.25,  7.5 ,  7.75,  8.  ,  8.25,  8.5 ,  8.75,\n",
       "        9.  ,  9.25,  9.5 ,  9.75, 10.  , 10.25, 10.5 , 10.75, 11.  , 11.25,\n",
       "       11.5 , 11.75, 12.  , 12.25, 12.5 , 12.75, 13.  , 13.25, 13.5 , 13.75,\n",
       "       14.  , 14.25, 14.5 , 14.75, 15.  , 15.25, 15.5 , 15.75, 16.  , 16.25,\n",
       "       16.5 , 16.75, 17.  , 17.25, 17.5 , 17.75, 18.  , 18.25, 18.5 , 18.75,\n",
       "       19.  , 19.25, 19.5 , 19.75, 20.  , 20.25, 20.5 , 20.75, 21.  , 21.25,\n",
       "       21.5 , 21.75, 22.  , 22.25, 22.5 , 22.75, 23.  , 23.25, 23.5 , 23.75,\n",
       "       24.  , 24.25, 24.5 , 24.75, 25.  , 25.25, 25.5 , 25.75, 26.  , 26.25,\n",
       "       26.5 , 26.75, 27.  , 27.25, 27.5 , 27.75, 28.  , 28.25, 28.5 , 28.75,\n",
       "       29.  , 29.25, 29.5 , 29.75, 30.  , 30.25, 30.5 , 30.75, 31.  , 31.25,\n",
       "       31.5 , 31.75, 32.  , 32.25, 32.5 , 32.75, 33.  , 33.25, 33.5 , 33.75,\n",
       "       34.  , 34.25, 34.5 , 34.75, 35.  , 35.25, 35.5 , 35.75, 36.  , 36.25,\n",
       "       36.5 , 36.75, 37.  , 37.25, 37.5 , 37.75, 38.  , 38.25, 38.5 , 38.75,\n",
       "       39.  , 39.25, 39.5 , 39.75, 40.  , 40.25, 40.5 , 40.75, 41.  , 41.25,\n",
       "       41.5 , 41.75, 42.  , 42.25, 42.5 , 42.75, 43.  ], dtype=float32)</pre></div></li><li class='xr-var-item'><div class='xr-var-name'><span class='xr-has-index'>depth</span></div><div class='xr-var-dims'>(depth)</div><div class='xr-var-dtype'>float32</div><div class='xr-var-preview xr-preview'>-0.50576 -1.555855 ... -5902.058</div><input id='attrs-a74b05c2-b150-43a8-aa56-65d06190aaa6' class='xr-var-attrs-in' type='checkbox' ><label for='attrs-a74b05c2-b150-43a8-aa56-65d06190aaa6' title='Show/Hide attributes'><svg class='icon xr-icon-file-text2'><use xlink:href='#icon-file-text2'></use></svg></label><input id='data-0c0946d2-e1e6-4bd5-aed7-d69572877961' class='xr-var-data-in' type='checkbox'><label for='data-0c0946d2-e1e6-4bd5-aed7-d69572877961' title='Show/Hide data repr'><svg class='icon xr-icon-database'><use xlink:href='#icon-database'></use></svg></label><div class='xr-var-attrs'><dl class='xr-attrs'><dt><span>axis :</span></dt><dd>Z</dd></dl></div><div class='xr-var-data'><pre>array([-5.057600e-01, -1.555855e+00, -2.667682e+00, -3.856280e+00,\n",
       "       -5.140361e+00, -6.543034e+00, -8.092519e+00, -9.822750e+00,\n",
       "       -1.177368e+01, -1.399104e+01, -1.652532e+01, -1.942980e+01,\n",
       "       -2.275762e+01, -2.655830e+01, -3.087456e+01, -3.574020e+01,\n",
       "       -4.118002e+01, -4.721189e+01, -5.385064e+01, -6.111284e+01,\n",
       "       -6.902168e+01, -7.761116e+01, -8.692943e+01, -9.704131e+01,\n",
       "       -1.080303e+02, -1.200000e+02, -1.330758e+02, -1.474062e+02,\n",
       "       -1.631645e+02, -1.805499e+02, -1.997900e+02, -2.211412e+02,\n",
       "       -2.448906e+02, -2.713564e+02, -3.008875e+02, -3.338628e+02,\n",
       "       -3.706885e+02, -4.117939e+02, -4.576256e+02, -5.086399e+02,\n",
       "       -5.652923e+02, -6.280260e+02, -6.972587e+02, -7.733683e+02,\n",
       "       -8.566790e+02, -9.474479e+02, -1.045854e+03, -1.151991e+03,\n",
       "       -1.265861e+03, -1.387377e+03, -1.516364e+03, -1.652568e+03,\n",
       "       -1.795671e+03, -1.945296e+03, -2.101027e+03, -2.262422e+03,\n",
       "       -2.429025e+03, -2.600380e+03, -2.776039e+03, -2.955570e+03,\n",
       "       -3.138565e+03, -3.324641e+03, -3.513446e+03, -3.704657e+03,\n",
       "       -3.897982e+03, -4.093159e+03, -4.289953e+03, -4.488155e+03,\n",
       "       -4.687581e+03, -4.888070e+03, -5.089479e+03, -5.291683e+03,\n",
       "       -5.494575e+03, -5.698061e+03, -5.902058e+03], dtype=float32)</pre></div></li><li class='xr-var-item'><div class='xr-var-name'><span class='xr-has-index'>time</span></div><div class='xr-var-dims'>(time)</div><div class='xr-var-dtype'>datetime64[ns]</div><div class='xr-var-preview xr-preview'>2017-01-16 ... 2017-12-13T12:00:00</div><input id='attrs-67e5010f-a864-4b74-89d1-e12dee339493' class='xr-var-attrs-in' type='checkbox' ><label for='attrs-67e5010f-a864-4b74-89d1-e12dee339493' title='Show/Hide attributes'><svg class='icon xr-icon-file-text2'><use xlink:href='#icon-file-text2'></use></svg></label><input id='data-158aeae3-fd25-445a-8187-19d3a53aa610' class='xr-var-data-in' type='checkbox'><label for='data-158aeae3-fd25-445a-8187-19d3a53aa610' title='Show/Hide data repr'><svg class='icon xr-icon-database'><use xlink:href='#icon-database'></use></svg></label><div class='xr-var-attrs'><dl class='xr-attrs'><dt><span>axis :</span></dt><dd>T</dd><dt><span>long_name :</span></dt><dd>Time</dd><dt><span>standard_name :</span></dt><dd>time</dd><dt><span>cell_methods :</span></dt><dd>time: mean</dd><dt><span>_ChunkSizes :</span></dt><dd>1024</dd><dt><span>_CoordinateAxisType :</span></dt><dd>Time</dd><dt><span>valid_min :</span></dt><dd>24487.0</dd><dt><span>valid_max :</span></dt><dd>24818.5</dd></dl></div><div class='xr-var-data'><pre>array([&#x27;2017-01-16T00:00:00.000000000&#x27;, &#x27;2017-02-14T12:00:00.000000000&#x27;,\n",
       "       &#x27;2017-03-15T20:06:33.750000128&#x27;, &#x27;2017-04-14T12:00:00.000000000&#x27;,\n",
       "       &#x27;2017-05-15T00:00:00.000000000&#x27;, &#x27;2017-06-14T12:00:00.000000000&#x27;,\n",
       "       &#x27;2017-07-15T00:00:00.000000000&#x27;, &#x27;2017-08-15T00:00:00.000000000&#x27;,\n",
       "       &#x27;2017-09-14T12:00:00.000000000&#x27;, &#x27;2017-10-15T01:32:48.750000128&#x27;,\n",
       "       &#x27;2017-11-15T12:00:00.000000000&#x27;, &#x27;2017-12-13T12:00:00.000000000&#x27;],\n",
       "      dtype=&#x27;datetime64[ns]&#x27;)</pre></div></li></ul></div></li><li class='xr-section-item'><input id='section-40c538c4-465d-49f5-a3f3-0ace473605ab' class='xr-section-summary-in' type='checkbox'  ><label for='section-40c538c4-465d-49f5-a3f3-0ace473605ab' class='xr-section-summary' >Data variables: <span>(24)</span></label><div class='xr-section-inline-details'></div><div class='xr-section-details'><ul class='xr-var-list'><li class='xr-var-item'><div class='xr-var-name'><span>zos_glor</span></div><div class='xr-var-dims'>(time, latitude, longitude)</div><div class='xr-var-dtype'>float32</div><div class='xr-var-preview xr-preview'>...</div><input id='attrs-9dc54a09-4570-4882-afbb-aa57e8b92b74' class='xr-var-attrs-in' type='checkbox' ><label for='attrs-9dc54a09-4570-4882-afbb-aa57e8b92b74' title='Show/Hide attributes'><svg class='icon xr-icon-file-text2'><use xlink:href='#icon-file-text2'></use></svg></label><input id='data-b40d9383-913e-4e2f-9b5e-5438f3a1ffc7' class='xr-var-data-in' type='checkbox'><label for='data-b40d9383-913e-4e2f-9b5e-5438f3a1ffc7' title='Show/Hide data repr'><svg class='icon xr-icon-database'><use xlink:href='#icon-database'></use></svg></label><div class='xr-var-attrs'><dl class='xr-attrs'><dt><span>long_name :</span></dt><dd>Sea surface height</dd><dt><span>standard_name :</span></dt><dd>sea_surface_height_above_geoid</dd><dt><span>units :</span></dt><dd>m</dd><dt><span>unit_long :</span></dt><dd>Meters</dd><dt><span>cell_methods :</span></dt><dd>area: mean time: mean</dd><dt><span>_ChunkSizes :</span></dt><dd>[   1  681 1440]</dd></dl></div><div class='xr-var-data'><pre>[163116 values with dtype=float32]</pre></div></li><li class='xr-var-item'><div class='xr-var-name'><span>uo_glor</span></div><div class='xr-var-dims'>(time, depth, latitude, longitude)</div><div class='xr-var-dtype'>float32</div><div class='xr-var-preview xr-preview'>...</div><input id='attrs-10be3448-8196-4d46-8923-14bad6d6773d' class='xr-var-attrs-in' type='checkbox' ><label for='attrs-10be3448-8196-4d46-8923-14bad6d6773d' title='Show/Hide attributes'><svg class='icon xr-icon-file-text2'><use xlink:href='#icon-file-text2'></use></svg></label><input id='data-6f897538-4090-4cfb-b044-91d736285686' class='xr-var-data-in' type='checkbox'><label for='data-6f897538-4090-4cfb-b044-91d736285686' title='Show/Hide data repr'><svg class='icon xr-icon-database'><use xlink:href='#icon-database'></use></svg></label><div class='xr-var-attrs'><dl class='xr-attrs'><dt><span>long_name :</span></dt><dd>Eastward velocity</dd><dt><span>standard_name :</span></dt><dd>eastward_sea_water_velocity</dd><dt><span>units :</span></dt><dd>m s-1</dd><dt><span>unit_long :</span></dt><dd>Meters per second</dd><dt><span>cell_methods :</span></dt><dd>area: mean time: mean</dd><dt><span>_ChunkSizes :</span></dt><dd>[  1  15 137 288]</dd></dl></div><div class='xr-var-data'><pre>[12233700 values with dtype=float32]</pre></div></li><li class='xr-var-item'><div class='xr-var-name'><span>so_glor</span></div><div class='xr-var-dims'>(time, depth, latitude, longitude)</div><div class='xr-var-dtype'>float32</div><div class='xr-var-preview xr-preview'>...</div><input id='attrs-fa155af1-91c4-4fff-9645-97bcaee4a2d1' class='xr-var-attrs-in' type='checkbox' ><label for='attrs-fa155af1-91c4-4fff-9645-97bcaee4a2d1' title='Show/Hide attributes'><svg class='icon xr-icon-file-text2'><use xlink:href='#icon-file-text2'></use></svg></label><input id='data-1d948b6a-792a-4eb7-b6fb-96999066cbca' class='xr-var-data-in' type='checkbox'><label for='data-1d948b6a-792a-4eb7-b6fb-96999066cbca' title='Show/Hide data repr'><svg class='icon xr-icon-database'><use xlink:href='#icon-database'></use></svg></label><div class='xr-var-attrs'><dl class='xr-attrs'><dt><span>long_name :</span></dt><dd>Salinity</dd><dt><span>standard_name :</span></dt><dd>sea_water_salinity</dd><dt><span>units :</span></dt><dd>1e-3</dd><dt><span>unit_long :</span></dt><dd>Practical Salinity Unit</dd><dt><span>cell_methods :</span></dt><dd>area: mean time: mean</dd><dt><span>_ChunkSizes :</span></dt><dd>[  1  15 137 288]</dd></dl></div><div class='xr-var-data'><pre>[12233700 values with dtype=float32]</pre></div></li><li class='xr-var-item'><div class='xr-var-name'><span>uo_oras</span></div><div class='xr-var-dims'>(time, depth, latitude, longitude)</div><div class='xr-var-dtype'>float32</div><div class='xr-var-preview xr-preview'>...</div><input id='attrs-5f01af8b-1b34-438c-afa5-df48a345bdea' class='xr-var-attrs-in' type='checkbox' ><label for='attrs-5f01af8b-1b34-438c-afa5-df48a345bdea' title='Show/Hide attributes'><svg class='icon xr-icon-file-text2'><use xlink:href='#icon-file-text2'></use></svg></label><input id='data-ad9734d4-e15a-48bd-80ed-0df2b81db32a' class='xr-var-data-in' type='checkbox'><label for='data-ad9734d4-e15a-48bd-80ed-0df2b81db32a' title='Show/Hide data repr'><svg class='icon xr-icon-database'><use xlink:href='#icon-database'></use></svg></label><div class='xr-var-attrs'><dl class='xr-attrs'><dt><span>long_name :</span></dt><dd>Eastward velocity</dd><dt><span>standard_name :</span></dt><dd>eastward_sea_water_velocity</dd><dt><span>units :</span></dt><dd>m s-1</dd><dt><span>unit_long :</span></dt><dd>Meters per second</dd><dt><span>cell_methods :</span></dt><dd>area: mean time: mean</dd><dt><span>_ChunkSizes :</span></dt><dd>[  1  15 137 288]</dd></dl></div><div class='xr-var-data'><pre>[12233700 values with dtype=float32]</pre></div></li><li class='xr-var-item'><div class='xr-var-name'><span>vo_foam</span></div><div class='xr-var-dims'>(time, depth, latitude, longitude)</div><div class='xr-var-dtype'>float32</div><div class='xr-var-preview xr-preview'>...</div><input id='attrs-f5d88103-28f9-447d-bd5a-ba82516aaa74' class='xr-var-attrs-in' type='checkbox' ><label for='attrs-f5d88103-28f9-447d-bd5a-ba82516aaa74' title='Show/Hide attributes'><svg class='icon xr-icon-file-text2'><use xlink:href='#icon-file-text2'></use></svg></label><input id='data-c30b845b-35a9-4928-8e35-f631a4b98e8c' class='xr-var-data-in' type='checkbox'><label for='data-c30b845b-35a9-4928-8e35-f631a4b98e8c' title='Show/Hide data repr'><svg class='icon xr-icon-database'><use xlink:href='#icon-database'></use></svg></label><div class='xr-var-attrs'><dl class='xr-attrs'><dt><span>long_name :</span></dt><dd>Northward velocity</dd><dt><span>standard_name :</span></dt><dd>northward_sea_water_velocity</dd><dt><span>units :</span></dt><dd>m s-1</dd><dt><span>unit_long :</span></dt><dd>Meters per second</dd><dt><span>cell_methods :</span></dt><dd>area: mean time: mean</dd><dt><span>_ChunkSizes :</span></dt><dd>[  1  15 137 288]</dd></dl></div><div class='xr-var-data'><pre>[12233700 values with dtype=float32]</pre></div></li><li class='xr-var-item'><div class='xr-var-name'><span>so_cglo</span></div><div class='xr-var-dims'>(time, depth, latitude, longitude)</div><div class='xr-var-dtype'>float32</div><div class='xr-var-preview xr-preview'>...</div><input id='attrs-c2e01925-f1b7-412a-9a7b-eac8f061c144' class='xr-var-attrs-in' type='checkbox' ><label for='attrs-c2e01925-f1b7-412a-9a7b-eac8f061c144' title='Show/Hide attributes'><svg class='icon xr-icon-file-text2'><use xlink:href='#icon-file-text2'></use></svg></label><input id='data-b16d620b-7ae8-40c8-8f07-bd05eeae5f1d' class='xr-var-data-in' type='checkbox'><label for='data-b16d620b-7ae8-40c8-8f07-bd05eeae5f1d' title='Show/Hide data repr'><svg class='icon xr-icon-database'><use xlink:href='#icon-database'></use></svg></label><div class='xr-var-attrs'><dl class='xr-attrs'><dt><span>long_name :</span></dt><dd>Salinity</dd><dt><span>standard_name :</span></dt><dd>sea_water_salinity</dd><dt><span>units :</span></dt><dd>1e-3</dd><dt><span>unit_long :</span></dt><dd>Practical Salinity Unit</dd><dt><span>cell_methods :</span></dt><dd>area: mean time: mean</dd><dt><span>_ChunkSizes :</span></dt><dd>[  1  15 137 288]</dd></dl></div><div class='xr-var-data'><pre>[12233700 values with dtype=float32]</pre></div></li><li class='xr-var-item'><div class='xr-var-name'><span>mlotst_foam</span></div><div class='xr-var-dims'>(time, latitude, longitude)</div><div class='xr-var-dtype'>float32</div><div class='xr-var-preview xr-preview'>...</div><input id='attrs-aa83be55-cf4e-4b80-9885-bbecdcc1b3db' class='xr-var-attrs-in' type='checkbox' ><label for='attrs-aa83be55-cf4e-4b80-9885-bbecdcc1b3db' title='Show/Hide attributes'><svg class='icon xr-icon-file-text2'><use xlink:href='#icon-file-text2'></use></svg></label><input id='data-afbb327d-5c47-4fbc-9ee9-3fffe149cfe4' class='xr-var-data-in' type='checkbox'><label for='data-afbb327d-5c47-4fbc-9ee9-3fffe149cfe4' title='Show/Hide data repr'><svg class='icon xr-icon-database'><use xlink:href='#icon-database'></use></svg></label><div class='xr-var-attrs'><dl class='xr-attrs'><dt><span>long_name :</span></dt><dd>Density ocean mixed layer thickness</dd><dt><span>standard_name :</span></dt><dd>ocean_mixed_layer_thickness_defined_by_sigma_theta</dd><dt><span>units :</span></dt><dd>m</dd><dt><span>unit_long :</span></dt><dd>Meters</dd><dt><span>cell_methods :</span></dt><dd>area: mean time: mean</dd><dt><span>_ChunkSizes :</span></dt><dd>[   1  681 1440]</dd></dl></div><div class='xr-var-data'><pre>[163116 values with dtype=float32]</pre></div></li><li class='xr-var-item'><div class='xr-var-name'><span>thetao_oras</span></div><div class='xr-var-dims'>(time, depth, latitude, longitude)</div><div class='xr-var-dtype'>float32</div><div class='xr-var-preview xr-preview'>...</div><input id='attrs-eb1116ec-981e-430b-bef4-4cf871178fc1' class='xr-var-attrs-in' type='checkbox' ><label for='attrs-eb1116ec-981e-430b-bef4-4cf871178fc1' title='Show/Hide attributes'><svg class='icon xr-icon-file-text2'><use xlink:href='#icon-file-text2'></use></svg></label><input id='data-69345375-76cc-4469-a725-08787af76286' class='xr-var-data-in' type='checkbox'><label for='data-69345375-76cc-4469-a725-08787af76286' title='Show/Hide data repr'><svg class='icon xr-icon-database'><use xlink:href='#icon-database'></use></svg></label><div class='xr-var-attrs'><dl class='xr-attrs'><dt><span>long_name :</span></dt><dd>Temperature</dd><dt><span>standard_name :</span></dt><dd>sea_water_potential_temperature</dd><dt><span>units :</span></dt><dd>degrees_C</dd><dt><span>unit_long :</span></dt><dd>Degrees Celsius</dd><dt><span>cell_methods :</span></dt><dd>area: mean time: mean</dd><dt><span>_ChunkSizes :</span></dt><dd>[  1  15 137 288]</dd></dl></div><div class='xr-var-data'><pre>[12233700 values with dtype=float32]</pre></div></li><li class='xr-var-item'><div class='xr-var-name'><span>mlotst_cglo</span></div><div class='xr-var-dims'>(time, latitude, longitude)</div><div class='xr-var-dtype'>float32</div><div class='xr-var-preview xr-preview'>...</div><input id='attrs-423c07fb-26a3-48ae-982b-e0876ffa0687' class='xr-var-attrs-in' type='checkbox' ><label for='attrs-423c07fb-26a3-48ae-982b-e0876ffa0687' title='Show/Hide attributes'><svg class='icon xr-icon-file-text2'><use xlink:href='#icon-file-text2'></use></svg></label><input id='data-d26b0a73-ff86-43f6-9ad2-a38816a2df18' class='xr-var-data-in' type='checkbox'><label for='data-d26b0a73-ff86-43f6-9ad2-a38816a2df18' title='Show/Hide data repr'><svg class='icon xr-icon-database'><use xlink:href='#icon-database'></use></svg></label><div class='xr-var-attrs'><dl class='xr-attrs'><dt><span>long_name :</span></dt><dd>Density ocean mixed layer thickness</dd><dt><span>standard_name :</span></dt><dd>ocean_mixed_layer_thickness_defined_by_sigma_theta</dd><dt><span>units :</span></dt><dd>m</dd><dt><span>unit_long :</span></dt><dd>Meters</dd><dt><span>cell_methods :</span></dt><dd>area: mean time: mean</dd><dt><span>_ChunkSizes :</span></dt><dd>[   1  681 1440]</dd></dl></div><div class='xr-var-data'><pre>[163116 values with dtype=float32]</pre></div></li><li class='xr-var-item'><div class='xr-var-name'><span>zos_oras</span></div><div class='xr-var-dims'>(time, latitude, longitude)</div><div class='xr-var-dtype'>float32</div><div class='xr-var-preview xr-preview'>...</div><input id='attrs-40279fe0-de9e-4658-b544-1849f9164937' class='xr-var-attrs-in' type='checkbox' ><label for='attrs-40279fe0-de9e-4658-b544-1849f9164937' title='Show/Hide attributes'><svg class='icon xr-icon-file-text2'><use xlink:href='#icon-file-text2'></use></svg></label><input id='data-ec60aba7-ef7e-4b2f-9789-4faaf5aae764' class='xr-var-data-in' type='checkbox'><label for='data-ec60aba7-ef7e-4b2f-9789-4faaf5aae764' title='Show/Hide data repr'><svg class='icon xr-icon-database'><use xlink:href='#icon-database'></use></svg></label><div class='xr-var-attrs'><dl class='xr-attrs'><dt><span>long_name :</span></dt><dd>Sea surface height</dd><dt><span>standard_name :</span></dt><dd>sea_surface_height_above_geoid</dd><dt><span>units :</span></dt><dd>m</dd><dt><span>unit_long :</span></dt><dd>Meters</dd><dt><span>cell_methods :</span></dt><dd>area: mean time: mean</dd><dt><span>_ChunkSizes :</span></dt><dd>[   1  681 1440]</dd></dl></div><div class='xr-var-data'><pre>[163116 values with dtype=float32]</pre></div></li><li class='xr-var-item'><div class='xr-var-name'><span>thetao_cglo</span></div><div class='xr-var-dims'>(time, depth, latitude, longitude)</div><div class='xr-var-dtype'>float32</div><div class='xr-var-preview xr-preview'>...</div><input id='attrs-dabdc824-99e4-4cad-b51b-46eef67d8d7f' class='xr-var-attrs-in' type='checkbox' ><label for='attrs-dabdc824-99e4-4cad-b51b-46eef67d8d7f' title='Show/Hide attributes'><svg class='icon xr-icon-file-text2'><use xlink:href='#icon-file-text2'></use></svg></label><input id='data-9ba6bbd2-1590-4e60-aeb4-0829f8f9f2d0' class='xr-var-data-in' type='checkbox'><label for='data-9ba6bbd2-1590-4e60-aeb4-0829f8f9f2d0' title='Show/Hide data repr'><svg class='icon xr-icon-database'><use xlink:href='#icon-database'></use></svg></label><div class='xr-var-attrs'><dl class='xr-attrs'><dt><span>long_name :</span></dt><dd>Temperature</dd><dt><span>standard_name :</span></dt><dd>sea_water_potential_temperature</dd><dt><span>units :</span></dt><dd>degrees_C</dd><dt><span>unit_long :</span></dt><dd>Degrees Celsius</dd><dt><span>cell_methods :</span></dt><dd>area: mean time: mean</dd><dt><span>_ChunkSizes :</span></dt><dd>[  1  15 137 288]</dd></dl></div><div class='xr-var-data'><pre>[12233700 values with dtype=float32]</pre></div></li><li class='xr-var-item'><div class='xr-var-name'><span>so_oras</span></div><div class='xr-var-dims'>(time, depth, latitude, longitude)</div><div class='xr-var-dtype'>float32</div><div class='xr-var-preview xr-preview'>...</div><input id='attrs-1e5d8093-3678-4348-a79a-144c9f803a32' class='xr-var-attrs-in' type='checkbox' ><label for='attrs-1e5d8093-3678-4348-a79a-144c9f803a32' title='Show/Hide attributes'><svg class='icon xr-icon-file-text2'><use xlink:href='#icon-file-text2'></use></svg></label><input id='data-b192e44a-6118-464c-8f3e-2ce2436d2a7b' class='xr-var-data-in' type='checkbox'><label for='data-b192e44a-6118-464c-8f3e-2ce2436d2a7b' title='Show/Hide data repr'><svg class='icon xr-icon-database'><use xlink:href='#icon-database'></use></svg></label><div class='xr-var-attrs'><dl class='xr-attrs'><dt><span>long_name :</span></dt><dd>Salinity</dd><dt><span>standard_name :</span></dt><dd>sea_water_salinity</dd><dt><span>units :</span></dt><dd>1e-3</dd><dt><span>unit_long :</span></dt><dd>Practical Salinity Unit</dd><dt><span>cell_methods :</span></dt><dd>area: mean time: mean</dd><dt><span>_ChunkSizes :</span></dt><dd>[  1  15 137 288]</dd></dl></div><div class='xr-var-data'><pre>[12233700 values with dtype=float32]</pre></div></li><li class='xr-var-item'><div class='xr-var-name'><span>vo_cglo</span></div><div class='xr-var-dims'>(time, depth, latitude, longitude)</div><div class='xr-var-dtype'>float32</div><div class='xr-var-preview xr-preview'>...</div><input id='attrs-6c0c5220-7a89-4739-ab23-339b96129ca6' class='xr-var-attrs-in' type='checkbox' ><label for='attrs-6c0c5220-7a89-4739-ab23-339b96129ca6' title='Show/Hide attributes'><svg class='icon xr-icon-file-text2'><use xlink:href='#icon-file-text2'></use></svg></label><input id='data-f92e9fb1-649a-41b4-acac-5e8f6ce998fd' class='xr-var-data-in' type='checkbox'><label for='data-f92e9fb1-649a-41b4-acac-5e8f6ce998fd' title='Show/Hide data repr'><svg class='icon xr-icon-database'><use xlink:href='#icon-database'></use></svg></label><div class='xr-var-attrs'><dl class='xr-attrs'><dt><span>long_name :</span></dt><dd>Northward velocity</dd><dt><span>standard_name :</span></dt><dd>northward_sea_water_velocity</dd><dt><span>units :</span></dt><dd>m s-1</dd><dt><span>unit_long :</span></dt><dd>Meters per second</dd><dt><span>cell_methods :</span></dt><dd>area: mean time: mean</dd><dt><span>_ChunkSizes :</span></dt><dd>[  1  15 137 288]</dd></dl></div><div class='xr-var-data'><pre>[12233700 values with dtype=float32]</pre></div></li><li class='xr-var-item'><div class='xr-var-name'><span>uo_cglo</span></div><div class='xr-var-dims'>(time, depth, latitude, longitude)</div><div class='xr-var-dtype'>float32</div><div class='xr-var-preview xr-preview'>...</div><input id='attrs-5f12a71c-728b-48b9-9a12-dbd572020c0d' class='xr-var-attrs-in' type='checkbox' ><label for='attrs-5f12a71c-728b-48b9-9a12-dbd572020c0d' title='Show/Hide attributes'><svg class='icon xr-icon-file-text2'><use xlink:href='#icon-file-text2'></use></svg></label><input id='data-4a1f9894-8796-4c28-83c8-33019f59cba4' class='xr-var-data-in' type='checkbox'><label for='data-4a1f9894-8796-4c28-83c8-33019f59cba4' title='Show/Hide data repr'><svg class='icon xr-icon-database'><use xlink:href='#icon-database'></use></svg></label><div class='xr-var-attrs'><dl class='xr-attrs'><dt><span>long_name :</span></dt><dd>Eastward velocity</dd><dt><span>standard_name :</span></dt><dd>eastward_sea_water_velocity</dd><dt><span>units :</span></dt><dd>m s-1</dd><dt><span>unit_long :</span></dt><dd>Meters per second</dd><dt><span>cell_methods :</span></dt><dd>area: mean time: mean</dd><dt><span>_ChunkSizes :</span></dt><dd>[  1  15 137 288]</dd></dl></div><div class='xr-var-data'><pre>[12233700 values with dtype=float32]</pre></div></li><li class='xr-var-item'><div class='xr-var-name'><span>zos_cglo</span></div><div class='xr-var-dims'>(time, latitude, longitude)</div><div class='xr-var-dtype'>float32</div><div class='xr-var-preview xr-preview'>...</div><input id='attrs-cb9b72fc-6546-454b-a7ac-94c93a541bb6' class='xr-var-attrs-in' type='checkbox' ><label for='attrs-cb9b72fc-6546-454b-a7ac-94c93a541bb6' title='Show/Hide attributes'><svg class='icon xr-icon-file-text2'><use xlink:href='#icon-file-text2'></use></svg></label><input id='data-51129660-8571-4985-9e39-5b7bb6a26eb6' class='xr-var-data-in' type='checkbox'><label for='data-51129660-8571-4985-9e39-5b7bb6a26eb6' title='Show/Hide data repr'><svg class='icon xr-icon-database'><use xlink:href='#icon-database'></use></svg></label><div class='xr-var-attrs'><dl class='xr-attrs'><dt><span>long_name :</span></dt><dd>Sea surface height</dd><dt><span>standard_name :</span></dt><dd>sea_surface_height_above_geoid</dd><dt><span>units :</span></dt><dd>m</dd><dt><span>unit_long :</span></dt><dd>Meters</dd><dt><span>cell_methods :</span></dt><dd>area: mean time: mean</dd><dt><span>_ChunkSizes :</span></dt><dd>[   1  681 1440]</dd></dl></div><div class='xr-var-data'><pre>[163116 values with dtype=float32]</pre></div></li><li class='xr-var-item'><div class='xr-var-name'><span>vo_oras</span></div><div class='xr-var-dims'>(time, depth, latitude, longitude)</div><div class='xr-var-dtype'>float32</div><div class='xr-var-preview xr-preview'>...</div><input id='attrs-a544b2b7-2b8f-4380-83a1-f6a603bec75a' class='xr-var-attrs-in' type='checkbox' ><label for='attrs-a544b2b7-2b8f-4380-83a1-f6a603bec75a' title='Show/Hide attributes'><svg class='icon xr-icon-file-text2'><use xlink:href='#icon-file-text2'></use></svg></label><input id='data-1d199900-4ae0-4ceb-b3d5-32c46e92b471' class='xr-var-data-in' type='checkbox'><label for='data-1d199900-4ae0-4ceb-b3d5-32c46e92b471' title='Show/Hide data repr'><svg class='icon xr-icon-database'><use xlink:href='#icon-database'></use></svg></label><div class='xr-var-attrs'><dl class='xr-attrs'><dt><span>long_name :</span></dt><dd>Northward velocity</dd><dt><span>standard_name :</span></dt><dd>northward_sea_water_velocity</dd><dt><span>units :</span></dt><dd>m s-1</dd><dt><span>unit_long :</span></dt><dd>Meters per second</dd><dt><span>cell_methods :</span></dt><dd>area: mean time: mean</dd><dt><span>_ChunkSizes :</span></dt><dd>[  1  15 137 288]</dd></dl></div><div class='xr-var-data'><pre>[12233700 values with dtype=float32]</pre></div></li><li class='xr-var-item'><div class='xr-var-name'><span>thetao_glor</span></div><div class='xr-var-dims'>(time, depth, latitude, longitude)</div><div class='xr-var-dtype'>float32</div><div class='xr-var-preview xr-preview'>...</div><input id='attrs-0bafbc50-296a-445e-ab5d-be4de0ce9fd7' class='xr-var-attrs-in' type='checkbox' ><label for='attrs-0bafbc50-296a-445e-ab5d-be4de0ce9fd7' title='Show/Hide attributes'><svg class='icon xr-icon-file-text2'><use xlink:href='#icon-file-text2'></use></svg></label><input id='data-214abac3-f7dc-4c26-b4ea-11f5b238d87a' class='xr-var-data-in' type='checkbox'><label for='data-214abac3-f7dc-4c26-b4ea-11f5b238d87a' title='Show/Hide data repr'><svg class='icon xr-icon-database'><use xlink:href='#icon-database'></use></svg></label><div class='xr-var-attrs'><dl class='xr-attrs'><dt><span>long_name :</span></dt><dd>Temperature</dd><dt><span>standard_name :</span></dt><dd>sea_water_potential_temperature</dd><dt><span>units :</span></dt><dd>degrees_C</dd><dt><span>unit_long :</span></dt><dd>Degrees Celsius</dd><dt><span>cell_methods :</span></dt><dd>area: mean time: mean</dd><dt><span>_ChunkSizes :</span></dt><dd>[  1  15 137 288]</dd></dl></div><div class='xr-var-data'><pre>[12233700 values with dtype=float32]</pre></div></li><li class='xr-var-item'><div class='xr-var-name'><span>mlotst_oras</span></div><div class='xr-var-dims'>(time, latitude, longitude)</div><div class='xr-var-dtype'>float32</div><div class='xr-var-preview xr-preview'>...</div><input id='attrs-7dd00c21-efa1-40b4-9ed8-a3e167acab3c' class='xr-var-attrs-in' type='checkbox' ><label for='attrs-7dd00c21-efa1-40b4-9ed8-a3e167acab3c' title='Show/Hide attributes'><svg class='icon xr-icon-file-text2'><use xlink:href='#icon-file-text2'></use></svg></label><input id='data-127fe98e-7be0-4131-9600-b684ea50d702' class='xr-var-data-in' type='checkbox'><label for='data-127fe98e-7be0-4131-9600-b684ea50d702' title='Show/Hide data repr'><svg class='icon xr-icon-database'><use xlink:href='#icon-database'></use></svg></label><div class='xr-var-attrs'><dl class='xr-attrs'><dt><span>long_name :</span></dt><dd>Density ocean mixed layer thickness</dd><dt><span>standard_name :</span></dt><dd>ocean_mixed_layer_thickness_defined_by_sigma_theta</dd><dt><span>units :</span></dt><dd>m</dd><dt><span>unit_long :</span></dt><dd>Meters</dd><dt><span>cell_methods :</span></dt><dd>area: mean time: mean</dd><dt><span>_ChunkSizes :</span></dt><dd>[   1  681 1440]</dd></dl></div><div class='xr-var-data'><pre>[163116 values with dtype=float32]</pre></div></li><li class='xr-var-item'><div class='xr-var-name'><span>thetao_foam</span></div><div class='xr-var-dims'>(time, depth, latitude, longitude)</div><div class='xr-var-dtype'>float32</div><div class='xr-var-preview xr-preview'>...</div><input id='attrs-9757b0fc-bba9-4157-a93e-6c0b72afd3e9' class='xr-var-attrs-in' type='checkbox' ><label for='attrs-9757b0fc-bba9-4157-a93e-6c0b72afd3e9' title='Show/Hide attributes'><svg class='icon xr-icon-file-text2'><use xlink:href='#icon-file-text2'></use></svg></label><input id='data-e66cf4c2-c0ea-479b-a416-70890853558a' class='xr-var-data-in' type='checkbox'><label for='data-e66cf4c2-c0ea-479b-a416-70890853558a' title='Show/Hide data repr'><svg class='icon xr-icon-database'><use xlink:href='#icon-database'></use></svg></label><div class='xr-var-attrs'><dl class='xr-attrs'><dt><span>long_name :</span></dt><dd>Temperature</dd><dt><span>standard_name :</span></dt><dd>sea_water_potential_temperature</dd><dt><span>units :</span></dt><dd>degrees_C</dd><dt><span>unit_long :</span></dt><dd>Degrees Celsius</dd><dt><span>cell_methods :</span></dt><dd>area: mean time: mean</dd><dt><span>_ChunkSizes :</span></dt><dd>[  1  15 137 288]</dd></dl></div><div class='xr-var-data'><pre>[12233700 values with dtype=float32]</pre></div></li><li class='xr-var-item'><div class='xr-var-name'><span>uo_foam</span></div><div class='xr-var-dims'>(time, depth, latitude, longitude)</div><div class='xr-var-dtype'>float32</div><div class='xr-var-preview xr-preview'>...</div><input id='attrs-4b1315a2-c065-4d05-af58-1de988f3dbba' class='xr-var-attrs-in' type='checkbox' ><label for='attrs-4b1315a2-c065-4d05-af58-1de988f3dbba' title='Show/Hide attributes'><svg class='icon xr-icon-file-text2'><use xlink:href='#icon-file-text2'></use></svg></label><input id='data-a9c752ae-c688-4d2e-b446-030b5dc91c71' class='xr-var-data-in' type='checkbox'><label for='data-a9c752ae-c688-4d2e-b446-030b5dc91c71' title='Show/Hide data repr'><svg class='icon xr-icon-database'><use xlink:href='#icon-database'></use></svg></label><div class='xr-var-attrs'><dl class='xr-attrs'><dt><span>long_name :</span></dt><dd>Eastward velocity</dd><dt><span>standard_name :</span></dt><dd>eastward_sea_water_velocity</dd><dt><span>units :</span></dt><dd>m s-1</dd><dt><span>unit_long :</span></dt><dd>Meters per second</dd><dt><span>cell_methods :</span></dt><dd>area: mean time: mean</dd><dt><span>_ChunkSizes :</span></dt><dd>[  1  15 137 288]</dd></dl></div><div class='xr-var-data'><pre>[12233700 values with dtype=float32]</pre></div></li><li class='xr-var-item'><div class='xr-var-name'><span>mlotst_glor</span></div><div class='xr-var-dims'>(time, latitude, longitude)</div><div class='xr-var-dtype'>float32</div><div class='xr-var-preview xr-preview'>...</div><input id='attrs-1d9d4a1d-b48e-4fdf-afd6-263a16028de1' class='xr-var-attrs-in' type='checkbox' ><label for='attrs-1d9d4a1d-b48e-4fdf-afd6-263a16028de1' title='Show/Hide attributes'><svg class='icon xr-icon-file-text2'><use xlink:href='#icon-file-text2'></use></svg></label><input id='data-ae66476a-81d1-4680-9366-50b8d3c41a15' class='xr-var-data-in' type='checkbox'><label for='data-ae66476a-81d1-4680-9366-50b8d3c41a15' title='Show/Hide data repr'><svg class='icon xr-icon-database'><use xlink:href='#icon-database'></use></svg></label><div class='xr-var-attrs'><dl class='xr-attrs'><dt><span>long_name :</span></dt><dd>Density ocean mixed layer thickness</dd><dt><span>standard_name :</span></dt><dd>ocean_mixed_layer_thickness_defined_by_sigma_theta</dd><dt><span>units :</span></dt><dd>m</dd><dt><span>unit_long :</span></dt><dd>Meters</dd><dt><span>cell_methods :</span></dt><dd>area: mean time: mean</dd><dt><span>_ChunkSizes :</span></dt><dd>[   1  681 1440]</dd></dl></div><div class='xr-var-data'><pre>[163116 values with dtype=float32]</pre></div></li><li class='xr-var-item'><div class='xr-var-name'><span>so_foam</span></div><div class='xr-var-dims'>(time, depth, latitude, longitude)</div><div class='xr-var-dtype'>float32</div><div class='xr-var-preview xr-preview'>...</div><input id='attrs-04c07efd-0a7f-40e9-a117-905dd27f898e' class='xr-var-attrs-in' type='checkbox' ><label for='attrs-04c07efd-0a7f-40e9-a117-905dd27f898e' title='Show/Hide attributes'><svg class='icon xr-icon-file-text2'><use xlink:href='#icon-file-text2'></use></svg></label><input id='data-e5f6f843-14bd-4046-a893-65ec6f43854a' class='xr-var-data-in' type='checkbox'><label for='data-e5f6f843-14bd-4046-a893-65ec6f43854a' title='Show/Hide data repr'><svg class='icon xr-icon-database'><use xlink:href='#icon-database'></use></svg></label><div class='xr-var-attrs'><dl class='xr-attrs'><dt><span>long_name :</span></dt><dd>Salinity</dd><dt><span>standard_name :</span></dt><dd>sea_water_salinity</dd><dt><span>units :</span></dt><dd>1e-3</dd><dt><span>unit_long :</span></dt><dd>Practical Salinity Unit</dd><dt><span>cell_methods :</span></dt><dd>area: mean time: mean</dd><dt><span>_ChunkSizes :</span></dt><dd>[  1  15 137 288]</dd></dl></div><div class='xr-var-data'><pre>[12233700 values with dtype=float32]</pre></div></li><li class='xr-var-item'><div class='xr-var-name'><span>vo_glor</span></div><div class='xr-var-dims'>(time, depth, latitude, longitude)</div><div class='xr-var-dtype'>float32</div><div class='xr-var-preview xr-preview'>...</div><input id='attrs-128c4388-7726-4745-9d84-9f7703647236' class='xr-var-attrs-in' type='checkbox' ><label for='attrs-128c4388-7726-4745-9d84-9f7703647236' title='Show/Hide attributes'><svg class='icon xr-icon-file-text2'><use xlink:href='#icon-file-text2'></use></svg></label><input id='data-4d51659f-cfe6-43bd-ba75-21e0917d468f' class='xr-var-data-in' type='checkbox'><label for='data-4d51659f-cfe6-43bd-ba75-21e0917d468f' title='Show/Hide data repr'><svg class='icon xr-icon-database'><use xlink:href='#icon-database'></use></svg></label><div class='xr-var-attrs'><dl class='xr-attrs'><dt><span>long_name :</span></dt><dd>Northward velocity</dd><dt><span>standard_name :</span></dt><dd>northward_sea_water_velocity</dd><dt><span>units :</span></dt><dd>m s-1</dd><dt><span>unit_long :</span></dt><dd>Meters per second</dd><dt><span>cell_methods :</span></dt><dd>area: mean time: mean</dd><dt><span>_ChunkSizes :</span></dt><dd>[  1  15 137 288]</dd></dl></div><div class='xr-var-data'><pre>[12233700 values with dtype=float32]</pre></div></li><li class='xr-var-item'><div class='xr-var-name'><span>zos_foam</span></div><div class='xr-var-dims'>(time, latitude, longitude)</div><div class='xr-var-dtype'>float32</div><div class='xr-var-preview xr-preview'>...</div><input id='attrs-016beb4f-3306-42ad-ac8b-8971de30bc1d' class='xr-var-attrs-in' type='checkbox' ><label for='attrs-016beb4f-3306-42ad-ac8b-8971de30bc1d' title='Show/Hide attributes'><svg class='icon xr-icon-file-text2'><use xlink:href='#icon-file-text2'></use></svg></label><input id='data-5c6387a7-2060-44bb-863c-9b5277452173' class='xr-var-data-in' type='checkbox'><label for='data-5c6387a7-2060-44bb-863c-9b5277452173' title='Show/Hide data repr'><svg class='icon xr-icon-database'><use xlink:href='#icon-database'></use></svg></label><div class='xr-var-attrs'><dl class='xr-attrs'><dt><span>long_name :</span></dt><dd>Sea surface height</dd><dt><span>standard_name :</span></dt><dd>sea_surface_height_above_geoid</dd><dt><span>units :</span></dt><dd>m</dd><dt><span>unit_long :</span></dt><dd>Meters</dd><dt><span>cell_methods :</span></dt><dd>area: mean time: mean</dd><dt><span>_ChunkSizes :</span></dt><dd>[   1  681 1440]</dd></dl></div><div class='xr-var-data'><pre>[163116 values with dtype=float32]</pre></div></li></ul></div></li><li class='xr-section-item'><input id='section-b8d646ec-fd45-45d4-bf17-e84350d09831' class='xr-section-summary-in' type='checkbox'  ><label for='section-b8d646ec-fd45-45d4-bf17-e84350d09831' class='xr-section-summary' >Attributes: <span>(17)</span></label><div class='xr-section-inline-details'></div><div class='xr-section-details'><dl class='xr-attrs'><dt><span>product :</span></dt><dd>GLOBAL_REANALYSIS_PHY_001_031</dd><dt><span>producer :</span></dt><dd>CMEMS - Global Monitoring and Forecasting Centre</dd><dt><span>area :</span></dt><dd>Global</dd><dt><span>quality_information_document :</span></dt><dd>http://marine.copernicus.eu/documents/QUID/CMEMS-GLO-QUID-001_031.pdf</dd><dt><span>Conventions :</span></dt><dd>CF-1.6</dd><dt><span>credit :</span></dt><dd>E.U. Copernicus Marine Service Information (CMEMS)</dd><dt><span>contact :</span></dt><dd>servicedesk.cmems@mercator-ocean.eu</dd><dt><span>references :</span></dt><dd>http://marine.copernicus.eu</dd><dt><span>licence :</span></dt><dd>http://marine.copernicus.eu/services-portfolio/service-commitments-and-licence/</dd><dt><span>institution :</span></dt><dd>Mercator Ocean</dd><dt><span>product_user_manual :</span></dt><dd>http://marine.copernicus.eu/documents/PUM/CMEMS-GLO-PUM-001-031.pdf</dd><dt><span>history :</span></dt><dd>Creation 2020-MAY-20 08:00:00 GMT+0200</dd><dt><span>title :</span></dt><dd>Monthly mean fields for product GLOBAL_REANALYSIS_PHY_001_031</dd><dt><span>dataset :</span></dt><dd>global-reanalysis-phy-001-031-grepv2-monthly</dd><dt><span>source :</span></dt><dd>Copernicus Marine Service</dd><dt><span>_CoordSysBuilder :</span></dt><dd>ucar.nc2.dataset.conv.CF1Convention</dd><dt><span>comment :</span></dt><dd></dd></dl></div></li></ul></div></div>"
      ],
      "text/plain": [
       "<xarray.Dataset>\n",
       "Dimensions:      (depth: 75, latitude: 69, longitude: 197, time: 12)\n",
       "Coordinates:\n",
       "  * latitude     (latitude) float32 30.0 30.25 30.5 30.75 ... 46.5 46.75 47.0\n",
       "  * longitude    (longitude) float32 -6.0 -5.75 -5.5 -5.25 ... 42.5 42.75 43.0\n",
       "  * depth        (depth) float32 -0.50576 -1.555855 ... -5698.061 -5902.058\n",
       "  * time         (time) datetime64[ns] 2017-01-16 ... 2017-12-13T12:00:00\n",
       "Data variables:\n",
       "    zos_glor     (time, latitude, longitude) float32 ...\n",
       "    uo_glor      (time, depth, latitude, longitude) float32 ...\n",
       "    so_glor      (time, depth, latitude, longitude) float32 ...\n",
       "    uo_oras      (time, depth, latitude, longitude) float32 ...\n",
       "    vo_foam      (time, depth, latitude, longitude) float32 ...\n",
       "    so_cglo      (time, depth, latitude, longitude) float32 ...\n",
       "    mlotst_foam  (time, latitude, longitude) float32 ...\n",
       "    thetao_oras  (time, depth, latitude, longitude) float32 ...\n",
       "    mlotst_cglo  (time, latitude, longitude) float32 ...\n",
       "    zos_oras     (time, latitude, longitude) float32 ...\n",
       "    thetao_cglo  (time, depth, latitude, longitude) float32 ...\n",
       "    so_oras      (time, depth, latitude, longitude) float32 ...\n",
       "    vo_cglo      (time, depth, latitude, longitude) float32 ...\n",
       "    uo_cglo      (time, depth, latitude, longitude) float32 ...\n",
       "    zos_cglo     (time, latitude, longitude) float32 ...\n",
       "    vo_oras      (time, depth, latitude, longitude) float32 ...\n",
       "    thetao_glor  (time, depth, latitude, longitude) float32 ...\n",
       "    mlotst_oras  (time, latitude, longitude) float32 ...\n",
       "    thetao_foam  (time, depth, latitude, longitude) float32 ...\n",
       "    uo_foam      (time, depth, latitude, longitude) float32 ...\n",
       "    mlotst_glor  (time, latitude, longitude) float32 ...\n",
       "    so_foam      (time, depth, latitude, longitude) float32 ...\n",
       "    vo_glor      (time, depth, latitude, longitude) float32 ...\n",
       "    zos_foam     (time, latitude, longitude) float32 ...\n",
       "Attributes:\n",
       "    product:                       GLOBAL_REANALYSIS_PHY_001_031\n",
       "    producer:                      CMEMS - Global Monitoring and Forecasting ...\n",
       "    area:                          Global\n",
       "    quality_information_document:  http://marine.copernicus.eu/documents/QUID...\n",
       "    Conventions:                   CF-1.6\n",
       "    credit:                        E.U. Copernicus Marine Service Information...\n",
       "    contact:                       servicedesk.cmems@mercator-ocean.eu\n",
       "    references:                    http://marine.copernicus.eu\n",
       "    licence:                       http://marine.copernicus.eu/services-portf...\n",
       "    institution:                   Mercator Ocean\n",
       "    product_user_manual:           http://marine.copernicus.eu/documents/PUM/...\n",
       "    history:                       Creation 2020-MAY-20 08:00:00 GMT+0200\n",
       "    title:                         Monthly mean fields for product GLOBAL_REA...\n",
       "    dataset:                       global-reanalysis-phy-001-031-grepv2-monthly\n",
       "    source:                        Copernicus Marine Service\n",
       "    _CoordSysBuilder:              ucar.nc2.dataset.conv.CF1Convention\n",
       "    comment:                       "
      ]
     },
     "execution_count": 5,
     "metadata": {},
     "output_type": "execute_result"
    }
   ],
   "source": [
    "ds = xr.open_dataset(file_path)\n",
    "\n",
    "#some format\n",
    "ds['depth'] = -np.abs(ds['depth'].values)\n",
    "ds.depth.attrs['axis'] = 'Z'\n",
    "\n",
    "ds"
   ]
  },
  {
   "cell_type": "markdown",
   "metadata": {},
   "source": [
    "Quick plot of dataset"
   ]
  },
  {
   "cell_type": "code",
   "execution_count": 6,
   "metadata": {},
   "outputs": [
    {
     "data": {
      "image/png": "[encoded data removed]",
      "text/plain": [
       "<Figure size 432x288 with 2 Axes>"
      ]
     },
     "metadata": {
      "needs_background": "light"
     },
     "output_type": "display_data"
    }
   ],
   "source": [
    "ds[var_name].isel(time=11, depth=5).plot();"
   ]
  },
  {
   "cell_type": "markdown",
   "metadata": {},
   "source": [
    "## Create and train model\n",
    "***"
   ]
  },
  {
   "cell_type": "markdown",
   "metadata": {},
   "source": [
    "### Create PCM"
   ]
  },
  {
   "cell_type": "code",
   "execution_count": 7,
   "metadata": {},
   "outputs": [
    {
     "data": {
      "text/plain": [
       "<pcm 'gmm' (K: 6, F: 1)>\n",
       "Number of class: 6\n",
       "Number of feature: 1\n",
       "Feature names: odict_keys(['temperature'])\n",
       "Fitted: False\n",
       "Feature: 'temperature'\n",
       "\t Interpoler: <class 'pyxpcm.utils.Vertical_Interpolator'>\n",
       "\t Scaler: 'normal', <class 'sklearn.preprocessing._data.StandardScaler'>\n",
       "\t Reducer: True, <class 'sklearn.decomposition._pca.PCA'>\n",
       "Classifier: 'gmm', <class 'sklearn.mixture._gaussian_mixture.GaussianMixture'>"
      ]
     },
     "execution_count": 7,
     "metadata": {},
     "output_type": "execute_result"
    }
   ],
   "source": [
    "#z choise\n",
    "z = ds['depth'][0:20]\n",
    "pcm_features = {'temperature': z}\n",
    "\n",
    "m = pcm(K=K, features=pcm_features)\n",
    "m"
   ]
  },
  {
   "cell_type": "markdown",
   "metadata": {},
   "source": [
    "### Fit Model"
   ]
  },
  {
   "cell_type": "code",
   "execution_count": 8,
   "metadata": {},
   "outputs": [
    {
     "data": {
      "text/plain": [
       "<pcm 'gmm' (K: 6, F: 1)>\n",
       "Number of class: 6\n",
       "Number of feature: 1\n",
       "Feature names: odict_keys(['temperature'])\n",
       "Fitted: True\n",
       "Feature: 'temperature'\n",
       "\t Interpoler: <class 'pyxpcm.utils.Vertical_Interpolator'>\n",
       "\t Scaler: 'normal', <class 'sklearn.preprocessing._data.StandardScaler'>\n",
       "\t Reducer: True, <class 'sklearn.decomposition._pca.PCA'>\n",
       "Classifier: 'gmm', <class 'sklearn.mixture._gaussian_mixture.GaussianMixture'>\n",
       "\t log likelihood of the training set: 44.704830"
      ]
     },
     "execution_count": 8,
     "metadata": {},
     "output_type": "execute_result"
    }
   ],
   "source": [
    "m.fit_predict(ds, features=features_in_ds, dim=z_dim, inplace=True)\n",
    "m"
   ]
  },
  {
   "cell_type": "markdown",
   "metadata": {},
   "source": [
    "## Development plots\n",
    "***"
   ]
  },
  {
   "cell_type": "markdown",
   "metadata": {},
   "source": [
    "__Scatter plot of features, as seen by the classifier__"
   ]
  },
  {
   "cell_type": "markdown",
   "metadata": {},
   "source": [
    "__TODO__: Plot only first dimension for each feature"
   ]
  },
  {
   "cell_type": "code",
   "execution_count": null,
   "metadata": {},
   "outputs": [],
   "source": [
    "g = m.plot.preprocessed(ds, features=features_in_ds, style='darkgrid', dim=z_dim)"
   ]
  },
  {
   "cell_type": "code",
   "execution_count": null,
   "metadata": {},
   "outputs": [],
   "source": [
    "g = m.plot.preprocessed(ds, features=features_in_ds, kde=True, dim=z_dim)"
   ]
  },
  {
   "cell_type": "markdown",
   "metadata": {},
   "source": [
    "__Mask__"
   ]
  },
  {
   "cell_type": "code",
   "execution_count": null,
   "metadata": {},
   "outputs": [],
   "source": [
    "mask = ds.isel(time=7).pyxpcm.mask(m, features=features_in_ds, dim=z_dim)\n",
    "mask.plot()"
   ]
  },
  {
   "cell_type": "markdown",
   "metadata": {},
   "source": [
    "__BIC__"
   ]
  },
  {
   "cell_type": "code",
   "execution_count": 21,
   "metadata": {},
   "outputs": [
    {
     "name": "stdout",
     "output_type": "stream",
     "text": [
      "0\n",
      "1\n",
      "2\n",
      "3\n",
      "4\n",
      "5\n",
      "6\n",
      "7\n",
      "8\n",
      "9\n",
      "13.186210787296295\n"
     ]
    }
   ],
   "source": [
    "#### using all dataset\n",
    "\n",
    "import time\n",
    "start = time.time()\n",
    "\n",
    "#only one snapshot for the moment\n",
    "dsp = ds.isel(time=0)\n",
    "\n",
    "# Since we have more observations than the maximum independant sample size, \n",
    "# we can run several BIC computations\n",
    "kmax = 20\n",
    "#Nrun = 1\n",
    "Nrun = 10\n",
    "BIC = np.zeros((kmax,Nrun))\n",
    "\n",
    "for run in range(Nrun):\n",
    "    print(run)\n",
    "    for k in range(kmax):\n",
    "        #print(k)\n",
    "        #create model\n",
    "        m = pcm(K=k+1, features=pcm_features)\n",
    "        #fit model\n",
    "        m.fit(dsp, features=features_in_ds, dim=z_dim)\n",
    "        #calculate BIC\n",
    "        BIC[k,run] = m.bic(dsp, features=features_in_ds, dim=z_dim)\n",
    "        \n",
    "end = time.time()\n",
    "print((end - start)/60)"
   ]
  },
  {
   "cell_type": "code",
   "execution_count": 23,
   "metadata": {},
   "outputs": [
    {
     "name": "stdout",
     "output_type": "stream",
     "text": [
      "0\n",
      "1\n",
      "2\n",
      "3\n",
      "4\n",
      "5\n",
      "6\n",
      "7\n",
      "8\n",
      "9\n",
      "1.9104728778203328\n"
     ]
    }
   ],
   "source": [
    "#### using random lat and lon\n",
    "\n",
    "import time\n",
    "start = time.time()\n",
    "\n",
    "#only one snapshot for the moment\n",
    "dsp = ds.isel(time=0)\n",
    "#choose random sample of dataset\n",
    "n_lat = np.int(dsp.latitude.size/2)\n",
    "n_lon = np.int(dsp.longitude.size/2)\n",
    "\n",
    "# Since we have more observations than the maximum independant sample size, \n",
    "# we can run several BIC computations\n",
    "kmax = 20\n",
    "#Nrun = 1\n",
    "Nrun = 10\n",
    "BIC = np.zeros((kmax,Nrun))\n",
    "BICf = np.zeros((kmax,Nrun))\n",
    "\n",
    "for run in range(Nrun):\n",
    "    print(run)\n",
    "    for k in range(kmax):\n",
    "        #print(k)\n",
    "        #random sample\n",
    "        i_lat = np.random.choice(range(dsp.latitude.size), n_lat, replace=False)\n",
    "        i_lon = np.random.choice(range(dsp.longitude.size), n_lon, replace=False)\n",
    "        ds_ran = dsp.isel(latitude=i_lat, longitude=i_lon)\n",
    "        \n",
    "        #create model\n",
    "        m = pcm(K=k+1, features=pcm_features)\n",
    "        #fit model\n",
    "        m.fit(ds_ran, features=features_in_ds, dim=z_dim)\n",
    "        \n",
    "        #calculate BIC\n",
    "        BIC[k,run] = m.bic(ds_ran, features=features_in_ds, dim=z_dim)\n",
    "        \n",
    "end = time.time()\n",
    "print((end - start)/60)"
   ]
  },
  {
   "cell_type": "code",
   "execution_count": 16,
   "metadata": {},
   "outputs": [
    {
     "name": "stdout",
     "output_type": "stream",
     "text": [
      "0\n",
      "1\n",
      "2\n",
      "3\n",
      "4\n",
      "5\n",
      "6\n",
      "7\n",
      "8\n",
      "9\n",
      "2.2573187867800395\n"
     ]
    }
   ],
   "source": [
    "#### using only profiles not touching\n",
    "\n",
    "import time\n",
    "start = time.time()\n",
    "\n",
    "#only one snapshot for the moment\n",
    "dsp = ds.isel(time=0)\n",
    "\n",
    "# Since we have more observations than the maximum independant sample size, \n",
    "# we can run several BIC computations\n",
    "kmax = 20\n",
    "#Nrun = 1\n",
    "Nrun = 10\n",
    "BIC = np.zeros((kmax,Nrun))\n",
    "BICf = np.zeros((kmax,Nrun))\n",
    "\n",
    "for run in range(Nrun):\n",
    "    print(run)\n",
    "    for k in range(kmax):\n",
    "        #print(k)\n",
    "        #random sample\n",
    "        latp = np.random.choice(range(dsp.latitude.size), 1, replace=False)\n",
    "        lonp = np.random.choice(range(dsp.latitude.size), 1, replace=False)\n",
    "        i_lat = np.concatenate((np.arange(0,latp,2),np.arange(latp,dsp.latitude.size,2)))\n",
    "        i_lon = np.concatenate((np.arange(0,lonp,2),np.arange(lonp,dsp.longitude.size,2)))\n",
    "        #print(i_lat)\n",
    "        #print(i_lon)\n",
    "        ds_ran = dsp.isel(latitude=i_lat, longitude=i_lon)\n",
    "        \n",
    "        #create model\n",
    "        m = pcm(K=k+1, features=pcm_features)\n",
    "        #fit model\n",
    "        m.fit(ds_ran, features=features_in_ds, dim=z_dim)\n",
    "        #calculate BIC\n",
    "        BIC[k,run] = m.bic(ds_ran, features=features_in_ds, dim=z_dim)\n",
    "        \n",
    "end = time.time()\n",
    "print((end - start)/60)"
   ]
  },
  {
   "cell_type": "code",
   "execution_count": 24,
   "metadata": {},
   "outputs": [
    {
     "data": {
      "text/plain": [
       "<matplotlib.legend.Legend at 0x7ff345dc50d0>"
      ]
     },
     "execution_count": 24,
     "metadata": {},
     "output_type": "execute_result"
    },
    {
     "data": {
      "image/png": "[encoded data removed]",
      "text/plain": [
       "<Figure size 900x450 with 1 Axes>"
      ]
     },
     "metadata": {
      "needs_background": "light"
     },
     "output_type": "display_data"
    }
   ],
   "source": [
    "fig, ax = plt.subplots(nrows=1, ncols=1, figsize=(10,5), dpi=90)\n",
    "BICmean = np.mean(BIC,axis=1)\n",
    "BICstd = np.std(BIC,axis=1)\n",
    "normBICmean = (BICmean-np.mean(BICmean))/np.std(BICmean)\n",
    "normBICstd = np.std(normBICmean)\n",
    "#plt.plot(np.arange(kmax)+1,(BIC-np.mean(BIC))/np.std(BIC),label='Raw BIC')\n",
    "plt.plot(np.arange(kmax)+1,BICmean,label='norm BIC mean')\n",
    "plt.plot(np.arange(kmax)+1,BICmean+BICstd,color=[0.7]*3,linewidth=0.5)\n",
    "plt.plot(np.arange(kmax)+1,BICmean-BICstd,color=[0.7]*3,linewidth=0.5)\n",
    "plt.ylabel('BIC')\n",
    "plt.xlabel('Number of clusters')\n",
    "plt.xticks(np.arange(kmax)+1)\n",
    "plt.legend()"
   ]
  },
  {
   "cell_type": "markdown",
   "metadata": {},
   "source": [
    "__Robustness__"
   ]
  },
  {
   "cell_type": "markdown",
   "metadata": {},
   "source": [
    "Description"
   ]
  },
  {
   "cell_type": "code",
   "execution_count": null,
   "metadata": {},
   "outputs": [],
   "source": [
    "m.predict_proba(ds, features=features_in_ds, dim=z_dim, inplace=True);\n",
    "ds.pyxpcm.robustness(m, inplace=True)\n",
    "ds.pyxpcm.robustness_digit(m, inplace=True)"
   ]
  },
  {
   "cell_type": "code",
   "execution_count": null,
   "metadata": {},
   "outputs": [],
   "source": [
    "P = Plotter(ds, m)\n",
    "P.plot_robustness(time_slice=7)"
   ]
  },
  {
   "cell_type": "markdown",
   "metadata": {},
   "source": [
    "## Save fitted model\n",
    "***"
   ]
  },
  {
   "cell_type": "code",
   "execution_count": null,
   "metadata": {},
   "outputs": [],
   "source": [
    "# save model to development\n",
    "#m.to_netcdf('models/tests_model_GLOBAL_REANALYSIS_PHY_001_030_temp.nc')"
   ]
  }
 ],
 "metadata": {
  "kernelspec": {
   "display_name": "BlueCloud",
   "language": "python",
   "name": "bluecloud"
  },
  "language_info": {
   "codemirror_mode": {
    "name": "ipython",
    "version": 3
   },
   "file_extension": ".py",
   "mimetype": "text/x-python",
   "name": "python",
   "nbconvert_exporter": "python",
   "pygments_lexer": "ipython3",
   "version": "3.7.6"
  }
 },
 "nbformat": 4,
 "nbformat_minor": 4
}
