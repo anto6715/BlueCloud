{
 "cells": [
  {
   "cell_type": "markdown",
   "metadata": {},
   "source": [
    "# __Ocean regimes indicator__"
   ]
  },
  {
   "cell_type": "markdown",
   "metadata": {},
   "source": [
    "Apply a Gaussian Mixtures Model to a dataset of time series"
   ]
  },
  {
   "cell_type": "markdown",
   "metadata": {},
   "source": [
    "***\n",
    "ds : initial dataset (lat, lon, week)\n",
    "\n",
    "X : staked dataset (sampling, week, week_reduced)\n",
    "\n",
    "ds_labels: unstacked final dataset (lat, lon, week)\n",
    "***"
   ]
  },
  {
   "cell_type": "code",
   "execution_count": 1,
   "metadata": {},
   "outputs": [],
   "source": [
    "import xarray as xr\n",
    "import numpy as np\n",
    "import pandas as pd\n",
    "\n",
    "import pyxpcm\n",
    "from pyxpcm.models import pcm\n",
    "\n",
    "import cartopy.crs as ccrs\n",
    "import cartopy.feature as cfeature\n",
    "import matplotlib.pyplot as plt\n",
    "import matplotlib.colors as mcolors\n",
    "import matplotlib as mpl\n",
    "\n",
    "import seaborn as sns\n",
    "sns.set_context(\"paper\")\n",
    "with_seaborn = True\n",
    "\n",
    "import Plotter_OR\n",
    "from Plotter_OR import Plotter_OR \n",
    "\n",
    "from PIL import Image\n",
    "\n",
    "import importlib"
   ]
  },
  {
   "cell_type": "markdown",
   "metadata": {},
   "source": [
    "## Load dataset\n",
    "***"
   ]
  },
  {
   "cell_type": "markdown",
   "metadata": {},
   "source": [
    "- One year of SST data in the Mediterranean Sea:  SST_GLO_SST_L4_NRT_OBSERVATIONS_010_014 product"
   ]
  },
  {
   "cell_type": "code",
   "execution_count": 2,
   "metadata": {},
   "outputs": [],
   "source": [
    "file_path = 'datasets/METOFFICE-GLO-SST-L4-NRT-OBS-SKIN-DIU-FV01.1_1607013925530.nc'"
   ]
  },
  {
   "cell_type": "markdown",
   "metadata": {},
   "source": [
    "- One year of SST data in the North Atlantic:  SST_GLO_SST_L4_NRT_OBSERVATIONS_010_014 product"
   ]
  },
  {
   "cell_type": "code",
   "execution_count": 3,
   "metadata": {},
   "outputs": [],
   "source": [
    "#file_path = 'datasets/METOFFICE-GLO-SST-L4-NRT-OBS-SKIN-DIU-FV01.1_1608215256580.nc'"
   ]
  },
  {
   "cell_type": "markdown",
   "metadata": {},
   "source": [
    "- One year of Ocean Color data in the Mediterranean Sea:  OCEANCOLOUR_GLO_CHL_L4_REP_OBSERVATIONS_009_082 product"
   ]
  },
  {
   "cell_type": "code",
   "execution_count": 4,
   "metadata": {},
   "outputs": [],
   "source": [
    "#file_path = 'datasets/dataset-oc-glo-bio-multi-l4-chl_interpolated_4km_daily-rep_1610026811620.nc'"
   ]
  },
  {
   "cell_type": "markdown",
   "metadata": {},
   "source": [
    "Open dataset"
   ]
  },
  {
   "cell_type": "code",
   "execution_count": 5,
   "metadata": {},
   "outputs": [
    {
     "data": {
      "text/html": [
       "<div><svg style=\"position: absolute; width: 0; height: 0; overflow: hidden\">\n",
       "<defs>\n",
       "<symbol id=\"icon-database\" viewBox=\"0 0 32 32\">\n",
       "<title>Show/Hide data repr</title>\n",
       "<path d=\"M16 0c-8.837 0-16 2.239-16 5v4c0 2.761 7.163 5 16 5s16-2.239 16-5v-4c0-2.761-7.163-5-16-5z\"></path>\n",
       "<path d=\"M16 17c-8.837 0-16-2.239-16-5v6c0 2.761 7.163 5 16 5s16-2.239 16-5v-6c0 2.761-7.163 5-16 5z\"></path>\n",
       "<path d=\"M16 26c-8.837 0-16-2.239-16-5v6c0 2.761 7.163 5 16 5s16-2.239 16-5v-6c0 2.761-7.163 5-16 5z\"></path>\n",
       "</symbol>\n",
       "<symbol id=\"icon-file-text2\" viewBox=\"0 0 32 32\">\n",
       "<title>Show/Hide attributes</title>\n",
       "<path d=\"M28.681 7.159c-0.694-0.947-1.662-2.053-2.724-3.116s-2.169-2.030-3.116-2.724c-1.612-1.182-2.393-1.319-2.841-1.319h-15.5c-1.378 0-2.5 1.121-2.5 2.5v27c0 1.378 1.122 2.5 2.5 2.5h23c1.378 0 2.5-1.122 2.5-2.5v-19.5c0-0.448-0.137-1.23-1.319-2.841zM24.543 5.457c0.959 0.959 1.712 1.825 2.268 2.543h-4.811v-4.811c0.718 0.556 1.584 1.309 2.543 2.268zM28 29.5c0 0.271-0.229 0.5-0.5 0.5h-23c-0.271 0-0.5-0.229-0.5-0.5v-27c0-0.271 0.229-0.5 0.5-0.5 0 0 15.499-0 15.5 0v7c0 0.552 0.448 1 1 1h7v19.5z\"></path>\n",
       "<path d=\"M23 26h-14c-0.552 0-1-0.448-1-1s0.448-1 1-1h14c0.552 0 1 0.448 1 1s-0.448 1-1 1z\"></path>\n",
       "<path d=\"M23 22h-14c-0.552 0-1-0.448-1-1s0.448-1 1-1h14c0.552 0 1 0.448 1 1s-0.448 1-1 1z\"></path>\n",
       "<path d=\"M23 18h-14c-0.552 0-1-0.448-1-1s0.448-1 1-1h14c0.552 0 1 0.448 1 1s-0.448 1-1 1z\"></path>\n",
       "</symbol>\n",
       "</defs>\n",
       "</svg>\n",
       "<style>/* CSS stylesheet for displaying xarray objects in jupyterlab.\n",
       " *\n",
       " */\n",
       "\n",
       ":root {\n",
       "  --xr-font-color0: var(--jp-content-font-color0, rgba(0, 0, 0, 1));\n",
       "  --xr-font-color2: var(--jp-content-font-color2, rgba(0, 0, 0, 0.54));\n",
       "  --xr-font-color3: var(--jp-content-font-color3, rgba(0, 0, 0, 0.38));\n",
       "  --xr-border-color: var(--jp-border-color2, #e0e0e0);\n",
       "  --xr-disabled-color: var(--jp-layout-color3, #bdbdbd);\n",
       "  --xr-background-color: var(--jp-layout-color0, white);\n",
       "  --xr-background-color-row-even: var(--jp-layout-color1, white);\n",
       "  --xr-background-color-row-odd: var(--jp-layout-color2, #eeeeee);\n",
       "}\n",
       "\n",
       ".xr-wrap {\n",
       "  min-width: 300px;\n",
       "  max-width: 700px;\n",
       "}\n",
       "\n",
       ".xr-header {\n",
       "  padding-top: 6px;\n",
       "  padding-bottom: 6px;\n",
       "  margin-bottom: 4px;\n",
       "  border-bottom: solid 1px var(--xr-border-color);\n",
       "}\n",
       "\n",
       ".xr-header > div,\n",
       ".xr-header > ul {\n",
       "  display: inline;\n",
       "  margin-top: 0;\n",
       "  margin-bottom: 0;\n",
       "}\n",
       "\n",
       ".xr-obj-type,\n",
       ".xr-array-name {\n",
       "  margin-left: 2px;\n",
       "  margin-right: 10px;\n",
       "}\n",
       "\n",
       ".xr-obj-type {\n",
       "  color: var(--xr-font-color2);\n",
       "}\n",
       "\n",
       ".xr-sections {\n",
       "  padding-left: 0 !important;\n",
       "  display: grid;\n",
       "  grid-template-columns: 150px auto auto 1fr 20px 20px;\n",
       "}\n",
       "\n",
       ".xr-section-item {\n",
       "  display: contents;\n",
       "}\n",
       "\n",
       ".xr-section-item input {\n",
       "  display: none;\n",
       "}\n",
       "\n",
       ".xr-section-item input + label {\n",
       "  color: var(--xr-disabled-color);\n",
       "}\n",
       "\n",
       ".xr-section-item input:enabled + label {\n",
       "  cursor: pointer;\n",
       "  color: var(--xr-font-color2);\n",
       "}\n",
       "\n",
       ".xr-section-item input:enabled + label:hover {\n",
       "  color: var(--xr-font-color0);\n",
       "}\n",
       "\n",
       ".xr-section-summary {\n",
       "  grid-column: 1;\n",
       "  color: var(--xr-font-color2);\n",
       "  font-weight: 500;\n",
       "}\n",
       "\n",
       ".xr-section-summary > span {\n",
       "  display: inline-block;\n",
       "  padding-left: 0.5em;\n",
       "}\n",
       "\n",
       ".xr-section-summary-in:disabled + label {\n",
       "  color: var(--xr-font-color2);\n",
       "}\n",
       "\n",
       ".xr-section-summary-in + label:before {\n",
       "  display: inline-block;\n",
       "  content: '►';\n",
       "  font-size: 11px;\n",
       "  width: 15px;\n",
       "  text-align: center;\n",
       "}\n",
       "\n",
       ".xr-section-summary-in:disabled + label:before {\n",
       "  color: var(--xr-disabled-color);\n",
       "}\n",
       "\n",
       ".xr-section-summary-in:checked + label:before {\n",
       "  content: '▼';\n",
       "}\n",
       "\n",
       ".xr-section-summary-in:checked + label > span {\n",
       "  display: none;\n",
       "}\n",
       "\n",
       ".xr-section-summary,\n",
       ".xr-section-inline-details {\n",
       "  padding-top: 4px;\n",
       "  padding-bottom: 4px;\n",
       "}\n",
       "\n",
       ".xr-section-inline-details {\n",
       "  grid-column: 2 / -1;\n",
       "}\n",
       "\n",
       ".xr-section-details {\n",
       "  display: none;\n",
       "  grid-column: 1 / -1;\n",
       "  margin-bottom: 5px;\n",
       "}\n",
       "\n",
       ".xr-section-summary-in:checked ~ .xr-section-details {\n",
       "  display: contents;\n",
       "}\n",
       "\n",
       ".xr-array-wrap {\n",
       "  grid-column: 1 / -1;\n",
       "  display: grid;\n",
       "  grid-template-columns: 20px auto;\n",
       "}\n",
       "\n",
       ".xr-array-wrap > label {\n",
       "  grid-column: 1;\n",
       "  vertical-align: top;\n",
       "}\n",
       "\n",
       ".xr-preview {\n",
       "  color: var(--xr-font-color3);\n",
       "}\n",
       "\n",
       ".xr-array-preview,\n",
       ".xr-array-data {\n",
       "  padding: 0 5px !important;\n",
       "  grid-column: 2;\n",
       "}\n",
       "\n",
       ".xr-array-data,\n",
       ".xr-array-in:checked ~ .xr-array-preview {\n",
       "  display: none;\n",
       "}\n",
       "\n",
       ".xr-array-in:checked ~ .xr-array-data,\n",
       ".xr-array-preview {\n",
       "  display: inline-block;\n",
       "}\n",
       "\n",
       ".xr-dim-list {\n",
       "  display: inline-block !important;\n",
       "  list-style: none;\n",
       "  padding: 0 !important;\n",
       "  margin: 0;\n",
       "}\n",
       "\n",
       ".xr-dim-list li {\n",
       "  display: inline-block;\n",
       "  padding: 0;\n",
       "  margin: 0;\n",
       "}\n",
       "\n",
       ".xr-dim-list:before {\n",
       "  content: '(';\n",
       "}\n",
       "\n",
       ".xr-dim-list:after {\n",
       "  content: ')';\n",
       "}\n",
       "\n",
       ".xr-dim-list li:not(:last-child):after {\n",
       "  content: ',';\n",
       "  padding-right: 5px;\n",
       "}\n",
       "\n",
       ".xr-has-index {\n",
       "  font-weight: bold;\n",
       "}\n",
       "\n",
       ".xr-var-list,\n",
       ".xr-var-item {\n",
       "  display: contents;\n",
       "}\n",
       "\n",
       ".xr-var-item > div,\n",
       ".xr-var-item label,\n",
       ".xr-var-item > .xr-var-name span {\n",
       "  background-color: var(--xr-background-color-row-even);\n",
       "  margin-bottom: 0;\n",
       "}\n",
       "\n",
       ".xr-var-item > .xr-var-name:hover span {\n",
       "  padding-right: 5px;\n",
       "}\n",
       "\n",
       ".xr-var-list > li:nth-child(odd) > div,\n",
       ".xr-var-list > li:nth-child(odd) > label,\n",
       ".xr-var-list > li:nth-child(odd) > .xr-var-name span {\n",
       "  background-color: var(--xr-background-color-row-odd);\n",
       "}\n",
       "\n",
       ".xr-var-name {\n",
       "  grid-column: 1;\n",
       "}\n",
       "\n",
       ".xr-var-dims {\n",
       "  grid-column: 2;\n",
       "}\n",
       "\n",
       ".xr-var-dtype {\n",
       "  grid-column: 3;\n",
       "  text-align: right;\n",
       "  color: var(--xr-font-color2);\n",
       "}\n",
       "\n",
       ".xr-var-preview {\n",
       "  grid-column: 4;\n",
       "}\n",
       "\n",
       ".xr-var-name,\n",
       ".xr-var-dims,\n",
       ".xr-var-dtype,\n",
       ".xr-preview,\n",
       ".xr-attrs dt {\n",
       "  white-space: nowrap;\n",
       "  overflow: hidden;\n",
       "  text-overflow: ellipsis;\n",
       "  padding-right: 10px;\n",
       "}\n",
       "\n",
       ".xr-var-name:hover,\n",
       ".xr-var-dims:hover,\n",
       ".xr-var-dtype:hover,\n",
       ".xr-attrs dt:hover {\n",
       "  overflow: visible;\n",
       "  width: auto;\n",
       "  z-index: 1;\n",
       "}\n",
       "\n",
       ".xr-var-attrs,\n",
       ".xr-var-data {\n",
       "  display: none;\n",
       "  background-color: var(--xr-background-color) !important;\n",
       "  padding-bottom: 5px !important;\n",
       "}\n",
       "\n",
       ".xr-var-attrs-in:checked ~ .xr-var-attrs,\n",
       ".xr-var-data-in:checked ~ .xr-var-data {\n",
       "  display: block;\n",
       "}\n",
       "\n",
       ".xr-var-data > table {\n",
       "  float: right;\n",
       "}\n",
       "\n",
       ".xr-var-name span,\n",
       ".xr-var-data,\n",
       ".xr-attrs {\n",
       "  padding-left: 25px !important;\n",
       "}\n",
       "\n",
       ".xr-attrs,\n",
       ".xr-var-attrs,\n",
       ".xr-var-data {\n",
       "  grid-column: 1 / -1;\n",
       "}\n",
       "\n",
       "dl.xr-attrs {\n",
       "  padding: 0;\n",
       "  margin: 0;\n",
       "  display: grid;\n",
       "  grid-template-columns: 125px auto;\n",
       "}\n",
       "\n",
       ".xr-attrs dt, dd {\n",
       "  padding: 0;\n",
       "  margin: 0;\n",
       "  float: left;\n",
       "  padding-right: 10px;\n",
       "  width: auto;\n",
       "}\n",
       "\n",
       ".xr-attrs dt {\n",
       "  font-weight: normal;\n",
       "  grid-column: 1;\n",
       "}\n",
       "\n",
       ".xr-attrs dt:hover span {\n",
       "  display: inline-block;\n",
       "  background: var(--xr-background-color);\n",
       "  padding-right: 10px;\n",
       "}\n",
       "\n",
       ".xr-attrs dd {\n",
       "  grid-column: 2;\n",
       "  white-space: pre-wrap;\n",
       "  word-break: break-all;\n",
       "}\n",
       "\n",
       ".xr-icon-database,\n",
       ".xr-icon-file-text2 {\n",
       "  display: inline-block;\n",
       "  vertical-align: middle;\n",
       "  width: 1em;\n",
       "  height: 1.5em !important;\n",
       "  stroke-width: 0;\n",
       "  stroke: currentColor;\n",
       "  fill: currentColor;\n",
       "}\n",
       "</style><div class='xr-wrap'><div class='xr-header'><div class='xr-obj-type'>xarray.Dataset</div></div><ul class='xr-sections'><li class='xr-section-item'><input id='section-886c53c5-6d9a-4bfd-8239-765090f0a931' class='xr-section-summary-in' type='checkbox' disabled ><label for='section-886c53c5-6d9a-4bfd-8239-765090f0a931' class='xr-section-summary'  title='Expand/collapse section'>Dimensions:</label><div class='xr-section-inline-details'><ul class='xr-dim-list'><li><span class='xr-has-index'>lat</span>: 65</li><li><span class='xr-has-index'>lon</span>: 192</li><li><span class='xr-has-index'>time</span>: 8760</li></ul></div><div class='xr-section-details'></div></li><li class='xr-section-item'><input id='section-eb2bf5a4-2896-4ba4-85e4-fb84e4fe80be' class='xr-section-summary-in' type='checkbox'  checked><label for='section-eb2bf5a4-2896-4ba4-85e4-fb84e4fe80be' class='xr-section-summary' >Coordinates: <span>(3)</span></label><div class='xr-section-inline-details'></div><div class='xr-section-details'><ul class='xr-var-list'><li class='xr-var-item'><div class='xr-var-name'><span class='xr-has-index'>time</span></div><div class='xr-var-dims'>(time)</div><div class='xr-var-dtype'>datetime64[ns]</div><div class='xr-var-preview xr-preview'>2019-01-01T00:30:00 ... 2019-12-31T23:30:00</div><input id='attrs-6bcad6e8-1d58-4f01-8cc4-b86632a04b4e' class='xr-var-attrs-in' type='checkbox' ><label for='attrs-6bcad6e8-1d58-4f01-8cc4-b86632a04b4e' title='Show/Hide attributes'><svg class='icon xr-icon-file-text2'><use xlink:href='#icon-file-text2'></use></svg></label><input id='data-5674d3f4-75b5-4c51-8bb2-c4d5055bbd5a' class='xr-var-data-in' type='checkbox'><label for='data-5674d3f4-75b5-4c51-8bb2-c4d5055bbd5a' title='Show/Hide data repr'><svg class='icon xr-icon-database'><use xlink:href='#icon-database'></use></svg></label><div class='xr-var-attrs'><dl class='xr-attrs'><dt><span>long_name :</span></dt><dd>reference time of sst field</dd><dt><span>standard_name :</span></dt><dd>time</dd><dt><span>axis :</span></dt><dd>T</dd><dt><span>comment :</span></dt><dd></dd><dt><span>_ChunkSizes :</span></dt><dd>24</dd><dt><span>_CoordinateAxisType :</span></dt><dd>Time</dd></dl></div><pre class='xr-var-data'>array([&#x27;2019-01-01T00:30:00.000000000&#x27;, &#x27;2019-01-01T01:30:00.000000000&#x27;,\n",
       "       &#x27;2019-01-01T02:30:00.000000000&#x27;, ..., &#x27;2019-12-31T21:30:00.000000000&#x27;,\n",
       "       &#x27;2019-12-31T22:30:00.000000000&#x27;, &#x27;2019-12-31T23:30:00.000000000&#x27;],\n",
       "      dtype=&#x27;datetime64[ns]&#x27;)</pre></li><li class='xr-var-item'><div class='xr-var-name'><span class='xr-has-index'>lat</span></div><div class='xr-var-dims'>(lat)</div><div class='xr-var-dtype'>float32</div><div class='xr-var-preview xr-preview'>30.125 30.375 ... 45.875 46.125</div><input id='attrs-ccbf0b94-c421-4339-ae69-386b5bfff127' class='xr-var-attrs-in' type='checkbox' ><label for='attrs-ccbf0b94-c421-4339-ae69-386b5bfff127' title='Show/Hide attributes'><svg class='icon xr-icon-file-text2'><use xlink:href='#icon-file-text2'></use></svg></label><input id='data-ebf626cf-acc3-4a55-9b93-af771254f9fe' class='xr-var-data-in' type='checkbox'><label for='data-ebf626cf-acc3-4a55-9b93-af771254f9fe' title='Show/Hide data repr'><svg class='icon xr-icon-database'><use xlink:href='#icon-database'></use></svg></label><div class='xr-var-attrs'><dl class='xr-attrs'><dt><span>standard_name :</span></dt><dd>latitude</dd><dt><span>long_name :</span></dt><dd>latitude</dd><dt><span>units :</span></dt><dd>degrees_north</dd><dt><span>valid_min :</span></dt><dd>-90.0</dd><dt><span>valid_max :</span></dt><dd>90.0</dd><dt><span>axis :</span></dt><dd>Y</dd><dt><span>comment :</span></dt><dd> Latitude geographical coordinates,WGS84 projection</dd><dt><span>_ChunkSizes :</span></dt><dd>720</dd><dt><span>_CoordinateAxisType :</span></dt><dd>Lat</dd></dl></div><pre class='xr-var-data'>array([30.125, 30.375, 30.625, 30.875, 31.125, 31.375, 31.625, 31.875, 32.125,\n",
       "       32.375, 32.625, 32.875, 33.125, 33.375, 33.625, 33.875, 34.125, 34.375,\n",
       "       34.625, 34.875, 35.125, 35.375, 35.625, 35.875, 36.125, 36.375, 36.625,\n",
       "       36.875, 37.125, 37.375, 37.625, 37.875, 38.125, 38.375, 38.625, 38.875,\n",
       "       39.125, 39.375, 39.625, 39.875, 40.125, 40.375, 40.625, 40.875, 41.125,\n",
       "       41.375, 41.625, 41.875, 42.125, 42.375, 42.625, 42.875, 43.125, 43.375,\n",
       "       43.625, 43.875, 44.125, 44.375, 44.625, 44.875, 45.125, 45.375, 45.625,\n",
       "       45.875, 46.125], dtype=float32)</pre></li><li class='xr-var-item'><div class='xr-var-name'><span class='xr-has-index'>lon</span></div><div class='xr-var-dims'>(lon)</div><div class='xr-var-dtype'>float32</div><div class='xr-var-preview xr-preview'>-4.875 -4.625 ... 42.625 42.875</div><input id='attrs-3af970f5-af7c-4437-904c-176dbd48dc77' class='xr-var-attrs-in' type='checkbox' ><label for='attrs-3af970f5-af7c-4437-904c-176dbd48dc77' title='Show/Hide attributes'><svg class='icon xr-icon-file-text2'><use xlink:href='#icon-file-text2'></use></svg></label><input id='data-ca890d61-8fca-4b69-99cc-3ba24ae9912e' class='xr-var-data-in' type='checkbox'><label for='data-ca890d61-8fca-4b69-99cc-3ba24ae9912e' title='Show/Hide data repr'><svg class='icon xr-icon-database'><use xlink:href='#icon-database'></use></svg></label><div class='xr-var-attrs'><dl class='xr-attrs'><dt><span>standard_name :</span></dt><dd>longitude</dd><dt><span>long_name :</span></dt><dd>longitude</dd><dt><span>units :</span></dt><dd>degrees_east</dd><dt><span>valid_min :</span></dt><dd>-180.0</dd><dt><span>valid_max :</span></dt><dd>180.0</dd><dt><span>axis :</span></dt><dd>X</dd><dt><span>comment :</span></dt><dd> Longitude geographical coordinates,WGS84 projection</dd><dt><span>_ChunkSizes :</span></dt><dd>1440</dd><dt><span>_CoordinateAxisType :</span></dt><dd>Lon</dd></dl></div><pre class='xr-var-data'>array([-4.875, -4.625, -4.375, -4.125, -3.875, -3.625, -3.375, -3.125, -2.875,\n",
       "       -2.625, -2.375, -2.125, -1.875, -1.625, -1.375, -1.125, -0.875, -0.625,\n",
       "       -0.375, -0.125,  0.125,  0.375,  0.625,  0.875,  1.125,  1.375,  1.625,\n",
       "        1.875,  2.125,  2.375,  2.625,  2.875,  3.125,  3.375,  3.625,  3.875,\n",
       "        4.125,  4.375,  4.625,  4.875,  5.125,  5.375,  5.625,  5.875,  6.125,\n",
       "        6.375,  6.625,  6.875,  7.125,  7.375,  7.625,  7.875,  8.125,  8.375,\n",
       "        8.625,  8.875,  9.125,  9.375,  9.625,  9.875, 10.125, 10.375, 10.625,\n",
       "       10.875, 11.125, 11.375, 11.625, 11.875, 12.125, 12.375, 12.625, 12.875,\n",
       "       13.125, 13.375, 13.625, 13.875, 14.125, 14.375, 14.625, 14.875, 15.125,\n",
       "       15.375, 15.625, 15.875, 16.125, 16.375, 16.625, 16.875, 17.125, 17.375,\n",
       "       17.625, 17.875, 18.125, 18.375, 18.625, 18.875, 19.125, 19.375, 19.625,\n",
       "       19.875, 20.125, 20.375, 20.625, 20.875, 21.125, 21.375, 21.625, 21.875,\n",
       "       22.125, 22.375, 22.625, 22.875, 23.125, 23.375, 23.625, 23.875, 24.125,\n",
       "       24.375, 24.625, 24.875, 25.125, 25.375, 25.625, 25.875, 26.125, 26.375,\n",
       "       26.625, 26.875, 27.125, 27.375, 27.625, 27.875, 28.125, 28.375, 28.625,\n",
       "       28.875, 29.125, 29.375, 29.625, 29.875, 30.125, 30.375, 30.625, 30.875,\n",
       "       31.125, 31.375, 31.625, 31.875, 32.125, 32.375, 32.625, 32.875, 33.125,\n",
       "       33.375, 33.625, 33.875, 34.125, 34.375, 34.625, 34.875, 35.125, 35.375,\n",
       "       35.625, 35.875, 36.125, 36.375, 36.625, 36.875, 37.125, 37.375, 37.625,\n",
       "       37.875, 38.125, 38.375, 38.625, 38.875, 39.125, 39.375, 39.625, 39.875,\n",
       "       40.125, 40.375, 40.625, 40.875, 41.125, 41.375, 41.625, 41.875, 42.125,\n",
       "       42.375, 42.625, 42.875], dtype=float32)</pre></li></ul></div></li><li class='xr-section-item'><input id='section-a677b5fe-0c49-4f14-98bb-cd5d6f74ab1f' class='xr-section-summary-in' type='checkbox'  checked><label for='section-a677b5fe-0c49-4f14-98bb-cd5d6f74ab1f' class='xr-section-summary' >Data variables: <span>(4)</span></label><div class='xr-section-inline-details'></div><div class='xr-section-details'><ul class='xr-var-list'><li class='xr-var-item'><div class='xr-var-name'><span>sea_surface_warm_layer_temperature_difference</span></div><div class='xr-var-dims'>(time, lat, lon)</div><div class='xr-var-dtype'>float32</div><div class='xr-var-preview xr-preview'>...</div><input id='attrs-54b6d61d-e25a-4b73-b53d-ef6cd1f368be' class='xr-var-attrs-in' type='checkbox' ><label for='attrs-54b6d61d-e25a-4b73-b53d-ef6cd1f368be' title='Show/Hide attributes'><svg class='icon xr-icon-file-text2'><use xlink:href='#icon-file-text2'></use></svg></label><input id='data-977b9a84-8535-485e-9727-ccfb5b7fab7b' class='xr-var-data-in' type='checkbox'><label for='data-977b9a84-8535-485e-9727-ccfb5b7fab7b' title='Show/Hide data repr'><svg class='icon xr-icon-database'><use xlink:href='#icon-database'></use></svg></label><div class='xr-var-attrs'><dl class='xr-attrs'><dt><span>long_name :</span></dt><dd>Temperature difference between subskin and foundation SST</dd><dt><span>units :</span></dt><dd>kelvin</dd><dt><span>valid_min :</span></dt><dd>-1000</dd><dt><span>valid_max :</span></dt><dd>10000</dd><dt><span>source :</span></dt><dd>NAVO-L2P-AVHRR19_G, OSPO-L2P-GOES15, SEVIRI_SST-OSISAF-L3C-v1.0, OSPO-L2P-MTSAT2</dd><dt><span>reference :</span></dt><dd>N/A</dd><dt><span>comment :</span></dt><dd> Warm layer as defined in Takaya et al (2010), Refinements to a prognostic scheme of sea surface skin temperature, JGR, 115,DOI: 10.1029/2009JC005985. Specifically this is the magnitude of the warming due to solar radiation in the top ~3m of the ocean. Skin SST is the sum of the foundation SST, the cool skin, and the warm layer. Value set to zero under ice</dd><dt><span>_ChunkSizes :</span></dt><dd>[  8 240 480]</dd></dl></div><pre class='xr-var-data'>[109324800 values with dtype=float32]</pre></li><li class='xr-var-item'><div class='xr-var-name'><span>sea_surface_cool_skin_temperature_difference</span></div><div class='xr-var-dims'>(time, lat, lon)</div><div class='xr-var-dtype'>float32</div><div class='xr-var-preview xr-preview'>...</div><input id='attrs-ee8e8535-51cd-4636-98a1-1426bde03e71' class='xr-var-attrs-in' type='checkbox' ><label for='attrs-ee8e8535-51cd-4636-98a1-1426bde03e71' title='Show/Hide attributes'><svg class='icon xr-icon-file-text2'><use xlink:href='#icon-file-text2'></use></svg></label><input id='data-3ac20a40-39ed-444c-b1c4-76840fe32fbd' class='xr-var-data-in' type='checkbox'><label for='data-3ac20a40-39ed-444c-b1c4-76840fe32fbd' title='Show/Hide data repr'><svg class='icon xr-icon-database'><use xlink:href='#icon-database'></use></svg></label><div class='xr-var-attrs'><dl class='xr-attrs'><dt><span>long_name :</span></dt><dd>Temperature difference between skin and subskin SST</dd><dt><span>units :</span></dt><dd>kelvin</dd><dt><span>valid_min :</span></dt><dd>-10000</dd><dt><span>valid_max :</span></dt><dd>1000</dd><dt><span>source :</span></dt><dd>NAVO-L2P-AVHRR19_G, OSPO-L2P-GOES15, SEVIRI_SST-OSISAF-L3C-v1.0, OSPO-L2P-MTSAT2</dd><dt><span>reference :</span></dt><dd>N/A</dd><dt><span>comment :</span></dt><dd> Cool skin as defined in Artale et al (2002), Role of surface fluxes in ocean general circulation models using satellite sea surface temperature: Validation of and sensitivity to the forcing frequency of the Mediterranean thermohaline circulation, JGRO, 107,DOI: 10.1029/2000JC000452. Specifically this is the magnitude of the cooling in the top 1mm of the ocean. Skin SST is the sum of the foundation SST, the cool skin, and the warm layer. Value set to zero under ice</dd><dt><span>_ChunkSizes :</span></dt><dd>[  8 240 480]</dd></dl></div><pre class='xr-var-data'>[109324800 values with dtype=float32]</pre></li><li class='xr-var-item'><div class='xr-var-name'><span>analysed_sst</span></div><div class='xr-var-dims'>(time, lat, lon)</div><div class='xr-var-dtype'>float32</div><div class='xr-var-preview xr-preview'>...</div><input id='attrs-be06efd2-16a1-4fa1-bf74-2987581282e2' class='xr-var-attrs-in' type='checkbox' ><label for='attrs-be06efd2-16a1-4fa1-bf74-2987581282e2' title='Show/Hide attributes'><svg class='icon xr-icon-file-text2'><use xlink:href='#icon-file-text2'></use></svg></label><input id='data-bd87a4f1-64e1-4991-a588-eb91dc9486ce' class='xr-var-data-in' type='checkbox'><label for='data-bd87a4f1-64e1-4991-a588-eb91dc9486ce' title='Show/Hide data repr'><svg class='icon xr-icon-database'><use xlink:href='#icon-database'></use></svg></label><div class='xr-var-attrs'><dl class='xr-attrs'><dt><span>long_name :</span></dt><dd>analysed sea surface skin temperature</dd><dt><span>standard_name :</span></dt><dd>sea_surface_skin_temperature</dd><dt><span>units :</span></dt><dd>kelvin</dd><dt><span>valid_min :</span></dt><dd>-300</dd><dt><span>valid_max :</span></dt><dd>4500</dd><dt><span>source :</span></dt><dd>NAVO-L2P-AVHRR19_G, OSPO-L2P-GOES15, SEVIRI_SST-OSISAF-L3C-v1.0, OSPO-L2P-MTSAT2</dd><dt><span>reference :</span></dt><dd>N/A</dd><dt><span>comment :</span></dt><dd> Hourly averaged OSTIA skin SST</dd><dt><span>_ChunkSizes :</span></dt><dd>[  8 240 480]</dd></dl></div><pre class='xr-var-data'>[109324800 values with dtype=float32]</pre></li><li class='xr-var-item'><div class='xr-var-name'><span>mask</span></div><div class='xr-var-dims'>(time, lat, lon)</div><div class='xr-var-dtype'>float32</div><div class='xr-var-preview xr-preview'>...</div><input id='attrs-18acfa36-be80-4e0e-9599-07c712369551' class='xr-var-attrs-in' type='checkbox' ><label for='attrs-18acfa36-be80-4e0e-9599-07c712369551' title='Show/Hide attributes'><svg class='icon xr-icon-file-text2'><use xlink:href='#icon-file-text2'></use></svg></label><input id='data-48ab3be2-7240-413e-9d4f-49737acff130' class='xr-var-data-in' type='checkbox'><label for='data-48ab3be2-7240-413e-9d4f-49737acff130' title='Show/Hide data repr'><svg class='icon xr-icon-database'><use xlink:href='#icon-database'></use></svg></label><div class='xr-var-attrs'><dl class='xr-attrs'><dt><span>long_name :</span></dt><dd>land sea ice lake bit mask</dd><dt><span>valid_min :</span></dt><dd>1</dd><dt><span>valid_max :</span></dt><dd>31</dd><dt><span>flag_masks :</span></dt><dd>[ 1  2  4  8 16]</dd><dt><span>flag_meanings :</span></dt><dd>water land optional_lake_surface sea_ice optional_river_surface</dd><dt><span>source :</span></dt><dd>NAVOCEANO_landmask_v1.0 EUMETSAT_OSI-SAF_icemask ARCLake_lakemask</dd><dt><span>comment :</span></dt><dd> Land/ open ocean/ sea ice /lake mask</dd><dt><span>_ChunkSizes :</span></dt><dd>[ 12 360 720]</dd></dl></div><pre class='xr-var-data'>[109324800 values with dtype=float32]</pre></li></ul></div></li><li class='xr-section-item'><input id='section-c1788ef3-d76e-4297-863d-c9ced81c5cc4' class='xr-section-summary-in' type='checkbox'  ><label for='section-c1788ef3-d76e-4297-863d-c9ced81c5cc4' class='xr-section-summary' >Attributes: <span>(52)</span></label><div class='xr-section-inline-details'></div><div class='xr-section-details'><dl class='xr-attrs'><dt><span>Conventions :</span></dt><dd>CF-1.4</dd><dt><span>title :</span></dt><dd>Global Diurnal Skin SST Analysis, L4 OSTIA, 0.25 deg hourly (METOFFICE-GLO-SST-L4-NRT-OBS-SKIN-DIU-FV01.1)</dd><dt><span>summary :</span></dt><dd>A merged, multi-sensor L4 skin SST product</dd><dt><span>references :</span></dt><dd>While J., Martin M.; 2013;  Development of a variational data assimilation system for the diurnal cycle of sea surface temperature; JGR-Oceans; 118; 2845-2862</dd><dt><span>institution :</span></dt><dd>UKMO</dd><dt><span>history :</span></dt><dd>See source and creation_date attributees</dd><dt><span>comment :</span></dt><dd>WARNING Some applications are unable to properly handle signed byte values. If values are encountered &gt; 127, please subtract 256 from this reported value</dd><dt><span>license :</span></dt><dd>These data are available free of charge under the Copernicus data policy</dd><dt><span>id :</span></dt><dd>UKMO-L4LRskin_GLOB-OSTIAdiu</dd><dt><span>naming_authority :</span></dt><dd>org.ghrsst</dd><dt><span>product_version :</span></dt><dd>1.2</dd><dt><span>uuid :</span></dt><dd>dd7afcc1-acf0-4a0f-9407-19d49b470b7b</dd><dt><span>gds_version_id :</span></dt><dd>2.4</dd><dt><span>netcdf_version_id :</span></dt><dd>4.1</dd><dt><span>date_created :</span></dt><dd>20201203T081437Z</dd><dt><span>start_time :</span></dt><dd>20201202T000000Z</dd><dt><span>time_coverage_start :</span></dt><dd>20201202T000000Z</dd><dt><span>stop_time :</span></dt><dd>20201202T235959Z</dd><dt><span>time_coverage_end :</span></dt><dd>20201202T235959Z</dd><dt><span>file_quality_level :</span></dt><dd>3</dd><dt><span>source :</span></dt><dd>NAVO-L2P-AVHRR19_G, OSPO-L2P-GOES15, SEVIRI_SST-OSISAF-L3C-v1.0, OSPO-L2P-MTSAT2</dd><dt><span>platform :</span></dt><dd>NOAA-19, GOES15, MSG2, MTSAT2</dd><dt><span>sensor :</span></dt><dd>AVHRR, Imager, SEVIRI, Imager</dd><dt><span>Metadata_Conventions :</span></dt><dd>Unidata Observation Dataset v1.0</dd><dt><span>metadata_link :</span></dt><dd>Not yet available</dd><dt><span>keywords :</span></dt><dd>Oceans &gt; Ocean Temperature &gt; Sea Surface Temperature</dd><dt><span>keywords_vocabulary :</span></dt><dd>NASA Global Change Master Directory (GCMD) Science Keywords</dd><dt><span>standard_name_vocabulary :</span></dt><dd>NetCDF Climate and Forecast (CF) Metadata Convention</dd><dt><span>westernmost_longitude :</span></dt><dd>-180.0</dd><dt><span>easternmost_longitude :</span></dt><dd>180.0</dd><dt><span>southernmost_latitude :</span></dt><dd>-90.0</dd><dt><span>northernmost_latitude :</span></dt><dd>90.0</dd><dt><span>spatial_resolution :</span></dt><dd>0.25 degree</dd><dt><span>geospatial_lat_units :</span></dt><dd>degrees_north</dd><dt><span>geospatial_lat_resolution :</span></dt><dd>0.25</dd><dt><span>geospatial_lon_units :</span></dt><dd>degrees_east</dd><dt><span>geospatial_lon_resolution :</span></dt><dd>0.25</dd><dt><span>acknowledgment :</span></dt><dd>Please acknowledge the use of these data with the following statement: These data were provided by GHRSST, Met Office and CMEMS</dd><dt><span>creator_name :</span></dt><dd>Met Office as part of CMEMS</dd><dt><span>creator_email :</span></dt><dd>servicedesk.cmems@mercator-ocean.eu</dd><dt><span>creator_url :</span></dt><dd>http://marine.copernicus.eu/</dd><dt><span>project :</span></dt><dd>Group for High Resolution Sea Surface Temperature</dd><dt><span>publisher_name :</span></dt><dd>GHRSST Project Office</dd><dt><span>publisher_url :</span></dt><dd>http://www.ghrsst.org</dd><dt><span>publisher_email :</span></dt><dd>ghrsst-po@nceo.ac.uk</dd><dt><span>processing_level :</span></dt><dd>L4</dd><dt><span>cdm_data_type :</span></dt><dd>grid</dd><dt><span>History :</span></dt><dd>Translated to CF-1.0 Conventions by Netcdf-Java CDM (CFGridWriter2)\n",
       "Original Dataset = METOFFICE-GLO-SST-L4-NRT-OBS-SKIN-DIU-FV01.1; Translation Date = 2020-12-03T16:45:25.654Z</dd><dt><span>geospatial_lat_min :</span></dt><dd>30.125</dd><dt><span>geospatial_lat_max :</span></dt><dd>46.125</dd><dt><span>geospatial_lon_min :</span></dt><dd>-4.875</dd><dt><span>geospatial_lon_max :</span></dt><dd>42.875</dd></dl></div></li></ul></div></div>"
      ],
      "text/plain": [
       "<xarray.Dataset>\n",
       "Dimensions:                                        (lat: 65, lon: 192, time: 8760)\n",
       "Coordinates:\n",
       "  * time                                           (time) datetime64[ns] 2019-01-01T00:30:00 ... 2019-12-31T23:30:00\n",
       "  * lat                                            (lat) float32 30.125 ... 46.125\n",
       "  * lon                                            (lon) float32 -4.875 ... 42.875\n",
       "Data variables:\n",
       "    sea_surface_warm_layer_temperature_difference  (time, lat, lon) float32 ...\n",
       "    sea_surface_cool_skin_temperature_difference   (time, lat, lon) float32 ...\n",
       "    analysed_sst                                   (time, lat, lon) float32 ...\n",
       "    mask                                           (time, lat, lon) float32 ...\n",
       "Attributes:\n",
       "    Conventions:                CF-1.4\n",
       "    title:                      Global Diurnal Skin SST Analysis, L4 OSTIA, 0...\n",
       "    summary:                    A merged, multi-sensor L4 skin SST product\n",
       "    references:                 While J., Martin M.; 2013;  Development of a ...\n",
       "    institution:                UKMO\n",
       "    history:                    See source and creation_date attributees\n",
       "    comment:                    WARNING Some applications are unable to prope...\n",
       "    license:                    These data are available free of charge under...\n",
       "    id:                         UKMO-L4LRskin_GLOB-OSTIAdiu\n",
       "    naming_authority:           org.ghrsst\n",
       "    product_version:            1.2\n",
       "    uuid:                       dd7afcc1-acf0-4a0f-9407-19d49b470b7b\n",
       "    gds_version_id:             2.4\n",
       "    netcdf_version_id:          4.1\n",
       "    date_created:               20201203T081437Z\n",
       "    start_time:                 20201202T000000Z\n",
       "    time_coverage_start:        20201202T000000Z\n",
       "    stop_time:                  20201202T235959Z\n",
       "    time_coverage_end:          20201202T235959Z\n",
       "    file_quality_level:         3\n",
       "    source:                     NAVO-L2P-AVHRR19_G, OSPO-L2P-GOES15, SEVIRI_S...\n",
       "    platform:                   NOAA-19, GOES15, MSG2, MTSAT2\n",
       "    sensor:                     AVHRR, Imager, SEVIRI, Imager\n",
       "    Metadata_Conventions:       Unidata Observation Dataset v1.0\n",
       "    metadata_link:              Not yet available\n",
       "    keywords:                   Oceans > Ocean Temperature > Sea Surface Temp...\n",
       "    keywords_vocabulary:        NASA Global Change Master Directory (GCMD) Sc...\n",
       "    standard_name_vocabulary:   NetCDF Climate and Forecast (CF) Metadata Con...\n",
       "    westernmost_longitude:      -180.0\n",
       "    easternmost_longitude:      180.0\n",
       "    southernmost_latitude:      -90.0\n",
       "    northernmost_latitude:      90.0\n",
       "    spatial_resolution:         0.25 degree\n",
       "    geospatial_lat_units:       degrees_north\n",
       "    geospatial_lat_resolution:  0.25\n",
       "    geospatial_lon_units:       degrees_east\n",
       "    geospatial_lon_resolution:  0.25\n",
       "    acknowledgment:             Please acknowledge the use of these data with...\n",
       "    creator_name:               Met Office as part of CMEMS\n",
       "    creator_email:              servicedesk.cmems@mercator-ocean.eu\n",
       "    creator_url:                http://marine.copernicus.eu/\n",
       "    project:                    Group for High Resolution Sea Surface Tempera...\n",
       "    publisher_name:             GHRSST Project Office\n",
       "    publisher_url:              http://www.ghrsst.org\n",
       "    publisher_email:            ghrsst-po@nceo.ac.uk\n",
       "    processing_level:           L4\n",
       "    cdm_data_type:              grid\n",
       "    History:                    Translated to CF-1.0 Conventions by Netcdf-Ja...\n",
       "    geospatial_lat_min:         30.125\n",
       "    geospatial_lat_max:         46.125\n",
       "    geospatial_lon_min:         -4.875\n",
       "    geospatial_lon_max:         42.875"
      ]
     },
     "execution_count": 5,
     "metadata": {},
     "output_type": "execute_result"
    }
   ],
   "source": [
    "ds = xr.open_dataset(file_path)\n",
    "#print(ds)\n",
    "ds"
   ]
  },
  {
   "cell_type": "code",
   "execution_count": 6,
   "metadata": {},
   "outputs": [],
   "source": [
    "var_name = 'analysed_sst'\n"
   ]
  },
  {
   "cell_type": "markdown",
   "metadata": {},
   "source": [
    "Chlorophyll"
   ]
  },
  {
   "cell_type": "code",
   "execution_count": 7,
   "metadata": {},
   "outputs": [],
   "source": [
    "#ds['time'] = ds.indexes['time'].to_datetimeindex()\n",
    "#var_name = 'CHL'"
   ]
  },
  {
   "cell_type": "markdown",
   "metadata": {},
   "source": [
    "__Quick plot__"
   ]
  },
  {
   "cell_type": "code",
   "execution_count": 8,
   "metadata": {},
   "outputs": [
    {
     "data": {
      "image/png": "[encoded data removed]",
      "text/plain": [
       "<Figure size 432x288 with 2 Axes>"
      ]
     },
     "metadata": {
      "needs_background": "light"
     },
     "output_type": "display_data"
    }
   ],
   "source": [
    "ds[var_name].isel(time=11).plot();"
   ]
  },
  {
   "cell_type": "code",
   "execution_count": 9,
   "metadata": {},
   "outputs": [
    {
     "data": {
      "image/png": "[encoded data removed]",
      "text/plain": [
       "<Figure size 432x288 with 1 Axes>"
      ]
     },
     "metadata": {
      "needs_background": "light"
     },
     "output_type": "display_data"
    }
   ],
   "source": [
    "bins = np.arange(int(ds[var_name].min().values), int(ds[var_name].max().values))\n",
    "ds[var_name].plot.hist(bins=bins);"
   ]
  },
  {
   "cell_type": "markdown",
   "metadata": {},
   "source": [
    "## Preprocessing\n",
    "***"
   ]
  },
  {
   "cell_type": "markdown",
   "metadata": {},
   "source": [
    "#### __1) Weekly mean for each pixel__"
   ]
  },
  {
   "cell_type": "code",
   "execution_count": 10,
   "metadata": {},
   "outputs": [
    {
     "name": "stderr",
     "output_type": "stream",
     "text": [
      "/export/home1/agarciaj/anaconda3/lib/python3.7/site-packages/xarray/core/accessor_dt.py:45: FutureWarning: Series.dt.weekofyear and Series.dt.week have been deprecated.  Please use Series.dt.isocalendar().week instead.\n",
      "  field_values = getattr(values_as_series.dt, name).values\n",
      "/export/home1/agarciaj/anaconda3/lib/python3.7/site-packages/xarray/core/nanops.py:142: RuntimeWarning: Mean of empty slice\n",
      "  return np.nanmean(a, axis=axis, dtype=dtype)\n"
     ]
    },
    {
     "data": {
      "text/html": [
       "<div><svg style=\"position: absolute; width: 0; height: 0; overflow: hidden\">\n",
       "<defs>\n",
       "<symbol id=\"icon-database\" viewBox=\"0 0 32 32\">\n",
       "<title>Show/Hide data repr</title>\n",
       "<path d=\"M16 0c-8.837 0-16 2.239-16 5v4c0 2.761 7.163 5 16 5s16-2.239 16-5v-4c0-2.761-7.163-5-16-5z\"></path>\n",
       "<path d=\"M16 17c-8.837 0-16-2.239-16-5v6c0 2.761 7.163 5 16 5s16-2.239 16-5v-6c0 2.761-7.163 5-16 5z\"></path>\n",
       "<path d=\"M16 26c-8.837 0-16-2.239-16-5v6c0 2.761 7.163 5 16 5s16-2.239 16-5v-6c0 2.761-7.163 5-16 5z\"></path>\n",
       "</symbol>\n",
       "<symbol id=\"icon-file-text2\" viewBox=\"0 0 32 32\">\n",
       "<title>Show/Hide attributes</title>\n",
       "<path d=\"M28.681 7.159c-0.694-0.947-1.662-2.053-2.724-3.116s-2.169-2.030-3.116-2.724c-1.612-1.182-2.393-1.319-2.841-1.319h-15.5c-1.378 0-2.5 1.121-2.5 2.5v27c0 1.378 1.122 2.5 2.5 2.5h23c1.378 0 2.5-1.122 2.5-2.5v-19.5c0-0.448-0.137-1.23-1.319-2.841zM24.543 5.457c0.959 0.959 1.712 1.825 2.268 2.543h-4.811v-4.811c0.718 0.556 1.584 1.309 2.543 2.268zM28 29.5c0 0.271-0.229 0.5-0.5 0.5h-23c-0.271 0-0.5-0.229-0.5-0.5v-27c0-0.271 0.229-0.5 0.5-0.5 0 0 15.499-0 15.5 0v7c0 0.552 0.448 1 1 1h7v19.5z\"></path>\n",
       "<path d=\"M23 26h-14c-0.552 0-1-0.448-1-1s0.448-1 1-1h14c0.552 0 1 0.448 1 1s-0.448 1-1 1z\"></path>\n",
       "<path d=\"M23 22h-14c-0.552 0-1-0.448-1-1s0.448-1 1-1h14c0.552 0 1 0.448 1 1s-0.448 1-1 1z\"></path>\n",
       "<path d=\"M23 18h-14c-0.552 0-1-0.448-1-1s0.448-1 1-1h14c0.552 0 1 0.448 1 1s-0.448 1-1 1z\"></path>\n",
       "</symbol>\n",
       "</defs>\n",
       "</svg>\n",
       "<style>/* CSS stylesheet for displaying xarray objects in jupyterlab.\n",
       " *\n",
       " */\n",
       "\n",
       ":root {\n",
       "  --xr-font-color0: var(--jp-content-font-color0, rgba(0, 0, 0, 1));\n",
       "  --xr-font-color2: var(--jp-content-font-color2, rgba(0, 0, 0, 0.54));\n",
       "  --xr-font-color3: var(--jp-content-font-color3, rgba(0, 0, 0, 0.38));\n",
       "  --xr-border-color: var(--jp-border-color2, #e0e0e0);\n",
       "  --xr-disabled-color: var(--jp-layout-color3, #bdbdbd);\n",
       "  --xr-background-color: var(--jp-layout-color0, white);\n",
       "  --xr-background-color-row-even: var(--jp-layout-color1, white);\n",
       "  --xr-background-color-row-odd: var(--jp-layout-color2, #eeeeee);\n",
       "}\n",
       "\n",
       ".xr-wrap {\n",
       "  min-width: 300px;\n",
       "  max-width: 700px;\n",
       "}\n",
       "\n",
       ".xr-header {\n",
       "  padding-top: 6px;\n",
       "  padding-bottom: 6px;\n",
       "  margin-bottom: 4px;\n",
       "  border-bottom: solid 1px var(--xr-border-color);\n",
       "}\n",
       "\n",
       ".xr-header > div,\n",
       ".xr-header > ul {\n",
       "  display: inline;\n",
       "  margin-top: 0;\n",
       "  margin-bottom: 0;\n",
       "}\n",
       "\n",
       ".xr-obj-type,\n",
       ".xr-array-name {\n",
       "  margin-left: 2px;\n",
       "  margin-right: 10px;\n",
       "}\n",
       "\n",
       ".xr-obj-type {\n",
       "  color: var(--xr-font-color2);\n",
       "}\n",
       "\n",
       ".xr-sections {\n",
       "  padding-left: 0 !important;\n",
       "  display: grid;\n",
       "  grid-template-columns: 150px auto auto 1fr 20px 20px;\n",
       "}\n",
       "\n",
       ".xr-section-item {\n",
       "  display: contents;\n",
       "}\n",
       "\n",
       ".xr-section-item input {\n",
       "  display: none;\n",
       "}\n",
       "\n",
       ".xr-section-item input + label {\n",
       "  color: var(--xr-disabled-color);\n",
       "}\n",
       "\n",
       ".xr-section-item input:enabled + label {\n",
       "  cursor: pointer;\n",
       "  color: var(--xr-font-color2);\n",
       "}\n",
       "\n",
       ".xr-section-item input:enabled + label:hover {\n",
       "  color: var(--xr-font-color0);\n",
       "}\n",
       "\n",
       ".xr-section-summary {\n",
       "  grid-column: 1;\n",
       "  color: var(--xr-font-color2);\n",
       "  font-weight: 500;\n",
       "}\n",
       "\n",
       ".xr-section-summary > span {\n",
       "  display: inline-block;\n",
       "  padding-left: 0.5em;\n",
       "}\n",
       "\n",
       ".xr-section-summary-in:disabled + label {\n",
       "  color: var(--xr-font-color2);\n",
       "}\n",
       "\n",
       ".xr-section-summary-in + label:before {\n",
       "  display: inline-block;\n",
       "  content: '►';\n",
       "  font-size: 11px;\n",
       "  width: 15px;\n",
       "  text-align: center;\n",
       "}\n",
       "\n",
       ".xr-section-summary-in:disabled + label:before {\n",
       "  color: var(--xr-disabled-color);\n",
       "}\n",
       "\n",
       ".xr-section-summary-in:checked + label:before {\n",
       "  content: '▼';\n",
       "}\n",
       "\n",
       ".xr-section-summary-in:checked + label > span {\n",
       "  display: none;\n",
       "}\n",
       "\n",
       ".xr-section-summary,\n",
       ".xr-section-inline-details {\n",
       "  padding-top: 4px;\n",
       "  padding-bottom: 4px;\n",
       "}\n",
       "\n",
       ".xr-section-inline-details {\n",
       "  grid-column: 2 / -1;\n",
       "}\n",
       "\n",
       ".xr-section-details {\n",
       "  display: none;\n",
       "  grid-column: 1 / -1;\n",
       "  margin-bottom: 5px;\n",
       "}\n",
       "\n",
       ".xr-section-summary-in:checked ~ .xr-section-details {\n",
       "  display: contents;\n",
       "}\n",
       "\n",
       ".xr-array-wrap {\n",
       "  grid-column: 1 / -1;\n",
       "  display: grid;\n",
       "  grid-template-columns: 20px auto;\n",
       "}\n",
       "\n",
       ".xr-array-wrap > label {\n",
       "  grid-column: 1;\n",
       "  vertical-align: top;\n",
       "}\n",
       "\n",
       ".xr-preview {\n",
       "  color: var(--xr-font-color3);\n",
       "}\n",
       "\n",
       ".xr-array-preview,\n",
       ".xr-array-data {\n",
       "  padding: 0 5px !important;\n",
       "  grid-column: 2;\n",
       "}\n",
       "\n",
       ".xr-array-data,\n",
       ".xr-array-in:checked ~ .xr-array-preview {\n",
       "  display: none;\n",
       "}\n",
       "\n",
       ".xr-array-in:checked ~ .xr-array-data,\n",
       ".xr-array-preview {\n",
       "  display: inline-block;\n",
       "}\n",
       "\n",
       ".xr-dim-list {\n",
       "  display: inline-block !important;\n",
       "  list-style: none;\n",
       "  padding: 0 !important;\n",
       "  margin: 0;\n",
       "}\n",
       "\n",
       ".xr-dim-list li {\n",
       "  display: inline-block;\n",
       "  padding: 0;\n",
       "  margin: 0;\n",
       "}\n",
       "\n",
       ".xr-dim-list:before {\n",
       "  content: '(';\n",
       "}\n",
       "\n",
       ".xr-dim-list:after {\n",
       "  content: ')';\n",
       "}\n",
       "\n",
       ".xr-dim-list li:not(:last-child):after {\n",
       "  content: ',';\n",
       "  padding-right: 5px;\n",
       "}\n",
       "\n",
       ".xr-has-index {\n",
       "  font-weight: bold;\n",
       "}\n",
       "\n",
       ".xr-var-list,\n",
       ".xr-var-item {\n",
       "  display: contents;\n",
       "}\n",
       "\n",
       ".xr-var-item > div,\n",
       ".xr-var-item label,\n",
       ".xr-var-item > .xr-var-name span {\n",
       "  background-color: var(--xr-background-color-row-even);\n",
       "  margin-bottom: 0;\n",
       "}\n",
       "\n",
       ".xr-var-item > .xr-var-name:hover span {\n",
       "  padding-right: 5px;\n",
       "}\n",
       "\n",
       ".xr-var-list > li:nth-child(odd) > div,\n",
       ".xr-var-list > li:nth-child(odd) > label,\n",
       ".xr-var-list > li:nth-child(odd) > .xr-var-name span {\n",
       "  background-color: var(--xr-background-color-row-odd);\n",
       "}\n",
       "\n",
       ".xr-var-name {\n",
       "  grid-column: 1;\n",
       "}\n",
       "\n",
       ".xr-var-dims {\n",
       "  grid-column: 2;\n",
       "}\n",
       "\n",
       ".xr-var-dtype {\n",
       "  grid-column: 3;\n",
       "  text-align: right;\n",
       "  color: var(--xr-font-color2);\n",
       "}\n",
       "\n",
       ".xr-var-preview {\n",
       "  grid-column: 4;\n",
       "}\n",
       "\n",
       ".xr-var-name,\n",
       ".xr-var-dims,\n",
       ".xr-var-dtype,\n",
       ".xr-preview,\n",
       ".xr-attrs dt {\n",
       "  white-space: nowrap;\n",
       "  overflow: hidden;\n",
       "  text-overflow: ellipsis;\n",
       "  padding-right: 10px;\n",
       "}\n",
       "\n",
       ".xr-var-name:hover,\n",
       ".xr-var-dims:hover,\n",
       ".xr-var-dtype:hover,\n",
       ".xr-attrs dt:hover {\n",
       "  overflow: visible;\n",
       "  width: auto;\n",
       "  z-index: 1;\n",
       "}\n",
       "\n",
       ".xr-var-attrs,\n",
       ".xr-var-data {\n",
       "  display: none;\n",
       "  background-color: var(--xr-background-color) !important;\n",
       "  padding-bottom: 5px !important;\n",
       "}\n",
       "\n",
       ".xr-var-attrs-in:checked ~ .xr-var-attrs,\n",
       ".xr-var-data-in:checked ~ .xr-var-data {\n",
       "  display: block;\n",
       "}\n",
       "\n",
       ".xr-var-data > table {\n",
       "  float: right;\n",
       "}\n",
       "\n",
       ".xr-var-name span,\n",
       ".xr-var-data,\n",
       ".xr-attrs {\n",
       "  padding-left: 25px !important;\n",
       "}\n",
       "\n",
       ".xr-attrs,\n",
       ".xr-var-attrs,\n",
       ".xr-var-data {\n",
       "  grid-column: 1 / -1;\n",
       "}\n",
       "\n",
       "dl.xr-attrs {\n",
       "  padding: 0;\n",
       "  margin: 0;\n",
       "  display: grid;\n",
       "  grid-template-columns: 125px auto;\n",
       "}\n",
       "\n",
       ".xr-attrs dt, dd {\n",
       "  padding: 0;\n",
       "  margin: 0;\n",
       "  float: left;\n",
       "  padding-right: 10px;\n",
       "  width: auto;\n",
       "}\n",
       "\n",
       ".xr-attrs dt {\n",
       "  font-weight: normal;\n",
       "  grid-column: 1;\n",
       "}\n",
       "\n",
       ".xr-attrs dt:hover span {\n",
       "  display: inline-block;\n",
       "  background: var(--xr-background-color);\n",
       "  padding-right: 10px;\n",
       "}\n",
       "\n",
       ".xr-attrs dd {\n",
       "  grid-column: 2;\n",
       "  white-space: pre-wrap;\n",
       "  word-break: break-all;\n",
       "}\n",
       "\n",
       ".xr-icon-database,\n",
       ".xr-icon-file-text2 {\n",
       "  display: inline-block;\n",
       "  vertical-align: middle;\n",
       "  width: 1em;\n",
       "  height: 1.5em !important;\n",
       "  stroke-width: 0;\n",
       "  stroke: currentColor;\n",
       "  fill: currentColor;\n",
       "}\n",
       "</style><div class='xr-wrap'><div class='xr-header'><div class='xr-obj-type'>xarray.Dataset</div></div><ul class='xr-sections'><li class='xr-section-item'><input id='section-fccf72c2-ffe1-4910-b651-b669447d7dc6' class='xr-section-summary-in' type='checkbox' disabled ><label for='section-fccf72c2-ffe1-4910-b651-b669447d7dc6' class='xr-section-summary'  title='Expand/collapse section'>Dimensions:</label><div class='xr-section-inline-details'><ul class='xr-dim-list'><li><span class='xr-has-index'>lat</span>: 65</li><li><span class='xr-has-index'>lon</span>: 192</li><li><span class='xr-has-index'>week</span>: 52</li></ul></div><div class='xr-section-details'></div></li><li class='xr-section-item'><input id='section-1ffff858-64b0-4902-816d-2292d07a79f7' class='xr-section-summary-in' type='checkbox'  checked><label for='section-1ffff858-64b0-4902-816d-2292d07a79f7' class='xr-section-summary' >Coordinates: <span>(3)</span></label><div class='xr-section-inline-details'></div><div class='xr-section-details'><ul class='xr-var-list'><li class='xr-var-item'><div class='xr-var-name'><span class='xr-has-index'>lat</span></div><div class='xr-var-dims'>(lat)</div><div class='xr-var-dtype'>float32</div><div class='xr-var-preview xr-preview'>30.125 30.375 ... 45.875 46.125</div><input id='attrs-3cefdc38-9d35-4980-bc08-66456bfd223e' class='xr-var-attrs-in' type='checkbox' ><label for='attrs-3cefdc38-9d35-4980-bc08-66456bfd223e' title='Show/Hide attributes'><svg class='icon xr-icon-file-text2'><use xlink:href='#icon-file-text2'></use></svg></label><input id='data-c6f65eb0-0aec-4bd7-bf66-3f2c5a069e5a' class='xr-var-data-in' type='checkbox'><label for='data-c6f65eb0-0aec-4bd7-bf66-3f2c5a069e5a' title='Show/Hide data repr'><svg class='icon xr-icon-database'><use xlink:href='#icon-database'></use></svg></label><div class='xr-var-attrs'><dl class='xr-attrs'><dt><span>standard_name :</span></dt><dd>latitude</dd><dt><span>long_name :</span></dt><dd>latitude</dd><dt><span>units :</span></dt><dd>degrees_north</dd><dt><span>valid_min :</span></dt><dd>-90.0</dd><dt><span>valid_max :</span></dt><dd>90.0</dd><dt><span>axis :</span></dt><dd>Y</dd><dt><span>comment :</span></dt><dd> Latitude geographical coordinates,WGS84 projection</dd><dt><span>_ChunkSizes :</span></dt><dd>720</dd><dt><span>_CoordinateAxisType :</span></dt><dd>Lat</dd></dl></div><pre class='xr-var-data'>array([30.125, 30.375, 30.625, 30.875, 31.125, 31.375, 31.625, 31.875, 32.125,\n",
       "       32.375, 32.625, 32.875, 33.125, 33.375, 33.625, 33.875, 34.125, 34.375,\n",
       "       34.625, 34.875, 35.125, 35.375, 35.625, 35.875, 36.125, 36.375, 36.625,\n",
       "       36.875, 37.125, 37.375, 37.625, 37.875, 38.125, 38.375, 38.625, 38.875,\n",
       "       39.125, 39.375, 39.625, 39.875, 40.125, 40.375, 40.625, 40.875, 41.125,\n",
       "       41.375, 41.625, 41.875, 42.125, 42.375, 42.625, 42.875, 43.125, 43.375,\n",
       "       43.625, 43.875, 44.125, 44.375, 44.625, 44.875, 45.125, 45.375, 45.625,\n",
       "       45.875, 46.125], dtype=float32)</pre></li><li class='xr-var-item'><div class='xr-var-name'><span class='xr-has-index'>lon</span></div><div class='xr-var-dims'>(lon)</div><div class='xr-var-dtype'>float32</div><div class='xr-var-preview xr-preview'>-4.875 -4.625 ... 42.625 42.875</div><input id='attrs-250a4130-d82a-43bf-92ad-c383d406607b' class='xr-var-attrs-in' type='checkbox' ><label for='attrs-250a4130-d82a-43bf-92ad-c383d406607b' title='Show/Hide attributes'><svg class='icon xr-icon-file-text2'><use xlink:href='#icon-file-text2'></use></svg></label><input id='data-82efb315-3209-4f27-bc4c-2cf102a16656' class='xr-var-data-in' type='checkbox'><label for='data-82efb315-3209-4f27-bc4c-2cf102a16656' title='Show/Hide data repr'><svg class='icon xr-icon-database'><use xlink:href='#icon-database'></use></svg></label><div class='xr-var-attrs'><dl class='xr-attrs'><dt><span>standard_name :</span></dt><dd>longitude</dd><dt><span>long_name :</span></dt><dd>longitude</dd><dt><span>units :</span></dt><dd>degrees_east</dd><dt><span>valid_min :</span></dt><dd>-180.0</dd><dt><span>valid_max :</span></dt><dd>180.0</dd><dt><span>axis :</span></dt><dd>X</dd><dt><span>comment :</span></dt><dd> Longitude geographical coordinates,WGS84 projection</dd><dt><span>_ChunkSizes :</span></dt><dd>1440</dd><dt><span>_CoordinateAxisType :</span></dt><dd>Lon</dd></dl></div><pre class='xr-var-data'>array([-4.875, -4.625, -4.375, -4.125, -3.875, -3.625, -3.375, -3.125, -2.875,\n",
       "       -2.625, -2.375, -2.125, -1.875, -1.625, -1.375, -1.125, -0.875, -0.625,\n",
       "       -0.375, -0.125,  0.125,  0.375,  0.625,  0.875,  1.125,  1.375,  1.625,\n",
       "        1.875,  2.125,  2.375,  2.625,  2.875,  3.125,  3.375,  3.625,  3.875,\n",
       "        4.125,  4.375,  4.625,  4.875,  5.125,  5.375,  5.625,  5.875,  6.125,\n",
       "        6.375,  6.625,  6.875,  7.125,  7.375,  7.625,  7.875,  8.125,  8.375,\n",
       "        8.625,  8.875,  9.125,  9.375,  9.625,  9.875, 10.125, 10.375, 10.625,\n",
       "       10.875, 11.125, 11.375, 11.625, 11.875, 12.125, 12.375, 12.625, 12.875,\n",
       "       13.125, 13.375, 13.625, 13.875, 14.125, 14.375, 14.625, 14.875, 15.125,\n",
       "       15.375, 15.625, 15.875, 16.125, 16.375, 16.625, 16.875, 17.125, 17.375,\n",
       "       17.625, 17.875, 18.125, 18.375, 18.625, 18.875, 19.125, 19.375, 19.625,\n",
       "       19.875, 20.125, 20.375, 20.625, 20.875, 21.125, 21.375, 21.625, 21.875,\n",
       "       22.125, 22.375, 22.625, 22.875, 23.125, 23.375, 23.625, 23.875, 24.125,\n",
       "       24.375, 24.625, 24.875, 25.125, 25.375, 25.625, 25.875, 26.125, 26.375,\n",
       "       26.625, 26.875, 27.125, 27.375, 27.625, 27.875, 28.125, 28.375, 28.625,\n",
       "       28.875, 29.125, 29.375, 29.625, 29.875, 30.125, 30.375, 30.625, 30.875,\n",
       "       31.125, 31.375, 31.625, 31.875, 32.125, 32.375, 32.625, 32.875, 33.125,\n",
       "       33.375, 33.625, 33.875, 34.125, 34.375, 34.625, 34.875, 35.125, 35.375,\n",
       "       35.625, 35.875, 36.125, 36.375, 36.625, 36.875, 37.125, 37.375, 37.625,\n",
       "       37.875, 38.125, 38.375, 38.625, 38.875, 39.125, 39.375, 39.625, 39.875,\n",
       "       40.125, 40.375, 40.625, 40.875, 41.125, 41.375, 41.625, 41.875, 42.125,\n",
       "       42.375, 42.625, 42.875], dtype=float32)</pre></li><li class='xr-var-item'><div class='xr-var-name'><span class='xr-has-index'>week</span></div><div class='xr-var-dims'>(week)</div><div class='xr-var-dtype'>int64</div><div class='xr-var-preview xr-preview'>1 2 3 4 5 6 7 ... 47 48 49 50 51 52</div><input id='attrs-b9b2f0f0-1615-438c-939f-cb89cff4e5ba' class='xr-var-attrs-in' type='checkbox' disabled><label for='attrs-b9b2f0f0-1615-438c-939f-cb89cff4e5ba' title='Show/Hide attributes'><svg class='icon xr-icon-file-text2'><use xlink:href='#icon-file-text2'></use></svg></label><input id='data-3023e016-ef08-431f-a40e-812581328cb9' class='xr-var-data-in' type='checkbox'><label for='data-3023e016-ef08-431f-a40e-812581328cb9' title='Show/Hide data repr'><svg class='icon xr-icon-database'><use xlink:href='#icon-database'></use></svg></label><div class='xr-var-attrs'><dl class='xr-attrs'></dl></div><pre class='xr-var-data'>array([ 1,  2,  3,  4,  5,  6,  7,  8,  9, 10, 11, 12, 13, 14, 15, 16, 17, 18,\n",
       "       19, 20, 21, 22, 23, 24, 25, 26, 27, 28, 29, 30, 31, 32, 33, 34, 35, 36,\n",
       "       37, 38, 39, 40, 41, 42, 43, 44, 45, 46, 47, 48, 49, 50, 51, 52])</pre></li></ul></div></li><li class='xr-section-item'><input id='section-705801b0-6907-4b64-a58b-5ec3c1e88db8' class='xr-section-summary-in' type='checkbox'  checked><label for='section-705801b0-6907-4b64-a58b-5ec3c1e88db8' class='xr-section-summary' >Data variables: <span>(4)</span></label><div class='xr-section-inline-details'></div><div class='xr-section-details'><ul class='xr-var-list'><li class='xr-var-item'><div class='xr-var-name'><span>sea_surface_warm_layer_temperature_difference</span></div><div class='xr-var-dims'>(week, lat, lon)</div><div class='xr-var-dtype'>float32</div><div class='xr-var-preview xr-preview'>nan nan nan nan ... nan nan nan 0.0</div><input id='attrs-3d07bd4e-153c-40c8-b5a0-caaf25a69b7a' class='xr-var-attrs-in' type='checkbox' disabled><label for='attrs-3d07bd4e-153c-40c8-b5a0-caaf25a69b7a' title='Show/Hide attributes'><svg class='icon xr-icon-file-text2'><use xlink:href='#icon-file-text2'></use></svg></label><input id='data-03d2a999-4a88-45b0-ba18-89759a47349e' class='xr-var-data-in' type='checkbox'><label for='data-03d2a999-4a88-45b0-ba18-89759a47349e' title='Show/Hide data repr'><svg class='icon xr-icon-database'><use xlink:href='#icon-database'></use></svg></label><div class='xr-var-attrs'><dl class='xr-attrs'></dl></div><pre class='xr-var-data'>array([[[        nan,         nan,         nan, ...,         nan,\n",
       "                 nan,         nan],\n",
       "        [        nan,         nan,         nan, ...,         nan,\n",
       "                 nan,         nan],\n",
       "        [        nan,         nan,         nan, ...,         nan,\n",
       "                 nan,         nan],\n",
       "        ...,\n",
       "        [-0.0094427 , -0.00961979, -0.009875  , ...,         nan,\n",
       "                 nan,         nan],\n",
       "        [-0.00929167, -0.00958854, -0.00983333, ...,         nan,\n",
       "                 nan,         nan],\n",
       "        [-0.00916145, -0.00947917, -0.00965104, ...,         nan,\n",
       "                 nan,  0.        ]],\n",
       "\n",
       "       [[        nan,         nan,         nan, ...,         nan,\n",
       "                 nan,         nan],\n",
       "        [        nan,         nan,         nan, ...,         nan,\n",
       "                 nan,         nan],\n",
       "        [        nan,         nan,         nan, ...,         nan,\n",
       "                 nan,         nan],\n",
       "        ...,\n",
       "        [-0.00791666, -0.00797619, -0.00810119, ...,         nan,\n",
       "                 nan,         nan],\n",
       "        [-0.00791667, -0.00792262, -0.00802381, ...,         nan,\n",
       "                 nan,         nan],\n",
       "        [-0.00797024, -0.008     , -0.00805357, ...,         nan,\n",
       "                 nan,  0.        ]],\n",
       "\n",
       "       [[        nan,         nan,         nan, ...,         nan,\n",
       "                 nan,         nan],\n",
       "        [        nan,         nan,         nan, ...,         nan,\n",
       "                 nan,         nan],\n",
       "        [        nan,         nan,         nan, ...,         nan,\n",
       "                 nan,         nan],\n",
       "        ...,\n",
       "        [-0.00772619, -0.00776786, -0.00780357, ...,         nan,\n",
       "                 nan,         nan],\n",
       "        [-0.00774405, -0.00768452, -0.00767262, ...,         nan,\n",
       "                 nan,         nan],\n",
       "        [-0.00767262, -0.00751786, -0.00748809, ...,         nan,\n",
       "                 nan,  0.        ]],\n",
       "\n",
       "       ...,\n",
       "\n",
       "       [[        nan,         nan,         nan, ...,         nan,\n",
       "                 nan,         nan],\n",
       "        [        nan,         nan,         nan, ...,         nan,\n",
       "                 nan,         nan],\n",
       "        [        nan,         nan,         nan, ...,         nan,\n",
       "                 nan,         nan],\n",
       "        ...,\n",
       "        [-0.00594047, -0.00625   , -0.00641071, ...,         nan,\n",
       "                 nan,         nan],\n",
       "        [-0.00592262, -0.00621428, -0.00633928, ...,         nan,\n",
       "                 nan,         nan],\n",
       "        [-0.00583333, -0.00604166, -0.00609523, ...,         nan,\n",
       "                 nan,  0.        ]],\n",
       "\n",
       "       [[        nan,         nan,         nan, ...,         nan,\n",
       "                 nan,         nan],\n",
       "        [        nan,         nan,         nan, ...,         nan,\n",
       "                 nan,         nan],\n",
       "        [        nan,         nan,         nan, ...,         nan,\n",
       "                 nan,         nan],\n",
       "        ...,\n",
       "        [-0.00790476, -0.00791667, -0.00769643, ...,         nan,\n",
       "                 nan,         nan],\n",
       "        [-0.00775595, -0.00774404, -0.00757738, ...,         nan,\n",
       "                 nan,         nan],\n",
       "        [-0.00754166, -0.00760119, -0.00755952, ...,         nan,\n",
       "                 nan,  0.        ]],\n",
       "\n",
       "       [[        nan,         nan,         nan, ...,         nan,\n",
       "                 nan,         nan],\n",
       "        [        nan,         nan,         nan, ...,         nan,\n",
       "                 nan,         nan],\n",
       "        [        nan,         nan,         nan, ...,         nan,\n",
       "                 nan,         nan],\n",
       "        ...,\n",
       "        [-0.00405952, -0.00393452, -0.00389286, ...,         nan,\n",
       "                 nan,         nan],\n",
       "        [-0.00377381, -0.00379762, -0.00361905, ...,         nan,\n",
       "                 nan,         nan],\n",
       "        [-0.00372619, -0.004     , -0.00407738, ...,         nan,\n",
       "                 nan,  0.        ]]], dtype=float32)</pre></li><li class='xr-var-item'><div class='xr-var-name'><span>sea_surface_cool_skin_temperature_difference</span></div><div class='xr-var-dims'>(week, lat, lon)</div><div class='xr-var-dtype'>float32</div><div class='xr-var-preview xr-preview'>nan nan nan nan ... nan nan nan 0.0</div><input id='attrs-7073769f-f3e7-4642-8f15-56e3bcdb15a8' class='xr-var-attrs-in' type='checkbox' disabled><label for='attrs-7073769f-f3e7-4642-8f15-56e3bcdb15a8' title='Show/Hide attributes'><svg class='icon xr-icon-file-text2'><use xlink:href='#icon-file-text2'></use></svg></label><input id='data-7d052f97-976d-4aa8-b8e4-d0d4e0265a33' class='xr-var-data-in' type='checkbox'><label for='data-7d052f97-976d-4aa8-b8e4-d0d4e0265a33' title='Show/Hide data repr'><svg class='icon xr-icon-database'><use xlink:href='#icon-database'></use></svg></label><div class='xr-var-attrs'><dl class='xr-attrs'></dl></div><pre class='xr-var-data'>array([[[        nan,         nan,         nan, ...,         nan,\n",
       "                 nan,         nan],\n",
       "        [        nan,         nan,         nan, ...,         nan,\n",
       "                 nan,         nan],\n",
       "        [        nan,         nan,         nan, ...,         nan,\n",
       "                 nan,         nan],\n",
       "        ...,\n",
       "        [-0.1935678 , -0.19807291, -0.20503648, ...,         nan,\n",
       "                 nan,         nan],\n",
       "        [-0.19378658, -0.2004949 , -0.20593755, ...,         nan,\n",
       "                 nan,         nan],\n",
       "        [-0.19755735, -0.20504177, -0.21152085, ...,         nan,\n",
       "                 nan,  0.        ]],\n",
       "\n",
       "       [[        nan,         nan,         nan, ...,         nan,\n",
       "                 nan,         nan],\n",
       "        [        nan,         nan,         nan, ...,         nan,\n",
       "                 nan,         nan],\n",
       "        [        nan,         nan,         nan, ...,         nan,\n",
       "                 nan,         nan],\n",
       "        ...,\n",
       "        [-0.21391664, -0.21202973, -0.2119405 , ...,         nan,\n",
       "                 nan,         nan],\n",
       "        [-0.21130359, -0.20913696, -0.20865476, ...,         nan,\n",
       "                 nan,         nan],\n",
       "        [-0.21053566, -0.2086786 , -0.20763695, ...,         nan,\n",
       "                 nan,  0.        ]],\n",
       "\n",
       "       [[        nan,         nan,         nan, ...,         nan,\n",
       "                 nan,         nan],\n",
       "        [        nan,         nan,         nan, ...,         nan,\n",
       "                 nan,         nan],\n",
       "        [        nan,         nan,         nan, ...,         nan,\n",
       "                 nan,         nan],\n",
       "        ...,\n",
       "        [-0.18205953, -0.18323214, -0.18602383, ...,         nan,\n",
       "                 nan,         nan],\n",
       "        [-0.18157738, -0.18217857, -0.18505363, ...,         nan,\n",
       "                 nan,         nan],\n",
       "        [-0.18480355, -0.18381543, -0.18513094, ...,         nan,\n",
       "                 nan,  0.        ]],\n",
       "\n",
       "       ...,\n",
       "\n",
       "       [[        nan,         nan,         nan, ...,         nan,\n",
       "                 nan,         nan],\n",
       "        [        nan,         nan,         nan, ...,         nan,\n",
       "                 nan,         nan],\n",
       "        [        nan,         nan,         nan, ...,         nan,\n",
       "                 nan,         nan],\n",
       "        ...,\n",
       "        [-0.07507144, -0.07944645, -0.0820893 , ...,         nan,\n",
       "                 nan,         nan],\n",
       "        [-0.07212501, -0.07591072, -0.07749406, ...,         nan,\n",
       "                 nan,         nan],\n",
       "        [-0.07095833, -0.07279166, -0.07399403, ...,         nan,\n",
       "                 nan,  0.        ]],\n",
       "\n",
       "       [[        nan,         nan,         nan, ...,         nan,\n",
       "                 nan,         nan],\n",
       "        [        nan,         nan,         nan, ...,         nan,\n",
       "                 nan,         nan],\n",
       "        [        nan,         nan,         nan, ...,         nan,\n",
       "                 nan,         nan],\n",
       "        ...,\n",
       "        [-0.11061907, -0.11170235, -0.11069046, ...,         nan,\n",
       "                 nan,         nan],\n",
       "        [-0.10633332, -0.10727981, -0.10670239, ...,         nan,\n",
       "                 nan,         nan],\n",
       "        [-0.10110716, -0.10122623, -0.10245243, ...,         nan,\n",
       "                 nan,  0.        ]],\n",
       "\n",
       "       [[        nan,         nan,         nan, ...,         nan,\n",
       "                 nan,         nan],\n",
       "        [        nan,         nan,         nan, ...,         nan,\n",
       "                 nan,         nan],\n",
       "        [        nan,         nan,         nan, ...,         nan,\n",
       "                 nan,         nan],\n",
       "        ...,\n",
       "        [-0.12560122, -0.13036308, -0.13694642, ...,         nan,\n",
       "                 nan,         nan],\n",
       "        [-0.12595835, -0.13139883, -0.1342262 , ...,         nan,\n",
       "                 nan,         nan],\n",
       "        [-0.12383933, -0.12948816, -0.13160118, ...,         nan,\n",
       "                 nan,  0.        ]]], dtype=float32)</pre></li><li class='xr-var-item'><div class='xr-var-name'><span>analysed_sst</span></div><div class='xr-var-dims'>(week, lat, lon)</div><div class='xr-var-dtype'>float32</div><div class='xr-var-preview xr-preview'>nan nan nan ... nan nan 275.3912</div><input id='attrs-217594fd-f150-4970-b50f-74f8feb39cfd' class='xr-var-attrs-in' type='checkbox' disabled><label for='attrs-217594fd-f150-4970-b50f-74f8feb39cfd' title='Show/Hide attributes'><svg class='icon xr-icon-file-text2'><use xlink:href='#icon-file-text2'></use></svg></label><input id='data-80018c79-d3a8-4c7e-8b05-bbde7fa3c477' class='xr-var-data-in' type='checkbox'><label for='data-80018c79-d3a8-4c7e-8b05-bbde7fa3c477' title='Show/Hide data repr'><svg class='icon xr-icon-database'><use xlink:href='#icon-database'></use></svg></label><div class='xr-var-attrs'><dl class='xr-attrs'></dl></div><pre class='xr-var-data'>array([[[      nan,       nan,       nan, ...,       nan,       nan,\n",
       "               nan],\n",
       "        [      nan,       nan,       nan, ...,       nan,       nan,\n",
       "               nan],\n",
       "        [      nan,       nan,       nan, ...,       nan,       nan,\n",
       "               nan],\n",
       "        ...,\n",
       "        [285.9456 , 285.90225, 285.94632, ...,       nan,       nan,\n",
       "               nan],\n",
       "        [285.80164, 285.77313, 285.77274, ...,       nan,       nan,\n",
       "               nan],\n",
       "        [285.72232, 285.71152, 285.71255, ...,       nan,       nan,\n",
       "         275.20767]],\n",
       "\n",
       "       [[      nan,       nan,       nan, ...,       nan,       nan,\n",
       "               nan],\n",
       "        [      nan,       nan,       nan, ...,       nan,       nan,\n",
       "               nan],\n",
       "        [      nan,       nan,       nan, ...,       nan,       nan,\n",
       "               nan],\n",
       "        ...,\n",
       "        [285.77808, 285.7301 , 285.77   , ...,       nan,       nan,\n",
       "               nan],\n",
       "        [285.68823, 285.65338, 285.67932, ...,       nan,       nan,\n",
       "               nan],\n",
       "        [285.65558, 285.62915, 285.62134, ...,       nan,       nan,\n",
       "         274.7601 ]],\n",
       "\n",
       "       [[      nan,       nan,       nan, ...,       nan,       nan,\n",
       "               nan],\n",
       "        [      nan,       nan,       nan, ...,       nan,       nan,\n",
       "               nan],\n",
       "        [      nan,       nan,       nan, ...,       nan,       nan,\n",
       "               nan],\n",
       "        ...,\n",
       "        [285.61765, 285.5934 , 285.589  , ...,       nan,       nan,\n",
       "               nan],\n",
       "        [285.5294 , 285.48715, 285.4816 , ...,       nan,       nan,\n",
       "               nan],\n",
       "        [285.46204, 285.3812 , 285.3575 , ...,       nan,       nan,\n",
       "         274.4197 ]],\n",
       "\n",
       "       ...,\n",
       "\n",
       "       [[      nan,       nan,       nan, ...,       nan,       nan,\n",
       "               nan],\n",
       "        [      nan,       nan,       nan, ...,       nan,       nan,\n",
       "               nan],\n",
       "        [      nan,       nan,       nan, ...,       nan,       nan,\n",
       "               nan],\n",
       "        ...,\n",
       "        [286.33334, 286.5006 , 286.58026, ...,       nan,       nan,\n",
       "               nan],\n",
       "        [286.15024, 286.29944, 286.34937, ...,       nan,       nan,\n",
       "               nan],\n",
       "        [285.93643, 286.01236, 286.0766 , ...,       nan,       nan,\n",
       "         276.72717]],\n",
       "\n",
       "       [[      nan,       nan,       nan, ...,       nan,       nan,\n",
       "               nan],\n",
       "        [      nan,       nan,       nan, ...,       nan,       nan,\n",
       "               nan],\n",
       "        [      nan,       nan,       nan, ...,       nan,       nan,\n",
       "               nan],\n",
       "        ...,\n",
       "        [286.21988, 286.29184, 286.28067, ...,       nan,       nan,\n",
       "               nan],\n",
       "        [286.0485 , 286.09097, 286.0829 , ...,       nan,       nan,\n",
       "               nan],\n",
       "        [285.80414, 285.88565, 285.94458, ...,       nan,       nan,\n",
       "         276.32104]],\n",
       "\n",
       "       [[      nan,       nan,       nan, ...,       nan,       nan,\n",
       "               nan],\n",
       "        [      nan,       nan,       nan, ...,       nan,       nan,\n",
       "               nan],\n",
       "        [      nan,       nan,       nan, ...,       nan,       nan,\n",
       "               nan],\n",
       "        ...,\n",
       "        [286.00876, 285.97864, 286.06802, ...,       nan,       nan,\n",
       "               nan],\n",
       "        [285.79688, 285.8666 , 285.8565 , ...,       nan,       nan,\n",
       "               nan],\n",
       "        [285.60513, 285.69946, 285.79395, ...,       nan,       nan,\n",
       "         275.3912 ]]], dtype=float32)</pre></li><li class='xr-var-item'><div class='xr-var-name'><span>mask</span></div><div class='xr-var-dims'>(week, lat, lon)</div><div class='xr-var-dtype'>float32</div><div class='xr-var-preview xr-preview'>2.0 2.0 2.0 2.0 ... 2.0 2.0 2.0 1.0</div><input id='attrs-45e1d226-da11-4713-bbb2-dd86185db347' class='xr-var-attrs-in' type='checkbox' disabled><label for='attrs-45e1d226-da11-4713-bbb2-dd86185db347' title='Show/Hide attributes'><svg class='icon xr-icon-file-text2'><use xlink:href='#icon-file-text2'></use></svg></label><input id='data-2408b34c-d41c-423a-95ca-fb25eb8be621' class='xr-var-data-in' type='checkbox'><label for='data-2408b34c-d41c-423a-95ca-fb25eb8be621' title='Show/Hide data repr'><svg class='icon xr-icon-database'><use xlink:href='#icon-database'></use></svg></label><div class='xr-var-attrs'><dl class='xr-attrs'></dl></div><pre class='xr-var-data'>array([[[2., 2., 2., ..., 2., 2., 2.],\n",
       "        [2., 2., 2., ..., 2., 2., 2.],\n",
       "        [2., 2., 2., ..., 2., 2., 2.],\n",
       "        ...,\n",
       "        [1., 1., 1., ..., 2., 2., 2.],\n",
       "        [1., 1., 1., ..., 2., 2., 2.],\n",
       "        [1., 1., 1., ..., 2., 2., 1.]],\n",
       "\n",
       "       [[2., 2., 2., ..., 2., 2., 2.],\n",
       "        [2., 2., 2., ..., 2., 2., 2.],\n",
       "        [2., 2., 2., ..., 2., 2., 2.],\n",
       "        ...,\n",
       "        [1., 1., 1., ..., 2., 2., 2.],\n",
       "        [1., 1., 1., ..., 2., 2., 2.],\n",
       "        [1., 1., 1., ..., 2., 2., 1.]],\n",
       "\n",
       "       [[2., 2., 2., ..., 2., 2., 2.],\n",
       "        [2., 2., 2., ..., 2., 2., 2.],\n",
       "        [2., 2., 2., ..., 2., 2., 2.],\n",
       "        ...,\n",
       "        [1., 1., 1., ..., 2., 2., 2.],\n",
       "        [1., 1., 1., ..., 2., 2., 2.],\n",
       "        [1., 1., 1., ..., 2., 2., 1.]],\n",
       "\n",
       "       ...,\n",
       "\n",
       "       [[2., 2., 2., ..., 2., 2., 2.],\n",
       "        [2., 2., 2., ..., 2., 2., 2.],\n",
       "        [2., 2., 2., ..., 2., 2., 2.],\n",
       "        ...,\n",
       "        [1., 1., 1., ..., 2., 2., 2.],\n",
       "        [1., 1., 1., ..., 2., 2., 2.],\n",
       "        [1., 1., 1., ..., 2., 2., 1.]],\n",
       "\n",
       "       [[2., 2., 2., ..., 2., 2., 2.],\n",
       "        [2., 2., 2., ..., 2., 2., 2.],\n",
       "        [2., 2., 2., ..., 2., 2., 2.],\n",
       "        ...,\n",
       "        [1., 1., 1., ..., 2., 2., 2.],\n",
       "        [1., 1., 1., ..., 2., 2., 2.],\n",
       "        [1., 1., 1., ..., 2., 2., 1.]],\n",
       "\n",
       "       [[2., 2., 2., ..., 2., 2., 2.],\n",
       "        [2., 2., 2., ..., 2., 2., 2.],\n",
       "        [2., 2., 2., ..., 2., 2., 2.],\n",
       "        ...,\n",
       "        [1., 1., 1., ..., 2., 2., 2.],\n",
       "        [1., 1., 1., ..., 2., 2., 2.],\n",
       "        [1., 1., 1., ..., 2., 2., 1.]]], dtype=float32)</pre></li></ul></div></li><li class='xr-section-item'><input id='section-32599bdd-be8f-4e62-ac1f-8f03bad490bb' class='xr-section-summary-in' type='checkbox' disabled ><label for='section-32599bdd-be8f-4e62-ac1f-8f03bad490bb' class='xr-section-summary'  title='Expand/collapse section'>Attributes: <span>(0)</span></label><div class='xr-section-inline-details'></div><div class='xr-section-details'><dl class='xr-attrs'></dl></div></li></ul></div></div>"
      ],
      "text/plain": [
       "<xarray.Dataset>\n",
       "Dimensions:                                        (lat: 65, lon: 192, week: 52)\n",
       "Coordinates:\n",
       "  * lat                                            (lat) float32 30.125 ... 46.125\n",
       "  * lon                                            (lon) float32 -4.875 ... 42.875\n",
       "  * week                                           (week) int64 1 2 3 ... 51 52\n",
       "Data variables:\n",
       "    sea_surface_warm_layer_temperature_difference  (week, lat, lon) float32 nan ... 0.0\n",
       "    sea_surface_cool_skin_temperature_difference   (week, lat, lon) float32 nan ... 0.0\n",
       "    analysed_sst                                   (week, lat, lon) float32 nan ... 275.3912\n",
       "    mask                                           (week, lat, lon) float32 2.0 ... 1.0"
      ]
     },
     "execution_count": 10,
     "metadata": {},
     "output_type": "execute_result"
    }
   ],
   "source": [
    "ds = ds.groupby(\"time.week\").mean()\n",
    "#ds = ds.groupby(\"time.month\").mean()\n",
    "#print(ds)\n",
    "ds"
   ]
  },
  {
   "cell_type": "markdown",
   "metadata": {},
   "source": [
    "Plot histogram in time"
   ]
  },
  {
   "cell_type": "code",
   "execution_count": 11,
   "metadata": {},
   "outputs": [
    {
     "data": {
      "text/plain": [
       "Text(0, 0.5, 'Counts')"
      ]
     },
     "execution_count": 11,
     "metadata": {},
     "output_type": "execute_result"
    },
    {
     "data": {
      "image/png": "[encoded data removed]",
      "text/plain": [
       "<Figure size 864x720 with 2 Axes>"
      ]
     },
     "metadata": {
      "needs_background": "light"
     },
     "output_type": "display_data"
    }
   ],
   "source": [
    "bins = np.arange(int(ds[var_name].min().values), int(ds[var_name].max().values),0.5)\n",
    "#bins = np.arange(0, 0.3, 0.002)\n",
    "histo_2d = [] \n",
    "for iweek in range(52):\n",
    "#for iweek in range(12):\n",
    "    hist_values, bin_edges = np.histogram(ds[var_name].isel(week=iweek).values, bins=bins)\n",
    "    #hist_values, bin_edges = np.histogram(ds[var_name].isel(month=iweek).values, bins=bins)\n",
    "    histo_2d.append(hist_values)\n",
    "    \n",
    "fig, ax = plt.subplots(figsize=(12,10))\n",
    "\n",
    "#plt.pcolormesh(bins, ds.month.values, histo_2d, cmap='Reds', edgecolors='black')\n",
    "plt.pcolormesh(bins, ds.week.values, histo_2d, cmap='Reds', edgecolors='black')\n",
    "cbar = plt.colorbar()\n",
    "ax.set_xlabel('Temperature (K)')\n",
    "#ax.set_xlabel('Chlorophyll-a concentration (milligram m-3)')\n",
    "ax.set_ylabel('Weeks')\n",
    "cbar.ax.set_ylabel('Counts')"
   ]
  },
  {
   "cell_type": "markdown",
   "metadata": {},
   "source": [
    "Try chlorophyll"
   ]
  },
  {
   "cell_type": "code",
   "execution_count": 12,
   "metadata": {},
   "outputs": [
    {
     "data": {
      "text/plain": [
       "Text(0, 0.5, 'Counts')"
      ]
     },
     "execution_count": 12,
     "metadata": {},
     "output_type": "execute_result"
    },
    {
     "data": {
      "image/png": "[encoded data removed]",
      "text/plain": [
       "<Figure size 864x720 with 2 Axes>"
      ]
     },
     "metadata": {
      "needs_background": "light"
     },
     "output_type": "display_data"
    }
   ],
   "source": [
    "bins = np.arange(int(ds[var_name].min().values), int(ds[var_name].max().values),0.5)\n",
    "#bins = np.arange(0, 0.3, 0.002)\n",
    "histo_2d = [] \n",
    "for iweek in range(52):\n",
    "#for iweek in range(12):\n",
    "    hist_values, bin_edges = np.histogram(ds[var_name].isel(week=iweek).values, bins=bins)\n",
    "    #hist_values, bin_edges = np.histogram(ds[var_name].isel(month=iweek).values, bins=bins)\n",
    "    histo_2d.append(hist_values)\n",
    "    \n",
    "fig, ax = plt.subplots(figsize=(12,10))\n",
    "\n",
    "#plt.pcolormesh(bins, ds.month.values, histo_2d, cmap='Reds', edgecolors='black')\n",
    "plt.pcolormesh(bins, ds.week.values, histo_2d, cmap='Reds', edgecolors='black')\n",
    "cbar = plt.colorbar()\n",
    "ax.set_xlabel('Temperature (K)')\n",
    "#ax.set_xlabel('Chlorophyll-a concentration (milligram m-3)')\n",
    "ax.set_ylabel('Weeks')\n",
    "cbar.ax.set_ylabel('Counts')"
   ]
  },
  {
   "cell_type": "markdown",
   "metadata": {},
   "source": [
    "#### __2) Reduce lat lon dimensions to sampling dimension__"
   ]
  },
  {
   "cell_type": "code",
   "execution_count": 13,
   "metadata": {},
   "outputs": [
    {
     "data": {
      "text/plain": [
       "['lat', 'lon']"
      ]
     },
     "execution_count": 13,
     "metadata": {},
     "output_type": "execute_result"
    }
   ],
   "source": [
    "sampling_dims = list(ds.dims)\n",
    "sampling_dims.remove('week')\n",
    "#sampling_dims.remove('time')\n",
    "sampling_dims"
   ]
  },
  {
   "cell_type": "code",
   "execution_count": 14,
   "metadata": {},
   "outputs": [
    {
     "name": "stdout",
     "output_type": "stream",
     "text": [
      "<xarray.Dataset>\n",
      "Dimensions:                                        (feature: 52, sampling: 12480)\n",
      "Coordinates:\n",
      "  * feature                                        (feature) int64 1 2 ... 51 52\n",
      "  * sampling                                       (sampling) MultiIndex\n",
      "  - lat                                            (sampling) float64 30.12 ... 46.12\n",
      "  - lon                                            (sampling) float64 -4.875 ... 42.88\n",
      "Data variables:\n",
      "    sea_surface_warm_layer_temperature_difference  (feature, sampling) float32 nan ... 0.0\n",
      "    sea_surface_cool_skin_temperature_difference   (feature, sampling) float32 nan ... 0.0\n",
      "    analysed_sst                                   (feature, sampling) float32 nan ... 275.3912\n",
      "    mask                                           (feature, sampling) float32 2.0 ... 1.0\n"
     ]
    }
   ],
   "source": [
    "X = ds.stack({'sampling': sampling_dims})\n",
    "X = X.rename_dims({'week': 'feature'})\n",
    "X = X.rename({'week': 'feature'})\n",
    "#X = X.rename_dims({'time': 'feature'})\n",
    "#X = X.rename({'time': 'feature'})\n",
    "print(X)\n",
    "#X"
   ]
  },
  {
   "cell_type": "code",
   "execution_count": 15,
   "metadata": {},
   "outputs": [
    {
     "data": {
      "image/png": "[encoded data removed]",
      "text/plain": [
       "<Figure size 432x288 with 1 Axes>"
      ]
     },
     "metadata": {
      "needs_background": "light"
     },
     "output_type": "display_data"
    }
   ],
   "source": [
    "X[var_name].plot.hist(bins=bins);"
   ]
  },
  {
   "cell_type": "markdown",
   "metadata": {},
   "source": [
    "#### __3) Delate all NaN time series using mask__"
   ]
  },
  {
   "cell_type": "markdown",
   "metadata": {},
   "source": [
    "Create mask from data"
   ]
  },
  {
   "cell_type": "code",
   "execution_count": 16,
   "metadata": {},
   "outputs": [
    {
     "name": "stdout",
     "output_type": "stream",
     "text": [
      "<xarray.Dataset>\n",
      "Dimensions:                                        (feature: 52, sampling: 12480)\n",
      "Coordinates:\n",
      "  * feature                                        (feature) int64 1 2 ... 51 52\n",
      "  * sampling                                       (sampling) MultiIndex\n",
      "  - lat                                            (sampling) float64 30.12 ... 46.12\n",
      "  - lon                                            (sampling) float64 -4.875 ... 42.88\n",
      "Data variables:\n",
      "    sea_surface_warm_layer_temperature_difference  (feature, sampling) float32 nan ... 0.0\n",
      "    sea_surface_cool_skin_temperature_difference   (feature, sampling) float32 nan ... 0.0\n",
      "    analysed_sst                                   (feature, sampling) float32 nan ... 275.3912\n",
      "    mask                                           (feature, sampling) float32 2.0 ... 1.0\n",
      "    mask_d                                         (feature, sampling) bool False ... True\n"
     ]
    }
   ],
   "source": [
    "mask_d = X[var_name].notnull()\n",
    "X = X.assign(variables={\"mask_d\":(('feature','sampling'), mask_d)})\n",
    "print(X)\n",
    "#X"
   ]
  },
  {
   "cell_type": "markdown",
   "metadata": {},
   "source": [
    "Plot created mask"
   ]
  },
  {
   "cell_type": "code",
   "execution_count": 17,
   "metadata": {},
   "outputs": [
    {
     "data": {
      "image/png": "[encoded data removed]",
      "text/plain": [
       "<Figure size 432x288 with 2 Axes>"
      ]
     },
     "metadata": {
      "needs_background": "light"
     },
     "output_type": "display_data"
    }
   ],
   "source": [
    "mask_plot = X['mask_d'].unstack('sampling')\n",
    "#.sortby(['lat','lon'])\n",
    "mask_plot.isel(feature=11).plot();"
   ]
  },
  {
   "cell_type": "markdown",
   "metadata": {},
   "source": [
    "Plot mask in dataset (water = 1)"
   ]
  },
  {
   "cell_type": "code",
   "execution_count": 18,
   "metadata": {},
   "outputs": [
    {
     "data": {
      "image/png": "[encoded data removed]",
      "text/plain": [
       "<Figure size 432x288 with 2 Axes>"
      ]
     },
     "metadata": {
      "needs_background": "light"
     },
     "output_type": "display_data"
    }
   ],
   "source": [
    "ds['mask'].isel(week=11).plot();"
   ]
  },
  {
   "cell_type": "markdown",
   "metadata": {},
   "source": [
    "Apply mask "
   ]
  },
  {
   "cell_type": "code",
   "execution_count": 19,
   "metadata": {},
   "outputs": [
    {
     "name": "stdout",
     "output_type": "stream",
     "text": [
      "<xarray.DataArray 'mask_d' (feature: 52, sampling: 12480)>\n",
      "array([[False, False, False, ..., False, False,  True],\n",
      "       [False, False, False, ..., False, False,  True],\n",
      "       [False, False, False, ..., False, False,  True],\n",
      "       ...,\n",
      "       [False, False, False, ..., False, False,  True],\n",
      "       [False, False, False, ..., False, False,  True],\n",
      "       [False, False, False, ..., False, False,  True]])\n",
      "Coordinates:\n",
      "  * feature   (feature) int64 1 2 3 4 5 6 7 8 9 ... 44 45 46 47 48 49 50 51 52\n",
      "  * sampling  (sampling) MultiIndex\n",
      "  - lat       (sampling) float64 30.12 30.12 30.12 30.12 ... 46.12 46.12 46.12\n",
      "  - lon       (sampling) float64 -4.875 -4.625 -4.375 ... 42.38 42.62 42.88\n"
     ]
    }
   ],
   "source": [
    "stacked_mask = X['mask_d']\n",
    "print(stacked_mask)\n",
    "#stacked_mask"
   ]
  },
  {
   "cell_type": "code",
   "execution_count": 20,
   "metadata": {},
   "outputs": [
    {
     "name": "stdout",
     "output_type": "stream",
     "text": [
      "<xarray.Dataset>\n",
      "Dimensions:       (feature: 52, sampling: 5741)\n",
      "Coordinates:\n",
      "  * feature       (feature) int64 1 2 3 4 5 6 7 8 9 ... 45 46 47 48 49 50 51 52\n",
      "  * sampling      (sampling) MultiIndex\n",
      "  - lat           (sampling) float64 30.38 30.38 30.38 ... 46.12 46.12 46.12\n",
      "  - lon           (sampling) float64 18.62 18.88 19.12 ... 38.38 38.62 42.88\n",
      "Data variables:\n",
      "    analysed_sst  (feature, sampling) float32 291.3304 291.29144 ... 275.3912\n"
     ]
    }
   ],
   "source": [
    "X = X[var_name].where(stacked_mask == True, drop=True).to_dataset()\n",
    "print(X)\n",
    "#X"
   ]
  },
  {
   "cell_type": "code",
   "execution_count": 21,
   "metadata": {},
   "outputs": [
    {
     "data": {
      "image/png": "[encoded data removed]",
      "text/plain": [
       "<Figure size 432x288 with 1 Axes>"
      ]
     },
     "metadata": {
      "needs_background": "light"
     },
     "output_type": "display_data"
    }
   ],
   "source": [
    "X[var_name].plot.hist(bins=bins);"
   ]
  },
  {
   "cell_type": "markdown",
   "metadata": {},
   "source": [
    "Recover the dataset (unravel)"
   ]
  },
  {
   "cell_type": "code",
   "execution_count": 22,
   "metadata": {},
   "outputs": [
    {
     "name": "stdout",
     "output_type": "stream",
     "text": [
      "(52, 64, 191)\n",
      "(52, 65, 192)\n",
      "<xarray.Dataset>\n",
      "Dimensions:       (feature: 52, lat: 65, lon: 192)\n",
      "Coordinates:\n",
      "  * lat           (lat) float64 30.12 30.38 30.62 30.88 ... 45.62 45.88 46.12\n",
      "  * lon           (lon) float64 -4.875 -4.625 -4.375 ... 42.38 42.62 42.88\n",
      "  * feature       (feature) int64 1 2 3 4 5 6 7 8 9 ... 45 46 47 48 49 50 51 52\n",
      "Data variables:\n",
      "    analysed_sst  (feature, lat, lon) float32 nan nan nan ... nan nan 275.3912\n"
     ]
    }
   ],
   "source": [
    "X_unstacked = X[var_name].unstack('sampling').to_dataset(name = var_name)\n",
    "X_unstacked = X_unstacked.sortby(['lat','lon'])\n",
    "print(np.shape(X_unstacked[var_name]))\n",
    "# same lat and lon values in mask and in results\n",
    "mask = stacked_mask.unstack()\n",
    "X_unstacked = X_unstacked.reindex_like(mask)\n",
    "print(np.shape(X_unstacked[var_name]))\n",
    "print(X_unstacked) "
   ]
  },
  {
   "cell_type": "code",
   "execution_count": 23,
   "metadata": {},
   "outputs": [
    {
     "data": {
      "image/png": "[encoded data removed]",
      "text/plain": [
       "<Figure size 432x288 with 2 Axes>"
      ]
     },
     "metadata": {
      "needs_background": "light"
     },
     "output_type": "display_data"
    }
   ],
   "source": [
    "X_unstacked[var_name].isel(feature=11).plot();"
   ]
  },
  {
   "cell_type": "markdown",
   "metadata": {},
   "source": [
    "__There is any NaN in the dataset?__"
   ]
  },
  {
   "cell_type": "code",
   "execution_count": 24,
   "metadata": {},
   "outputs": [
    {
     "data": {
      "text/plain": [
       "False"
      ]
     },
     "execution_count": 24,
     "metadata": {},
     "output_type": "execute_result"
    }
   ],
   "source": [
    "np.any(np.isnan(X[var_name].values))"
   ]
  },
  {
   "cell_type": "markdown",
   "metadata": {},
   "source": [
    "#### __4) Interpolation__"
   ]
  },
  {
   "cell_type": "markdown",
   "metadata": {},
   "source": [
    "Not necessary if using mask created from dataset"
   ]
  },
  {
   "cell_type": "code",
   "execution_count": 25,
   "metadata": {},
   "outputs": [
    {
     "name": "stdout",
     "output_type": "stream",
     "text": [
      "<xarray.Dataset>\n",
      "Dimensions:       (feature: 52, sampling: 5741)\n",
      "Coordinates:\n",
      "  * feature       (feature) int64 1 2 3 4 5 6 7 8 9 ... 45 46 47 48 49 50 51 52\n",
      "  * sampling      (sampling) MultiIndex\n",
      "  - lat           (sampling) float64 30.38 30.38 30.38 ... 46.12 46.12 46.12\n",
      "  - lon           (sampling) float64 18.62 18.88 19.12 ... 38.38 38.62 42.88\n",
      "Data variables:\n",
      "    analysed_sst  (feature, sampling) float32 291.3304 291.29144 ... 275.3912\n"
     ]
    }
   ],
   "source": [
    "X = X[var_name].interpolate_na(dim = 'feature', method=\"linear\", fill_value=\"extrapolate\").to_dataset(name = var_name)\n",
    "print(X)\n",
    "#X"
   ]
  },
  {
   "cell_type": "markdown",
   "metadata": {},
   "source": [
    "__There is any NaN in the dataset?__"
   ]
  },
  {
   "cell_type": "code",
   "execution_count": 26,
   "metadata": {},
   "outputs": [
    {
     "data": {
      "text/plain": [
       "False"
      ]
     },
     "execution_count": 26,
     "metadata": {},
     "output_type": "execute_result"
    }
   ],
   "source": [
    "np.any(np.isnan(X[var_name].values))"
   ]
  },
  {
   "cell_type": "markdown",
   "metadata": {},
   "source": [
    "#### __5) Scaler__"
   ]
  },
  {
   "cell_type": "markdown",
   "metadata": {},
   "source": [
    "__Check dimensions order__\n",
    "***"
   ]
  },
  {
   "cell_type": "code",
   "execution_count": 27,
   "metadata": {},
   "outputs": [
    {
     "data": {
      "text/plain": [
       "(52, 5741)"
      ]
     },
     "execution_count": 27,
     "metadata": {},
     "output_type": "execute_result"
    }
   ],
   "source": [
    "np.shape(X[var_name])"
   ]
  },
  {
   "cell_type": "markdown",
   "metadata": {},
   "source": [
    "Transpose dataset if needed (sampling x features)"
   ]
  },
  {
   "cell_type": "code",
   "execution_count": 28,
   "metadata": {},
   "outputs": [
    {
     "data": {
      "text/plain": [
       "(5741, 52)"
      ]
     },
     "execution_count": 28,
     "metadata": {},
     "output_type": "execute_result"
    }
   ],
   "source": [
    "X = X.transpose(\"sampling\", \"feature\")\n",
    "np.shape(X[var_name].values)"
   ]
  },
  {
   "cell_type": "markdown",
   "metadata": {},
   "source": [
    "***"
   ]
  },
  {
   "cell_type": "markdown",
   "metadata": {},
   "source": [
    "Apply sklearn __StandardScaler__: \n",
    "Standardize features by removing the mean and scaling to unit variance\n",
    "The standard score of a sample x is calculated as:\n",
    "\n",
    "    z = (x - u) / s\n",
    "    \n",
    "where u is the mean of the training samples or zero if `with_mean=False`, and s is the standard deviation of the training samples or one if `with_std=False`.\n",
    "Centering and scaling happen independently on each feature by computing the relevant statistics on the samples in the training set. "
   ]
  },
  {
   "cell_type": "code",
   "execution_count": 29,
   "metadata": {},
   "outputs": [
    {
     "name": "stdout",
     "output_type": "stream",
     "text": [
      "<xarray.Dataset>\n",
      "Dimensions:              (feature: 52, sampling: 5741)\n",
      "Coordinates:\n",
      "  * feature              (feature) int64 1 2 3 4 5 6 7 ... 46 47 48 49 50 51 52\n",
      "  * sampling             (sampling) MultiIndex\n",
      "  - lat                  (sampling) float64 30.38 30.38 30.38 ... 46.12 46.12\n",
      "  - lon                  (sampling) float64 18.62 18.88 19.12 ... 38.62 42.88\n",
      "Data variables:\n",
      "    analysed_sst         (sampling, feature) float32 291.3304 ... 275.3912\n",
      "    analysed_sst_scaled  (sampling, feature) float32 0.98910934 ... -4.903476\n"
     ]
    }
   ],
   "source": [
    "from sklearn.preprocessing import StandardScaler\n",
    "X_scale = StandardScaler().fit_transform(X[var_name])\n",
    "X = X.assign(variables={var_name + \"_scaled\":(('sampling', 'feature'), X_scale)})\n",
    "print(X)\n",
    "#X"
   ]
  },
  {
   "cell_type": "markdown",
   "metadata": {},
   "source": [
    "#### __5) PCA__"
   ]
  },
  {
   "cell_type": "markdown",
   "metadata": {},
   "source": [
    "Apply __Principal component analysis__ (PCA):\n",
    "Linear dimensionality reduction using Singular Value Decomposition of the data to project it to a lower dimensional space.\n",
    "If `0 < n_components < 1` and `svd_solver == 'full'`, select the number of components such that the amount of variance that needs to be explained is greater than the percentage specified by n_components."
   ]
  },
  {
   "cell_type": "code",
   "execution_count": 30,
   "metadata": {},
   "outputs": [
    {
     "data": {
      "text/plain": [
       "PCA(copy=True, iterated_power='auto', n_components=0.99, random_state=None,\n",
       "    svd_solver='full', tol=0.0, whiten=False)"
      ]
     },
     "execution_count": 30,
     "metadata": {},
     "output_type": "execute_result"
    }
   ],
   "source": [
    "from sklearn.decomposition import PCA\n",
    "pca = PCA(n_components = 0.99, svd_solver = 'full')\n",
    "pca"
   ]
  },
  {
   "cell_type": "code",
   "execution_count": 31,
   "metadata": {},
   "outputs": [],
   "source": [
    "pca = pca.fit(X[var_name + \"_scaled\"])"
   ]
  },
  {
   "cell_type": "code",
   "execution_count": 32,
   "metadata": {},
   "outputs": [
    {
     "data": {
      "text/plain": [
       "Text(0.5, 1.0, 'Percentage of variance explained by each of the selected components')"
      ]
     },
     "execution_count": 32,
     "metadata": {},
     "output_type": "execute_result"
    },
    {
     "data": {
      "image/png": "[encoded data removed]",
      "text/plain": [
       "<Figure size 432x288 with 1 Axes>"
      ]
     },
     "metadata": {
      "needs_background": "light"
     },
     "output_type": "display_data"
    }
   ],
   "source": [
    "fig, ax = plt.subplots()\n",
    "pb = plt.bar(range(pca.n_components_), pca.explained_variance_ratio_)\n",
    "ax.set_xlabel('n_components')\n",
    "ax.set_ylabel('Percentage')\n",
    "ax.set_title('Percentage of variance explained by each of the selected components')"
   ]
  },
  {
   "cell_type": "code",
   "execution_count": 33,
   "metadata": {},
   "outputs": [
    {
     "data": {
      "text/plain": [
       "(5741, 12)"
      ]
     },
     "execution_count": 33,
     "metadata": {},
     "output_type": "execute_result"
    }
   ],
   "source": [
    "X_reduced = pca.transform(X[var_name + \"_scaled\"])\n",
    "np.shape(X_reduced)"
   ]
  },
  {
   "cell_type": "code",
   "execution_count": 34,
   "metadata": {},
   "outputs": [
    {
     "name": "stdout",
     "output_type": "stream",
     "text": [
      "<xarray.Dataset>\n",
      "Dimensions:               (feature: 52, feature_reduced: 12, sampling: 5741)\n",
      "Coordinates:\n",
      "  * feature               (feature) int64 1 2 3 4 5 6 7 ... 46 47 48 49 50 51 52\n",
      "  * sampling              (sampling) MultiIndex\n",
      "  - lat                   (sampling) float64 30.38 30.38 30.38 ... 46.12 46.12\n",
      "  - lon                   (sampling) float64 18.62 18.88 19.12 ... 38.62 42.88\n",
      "Dimensions without coordinates: feature_reduced\n",
      "Data variables:\n",
      "    analysed_sst          (sampling, feature) float32 291.3304 ... 275.3912\n",
      "    analysed_sst_scaled   (sampling, feature) float32 0.98910934 ... -4.903476\n",
      "    analysed_sst_reduced  (sampling, feature_reduced) float32 6.956739 ... 0.32258075\n"
     ]
    }
   ],
   "source": [
    "X = X.assign(variables={var_name + \"_reduced\":(('sampling', 'feature_reduced'),X_reduced)})\n",
    "print(X)"
   ]
  },
  {
   "cell_type": "markdown",
   "metadata": {},
   "source": [
    "## Apply Model\n",
    "***"
   ]
  },
  {
   "cell_type": "markdown",
   "metadata": {},
   "source": [
    "__Create model__"
   ]
  },
  {
   "cell_type": "code",
   "execution_count": 35,
   "metadata": {},
   "outputs": [
    {
     "data": {
      "text/plain": [
       "GaussianMixture(covariance_type='full', init_params='kmeans', max_iter=100,\n",
       "                means_init=None, n_components=7, n_init=1, precisions_init=None,\n",
       "                random_state=None, reg_covar=1e-06, tol=0.001, verbose=0,\n",
       "                verbose_interval=10, warm_start=False, weights_init=None)"
      ]
     },
     "execution_count": 35,
     "metadata": {},
     "output_type": "execute_result"
    }
   ],
   "source": [
    "from sklearn import mixture\n",
    "k = 7 # number of classes\n",
    "model = mixture.GaussianMixture(n_components=k, covariance_type='full')\n",
    "model"
   ]
  },
  {
   "cell_type": "markdown",
   "metadata": {},
   "source": [
    "__Fit model__"
   ]
  },
  {
   "cell_type": "code",
   "execution_count": 36,
   "metadata": {},
   "outputs": [
    {
     "data": {
      "text/plain": [
       "GaussianMixture(covariance_type='full', init_params='kmeans', max_iter=100,\n",
       "                means_init=None, n_components=7, n_init=1, precisions_init=None,\n",
       "                random_state=None, reg_covar=1e-06, tol=0.001, verbose=0,\n",
       "                verbose_interval=10, warm_start=False, weights_init=None)"
      ]
     },
     "execution_count": 36,
     "metadata": {},
     "output_type": "execute_result"
    }
   ],
   "source": [
    "model.fit(X[var_name + \"_reduced\"])"
   ]
  },
  {
   "cell_type": "markdown",
   "metadata": {},
   "source": [
    "__Predict labels__"
   ]
  },
  {
   "cell_type": "code",
   "execution_count": 37,
   "metadata": {},
   "outputs": [
    {
     "data": {
      "text/plain": [
       "array([6, 6, 6, ..., 0, 0, 0])"
      ]
     },
     "execution_count": 37,
     "metadata": {},
     "output_type": "execute_result"
    }
   ],
   "source": [
    "X_labels = model.predict(X[var_name + \"_reduced\"])\n",
    "X_labels"
   ]
  },
  {
   "cell_type": "code",
   "execution_count": 38,
   "metadata": {},
   "outputs": [
    {
     "name": "stdout",
     "output_type": "stream",
     "text": [
      "0\n",
      "6\n"
     ]
    }
   ],
   "source": [
    "print(X_labels.min())\n",
    "print(X_labels.max())"
   ]
  },
  {
   "cell_type": "code",
   "execution_count": 39,
   "metadata": {},
   "outputs": [
    {
     "name": "stdout",
     "output_type": "stream",
     "text": [
      "<xarray.Dataset>\n",
      "Dimensions:               (feature: 52, feature_reduced: 12, sampling: 5741)\n",
      "Coordinates:\n",
      "  * feature               (feature) int64 1 2 3 4 5 6 7 ... 46 47 48 49 50 51 52\n",
      "  * sampling              (sampling) MultiIndex\n",
      "  - lat                   (sampling) float64 30.38 30.38 30.38 ... 46.12 46.12\n",
      "  - lon                   (sampling) float64 18.62 18.88 19.12 ... 38.62 42.88\n",
      "Dimensions without coordinates: feature_reduced\n",
      "Data variables:\n",
      "    analysed_sst          (sampling, feature) float32 291.3304 ... 275.3912\n",
      "    analysed_sst_scaled   (sampling, feature) float32 0.98910934 ... -4.903476\n",
      "    analysed_sst_reduced  (sampling, feature_reduced) float32 6.956739 ... 0.32258075\n",
      "    GMM_labels            (sampling) int64 6 6 6 6 1 1 6 6 5 ... 0 0 0 0 0 0 0 0\n"
     ]
    }
   ],
   "source": [
    "X = X.assign(variables={\"GMM_labels\":(('sampling'),X_labels)})\n",
    "print(X)\n",
    "#X"
   ]
  },
  {
   "cell_type": "markdown",
   "metadata": {},
   "source": [
    "Calculate other __stadistics__"
   ]
  },
  {
   "cell_type": "markdown",
   "metadata": {},
   "source": [
    "- Predict posterior probability of each component given the data"
   ]
  },
  {
   "cell_type": "code",
   "execution_count": 40,
   "metadata": {},
   "outputs": [
    {
     "data": {
      "text/plain": [
       "(5741, 7)"
      ]
     },
     "execution_count": 40,
     "metadata": {},
     "output_type": "execute_result"
    }
   ],
   "source": [
    "X_proba = model.predict_proba(X[var_name + \"_reduced\"])\n",
    "np.shape(X_proba)"
   ]
  },
  {
   "cell_type": "code",
   "execution_count": 41,
   "metadata": {},
   "outputs": [
    {
     "name": "stdout",
     "output_type": "stream",
     "text": [
      "<xarray.Dataset>\n",
      "Dimensions:               (feature: 52, feature_reduced: 12, k: 7, sampling: 5741)\n",
      "Coordinates:\n",
      "  * feature               (feature) int64 1 2 3 4 5 6 7 ... 46 47 48 49 50 51 52\n",
      "  * sampling              (sampling) MultiIndex\n",
      "  - lat                   (sampling) float64 30.38 30.38 30.38 ... 46.12 46.12\n",
      "  - lon                   (sampling) float64 18.62 18.88 19.12 ... 38.62 42.88\n",
      "Dimensions without coordinates: feature_reduced, k\n",
      "Data variables:\n",
      "    analysed_sst          (sampling, feature) float32 291.3304 ... 275.3912\n",
      "    analysed_sst_scaled   (sampling, feature) float32 0.98910934 ... -4.903476\n",
      "    analysed_sst_reduced  (sampling, feature_reduced) float32 6.956739 ... 0.32258075\n",
      "    GMM_labels            (sampling) int64 6 6 6 6 1 1 6 6 5 ... 0 0 0 0 0 0 0 0\n",
      "    GMM_post              (sampling, k) float64 9.52e-149 0.02894 ... 0.0 0.0\n"
     ]
    }
   ],
   "source": [
    "X = X.assign(variables={\"GMM_post\":(('sampling','k'),X_proba)})\n",
    "print(X)\n",
    "#X"
   ]
  },
  {
   "cell_type": "markdown",
   "metadata": {},
   "source": [
    "- Calculate quantiles"
   ]
  },
  {
   "cell_type": "code",
   "execution_count": 42,
   "metadata": {},
   "outputs": [],
   "source": [
    "#quantiles we want to calculate\n",
    "q = [0.05, 0.5, 0.95]"
   ]
  },
  {
   "cell_type": "code",
   "execution_count": 43,
   "metadata": {},
   "outputs": [],
   "source": [
    "m_quantiles = X[var_name].where(X['GMM_labels']==0, drop=True).quantile(q, dim='sampling')\n",
    "for yi in range(1,k):\n",
    "    m_quantiles = xr.concat((m_quantiles, X[var_name].where(X['GMM_labels']==yi, drop=True).quantile(q, dim='sampling')), dim='k')"
   ]
  },
  {
   "cell_type": "code",
   "execution_count": 44,
   "metadata": {},
   "outputs": [
    {
     "name": "stdout",
     "output_type": "stream",
     "text": [
      "<xarray.Dataset>\n",
      "Dimensions:               (feature: 52, feature_reduced: 12, k: 7, quantile: 3, sampling: 5741)\n",
      "Coordinates:\n",
      "  * feature               (feature) int64 1 2 3 4 5 6 7 ... 46 47 48 49 50 51 52\n",
      "  * sampling              (sampling) MultiIndex\n",
      "  - lat                   (sampling) float64 30.38 30.38 30.38 ... 46.12 46.12\n",
      "  - lon                   (sampling) float64 18.62 18.88 19.12 ... 38.62 42.88\n",
      "  * quantile              (quantile) float64 0.05 0.5 0.95\n",
      "Dimensions without coordinates: feature_reduced, k\n",
      "Data variables:\n",
      "    analysed_sst          (sampling, feature) float32 291.3304 ... 275.3912\n",
      "    analysed_sst_scaled   (sampling, feature) float32 0.98910934 ... -4.903476\n",
      "    analysed_sst_reduced  (sampling, feature_reduced) float32 6.956739 ... 0.32258075\n",
      "    GMM_labels            (sampling) int64 6 6 6 6 1 1 6 6 5 ... 0 0 0 0 0 0 0 0\n",
      "    GMM_post              (sampling, k) float64 9.52e-149 0.02894 ... 0.0 0.0\n",
      "    analysed_sst_Q        (k, quantile, feature) float64 276.4 274.5 ... 293.3\n"
     ]
    }
   ],
   "source": [
    "X = X.assign(variables={var_name + \"_Q\":(('k','quantile','feature'), m_quantiles)})\n",
    "X = X.assign_coords(coords={'quantile': q})\n",
    "print(X)"
   ]
  },
  {
   "cell_type": "markdown",
   "metadata": {},
   "source": [
    "- Calculate robustness"
   ]
  },
  {
   "cell_type": "code",
   "execution_count": 45,
   "metadata": {},
   "outputs": [],
   "source": [
    "maxpost = X[\"GMM_post\"].max(dim=\"k\")\n",
    "K = len(X[\"GMM_labels\"])\n",
    "robust = (maxpost - 1. / K) * K / (K - 1.)\n",
    "\n",
    "Plist = [0, 0.33, 0.66, 0.9, .99, 1]\n",
    "rowl0 = ('Unlikely', 'As likely as not', 'Likely', 'Very Likely', 'Virtually certain')\n",
    "robust_id = np.digitize(robust, Plist) - 1"
   ]
  },
  {
   "cell_type": "code",
   "execution_count": 46,
   "metadata": {},
   "outputs": [
    {
     "name": "stdout",
     "output_type": "stream",
     "text": [
      "<xarray.Dataset>\n",
      "Dimensions:               (feature: 52, feature_reduced: 12, k: 7, quantile: 3, sampling: 5741)\n",
      "Coordinates:\n",
      "  * feature               (feature) int64 1 2 3 4 5 6 7 ... 46 47 48 49 50 51 52\n",
      "  * sampling              (sampling) MultiIndex\n",
      "  - lat                   (sampling) float64 30.38 30.38 30.38 ... 46.12 46.12\n",
      "  - lon                   (sampling) float64 18.62 18.88 19.12 ... 38.62 42.88\n",
      "  * quantile              (quantile) float64 0.05 0.5 0.95\n",
      "Dimensions without coordinates: feature_reduced, k\n",
      "Data variables:\n",
      "    analysed_sst          (sampling, feature) float32 291.3304 ... 275.3912\n",
      "    analysed_sst_scaled   (sampling, feature) float32 0.98910934 ... -4.903476\n",
      "    analysed_sst_reduced  (sampling, feature_reduced) float32 6.956739 ... 0.32258075\n",
      "    GMM_labels            (sampling) int64 6 6 6 6 1 1 6 6 5 ... 0 0 0 0 0 0 0 0\n",
      "    GMM_post              (sampling, k) float64 9.52e-149 0.02894 ... 0.0 0.0\n",
      "    analysed_sst_Q        (k, quantile, feature) float64 276.4 274.5 ... 293.3\n",
      "    GMM_robustness        (sampling) float64 0.9711 0.9823 0.9257 ... 1.0 1.0\n",
      "    GMM_robustness_cat    (sampling) int64 3 3 3 2 3 4 2 2 2 ... 5 5 5 5 5 5 5 5\n"
     ]
    }
   ],
   "source": [
    "X = X.assign(variables={\"GMM_robustness\":(('sampling'), robust), \"GMM_robustness_cat\":(('sampling'), robust_id)})\n",
    "X[\"GMM_robustness_cat\"].attrs['legend'] = rowl0\n",
    "print(X)\n",
    "#X"
   ]
  },
  {
   "cell_type": "markdown",
   "metadata": {},
   "source": [
    "__Unstack dataset__"
   ]
  },
  {
   "cell_type": "code",
   "execution_count": 47,
   "metadata": {},
   "outputs": [
    {
     "name": "stdout",
     "output_type": "stream",
     "text": [
      "<xarray.Dataset>\n",
      "Dimensions:               (feature: 52, feature_reduced: 12, k: 7, lat: 65, lon: 192, quantile: 3)\n",
      "Coordinates:\n",
      "  * lat                   (lat) float64 30.12 30.38 30.62 ... 45.62 45.88 46.12\n",
      "  * lon                   (lon) float64 -4.875 -4.625 -4.375 ... 42.62 42.88\n",
      "  * feature               (feature) int64 1 2 3 4 5 6 7 ... 46 47 48 49 50 51 52\n",
      "  * quantile              (quantile) float64 0.05 0.5 0.95\n",
      "Dimensions without coordinates: feature_reduced, k\n",
      "Data variables:\n",
      "    analysed_sst          (feature, lat, lon) float32 nan nan ... nan 275.3912\n",
      "    analysed_sst_scaled   (feature, lat, lon) float32 nan nan ... nan -4.903476\n",
      "    analysed_sst_reduced  (feature_reduced, lat, lon) float32 nan ... 0.32258075\n",
      "    GMM_labels            (lat, lon) float64 nan nan nan nan ... nan nan nan 0.0\n",
      "    GMM_post              (k, lat, lon) float64 nan nan nan nan ... nan nan 0.0\n",
      "    analysed_sst_Q        (k, quantile, feature) float64 276.4 274.5 ... 293.3\n",
      "    GMM_robustness        (lat, lon) float64 nan nan nan nan ... nan nan nan 1.0\n",
      "    GMM_robustness_cat    (lat, lon) float64 nan nan nan nan ... nan nan nan 5.0\n"
     ]
    }
   ],
   "source": [
    "ds_labels = X.unstack('sampling')\n",
    "#ds_labels = ds_labels.sortby(['lat','lon'])\n",
    "# same lat and lon values in mask and in results\n",
    "mask = stacked_mask.unstack()\n",
    "ds_labels = ds_labels.reindex_like(mask)\n",
    "print(ds_labels)\n",
    "#ds_labels"
   ]
  },
  {
   "cell_type": "markdown",
   "metadata": {},
   "source": [
    "## Preprocesing plots\n",
    "***"
   ]
  },
  {
   "cell_type": "code",
   "execution_count": 48,
   "metadata": {},
   "outputs": [],
   "source": [
    "#convert colormap to pallete\n",
    "import matplotlib.cm\n",
    "cmap=plt.cm.get_cmap('Spectral', k)\n",
    "matplotlib.cm.register_cmap(\"mycolormap\", cmap)\n",
    "cpal = sns.color_palette(\"mycolormap\", n_colors=k)"
   ]
  },
  {
   "cell_type": "code",
   "execution_count": 49,
   "metadata": {},
   "outputs": [
    {
     "data": {
      "text/plain": [
       "<seaborn.axisgrid.PairGrid at 0x7f65c34dad10>"
      ]
     },
     "execution_count": 49,
     "metadata": {},
     "output_type": "execute_result"
    },
    {
     "data": {
      "image/png": "[encoded data removed]",
      "text/plain": [
       "<Figure size 405.68x360 with 6 Axes>"
      ]
     },
     "metadata": {
      "needs_background": "light"
     },
     "output_type": "display_data"
    }
   ],
   "source": [
    "#convert to dataframe\n",
    "df = ds_labels['analysed_sst_reduced'].to_dataframe(name='analysed_sst_reduced').unstack(0)\n",
    "#select first and second components\n",
    "df = df.take([0, 1], axis=1)\n",
    "#add labels\n",
    "df['labels'] = ds_labels['GMM_labels'].stack({'sampling': sampling_dims})\n",
    "# do not use NaNs\n",
    "df = df.dropna()\n",
    "\n",
    "# random selection of points to make clear plots\n",
    "n=1000\n",
    "random_rows = np.random.choice(range(df.shape[0]), np.min((n, df.shape[0])), replace=False)\n",
    "df = df.iloc[random_rows]\n",
    "#format to simple dataframe\n",
    "df = df.reset_index(drop=True)\n",
    "df.columns = df.columns.droplevel(0)\n",
    "df = df.rename_axis(None, axis=1)\n",
    "df = df.rename(columns={0: \"feature_reduced_0\", 1: \"feature_reduced_1\", '': \"labels\"})\n",
    "\n",
    "#defaults = {'height':2.5, 'aspect':1, 'hue':'labels', 'palette': m.plot.cmap(palette=True),\n",
    "#                    'vars':m._xlabel, 'despine':False}\n",
    "defaults = {'height':2.5, 'aspect':1, 'hue':'labels', 'despine':False, 'palette': cpal}\n",
    "g = sns.PairGrid(df, **defaults)\n",
    "\n",
    "g.map_diag(sns.histplot, edgecolor=None, alpha=0.75)\n",
    "g = g.map_upper(plt.scatter, s=3)\n",
    "\n",
    "g.add_legend()"
   ]
  },
  {
   "cell_type": "markdown",
   "metadata": {},
   "source": [
    "## Plot results\n",
    "***"
   ]
  },
  {
   "cell_type": "code",
   "execution_count": 50,
   "metadata": {},
   "outputs": [
    {
     "data": {
      "text/plain": [
       "GaussianMixture(covariance_type='full', init_params='kmeans', max_iter=100,\n",
       "                means_init=None, n_components=7, n_init=1, precisions_init=None,\n",
       "                random_state=None, reg_covar=1e-06, tol=0.001, verbose=0,\n",
       "                verbose_interval=10, warm_start=False, weights_init=None)"
      ]
     },
     "execution_count": 50,
     "metadata": {},
     "output_type": "execute_result"
    }
   ],
   "source": [
    "model"
   ]
  },
  {
   "cell_type": "code",
   "execution_count": 51,
   "metadata": {},
   "outputs": [
    {
     "data": {
      "text/html": [
       "<div><svg style=\"position: absolute; width: 0; height: 0; overflow: hidden\">\n",
       "<defs>\n",
       "<symbol id=\"icon-database\" viewBox=\"0 0 32 32\">\n",
       "<title>Show/Hide data repr</title>\n",
       "<path d=\"M16 0c-8.837 0-16 2.239-16 5v4c0 2.761 7.163 5 16 5s16-2.239 16-5v-4c0-2.761-7.163-5-16-5z\"></path>\n",
       "<path d=\"M16 17c-8.837 0-16-2.239-16-5v6c0 2.761 7.163 5 16 5s16-2.239 16-5v-6c0 2.761-7.163 5-16 5z\"></path>\n",
       "<path d=\"M16 26c-8.837 0-16-2.239-16-5v6c0 2.761 7.163 5 16 5s16-2.239 16-5v-6c0 2.761-7.163 5-16 5z\"></path>\n",
       "</symbol>\n",
       "<symbol id=\"icon-file-text2\" viewBox=\"0 0 32 32\">\n",
       "<title>Show/Hide attributes</title>\n",
       "<path d=\"M28.681 7.159c-0.694-0.947-1.662-2.053-2.724-3.116s-2.169-2.030-3.116-2.724c-1.612-1.182-2.393-1.319-2.841-1.319h-15.5c-1.378 0-2.5 1.121-2.5 2.5v27c0 1.378 1.122 2.5 2.5 2.5h23c1.378 0 2.5-1.122 2.5-2.5v-19.5c0-0.448-0.137-1.23-1.319-2.841zM24.543 5.457c0.959 0.959 1.712 1.825 2.268 2.543h-4.811v-4.811c0.718 0.556 1.584 1.309 2.543 2.268zM28 29.5c0 0.271-0.229 0.5-0.5 0.5h-23c-0.271 0-0.5-0.229-0.5-0.5v-27c0-0.271 0.229-0.5 0.5-0.5 0 0 15.499-0 15.5 0v7c0 0.552 0.448 1 1 1h7v19.5z\"></path>\n",
       "<path d=\"M23 26h-14c-0.552 0-1-0.448-1-1s0.448-1 1-1h14c0.552 0 1 0.448 1 1s-0.448 1-1 1z\"></path>\n",
       "<path d=\"M23 22h-14c-0.552 0-1-0.448-1-1s0.448-1 1-1h14c0.552 0 1 0.448 1 1s-0.448 1-1 1z\"></path>\n",
       "<path d=\"M23 18h-14c-0.552 0-1-0.448-1-1s0.448-1 1-1h14c0.552 0 1 0.448 1 1s-0.448 1-1 1z\"></path>\n",
       "</symbol>\n",
       "</defs>\n",
       "</svg>\n",
       "<style>/* CSS stylesheet for displaying xarray objects in jupyterlab.\n",
       " *\n",
       " */\n",
       "\n",
       ":root {\n",
       "  --xr-font-color0: var(--jp-content-font-color0, rgba(0, 0, 0, 1));\n",
       "  --xr-font-color2: var(--jp-content-font-color2, rgba(0, 0, 0, 0.54));\n",
       "  --xr-font-color3: var(--jp-content-font-color3, rgba(0, 0, 0, 0.38));\n",
       "  --xr-border-color: var(--jp-border-color2, #e0e0e0);\n",
       "  --xr-disabled-color: var(--jp-layout-color3, #bdbdbd);\n",
       "  --xr-background-color: var(--jp-layout-color0, white);\n",
       "  --xr-background-color-row-even: var(--jp-layout-color1, white);\n",
       "  --xr-background-color-row-odd: var(--jp-layout-color2, #eeeeee);\n",
       "}\n",
       "\n",
       ".xr-wrap {\n",
       "  min-width: 300px;\n",
       "  max-width: 700px;\n",
       "}\n",
       "\n",
       ".xr-header {\n",
       "  padding-top: 6px;\n",
       "  padding-bottom: 6px;\n",
       "  margin-bottom: 4px;\n",
       "  border-bottom: solid 1px var(--xr-border-color);\n",
       "}\n",
       "\n",
       ".xr-header > div,\n",
       ".xr-header > ul {\n",
       "  display: inline;\n",
       "  margin-top: 0;\n",
       "  margin-bottom: 0;\n",
       "}\n",
       "\n",
       ".xr-obj-type,\n",
       ".xr-array-name {\n",
       "  margin-left: 2px;\n",
       "  margin-right: 10px;\n",
       "}\n",
       "\n",
       ".xr-obj-type {\n",
       "  color: var(--xr-font-color2);\n",
       "}\n",
       "\n",
       ".xr-sections {\n",
       "  padding-left: 0 !important;\n",
       "  display: grid;\n",
       "  grid-template-columns: 150px auto auto 1fr 20px 20px;\n",
       "}\n",
       "\n",
       ".xr-section-item {\n",
       "  display: contents;\n",
       "}\n",
       "\n",
       ".xr-section-item input {\n",
       "  display: none;\n",
       "}\n",
       "\n",
       ".xr-section-item input + label {\n",
       "  color: var(--xr-disabled-color);\n",
       "}\n",
       "\n",
       ".xr-section-item input:enabled + label {\n",
       "  cursor: pointer;\n",
       "  color: var(--xr-font-color2);\n",
       "}\n",
       "\n",
       ".xr-section-item input:enabled + label:hover {\n",
       "  color: var(--xr-font-color0);\n",
       "}\n",
       "\n",
       ".xr-section-summary {\n",
       "  grid-column: 1;\n",
       "  color: var(--xr-font-color2);\n",
       "  font-weight: 500;\n",
       "}\n",
       "\n",
       ".xr-section-summary > span {\n",
       "  display: inline-block;\n",
       "  padding-left: 0.5em;\n",
       "}\n",
       "\n",
       ".xr-section-summary-in:disabled + label {\n",
       "  color: var(--xr-font-color2);\n",
       "}\n",
       "\n",
       ".xr-section-summary-in + label:before {\n",
       "  display: inline-block;\n",
       "  content: '►';\n",
       "  font-size: 11px;\n",
       "  width: 15px;\n",
       "  text-align: center;\n",
       "}\n",
       "\n",
       ".xr-section-summary-in:disabled + label:before {\n",
       "  color: var(--xr-disabled-color);\n",
       "}\n",
       "\n",
       ".xr-section-summary-in:checked + label:before {\n",
       "  content: '▼';\n",
       "}\n",
       "\n",
       ".xr-section-summary-in:checked + label > span {\n",
       "  display: none;\n",
       "}\n",
       "\n",
       ".xr-section-summary,\n",
       ".xr-section-inline-details {\n",
       "  padding-top: 4px;\n",
       "  padding-bottom: 4px;\n",
       "}\n",
       "\n",
       ".xr-section-inline-details {\n",
       "  grid-column: 2 / -1;\n",
       "}\n",
       "\n",
       ".xr-section-details {\n",
       "  display: none;\n",
       "  grid-column: 1 / -1;\n",
       "  margin-bottom: 5px;\n",
       "}\n",
       "\n",
       ".xr-section-summary-in:checked ~ .xr-section-details {\n",
       "  display: contents;\n",
       "}\n",
       "\n",
       ".xr-array-wrap {\n",
       "  grid-column: 1 / -1;\n",
       "  display: grid;\n",
       "  grid-template-columns: 20px auto;\n",
       "}\n",
       "\n",
       ".xr-array-wrap > label {\n",
       "  grid-column: 1;\n",
       "  vertical-align: top;\n",
       "}\n",
       "\n",
       ".xr-preview {\n",
       "  color: var(--xr-font-color3);\n",
       "}\n",
       "\n",
       ".xr-array-preview,\n",
       ".xr-array-data {\n",
       "  padding: 0 5px !important;\n",
       "  grid-column: 2;\n",
       "}\n",
       "\n",
       ".xr-array-data,\n",
       ".xr-array-in:checked ~ .xr-array-preview {\n",
       "  display: none;\n",
       "}\n",
       "\n",
       ".xr-array-in:checked ~ .xr-array-data,\n",
       ".xr-array-preview {\n",
       "  display: inline-block;\n",
       "}\n",
       "\n",
       ".xr-dim-list {\n",
       "  display: inline-block !important;\n",
       "  list-style: none;\n",
       "  padding: 0 !important;\n",
       "  margin: 0;\n",
       "}\n",
       "\n",
       ".xr-dim-list li {\n",
       "  display: inline-block;\n",
       "  padding: 0;\n",
       "  margin: 0;\n",
       "}\n",
       "\n",
       ".xr-dim-list:before {\n",
       "  content: '(';\n",
       "}\n",
       "\n",
       ".xr-dim-list:after {\n",
       "  content: ')';\n",
       "}\n",
       "\n",
       ".xr-dim-list li:not(:last-child):after {\n",
       "  content: ',';\n",
       "  padding-right: 5px;\n",
       "}\n",
       "\n",
       ".xr-has-index {\n",
       "  font-weight: bold;\n",
       "}\n",
       "\n",
       ".xr-var-list,\n",
       ".xr-var-item {\n",
       "  display: contents;\n",
       "}\n",
       "\n",
       ".xr-var-item > div,\n",
       ".xr-var-item label,\n",
       ".xr-var-item > .xr-var-name span {\n",
       "  background-color: var(--xr-background-color-row-even);\n",
       "  margin-bottom: 0;\n",
       "}\n",
       "\n",
       ".xr-var-item > .xr-var-name:hover span {\n",
       "  padding-right: 5px;\n",
       "}\n",
       "\n",
       ".xr-var-list > li:nth-child(odd) > div,\n",
       ".xr-var-list > li:nth-child(odd) > label,\n",
       ".xr-var-list > li:nth-child(odd) > .xr-var-name span {\n",
       "  background-color: var(--xr-background-color-row-odd);\n",
       "}\n",
       "\n",
       ".xr-var-name {\n",
       "  grid-column: 1;\n",
       "}\n",
       "\n",
       ".xr-var-dims {\n",
       "  grid-column: 2;\n",
       "}\n",
       "\n",
       ".xr-var-dtype {\n",
       "  grid-column: 3;\n",
       "  text-align: right;\n",
       "  color: var(--xr-font-color2);\n",
       "}\n",
       "\n",
       ".xr-var-preview {\n",
       "  grid-column: 4;\n",
       "}\n",
       "\n",
       ".xr-var-name,\n",
       ".xr-var-dims,\n",
       ".xr-var-dtype,\n",
       ".xr-preview,\n",
       ".xr-attrs dt {\n",
       "  white-space: nowrap;\n",
       "  overflow: hidden;\n",
       "  text-overflow: ellipsis;\n",
       "  padding-right: 10px;\n",
       "}\n",
       "\n",
       ".xr-var-name:hover,\n",
       ".xr-var-dims:hover,\n",
       ".xr-var-dtype:hover,\n",
       ".xr-attrs dt:hover {\n",
       "  overflow: visible;\n",
       "  width: auto;\n",
       "  z-index: 1;\n",
       "}\n",
       "\n",
       ".xr-var-attrs,\n",
       ".xr-var-data {\n",
       "  display: none;\n",
       "  background-color: var(--xr-background-color) !important;\n",
       "  padding-bottom: 5px !important;\n",
       "}\n",
       "\n",
       ".xr-var-attrs-in:checked ~ .xr-var-attrs,\n",
       ".xr-var-data-in:checked ~ .xr-var-data {\n",
       "  display: block;\n",
       "}\n",
       "\n",
       ".xr-var-data > table {\n",
       "  float: right;\n",
       "}\n",
       "\n",
       ".xr-var-name span,\n",
       ".xr-var-data,\n",
       ".xr-attrs {\n",
       "  padding-left: 25px !important;\n",
       "}\n",
       "\n",
       ".xr-attrs,\n",
       ".xr-var-attrs,\n",
       ".xr-var-data {\n",
       "  grid-column: 1 / -1;\n",
       "}\n",
       "\n",
       "dl.xr-attrs {\n",
       "  padding: 0;\n",
       "  margin: 0;\n",
       "  display: grid;\n",
       "  grid-template-columns: 125px auto;\n",
       "}\n",
       "\n",
       ".xr-attrs dt, dd {\n",
       "  padding: 0;\n",
       "  margin: 0;\n",
       "  float: left;\n",
       "  padding-right: 10px;\n",
       "  width: auto;\n",
       "}\n",
       "\n",
       ".xr-attrs dt {\n",
       "  font-weight: normal;\n",
       "  grid-column: 1;\n",
       "}\n",
       "\n",
       ".xr-attrs dt:hover span {\n",
       "  display: inline-block;\n",
       "  background: var(--xr-background-color);\n",
       "  padding-right: 10px;\n",
       "}\n",
       "\n",
       ".xr-attrs dd {\n",
       "  grid-column: 2;\n",
       "  white-space: pre-wrap;\n",
       "  word-break: break-all;\n",
       "}\n",
       "\n",
       ".xr-icon-database,\n",
       ".xr-icon-file-text2 {\n",
       "  display: inline-block;\n",
       "  vertical-align: middle;\n",
       "  width: 1em;\n",
       "  height: 1.5em !important;\n",
       "  stroke-width: 0;\n",
       "  stroke: currentColor;\n",
       "  fill: currentColor;\n",
       "}\n",
       "</style><div class='xr-wrap'><div class='xr-header'><div class='xr-obj-type'>xarray.Dataset</div></div><ul class='xr-sections'><li class='xr-section-item'><input id='section-f9b7ca68-b094-44ce-ab4f-8495e1c7415c' class='xr-section-summary-in' type='checkbox' disabled ><label for='section-f9b7ca68-b094-44ce-ab4f-8495e1c7415c' class='xr-section-summary'  title='Expand/collapse section'>Dimensions:</label><div class='xr-section-inline-details'><ul class='xr-dim-list'><li><span class='xr-has-index'>feature</span>: 52</li><li><span>feature_reduced</span>: 12</li><li><span>k</span>: 7</li><li><span class='xr-has-index'>lat</span>: 65</li><li><span class='xr-has-index'>lon</span>: 192</li><li><span class='xr-has-index'>quantile</span>: 3</li></ul></div><div class='xr-section-details'></div></li><li class='xr-section-item'><input id='section-488b1c85-ec12-4014-aed7-adaebb2571a7' class='xr-section-summary-in' type='checkbox'  checked><label for='section-488b1c85-ec12-4014-aed7-adaebb2571a7' class='xr-section-summary' >Coordinates: <span>(4)</span></label><div class='xr-section-inline-details'></div><div class='xr-section-details'><ul class='xr-var-list'><li class='xr-var-item'><div class='xr-var-name'><span class='xr-has-index'>lat</span></div><div class='xr-var-dims'>(lat)</div><div class='xr-var-dtype'>float64</div><div class='xr-var-preview xr-preview'>30.12 30.38 30.62 ... 45.88 46.12</div><input id='attrs-8aa33e2f-53ec-418e-b39d-1893127839d0' class='xr-var-attrs-in' type='checkbox' disabled><label for='attrs-8aa33e2f-53ec-418e-b39d-1893127839d0' title='Show/Hide attributes'><svg class='icon xr-icon-file-text2'><use xlink:href='#icon-file-text2'></use></svg></label><input id='data-31023cf5-53aa-4991-a501-144a09b19718' class='xr-var-data-in' type='checkbox'><label for='data-31023cf5-53aa-4991-a501-144a09b19718' title='Show/Hide data repr'><svg class='icon xr-icon-database'><use xlink:href='#icon-database'></use></svg></label><div class='xr-var-attrs'><dl class='xr-attrs'></dl></div><pre class='xr-var-data'>array([30.125, 30.375, 30.625, 30.875, 31.125, 31.375, 31.625, 31.875, 32.125,\n",
       "       32.375, 32.625, 32.875, 33.125, 33.375, 33.625, 33.875, 34.125, 34.375,\n",
       "       34.625, 34.875, 35.125, 35.375, 35.625, 35.875, 36.125, 36.375, 36.625,\n",
       "       36.875, 37.125, 37.375, 37.625, 37.875, 38.125, 38.375, 38.625, 38.875,\n",
       "       39.125, 39.375, 39.625, 39.875, 40.125, 40.375, 40.625, 40.875, 41.125,\n",
       "       41.375, 41.625, 41.875, 42.125, 42.375, 42.625, 42.875, 43.125, 43.375,\n",
       "       43.625, 43.875, 44.125, 44.375, 44.625, 44.875, 45.125, 45.375, 45.625,\n",
       "       45.875, 46.125])</pre></li><li class='xr-var-item'><div class='xr-var-name'><span class='xr-has-index'>lon</span></div><div class='xr-var-dims'>(lon)</div><div class='xr-var-dtype'>float64</div><div class='xr-var-preview xr-preview'>-4.875 -4.625 ... 42.62 42.88</div><input id='attrs-78c5eb31-7b24-448f-9436-e62ebdba8881' class='xr-var-attrs-in' type='checkbox' disabled><label for='attrs-78c5eb31-7b24-448f-9436-e62ebdba8881' title='Show/Hide attributes'><svg class='icon xr-icon-file-text2'><use xlink:href='#icon-file-text2'></use></svg></label><input id='data-6eae4d5c-81aa-49d2-97c7-affefb7c0cc0' class='xr-var-data-in' type='checkbox'><label for='data-6eae4d5c-81aa-49d2-97c7-affefb7c0cc0' title='Show/Hide data repr'><svg class='icon xr-icon-database'><use xlink:href='#icon-database'></use></svg></label><div class='xr-var-attrs'><dl class='xr-attrs'></dl></div><pre class='xr-var-data'>array([-4.875, -4.625, -4.375, -4.125, -3.875, -3.625, -3.375, -3.125, -2.875,\n",
       "       -2.625, -2.375, -2.125, -1.875, -1.625, -1.375, -1.125, -0.875, -0.625,\n",
       "       -0.375, -0.125,  0.125,  0.375,  0.625,  0.875,  1.125,  1.375,  1.625,\n",
       "        1.875,  2.125,  2.375,  2.625,  2.875,  3.125,  3.375,  3.625,  3.875,\n",
       "        4.125,  4.375,  4.625,  4.875,  5.125,  5.375,  5.625,  5.875,  6.125,\n",
       "        6.375,  6.625,  6.875,  7.125,  7.375,  7.625,  7.875,  8.125,  8.375,\n",
       "        8.625,  8.875,  9.125,  9.375,  9.625,  9.875, 10.125, 10.375, 10.625,\n",
       "       10.875, 11.125, 11.375, 11.625, 11.875, 12.125, 12.375, 12.625, 12.875,\n",
       "       13.125, 13.375, 13.625, 13.875, 14.125, 14.375, 14.625, 14.875, 15.125,\n",
       "       15.375, 15.625, 15.875, 16.125, 16.375, 16.625, 16.875, 17.125, 17.375,\n",
       "       17.625, 17.875, 18.125, 18.375, 18.625, 18.875, 19.125, 19.375, 19.625,\n",
       "       19.875, 20.125, 20.375, 20.625, 20.875, 21.125, 21.375, 21.625, 21.875,\n",
       "       22.125, 22.375, 22.625, 22.875, 23.125, 23.375, 23.625, 23.875, 24.125,\n",
       "       24.375, 24.625, 24.875, 25.125, 25.375, 25.625, 25.875, 26.125, 26.375,\n",
       "       26.625, 26.875, 27.125, 27.375, 27.625, 27.875, 28.125, 28.375, 28.625,\n",
       "       28.875, 29.125, 29.375, 29.625, 29.875, 30.125, 30.375, 30.625, 30.875,\n",
       "       31.125, 31.375, 31.625, 31.875, 32.125, 32.375, 32.625, 32.875, 33.125,\n",
       "       33.375, 33.625, 33.875, 34.125, 34.375, 34.625, 34.875, 35.125, 35.375,\n",
       "       35.625, 35.875, 36.125, 36.375, 36.625, 36.875, 37.125, 37.375, 37.625,\n",
       "       37.875, 38.125, 38.375, 38.625, 38.875, 39.125, 39.375, 39.625, 39.875,\n",
       "       40.125, 40.375, 40.625, 40.875, 41.125, 41.375, 41.625, 41.875, 42.125,\n",
       "       42.375, 42.625, 42.875])</pre></li><li class='xr-var-item'><div class='xr-var-name'><span class='xr-has-index'>feature</span></div><div class='xr-var-dims'>(feature)</div><div class='xr-var-dtype'>int64</div><div class='xr-var-preview xr-preview'>1 2 3 4 5 6 7 ... 47 48 49 50 51 52</div><input id='attrs-c8a1316b-bdb8-4e29-84ee-495167067ec9' class='xr-var-attrs-in' type='checkbox' disabled><label for='attrs-c8a1316b-bdb8-4e29-84ee-495167067ec9' title='Show/Hide attributes'><svg class='icon xr-icon-file-text2'><use xlink:href='#icon-file-text2'></use></svg></label><input id='data-beb6d8fd-632d-4600-af71-c8788c1ad43e' class='xr-var-data-in' type='checkbox'><label for='data-beb6d8fd-632d-4600-af71-c8788c1ad43e' title='Show/Hide data repr'><svg class='icon xr-icon-database'><use xlink:href='#icon-database'></use></svg></label><div class='xr-var-attrs'><dl class='xr-attrs'></dl></div><pre class='xr-var-data'>array([ 1,  2,  3,  4,  5,  6,  7,  8,  9, 10, 11, 12, 13, 14, 15, 16, 17, 18,\n",
       "       19, 20, 21, 22, 23, 24, 25, 26, 27, 28, 29, 30, 31, 32, 33, 34, 35, 36,\n",
       "       37, 38, 39, 40, 41, 42, 43, 44, 45, 46, 47, 48, 49, 50, 51, 52])</pre></li><li class='xr-var-item'><div class='xr-var-name'><span class='xr-has-index'>quantile</span></div><div class='xr-var-dims'>(quantile)</div><div class='xr-var-dtype'>float64</div><div class='xr-var-preview xr-preview'>0.05 0.5 0.95</div><input id='attrs-0b44e087-9f94-4c56-9dc9-dae1d4ad88e1' class='xr-var-attrs-in' type='checkbox' disabled><label for='attrs-0b44e087-9f94-4c56-9dc9-dae1d4ad88e1' title='Show/Hide attributes'><svg class='icon xr-icon-file-text2'><use xlink:href='#icon-file-text2'></use></svg></label><input id='data-df2bbead-d40d-433c-94c1-fa8fd2c22fe7' class='xr-var-data-in' type='checkbox'><label for='data-df2bbead-d40d-433c-94c1-fa8fd2c22fe7' title='Show/Hide data repr'><svg class='icon xr-icon-database'><use xlink:href='#icon-database'></use></svg></label><div class='xr-var-attrs'><dl class='xr-attrs'></dl></div><pre class='xr-var-data'>array([0.05, 0.5 , 0.95])</pre></li></ul></div></li><li class='xr-section-item'><input id='section-948e43d7-30d3-4019-bc5a-27a09f587f25' class='xr-section-summary-in' type='checkbox'  checked><label for='section-948e43d7-30d3-4019-bc5a-27a09f587f25' class='xr-section-summary' >Data variables: <span>(8)</span></label><div class='xr-section-inline-details'></div><div class='xr-section-details'><ul class='xr-var-list'><li class='xr-var-item'><div class='xr-var-name'><span>analysed_sst</span></div><div class='xr-var-dims'>(feature, lat, lon)</div><div class='xr-var-dtype'>float32</div><div class='xr-var-preview xr-preview'>nan nan nan ... nan nan 275.3912</div><input id='attrs-0f93aff6-4b44-4d29-9dc4-2a6efbbaa93d' class='xr-var-attrs-in' type='checkbox' disabled><label for='attrs-0f93aff6-4b44-4d29-9dc4-2a6efbbaa93d' title='Show/Hide attributes'><svg class='icon xr-icon-file-text2'><use xlink:href='#icon-file-text2'></use></svg></label><input id='data-79636fa5-3cb8-4625-876f-fdec206a7ba3' class='xr-var-data-in' type='checkbox'><label for='data-79636fa5-3cb8-4625-876f-fdec206a7ba3' title='Show/Hide data repr'><svg class='icon xr-icon-database'><use xlink:href='#icon-database'></use></svg></label><div class='xr-var-attrs'><dl class='xr-attrs'></dl></div><pre class='xr-var-data'>array([[[      nan,       nan,       nan, ...,       nan,       nan,\n",
       "               nan],\n",
       "        [      nan,       nan,       nan, ...,       nan,       nan,\n",
       "               nan],\n",
       "        [      nan,       nan,       nan, ...,       nan,       nan,\n",
       "               nan],\n",
       "        ...,\n",
       "        [285.9456 , 285.90225, 285.94632, ...,       nan,       nan,\n",
       "               nan],\n",
       "        [285.80164, 285.77313, 285.77274, ...,       nan,       nan,\n",
       "               nan],\n",
       "        [285.72232, 285.71152, 285.71255, ...,       nan,       nan,\n",
       "         275.20767]],\n",
       "\n",
       "       [[      nan,       nan,       nan, ...,       nan,       nan,\n",
       "               nan],\n",
       "        [      nan,       nan,       nan, ...,       nan,       nan,\n",
       "               nan],\n",
       "        [      nan,       nan,       nan, ...,       nan,       nan,\n",
       "               nan],\n",
       "        ...,\n",
       "        [285.77808, 285.7301 , 285.77   , ...,       nan,       nan,\n",
       "               nan],\n",
       "        [285.68823, 285.65338, 285.67932, ...,       nan,       nan,\n",
       "               nan],\n",
       "        [285.65558, 285.62915, 285.62134, ...,       nan,       nan,\n",
       "         274.7601 ]],\n",
       "\n",
       "       [[      nan,       nan,       nan, ...,       nan,       nan,\n",
       "               nan],\n",
       "        [      nan,       nan,       nan, ...,       nan,       nan,\n",
       "               nan],\n",
       "        [      nan,       nan,       nan, ...,       nan,       nan,\n",
       "               nan],\n",
       "        ...,\n",
       "        [285.61765, 285.5934 , 285.589  , ...,       nan,       nan,\n",
       "               nan],\n",
       "        [285.5294 , 285.48715, 285.4816 , ...,       nan,       nan,\n",
       "               nan],\n",
       "        [285.46204, 285.3812 , 285.3575 , ...,       nan,       nan,\n",
       "         274.4197 ]],\n",
       "\n",
       "       ...,\n",
       "\n",
       "       [[      nan,       nan,       nan, ...,       nan,       nan,\n",
       "               nan],\n",
       "        [      nan,       nan,       nan, ...,       nan,       nan,\n",
       "               nan],\n",
       "        [      nan,       nan,       nan, ...,       nan,       nan,\n",
       "               nan],\n",
       "        ...,\n",
       "        [286.33334, 286.5006 , 286.58026, ...,       nan,       nan,\n",
       "               nan],\n",
       "        [286.15024, 286.29944, 286.34937, ...,       nan,       nan,\n",
       "               nan],\n",
       "        [285.93643, 286.01236, 286.0766 , ...,       nan,       nan,\n",
       "         276.72717]],\n",
       "\n",
       "       [[      nan,       nan,       nan, ...,       nan,       nan,\n",
       "               nan],\n",
       "        [      nan,       nan,       nan, ...,       nan,       nan,\n",
       "               nan],\n",
       "        [      nan,       nan,       nan, ...,       nan,       nan,\n",
       "               nan],\n",
       "        ...,\n",
       "        [286.21988, 286.29184, 286.28067, ...,       nan,       nan,\n",
       "               nan],\n",
       "        [286.0485 , 286.09097, 286.0829 , ...,       nan,       nan,\n",
       "               nan],\n",
       "        [285.80414, 285.88565, 285.94458, ...,       nan,       nan,\n",
       "         276.32104]],\n",
       "\n",
       "       [[      nan,       nan,       nan, ...,       nan,       nan,\n",
       "               nan],\n",
       "        [      nan,       nan,       nan, ...,       nan,       nan,\n",
       "               nan],\n",
       "        [      nan,       nan,       nan, ...,       nan,       nan,\n",
       "               nan],\n",
       "        ...,\n",
       "        [286.00876, 285.97864, 286.06802, ...,       nan,       nan,\n",
       "               nan],\n",
       "        [285.79688, 285.8666 , 285.8565 , ...,       nan,       nan,\n",
       "               nan],\n",
       "        [285.60513, 285.69946, 285.79395, ...,       nan,       nan,\n",
       "         275.3912 ]]], dtype=float32)</pre></li><li class='xr-var-item'><div class='xr-var-name'><span>analysed_sst_scaled</span></div><div class='xr-var-dims'>(feature, lat, lon)</div><div class='xr-var-dtype'>float32</div><div class='xr-var-preview xr-preview'>nan nan nan ... nan nan -4.903476</div><input id='attrs-711bb119-03f2-4dfa-9c6d-90d3668ac0e6' class='xr-var-attrs-in' type='checkbox' disabled><label for='attrs-711bb119-03f2-4dfa-9c6d-90d3668ac0e6' title='Show/Hide attributes'><svg class='icon xr-icon-file-text2'><use xlink:href='#icon-file-text2'></use></svg></label><input id='data-6468e8dc-9158-4d1b-92af-8b7942c4a85d' class='xr-var-data-in' type='checkbox'><label for='data-6468e8dc-9158-4d1b-92af-8b7942c4a85d' title='Show/Hide data repr'><svg class='icon xr-icon-database'><use xlink:href='#icon-database'></use></svg></label><div class='xr-var-attrs'><dl class='xr-attrs'></dl></div><pre class='xr-var-data'>array([[[        nan,         nan,         nan, ...,         nan,\n",
       "                 nan,         nan],\n",
       "        [        nan,         nan,         nan, ...,         nan,\n",
       "                 nan,         nan],\n",
       "        [        nan,         nan,         nan, ...,         nan,\n",
       "                 nan,         nan],\n",
       "        ...,\n",
       "        [-0.73221433, -0.74606687, -0.7319802 , ...,         nan,\n",
       "                 nan,         nan],\n",
       "        [-0.7782301 , -0.78734154, -0.7874684 , ...,         nan,\n",
       "                 nan,         nan],\n",
       "        [-0.80358416, -0.80703753, -0.80670583, ...,         nan,\n",
       "                 nan, -4.1647162 ]],\n",
       "\n",
       "       [[        nan,         nan,         nan, ...,         nan,\n",
       "                 nan,         nan],\n",
       "        [        nan,         nan,         nan, ...,         nan,\n",
       "                 nan,         nan],\n",
       "        [        nan,         nan,         nan, ...,         nan,\n",
       "                 nan,         nan],\n",
       "        ...,\n",
       "        [-0.54738843, -0.56201094, -0.54985344, ...,         nan,\n",
       "                 nan,         nan],\n",
       "        [-0.57477313, -0.5853959 , -0.57748926, ...,         nan,\n",
       "                 nan,         nan],\n",
       "        [-0.5847261 , -0.59278154, -0.5951628 , ...,         nan,\n",
       "                 nan, -3.9057047 ]],\n",
       "\n",
       "       [[        nan,         nan,         nan, ...,         nan,\n",
       "                 nan,         nan],\n",
       "        [        nan,         nan,         nan, ...,         nan,\n",
       "                 nan,         nan],\n",
       "        [        nan,         nan,         nan, ...,         nan,\n",
       "                 nan,         nan],\n",
       "        ...,\n",
       "        [-0.50060946, -0.5080207 , -0.50937414, ...,         nan,\n",
       "                 nan,         nan],\n",
       "        [-0.52760345, -0.54052174, -0.54222053, ...,         nan,\n",
       "                 nan,         nan],\n",
       "        [-0.54820365, -0.5729295 , -0.58017266, ...,         nan,\n",
       "                 nan, -3.9255798 ]],\n",
       "\n",
       "       ...,\n",
       "\n",
       "       [[        nan,         nan,         nan, ...,         nan,\n",
       "                 nan,         nan],\n",
       "        [        nan,         nan,         nan, ...,         nan,\n",
       "                 nan,         nan],\n",
       "        [        nan,         nan,         nan, ...,         nan,\n",
       "                 nan,         nan],\n",
       "        ...,\n",
       "        [-1.225128  , -1.1706184 , -1.1446614 , ...,         nan,\n",
       "                 nan,         nan],\n",
       "        [-1.2847991 , -1.2361771 , -1.2199068 , ...,         nan,\n",
       "                 nan,         nan],\n",
       "        [-1.3544751 , -1.3297316 , -1.3087969 , ...,         nan,\n",
       "                 nan, -4.3556256 ]],\n",
       "\n",
       "       [[        nan,         nan,         nan, ...,         nan,\n",
       "                 nan,         nan],\n",
       "        [        nan,         nan,         nan, ...,         nan,\n",
       "                 nan,         nan],\n",
       "        [        nan,         nan,         nan, ...,         nan,\n",
       "                 nan,         nan],\n",
       "        ...,\n",
       "        [-1.1990385 , -1.1743912 , -1.1782168 , ...,         nan,\n",
       "                 nan,         nan],\n",
       "        [-1.2577404 , -1.2431903 , -1.2459602 , ...,         nan,\n",
       "                 nan,         nan],\n",
       "        [-1.3414344 , -1.3135154 , -1.2933315 , ...,         nan,\n",
       "                 nan, -4.5895    ]],\n",
       "\n",
       "       [[        nan,         nan,         nan, ...,         nan,\n",
       "                 nan,         nan],\n",
       "        [        nan,         nan,         nan, ...,         nan,\n",
       "                 nan,         nan],\n",
       "        [        nan,         nan,         nan, ...,         nan,\n",
       "                 nan,         nan],\n",
       "        ...,\n",
       "        [-1.1274654 , -1.1381775 , -1.1063884 , ...,         nan,\n",
       "                 nan,         nan],\n",
       "        [-1.2028193 , -1.1780198 , -1.1816121 , ...,         nan,\n",
       "                 nan,         nan],\n",
       "        [-1.2710102 , -1.2374629 , -1.2038612 , ...,         nan,\n",
       "                 nan, -4.903476  ]]], dtype=float32)</pre></li><li class='xr-var-item'><div class='xr-var-name'><span>analysed_sst_reduced</span></div><div class='xr-var-dims'>(feature_reduced, lat, lon)</div><div class='xr-var-dtype'>float32</div><div class='xr-var-preview xr-preview'>nan nan nan ... nan nan 0.32258075</div><input id='attrs-f460a7af-f5af-48db-b6d0-9e037aa2347c' class='xr-var-attrs-in' type='checkbox' disabled><label for='attrs-f460a7af-f5af-48db-b6d0-9e037aa2347c' title='Show/Hide attributes'><svg class='icon xr-icon-file-text2'><use xlink:href='#icon-file-text2'></use></svg></label><input id='data-5bee4d0e-cb0c-4dbd-b67a-4db939415ff1' class='xr-var-data-in' type='checkbox'><label for='data-5bee4d0e-cb0c-4dbd-b67a-4db939415ff1' title='Show/Hide data repr'><svg class='icon xr-icon-database'><use xlink:href='#icon-database'></use></svg></label><div class='xr-var-attrs'><dl class='xr-attrs'></dl></div><pre class='xr-var-data'>array([[[           nan,            nan,            nan, ...,\n",
       "                    nan,            nan,            nan],\n",
       "        [           nan,            nan,            nan, ...,\n",
       "                    nan,            nan,            nan],\n",
       "        [           nan,            nan,            nan, ...,\n",
       "                    nan,            nan,            nan],\n",
       "        ...,\n",
       "        [-1.2659854e+01, -1.2592494e+01, -1.2494878e+01, ...,\n",
       "                    nan,            nan,            nan],\n",
       "        [-1.3353225e+01, -1.3271432e+01, -1.3110902e+01, ...,\n",
       "                    nan,            nan,            nan],\n",
       "        [-1.3884481e+01, -1.3800128e+01, -1.3637217e+01, ...,\n",
       "                    nan,            nan, -1.7802534e+01]],\n",
       "\n",
       "       [[           nan,            nan,            nan, ...,\n",
       "                    nan,            nan,            nan],\n",
       "        [           nan,            nan,            nan, ...,\n",
       "                    nan,            nan,            nan],\n",
       "        [           nan,            nan,            nan, ...,\n",
       "                    nan,            nan,            nan],\n",
       "        ...,\n",
       "        [-1.0035064e+01, -9.9907818e+00, -9.9208975e+00, ...,\n",
       "                    nan,            nan,            nan],\n",
       "        [-1.0478359e+01, -1.0358597e+01, -1.0167067e+01, ...,\n",
       "                    nan,            nan,            nan],\n",
       "        [-1.0836388e+01, -1.0700613e+01, -1.0427725e+01, ...,\n",
       "                    nan,            nan,  1.0365499e+01]],\n",
       "\n",
       "       [[           nan,            nan,            nan, ...,\n",
       "                    nan,            nan,            nan],\n",
       "        [           nan,            nan,            nan, ...,\n",
       "                    nan,            nan,            nan],\n",
       "        [           nan,            nan,            nan, ...,\n",
       "                    nan,            nan,            nan],\n",
       "        ...,\n",
       "        [ 8.6842829e-01,  9.0508318e-01,  9.2862201e-01, ...,\n",
       "                    nan,            nan,            nan],\n",
       "        [ 1.0908736e+00,  1.1279684e+00,  1.1324188e+00, ...,\n",
       "                    nan,            nan,            nan],\n",
       "        [ 1.2929235e+00,  1.2317463e+00,  1.2716379e+00, ...,\n",
       "                    nan,            nan,  2.9378529e+00]],\n",
       "\n",
       "       ...,\n",
       "\n",
       "       [[           nan,            nan,            nan, ...,\n",
       "                    nan,            nan,            nan],\n",
       "        [           nan,            nan,            nan, ...,\n",
       "                    nan,            nan,            nan],\n",
       "        [           nan,            nan,            nan, ...,\n",
       "                    nan,            nan,            nan],\n",
       "        ...,\n",
       "        [ 5.5003941e-01,  5.1382899e-01,  4.8956418e-01, ...,\n",
       "                    nan,            nan,            nan],\n",
       "        [ 5.9519589e-01,  4.9753812e-01,  4.2398718e-01, ...,\n",
       "                    nan,            nan,            nan],\n",
       "        [ 5.6446850e-01,  5.7507598e-01,  4.8043868e-01, ...,\n",
       "                    nan,            nan,  2.1765211e+00]],\n",
       "\n",
       "       [[           nan,            nan,            nan, ...,\n",
       "                    nan,            nan,            nan],\n",
       "        [           nan,            nan,            nan, ...,\n",
       "                    nan,            nan,            nan],\n",
       "        [           nan,            nan,            nan, ...,\n",
       "                    nan,            nan,            nan],\n",
       "        ...,\n",
       "        [-2.5848413e-02, -9.5542163e-02, -1.5903423e-02, ...,\n",
       "                    nan,            nan,            nan],\n",
       "        [ 3.9661825e-02, -1.6305473e-02, -2.2529257e-02, ...,\n",
       "                    nan,            nan,            nan],\n",
       "        [-3.0637797e-02,  3.3863798e-02, -1.6023526e-02, ...,\n",
       "                    nan,            nan,  8.5268402e-01]],\n",
       "\n",
       "       [[           nan,            nan,            nan, ...,\n",
       "                    nan,            nan,            nan],\n",
       "        [           nan,            nan,            nan, ...,\n",
       "                    nan,            nan,            nan],\n",
       "        [           nan,            nan,            nan, ...,\n",
       "                    nan,            nan,            nan],\n",
       "        ...,\n",
       "        [-8.0594760e-01, -7.6200360e-01, -8.0425739e-01, ...,\n",
       "                    nan,            nan,            nan],\n",
       "        [-8.3408892e-01, -7.8266883e-01, -8.6193681e-01, ...,\n",
       "                    nan,            nan,            nan],\n",
       "        [-7.7466196e-01, -8.1277388e-01, -7.8385276e-01, ...,\n",
       "                    nan,            nan,  3.2258075e-01]]], dtype=float32)</pre></li><li class='xr-var-item'><div class='xr-var-name'><span>GMM_labels</span></div><div class='xr-var-dims'>(lat, lon)</div><div class='xr-var-dtype'>float64</div><div class='xr-var-preview xr-preview'>nan nan nan nan ... nan nan nan 0.0</div><input id='attrs-719aac61-db5b-4d00-8835-8005715a3249' class='xr-var-attrs-in' type='checkbox' disabled><label for='attrs-719aac61-db5b-4d00-8835-8005715a3249' title='Show/Hide attributes'><svg class='icon xr-icon-file-text2'><use xlink:href='#icon-file-text2'></use></svg></label><input id='data-a9b92b4d-ccb5-4324-937c-48ddca036712' class='xr-var-data-in' type='checkbox'><label for='data-a9b92b4d-ccb5-4324-937c-48ddca036712' title='Show/Hide data repr'><svg class='icon xr-icon-database'><use xlink:href='#icon-database'></use></svg></label><div class='xr-var-attrs'><dl class='xr-attrs'></dl></div><pre class='xr-var-data'>array([[nan, nan, nan, ..., nan, nan, nan],\n",
       "       [nan, nan, nan, ..., nan, nan, nan],\n",
       "       [nan, nan, nan, ..., nan, nan, nan],\n",
       "       ...,\n",
       "       [ 4.,  4.,  4., ..., nan, nan, nan],\n",
       "       [ 4.,  4.,  4., ..., nan, nan, nan],\n",
       "       [ 4.,  4.,  4., ..., nan, nan,  0.]])</pre></li><li class='xr-var-item'><div class='xr-var-name'><span>GMM_post</span></div><div class='xr-var-dims'>(k, lat, lon)</div><div class='xr-var-dtype'>float64</div><div class='xr-var-preview xr-preview'>nan nan nan nan ... nan nan nan 0.0</div><input id='attrs-77e8c2aa-ba82-4606-86a1-d89a0dc0c7a8' class='xr-var-attrs-in' type='checkbox' disabled><label for='attrs-77e8c2aa-ba82-4606-86a1-d89a0dc0c7a8' title='Show/Hide attributes'><svg class='icon xr-icon-file-text2'><use xlink:href='#icon-file-text2'></use></svg></label><input id='data-9aea59a1-4732-46a9-931a-74c3f73f4049' class='xr-var-data-in' type='checkbox'><label for='data-9aea59a1-4732-46a9-931a-74c3f73f4049' title='Show/Hide data repr'><svg class='icon xr-icon-database'><use xlink:href='#icon-database'></use></svg></label><div class='xr-var-attrs'><dl class='xr-attrs'></dl></div><pre class='xr-var-data'>array([[[            nan,             nan,             nan, ...,\n",
       "                     nan,             nan,             nan],\n",
       "        [            nan,             nan,             nan, ...,\n",
       "                     nan,             nan,             nan],\n",
       "        [            nan,             nan,             nan, ...,\n",
       "                     nan,             nan,             nan],\n",
       "        ...,\n",
       "        [3.42067449e-114, 4.51340287e-115, 2.36717686e-114, ...,\n",
       "                     nan,             nan,             nan],\n",
       "        [4.65409914e-123, 7.15194810e-121, 5.94044750e-117, ...,\n",
       "                     nan,             nan,             nan],\n",
       "        [3.27752068e-125, 5.51414681e-125, 4.39516627e-119, ...,\n",
       "                     nan,             nan, 1.00000000e+000]],\n",
       "\n",
       "       [[            nan,             nan,             nan, ...,\n",
       "                     nan,             nan,             nan],\n",
       "        [            nan,             nan,             nan, ...,\n",
       "                     nan,             nan,             nan],\n",
       "        [            nan,             nan,             nan, ...,\n",
       "                     nan,             nan,             nan],\n",
       "        ...,\n",
       "        [2.59293936e-047, 1.29681924e-047, 1.79967559e-046, ...,\n",
       "                     nan,             nan,             nan],\n",
       "        [2.60454296e-047, 1.13385639e-047, 9.93260086e-047, ...,\n",
       "                     nan,             nan,             nan],\n",
       "        [1.44597787e-046, 4.68275564e-048, 1.14163749e-046, ...,\n",
       "                     nan,             nan, 2.60700037e-114]],\n",
       "\n",
       "       [[            nan,             nan,             nan, ...,\n",
       "                     nan,             nan,             nan],\n",
       "        [            nan,             nan,             nan, ...,\n",
       "                     nan,             nan,             nan],\n",
       "        [            nan,             nan,             nan, ...,\n",
       "                     nan,             nan,             nan],\n",
       "        ...,\n",
       "        [9.60340462e-066, 1.21516080e-065, 1.17313352e-063, ...,\n",
       "                     nan,             nan,             nan],\n",
       "        [1.46052183e-065, 1.94006987e-064, 1.65409713e-062, ...,\n",
       "                     nan,             nan,             nan],\n",
       "        [3.06282861e-066, 3.42742612e-066, 1.94873055e-063, ...,\n",
       "                     nan,             nan, 1.30054031e-071]],\n",
       "\n",
       "       ...,\n",
       "\n",
       "       [[            nan,             nan,             nan, ...,\n",
       "                     nan,             nan,             nan],\n",
       "        [            nan,             nan,             nan, ...,\n",
       "                     nan,             nan,             nan],\n",
       "        [            nan,             nan,             nan, ...,\n",
       "                     nan,             nan,             nan],\n",
       "        ...,\n",
       "        [1.00000000e+000, 1.00000000e+000, 1.00000000e+000, ...,\n",
       "                     nan,             nan,             nan],\n",
       "        [1.00000000e+000, 1.00000000e+000, 1.00000000e+000, ...,\n",
       "                     nan,             nan,             nan],\n",
       "        [1.00000000e+000, 1.00000000e+000, 1.00000000e+000, ...,\n",
       "                     nan,             nan, 0.00000000e+000]],\n",
       "\n",
       "       [[            nan,             nan,             nan, ...,\n",
       "                     nan,             nan,             nan],\n",
       "        [            nan,             nan,             nan, ...,\n",
       "                     nan,             nan,             nan],\n",
       "        [            nan,             nan,             nan, ...,\n",
       "                     nan,             nan,             nan],\n",
       "        ...,\n",
       "        [4.72800526e-304, 3.19408238e-298, 8.18337763e-304, ...,\n",
       "                     nan,             nan,             nan],\n",
       "        [0.00000000e+000, 0.00000000e+000, 0.00000000e+000, ...,\n",
       "                     nan,             nan,             nan],\n",
       "        [0.00000000e+000, 0.00000000e+000, 0.00000000e+000, ...,\n",
       "                     nan,             nan, 0.00000000e+000]],\n",
       "\n",
       "       [[            nan,             nan,             nan, ...,\n",
       "                     nan,             nan,             nan],\n",
       "        [            nan,             nan,             nan, ...,\n",
       "                     nan,             nan,             nan],\n",
       "        [            nan,             nan,             nan, ...,\n",
       "                     nan,             nan,             nan],\n",
       "        ...,\n",
       "        [3.06996949e-126, 2.62045864e-122, 9.98214595e-121, ...,\n",
       "                     nan,             nan,             nan],\n",
       "        [1.75958156e-132, 2.47507155e-127, 2.47458098e-123, ...,\n",
       "                     nan,             nan,             nan],\n",
       "        [4.38363803e-133, 5.09644788e-135, 1.43791660e-128, ...,\n",
       "                     nan,             nan, 0.00000000e+000]]])</pre></li><li class='xr-var-item'><div class='xr-var-name'><span>analysed_sst_Q</span></div><div class='xr-var-dims'>(k, quantile, feature)</div><div class='xr-var-dtype'>float64</div><div class='xr-var-preview xr-preview'>276.4 274.5 274.6 ... 293.8 293.3</div><input id='attrs-2d42ffbf-cb0d-4608-846d-845d7ffd377b' class='xr-var-attrs-in' type='checkbox' disabled><label for='attrs-2d42ffbf-cb0d-4608-846d-845d7ffd377b' title='Show/Hide attributes'><svg class='icon xr-icon-file-text2'><use xlink:href='#icon-file-text2'></use></svg></label><input id='data-e361b1bd-b959-4d44-8e09-14357caaf07b' class='xr-var-data-in' type='checkbox'><label for='data-e361b1bd-b959-4d44-8e09-14357caaf07b' title='Show/Hide data repr'><svg class='icon xr-icon-database'><use xlink:href='#icon-database'></use></svg></label><div class='xr-var-attrs'><dl class='xr-attrs'></dl></div><pre class='xr-var-data'>array([[[276.37026978, 274.52608643, 274.56155396, ..., 277.66723938,\n",
       "         278.00549622, 278.12121277],\n",
       "        [281.89480591, 280.56469727, 280.22970581, ..., 285.00912476,\n",
       "         284.8237915 , 284.42645264],\n",
       "        [283.02919617, 282.26970825, 282.08193054, ..., 286.83052368,\n",
       "         286.62458191, 285.78501892]],\n",
       "\n",
       "       [[287.32270355, 286.4427002 , 286.16719513, ..., 289.12767944,\n",
       "         288.78344574, 288.50732422],\n",
       "        [289.19396973, 288.83630371, 288.70500183, ..., 291.36346436,\n",
       "         291.05857849, 290.44418335],\n",
       "        [291.22394867, 290.64120026, 290.37496796, ..., 293.26304169,\n",
       "         292.78576355, 292.12134857]],\n",
       "\n",
       "       [[282.39872437, 281.45361938, 281.21322632, ..., 284.44085999,\n",
       "         284.35621033, 284.32756348],\n",
       "        [283.68530273, 282.69573975, 282.3248291 , ..., 286.35516357,\n",
       "         286.06854248, 285.65454102],\n",
       "        [285.89987793, 285.26152954, 284.85801392, ..., 287.83473206,\n",
       "         287.39234924, 286.91872864]],\n",
       "\n",
       "       ...,\n",
       "\n",
       "       [[284.5453064 , 283.66528931, 283.51967468, ..., 285.85393982,\n",
       "         285.81002808, 285.21540527],\n",
       "        [286.2069397 , 285.93612671, 285.82836914, ..., 287.33026123,\n",
       "         287.22540283, 286.86087036],\n",
       "        [287.97824402, 287.42184143, 286.93197021, ..., 288.9846344 ,\n",
       "         288.73401184, 288.22080688]],\n",
       "\n",
       "       [[288.66919556, 288.08195648, 287.91849365, ..., 290.46614532,\n",
       "         290.04510956, 289.27069092],\n",
       "        [290.34588623, 289.62452698, 289.22998047, ..., 292.54496765,\n",
       "         291.94497681, 291.16778564],\n",
       "        [291.6688324 , 291.09354248, 290.47605133, ..., 293.75586548,\n",
       "         293.18175201, 292.57411957]],\n",
       "\n",
       "       [[289.34193115, 288.69798584, 288.49640503, ..., 291.81907349,\n",
       "         291.27007446, 290.56821899],\n",
       "        [291.56332397, 290.76934814, 290.29779053, ..., 293.73452759,\n",
       "         293.0838623 , 292.52896118],\n",
       "        [292.6914856 , 292.00194092, 291.44498291, ..., 294.51120605,\n",
       "         293.8444397 , 293.32999878]]])</pre></li><li class='xr-var-item'><div class='xr-var-name'><span>GMM_robustness</span></div><div class='xr-var-dims'>(lat, lon)</div><div class='xr-var-dtype'>float64</div><div class='xr-var-preview xr-preview'>nan nan nan nan ... nan nan nan 1.0</div><input id='attrs-4599b906-355f-4ff7-afef-87a2faf6d20e' class='xr-var-attrs-in' type='checkbox' disabled><label for='attrs-4599b906-355f-4ff7-afef-87a2faf6d20e' title='Show/Hide attributes'><svg class='icon xr-icon-file-text2'><use xlink:href='#icon-file-text2'></use></svg></label><input id='data-d15df75e-c233-4eba-bbc6-a58359388c3a' class='xr-var-data-in' type='checkbox'><label for='data-d15df75e-c233-4eba-bbc6-a58359388c3a' title='Show/Hide data repr'><svg class='icon xr-icon-database'><use xlink:href='#icon-database'></use></svg></label><div class='xr-var-attrs'><dl class='xr-attrs'></dl></div><pre class='xr-var-data'>array([[nan, nan, nan, ..., nan, nan, nan],\n",
       "       [nan, nan, nan, ..., nan, nan, nan],\n",
       "       [nan, nan, nan, ..., nan, nan, nan],\n",
       "       ...,\n",
       "       [ 1.,  1.,  1., ..., nan, nan, nan],\n",
       "       [ 1.,  1.,  1., ..., nan, nan, nan],\n",
       "       [ 1.,  1.,  1., ..., nan, nan,  1.]])</pre></li><li class='xr-var-item'><div class='xr-var-name'><span>GMM_robustness_cat</span></div><div class='xr-var-dims'>(lat, lon)</div><div class='xr-var-dtype'>float64</div><div class='xr-var-preview xr-preview'>nan nan nan nan ... nan nan nan 5.0</div><input id='attrs-7c8d6bb7-7deb-4b7f-b833-d997e3822a44' class='xr-var-attrs-in' type='checkbox' ><label for='attrs-7c8d6bb7-7deb-4b7f-b833-d997e3822a44' title='Show/Hide attributes'><svg class='icon xr-icon-file-text2'><use xlink:href='#icon-file-text2'></use></svg></label><input id='data-75aa7c42-743a-455c-bc00-4c10807777c8' class='xr-var-data-in' type='checkbox'><label for='data-75aa7c42-743a-455c-bc00-4c10807777c8' title='Show/Hide data repr'><svg class='icon xr-icon-database'><use xlink:href='#icon-database'></use></svg></label><div class='xr-var-attrs'><dl class='xr-attrs'><dt><span>legend :</span></dt><dd>(&#x27;Unlikely&#x27;, &#x27;As likely as not&#x27;, &#x27;Likely&#x27;, &#x27;Very Likely&#x27;, &#x27;Virtually certain&#x27;)</dd></dl></div><pre class='xr-var-data'>array([[nan, nan, nan, ..., nan, nan, nan],\n",
       "       [nan, nan, nan, ..., nan, nan, nan],\n",
       "       [nan, nan, nan, ..., nan, nan, nan],\n",
       "       ...,\n",
       "       [ 5.,  5.,  5., ..., nan, nan, nan],\n",
       "       [ 5.,  5.,  5., ..., nan, nan, nan],\n",
       "       [ 5.,  5.,  5., ..., nan, nan,  5.]])</pre></li></ul></div></li><li class='xr-section-item'><input id='section-7a35dbb4-c823-4660-979a-d7e84f3411e2' class='xr-section-summary-in' type='checkbox' disabled ><label for='section-7a35dbb4-c823-4660-979a-d7e84f3411e2' class='xr-section-summary'  title='Expand/collapse section'>Attributes: <span>(0)</span></label><div class='xr-section-inline-details'></div><div class='xr-section-details'><dl class='xr-attrs'></dl></div></li></ul></div></div>"
      ],
      "text/plain": [
       "<xarray.Dataset>\n",
       "Dimensions:               (feature: 52, feature_reduced: 12, k: 7, lat: 65, lon: 192, quantile: 3)\n",
       "Coordinates:\n",
       "  * lat                   (lat) float64 30.12 30.38 30.62 ... 45.62 45.88 46.12\n",
       "  * lon                   (lon) float64 -4.875 -4.625 -4.375 ... 42.62 42.88\n",
       "  * feature               (feature) int64 1 2 3 4 5 6 7 ... 46 47 48 49 50 51 52\n",
       "  * quantile              (quantile) float64 0.05 0.5 0.95\n",
       "Dimensions without coordinates: feature_reduced, k\n",
       "Data variables:\n",
       "    analysed_sst          (feature, lat, lon) float32 nan nan ... nan 275.3912\n",
       "    analysed_sst_scaled   (feature, lat, lon) float32 nan nan ... nan -4.903476\n",
       "    analysed_sst_reduced  (feature_reduced, lat, lon) float32 nan ... 0.32258075\n",
       "    GMM_labels            (lat, lon) float64 nan nan nan nan ... nan nan nan 0.0\n",
       "    GMM_post              (k, lat, lon) float64 nan nan nan nan ... nan nan 0.0\n",
       "    analysed_sst_Q        (k, quantile, feature) float64 276.4 274.5 ... 293.3\n",
       "    GMM_robustness        (lat, lon) float64 nan nan nan nan ... nan nan nan 1.0\n",
       "    GMM_robustness_cat    (lat, lon) float64 nan nan nan nan ... nan nan nan 5.0"
      ]
     },
     "execution_count": 51,
     "metadata": {},
     "output_type": "execute_result"
    }
   ],
   "source": [
    "ds_labels"
   ]
  },
  {
   "cell_type": "code",
   "execution_count": 52,
   "metadata": {},
   "outputs": [],
   "source": [
    "P = Plotter_OR(ds_labels, model, coords_dict={'latitude':'lat', 'longitude':'lon', 'feature': 'feature'})"
   ]
  },
  {
   "cell_type": "markdown",
   "metadata": {},
   "source": [
    "#### __1) Quantiles time series__"
   ]
  },
  {
   "cell_type": "markdown",
   "metadata": {},
   "source": [
    "Median and other quantiles representation"
   ]
  },
  {
   "cell_type": "code",
   "execution_count": 53,
   "metadata": {},
   "outputs": [
    {
     "data": {
      "image/png": "[encoded data removed]",
      "text/plain": [
       "<Figure size 800x1280 with 7 Axes>"
      ]
     },
     "metadata": {},
     "output_type": "display_data"
    }
   ],
   "source": [
    "P.tseries_structure(q_variable = var_name + '_Q', xlabel='Weeks', ylabel='Temperature (K)')\n",
    "#P.save_BlueCloud('figures/vertical_struc_EX.png')"
   ]
  },
  {
   "cell_type": "markdown",
   "metadata": {},
   "source": [
    "All median time series in the same plot "
   ]
  },
  {
   "cell_type": "code",
   "execution_count": 55,
   "metadata": {},
   "outputs": [
    {
     "data": {
      "image/png": "[encoded data removed]",
      "text/plain": [
       "<Figure size 800x640 with 3 Axes>"
      ]
     },
     "metadata": {},
     "output_type": "display_data"
    }
   ],
   "source": [
    "P.tseries_structure_comp(q_variable = var_name + '_Q', plot_q= 'all', ylabel='Temperature (K)', xlabel='Weeks')\n",
    "#P.save_BlueCloud('figures/vertical_struc_comp_EX.png')"
   ]
  },
  {
   "cell_type": "markdown",
   "metadata": {},
   "source": [
    "If temperature is normalized (__how we can interpret this figure?__)"
   ]
  },
  {
   "cell_type": "code",
   "execution_count": null,
   "metadata": {},
   "outputs": [],
   "source": [
    "#quantile tou want to plot\n",
    "plot_q = 0.5\n",
    "\n",
    "cmap=plt.cm.get_cmap('Spectral', k)\n",
    "plt.figure(figsize=(20,6))\n",
    "plt.grid()\n",
    "for ik in range(k):\n",
    "    plt.plot(X[var_name + '_scaled'].where(X['GMM_labels']==ik, drop=True).quantile(plot_q, dim='sampling'),color=cmap(ik))\n",
    "\n",
    "norm = mpl.colors.Normalize(vmin=0,vmax=k-1)\n",
    "sm = plt.cm.ScalarMappable(cmap=cmap, norm=norm)\n",
    "sm.set_array([])\n",
    "cbar = plt.colorbar(sm, ticks=range(k))\n",
    "cbar.set_label('Classes', fontsize=12)\n",
    "plt.gca().set_xlabel('Weeks')\n",
    "plt.gca().set_ylabel('Normalized temperature (K)')\n",
    "plt.gca().set_title(\"Median time series (q=0.5)\", fontsize=12, fontweight='bold')\n",
    "plt.gca().set_ylim([-3.5,3.5])\n",
    "plt.show()"
   ]
  },
  {
   "cell_type": "markdown",
   "metadata": {},
   "source": [
    "#### __2) Spatial distribution of classes__"
   ]
  },
  {
   "cell_type": "code",
   "execution_count": null,
   "metadata": {},
   "outputs": [],
   "source": [
    "from cartopy.mpl.ticker import LongitudeFormatter, LatitudeFormatter\n",
    "\n",
    "land_feature=cfeature.NaturalEarthFeature(category='physical',name='land',scale='10m',facecolor='grey')\n",
    "map_extent = [ds_labels['lon'].values.min()-1, ds_labels['lon'].values.max()+1, ds_labels['lat'].values.min()-1, ds_labels['lat'].values.max()+1]\n",
    "\n",
    "fig=plt.figure(figsize=(18,10))\n",
    "ax = fig.add_subplot(1, 1, 1, projection=ccrs.PlateCarree())\n",
    "ax.add_feature(land_feature, edgecolor='black')\n",
    "ax.set_extent(map_extent, crs=ccrs.PlateCarree())\n",
    "\n",
    "plt.pcolormesh(ds_labels['lon'], ds_labels['lat'], ds_labels['GMM_labels'], vmin=0, vmax=k-1, cmap=plt.cm.get_cmap('Spectral', k))\n",
    "\n",
    "cbar = plt.colorbar(ticks=range(k),fraction=0.016, pad=0.04)\n",
    "#plt.clim([-0.5,4.5])\n",
    "cbar.set_label('Classes', fontsize=12)\n",
    "\n",
    "ax.set_xticks(np.arange(int(map_extent[0]),int(map_extent[1]),2), crs=ccrs.PlateCarree())\n",
    "ax.set_yticks(np.arange(int(map_extent[2]),int(map_extent[3]),2), crs=ccrs.PlateCarree())\n",
    "lon_formatter = LongitudeFormatter()\n",
    "lat_formatter = LatitudeFormatter()\n",
    "ax.xaxis.set_major_formatter(lon_formatter)\n",
    "ax.yaxis.set_major_formatter(lat_formatter)\n",
    "plt.grid(True,  linestyle='--')\n",
    "\n",
    "ax.set_title('Spatial distribution of classes', fontsize=14, fontweight='bold')\n",
    "\n",
    "plt.show()"
   ]
  },
  {
   "cell_type": "markdown",
   "metadata": {},
   "source": [
    "#### __3) Robustness__"
   ]
  },
  {
   "cell_type": "code",
   "execution_count": null,
   "metadata": {},
   "outputs": [],
   "source": [
    "from cartopy.mpl.gridliner import LONGITUDE_FORMATTER, LATITUDE_FORMATTER\n",
    "import matplotlib.ticker as mticker\n",
    "import pyxpcm\n",
    "###########################################################\n",
    "from pyxpcm.models import pcm\n",
    "z = np.arange(0,30)\n",
    "pcm_features = {var_name: z}\n",
    "m = pcm(K=k, features=pcm_features)\n",
    "cmap = m.plot.cmap(usage='robustness')\n",
    "###########################################################\n",
    "\n",
    "extent = np.array([min(ds_labels['lon']), max(ds_labels['lon']), min(ds_labels['lat']), max(ds_labels['lat'])] + np.array([-0.1, +0.1, -0.1, +0.1]))\n",
    "fig, ax = plt.subplots(figsize=(10, 20), nrows=k, ncols=1, facecolor='w', edgecolor='k', dpi=120, subplot_kw={'projection': ccrs.PlateCarree(), 'extent': extent})\n",
    "#cmap=plt.cm.get_cmap('Spectral', k)\n",
    "land_feature = cfeature.NaturalEarthFeature(category='physical', name='land', scale='50m', facecolor=[0.9375, 0.9375, 0.859375])\n",
    "#ticks\n",
    "dx=4\n",
    "dy=4\n",
    "\n",
    "for ik in range(k):\n",
    "    ax[ik].add_feature(land_feature, edgecolor='black')\n",
    "    ax[ik].set_extent(extent, crs=ccrs.PlateCarree())\n",
    "    sc = ax[ik].pcolormesh(ds_labels['lon'], ds_labels['lat'], ds_labels['GMM_robustness_cat'].where(ds_labels['GMM_labels'] == ik),\n",
    "                            cmap=cmap, transform=ccrs.PlateCarree(), vmin=0, vmax=5)\n",
    "    ax[ik].set_title('k=%i' % ik, color=cmap(ik), fontweight='bold')    \n",
    "    defaults = {'linewidth':.5, 'color':'gray', 'alpha':0.5, 'linestyle':'--'}\n",
    "    gl=ax[ik].gridlines(crs=ax[ik].projection, draw_labels=True, **defaults)\n",
    "    gl.xlocator = mticker.FixedLocator(np.arange(-180, 180+1, dx))\n",
    "    gl.ylocator = mticker.FixedLocator(np.arange(-90, 90+1, dy))\n",
    "    gl.xformatter = LONGITUDE_FORMATTER\n",
    "    gl.yformatter = LATITUDE_FORMATTER\n",
    "    gl.xlabels_top = False\n",
    "    gl.xlabel_style = {'fontsize':5}\n",
    "    gl.ylabels_right = False\n",
    "    gl.ylabel_style = {'fontsize':5}\n",
    "    \n",
    "rowl0 = ds_labels['GMM_robustness_cat'].attrs['legend']\n",
    "cl = plt.colorbar(sc, ax=ax, fraction=0.02, pad=0.05)\n",
    "cl.set_ticks([0,1,2,3,4,5])\n",
    "cl.set_ticklabels([0,0.33,0.66,0.9,0.99,1])\n",
    "for (i, j) in zip(np.arange(0.5, 5, 1), rowl0):\n",
    "        cl.ax.text(6, i, j, ha='left', va='center', fontsize=8)\n"
   ]
  },
  {
   "cell_type": "markdown",
   "metadata": {},
   "source": [
    "#### __4) Classes pie chart__"
   ]
  },
  {
   "cell_type": "code",
   "execution_count": null,
   "metadata": {},
   "outputs": [],
   "source": [
    "pcm_labels = ds_labels['GMM_labels']\n",
    "cmap=plt.cm.get_cmap('Spectral', k)\n",
    "\n",
    "for cl in range(k):\n",
    "    # get labels\n",
    "    pcm_labels_k = pcm_labels.where(pcm_labels == cl)\n",
    "    if cl == 0:\n",
    "        counts_k = pcm_labels_k.count(...)\n",
    "        pie_labels = list(['K=%i' % cl])\n",
    "        table_cn = list([[str(cl), str(counts_k.values)]])\n",
    "    else:\n",
    "        counts_k = xr.concat([counts_k, pcm_labels_k.count(...)], \"k\")\n",
    "        pie_labels.append('K=%i' % cl)\n",
    "        table_cn.append([str(cl), str(counts_k[cl].values)])\n",
    "\n",
    "table_cn.append(['Total', str(sum([int(row[1]) for row in table_cn]))])\n",
    "\n",
    "fig, ax = plt.subplots(ncols=2, figsize=(10, 6))\n",
    "# fig.set_cmap(kmap)\n",
    "\n",
    "cheader = ['$\\\\bf{K}$', '$\\\\bf{Number\\\\ of\\\\ time\\\\ series}$']\n",
    "ccolors = plt.cm.BuPu(np.full(len(cheader), 0.1))\n",
    "the_table = plt.table(cellText=table_cn, cellLoc='center', loc='center',\n",
    "                        colLabels=cheader, colColours=ccolors, fontsize=14, colWidths=(0.2, 0.45))\n",
    "\n",
    "the_table.auto_set_font_size(False)\n",
    "the_table.set_fontsize(12)\n",
    "\n",
    "explode = np.ones(k)*0.05\n",
    "kmap_n = [list(cmap(i)[0:3]) for i in range(k)]\n",
    "textprops = {'fontweight': \"bold\", 'fontsize': 12}\n",
    "\n",
    "_, _, autotexts = ax[0].pie(counts_k, labels=pie_labels, autopct='%1.1f%%',\n",
    "                            startangle=90, colors=kmap_n, explode=explode, textprops=textprops, pctdistance=0.5)\n",
    "\n",
    "#labels in white\n",
    "for autotext in autotexts:\n",
    "    autotext.set_fontweight('normal')\n",
    "    autotext.set_fontsize(10)\n",
    "\n",
    "# draw circle\n",
    "centre_circle = plt.Circle((0, 0), 0.70, fc='white')\n",
    "fig = plt.gcf()\n",
    "ax[0].add_artist(centre_circle)\n",
    "# fig.gca().add_artist(centre_circle)\n",
    "\n",
    "ax[0].axis('equal')\n",
    "ax[1].get_xaxis().set_visible(False)\n",
    "ax[1].get_yaxis().set_visible(False)\n",
    "plt.box(on=None)\n",
    "the_table.scale(1, 1.5)\n",
    "fig.suptitle('$\\\\bf{Classes\\\\ distribution}$', fontsize=14)\n",
    "plt.tight_layout()\n"
   ]
  },
  {
   "cell_type": "code",
   "execution_count": null,
   "metadata": {},
   "outputs": [],
   "source": []
  }
 ],
 "metadata": {
  "kernelspec": {
   "display_name": "Python 3",
   "language": "python",
   "name": "python3"
  },
  "language_info": {
   "codemirror_mode": {
    "name": "ipython",
    "version": 3
   },
   "file_extension": ".py",
   "mimetype": "text/x-python",
   "name": "python",
   "nbconvert_exporter": "python",
   "pygments_lexer": "ipython3",
   "version": "3.7.6"
  }
 },
 "nbformat": 4,
 "nbformat_minor": 4
}
