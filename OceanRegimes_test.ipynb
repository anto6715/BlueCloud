{
 "cells": [
  {
   "cell_type": "markdown",
   "metadata": {},
   "source": [
    "# __Ocean regimes indicator__"
   ]
  },
  {
   "cell_type": "markdown",
   "metadata": {},
   "source": [
    "Apply a Gaussian Mixtures Model to a dataset of time series"
   ]
  },
  {
   "cell_type": "markdown",
   "metadata": {},
   "source": [
    "***\n",
    "ds : initial dataset (lat, lon, week)\n",
    "\n",
    "X : staked dataset (sampling, week, week_reduced)\n",
    "\n",
    "X_labels: unstacked final dataset (lat, lon, week)\n",
    "***"
   ]
  },
  {
   "cell_type": "code",
   "execution_count": 1,
   "metadata": {},
   "outputs": [],
   "source": [
    "import xarray as xr\n",
    "import numpy as np\n",
    "\n",
    "import pyxpcm\n",
    "from pyxpcm.models import pcm\n",
    "\n",
    "import cartopy.crs as ccrs\n",
    "import cartopy.feature as cfeature\n",
    "import matplotlib.pyplot as plt\n",
    "import matplotlib.colors as mcolors\n",
    "import seaborn as sns\n",
    "import matplotlib as mpl\n",
    "\n",
    "import Plotter\n",
    "from Plotter import Plotter #new class for plots in pyxpcm\n",
    "\n",
    "from PIL import Image\n",
    "\n",
    "import importlib"
   ]
  },
  {
   "cell_type": "markdown",
   "metadata": {},
   "source": [
    "## Load dataset\n",
    "***"
   ]
  },
  {
   "cell_type": "markdown",
   "metadata": {},
   "source": [
    "One year of SST data in the Mediterranean Sea:  SST_GLO_SST_L4_NRT_OBSERVATIONS_010_014 product"
   ]
  },
  {
   "cell_type": "code",
   "execution_count": 2,
   "metadata": {},
   "outputs": [],
   "source": [
    "file_path = 'datasets/METOFFICE-GLO-SST-L4-NRT-OBS-SKIN-DIU-FV01.1_1607013925530.nc'"
   ]
  },
  {
   "cell_type": "markdown",
   "metadata": {},
   "source": [
    "One year of SST data in the North Atlantic:  SST_GLO_SST_L4_NRT_OBSERVATIONS_010_014 product"
   ]
  },
  {
   "cell_type": "code",
   "execution_count": 3,
   "metadata": {},
   "outputs": [],
   "source": [
    "file_path = 'datasets/METOFFICE-GLO-SST-L4-NRT-OBS-SKIN-DIU-FV01.1_1608215256580.nc'"
   ]
  },
  {
   "cell_type": "markdown",
   "metadata": {},
   "source": [
    "Open dataset"
   ]
  },
  {
   "cell_type": "code",
   "execution_count": 4,
   "metadata": {},
   "outputs": [
    {
     "name": "stdout",
     "output_type": "stream",
     "text": [
      "<xarray.Dataset>\n",
      "Dimensions:                                        (lat: 69, lon: 40, time: 8760)\n",
      "Coordinates:\n",
      "  * time                                           (time) datetime64[ns] 2019-01-01T00:30:00 ... 2019-12-31T23:30:00\n",
      "  * lat                                            (lat) float32 25.125 ... 42.125\n",
      "  * lon                                            (lon) float32 -54.875 ... -45.125\n",
      "Data variables:\n",
      "    sea_surface_warm_layer_temperature_difference  (time, lat, lon) float32 ...\n",
      "    sea_surface_cool_skin_temperature_difference   (time, lat, lon) float32 ...\n",
      "    sea_ice_fraction                               (time, lat, lon) float32 ...\n",
      "    analysed_sst                                   (time, lat, lon) float32 ...\n",
      "    mask                                           (time, lat, lon) float32 ...\n",
      "Attributes:\n",
      "    Conventions:                CF-1.4\n",
      "    title:                      Global Diurnal Skin SST Analysis, L4 OSTIA, 0...\n",
      "    summary:                    A merged, multi-sensor L4 skin SST product\n",
      "    references:                 While J., Martin M.; 2013;  Development of a ...\n",
      "    institution:                UKMO\n",
      "    history:                    See source and creation_date attributees\n",
      "    comment:                    WARNING Some applications are unable to prope...\n",
      "    license:                    These data are available free of charge under...\n",
      "    id:                         UKMO-L4LRskin_GLOB-OSTIAdiu\n",
      "    naming_authority:           org.ghrsst\n",
      "    product_version:            1.3\n",
      "    uuid:                       dd7afcc1-acf0-4a0f-9407-19d49b470b7b\n",
      "    gds_version_id:             2.4\n",
      "    netcdf_version_id:          4.1\n",
      "    date_created:               20201217T080220Z\n",
      "    start_time:                 20201216T000000Z\n",
      "    time_coverage_start:        20201216T000000Z\n",
      "    stop_time:                  20201216T235959Z\n",
      "    time_coverage_end:          20201216T235959Z\n",
      "    file_quality_level:         3\n",
      "    source:                     NAVO-L2P-AVHRR19_G, OSPO-L2P-GOES15, SEVIRI_S...\n",
      "    platform:                   NOAA-19, GOES15, MSG2, MTSAT2\n",
      "    sensor:                     AVHRR, Imager, SEVIRI, Imager\n",
      "    Metadata_Conventions:       Unidata Observation Dataset v1.0\n",
      "    metadata_link:              Not yet available\n",
      "    keywords:                   Oceans > Ocean Temperature > Sea Surface Temp...\n",
      "    keywords_vocabulary:        NASA Global Change Master Directory (GCMD) Sc...\n",
      "    standard_name_vocabulary:   NetCDF Climate and Forecast (CF) Metadata Con...\n",
      "    westernmost_longitude:      -180.0\n",
      "    easternmost_longitude:      180.0\n",
      "    southernmost_latitude:      -90.0\n",
      "    northernmost_latitude:      90.0\n",
      "    spatial_resolution:         0.25 degree\n",
      "    geospatial_lat_units:       degrees_north\n",
      "    geospatial_lat_resolution:  0.25\n",
      "    geospatial_lon_units:       degrees_east\n",
      "    geospatial_lon_resolution:  0.25\n",
      "    acknowledgment:             Please acknowledge the use of these data with...\n",
      "    creator_name:               Met Office as part of CMEMS\n",
      "    creator_email:              servicedesk.cmems@mercator-ocean.eu\n",
      "    creator_url:                http://marine.copernicus.eu/\n",
      "    project:                    Group for High Resolution Sea Surface Tempera...\n",
      "    publisher_name:             GHRSST Project Office\n",
      "    publisher_url:              http://www.ghrsst.org\n",
      "    publisher_email:            ghrsst-po@nceo.ac.uk\n",
      "    processing_level:           L4\n",
      "    cdm_data_type:              grid\n",
      "    History:                    Translated to CF-1.0 Conventions by Netcdf-Ja...\n",
      "    geospatial_lat_min:         25.125\n",
      "    geospatial_lat_max:         42.125\n",
      "    geospatial_lon_min:         -54.875\n",
      "    geospatial_lon_max:         -45.125\n"
     ]
    }
   ],
   "source": [
    "ds = xr.open_dataset(file_path)\n",
    "print(ds)\n",
    "#ds"
   ]
  },
  {
   "cell_type": "markdown",
   "metadata": {},
   "source": [
    "__Quick plot__"
   ]
  },
  {
   "cell_type": "code",
   "execution_count": 5,
   "metadata": {},
   "outputs": [
    {
     "data": {
      "image/png": "[encoded data removed]",
      "text/plain": [
       "<Figure size 432x288 with 2 Axes>"
      ]
     },
     "metadata": {
      "needs_background": "light"
     },
     "output_type": "display_data"
    }
   ],
   "source": [
    "ds['analysed_sst'].isel(time=11).plot();"
   ]
  },
  {
   "cell_type": "code",
   "execution_count": 6,
   "metadata": {},
   "outputs": [
    {
     "data": {
      "image/png": "[encoded data removed]",
      "text/plain": [
       "<Figure size 432x288 with 1 Axes>"
      ]
     },
     "metadata": {
      "needs_background": "light"
     },
     "output_type": "display_data"
    }
   ],
   "source": [
    "bins = np.arange(int(ds['analysed_sst'].min().values), int(ds['analysed_sst'].max().values))\n",
    "ds['analysed_sst'].plot.hist(bins=bins);"
   ]
  },
  {
   "cell_type": "markdown",
   "metadata": {},
   "source": [
    "## Preprocessing\n",
    "***"
   ]
  },
  {
   "cell_type": "markdown",
   "metadata": {},
   "source": [
    "#### __1) Weekly mean for each pixel__"
   ]
  },
  {
   "cell_type": "code",
   "execution_count": 7,
   "metadata": {},
   "outputs": [
    {
     "name": "stderr",
     "output_type": "stream",
     "text": [
      "/export/home1/agarciaj/anaconda3/lib/python3.7/site-packages/xarray/core/accessor_dt.py:45: FutureWarning: Series.dt.weekofyear and Series.dt.week have been deprecated.  Please use Series.dt.isocalendar().week instead.\n",
      "  field_values = getattr(values_as_series.dt, name).values\n"
     ]
    },
    {
     "name": "stdout",
     "output_type": "stream",
     "text": [
      "<xarray.Dataset>\n",
      "Dimensions:                                        (lat: 69, lon: 40, week: 52)\n",
      "Coordinates:\n",
      "  * lat                                            (lat) float32 25.125 ... 42.125\n",
      "  * lon                                            (lon) float32 -54.875 ... -45.125\n",
      "  * week                                           (week) int64 1 2 3 ... 51 52\n",
      "Data variables:\n",
      "    sea_surface_warm_layer_temperature_difference  (week, lat, lon) float32 0.03133854 ... -0.022535713\n",
      "    sea_surface_cool_skin_temperature_difference   (week, lat, lon) float32 -0.3995366 ... -0.32082748\n",
      "    sea_ice_fraction                               (week, lat, lon) float32 0.0 ... 0.0\n",
      "    analysed_sst                                   (week, lat, lon) float32 297.383 ... 290.5489\n",
      "    mask                                           (week, lat, lon) float32 1.0 ... 1.0\n"
     ]
    }
   ],
   "source": [
    "ds = ds.groupby(\"time.week\").mean()\n",
    "print(ds)\n",
    "#ds"
   ]
  },
  {
   "cell_type": "markdown",
   "metadata": {},
   "source": [
    "Plot histogram in time"
   ]
  },
  {
   "cell_type": "code",
   "execution_count": 8,
   "metadata": {},
   "outputs": [
    {
     "data": {
      "text/plain": [
       "Text(0, 0.5, 'Counts')"
      ]
     },
     "execution_count": 8,
     "metadata": {},
     "output_type": "execute_result"
    },
    {
     "data": {
      "image/png": "[encoded data removed]",
      "text/plain": [
       "<Figure size 864x720 with 2 Axes>"
      ]
     },
     "metadata": {
      "needs_background": "light"
     },
     "output_type": "display_data"
    }
   ],
   "source": [
    "bins = np.arange(int(ds['analysed_sst'].min().values), int(ds['analysed_sst'].max().values),0.5)\n",
    "histo_2d = [] \n",
    "for iweek in range(52):\n",
    "    hist_values, bin_edges = np.histogram(ds['analysed_sst'].isel(week=iweek).values, bins=bins)\n",
    "    histo_2d.append(hist_values)\n",
    "    \n",
    "fig, ax = plt.subplots(figsize=(12,10))\n",
    "plt.pcolormesh(bins, ds.week.values, histo_2d, cmap='Reds', edgecolors='black')\n",
    "cbar = plt.colorbar()\n",
    "ax.set_xlabel('Temperature (K)')\n",
    "ax.set_ylabel('Weeks')\n",
    "cbar.ax.set_ylabel('Counts')"
   ]
  },
  {
   "cell_type": "markdown",
   "metadata": {},
   "source": [
    "#### __2) Reduce lat lon dimensions to sampling dimension__"
   ]
  },
  {
   "cell_type": "code",
   "execution_count": 9,
   "metadata": {},
   "outputs": [
    {
     "data": {
      "text/plain": [
       "['lat', 'lon']"
      ]
     },
     "execution_count": 9,
     "metadata": {},
     "output_type": "execute_result"
    }
   ],
   "source": [
    "sampling_dims = list(ds.dims)\n",
    "sampling_dims.remove('week')\n",
    "sampling_dims"
   ]
  },
  {
   "cell_type": "code",
   "execution_count": 10,
   "metadata": {},
   "outputs": [
    {
     "name": "stdout",
     "output_type": "stream",
     "text": [
      "<xarray.Dataset>\n",
      "Dimensions:                                        (sampling: 2760, week: 52)\n",
      "Coordinates:\n",
      "  * week                                           (week) int64 1 2 3 ... 51 52\n",
      "  * sampling                                       (sampling) MultiIndex\n",
      "  - lat                                            (sampling) float64 25.12 ... 42.12\n",
      "  - lon                                            (sampling) float64 -54.88 ... -45.12\n",
      "Data variables:\n",
      "    sea_surface_warm_layer_temperature_difference  (week, sampling) float32 0.03133854 ... -0.022535713\n",
      "    sea_surface_cool_skin_temperature_difference   (week, sampling) float32 -0.3995366 ... -0.32082748\n",
      "    sea_ice_fraction                               (week, sampling) float32 0.0 ... 0.0\n",
      "    analysed_sst                                   (week, sampling) float32 297.383 ... 290.5489\n",
      "    mask                                           (week, sampling) float32 1.0 ... 1.0\n"
     ]
    }
   ],
   "source": [
    "X = ds.stack({'sampling': sampling_dims})\n",
    "#X = X.rename_dims({'week': 'feature'})\n",
    "print(X)\n",
    "#X"
   ]
  },
  {
   "cell_type": "code",
   "execution_count": 11,
   "metadata": {},
   "outputs": [
    {
     "data": {
      "image/png": "[encoded data removed]",
      "text/plain": [
       "<Figure size 432x288 with 1 Axes>"
      ]
     },
     "metadata": {
      "needs_background": "light"
     },
     "output_type": "display_data"
    }
   ],
   "source": [
    "X['analysed_sst'].plot.hist(bins=bins);"
   ]
  },
  {
   "cell_type": "markdown",
   "metadata": {},
   "source": [
    "#### __3) Delate all NaN time series using mask__"
   ]
  },
  {
   "cell_type": "markdown",
   "metadata": {},
   "source": [
    "Plot mask (water = 1)"
   ]
  },
  {
   "cell_type": "code",
   "execution_count": 12,
   "metadata": {},
   "outputs": [
    {
     "data": {
      "image/png": "[encoded data removed]",
      "text/plain": [
       "<Figure size 432x288 with 2 Axes>"
      ]
     },
     "metadata": {
      "needs_background": "light"
     },
     "output_type": "display_data"
    }
   ],
   "source": [
    "ds['mask'].isel(week=11).plot();"
   ]
  },
  {
   "cell_type": "code",
   "execution_count": 13,
   "metadata": {},
   "outputs": [
    {
     "name": "stdout",
     "output_type": "stream",
     "text": [
      "<xarray.DataArray 'mask' (week: 52, sampling: 2760)>\n",
      "array([[1., 1., 1., ..., 1., 1., 1.],\n",
      "       [1., 1., 1., ..., 1., 1., 1.],\n",
      "       [1., 1., 1., ..., 1., 1., 1.],\n",
      "       ...,\n",
      "       [1., 1., 1., ..., 1., 1., 1.],\n",
      "       [1., 1., 1., ..., 1., 1., 1.],\n",
      "       [1., 1., 1., ..., 1., 1., 1.]], dtype=float32)\n",
      "Coordinates:\n",
      "  * week      (week) int64 1 2 3 4 5 6 7 8 9 10 ... 44 45 46 47 48 49 50 51 52\n",
      "  * sampling  (sampling) MultiIndex\n",
      "  - lat       (sampling) float64 25.12 25.12 25.12 25.12 ... 42.12 42.12 42.12\n",
      "  - lon       (sampling) float64 -54.88 -54.62 -54.38 ... -45.62 -45.38 -45.12\n"
     ]
    }
   ],
   "source": [
    "stacked_mask = X['mask']\n",
    "print(stacked_mask)\n",
    "#stacked_mask"
   ]
  },
  {
   "cell_type": "code",
   "execution_count": 14,
   "metadata": {},
   "outputs": [
    {
     "name": "stdout",
     "output_type": "stream",
     "text": [
      "<xarray.Dataset>\n",
      "Dimensions:       (sampling: 2760, week: 52)\n",
      "Coordinates:\n",
      "  * week          (week) int64 1 2 3 4 5 6 7 8 9 ... 44 45 46 47 48 49 50 51 52\n",
      "  * sampling      (sampling) MultiIndex\n",
      "  - lat           (sampling) float64 25.12 25.12 25.12 ... 42.12 42.12 42.12\n",
      "  - lon           (sampling) float64 -54.88 -54.62 -54.38 ... -45.38 -45.12\n",
      "Data variables:\n",
      "    analysed_sst  (week, sampling) float32 297.383 297.49167 ... 290.5489\n"
     ]
    }
   ],
   "source": [
    "X = X['analysed_sst'].where(stacked_mask == 1, drop=True).to_dataset()\n",
    "print(X)\n",
    "#X"
   ]
  },
  {
   "cell_type": "code",
   "execution_count": 15,
   "metadata": {},
   "outputs": [
    {
     "data": {
      "image/png": "[encoded data removed]",
      "text/plain": [
       "<Figure size 432x288 with 1 Axes>"
      ]
     },
     "metadata": {
      "needs_background": "light"
     },
     "output_type": "display_data"
    }
   ],
   "source": [
    "X['analysed_sst'].plot.hist(bins=bins);"
   ]
  },
  {
   "cell_type": "markdown",
   "metadata": {},
   "source": [
    "Recover the dataset (unravel)"
   ]
  },
  {
   "cell_type": "code",
   "execution_count": 16,
   "metadata": {},
   "outputs": [
    {
     "data": {
      "text/html": [
       "<div><svg style=\"position: absolute; width: 0; height: 0; overflow: hidden\">\n",
       "<defs>\n",
       "<symbol id=\"icon-database\" viewBox=\"0 0 32 32\">\n",
       "<title>Show/Hide data repr</title>\n",
       "<path d=\"M16 0c-8.837 0-16 2.239-16 5v4c0 2.761 7.163 5 16 5s16-2.239 16-5v-4c0-2.761-7.163-5-16-5z\"></path>\n",
       "<path d=\"M16 17c-8.837 0-16-2.239-16-5v6c0 2.761 7.163 5 16 5s16-2.239 16-5v-6c0 2.761-7.163 5-16 5z\"></path>\n",
       "<path d=\"M16 26c-8.837 0-16-2.239-16-5v6c0 2.761 7.163 5 16 5s16-2.239 16-5v-6c0 2.761-7.163 5-16 5z\"></path>\n",
       "</symbol>\n",
       "<symbol id=\"icon-file-text2\" viewBox=\"0 0 32 32\">\n",
       "<title>Show/Hide attributes</title>\n",
       "<path d=\"M28.681 7.159c-0.694-0.947-1.662-2.053-2.724-3.116s-2.169-2.030-3.116-2.724c-1.612-1.182-2.393-1.319-2.841-1.319h-15.5c-1.378 0-2.5 1.121-2.5 2.5v27c0 1.378 1.122 2.5 2.5 2.5h23c1.378 0 2.5-1.122 2.5-2.5v-19.5c0-0.448-0.137-1.23-1.319-2.841zM24.543 5.457c0.959 0.959 1.712 1.825 2.268 2.543h-4.811v-4.811c0.718 0.556 1.584 1.309 2.543 2.268zM28 29.5c0 0.271-0.229 0.5-0.5 0.5h-23c-0.271 0-0.5-0.229-0.5-0.5v-27c0-0.271 0.229-0.5 0.5-0.5 0 0 15.499-0 15.5 0v7c0 0.552 0.448 1 1 1h7v19.5z\"></path>\n",
       "<path d=\"M23 26h-14c-0.552 0-1-0.448-1-1s0.448-1 1-1h14c0.552 0 1 0.448 1 1s-0.448 1-1 1z\"></path>\n",
       "<path d=\"M23 22h-14c-0.552 0-1-0.448-1-1s0.448-1 1-1h14c0.552 0 1 0.448 1 1s-0.448 1-1 1z\"></path>\n",
       "<path d=\"M23 18h-14c-0.552 0-1-0.448-1-1s0.448-1 1-1h14c0.552 0 1 0.448 1 1s-0.448 1-1 1z\"></path>\n",
       "</symbol>\n",
       "</defs>\n",
       "</svg>\n",
       "<style>/* CSS stylesheet for displaying xarray objects in jupyterlab.\n",
       " *\n",
       " */\n",
       "\n",
       ":root {\n",
       "  --xr-font-color0: var(--jp-content-font-color0, rgba(0, 0, 0, 1));\n",
       "  --xr-font-color2: var(--jp-content-font-color2, rgba(0, 0, 0, 0.54));\n",
       "  --xr-font-color3: var(--jp-content-font-color3, rgba(0, 0, 0, 0.38));\n",
       "  --xr-border-color: var(--jp-border-color2, #e0e0e0);\n",
       "  --xr-disabled-color: var(--jp-layout-color3, #bdbdbd);\n",
       "  --xr-background-color: var(--jp-layout-color0, white);\n",
       "  --xr-background-color-row-even: var(--jp-layout-color1, white);\n",
       "  --xr-background-color-row-odd: var(--jp-layout-color2, #eeeeee);\n",
       "}\n",
       "\n",
       ".xr-wrap {\n",
       "  min-width: 300px;\n",
       "  max-width: 700px;\n",
       "}\n",
       "\n",
       ".xr-header {\n",
       "  padding-top: 6px;\n",
       "  padding-bottom: 6px;\n",
       "  margin-bottom: 4px;\n",
       "  border-bottom: solid 1px var(--xr-border-color);\n",
       "}\n",
       "\n",
       ".xr-header > div,\n",
       ".xr-header > ul {\n",
       "  display: inline;\n",
       "  margin-top: 0;\n",
       "  margin-bottom: 0;\n",
       "}\n",
       "\n",
       ".xr-obj-type,\n",
       ".xr-array-name {\n",
       "  margin-left: 2px;\n",
       "  margin-right: 10px;\n",
       "}\n",
       "\n",
       ".xr-obj-type {\n",
       "  color: var(--xr-font-color2);\n",
       "}\n",
       "\n",
       ".xr-sections {\n",
       "  padding-left: 0 !important;\n",
       "  display: grid;\n",
       "  grid-template-columns: 150px auto auto 1fr 20px 20px;\n",
       "}\n",
       "\n",
       ".xr-section-item {\n",
       "  display: contents;\n",
       "}\n",
       "\n",
       ".xr-section-item input {\n",
       "  display: none;\n",
       "}\n",
       "\n",
       ".xr-section-item input + label {\n",
       "  color: var(--xr-disabled-color);\n",
       "}\n",
       "\n",
       ".xr-section-item input:enabled + label {\n",
       "  cursor: pointer;\n",
       "  color: var(--xr-font-color2);\n",
       "}\n",
       "\n",
       ".xr-section-item input:enabled + label:hover {\n",
       "  color: var(--xr-font-color0);\n",
       "}\n",
       "\n",
       ".xr-section-summary {\n",
       "  grid-column: 1;\n",
       "  color: var(--xr-font-color2);\n",
       "  font-weight: 500;\n",
       "}\n",
       "\n",
       ".xr-section-summary > span {\n",
       "  display: inline-block;\n",
       "  padding-left: 0.5em;\n",
       "}\n",
       "\n",
       ".xr-section-summary-in:disabled + label {\n",
       "  color: var(--xr-font-color2);\n",
       "}\n",
       "\n",
       ".xr-section-summary-in + label:before {\n",
       "  display: inline-block;\n",
       "  content: '►';\n",
       "  font-size: 11px;\n",
       "  width: 15px;\n",
       "  text-align: center;\n",
       "}\n",
       "\n",
       ".xr-section-summary-in:disabled + label:before {\n",
       "  color: var(--xr-disabled-color);\n",
       "}\n",
       "\n",
       ".xr-section-summary-in:checked + label:before {\n",
       "  content: '▼';\n",
       "}\n",
       "\n",
       ".xr-section-summary-in:checked + label > span {\n",
       "  display: none;\n",
       "}\n",
       "\n",
       ".xr-section-summary,\n",
       ".xr-section-inline-details {\n",
       "  padding-top: 4px;\n",
       "  padding-bottom: 4px;\n",
       "}\n",
       "\n",
       ".xr-section-inline-details {\n",
       "  grid-column: 2 / -1;\n",
       "}\n",
       "\n",
       ".xr-section-details {\n",
       "  display: none;\n",
       "  grid-column: 1 / -1;\n",
       "  margin-bottom: 5px;\n",
       "}\n",
       "\n",
       ".xr-section-summary-in:checked ~ .xr-section-details {\n",
       "  display: contents;\n",
       "}\n",
       "\n",
       ".xr-array-wrap {\n",
       "  grid-column: 1 / -1;\n",
       "  display: grid;\n",
       "  grid-template-columns: 20px auto;\n",
       "}\n",
       "\n",
       ".xr-array-wrap > label {\n",
       "  grid-column: 1;\n",
       "  vertical-align: top;\n",
       "}\n",
       "\n",
       ".xr-preview {\n",
       "  color: var(--xr-font-color3);\n",
       "}\n",
       "\n",
       ".xr-array-preview,\n",
       ".xr-array-data {\n",
       "  padding: 0 5px !important;\n",
       "  grid-column: 2;\n",
       "}\n",
       "\n",
       ".xr-array-data,\n",
       ".xr-array-in:checked ~ .xr-array-preview {\n",
       "  display: none;\n",
       "}\n",
       "\n",
       ".xr-array-in:checked ~ .xr-array-data,\n",
       ".xr-array-preview {\n",
       "  display: inline-block;\n",
       "}\n",
       "\n",
       ".xr-dim-list {\n",
       "  display: inline-block !important;\n",
       "  list-style: none;\n",
       "  padding: 0 !important;\n",
       "  margin: 0;\n",
       "}\n",
       "\n",
       ".xr-dim-list li {\n",
       "  display: inline-block;\n",
       "  padding: 0;\n",
       "  margin: 0;\n",
       "}\n",
       "\n",
       ".xr-dim-list:before {\n",
       "  content: '(';\n",
       "}\n",
       "\n",
       ".xr-dim-list:after {\n",
       "  content: ')';\n",
       "}\n",
       "\n",
       ".xr-dim-list li:not(:last-child):after {\n",
       "  content: ',';\n",
       "  padding-right: 5px;\n",
       "}\n",
       "\n",
       ".xr-has-index {\n",
       "  font-weight: bold;\n",
       "}\n",
       "\n",
       ".xr-var-list,\n",
       ".xr-var-item {\n",
       "  display: contents;\n",
       "}\n",
       "\n",
       ".xr-var-item > div,\n",
       ".xr-var-item label,\n",
       ".xr-var-item > .xr-var-name span {\n",
       "  background-color: var(--xr-background-color-row-even);\n",
       "  margin-bottom: 0;\n",
       "}\n",
       "\n",
       ".xr-var-item > .xr-var-name:hover span {\n",
       "  padding-right: 5px;\n",
       "}\n",
       "\n",
       ".xr-var-list > li:nth-child(odd) > div,\n",
       ".xr-var-list > li:nth-child(odd) > label,\n",
       ".xr-var-list > li:nth-child(odd) > .xr-var-name span {\n",
       "  background-color: var(--xr-background-color-row-odd);\n",
       "}\n",
       "\n",
       ".xr-var-name {\n",
       "  grid-column: 1;\n",
       "}\n",
       "\n",
       ".xr-var-dims {\n",
       "  grid-column: 2;\n",
       "}\n",
       "\n",
       ".xr-var-dtype {\n",
       "  grid-column: 3;\n",
       "  text-align: right;\n",
       "  color: var(--xr-font-color2);\n",
       "}\n",
       "\n",
       ".xr-var-preview {\n",
       "  grid-column: 4;\n",
       "}\n",
       "\n",
       ".xr-var-name,\n",
       ".xr-var-dims,\n",
       ".xr-var-dtype,\n",
       ".xr-preview,\n",
       ".xr-attrs dt {\n",
       "  white-space: nowrap;\n",
       "  overflow: hidden;\n",
       "  text-overflow: ellipsis;\n",
       "  padding-right: 10px;\n",
       "}\n",
       "\n",
       ".xr-var-name:hover,\n",
       ".xr-var-dims:hover,\n",
       ".xr-var-dtype:hover,\n",
       ".xr-attrs dt:hover {\n",
       "  overflow: visible;\n",
       "  width: auto;\n",
       "  z-index: 1;\n",
       "}\n",
       "\n",
       ".xr-var-attrs,\n",
       ".xr-var-data {\n",
       "  display: none;\n",
       "  background-color: var(--xr-background-color) !important;\n",
       "  padding-bottom: 5px !important;\n",
       "}\n",
       "\n",
       ".xr-var-attrs-in:checked ~ .xr-var-attrs,\n",
       ".xr-var-data-in:checked ~ .xr-var-data {\n",
       "  display: block;\n",
       "}\n",
       "\n",
       ".xr-var-data > table {\n",
       "  float: right;\n",
       "}\n",
       "\n",
       ".xr-var-name span,\n",
       ".xr-var-data,\n",
       ".xr-attrs {\n",
       "  padding-left: 25px !important;\n",
       "}\n",
       "\n",
       ".xr-attrs,\n",
       ".xr-var-attrs,\n",
       ".xr-var-data {\n",
       "  grid-column: 1 / -1;\n",
       "}\n",
       "\n",
       "dl.xr-attrs {\n",
       "  padding: 0;\n",
       "  margin: 0;\n",
       "  display: grid;\n",
       "  grid-template-columns: 125px auto;\n",
       "}\n",
       "\n",
       ".xr-attrs dt, dd {\n",
       "  padding: 0;\n",
       "  margin: 0;\n",
       "  float: left;\n",
       "  padding-right: 10px;\n",
       "  width: auto;\n",
       "}\n",
       "\n",
       ".xr-attrs dt {\n",
       "  font-weight: normal;\n",
       "  grid-column: 1;\n",
       "}\n",
       "\n",
       ".xr-attrs dt:hover span {\n",
       "  display: inline-block;\n",
       "  background: var(--xr-background-color);\n",
       "  padding-right: 10px;\n",
       "}\n",
       "\n",
       ".xr-attrs dd {\n",
       "  grid-column: 2;\n",
       "  white-space: pre-wrap;\n",
       "  word-break: break-all;\n",
       "}\n",
       "\n",
       ".xr-icon-database,\n",
       ".xr-icon-file-text2 {\n",
       "  display: inline-block;\n",
       "  vertical-align: middle;\n",
       "  width: 1em;\n",
       "  height: 1.5em !important;\n",
       "  stroke-width: 0;\n",
       "  stroke: currentColor;\n",
       "  fill: currentColor;\n",
       "}\n",
       "</style><div class='xr-wrap'><div class='xr-header'><div class='xr-obj-type'>xarray.Dataset</div></div><ul class='xr-sections'><li class='xr-section-item'><input id='section-96027387-b9e9-484f-88a2-e78d0660c355' class='xr-section-summary-in' type='checkbox' disabled ><label for='section-96027387-b9e9-484f-88a2-e78d0660c355' class='xr-section-summary'  title='Expand/collapse section'>Dimensions:</label><div class='xr-section-inline-details'><ul class='xr-dim-list'><li><span class='xr-has-index'>lat</span>: 69</li><li><span class='xr-has-index'>lon</span>: 40</li><li><span class='xr-has-index'>week</span>: 52</li></ul></div><div class='xr-section-details'></div></li><li class='xr-section-item'><input id='section-9a2d326a-c958-4072-b8f1-0b302affc831' class='xr-section-summary-in' type='checkbox'  checked><label for='section-9a2d326a-c958-4072-b8f1-0b302affc831' class='xr-section-summary' >Coordinates: <span>(3)</span></label><div class='xr-section-inline-details'></div><div class='xr-section-details'><ul class='xr-var-list'><li class='xr-var-item'><div class='xr-var-name'><span class='xr-has-index'>week</span></div><div class='xr-var-dims'>(week)</div><div class='xr-var-dtype'>int64</div><div class='xr-var-preview xr-preview'>1 2 3 4 5 6 7 ... 47 48 49 50 51 52</div><input id='attrs-7e1afe72-6b98-425b-9ab6-6d7dab6aa41a' class='xr-var-attrs-in' type='checkbox' disabled><label for='attrs-7e1afe72-6b98-425b-9ab6-6d7dab6aa41a' title='Show/Hide attributes'><svg class='icon xr-icon-file-text2'><use xlink:href='#icon-file-text2'></use></svg></label><input id='data-0c5946c7-03a7-4f21-97ed-d58ce98ec361' class='xr-var-data-in' type='checkbox'><label for='data-0c5946c7-03a7-4f21-97ed-d58ce98ec361' title='Show/Hide data repr'><svg class='icon xr-icon-database'><use xlink:href='#icon-database'></use></svg></label><div class='xr-var-attrs'><dl class='xr-attrs'></dl></div><pre class='xr-var-data'>array([ 1,  2,  3,  4,  5,  6,  7,  8,  9, 10, 11, 12, 13, 14, 15, 16, 17, 18,\n",
       "       19, 20, 21, 22, 23, 24, 25, 26, 27, 28, 29, 30, 31, 32, 33, 34, 35, 36,\n",
       "       37, 38, 39, 40, 41, 42, 43, 44, 45, 46, 47, 48, 49, 50, 51, 52])</pre></li><li class='xr-var-item'><div class='xr-var-name'><span class='xr-has-index'>lat</span></div><div class='xr-var-dims'>(lat)</div><div class='xr-var-dtype'>float64</div><div class='xr-var-preview xr-preview'>25.12 25.38 25.62 ... 41.88 42.12</div><input id='attrs-738e9ab3-ba2c-4a50-aa30-d5e7ab82f0d4' class='xr-var-attrs-in' type='checkbox' disabled><label for='attrs-738e9ab3-ba2c-4a50-aa30-d5e7ab82f0d4' title='Show/Hide attributes'><svg class='icon xr-icon-file-text2'><use xlink:href='#icon-file-text2'></use></svg></label><input id='data-bd6a6f8a-9aa7-4c74-915d-3ea3305553b7' class='xr-var-data-in' type='checkbox'><label for='data-bd6a6f8a-9aa7-4c74-915d-3ea3305553b7' title='Show/Hide data repr'><svg class='icon xr-icon-database'><use xlink:href='#icon-database'></use></svg></label><div class='xr-var-attrs'><dl class='xr-attrs'></dl></div><pre class='xr-var-data'>array([25.125, 25.375, 25.625, 25.875, 26.125, 26.375, 26.625, 26.875, 27.125,\n",
       "       27.375, 27.625, 27.875, 28.125, 28.375, 28.625, 28.875, 29.125, 29.375,\n",
       "       29.625, 29.875, 30.125, 30.375, 30.625, 30.875, 31.125, 31.375, 31.625,\n",
       "       31.875, 32.125, 32.375, 32.625, 32.875, 33.125, 33.375, 33.625, 33.875,\n",
       "       34.125, 34.375, 34.625, 34.875, 35.125, 35.375, 35.625, 35.875, 36.125,\n",
       "       36.375, 36.625, 36.875, 37.125, 37.375, 37.625, 37.875, 38.125, 38.375,\n",
       "       38.625, 38.875, 39.125, 39.375, 39.625, 39.875, 40.125, 40.375, 40.625,\n",
       "       40.875, 41.125, 41.375, 41.625, 41.875, 42.125])</pre></li><li class='xr-var-item'><div class='xr-var-name'><span class='xr-has-index'>lon</span></div><div class='xr-var-dims'>(lon)</div><div class='xr-var-dtype'>float64</div><div class='xr-var-preview xr-preview'>-54.88 -54.62 ... -45.38 -45.12</div><input id='attrs-2198018d-2d41-40c2-a1b0-af32eb403138' class='xr-var-attrs-in' type='checkbox' disabled><label for='attrs-2198018d-2d41-40c2-a1b0-af32eb403138' title='Show/Hide attributes'><svg class='icon xr-icon-file-text2'><use xlink:href='#icon-file-text2'></use></svg></label><input id='data-fc69a04a-7038-4694-b0b4-1f292cd74130' class='xr-var-data-in' type='checkbox'><label for='data-fc69a04a-7038-4694-b0b4-1f292cd74130' title='Show/Hide data repr'><svg class='icon xr-icon-database'><use xlink:href='#icon-database'></use></svg></label><div class='xr-var-attrs'><dl class='xr-attrs'></dl></div><pre class='xr-var-data'>array([-54.875, -54.625, -54.375, -54.125, -53.875, -53.625, -53.375, -53.125,\n",
       "       -52.875, -52.625, -52.375, -52.125, -51.875, -51.625, -51.375, -51.125,\n",
       "       -50.875, -50.625, -50.375, -50.125, -49.875, -49.625, -49.375, -49.125,\n",
       "       -48.875, -48.625, -48.375, -48.125, -47.875, -47.625, -47.375, -47.125,\n",
       "       -46.875, -46.625, -46.375, -46.125, -45.875, -45.625, -45.375, -45.125])</pre></li></ul></div></li><li class='xr-section-item'><input id='section-a7f4d5cd-7e74-48f7-a22a-4c958fc79e06' class='xr-section-summary-in' type='checkbox'  checked><label for='section-a7f4d5cd-7e74-48f7-a22a-4c958fc79e06' class='xr-section-summary' >Data variables: <span>(1)</span></label><div class='xr-section-inline-details'></div><div class='xr-section-details'><ul class='xr-var-list'><li class='xr-var-item'><div class='xr-var-name'><span>analysed_sst</span></div><div class='xr-var-dims'>(week, lat, lon)</div><div class='xr-var-dtype'>float32</div><div class='xr-var-preview xr-preview'>297.383 297.49167 ... 290.5489</div><input id='attrs-3a971c81-6687-4514-bba5-d45c85b11bfc' class='xr-var-attrs-in' type='checkbox' disabled><label for='attrs-3a971c81-6687-4514-bba5-d45c85b11bfc' title='Show/Hide attributes'><svg class='icon xr-icon-file-text2'><use xlink:href='#icon-file-text2'></use></svg></label><input id='data-d1d86eac-d30a-4d14-9a7e-5b57476c87a6' class='xr-var-data-in' type='checkbox'><label for='data-d1d86eac-d30a-4d14-9a7e-5b57476c87a6' title='Show/Hide data repr'><svg class='icon xr-icon-database'><use xlink:href='#icon-database'></use></svg></label><div class='xr-var-attrs'><dl class='xr-attrs'></dl></div><pre class='xr-var-data'>array([[[297.383  , 297.49167, 297.55618, ..., 296.81094, 296.77316,\n",
       "         296.7655 ],\n",
       "        [297.2306 , 297.39487, 297.46103, ..., 296.57083, 296.56137,\n",
       "         296.59726],\n",
       "        [297.30298, 297.4119 , 297.44644, ..., 296.49655, 296.4714 ,\n",
       "         296.52606],\n",
       "        ...,\n",
       "        [286.6944 , 286.4128 , 286.198  , ..., 290.34415, 290.4628 ,\n",
       "         290.3104 ],\n",
       "        [286.49167, 285.72202, 285.07367, ..., 290.61642, 290.77008,\n",
       "         290.7878 ],\n",
       "        [285.96994, 285.3157 , 284.85104, ..., 290.7464 , 290.79343,\n",
       "         290.81036]],\n",
       "\n",
       "       [[297.5014 , 297.55457, 297.57007, ..., 296.58444, 296.59146,\n",
       "         296.61002],\n",
       "        [297.27203, 297.40778, 297.4808 , ..., 296.32843, 296.3856 ,\n",
       "         296.42526],\n",
       "        [297.16235, 297.32874, 297.40805, ..., 296.1976 , 296.27127,\n",
       "         296.3337 ],\n",
       "        ...,\n",
       "        [286.36835, 285.54852, 284.87366, ..., 290.47565, 290.74677,\n",
       "         290.9832 ],\n",
       "        [285.43198, 284.4913 , 283.56323, ..., 290.58533, 290.7956 ,\n",
       "         290.91693],\n",
       "        [285.18994, 284.57297, 283.52283, ..., 290.72574, 290.8066 ,\n",
       "         290.88226]],\n",
       "\n",
       "       [[297.50568, 297.5193 , 297.47964, ..., 296.76318, 296.689  ,\n",
       "         296.56903],\n",
       "        [297.43964, 297.48822, 297.48163, ..., 296.45566, 296.45572,\n",
       "         296.41724],\n",
       "        [297.3064 , 297.39496, 297.44565, ..., 296.26672, 296.30905,\n",
       "         296.3146 ],\n",
       "        ...,\n",
       "        [284.6774 , 284.00357, 283.78888, ..., 290.80365, 290.79135,\n",
       "         290.8612 ],\n",
       "        [283.9356 , 282.7979 , 282.13477, ..., 290.78244, 290.67758,\n",
       "         290.6482 ],\n",
       "        [283.48798, 282.69934, 282.04642, ..., 290.82364, 290.71976,\n",
       "         290.64017]],\n",
       "\n",
       "       ...,\n",
       "\n",
       "       [[299.36606, 299.18436, 298.96207, ..., 298.2945 , 298.18   ,\n",
       "         298.15817],\n",
       "        [299.27728, 299.17715, 298.94943, ..., 298.21783, 298.2357 ,\n",
       "         298.14056],\n",
       "        [299.2414 , 299.12744, 298.94693, ..., 298.00934, 298.01602,\n",
       "         298.07153],\n",
       "        ...,\n",
       "        [284.96838, 284.3794 , 282.96768, ..., 292.54153, 292.69052,\n",
       "         292.5483 ],\n",
       "        [284.8653 , 284.89496, 284.63635, ..., 292.6848 , 292.61996,\n",
       "         292.539  ],\n",
       "        [285.70825, 285.44156, 285.26797, ..., 292.6357 , 292.4735 ,\n",
       "         292.51514]],\n",
       "\n",
       "       [[298.54877, 298.43655, 298.5018 , ..., 297.84814, 297.7759 ,\n",
       "         297.72812],\n",
       "        [298.7461 , 298.53854, 298.46786, ..., 297.8586 , 297.87555,\n",
       "         297.79047],\n",
       "        [298.85196, 298.6961 , 298.4781 , ..., 297.68265, 297.6383 ,\n",
       "         297.7412 ],\n",
       "        ...,\n",
       "        [284.56982, 284.4239 , 283.58505, ..., 292.10388, 291.76025,\n",
       "         291.64185],\n",
       "        [285.30435, 284.4568 , 284.25415, ..., 291.81903, 291.69144,\n",
       "         291.69604],\n",
       "        [285.60052, 284.39175, 284.95255, ..., 291.8751 , 291.78876,\n",
       "         291.7394 ]],\n",
       "\n",
       "       [[298.15225, 298.09363, 298.06195, ..., 297.5788 , 297.5494 ,\n",
       "         297.55002],\n",
       "        [298.20346, 298.14908, 298.10657, ..., 297.4688 , 297.5529 ,\n",
       "         297.53784],\n",
       "        [298.24017, 298.18527, 298.12485, ..., 297.43472, 297.39807,\n",
       "         297.41138],\n",
       "        ...,\n",
       "        [283.07187, 283.49567, 285.2122 , ..., 290.14856, 289.78946,\n",
       "         288.98758],\n",
       "        [284.06656, 282.75168, 283.22824, ..., 289.9896 , 290.16278,\n",
       "         290.15454],\n",
       "        [284.99146, 283.1492 , 283.214  , ..., 290.08786, 290.35953,\n",
       "         290.5489 ]]], dtype=float32)</pre></li></ul></div></li><li class='xr-section-item'><input id='section-33d0c98f-23da-4793-bb2d-9e7fb74a8ee4' class='xr-section-summary-in' type='checkbox' disabled ><label for='section-33d0c98f-23da-4793-bb2d-9e7fb74a8ee4' class='xr-section-summary'  title='Expand/collapse section'>Attributes: <span>(0)</span></label><div class='xr-section-inline-details'></div><div class='xr-section-details'><dl class='xr-attrs'></dl></div></li></ul></div></div>"
      ],
      "text/plain": [
       "<xarray.Dataset>\n",
       "Dimensions:       (lat: 69, lon: 40, week: 52)\n",
       "Coordinates:\n",
       "  * week          (week) int64 1 2 3 4 5 6 7 8 9 ... 44 45 46 47 48 49 50 51 52\n",
       "  * lat           (lat) float64 25.12 25.38 25.62 25.88 ... 41.62 41.88 42.12\n",
       "  * lon           (lon) float64 -54.88 -54.62 -54.38 ... -45.62 -45.38 -45.12\n",
       "Data variables:\n",
       "    analysed_sst  (week, lat, lon) float32 297.383 297.49167 ... 290.5489"
      ]
     },
     "execution_count": 16,
     "metadata": {},
     "output_type": "execute_result"
    }
   ],
   "source": [
    "sampling_dims.append('week')\n",
    "coords = list()\n",
    "size = list()\n",
    "for dim in sampling_dims:\n",
    "    coords.append(ds[dim])\n",
    "    size.append(len(ds[dim]))\n",
    "    \n",
    "X_unstacked = xr.DataArray(np.empty((size)), coords=coords)\n",
    "sampling_dims.remove('week')\n",
    "X_unstacked = X_unstacked.stack({'sampling': sampling_dims})\n",
    "X_unstacked = X_unstacked.where(stacked_mask == 1, drop=True)\n",
    "X_unstacked.values = X['analysed_sst']\n",
    "X_unstacked = X_unstacked.unstack('sampling').to_dataset(name = 'analysed_sst')\n",
    "X_unstacked = X_unstacked.sortby(['lat','lon'])\n",
    "\n",
    "X_unstacked "
   ]
  },
  {
   "cell_type": "code",
   "execution_count": 17,
   "metadata": {},
   "outputs": [
    {
     "data": {
      "image/png": "[encoded data removed]",
      "text/plain": [
       "<Figure size 432x288 with 2 Axes>"
      ]
     },
     "metadata": {
      "needs_background": "light"
     },
     "output_type": "display_data"
    }
   ],
   "source": [
    "X_unstacked['analysed_sst'].isel(week=11).plot();"
   ]
  },
  {
   "cell_type": "markdown",
   "metadata": {},
   "source": [
    "__There is any NaN in the dataset?__"
   ]
  },
  {
   "cell_type": "code",
   "execution_count": 18,
   "metadata": {},
   "outputs": [
    {
     "data": {
      "text/plain": [
       "False"
      ]
     },
     "execution_count": 18,
     "metadata": {},
     "output_type": "execute_result"
    }
   ],
   "source": [
    "np.any(np.isnan(X['analysed_sst'].values))"
   ]
  },
  {
   "cell_type": "markdown",
   "metadata": {},
   "source": [
    "#### __4) Interpolation__"
   ]
  },
  {
   "cell_type": "code",
   "execution_count": 19,
   "metadata": {},
   "outputs": [
    {
     "name": "stdout",
     "output_type": "stream",
     "text": [
      "<xarray.Dataset>\n",
      "Dimensions:       (sampling: 2760, week: 52)\n",
      "Coordinates:\n",
      "  * week          (week) int64 1 2 3 4 5 6 7 8 9 ... 44 45 46 47 48 49 50 51 52\n",
      "  * sampling      (sampling) MultiIndex\n",
      "  - lat           (sampling) float64 25.12 25.12 25.12 ... 42.12 42.12 42.12\n",
      "  - lon           (sampling) float64 -54.88 -54.62 -54.38 ... -45.38 -45.12\n",
      "Data variables:\n",
      "    analysed_sst  (week, sampling) float32 297.383 297.49167 ... 290.5489\n"
     ]
    }
   ],
   "source": [
    "X = X['analysed_sst'].interpolate_na(dim = 'week', method=\"linear\", fill_value=\"extrapolate\").to_dataset(name = 'analysed_sst')\n",
    "print(X)\n",
    "#X"
   ]
  },
  {
   "cell_type": "markdown",
   "metadata": {},
   "source": [
    "__There is any NaN in the dataset?__"
   ]
  },
  {
   "cell_type": "code",
   "execution_count": 20,
   "metadata": {},
   "outputs": [
    {
     "data": {
      "text/plain": [
       "False"
      ]
     },
     "execution_count": 20,
     "metadata": {},
     "output_type": "execute_result"
    }
   ],
   "source": [
    "np.any(np.isnan(X['analysed_sst'].values))"
   ]
  },
  {
   "cell_type": "markdown",
   "metadata": {},
   "source": [
    "#### __5) Scaler__"
   ]
  },
  {
   "cell_type": "markdown",
   "metadata": {},
   "source": [
    "__Check dimensions order__\n",
    "***"
   ]
  },
  {
   "cell_type": "code",
   "execution_count": 21,
   "metadata": {},
   "outputs": [
    {
     "data": {
      "text/plain": [
       "(52, 2760)"
      ]
     },
     "execution_count": 21,
     "metadata": {},
     "output_type": "execute_result"
    }
   ],
   "source": [
    "np.shape(X['analysed_sst'])"
   ]
  },
  {
   "cell_type": "markdown",
   "metadata": {},
   "source": [
    "Transpose dataset if needed (sampling x features)"
   ]
  },
  {
   "cell_type": "code",
   "execution_count": 22,
   "metadata": {},
   "outputs": [
    {
     "data": {
      "text/plain": [
       "(2760, 52)"
      ]
     },
     "execution_count": 22,
     "metadata": {},
     "output_type": "execute_result"
    }
   ],
   "source": [
    "X = X.transpose(\"sampling\", \"week\")\n",
    "np.shape(X['analysed_sst'].values)"
   ]
  },
  {
   "cell_type": "markdown",
   "metadata": {},
   "source": [
    "***"
   ]
  },
  {
   "cell_type": "markdown",
   "metadata": {},
   "source": [
    "Apply sklearn __StandardScaler__: \n",
    "Standardize features by removing the mean and scaling to unit variance\n",
    "The standard score of a sample x is calculated as:\n",
    "\n",
    "    z = (x - u) / s\n",
    "    \n",
    "where u is the mean of the training samples or zero if `with_mean=False`, and s is the standard deviation of the training samples or one if `with_std=False`.\n",
    "Centering and scaling happen independently on each feature by computing the relevant statistics on the samples in the training set. "
   ]
  },
  {
   "cell_type": "code",
   "execution_count": 23,
   "metadata": {},
   "outputs": [
    {
     "name": "stdout",
     "output_type": "stream",
     "text": [
      "<xarray.Dataset>\n",
      "Dimensions:              (sampling: 2760, week: 52)\n",
      "Coordinates:\n",
      "  * week                 (week) int64 1 2 3 4 5 6 7 8 ... 46 47 48 49 50 51 52\n",
      "  * sampling             (sampling) MultiIndex\n",
      "  - lat                  (sampling) float64 25.12 25.12 25.12 ... 42.12 42.12\n",
      "  - lon                  (sampling) float64 -54.88 -54.62 ... -45.38 -45.12\n",
      "Data variables:\n",
      "    analysed_sst         (sampling, week) float32 297.383 297.5014 ... 290.5489\n",
      "    analysed_sst_scaled  (sampling, week) float32 1.3778889 ... -1.1244959\n"
     ]
    }
   ],
   "source": [
    "from sklearn.preprocessing import StandardScaler\n",
    "X_scale = StandardScaler().fit_transform(X['analysed_sst'])\n",
    "X = X.assign(variables={\"analysed_sst_scaled\":(('sampling', 'week'), X_scale)})\n",
    "print(X)\n",
    "#X"
   ]
  },
  {
   "cell_type": "markdown",
   "metadata": {},
   "source": [
    "#### __5) PCA__"
   ]
  },
  {
   "cell_type": "markdown",
   "metadata": {},
   "source": [
    "__Check dimensions order__\n",
    "***"
   ]
  },
  {
   "cell_type": "code",
   "execution_count": 24,
   "metadata": {},
   "outputs": [
    {
     "data": {
      "text/plain": [
       "(2760, 52)"
      ]
     },
     "execution_count": 24,
     "metadata": {},
     "output_type": "execute_result"
    }
   ],
   "source": [
    "np.shape(X['analysed_sst_scaled'])"
   ]
  },
  {
   "cell_type": "markdown",
   "metadata": {},
   "source": [
    "Transpose dataset if needed (sampling x features)"
   ]
  },
  {
   "cell_type": "code",
   "execution_count": 25,
   "metadata": {},
   "outputs": [
    {
     "data": {
      "text/plain": [
       "(2760, 52)"
      ]
     },
     "execution_count": 25,
     "metadata": {},
     "output_type": "execute_result"
    }
   ],
   "source": [
    "X = X.transpose(\"sampling\", \"week\")\n",
    "np.shape(X['analysed_sst_scaled'].values)"
   ]
  },
  {
   "cell_type": "markdown",
   "metadata": {},
   "source": [
    "***"
   ]
  },
  {
   "cell_type": "markdown",
   "metadata": {},
   "source": [
    "Apply __Principal component analysis__ (PCA):\n",
    "Linear dimensionality reduction using Singular Value Decomposition of the data to project it to a lower dimensional space.\n",
    "If `0 < n_components < 1` and `svd_solver == 'full'`, select the number of components such that the amount of variance that needs to be explained is greater than the percentage specified by n_components."
   ]
  },
  {
   "cell_type": "code",
   "execution_count": 26,
   "metadata": {},
   "outputs": [
    {
     "data": {
      "text/plain": [
       "PCA(copy=True, iterated_power='auto', n_components=0.99, random_state=None,\n",
       "    svd_solver='full', tol=0.0, whiten=False)"
      ]
     },
     "execution_count": 26,
     "metadata": {},
     "output_type": "execute_result"
    }
   ],
   "source": [
    "from sklearn.decomposition import PCA\n",
    "pca = PCA(n_components = 0.99, svd_solver = 'full')\n",
    "pca"
   ]
  },
  {
   "cell_type": "code",
   "execution_count": 27,
   "metadata": {},
   "outputs": [],
   "source": [
    "pca = pca.fit(X['analysed_sst_scaled'])"
   ]
  },
  {
   "cell_type": "code",
   "execution_count": 28,
   "metadata": {},
   "outputs": [
    {
     "data": {
      "text/plain": [
       "Text(0.5, 1.0, 'Percentage of variance explained by each of the selected components')"
      ]
     },
     "execution_count": 28,
     "metadata": {},
     "output_type": "execute_result"
    },
    {
     "data": {
      "image/png": "[encoded data removed]",
      "text/plain": [
       "<Figure size 432x288 with 1 Axes>"
      ]
     },
     "metadata": {
      "needs_background": "light"
     },
     "output_type": "display_data"
    }
   ],
   "source": [
    "fig, ax = plt.subplots()\n",
    "pb = plt.bar(range(pca.n_components_), pca.explained_variance_ratio_)\n",
    "ax.set_xlabel('n_components')\n",
    "ax.set_ylabel('Percentage')\n",
    "ax.set_title('Percentage of variance explained by each of the selected components')"
   ]
  },
  {
   "cell_type": "code",
   "execution_count": 29,
   "metadata": {},
   "outputs": [
    {
     "data": {
      "text/plain": [
       "(2760, 19)"
      ]
     },
     "execution_count": 29,
     "metadata": {},
     "output_type": "execute_result"
    }
   ],
   "source": [
    "X_reduced = pca.transform(X['analysed_sst_scaled'])\n",
    "np.shape(X_reduced)"
   ]
  },
  {
   "cell_type": "code",
   "execution_count": 30,
   "metadata": {},
   "outputs": [
    {
     "name": "stdout",
     "output_type": "stream",
     "text": [
      "<xarray.Dataset>\n",
      "Dimensions:               (sampling: 2760, week: 52, week_reduced: 19)\n",
      "Coordinates:\n",
      "  * week                  (week) int64 1 2 3 4 5 6 7 8 ... 46 47 48 49 50 51 52\n",
      "  * sampling              (sampling) MultiIndex\n",
      "  - lat                   (sampling) float64 25.12 25.12 25.12 ... 42.12 42.12\n",
      "  - lon                   (sampling) float64 -54.88 -54.62 ... -45.38 -45.12\n",
      "Dimensions without coordinates: week_reduced\n",
      "Data variables:\n",
      "    analysed_sst          (sampling, week) float32 297.383 297.5014 ... 290.5489\n",
      "    analysed_sst_scaled   (sampling, week) float32 1.3778889 ... -1.1244959\n",
      "    analysed_sst_reduced  (sampling, week_reduced) float32 -9.745885 ... -0.351675\n"
     ]
    }
   ],
   "source": [
    "X = X.assign(variables={\"analysed_sst_reduced\":(('sampling', 'week_reduced'),X_reduced)})\n",
    "print(X)"
   ]
  },
  {
   "cell_type": "markdown",
   "metadata": {},
   "source": [
    "## Apply Model\n",
    "***"
   ]
  },
  {
   "cell_type": "markdown",
   "metadata": {},
   "source": [
    "__Check dimensions order__\n",
    "***"
   ]
  },
  {
   "cell_type": "code",
   "execution_count": 31,
   "metadata": {},
   "outputs": [
    {
     "data": {
      "text/plain": [
       "(2760, 19)"
      ]
     },
     "execution_count": 31,
     "metadata": {},
     "output_type": "execute_result"
    }
   ],
   "source": [
    "np.shape(X['analysed_sst_reduced'])"
   ]
  },
  {
   "cell_type": "markdown",
   "metadata": {},
   "source": [
    "Transpose dataset if needed (sampling x features)"
   ]
  },
  {
   "cell_type": "code",
   "execution_count": 32,
   "metadata": {},
   "outputs": [
    {
     "data": {
      "text/plain": [
       "(2760, 19)"
      ]
     },
     "execution_count": 32,
     "metadata": {},
     "output_type": "execute_result"
    }
   ],
   "source": [
    "X = X.transpose(\"sampling\", \"week\", \"week_reduced\")\n",
    "np.shape(X['analysed_sst_reduced'].values)"
   ]
  },
  {
   "cell_type": "markdown",
   "metadata": {},
   "source": [
    "***"
   ]
  },
  {
   "cell_type": "markdown",
   "metadata": {},
   "source": [
    "__Create model__"
   ]
  },
  {
   "cell_type": "code",
   "execution_count": 33,
   "metadata": {},
   "outputs": [
    {
     "data": {
      "text/plain": [
       "GaussianMixture(covariance_type='full', init_params='kmeans', max_iter=100,\n",
       "                means_init=None, n_components=8, n_init=1, precisions_init=None,\n",
       "                random_state=None, reg_covar=1e-06, tol=0.001, verbose=0,\n",
       "                verbose_interval=10, warm_start=False, weights_init=None)"
      ]
     },
     "execution_count": 33,
     "metadata": {},
     "output_type": "execute_result"
    }
   ],
   "source": [
    "from sklearn import mixture\n",
    "k = 8 # number of classes\n",
    "model = mixture.GaussianMixture(n_components=k, covariance_type='full')\n",
    "model"
   ]
  },
  {
   "cell_type": "markdown",
   "metadata": {},
   "source": [
    "__Fit model__"
   ]
  },
  {
   "cell_type": "code",
   "execution_count": 34,
   "metadata": {},
   "outputs": [
    {
     "data": {
      "text/plain": [
       "GaussianMixture(covariance_type='full', init_params='kmeans', max_iter=100,\n",
       "                means_init=None, n_components=8, n_init=1, precisions_init=None,\n",
       "                random_state=None, reg_covar=1e-06, tol=0.001, verbose=0,\n",
       "                verbose_interval=10, warm_start=False, weights_init=None)"
      ]
     },
     "execution_count": 34,
     "metadata": {},
     "output_type": "execute_result"
    }
   ],
   "source": [
    "model.fit(X['analysed_sst_reduced'])"
   ]
  },
  {
   "cell_type": "markdown",
   "metadata": {},
   "source": [
    "__Predict labels__"
   ]
  },
  {
   "cell_type": "code",
   "execution_count": 35,
   "metadata": {},
   "outputs": [
    {
     "data": {
      "text/plain": [
       "array([2, 2, 2, ..., 1, 1, 1])"
      ]
     },
     "execution_count": 35,
     "metadata": {},
     "output_type": "execute_result"
    }
   ],
   "source": [
    "X_labels = model.predict(X['analysed_sst_reduced'])\n",
    "X_labels"
   ]
  },
  {
   "cell_type": "code",
   "execution_count": 36,
   "metadata": {},
   "outputs": [
    {
     "name": "stdout",
     "output_type": "stream",
     "text": [
      "0\n",
      "7\n"
     ]
    }
   ],
   "source": [
    "print(X_labels.min())\n",
    "print(X_labels.max())"
   ]
  },
  {
   "cell_type": "code",
   "execution_count": 37,
   "metadata": {},
   "outputs": [
    {
     "name": "stdout",
     "output_type": "stream",
     "text": [
      "<xarray.Dataset>\n",
      "Dimensions:               (sampling: 2760, week: 52, week_reduced: 19)\n",
      "Coordinates:\n",
      "  * week                  (week) int64 1 2 3 4 5 6 7 8 ... 46 47 48 49 50 51 52\n",
      "  * sampling              (sampling) MultiIndex\n",
      "  - lat                   (sampling) float64 25.12 25.12 25.12 ... 42.12 42.12\n",
      "  - lon                   (sampling) float64 -54.88 -54.62 ... -45.38 -45.12\n",
      "Dimensions without coordinates: week_reduced\n",
      "Data variables:\n",
      "    analysed_sst          (sampling, week) float32 297.383 297.5014 ... 290.5489\n",
      "    analysed_sst_scaled   (sampling, week) float32 1.3778889 ... -1.1244959\n",
      "    analysed_sst_reduced  (sampling, week_reduced) float32 -9.745885 ... -0.351675\n",
      "    GMM_labels            (sampling) int64 2 2 2 2 2 2 2 2 2 ... 1 1 1 1 1 1 1 1\n"
     ]
    }
   ],
   "source": [
    "X = X.assign(variables={\"GMM_labels\":(('sampling'),X_labels)})\n",
    "print(X)\n",
    "#X"
   ]
  },
  {
   "cell_type": "markdown",
   "metadata": {},
   "source": [
    "Calculate other __stadistics__"
   ]
  },
  {
   "cell_type": "markdown",
   "metadata": {},
   "source": [
    "- Predict posterior probability of each component given the data"
   ]
  },
  {
   "cell_type": "code",
   "execution_count": 38,
   "metadata": {},
   "outputs": [
    {
     "data": {
      "text/plain": [
       "(2760, 8)"
      ]
     },
     "execution_count": 38,
     "metadata": {},
     "output_type": "execute_result"
    }
   ],
   "source": [
    "X_proba = model.predict_proba(X['analysed_sst_reduced'])\n",
    "np.shape(X_proba)"
   ]
  },
  {
   "cell_type": "code",
   "execution_count": 39,
   "metadata": {},
   "outputs": [
    {
     "name": "stdout",
     "output_type": "stream",
     "text": [
      "<xarray.Dataset>\n",
      "Dimensions:               (k: 8, sampling: 2760, week: 52, week_reduced: 19)\n",
      "Coordinates:\n",
      "  * week                  (week) int64 1 2 3 4 5 6 7 8 ... 46 47 48 49 50 51 52\n",
      "  * sampling              (sampling) MultiIndex\n",
      "  - lat                   (sampling) float64 25.12 25.12 25.12 ... 42.12 42.12\n",
      "  - lon                   (sampling) float64 -54.88 -54.62 ... -45.38 -45.12\n",
      "Dimensions without coordinates: k, week_reduced\n",
      "Data variables:\n",
      "    analysed_sst          (sampling, week) float32 297.383 297.5014 ... 290.5489\n",
      "    analysed_sst_scaled   (sampling, week) float32 1.3778889 ... -1.1244959\n",
      "    analysed_sst_reduced  (sampling, week_reduced) float32 -9.745885 ... -0.351675\n",
      "    GMM_labels            (sampling) int64 2 2 2 2 2 2 2 2 2 ... 1 1 1 1 1 1 1 1\n",
      "    GMM_post              (sampling, k) float64 1.952e-162 ... 3.666e-22\n"
     ]
    }
   ],
   "source": [
    "X = X.assign(variables={\"GMM_post\":(('sampling','k'),X_proba)})\n",
    "print(X)\n",
    "#X"
   ]
  },
  {
   "cell_type": "markdown",
   "metadata": {},
   "source": [
    "- Calculate quantiles"
   ]
  },
  {
   "cell_type": "code",
   "execution_count": 41,
   "metadata": {},
   "outputs": [],
   "source": [
    "#quantiles we want to calculate\n",
    "q = [0.05, 0.5, 0.95]"
   ]
  },
  {
   "cell_type": "code",
   "execution_count": 62,
   "metadata": {},
   "outputs": [],
   "source": [
    "m_quantiles = X['analysed_sst'].where(X['GMM_labels']==0, drop=True).quantile(q, dim='sampling')\n",
    "for yi in range(1,k):\n",
    "    m_quantiles = xr.concat((m_quantiles, X['analysed_sst'].where(X['GMM_labels']==yi, drop=True).quantile(q, dim='sampling')), dim='k')"
   ]
  },
  {
   "cell_type": "code",
   "execution_count": 68,
   "metadata": {},
   "outputs": [
    {
     "name": "stdout",
     "output_type": "stream",
     "text": [
      "<xarray.Dataset>\n",
      "Dimensions:               (k: 8, quantiles: 3, sampling: 2760, week: 52, week_reduced: 19)\n",
      "Coordinates:\n",
      "  * week                  (week) int64 1 2 3 4 5 6 7 8 ... 46 47 48 49 50 51 52\n",
      "  * sampling              (sampling) MultiIndex\n",
      "  - lat                   (sampling) float64 25.12 25.12 25.12 ... 42.12 42.12\n",
      "  - lon                   (sampling) float64 -54.88 -54.62 ... -45.38 -45.12\n",
      "Dimensions without coordinates: k, quantiles, week_reduced\n",
      "Data variables:\n",
      "    analysed_sst          (sampling, week) float32 297.383 297.5014 ... 290.5489\n",
      "    analysed_sst_scaled   (sampling, week) float32 1.3778889 ... -1.1244959\n",
      "    analysed_sst_reduced  (sampling, week_reduced) float32 -9.745885 ... -0.351675\n",
      "    GMM_labels            (sampling) int64 2 2 2 2 2 2 2 2 2 ... 1 1 1 1 1 1 1 1\n",
      "    GMM_post              (sampling, k) float64 1.952e-162 ... 3.666e-22\n",
      "    analysed_sst_Q        (k, quantiles, week) float64 293.0 292.7 ... 291.8\n",
      "    GMM_robustness        (sampling) float64 1.0 1.0 1.0 1.0 ... 1.0 1.0 1.0 1.0\n",
      "    GMM_robustness_cat    (sampling) int64 5 5 5 5 5 5 5 5 5 ... 4 4 4 4 4 4 4 4\n"
     ]
    }
   ],
   "source": [
    "X = X.assign(variables={\"analysed_sst_Q\":(('k','quantiles','week'), m_quantiles)})\n",
    "print(X)"
   ]
  },
  {
   "cell_type": "markdown",
   "metadata": {},
   "source": [
    "- Calculate robustness"
   ]
  },
  {
   "cell_type": "code",
   "execution_count": 47,
   "metadata": {},
   "outputs": [],
   "source": [
    "maxpost = X[\"GMM_post\"].max(dim=\"k\")\n",
    "K = len(X[\"GMM_labels\"])\n",
    "robust = (maxpost - 1. / K) * K / (K - 1.)\n",
    "\n",
    "Plist = [0, 0.33, 0.66, 0.9, .99, 1]\n",
    "rowl0 = ('Unlikely', 'As likely as not', 'Likely', 'Very Likely', 'Virtually certain')\n",
    "robust_id = np.digitize(robust, Plist) - 1"
   ]
  },
  {
   "cell_type": "code",
   "execution_count": 48,
   "metadata": {},
   "outputs": [
    {
     "name": "stdout",
     "output_type": "stream",
     "text": [
      "<xarray.Dataset>\n",
      "Dimensions:               (k: 8, quantiles: 3, sampling: 2760, week: 52, week_reduced: 19)\n",
      "Coordinates:\n",
      "  * week                  (week) int64 1 2 3 4 5 6 7 8 ... 46 47 48 49 50 51 52\n",
      "  * sampling              (sampling) MultiIndex\n",
      "  - lat                   (sampling) float64 25.12 25.12 25.12 ... 42.12 42.12\n",
      "  - lon                   (sampling) float64 -54.88 -54.62 ... -45.38 -45.12\n",
      "Dimensions without coordinates: k, quantiles, week_reduced\n",
      "Data variables:\n",
      "    analysed_sst          (sampling, week) float32 297.383 297.5014 ... 290.5489\n",
      "    analysed_sst_scaled   (sampling, week) float32 1.3778889 ... -1.1244959\n",
      "    analysed_sst_reduced  (sampling, week_reduced) float32 -9.745885 ... -0.351675\n",
      "    GMM_labels            (sampling) int64 2 2 2 2 2 2 2 2 2 ... 1 1 1 1 1 1 1 1\n",
      "    GMM_post              (sampling, k) float64 1.952e-162 ... 3.666e-22\n",
      "    analysed_sst_Q        (quantiles, week) float64 282.9 281.4 ... 292.8 291.8\n",
      "    GMM_robustness        (sampling) float64 1.0 1.0 1.0 1.0 ... 1.0 1.0 1.0 1.0\n",
      "    GMM_robustness_cat    (sampling) int64 5 5 5 5 5 5 5 5 5 ... 4 4 4 4 4 4 4 4\n"
     ]
    }
   ],
   "source": [
    "X = X.assign(variables={\"GMM_robustness\":(('sampling'), robust), \"GMM_robustness_cat\":(('sampling'), robust_id)})\n",
    "X[\"GMM_robustness_cat\"].attrs['legend'] = rowl0\n",
    "print(X)\n",
    "#X"
   ]
  },
  {
   "cell_type": "markdown",
   "metadata": {},
   "source": [
    "__Unstack dataset__"
   ]
  },
  {
   "cell_type": "code",
   "execution_count": 66,
   "metadata": {},
   "outputs": [
    {
     "name": "stdout",
     "output_type": "stream",
     "text": [
      "<xarray.Dataset>\n",
      "Dimensions:               (k: 8, lat: 69, lon: 40, quantiles: 3, week: 52, week_reduced: 19)\n",
      "Coordinates:\n",
      "  * week                  (week) int64 1 2 3 4 5 6 7 8 ... 46 47 48 49 50 51 52\n",
      "  * lat                   (lat) float64 25.12 25.38 25.62 ... 41.62 41.88 42.12\n",
      "  * lon                   (lon) float64 -54.88 -54.62 -54.38 ... -45.38 -45.12\n",
      "Dimensions without coordinates: k, quantiles, week_reduced\n",
      "Data variables:\n",
      "    analysed_sst          (week, lat, lon) float32 297.383 ... 290.5489\n",
      "    analysed_sst_scaled   (week, lat, lon) float32 1.3778889 ... -1.1244959\n",
      "    analysed_sst_reduced  (week_reduced, lat, lon) float32 -9.745885 ... -0.351675\n",
      "    GMM_labels            (lat, lon) int64 2 2 2 2 2 2 2 2 2 ... 1 1 1 1 1 1 1 1\n",
      "    GMM_post              (k, lat, lon) float64 1.952e-162 ... 3.666e-22\n",
      "    analysed_sst_Q        (k, quantiles, week) float64 293.0 292.7 ... 291.8\n",
      "    GMM_robustness        (lat, lon) float64 1.0 1.0 1.0 1.0 ... 1.0 1.0 1.0 1.0\n",
      "    GMM_robustness_cat    (lat, lon) int64 5 5 5 5 5 5 5 5 5 ... 4 4 4 4 4 4 4 4\n"
     ]
    }
   ],
   "source": [
    "ds_labels = X.unstack('sampling')\n",
    "ds_labels = ds_labels.sortby(['lat','lon'])\n",
    "print(ds_labels)\n",
    "#ds_labels"
   ]
  },
  {
   "cell_type": "markdown",
   "metadata": {},
   "source": [
    "## Plot results\n",
    "***"
   ]
  },
  {
   "cell_type": "markdown",
   "metadata": {},
   "source": [
    "#### __1) Mean time series__"
   ]
  },
  {
   "cell_type": "markdown",
   "metadata": {},
   "source": [
    "Mean and stardard deviation (change to quantiles)"
   ]
  },
  {
   "cell_type": "code",
   "execution_count": 69,
   "metadata": {},
   "outputs": [
    {
     "data": {
      "image/png": "[encoded data removed]",
      "text/plain": [
       "<Figure size 720x1152 with 8 Axes>"
      ]
     },
     "metadata": {
      "needs_background": "light"
     },
     "output_type": "display_data"
    }
   ],
   "source": [
    "line_style = ['--','-','--']\n",
    "cmap=plt.cm.get_cmap('Spectral', k)\n",
    "fig, ax = plt.subplots(nrows=k, ncols=1, figsize=(10,16))\n",
    "\n",
    "for ik in range(k):\n",
    "    ax[ik].grid()\n",
    "    for iq in range(np.size(q)):\n",
    "        ax[ik].plot(ds_labels['analysed_sst_Q'].isel(quantiles=iq, k=ik), line_style[iq], color=cmap(ik),  label = 'q = '+ str(q[iq]))\n",
    "    ax[ik].set_xlabel('Weeks')\n",
    "    ax[ik].set_ylabel('Temperature (K)')\n",
    "    ax[ik].set_title((\"k: %i\") % (ik), color=cmap(ik))\n",
    "    ax[ik].legend(loc='upper right')"
   ]
  },
  {
   "cell_type": "markdown",
   "metadata": {},
   "source": [
    "All mean time series in the same plot "
   ]
  },
  {
   "cell_type": "code",
   "execution_count": null,
   "metadata": {},
   "outputs": [],
   "source": [
    "cmap=plt.cm.get_cmap('Spectral', k)\n",
    "fig = plt.figure(figsize=(20,6))\n",
    "plt.gca().set_facecolor('grey')\n",
    "plt.grid()\n",
    "for yi in range(k):\n",
    "    plt.plot(X['analysed_sst'].where(X['GMM_labels']==yi, drop=True).mean('sampling'),color=cmap(yi))\n",
    "\n",
    "norm = mpl.colors.Normalize(vmin=0,vmax=k-1)\n",
    "sm = plt.cm.ScalarMappable(cmap=cmap, norm=norm)\n",
    "sm.set_array([])\n",
    "plt.colorbar(sm, ticks=range(k)) \n",
    "plt.gca().set_xlabel('Weeks')\n",
    "plt.gca().set_ylabel('Temperature (K)')\n",
    "plt.gca().set_title(\"Median time series\")\n",
    "plt.show()"
   ]
  },
  {
   "cell_type": "markdown",
   "metadata": {},
   "source": [
    "Temperature is normalized"
   ]
  },
  {
   "cell_type": "code",
   "execution_count": null,
   "metadata": {},
   "outputs": [],
   "source": [
    "cmap=plt.cm.get_cmap('Spectral', k)\n",
    "plt.figure(figsize=(20,6))\n",
    "plt.gca().set_facecolor('grey')\n",
    "plt.grid()\n",
    "for yi in range(k):\n",
    "    plt.plot(X['analysed_sst_scaled'].where(X['GMM_labels']==yi, drop=True).mean('sampling'),color=cmap(yi))\n",
    "\n",
    "norm = mpl.colors.Normalize(vmin=0,vmax=k-1)\n",
    "sm = plt.cm.ScalarMappable(cmap=cmap, norm=norm)\n",
    "sm.set_array([])\n",
    "plt.colorbar(sm, ticks=range(k))\n",
    "plt.gca().set_xlabel('Weeks')\n",
    "plt.gca().set_ylabel('Normalized temperature (K)')\n",
    "plt.gca().set_title(\"Median time series\")\n",
    "plt.show()"
   ]
  },
  {
   "cell_type": "markdown",
   "metadata": {},
   "source": [
    "#### __2) Spatial distribution of classes__"
   ]
  },
  {
   "cell_type": "code",
   "execution_count": null,
   "metadata": {},
   "outputs": [],
   "source": [
    "land_feature=cfeature.NaturalEarthFeature(category='physical',name='land',scale='10m',facecolor='grey')\n",
    "map_extent = [ds_labels['lon'].values.min()-1, ds_labels['lon'].values.max()+1, ds_labels['lat'].values.min()-1, ds_labels['lat'].values.max()+1]\n",
    "fig=plt.figure(figsize=(18,10))\n",
    "ax = fig.add_subplot(1, 1, 1, projection=ccrs.PlateCarree())\n",
    "ax.add_feature(land_feature, edgecolor='black')\n",
    "ax.set_extent(map_extent, crs=ccrs.PlateCarree())\n",
    "plt.pcolormesh(ds_labels['lon'], ds_labels['lat'], ds_labels['GMM_labels'], vmin=0, vmax=k-1, cmap=plt.cm.get_cmap('Spectral', k))\n",
    "plt.colorbar(ticks=range(k),fraction=0.016, pad=0.04)\n",
    "#plt.clim([-0.5,4.5])\n",
    "plt.show()"
   ]
  },
  {
   "cell_type": "markdown",
   "metadata": {},
   "source": [
    "#### __3) Robustness__"
   ]
  },
  {
   "cell_type": "code",
   "execution_count": null,
   "metadata": {},
   "outputs": [],
   "source": [
    "title_string = '$\\\\bf{GMM\\\\  Robustness}$' + ' \\n probability of a profile to belong to a class k'\n",
    "extent = np.array([min(ds_labels['lon']), max(ds_labels['lon']), min(ds_labels['lat']), max(ds_labels['lat'])] + np.array([-0.1, +0.1, -0.1, +0.1]))\n",
    "\n",
    "#subplot_kw = {'projection': ccrs.PlateCarree(), 'extent': extent}\n",
    "#land_feature = cfeature.NaturalEarthFeature(category='physical', name='land', scale='50m', facecolor=[0.9375, 0.9375, 0.859375])\n",
    "lon_grid = np.floor_divide((ds_labels['lon'].max() - ds_labels['lon'].min()), 5)\n",
    "lat_grid = np.floor_divide((ds_labels['lat'].max() - ds_labels['lat'].min()), 5)\n",
    "\n",
    "maxcols = 2\n",
    "ar = 1.0  # initial aspect ratio for first trial\n",
    "wi = 10    # width of the whole figure in inches\n",
    "hi = wi * ar  # height in inches\n",
    "rows, cols = 1 + np.int(k / maxcols), maxcols\n",
    "\n",
    "fig, ax = plt.subplots(figsize=(wi, hi), nrows=k, ncols=1, facecolor='w', edgecolor='k', dpi=120, subplot_kw={'projection': ccrs.PlateCarree(), 'extent': extent})\n",
    "#plt.subplots_adjust(wspace=0.2, hspace=0.4)\n",
    "#plt.rcParams['figure.constrained_layout.use'] = True\n",
    "\n",
    "cmap=plt.cm.get_cmap('Spectral', k)\n",
    "\n",
    "for i in range(1):\n",
    "#for i in range(k):\n",
    "    \n",
    "    ax[i].add_feature(land_feature, edgecolor='black')\n",
    "    ax[i].set_extent(map_extent, crs=ccrs.PlateCarree())\n",
    "    sc = ax[i].pcolormesh(ds_labels['lon'], ds_labels['lat'], ds_labels['GMM_robustness_cat'].where(ds_labels['GMM_labels'] == k),\n",
    "                            cmap=cmap, transform=ccrs.PlateCarree(), vmin=0, vmax=5)\n",
    "\n",
    "    #self.m.plot.latlongrid(ax[k], fontsize=6, dx=lon_grid, dy=lat_grid)\n",
    "    #ax[k].add_feature(land_feature, edgecolor='black')\n",
    "    #ax[k].set_title('k=%i' % k, color=kmap(k), fontweight='bold', x=1.05, y=0.84)\n",
    "    #ax[k].set_title('k=%i' % k, color=kmap(k), fontweight='bold')\n",
    "\n",
    "# aspect ratio\n",
    "#plt.draw()\n",
    "#xmin, xmax = ax[0].get_xbound()\n",
    "#ymin, ymax = ax[0].get_ybound()\n",
    "#y2x_ratio = (ymax-ymin)/(xmax-xmin) * rows/cols\n",
    "#fig.set_figheight(wi * y2x_ratio)\n",
    "        #print(wi * y2x_ratio)\n",
    "        # fig.subplots_adjust(top=0.90)\n",
    "        # fig.tight_layout()\n",
    "        #fig.tight_layout(rect=[0, 0, 1, 0.90])\n",
    "\n",
    "#fig.subplots_adjust(top=0.90)\n",
    "        #plt.subplots_adjust(wspace = 0.2, hspace=0.4)\n",
    "#fig.suptitle(title_string, fontsize=10)\n",
    "\n",
    "        # plt.subplots_adjust(hspace=0.3)\n",
    "        #plt.subplots_adjust(wspace = 0.2, hspace=0.4)\n",
    "\n",
    "        #boundaries = dsp['PCM_ROBUSTNESS_CAT'].attrs['bins']\n",
    "rowl0 = ds_labels['GMM_robustness_cat'].attrs['legend']\n",
    "        #cl = fig.colorbar(sc, ax=ax.ravel().tolist(),fraction=0.02)\n",
    "cl = plt.colorbar(sc, ax=ax, fraction=0.02, pad=0.05)\n",
    "cl.set_ticks([0,1,2,3,4,5])\n",
    "cl.set_ticklabels([0,0.33,0.66,0.9,0.99,1])\n",
    "for (i, j) in zip(np.arange(0.5, 5, 1), rowl0):\n",
    "        cl.ax.text(6, i, j, ha='left', va='center', fontsize=8)\n",
    "\n",
    "        # fig.canvas.draw()\n",
    "        # fig.tight_layout()\n",
    "        # fig.subplots_adjust(top=0.95)\n",
    "#plt.rcParams['figure.constrained_layout.use'] = False\n"
   ]
  },
  {
   "cell_type": "code",
   "execution_count": null,
   "metadata": {},
   "outputs": [],
   "source": [
    "ds_labels['GMM_robustness_cat'].where(ds_labels['GMM_labels'] == k)"
   ]
  },
  {
   "cell_type": "markdown",
   "metadata": {},
   "source": [
    "#### __4) Classes pie chart__"
   ]
  },
  {
   "cell_type": "code",
   "execution_count": null,
   "metadata": {},
   "outputs": [],
   "source": [
    "pcm_labels = ds_labels['GMM_labels']\n",
    "cmap=plt.cm.get_cmap('Spectral', k)\n",
    "\n",
    "for cl in range(k):\n",
    "    # get labels\n",
    "    pcm_labels_k = pcm_labels.where(pcm_labels == cl)\n",
    "    if cl == 0:\n",
    "        counts_k = pcm_labels_k.count(...)\n",
    "        pie_labels = list(['K=%i' % cl])\n",
    "        table_cn = list([[str(cl), str(counts_k.values)]])\n",
    "    else:\n",
    "        counts_k = xr.concat([counts_k, pcm_labels_k.count(...)], \"k\")\n",
    "        pie_labels.append('K=%i' % cl)\n",
    "        table_cn.append([str(cl), str(counts_k[cl].values)])\n",
    "\n",
    "table_cn.append(['Total', str(sum([int(row[1]) for row in table_cn]))])\n",
    "\n",
    "fig, ax = plt.subplots(ncols=2, figsize=(10, 6))\n",
    "# fig.set_cmap(kmap)\n",
    "\n",
    "cheader = ['$\\\\bf{K}$', '$\\\\bf{Number\\\\ of\\\\ profiles}$']\n",
    "ccolors = plt.cm.BuPu(np.full(len(cheader), 0.1))\n",
    "the_table = plt.table(cellText=table_cn, cellLoc='center', loc='center',\n",
    "                        colLabels=cheader, colColours=ccolors, fontsize=14, colWidths=(0.2, 0.45))\n",
    "\n",
    "the_table.auto_set_font_size(False)\n",
    "the_table.set_fontsize(12)\n",
    "\n",
    "explode = np.ones(k)*0.05\n",
    "kmap_n = [list(cmap(i)[0:3]) for i in range(k)]\n",
    "textprops = {'fontweight': \"bold\", 'fontsize': 12}\n",
    "\n",
    "_, _, autotexts = ax[0].pie(counts_k, labels=pie_labels, autopct='%1.1f%%',\n",
    "                            startangle=90, colors=kmap_n, explode=explode, textprops=textprops, pctdistance=0.5)\n",
    "\n",
    "#labels in white\n",
    "for autotext in autotexts:\n",
    "    autotext.set_fontweight('normal')\n",
    "    autotext.set_fontsize(10)\n",
    "\n",
    "# draw circle\n",
    "centre_circle = plt.Circle((0, 0), 0.70, fc='white')\n",
    "fig = plt.gcf()\n",
    "ax[0].add_artist(centre_circle)\n",
    "# fig.gca().add_artist(centre_circle)\n",
    "\n",
    "ax[0].axis('equal')\n",
    "ax[1].get_xaxis().set_visible(False)\n",
    "ax[1].get_yaxis().set_visible(False)\n",
    "plt.box(on=None)\n",
    "the_table.scale(1, 1.5)\n",
    "fig.suptitle('$\\\\bf{Classes\\\\ distribution}$', fontsize=14)\n",
    "plt.tight_layout()\n"
   ]
  },
  {
   "cell_type": "code",
   "execution_count": null,
   "metadata": {},
   "outputs": [],
   "source": []
  }
 ],
 "metadata": {
  "kernelspec": {
   "display_name": "Python 3",
   "language": "python",
   "name": "python3"
  },
  "language_info": {
   "codemirror_mode": {
    "name": "ipython",
    "version": 3
   },
   "file_extension": ".py",
   "mimetype": "text/x-python",
   "name": "python",
   "nbconvert_exporter": "python",
   "pygments_lexer": "ipython3",
   "version": "3.7.6"
  }
 },
 "nbformat": 4,
 "nbformat_minor": 4
}
