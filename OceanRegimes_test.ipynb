{
 "cells": [
  {
   "cell_type": "markdown",
   "metadata": {},
   "source": [
    "# __Ocean regimes indicator__"
   ]
  },
  {
   "cell_type": "markdown",
   "metadata": {},
   "source": [
    "Apply a Gaussian Mixtures Model to a dataset of time series"
   ]
  },
  {
   "cell_type": "markdown",
   "metadata": {},
   "source": [
    "***\n",
    "ds : initial dataset (lat, lon, week)\n",
    "\n",
    "X : staked dataset (sampling, week, week_reduced)\n",
    "\n",
    "ds_labels: unstacked final dataset (lat, lon, week)\n",
    "***"
   ]
  },
  {
   "cell_type": "code",
   "execution_count": 1,
   "metadata": {},
   "outputs": [],
   "source": [
    "import xarray as xr\n",
    "import numpy as np\n",
    "import pandas as pd\n",
    "\n",
    "import pyxpcm\n",
    "from pyxpcm.models import pcm\n",
    "\n",
    "import cartopy.crs as ccrs\n",
    "import cartopy.feature as cfeature\n",
    "import matplotlib.pyplot as plt\n",
    "import matplotlib.colors as mcolors\n",
    "import matplotlib as mpl\n",
    "\n",
    "import seaborn as sns\n",
    "sns.set_context(\"paper\")\n",
    "with_seaborn = True\n",
    "\n",
    "import Plotter_OR\n",
    "from Plotter_OR import Plotter_OR \n",
    "\n",
    "from PIL import Image\n",
    "\n",
    "import importlib\n",
    "from BIC_calculation_OR import *"
   ]
  },
  {
   "cell_type": "markdown",
   "metadata": {},
   "source": [
    "## Load dataset\n",
    "***"
   ]
  },
  {
   "cell_type": "markdown",
   "metadata": {},
   "source": [
    "- One year of SST data in the Mediterranean Sea:  SST_GLO_SST_L4_NRT_OBSERVATIONS_010_014 product"
   ]
  },
  {
   "cell_type": "code",
   "execution_count": 2,
   "metadata": {},
   "outputs": [],
   "source": [
    "file_path = 'datasets/METOFFICE-GLO-SST-L4-NRT-OBS-SKIN-DIU-FV01.1_1607013925530.nc'"
   ]
  },
  {
   "cell_type": "markdown",
   "metadata": {},
   "source": [
    "- One year of SST data in the North Atlantic:  SST_GLO_SST_L4_NRT_OBSERVATIONS_010_014 product"
   ]
  },
  {
   "cell_type": "code",
   "execution_count": 3,
   "metadata": {},
   "outputs": [],
   "source": [
    "#file_path = 'datasets/METOFFICE-GLO-SST-L4-NRT-OBS-SKIN-DIU-FV01.1_1608215256580.nc'"
   ]
  },
  {
   "cell_type": "markdown",
   "metadata": {},
   "source": [
    "- One year of Ocean Color data in the Mediterranean Sea:  OCEANCOLOUR_GLO_CHL_L4_REP_OBSERVATIONS_009_082 product"
   ]
  },
  {
   "cell_type": "code",
   "execution_count": 4,
   "metadata": {},
   "outputs": [],
   "source": [
    "#file_path = 'datasets/dataset-oc-glo-bio-multi-l4-chl_interpolated_4km_daily-rep_1610026811620.nc'"
   ]
  },
  {
   "cell_type": "markdown",
   "metadata": {},
   "source": [
    "Open dataset"
   ]
  },
  {
   "cell_type": "code",
   "execution_count": 5,
   "metadata": {},
   "outputs": [
    {
     "name": "stdout",
     "output_type": "stream",
     "text": [
      "<xarray.Dataset>\n",
      "Dimensions:                                        (lat: 65, lon: 192, time: 8760)\n",
      "Coordinates:\n",
      "  * time                                           (time) datetime64[ns] 2019-01-01T00:30:00 ... 2019-12-31T23:30:00\n",
      "  * lat                                            (lat) float32 30.125 ... 46.125\n",
      "  * lon                                            (lon) float32 -4.875 ... 42.875\n",
      "Data variables:\n",
      "    sea_surface_warm_layer_temperature_difference  (time, lat, lon) float32 ...\n",
      "    sea_surface_cool_skin_temperature_difference   (time, lat, lon) float32 ...\n",
      "    analysed_sst                                   (time, lat, lon) float32 ...\n",
      "    mask                                           (time, lat, lon) float32 ...\n",
      "Attributes:\n",
      "    Conventions:                CF-1.4\n",
      "    title:                      Global Diurnal Skin SST Analysis, L4 OSTIA, 0...\n",
      "    summary:                    A merged, multi-sensor L4 skin SST product\n",
      "    references:                 While J., Martin M.; 2013;  Development of a ...\n",
      "    institution:                UKMO\n",
      "    history:                    See source and creation_date attributees\n",
      "    comment:                    WARNING Some applications are unable to prope...\n",
      "    license:                    These data are available free of charge under...\n",
      "    id:                         UKMO-L4LRskin_GLOB-OSTIAdiu\n",
      "    naming_authority:           org.ghrsst\n",
      "    product_version:            1.2\n",
      "    uuid:                       dd7afcc1-acf0-4a0f-9407-19d49b470b7b\n",
      "    gds_version_id:             2.4\n",
      "    netcdf_version_id:          4.1\n",
      "    date_created:               20201203T081437Z\n",
      "    start_time:                 20201202T000000Z\n",
      "    time_coverage_start:        20201202T000000Z\n",
      "    stop_time:                  20201202T235959Z\n",
      "    time_coverage_end:          20201202T235959Z\n",
      "    file_quality_level:         3\n",
      "    source:                     NAVO-L2P-AVHRR19_G, OSPO-L2P-GOES15, SEVIRI_S...\n",
      "    platform:                   NOAA-19, GOES15, MSG2, MTSAT2\n",
      "    sensor:                     AVHRR, Imager, SEVIRI, Imager\n",
      "    Metadata_Conventions:       Unidata Observation Dataset v1.0\n",
      "    metadata_link:              Not yet available\n",
      "    keywords:                   Oceans > Ocean Temperature > Sea Surface Temp...\n",
      "    keywords_vocabulary:        NASA Global Change Master Directory (GCMD) Sc...\n",
      "    standard_name_vocabulary:   NetCDF Climate and Forecast (CF) Metadata Con...\n",
      "    westernmost_longitude:      -180.0\n",
      "    easternmost_longitude:      180.0\n",
      "    southernmost_latitude:      -90.0\n",
      "    northernmost_latitude:      90.0\n",
      "    spatial_resolution:         0.25 degree\n",
      "    geospatial_lat_units:       degrees_north\n",
      "    geospatial_lat_resolution:  0.25\n",
      "    geospatial_lon_units:       degrees_east\n",
      "    geospatial_lon_resolution:  0.25\n",
      "    acknowledgment:             Please acknowledge the use of these data with...\n",
      "    creator_name:               Met Office as part of CMEMS\n",
      "    creator_email:              servicedesk.cmems@mercator-ocean.eu\n",
      "    creator_url:                http://marine.copernicus.eu/\n",
      "    project:                    Group for High Resolution Sea Surface Tempera...\n",
      "    publisher_name:             GHRSST Project Office\n",
      "    publisher_url:              http://www.ghrsst.org\n",
      "    publisher_email:            ghrsst-po@nceo.ac.uk\n",
      "    processing_level:           L4\n",
      "    cdm_data_type:              grid\n",
      "    History:                    Translated to CF-1.0 Conventions by Netcdf-Ja...\n",
      "    geospatial_lat_min:         30.125\n",
      "    geospatial_lat_max:         46.125\n",
      "    geospatial_lon_min:         -4.875\n",
      "    geospatial_lon_max:         42.875\n"
     ]
    }
   ],
   "source": [
    "ds = xr.open_dataset(file_path)\n",
    "print(ds)\n",
    "#ds"
   ]
  },
  {
   "cell_type": "code",
   "execution_count": 6,
   "metadata": {},
   "outputs": [],
   "source": [
    "var_name = 'analysed_sst'"
   ]
  },
  {
   "cell_type": "markdown",
   "metadata": {},
   "source": [
    "Chlorophyll"
   ]
  },
  {
   "cell_type": "code",
   "execution_count": 7,
   "metadata": {},
   "outputs": [],
   "source": [
    "#ds['time'] = ds.indexes['time'].to_datetimeindex()\n",
    "#var_name = 'CHL'"
   ]
  },
  {
   "cell_type": "markdown",
   "metadata": {},
   "source": [
    "__Quick plot__"
   ]
  },
  {
   "cell_type": "code",
   "execution_count": 8,
   "metadata": {},
   "outputs": [
    {
     "data": {
      "image/png": "[encoded data removed]",
      "text/plain": [
       "<Figure size 432x288 with 2 Axes>"
      ]
     },
     "metadata": {
      "needs_background": "light"
     },
     "output_type": "display_data"
    }
   ],
   "source": [
    "ds[var_name].isel(time=11).plot();"
   ]
  },
  {
   "cell_type": "code",
   "execution_count": 9,
   "metadata": {},
   "outputs": [
    {
     "data": {
      "image/png": "[encoded data removed]",
      "text/plain": [
       "<Figure size 432x288 with 1 Axes>"
      ]
     },
     "metadata": {
      "needs_background": "light"
     },
     "output_type": "display_data"
    }
   ],
   "source": [
    "bins = np.arange(int(ds[var_name].min().values), int(ds[var_name].max().values))\n",
    "ds[var_name].plot.hist(bins=bins);"
   ]
  },
  {
   "cell_type": "markdown",
   "metadata": {},
   "source": [
    "## Preprocessing\n",
    "***"
   ]
  },
  {
   "cell_type": "markdown",
   "metadata": {},
   "source": [
    "#### __1) Weekly mean for each pixel__"
   ]
  },
  {
   "cell_type": "code",
   "execution_count": 10,
   "metadata": {},
   "outputs": [
    {
     "name": "stderr",
     "output_type": "stream",
     "text": [
      "/export/home1/agarciaj/anaconda3/lib/python3.7/site-packages/xarray/core/accessor_dt.py:45: FutureWarning: Series.dt.weekofyear and Series.dt.week have been deprecated.  Please use Series.dt.isocalendar().week instead.\n",
      "  field_values = getattr(values_as_series.dt, name).values\n",
      "/export/home1/agarciaj/anaconda3/lib/python3.7/site-packages/xarray/core/nanops.py:142: RuntimeWarning: Mean of empty slice\n",
      "  return np.nanmean(a, axis=axis, dtype=dtype)\n"
     ]
    },
    {
     "name": "stdout",
     "output_type": "stream",
     "text": [
      "<xarray.Dataset>\n",
      "Dimensions:                                        (lat: 65, lon: 192, week: 52)\n",
      "Coordinates:\n",
      "  * lon                                            (lon) float32 -4.875 ... 42.875\n",
      "  * lat                                            (lat) float32 30.125 ... 46.125\n",
      "  * week                                           (week) int64 1 2 3 ... 51 52\n",
      "Data variables:\n",
      "    sea_surface_warm_layer_temperature_difference  (week, lat, lon) float32 nan ... 0.0\n",
      "    sea_surface_cool_skin_temperature_difference   (week, lat, lon) float32 nan ... 0.0\n",
      "    analysed_sst                                   (week, lat, lon) float32 nan ... 275.3912\n",
      "    mask                                           (week, lat, lon) float32 2.0 ... 1.0\n"
     ]
    }
   ],
   "source": [
    "ds = ds.groupby(\"time.week\").mean()\n",
    "#ds = ds.groupby(\"time.month\").mean()\n",
    "print(ds)\n",
    "#ds"
   ]
  },
  {
   "cell_type": "markdown",
   "metadata": {},
   "source": [
    "Plot histogram in time"
   ]
  },
  {
   "cell_type": "code",
   "execution_count": 11,
   "metadata": {},
   "outputs": [
    {
     "data": {
      "text/plain": [
       "Text(0, 0.5, 'Counts')"
      ]
     },
     "execution_count": 11,
     "metadata": {},
     "output_type": "execute_result"
    },
    {
     "data": {
      "image/png": "[encoded data removed]",
      "text/plain": [
       "<Figure size 864x720 with 2 Axes>"
      ]
     },
     "metadata": {
      "needs_background": "light"
     },
     "output_type": "display_data"
    }
   ],
   "source": [
    "bins = np.arange(int(ds[var_name].min().values), int(ds[var_name].max().values),0.5)\n",
    "#bins = np.arange(0, 0.3, 0.002)\n",
    "histo_2d = [] \n",
    "for iweek in range(52):\n",
    "#for iweek in range(12):\n",
    "    hist_values, bin_edges = np.histogram(ds[var_name].isel(week=iweek).values, bins=bins)\n",
    "    #hist_values, bin_edges = np.histogram(ds[var_name].isel(month=iweek).values, bins=bins)\n",
    "    histo_2d.append(hist_values)\n",
    "    \n",
    "fig, ax = plt.subplots(figsize=(12,10))\n",
    "\n",
    "#plt.pcolormesh(bins, ds.month.values, histo_2d, cmap='Reds', edgecolors='black')\n",
    "plt.pcolormesh(bins, ds.week.values, histo_2d, cmap='Reds', edgecolors='black')\n",
    "cbar = plt.colorbar()\n",
    "ax.set_xlabel('Temperature (K)')\n",
    "#ax.set_xlabel('Chlorophyll-a concentration (milligram m-3)')\n",
    "ax.set_ylabel('Weeks')\n",
    "cbar.ax.set_ylabel('Counts')"
   ]
  },
  {
   "cell_type": "markdown",
   "metadata": {},
   "source": [
    "Try chlorophyll"
   ]
  },
  {
   "cell_type": "code",
   "execution_count": 12,
   "metadata": {},
   "outputs": [
    {
     "data": {
      "text/plain": [
       "Text(0, 0.5, 'Counts')"
      ]
     },
     "execution_count": 12,
     "metadata": {},
     "output_type": "execute_result"
    },
    {
     "data": {
      "image/png": "[encoded data removed]",
      "text/plain": [
       "<Figure size 864x720 with 2 Axes>"
      ]
     },
     "metadata": {
      "needs_background": "light"
     },
     "output_type": "display_data"
    }
   ],
   "source": [
    "bins = np.arange(int(ds[var_name].min().values), int(ds[var_name].max().values),0.5)\n",
    "#bins = np.arange(0, 0.3, 0.002)\n",
    "histo_2d = [] \n",
    "for iweek in range(52):\n",
    "#for iweek in range(12):\n",
    "    hist_values, bin_edges = np.histogram(ds[var_name].isel(week=iweek).values, bins=bins)\n",
    "    #hist_values, bin_edges = np.histogram(ds[var_name].isel(month=iweek).values, bins=bins)\n",
    "    histo_2d.append(hist_values)\n",
    "    \n",
    "fig, ax = plt.subplots(figsize=(12,10))\n",
    "\n",
    "#plt.pcolormesh(bins, ds.month.values, histo_2d, cmap='Reds', edgecolors='black')\n",
    "plt.pcolormesh(bins, ds.week.values, histo_2d, cmap='Reds', edgecolors='black')\n",
    "cbar = plt.colorbar()\n",
    "ax.set_xlabel('Temperature (K)')\n",
    "#ax.set_xlabel('Chlorophyll-a concentration (milligram m-3)')\n",
    "ax.set_ylabel('Weeks')\n",
    "cbar.ax.set_ylabel('Counts')"
   ]
  },
  {
   "cell_type": "markdown",
   "metadata": {},
   "source": [
    "#### __2) Reduce lat lon dimensions to sampling dimension__"
   ]
  },
  {
   "cell_type": "code",
   "execution_count": 13,
   "metadata": {},
   "outputs": [
    {
     "data": {
      "text/plain": [
       "['lat', 'lon']"
      ]
     },
     "execution_count": 13,
     "metadata": {},
     "output_type": "execute_result"
    }
   ],
   "source": [
    "sampling_dims = list(ds.dims)\n",
    "sampling_dims.remove('week')\n",
    "#sampling_dims.remove('time')\n",
    "sampling_dims"
   ]
  },
  {
   "cell_type": "code",
   "execution_count": 14,
   "metadata": {},
   "outputs": [
    {
     "name": "stdout",
     "output_type": "stream",
     "text": [
      "<xarray.Dataset>\n",
      "Dimensions:                                        (feature: 52, sampling: 12480)\n",
      "Coordinates:\n",
      "  * feature                                        (feature) int64 1 2 ... 51 52\n",
      "  * sampling                                       (sampling) MultiIndex\n",
      "  - lat                                            (sampling) float64 30.12 ... 46.12\n",
      "  - lon                                            (sampling) float64 -4.875 ... 42.88\n",
      "Data variables:\n",
      "    sea_surface_warm_layer_temperature_difference  (feature, sampling) float32 nan ... 0.0\n",
      "    sea_surface_cool_skin_temperature_difference   (feature, sampling) float32 nan ... 0.0\n",
      "    analysed_sst                                   (feature, sampling) float32 nan ... 275.3912\n",
      "    mask                                           (feature, sampling) float32 2.0 ... 1.0\n"
     ]
    }
   ],
   "source": [
    "X = ds.stack({'sampling': sampling_dims})\n",
    "X = X.rename_dims({'week': 'feature'})\n",
    "X = X.rename({'week': 'feature'})\n",
    "#X = X.rename_dims({'time': 'feature'})\n",
    "#X = X.rename({'time': 'feature'})\n",
    "print(X)\n",
    "#X"
   ]
  },
  {
   "cell_type": "code",
   "execution_count": 15,
   "metadata": {},
   "outputs": [
    {
     "data": {
      "image/png": "[encoded data removed]",
      "text/plain": [
       "<Figure size 432x288 with 1 Axes>"
      ]
     },
     "metadata": {
      "needs_background": "light"
     },
     "output_type": "display_data"
    }
   ],
   "source": [
    "X[var_name].plot.hist(bins=bins);"
   ]
  },
  {
   "cell_type": "markdown",
   "metadata": {},
   "source": [
    "#### __3) Delate all NaN time series using mask__"
   ]
  },
  {
   "cell_type": "markdown",
   "metadata": {},
   "source": [
    "Create mask from data"
   ]
  },
  {
   "cell_type": "code",
   "execution_count": 16,
   "metadata": {},
   "outputs": [
    {
     "name": "stdout",
     "output_type": "stream",
     "text": [
      "<xarray.Dataset>\n",
      "Dimensions:                                        (feature: 52, sampling: 12480)\n",
      "Coordinates:\n",
      "  * feature                                        (feature) int64 1 2 ... 51 52\n",
      "  * sampling                                       (sampling) MultiIndex\n",
      "  - lat                                            (sampling) float64 30.12 ... 46.12\n",
      "  - lon                                            (sampling) float64 -4.875 ... 42.88\n",
      "Data variables:\n",
      "    sea_surface_warm_layer_temperature_difference  (feature, sampling) float32 nan ... 0.0\n",
      "    sea_surface_cool_skin_temperature_difference   (feature, sampling) float32 nan ... 0.0\n",
      "    analysed_sst                                   (feature, sampling) float32 nan ... 275.3912\n",
      "    mask                                           (feature, sampling) float32 2.0 ... 1.0\n",
      "    mask_d                                         (feature, sampling) bool False ... True\n"
     ]
    }
   ],
   "source": [
    "mask_d = X[var_name].notnull()\n",
    "X = X.assign(variables={\"mask_d\":(('feature','sampling'), mask_d)})\n",
    "print(X)\n",
    "#X"
   ]
  },
  {
   "cell_type": "markdown",
   "metadata": {},
   "source": [
    "Plot created mask"
   ]
  },
  {
   "cell_type": "code",
   "execution_count": 17,
   "metadata": {},
   "outputs": [
    {
     "data": {
      "image/png": "[encoded data removed]",
      "text/plain": [
       "<Figure size 432x288 with 2 Axes>"
      ]
     },
     "metadata": {
      "needs_background": "light"
     },
     "output_type": "display_data"
    }
   ],
   "source": [
    "mask_plot = X['mask_d'].unstack('sampling')\n",
    "#.sortby(['lat','lon'])\n",
    "mask_plot.isel(feature=11).plot();"
   ]
  },
  {
   "cell_type": "markdown",
   "metadata": {},
   "source": [
    "Plot mask in dataset (water = 1)"
   ]
  },
  {
   "cell_type": "code",
   "execution_count": 18,
   "metadata": {},
   "outputs": [
    {
     "data": {
      "image/png": "[encoded data removed]",
      "text/plain": [
       "<Figure size 432x288 with 2 Axes>"
      ]
     },
     "metadata": {
      "needs_background": "light"
     },
     "output_type": "display_data"
    }
   ],
   "source": [
    "ds['mask'].isel(week=11).plot();"
   ]
  },
  {
   "cell_type": "markdown",
   "metadata": {},
   "source": [
    "Apply mask "
   ]
  },
  {
   "cell_type": "code",
   "execution_count": 19,
   "metadata": {},
   "outputs": [
    {
     "name": "stdout",
     "output_type": "stream",
     "text": [
      "<xarray.DataArray 'mask_d' (feature: 52, sampling: 12480)>\n",
      "array([[False, False, False, ..., False, False,  True],\n",
      "       [False, False, False, ..., False, False,  True],\n",
      "       [False, False, False, ..., False, False,  True],\n",
      "       ...,\n",
      "       [False, False, False, ..., False, False,  True],\n",
      "       [False, False, False, ..., False, False,  True],\n",
      "       [False, False, False, ..., False, False,  True]])\n",
      "Coordinates:\n",
      "  * feature   (feature) int64 1 2 3 4 5 6 7 8 9 ... 44 45 46 47 48 49 50 51 52\n",
      "  * sampling  (sampling) MultiIndex\n",
      "  - lat       (sampling) float64 30.12 30.12 30.12 30.12 ... 46.12 46.12 46.12\n",
      "  - lon       (sampling) float64 -4.875 -4.625 -4.375 ... 42.38 42.62 42.88\n"
     ]
    }
   ],
   "source": [
    "stacked_mask = X['mask_d']\n",
    "print(stacked_mask)\n",
    "#stacked_mask"
   ]
  },
  {
   "cell_type": "code",
   "execution_count": 20,
   "metadata": {},
   "outputs": [
    {
     "name": "stdout",
     "output_type": "stream",
     "text": [
      "<xarray.Dataset>\n",
      "Dimensions:       (feature: 52, sampling: 5741)\n",
      "Coordinates:\n",
      "  * feature       (feature) int64 1 2 3 4 5 6 7 8 9 ... 45 46 47 48 49 50 51 52\n",
      "  * sampling      (sampling) MultiIndex\n",
      "  - lat           (sampling) float64 30.38 30.38 30.38 ... 46.12 46.12 46.12\n",
      "  - lon           (sampling) float64 18.62 18.88 19.12 ... 38.38 38.62 42.88\n",
      "Data variables:\n",
      "    analysed_sst  (feature, sampling) float32 291.3304 291.29144 ... 275.3912\n"
     ]
    }
   ],
   "source": [
    "X = X[var_name].where(stacked_mask == True, drop=True).to_dataset()\n",
    "print(X)\n",
    "#X"
   ]
  },
  {
   "cell_type": "code",
   "execution_count": 21,
   "metadata": {},
   "outputs": [
    {
     "data": {
      "image/png": "[encoded data removed]",
      "text/plain": [
       "<Figure size 432x288 with 1 Axes>"
      ]
     },
     "metadata": {
      "needs_background": "light"
     },
     "output_type": "display_data"
    }
   ],
   "source": [
    "X[var_name].plot.hist(bins=bins);"
   ]
  },
  {
   "cell_type": "markdown",
   "metadata": {},
   "source": [
    "Recover the dataset (unravel)"
   ]
  },
  {
   "cell_type": "code",
   "execution_count": 22,
   "metadata": {},
   "outputs": [
    {
     "name": "stdout",
     "output_type": "stream",
     "text": [
      "(52, 64, 191)\n",
      "(52, 65, 192)\n",
      "<xarray.Dataset>\n",
      "Dimensions:       (feature: 52, lat: 65, lon: 192)\n",
      "Coordinates:\n",
      "  * lat           (lat) float64 30.12 30.38 30.62 30.88 ... 45.62 45.88 46.12\n",
      "  * lon           (lon) float64 -4.875 -4.625 -4.375 ... 42.38 42.62 42.88\n",
      "  * feature       (feature) int64 1 2 3 4 5 6 7 8 9 ... 45 46 47 48 49 50 51 52\n",
      "Data variables:\n",
      "    analysed_sst  (feature, lat, lon) float32 nan nan nan ... nan nan 275.3912\n"
     ]
    }
   ],
   "source": [
    "X_unstacked = X[var_name].unstack('sampling').to_dataset(name = var_name)\n",
    "X_unstacked = X_unstacked.sortby(['lat','lon'])\n",
    "print(np.shape(X_unstacked[var_name]))\n",
    "# same lat and lon values in mask and in results\n",
    "mask = stacked_mask.unstack()\n",
    "X_unstacked = X_unstacked.reindex_like(mask)\n",
    "print(np.shape(X_unstacked[var_name]))\n",
    "print(X_unstacked) "
   ]
  },
  {
   "cell_type": "code",
   "execution_count": 23,
   "metadata": {},
   "outputs": [
    {
     "data": {
      "image/png": "[encoded data removed]",
      "text/plain": [
       "<Figure size 432x288 with 2 Axes>"
      ]
     },
     "metadata": {
      "needs_background": "light"
     },
     "output_type": "display_data"
    }
   ],
   "source": [
    "X_unstacked[var_name].isel(feature=11).plot();"
   ]
  },
  {
   "cell_type": "markdown",
   "metadata": {},
   "source": [
    "__There is any NaN in the dataset?__"
   ]
  },
  {
   "cell_type": "code",
   "execution_count": 24,
   "metadata": {},
   "outputs": [
    {
     "data": {
      "text/plain": [
       "False"
      ]
     },
     "execution_count": 24,
     "metadata": {},
     "output_type": "execute_result"
    }
   ],
   "source": [
    "np.any(np.isnan(X[var_name].values))"
   ]
  },
  {
   "cell_type": "markdown",
   "metadata": {},
   "source": [
    "#### __4) Interpolation__"
   ]
  },
  {
   "cell_type": "markdown",
   "metadata": {},
   "source": [
    "Not necessary if using mask created from dataset"
   ]
  },
  {
   "cell_type": "code",
   "execution_count": 25,
   "metadata": {},
   "outputs": [
    {
     "name": "stdout",
     "output_type": "stream",
     "text": [
      "<xarray.Dataset>\n",
      "Dimensions:       (feature: 52, sampling: 5741)\n",
      "Coordinates:\n",
      "  * feature       (feature) int64 1 2 3 4 5 6 7 8 9 ... 45 46 47 48 49 50 51 52\n",
      "  * sampling      (sampling) MultiIndex\n",
      "  - lat           (sampling) float64 30.38 30.38 30.38 ... 46.12 46.12 46.12\n",
      "  - lon           (sampling) float64 18.62 18.88 19.12 ... 38.38 38.62 42.88\n",
      "Data variables:\n",
      "    analysed_sst  (feature, sampling) float32 291.3304 291.29144 ... 275.3912\n"
     ]
    }
   ],
   "source": [
    "X = X[var_name].interpolate_na(dim = 'feature', method=\"linear\", fill_value=\"extrapolate\").to_dataset(name = var_name)\n",
    "print(X)\n",
    "#X"
   ]
  },
  {
   "cell_type": "markdown",
   "metadata": {},
   "source": [
    "__There is any NaN in the dataset?__"
   ]
  },
  {
   "cell_type": "code",
   "execution_count": 26,
   "metadata": {},
   "outputs": [
    {
     "data": {
      "text/plain": [
       "False"
      ]
     },
     "execution_count": 26,
     "metadata": {},
     "output_type": "execute_result"
    }
   ],
   "source": [
    "np.any(np.isnan(X[var_name].values))"
   ]
  },
  {
   "cell_type": "markdown",
   "metadata": {},
   "source": [
    "#### __5) Scaler__"
   ]
  },
  {
   "cell_type": "markdown",
   "metadata": {},
   "source": [
    "__Check dimensions order__\n",
    "***"
   ]
  },
  {
   "cell_type": "code",
   "execution_count": 27,
   "metadata": {},
   "outputs": [
    {
     "data": {
      "text/plain": [
       "(52, 5741)"
      ]
     },
     "execution_count": 27,
     "metadata": {},
     "output_type": "execute_result"
    }
   ],
   "source": [
    "np.shape(X[var_name])"
   ]
  },
  {
   "cell_type": "markdown",
   "metadata": {},
   "source": [
    "Transpose dataset if needed (sampling x features)"
   ]
  },
  {
   "cell_type": "code",
   "execution_count": 28,
   "metadata": {},
   "outputs": [
    {
     "data": {
      "text/plain": [
       "(5741, 52)"
      ]
     },
     "execution_count": 28,
     "metadata": {},
     "output_type": "execute_result"
    }
   ],
   "source": [
    "X = X.transpose(\"sampling\", \"feature\")\n",
    "np.shape(X[var_name].values)"
   ]
  },
  {
   "cell_type": "markdown",
   "metadata": {},
   "source": [
    "***"
   ]
  },
  {
   "cell_type": "markdown",
   "metadata": {},
   "source": [
    "Apply sklearn __StandardScaler__: \n",
    "Standardize features by removing the mean and scaling to unit variance\n",
    "The standard score of a sample x is calculated as:\n",
    "\n",
    "    z = (x - u) / s\n",
    "    \n",
    "where u is the mean of the training samples or zero if `with_mean=False`, and s is the standard deviation of the training samples or one if `with_std=False`.\n",
    "Centering and scaling happen independently on each feature by computing the relevant statistics on the samples in the training set. "
   ]
  },
  {
   "cell_type": "code",
   "execution_count": 29,
   "metadata": {},
   "outputs": [
    {
     "name": "stdout",
     "output_type": "stream",
     "text": [
      "<xarray.Dataset>\n",
      "Dimensions:              (feature: 52, sampling: 5741)\n",
      "Coordinates:\n",
      "  * feature              (feature) int64 1 2 3 4 5 6 7 ... 46 47 48 49 50 51 52\n",
      "  * sampling             (sampling) MultiIndex\n",
      "  - lat                  (sampling) float64 30.38 30.38 30.38 ... 46.12 46.12\n",
      "  - lon                  (sampling) float64 18.62 18.88 19.12 ... 38.62 42.88\n",
      "Data variables:\n",
      "    analysed_sst         (sampling, feature) float32 291.3304 ... 275.3912\n",
      "    analysed_sst_scaled  (sampling, feature) float32 0.98910934 ... -4.903476\n"
     ]
    }
   ],
   "source": [
    "from sklearn.preprocessing import StandardScaler\n",
    "X_scale = StandardScaler().fit_transform(X[var_name])\n",
    "X = X.assign(variables={var_name + \"_scaled\":(('sampling', 'feature'), X_scale)})\n",
    "print(X)\n",
    "#X"
   ]
  },
  {
   "cell_type": "markdown",
   "metadata": {},
   "source": [
    "#### __5) PCA__"
   ]
  },
  {
   "cell_type": "markdown",
   "metadata": {},
   "source": [
    "Apply __Principal component analysis__ (PCA):\n",
    "Linear dimensionality reduction using Singular Value Decomposition of the data to project it to a lower dimensional space.\n",
    "If `0 < n_components < 1` and `svd_solver == 'full'`, select the number of components such that the amount of variance that needs to be explained is greater than the percentage specified by n_components."
   ]
  },
  {
   "cell_type": "code",
   "execution_count": 30,
   "metadata": {},
   "outputs": [
    {
     "data": {
      "text/plain": [
       "PCA(copy=True, iterated_power='auto', n_components=0.99, random_state=None,\n",
       "    svd_solver='full', tol=0.0, whiten=False)"
      ]
     },
     "execution_count": 30,
     "metadata": {},
     "output_type": "execute_result"
    }
   ],
   "source": [
    "from sklearn.decomposition import PCA\n",
    "pca = PCA(n_components = 0.99, svd_solver = 'full')\n",
    "pca"
   ]
  },
  {
   "cell_type": "code",
   "execution_count": 31,
   "metadata": {},
   "outputs": [],
   "source": [
    "pca = pca.fit(X[var_name + \"_scaled\"])"
   ]
  },
  {
   "cell_type": "code",
   "execution_count": 32,
   "metadata": {},
   "outputs": [
    {
     "data": {
      "text/plain": [
       "Text(0.5, 1.0, 'Percentage of variance explained by each of the selected components')"
      ]
     },
     "execution_count": 32,
     "metadata": {},
     "output_type": "execute_result"
    },
    {
     "data": {
      "image/png": "[encoded data removed]",
      "text/plain": [
       "<Figure size 432x288 with 1 Axes>"
      ]
     },
     "metadata": {
      "needs_background": "light"
     },
     "output_type": "display_data"
    }
   ],
   "source": [
    "fig, ax = plt.subplots()\n",
    "pb = plt.bar(range(pca.n_components_), pca.explained_variance_ratio_)\n",
    "ax.set_xlabel('n_components')\n",
    "ax.set_ylabel('Percentage')\n",
    "ax.set_title('Percentage of variance explained by each of the selected components')"
   ]
  },
  {
   "cell_type": "code",
   "execution_count": 33,
   "metadata": {},
   "outputs": [
    {
     "data": {
      "text/plain": [
       "(5741, 12)"
      ]
     },
     "execution_count": 33,
     "metadata": {},
     "output_type": "execute_result"
    }
   ],
   "source": [
    "X_reduced = pca.transform(X[var_name + \"_scaled\"])\n",
    "np.shape(X_reduced)"
   ]
  },
  {
   "cell_type": "code",
   "execution_count": 34,
   "metadata": {},
   "outputs": [
    {
     "name": "stdout",
     "output_type": "stream",
     "text": [
      "<xarray.Dataset>\n",
      "Dimensions:               (feature: 52, feature_reduced: 12, sampling: 5741)\n",
      "Coordinates:\n",
      "  * feature               (feature) int64 1 2 3 4 5 6 7 ... 46 47 48 49 50 51 52\n",
      "  * sampling              (sampling) MultiIndex\n",
      "  - lat                   (sampling) float64 30.38 30.38 30.38 ... 46.12 46.12\n",
      "  - lon                   (sampling) float64 18.62 18.88 19.12 ... 38.62 42.88\n",
      "Dimensions without coordinates: feature_reduced\n",
      "Data variables:\n",
      "    analysed_sst          (sampling, feature) float32 291.3304 ... 275.3912\n",
      "    analysed_sst_scaled   (sampling, feature) float32 0.98910934 ... -4.903476\n",
      "    analysed_sst_reduced  (sampling, feature_reduced) float32 6.956739 ... 0.32258075\n"
     ]
    }
   ],
   "source": [
    "X = X.assign(variables={var_name + \"_reduced\":(('sampling', 'feature_reduced'),X_reduced)})\n",
    "print(X)"
   ]
  },
  {
   "cell_type": "markdown",
   "metadata": {},
   "source": [
    "## Apply Model\n",
    "***"
   ]
  },
  {
   "cell_type": "markdown",
   "metadata": {},
   "source": [
    "__Create model__"
   ]
  },
  {
   "cell_type": "code",
   "execution_count": 35,
   "metadata": {},
   "outputs": [
    {
     "data": {
      "text/plain": [
       "GaussianMixture(covariance_type='full', init_params='kmeans', max_iter=100,\n",
       "                means_init=None, n_components=7, n_init=1, precisions_init=None,\n",
       "                random_state=None, reg_covar=1e-06, tol=0.001, verbose=0,\n",
       "                verbose_interval=10, warm_start=False, weights_init=None)"
      ]
     },
     "execution_count": 35,
     "metadata": {},
     "output_type": "execute_result"
    }
   ],
   "source": [
    "from sklearn import mixture\n",
    "k = 7 # number of classes\n",
    "model = mixture.GaussianMixture(n_components=k, covariance_type='full')\n",
    "model"
   ]
  },
  {
   "cell_type": "markdown",
   "metadata": {},
   "source": [
    "__Fit model__"
   ]
  },
  {
   "cell_type": "code",
   "execution_count": 36,
   "metadata": {},
   "outputs": [
    {
     "data": {
      "text/plain": [
       "GaussianMixture(covariance_type='full', init_params='kmeans', max_iter=100,\n",
       "                means_init=None, n_components=7, n_init=1, precisions_init=None,\n",
       "                random_state=None, reg_covar=1e-06, tol=0.001, verbose=0,\n",
       "                verbose_interval=10, warm_start=False, weights_init=None)"
      ]
     },
     "execution_count": 36,
     "metadata": {},
     "output_type": "execute_result"
    }
   ],
   "source": [
    "model.fit(X[var_name + \"_reduced\"])"
   ]
  },
  {
   "cell_type": "markdown",
   "metadata": {},
   "source": [
    "__Predict labels__"
   ]
  },
  {
   "cell_type": "code",
   "execution_count": 37,
   "metadata": {},
   "outputs": [
    {
     "data": {
      "text/plain": [
       "array([0, 0, 0, ..., 5, 5, 5])"
      ]
     },
     "execution_count": 37,
     "metadata": {},
     "output_type": "execute_result"
    }
   ],
   "source": [
    "X_labels = model.predict(X[var_name + \"_reduced\"])\n",
    "X_labels"
   ]
  },
  {
   "cell_type": "code",
   "execution_count": 38,
   "metadata": {},
   "outputs": [
    {
     "name": "stdout",
     "output_type": "stream",
     "text": [
      "0\n",
      "6\n"
     ]
    }
   ],
   "source": [
    "print(X_labels.min())\n",
    "print(X_labels.max())"
   ]
  },
  {
   "cell_type": "code",
   "execution_count": 39,
   "metadata": {},
   "outputs": [
    {
     "name": "stdout",
     "output_type": "stream",
     "text": [
      "<xarray.Dataset>\n",
      "Dimensions:               (feature: 52, feature_reduced: 12, sampling: 5741)\n",
      "Coordinates:\n",
      "  * feature               (feature) int64 1 2 3 4 5 6 7 ... 46 47 48 49 50 51 52\n",
      "  * sampling              (sampling) MultiIndex\n",
      "  - lat                   (sampling) float64 30.38 30.38 30.38 ... 46.12 46.12\n",
      "  - lon                   (sampling) float64 18.62 18.88 19.12 ... 38.62 42.88\n",
      "Dimensions without coordinates: feature_reduced\n",
      "Data variables:\n",
      "    analysed_sst          (sampling, feature) float32 291.3304 ... 275.3912\n",
      "    analysed_sst_scaled   (sampling, feature) float32 0.98910934 ... -4.903476\n",
      "    analysed_sst_reduced  (sampling, feature_reduced) float32 6.956739 ... 0.32258075\n",
      "    GMM_labels            (sampling) int64 0 0 0 0 4 4 0 0 2 ... 5 5 5 5 5 5 5 5\n"
     ]
    }
   ],
   "source": [
    "X = X.assign(variables={\"GMM_labels\":(('sampling'),X_labels)})\n",
    "print(X)\n",
    "#X"
   ]
  },
  {
   "cell_type": "markdown",
   "metadata": {},
   "source": [
    "Calculate other __stadistics__"
   ]
  },
  {
   "cell_type": "markdown",
   "metadata": {},
   "source": [
    "- Predict posterior probability of each component given the data"
   ]
  },
  {
   "cell_type": "code",
   "execution_count": 40,
   "metadata": {},
   "outputs": [
    {
     "data": {
      "text/plain": [
       "(5741, 7)"
      ]
     },
     "execution_count": 40,
     "metadata": {},
     "output_type": "execute_result"
    }
   ],
   "source": [
    "X_proba = model.predict_proba(X[var_name + \"_reduced\"])\n",
    "np.shape(X_proba)"
   ]
  },
  {
   "cell_type": "code",
   "execution_count": 41,
   "metadata": {},
   "outputs": [
    {
     "name": "stdout",
     "output_type": "stream",
     "text": [
      "<xarray.Dataset>\n",
      "Dimensions:               (feature: 52, feature_reduced: 12, k: 7, sampling: 5741)\n",
      "Coordinates:\n",
      "  * feature               (feature) int64 1 2 3 4 5 6 7 ... 46 47 48 49 50 51 52\n",
      "  * sampling              (sampling) MultiIndex\n",
      "  - lat                   (sampling) float64 30.38 30.38 30.38 ... 46.12 46.12\n",
      "  - lon                   (sampling) float64 18.62 18.88 19.12 ... 38.62 42.88\n",
      "Dimensions without coordinates: feature_reduced, k\n",
      "Data variables:\n",
      "    analysed_sst          (sampling, feature) float32 291.3304 ... 275.3912\n",
      "    analysed_sst_scaled   (sampling, feature) float32 0.98910934 ... -4.903476\n",
      "    analysed_sst_reduced  (sampling, feature_reduced) float32 6.956739 ... 0.32258075\n",
      "    GMM_labels            (sampling) int64 0 0 0 0 4 4 0 0 2 ... 5 5 5 5 5 5 5 5\n",
      "    GMM_post              (sampling, k) float64 0.9708 9.396e-15 ... 1.0 0.0\n"
     ]
    }
   ],
   "source": [
    "X = X.assign(variables={\"GMM_post\":(('sampling','k'),X_proba)})\n",
    "print(X)\n",
    "#X"
   ]
  },
  {
   "cell_type": "markdown",
   "metadata": {},
   "source": [
    "- Calculate quantiles"
   ]
  },
  {
   "cell_type": "code",
   "execution_count": 42,
   "metadata": {},
   "outputs": [],
   "source": [
    "#quantiles we want to calculate\n",
    "q = [0.05, 0.5, 0.95]"
   ]
  },
  {
   "cell_type": "code",
   "execution_count": 43,
   "metadata": {},
   "outputs": [],
   "source": [
    "m_quantiles = X[var_name].where(X['GMM_labels']==0, drop=True).quantile(q, dim='sampling')\n",
    "for yi in range(1,k):\n",
    "    m_quantiles = xr.concat((m_quantiles, X[var_name].where(X['GMM_labels']==yi, drop=True).quantile(q, dim='sampling')), dim='k')"
   ]
  },
  {
   "cell_type": "code",
   "execution_count": 44,
   "metadata": {},
   "outputs": [
    {
     "name": "stdout",
     "output_type": "stream",
     "text": [
      "<xarray.Dataset>\n",
      "Dimensions:               (feature: 52, feature_reduced: 12, k: 7, quantile: 3, sampling: 5741)\n",
      "Coordinates:\n",
      "  * feature               (feature) int64 1 2 3 4 5 6 7 ... 46 47 48 49 50 51 52\n",
      "  * sampling              (sampling) MultiIndex\n",
      "  - lat                   (sampling) float64 30.38 30.38 30.38 ... 46.12 46.12\n",
      "  - lon                   (sampling) float64 18.62 18.88 19.12 ... 38.62 42.88\n",
      "  * quantile              (quantile) float64 0.05 0.5 0.95\n",
      "Dimensions without coordinates: feature_reduced, k\n",
      "Data variables:\n",
      "    analysed_sst          (sampling, feature) float32 291.3304 ... 275.3912\n",
      "    analysed_sst_scaled   (sampling, feature) float32 0.98910934 ... -4.903476\n",
      "    analysed_sst_reduced  (sampling, feature_reduced) float32 6.956739 ... 0.32258075\n",
      "    GMM_labels            (sampling) int64 0 0 0 0 4 4 0 0 2 ... 5 5 5 5 5 5 5 5\n",
      "    GMM_post              (sampling, k) float64 0.9708 9.396e-15 ... 1.0 0.0\n",
      "    analysed_sst_Q        (k, quantile, feature) float64 289.3 288.7 ... 288.2\n"
     ]
    }
   ],
   "source": [
    "X = X.assign(variables={var_name + \"_Q\":(('k','quantile','feature'), m_quantiles)})\n",
    "X = X.assign_coords(coords={'quantile': q})\n",
    "print(X)"
   ]
  },
  {
   "cell_type": "markdown",
   "metadata": {},
   "source": [
    "- Calculate quantiles scaled variable"
   ]
  },
  {
   "cell_type": "code",
   "execution_count": 45,
   "metadata": {},
   "outputs": [],
   "source": [
    "#quantiles we want to calculate\n",
    "q = [0.05, 0.5, 0.95]"
   ]
  },
  {
   "cell_type": "code",
   "execution_count": 46,
   "metadata": {},
   "outputs": [],
   "source": [
    "m_quantiles = X[var_name].where(X['GMM_labels']==0, drop=True).quantile(q, dim='sampling')\n",
    "for yi in range(1,k):\n",
    "    m_quantiles = xr.concat((m_quantiles, X[var_name + '_scaled'].where(X['GMM_labels']==yi, drop=True).quantile(q, dim='sampling')), dim='k')"
   ]
  },
  {
   "cell_type": "code",
   "execution_count": 47,
   "metadata": {},
   "outputs": [
    {
     "name": "stdout",
     "output_type": "stream",
     "text": [
      "<xarray.Dataset>\n",
      "Dimensions:                (feature: 52, feature_reduced: 12, k: 7, quantile: 3, sampling: 5741)\n",
      "Coordinates:\n",
      "  * feature                (feature) int64 1 2 3 4 5 6 7 ... 47 48 49 50 51 52\n",
      "  * sampling               (sampling) MultiIndex\n",
      "  - lat                    (sampling) float64 30.38 30.38 30.38 ... 46.12 46.12\n",
      "  - lon                    (sampling) float64 18.62 18.88 19.12 ... 38.62 42.88\n",
      "  * quantile               (quantile) float64 0.05 0.5 0.95\n",
      "Dimensions without coordinates: feature_reduced, k\n",
      "Data variables:\n",
      "    analysed_sst           (sampling, feature) float32 291.3304 ... 275.3912\n",
      "    analysed_sst_scaled    (sampling, feature) float32 0.98910934 ... -4.903476\n",
      "    analysed_sst_reduced   (sampling, feature_reduced) float32 6.956739 ... 0.32258075\n",
      "    GMM_labels             (sampling) int64 0 0 0 0 4 4 0 0 ... 5 5 5 5 5 5 5 5\n",
      "    GMM_post               (sampling, k) float64 0.9708 9.396e-15 ... 1.0 0.0\n",
      "    analysed_sst_Q         (k, quantile, feature) float64 289.3 288.7 ... 288.2\n",
      "    analysed_sst_scaled_Q  (k, quantile, feature) float64 289.3 ... -0.3408\n"
     ]
    }
   ],
   "source": [
    "X = X.assign(variables={var_name + '_scaled' + \"_Q\":(('k','quantile','feature'), m_quantiles)})\n",
    "X = X.assign_coords(coords={'quantile': q})\n",
    "print(X)"
   ]
  },
  {
   "cell_type": "markdown",
   "metadata": {},
   "source": [
    "- Calculate robustness"
   ]
  },
  {
   "cell_type": "code",
   "execution_count": 48,
   "metadata": {},
   "outputs": [],
   "source": [
    "maxpost = X[\"GMM_post\"].max(dim=\"k\")\n",
    "K = len(X[\"GMM_labels\"])\n",
    "robust = (maxpost - 1. / K) * K / (K - 1.)\n",
    "\n",
    "Plist = [0, 0.33, 0.66, 0.9, .99, 1]\n",
    "rowl0 = ('Unlikely', 'As likely as not', 'Likely', 'Very Likely', 'Virtually certain')\n",
    "robust_id = np.digitize(robust, Plist) - 1"
   ]
  },
  {
   "cell_type": "code",
   "execution_count": 49,
   "metadata": {},
   "outputs": [
    {
     "name": "stdout",
     "output_type": "stream",
     "text": [
      "<xarray.Dataset>\n",
      "Dimensions:                (feature: 52, feature_reduced: 12, k: 7, quantile: 3, sampling: 5741)\n",
      "Coordinates:\n",
      "  * feature                (feature) int64 1 2 3 4 5 6 7 ... 47 48 49 50 51 52\n",
      "  * sampling               (sampling) MultiIndex\n",
      "  - lat                    (sampling) float64 30.38 30.38 30.38 ... 46.12 46.12\n",
      "  - lon                    (sampling) float64 18.62 18.88 19.12 ... 38.62 42.88\n",
      "  * quantile               (quantile) float64 0.05 0.5 0.95\n",
      "Dimensions without coordinates: feature_reduced, k\n",
      "Data variables:\n",
      "    analysed_sst           (sampling, feature) float32 291.3304 ... 275.3912\n",
      "    analysed_sst_scaled    (sampling, feature) float32 0.98910934 ... -4.903476\n",
      "    analysed_sst_reduced   (sampling, feature_reduced) float32 6.956739 ... 0.32258075\n",
      "    GMM_labels             (sampling) int64 0 0 0 0 4 4 0 0 ... 5 5 5 5 5 5 5 5\n",
      "    GMM_post               (sampling, k) float64 0.9708 9.396e-15 ... 1.0 0.0\n",
      "    analysed_sst_Q         (k, quantile, feature) float64 289.3 288.7 ... 288.2\n",
      "    analysed_sst_scaled_Q  (k, quantile, feature) float64 289.3 ... -0.3408\n",
      "    GMM_robustness         (sampling) float64 0.9707 0.9821 0.9249 ... 1.0 1.0\n",
      "    GMM_robustness_cat     (sampling) int64 3 3 3 2 3 4 2 2 ... 5 5 5 5 5 5 5 5\n"
     ]
    }
   ],
   "source": [
    "X = X.assign(variables={\"GMM_robustness\":(('sampling'), robust), \"GMM_robustness_cat\":(('sampling'), robust_id)})\n",
    "X[\"GMM_robustness_cat\"].attrs['legend'] = rowl0\n",
    "print(X)\n",
    "#X"
   ]
  },
  {
   "cell_type": "markdown",
   "metadata": {},
   "source": [
    "__Unstack dataset__"
   ]
  },
  {
   "cell_type": "code",
   "execution_count": 50,
   "metadata": {},
   "outputs": [
    {
     "name": "stdout",
     "output_type": "stream",
     "text": [
      "<xarray.Dataset>\n",
      "Dimensions:                (feature: 52, feature_reduced: 12, k: 7, lat: 65, lon: 192, quantile: 3)\n",
      "Coordinates:\n",
      "  * lat                    (lat) float64 30.12 30.38 30.62 ... 45.62 45.88 46.12\n",
      "  * lon                    (lon) float64 -4.875 -4.625 -4.375 ... 42.62 42.88\n",
      "  * feature                (feature) int64 1 2 3 4 5 6 7 ... 47 48 49 50 51 52\n",
      "  * quantile               (quantile) float64 0.05 0.5 0.95\n",
      "Dimensions without coordinates: feature_reduced, k\n",
      "Data variables:\n",
      "    analysed_sst           (feature, lat, lon) float32 nan nan ... nan 275.3912\n",
      "    analysed_sst_scaled    (feature, lat, lon) float32 nan nan ... nan -4.903476\n",
      "    analysed_sst_reduced   (feature_reduced, lat, lon) float32 nan ... 0.32258075\n",
      "    GMM_labels             (lat, lon) float64 nan nan nan nan ... nan nan 5.0\n",
      "    GMM_post               (k, lat, lon) float64 nan nan nan nan ... nan nan 0.0\n",
      "    analysed_sst_Q         (k, quantile, feature) float64 289.3 288.7 ... 288.2\n",
      "    analysed_sst_scaled_Q  (k, quantile, feature) float64 289.3 ... -0.3408\n",
      "    GMM_robustness         (lat, lon) float64 nan nan nan nan ... nan nan 1.0\n",
      "    GMM_robustness_cat     (lat, lon) float64 nan nan nan nan ... nan nan 5.0\n"
     ]
    }
   ],
   "source": [
    "ds_labels = X.unstack('sampling')\n",
    "#ds_labels = ds_labels.sortby(['lat','lon'])\n",
    "# same lat and lon values in mask and in results\n",
    "mask = stacked_mask.unstack()\n",
    "ds_labels = ds_labels.reindex_like(mask)\n",
    "print(ds_labels)\n",
    "#ds_labels"
   ]
  },
  {
   "cell_type": "markdown",
   "metadata": {},
   "source": [
    "## Preprocesing plots\n",
    "***"
   ]
  },
  {
   "cell_type": "markdown",
   "metadata": {},
   "source": [
    "__Scatter plot__"
   ]
  },
  {
   "cell_type": "code",
   "execution_count": 51,
   "metadata": {},
   "outputs": [],
   "source": [
    "#convert colormap to pallete\n",
    "import matplotlib.cm\n",
    "cmap=plt.cm.get_cmap('Spectral', k)\n",
    "matplotlib.cm.register_cmap(\"mycolormap\", cmap)\n",
    "cpal = sns.color_palette(\"mycolormap\", n_colors=k)"
   ]
  },
  {
   "cell_type": "code",
   "execution_count": 52,
   "metadata": {},
   "outputs": [
    {
     "data": {
      "text/plain": [
       "<seaborn.axisgrid.PairGrid at 0x7f67b54b8790>"
      ]
     },
     "execution_count": 52,
     "metadata": {},
     "output_type": "execute_result"
    },
    {
     "data": {
      "image/png": "[encoded data removed]",
      "text/plain": [
       "<Figure size 405.68x360 with 6 Axes>"
      ]
     },
     "metadata": {
      "needs_background": "light"
     },
     "output_type": "display_data"
    }
   ],
   "source": [
    "#convert to dataframe\n",
    "df = ds_labels['analysed_sst_reduced'].to_dataframe(name='analysed_sst_reduced').unstack(0)\n",
    "#select first and second components\n",
    "df = df.take([0, 1], axis=1)\n",
    "#add labels\n",
    "df['labels'] = ds_labels['GMM_labels'].stack({'sampling': sampling_dims})\n",
    "# do not use NaNs\n",
    "df = df.dropna()\n",
    "\n",
    "# random selection of points to make clear plots\n",
    "n=1000\n",
    "random_rows = np.random.choice(range(df.shape[0]), np.min((n, df.shape[0])), replace=False)\n",
    "df = df.iloc[random_rows]\n",
    "#format to simple dataframe\n",
    "df = df.reset_index(drop=True)\n",
    "df.columns = df.columns.droplevel(0)\n",
    "df = df.rename_axis(None, axis=1)\n",
    "df = df.rename(columns={0: \"feature_reduced_0\", 1: \"feature_reduced_1\", '': \"labels\"})\n",
    "\n",
    "#defaults = {'height':2.5, 'aspect':1, 'hue':'labels', 'palette': m.plot.cmap(palette=True),\n",
    "#                    'vars':m._xlabel, 'despine':False}\n",
    "defaults = {'height':2.5, 'aspect':1, 'hue':'labels', 'despine':False, 'palette': cpal}\n",
    "g = sns.PairGrid(df, **defaults)\n",
    "\n",
    "g.map_diag(sns.histplot, edgecolor=None, alpha=0.75)\n",
    "g = g.map_upper(plt.scatter, s=3)\n",
    "\n",
    "g.add_legend()"
   ]
  },
  {
   "cell_type": "markdown",
   "metadata": {},
   "source": [
    "__BIC__"
   ]
  },
  {
   "cell_type": "code",
   "execution_count": null,
   "metadata": {},
   "outputs": [],
   "source": [
    "corr_dist = 70 # correlation distance in km\n",
    "Nrun = 10 # number of runs for each k\n",
    "NK = 20 # max number of classes to explore"
   ]
  },
  {
   "cell_type": "code",
   "execution_count": null,
   "metadata": {},
   "outputs": [],
   "source": [
    "BIC, BIC_min = BIC_calculation(X=X, coords_dict={'latitude':'lat', 'longitude':'lon'}, \n",
    "                               corr_dist=corr_dist,\n",
    "                               feature_name='feature_reduced', var_name= var_name + \"_reduced\",\n",
    "                               Nrun=Nrun, NK=NK)"
   ]
  },
  {
   "cell_type": "code",
   "execution_count": null,
   "metadata": {},
   "outputs": [],
   "source": [
    "plot_BIC(BIC, NK=NK)"
   ]
  },
  {
   "cell_type": "markdown",
   "metadata": {},
   "source": [
    "## Plot results\n",
    "***"
   ]
  },
  {
   "cell_type": "code",
   "execution_count": null,
   "metadata": {},
   "outputs": [],
   "source": [
    "model"
   ]
  },
  {
   "cell_type": "code",
   "execution_count": null,
   "metadata": {},
   "outputs": [],
   "source": [
    "ds_labels"
   ]
  },
  {
   "cell_type": "code",
   "execution_count": null,
   "metadata": {},
   "outputs": [],
   "source": [
    "P = Plotter_OR(ds_labels, model, coords_dict={'latitude':'lat', 'longitude':'lon', 'feature': 'feature'})"
   ]
  },
  {
   "cell_type": "markdown",
   "metadata": {},
   "source": [
    "#### __1) Quantiles time series__"
   ]
  },
  {
   "cell_type": "markdown",
   "metadata": {},
   "source": [
    "Median and other quantiles representation"
   ]
  },
  {
   "cell_type": "code",
   "execution_count": null,
   "metadata": {},
   "outputs": [],
   "source": [
    "P.tseries_structure(q_variable = var_name + '_Q', start_month=6, ylabel='Temperature (K)')\n",
    "#P.save_BlueCloud('figures/vertical_struc_EX.png')"
   ]
  },
  {
   "cell_type": "markdown",
   "metadata": {},
   "source": [
    "All median time series in the same plot "
   ]
  },
  {
   "cell_type": "code",
   "execution_count": null,
   "metadata": {},
   "outputs": [],
   "source": [
    "P.tseries_structure_comp(q_variable = var_name + '_Q', plot_q= 'all', ylabel='Temperature (K)', start_month=6)\n",
    "#P.save_BlueCloud('figures/vertical_struc_comp_EX.png')"
   ]
  },
  {
   "cell_type": "markdown",
   "metadata": {},
   "source": [
    "Quantiles when temperature is scaled (__how we can interpret this figure?__)"
   ]
  },
  {
   "cell_type": "code",
   "execution_count": null,
   "metadata": {},
   "outputs": [],
   "source": [
    "P.tseries_structure(q_variable = var_name + '_scaled' + '_Q', start_month=6, ylabel='Temperature (K)')\n",
    "#P.save_BlueCloud('figures/vertical_struc_EX.png')"
   ]
  },
  {
   "cell_type": "markdown",
   "metadata": {},
   "source": [
    "#### __2) Spatial distribution of classes__"
   ]
  },
  {
   "cell_type": "code",
   "execution_count": null,
   "metadata": {},
   "outputs": [],
   "source": [
    "P.spatial_distribution()\n",
    "#P.save_BlueCloud('figures/spatial_distr_EX.png')"
   ]
  },
  {
   "cell_type": "markdown",
   "metadata": {},
   "source": [
    "#### __3) Robustness__"
   ]
  },
  {
   "cell_type": "code",
   "execution_count": null,
   "metadata": {},
   "outputs": [],
   "source": [
    "from cartopy.mpl.gridliner import LONGITUDE_FORMATTER, LATITUDE_FORMATTER\n",
    "import matplotlib.ticker as mticker\n",
    "import pyxpcm\n",
    "###########################################################\n",
    "from pyxpcm.models import pcm\n",
    "z = np.arange(0,30)\n",
    "pcm_features = {var_name: z}\n",
    "m = pcm(K=k, features=pcm_features)\n",
    "cmap = m.plot.cmap(usage='robustness')\n",
    "###########################################################\n",
    "\n",
    "extent = np.array([min(ds_labels['lon']), max(ds_labels['lon']), min(ds_labels['lat']), max(ds_labels['lat'])] + np.array([-0.1, +0.1, -0.1, +0.1]))\n",
    "fig, ax = plt.subplots(figsize=(10, 20), nrows=k, ncols=1, facecolor='w', edgecolor='k', dpi=120, subplot_kw={'projection': ccrs.PlateCarree(), 'extent': extent})\n",
    "#cmap=plt.cm.get_cmap('Spectral', k)\n",
    "land_feature = cfeature.NaturalEarthFeature(category='physical', name='land', scale='50m', facecolor=[0.9375, 0.9375, 0.859375])\n",
    "#ticks\n",
    "dx=4\n",
    "dy=4\n",
    "\n",
    "for ik in range(k):\n",
    "    ax[ik].add_feature(land_feature, edgecolor='black')\n",
    "    ax[ik].set_extent(extent, crs=ccrs.PlateCarree())\n",
    "    sc = ax[ik].pcolormesh(ds_labels['lon'], ds_labels['lat'], ds_labels['GMM_robustness_cat'].where(ds_labels['GMM_labels'] == ik),\n",
    "                            cmap=cmap, transform=ccrs.PlateCarree(), vmin=0, vmax=5)\n",
    "    ax[ik].set_title('k=%i' % ik, color=cmap(ik), fontweight='bold')    \n",
    "    defaults = {'linewidth':.5, 'color':'gray', 'alpha':0.5, 'linestyle':'--'}\n",
    "    gl=ax[ik].gridlines(crs=ax[ik].projection, draw_labels=True, **defaults)\n",
    "    gl.xlocator = mticker.FixedLocator(np.arange(-180, 180+1, dx))\n",
    "    gl.ylocator = mticker.FixedLocator(np.arange(-90, 90+1, dy))\n",
    "    gl.xformatter = LONGITUDE_FORMATTER\n",
    "    gl.yformatter = LATITUDE_FORMATTER\n",
    "    gl.xlabels_top = False\n",
    "    gl.xlabel_style = {'fontsize':5}\n",
    "    gl.ylabels_right = False\n",
    "    gl.ylabel_style = {'fontsize':5}\n",
    "    \n",
    "rowl0 = ds_labels['GMM_robustness_cat'].attrs['legend']\n",
    "cl = plt.colorbar(sc, ax=ax, fraction=0.02, pad=0.05)\n",
    "cl.set_ticks([0,1,2,3,4,5])\n",
    "cl.set_ticklabels([0,0.33,0.66,0.9,0.99,1])\n",
    "for (i, j) in zip(np.arange(0.5, 5, 1), rowl0):\n",
    "        cl.ax.text(6, i, j, ha='left', va='center', fontsize=8)\n"
   ]
  },
  {
   "cell_type": "markdown",
   "metadata": {},
   "source": [
    "#### __4) Classes pie chart__"
   ]
  },
  {
   "cell_type": "code",
   "execution_count": null,
   "metadata": {},
   "outputs": [],
   "source": [
    "P.pie_classes()"
   ]
  },
  {
   "cell_type": "code",
   "execution_count": null,
   "metadata": {},
   "outputs": [],
   "source": []
  }
 ],
 "metadata": {
  "kernelspec": {
   "display_name": "Python 3",
   "language": "python",
   "name": "python3"
  },
  "language_info": {
   "codemirror_mode": {
    "name": "ipython",
    "version": 3
   },
   "file_extension": ".py",
   "mimetype": "text/x-python",
   "name": "python",
   "nbconvert_exporter": "python",
   "pygments_lexer": "ipython3",
   "version": "3.7.6"
  }
 },
 "nbformat": 4,
 "nbformat_minor": 4
}
