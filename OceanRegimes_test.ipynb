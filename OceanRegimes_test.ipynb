{
 "cells": [
  {
   "cell_type": "markdown",
   "metadata": {},
   "source": [
    "# __Ocean regimes indicator__"
   ]
  },
  {
   "cell_type": "markdown",
   "metadata": {},
   "source": [
    "Apply a Gaussian Mixtures Model to a dataset of time series"
   ]
  },
  {
   "cell_type": "markdown",
   "metadata": {},
   "source": [
    "***\n",
    "ds : initial dataset (lat, lon, week)\n",
    "\n",
    "X : staked dataset (sampling, week, week_reduced)\n",
    "\n",
    "ds_labels: unstacked final dataset (lat, lon, week)\n",
    "***"
   ]
  },
  {
   "cell_type": "code",
   "execution_count": 1,
   "metadata": {},
   "outputs": [],
   "source": [
    "import xarray as xr\n",
    "import numpy as np\n",
    "import pandas as pd\n",
    "\n",
    "import Plotter_OR\n",
    "from Plotter_OR import Plotter_OR \n",
    "\n",
    "from BIC_calculation_OR import *"
   ]
  },
  {
   "cell_type": "markdown",
   "metadata": {},
   "source": [
    "## Load dataset\n",
    "***"
   ]
  },
  {
   "cell_type": "markdown",
   "metadata": {},
   "source": [
    "- One year of SST data in the Mediterranean Sea:  SST_GLO_SST_L4_NRT_OBSERVATIONS_010_014 product"
   ]
  },
  {
   "cell_type": "code",
   "execution_count": 2,
   "metadata": {},
   "outputs": [],
   "source": [
    "file_path = 'datasets/METOFFICE-GLO-SST-L4-NRT-OBS-SKIN-DIU-FV01.1_1607013925530.nc'"
   ]
  },
  {
   "cell_type": "markdown",
   "metadata": {},
   "source": [
    "- One year of SST data in the North Atlantic:  SST_GLO_SST_L4_NRT_OBSERVATIONS_010_014 product"
   ]
  },
  {
   "cell_type": "code",
   "execution_count": 3,
   "metadata": {},
   "outputs": [],
   "source": [
    "#file_path = 'datasets/METOFFICE-GLO-SST-L4-NRT-OBS-SKIN-DIU-FV01.1_1608215256580.nc'"
   ]
  },
  {
   "cell_type": "markdown",
   "metadata": {},
   "source": [
    "- One year of Ocean Color data in the Mediterranean Sea:  OCEANCOLOUR_GLO_CHL_L4_REP_OBSERVATIONS_009_082 product"
   ]
  },
  {
   "cell_type": "code",
   "execution_count": 4,
   "metadata": {},
   "outputs": [],
   "source": [
    "#file_path = 'datasets/dataset-oc-glo-bio-multi-l4-chl_interpolated_4km_daily-rep_1610026811620.nc'"
   ]
  },
  {
   "cell_type": "markdown",
   "metadata": {},
   "source": [
    "Open dataset"
   ]
  },
  {
   "cell_type": "code",
   "execution_count": 5,
   "metadata": {},
   "outputs": [
    {
     "name": "stdout",
     "output_type": "stream",
     "text": [
      "<xarray.Dataset>\n",
      "Dimensions:                                        (lat: 65, lon: 192, time: 8760)\n",
      "Coordinates:\n",
      "  * time                                           (time) datetime64[ns] 2019-01-01T00:30:00 ... 2019-12-31T23:30:00\n",
      "  * lat                                            (lat) float32 30.125 ... 46.125\n",
      "  * lon                                            (lon) float32 -4.875 ... 42.875\n",
      "Data variables:\n",
      "    sea_surface_warm_layer_temperature_difference  (time, lat, lon) float32 ...\n",
      "    sea_surface_cool_skin_temperature_difference   (time, lat, lon) float32 ...\n",
      "    analysed_sst                                   (time, lat, lon) float32 ...\n",
      "    mask                                           (time, lat, lon) float32 ...\n",
      "Attributes:\n",
      "    Conventions:                CF-1.4\n",
      "    title:                      Global Diurnal Skin SST Analysis, L4 OSTIA, 0...\n",
      "    summary:                    A merged, multi-sensor L4 skin SST product\n",
      "    references:                 While J., Martin M.; 2013;  Development of a ...\n",
      "    institution:                UKMO\n",
      "    history:                    See source and creation_date attributees\n",
      "    comment:                    WARNING Some applications are unable to prope...\n",
      "    license:                    These data are available free of charge under...\n",
      "    id:                         UKMO-L4LRskin_GLOB-OSTIAdiu\n",
      "    naming_authority:           org.ghrsst\n",
      "    product_version:            1.2\n",
      "    uuid:                       dd7afcc1-acf0-4a0f-9407-19d49b470b7b\n",
      "    gds_version_id:             2.4\n",
      "    netcdf_version_id:          4.1\n",
      "    date_created:               20201203T081437Z\n",
      "    start_time:                 20201202T000000Z\n",
      "    time_coverage_start:        20201202T000000Z\n",
      "    stop_time:                  20201202T235959Z\n",
      "    time_coverage_end:          20201202T235959Z\n",
      "    file_quality_level:         3\n",
      "    source:                     NAVO-L2P-AVHRR19_G, OSPO-L2P-GOES15, SEVIRI_S...\n",
      "    platform:                   NOAA-19, GOES15, MSG2, MTSAT2\n",
      "    sensor:                     AVHRR, Imager, SEVIRI, Imager\n",
      "    Metadata_Conventions:       Unidata Observation Dataset v1.0\n",
      "    metadata_link:              Not yet available\n",
      "    keywords:                   Oceans > Ocean Temperature > Sea Surface Temp...\n",
      "    keywords_vocabulary:        NASA Global Change Master Directory (GCMD) Sc...\n",
      "    standard_name_vocabulary:   NetCDF Climate and Forecast (CF) Metadata Con...\n",
      "    westernmost_longitude:      -180.0\n",
      "    easternmost_longitude:      180.0\n",
      "    southernmost_latitude:      -90.0\n",
      "    northernmost_latitude:      90.0\n",
      "    spatial_resolution:         0.25 degree\n",
      "    geospatial_lat_units:       degrees_north\n",
      "    geospatial_lat_resolution:  0.25\n",
      "    geospatial_lon_units:       degrees_east\n",
      "    geospatial_lon_resolution:  0.25\n",
      "    acknowledgment:             Please acknowledge the use of these data with...\n",
      "    creator_name:               Met Office as part of CMEMS\n",
      "    creator_email:              servicedesk.cmems@mercator-ocean.eu\n",
      "    creator_url:                http://marine.copernicus.eu/\n",
      "    project:                    Group for High Resolution Sea Surface Tempera...\n",
      "    publisher_name:             GHRSST Project Office\n",
      "    publisher_url:              http://www.ghrsst.org\n",
      "    publisher_email:            ghrsst-po@nceo.ac.uk\n",
      "    processing_level:           L4\n",
      "    cdm_data_type:              grid\n",
      "    History:                    Translated to CF-1.0 Conventions by Netcdf-Ja...\n",
      "    geospatial_lat_min:         30.125\n",
      "    geospatial_lat_max:         46.125\n",
      "    geospatial_lon_min:         -4.875\n",
      "    geospatial_lon_max:         42.875\n"
     ]
    }
   ],
   "source": [
    "ds = xr.open_dataset(file_path)\n",
    "print(ds)\n",
    "#ds"
   ]
  },
  {
   "cell_type": "code",
   "execution_count": 6,
   "metadata": {},
   "outputs": [],
   "source": [
    "#important to identify time variable\n",
    "#ds['time'] = ds.indexes['time'].to_datetimeindex()\n",
    "var_name = 'analysed_sst'"
   ]
  },
  {
   "cell_type": "markdown",
   "metadata": {},
   "source": [
    "__Quick plot__"
   ]
  },
  {
   "cell_type": "code",
   "execution_count": 7,
   "metadata": {},
   "outputs": [
    {
     "data": {
      "image/png": "[encoded data removed]",
      "text/plain": [
       "<Figure size 432x288 with 2 Axes>"
      ]
     },
     "metadata": {
      "needs_background": "light"
     },
     "output_type": "display_data"
    }
   ],
   "source": [
    "ds[var_name].isel(time=11).plot();"
   ]
  },
  {
   "cell_type": "code",
   "execution_count": 8,
   "metadata": {},
   "outputs": [
    {
     "data": {
      "image/png": "[encoded data removed]",
      "text/plain": [
       "<Figure size 432x288 with 1 Axes>"
      ]
     },
     "metadata": {
      "needs_background": "light"
     },
     "output_type": "display_data"
    }
   ],
   "source": [
    "bins = np.arange(int(ds[var_name].min().values), int(ds[var_name].max().values))\n",
    "ds[var_name].plot.hist(bins=bins);"
   ]
  },
  {
   "cell_type": "markdown",
   "metadata": {},
   "source": [
    "## Preprocessing\n",
    "***"
   ]
  },
  {
   "cell_type": "markdown",
   "metadata": {},
   "source": [
    "#### __1) Weekly mean for each pixel__"
   ]
  },
  {
   "cell_type": "markdown",
   "metadata": {},
   "source": [
    "Weekly mean is useful for seasonal trends (lisser le signal): should it be an option?"
   ]
  },
  {
   "cell_type": "code",
   "execution_count": 9,
   "metadata": {},
   "outputs": [
    {
     "name": "stderr",
     "output_type": "stream",
     "text": [
      "/export/home1/agarciaj/anaconda3/lib/python3.7/site-packages/xarray/core/accessor_dt.py:45: FutureWarning: Series.dt.weekofyear and Series.dt.week have been deprecated.  Please use Series.dt.isocalendar().week instead.\n",
      "  field_values = getattr(values_as_series.dt, name).values\n",
      "/export/home1/agarciaj/anaconda3/lib/python3.7/site-packages/xarray/core/nanops.py:142: RuntimeWarning: Mean of empty slice\n",
      "  return np.nanmean(a, axis=axis, dtype=dtype)\n"
     ]
    },
    {
     "name": "stdout",
     "output_type": "stream",
     "text": [
      "<xarray.Dataset>\n",
      "Dimensions:                                        (lat: 65, lon: 192, week: 52)\n",
      "Coordinates:\n",
      "  * lon                                            (lon) float32 -4.875 ... 42.875\n",
      "  * lat                                            (lat) float32 30.125 ... 46.125\n",
      "  * week                                           (week) int64 1 2 3 ... 51 52\n",
      "Data variables:\n",
      "    sea_surface_warm_layer_temperature_difference  (week, lat, lon) float32 nan ... 0.0\n",
      "    sea_surface_cool_skin_temperature_difference   (week, lat, lon) float32 nan ... 0.0\n",
      "    analysed_sst                                   (week, lat, lon) float32 nan ... 275.3912\n",
      "    mask                                           (week, lat, lon) float32 2.0 ... 1.0\n"
     ]
    }
   ],
   "source": [
    "X = ds.groupby(\"time.week\").mean()\n",
    "print(X)"
   ]
  },
  {
   "cell_type": "markdown",
   "metadata": {},
   "source": [
    "Plot histogram in time: in plotter class?"
   ]
  },
  {
   "cell_type": "code",
   "execution_count": 10,
   "metadata": {},
   "outputs": [
    {
     "data": {
      "text/plain": [
       "Text(0, 0.5, 'Counts')"
      ]
     },
     "execution_count": 10,
     "metadata": {},
     "output_type": "execute_result"
    },
    {
     "data": {
      "image/png": "[encoded data removed]",
      "text/plain": [
       "<Figure size 864x720 with 2 Axes>"
      ]
     },
     "metadata": {
      "needs_background": "light"
     },
     "output_type": "display_data"
    }
   ],
   "source": [
    "bins = np.arange(int(X[var_name].min().values), int(X[var_name].max().values),0.5)\n",
    "#bins = np.arange(0, 0.3, 0.002)\n",
    "histo_2d = [] \n",
    "for iweek in range(52):\n",
    "#for iweek in range(12):\n",
    "    hist_values, bin_edges = np.histogram(X[var_name].isel(week=iweek).values, bins=bins)\n",
    "    #hist_values, bin_edges = np.histogram(ds[var_name].isel(month=iweek).values, bins=bins)\n",
    "    histo_2d.append(hist_values)\n",
    "    \n",
    "fig, ax = plt.subplots(figsize=(12,10))\n",
    "\n",
    "#plt.pcolormesh(bins, ds.month.values, histo_2d, cmap='Reds', edgecolors='black')\n",
    "plt.pcolormesh(bins, X.week.values, histo_2d, cmap='Reds', edgecolors='black')\n",
    "cbar = plt.colorbar()\n",
    "ax.set_xlabel('Temperature (K)')\n",
    "#ax.set_xlabel('Chlorophyll-a concentration (milligram m-3)')\n",
    "ax.set_ylabel('Weeks')\n",
    "cbar.ax.set_ylabel('Counts')"
   ]
  },
  {
   "cell_type": "markdown",
   "metadata": {},
   "source": [
    "#### __2) Reduce lat lon dimensions to sampling dimension__"
   ]
  },
  {
   "cell_type": "code",
   "execution_count": 11,
   "metadata": {},
   "outputs": [
    {
     "data": {
      "text/plain": [
       "['lat', 'lon']"
      ]
     },
     "execution_count": 11,
     "metadata": {},
     "output_type": "execute_result"
    }
   ],
   "source": [
    "sampling_dims = list(X.dims)\n",
    "sampling_dims.remove('week')\n",
    "sampling_dims"
   ]
  },
  {
   "cell_type": "code",
   "execution_count": 12,
   "metadata": {},
   "outputs": [
    {
     "name": "stdout",
     "output_type": "stream",
     "text": [
      "<xarray.Dataset>\n",
      "Dimensions:                                        (feature: 52, sampling: 12480)\n",
      "Coordinates:\n",
      "  * feature                                        (feature) int64 1 2 ... 51 52\n",
      "  * sampling                                       (sampling) MultiIndex\n",
      "  - lat                                            (sampling) float64 30.12 ... 46.12\n",
      "  - lon                                            (sampling) float64 -4.875 ... 42.88\n",
      "Data variables:\n",
      "    sea_surface_warm_layer_temperature_difference  (feature, sampling) float32 nan ... 0.0\n",
      "    sea_surface_cool_skin_temperature_difference   (feature, sampling) float32 nan ... 0.0\n",
      "    analysed_sst                                   (feature, sampling) float32 nan ... 275.3912\n",
      "    mask                                           (feature, sampling) float32 2.0 ... 1.0\n"
     ]
    }
   ],
   "source": [
    "X = X.stack({'sampling': sampling_dims})\n",
    "X = X.rename_dims({'week': 'feature'})\n",
    "X = X.rename({'week': 'feature'})\n",
    "print(X)\n",
    "#X"
   ]
  },
  {
   "cell_type": "markdown",
   "metadata": {},
   "source": [
    "#### __3) Delate all NaN time series using mask__"
   ]
  },
  {
   "cell_type": "markdown",
   "metadata": {},
   "source": [
    "Create mask from data"
   ]
  },
  {
   "cell_type": "code",
   "execution_count": 13,
   "metadata": {},
   "outputs": [
    {
     "name": "stdout",
     "output_type": "stream",
     "text": [
      "<xarray.Dataset>\n",
      "Dimensions:                                        (feature: 52, sampling: 12480)\n",
      "Coordinates:\n",
      "  * feature                                        (feature) int64 1 2 ... 51 52\n",
      "  * sampling                                       (sampling) MultiIndex\n",
      "  - lat                                            (sampling) float64 30.12 ... 46.12\n",
      "  - lon                                            (sampling) float64 -4.875 ... 42.88\n",
      "Data variables:\n",
      "    sea_surface_warm_layer_temperature_difference  (feature, sampling) float32 nan ... 0.0\n",
      "    sea_surface_cool_skin_temperature_difference   (feature, sampling) float32 nan ... 0.0\n",
      "    analysed_sst                                   (feature, sampling) float32 nan ... 275.3912\n",
      "    mask                                           (feature, sampling) float32 2.0 ... 1.0\n",
      "    mask_d                                         (feature, sampling) bool False ... True\n"
     ]
    }
   ],
   "source": [
    "mask_d = X[var_name].notnull()\n",
    "X = X.assign(variables={\"mask_d\":(('feature','sampling'), mask_d)})\n",
    "print(X)\n",
    "#X"
   ]
  },
  {
   "cell_type": "markdown",
   "metadata": {},
   "source": [
    "Plot created mask"
   ]
  },
  {
   "cell_type": "code",
   "execution_count": 14,
   "metadata": {},
   "outputs": [
    {
     "data": {
      "image/png": "[encoded data removed]",
      "text/plain": [
       "<Figure size 432x288 with 2 Axes>"
      ]
     },
     "metadata": {
      "needs_background": "light"
     },
     "output_type": "display_data"
    }
   ],
   "source": [
    "mask_plot = X['mask_d'].unstack('sampling')\n",
    "#.sortby(['lat','lon'])\n",
    "mask_plot.isel(feature=11).plot();"
   ]
  },
  {
   "cell_type": "markdown",
   "metadata": {},
   "source": [
    "Apply mask "
   ]
  },
  {
   "cell_type": "code",
   "execution_count": 15,
   "metadata": {},
   "outputs": [
    {
     "name": "stdout",
     "output_type": "stream",
     "text": [
      "<xarray.DataArray 'mask_d' (feature: 52, sampling: 12480)>\n",
      "array([[False, False, False, ..., False, False,  True],\n",
      "       [False, False, False, ..., False, False,  True],\n",
      "       [False, False, False, ..., False, False,  True],\n",
      "       ...,\n",
      "       [False, False, False, ..., False, False,  True],\n",
      "       [False, False, False, ..., False, False,  True],\n",
      "       [False, False, False, ..., False, False,  True]])\n",
      "Coordinates:\n",
      "  * feature   (feature) int64 1 2 3 4 5 6 7 8 9 ... 44 45 46 47 48 49 50 51 52\n",
      "  * sampling  (sampling) MultiIndex\n",
      "  - lat       (sampling) float64 30.12 30.12 30.12 30.12 ... 46.12 46.12 46.12\n",
      "  - lon       (sampling) float64 -4.875 -4.625 -4.375 ... 42.38 42.62 42.88\n"
     ]
    }
   ],
   "source": [
    "stacked_mask = X['mask_d']\n",
    "print(stacked_mask)\n",
    "#stacked_mask"
   ]
  },
  {
   "cell_type": "code",
   "execution_count": 16,
   "metadata": {},
   "outputs": [
    {
     "name": "stdout",
     "output_type": "stream",
     "text": [
      "<xarray.Dataset>\n",
      "Dimensions:       (feature: 52, sampling: 5741)\n",
      "Coordinates:\n",
      "  * feature       (feature) int64 1 2 3 4 5 6 7 8 9 ... 45 46 47 48 49 50 51 52\n",
      "  * sampling      (sampling) MultiIndex\n",
      "  - lat           (sampling) float64 30.38 30.38 30.38 ... 46.12 46.12 46.12\n",
      "  - lon           (sampling) float64 18.62 18.88 19.12 ... 38.38 38.62 42.88\n",
      "Data variables:\n",
      "    analysed_sst  (feature, sampling) float32 291.3304 291.29144 ... 275.3912\n"
     ]
    }
   ],
   "source": [
    "X = X[var_name].where(stacked_mask == True, drop=True).to_dataset()\n",
    "print(X)\n",
    "#X"
   ]
  },
  {
   "cell_type": "markdown",
   "metadata": {},
   "source": [
    "Recover the dataset (unravel)"
   ]
  },
  {
   "cell_type": "code",
   "execution_count": 17,
   "metadata": {},
   "outputs": [
    {
     "name": "stdout",
     "output_type": "stream",
     "text": [
      "(52, 64, 191)\n",
      "(52, 65, 192)\n",
      "<xarray.Dataset>\n",
      "Dimensions:       (feature: 52, lat: 65, lon: 192)\n",
      "Coordinates:\n",
      "  * lat           (lat) float64 30.12 30.38 30.62 30.88 ... 45.62 45.88 46.12\n",
      "  * lon           (lon) float64 -4.875 -4.625 -4.375 ... 42.38 42.62 42.88\n",
      "  * feature       (feature) int64 1 2 3 4 5 6 7 8 9 ... 45 46 47 48 49 50 51 52\n",
      "Data variables:\n",
      "    analysed_sst  (feature, lat, lon) float32 nan nan nan ... nan nan 275.3912\n"
     ]
    }
   ],
   "source": [
    "X_unstacked = X[var_name].unstack('sampling').to_dataset(name = var_name)\n",
    "X_unstacked = X_unstacked.sortby(['lat','lon'])\n",
    "print(np.shape(X_unstacked[var_name]))\n",
    "# same lat and lon values in mask and in results\n",
    "mask = stacked_mask.unstack()\n",
    "X_unstacked = X_unstacked.reindex_like(mask)\n",
    "print(np.shape(X_unstacked[var_name]))\n",
    "print(X_unstacked) "
   ]
  },
  {
   "cell_type": "code",
   "execution_count": 18,
   "metadata": {},
   "outputs": [
    {
     "data": {
      "image/png": "[encoded data removed]",
      "text/plain": [
       "<Figure size 432x288 with 2 Axes>"
      ]
     },
     "metadata": {
      "needs_background": "light"
     },
     "output_type": "display_data"
    }
   ],
   "source": [
    "X_unstacked[var_name].isel(feature=11).plot();"
   ]
  },
  {
   "cell_type": "markdown",
   "metadata": {},
   "source": [
    "__There is any NaN in the dataset?__"
   ]
  },
  {
   "cell_type": "code",
   "execution_count": 19,
   "metadata": {},
   "outputs": [
    {
     "data": {
      "text/plain": [
       "False"
      ]
     },
     "execution_count": 19,
     "metadata": {},
     "output_type": "execute_result"
    }
   ],
   "source": [
    "np.any(np.isnan(X[var_name].values))"
   ]
  },
  {
   "cell_type": "markdown",
   "metadata": {},
   "source": [
    "#### __4) Interpolation__"
   ]
  },
  {
   "cell_type": "markdown",
   "metadata": {},
   "source": [
    "Not necessary if using mask created from dataset"
   ]
  },
  {
   "cell_type": "code",
   "execution_count": 20,
   "metadata": {},
   "outputs": [
    {
     "name": "stdout",
     "output_type": "stream",
     "text": [
      "<xarray.Dataset>\n",
      "Dimensions:       (feature: 52, sampling: 5741)\n",
      "Coordinates:\n",
      "  * feature       (feature) int64 1 2 3 4 5 6 7 8 9 ... 45 46 47 48 49 50 51 52\n",
      "  * sampling      (sampling) MultiIndex\n",
      "  - lat           (sampling) float64 30.38 30.38 30.38 ... 46.12 46.12 46.12\n",
      "  - lon           (sampling) float64 18.62 18.88 19.12 ... 38.38 38.62 42.88\n",
      "Data variables:\n",
      "    analysed_sst  (feature, sampling) float32 291.3304 291.29144 ... 275.3912\n"
     ]
    }
   ],
   "source": [
    "X = X[var_name].interpolate_na(dim = 'feature', method=\"linear\", fill_value=\"extrapolate\").to_dataset(name = var_name)\n",
    "print(X)\n",
    "#X"
   ]
  },
  {
   "cell_type": "markdown",
   "metadata": {},
   "source": [
    "__There is any NaN in the dataset?__"
   ]
  },
  {
   "cell_type": "code",
   "execution_count": 21,
   "metadata": {},
   "outputs": [
    {
     "data": {
      "text/plain": [
       "False"
      ]
     },
     "execution_count": 21,
     "metadata": {},
     "output_type": "execute_result"
    }
   ],
   "source": [
    "np.any(np.isnan(X[var_name].values))"
   ]
  },
  {
   "cell_type": "markdown",
   "metadata": {},
   "source": [
    "#### __5) Scaler__"
   ]
  },
  {
   "cell_type": "markdown",
   "metadata": {},
   "source": [
    "__Check dimensions order__\n",
    "***"
   ]
  },
  {
   "cell_type": "code",
   "execution_count": 22,
   "metadata": {},
   "outputs": [
    {
     "data": {
      "text/plain": [
       "(52, 5741)"
      ]
     },
     "execution_count": 22,
     "metadata": {},
     "output_type": "execute_result"
    }
   ],
   "source": [
    "np.shape(X[var_name])"
   ]
  },
  {
   "cell_type": "markdown",
   "metadata": {},
   "source": [
    "Transpose dataset if needed (sampling x features)"
   ]
  },
  {
   "cell_type": "code",
   "execution_count": 23,
   "metadata": {},
   "outputs": [
    {
     "data": {
      "text/plain": [
       "(5741, 52)"
      ]
     },
     "execution_count": 23,
     "metadata": {},
     "output_type": "execute_result"
    }
   ],
   "source": [
    "X = X.transpose(\"sampling\", \"feature\")\n",
    "np.shape(X[var_name].values)"
   ]
  },
  {
   "cell_type": "markdown",
   "metadata": {},
   "source": [
    "***"
   ]
  },
  {
   "cell_type": "markdown",
   "metadata": {},
   "source": [
    "Apply sklearn __StandardScaler__: \n",
    "Standardize features by removing the mean and scaling to unit variance\n",
    "The standard score of a sample x is calculated as:\n",
    "\n",
    "    z = (x - u) / s\n",
    "    \n",
    "where u is the mean of the training samples or zero if `with_mean=False`, and s is the standard deviation of the training samples or one if `with_std=False`.\n",
    "Centering and scaling happen independently on each feature by computing the relevant statistics on the samples in the training set. "
   ]
  },
  {
   "cell_type": "code",
   "execution_count": 24,
   "metadata": {},
   "outputs": [
    {
     "name": "stdout",
     "output_type": "stream",
     "text": [
      "<xarray.Dataset>\n",
      "Dimensions:              (feature: 52, sampling: 5741)\n",
      "Coordinates:\n",
      "  * feature              (feature) int64 1 2 3 4 5 6 7 ... 46 47 48 49 50 51 52\n",
      "  * sampling             (sampling) MultiIndex\n",
      "  - lat                  (sampling) float64 30.38 30.38 30.38 ... 46.12 46.12\n",
      "  - lon                  (sampling) float64 18.62 18.88 19.12 ... 38.62 42.88\n",
      "Data variables:\n",
      "    analysed_sst         (sampling, feature) float32 291.3304 ... 275.3912\n",
      "    analysed_sst_scaled  (sampling, feature) float32 0.98910934 ... -4.903476\n"
     ]
    }
   ],
   "source": [
    "from sklearn.preprocessing import StandardScaler\n",
    "X_scale = StandardScaler().fit_transform(X[var_name])\n",
    "X = X.assign(variables={var_name + \"_scaled\":(('sampling', 'feature'), X_scale)})\n",
    "print(X)\n",
    "#X"
   ]
  },
  {
   "cell_type": "markdown",
   "metadata": {},
   "source": [
    "#### __5) PCA__"
   ]
  },
  {
   "cell_type": "markdown",
   "metadata": {},
   "source": [
    "Apply __Principal component analysis__ (PCA):\n",
    "Linear dimensionality reduction using Singular Value Decomposition of the data to project it to a lower dimensional space.\n",
    "If `0 < n_components < 1` and `svd_solver == 'full'`, select the number of components such that the amount of variance that needs to be explained is greater than the percentage specified by n_components."
   ]
  },
  {
   "cell_type": "code",
   "execution_count": 25,
   "metadata": {},
   "outputs": [
    {
     "data": {
      "text/plain": [
       "PCA(copy=True, iterated_power='auto', n_components=0.99, random_state=None,\n",
       "    svd_solver='full', tol=0.0, whiten=False)"
      ]
     },
     "execution_count": 25,
     "metadata": {},
     "output_type": "execute_result"
    }
   ],
   "source": [
    "from sklearn.decomposition import PCA\n",
    "pca = PCA(n_components = 0.99, svd_solver = 'full')\n",
    "pca"
   ]
  },
  {
   "cell_type": "code",
   "execution_count": 26,
   "metadata": {},
   "outputs": [],
   "source": [
    "pca = pca.fit(X[var_name + \"_scaled\"])"
   ]
  },
  {
   "cell_type": "code",
   "execution_count": 27,
   "metadata": {},
   "outputs": [
    {
     "data": {
      "text/plain": [
       "Text(0.5, 1.0, 'Percentage of variance explained by each of the selected components')"
      ]
     },
     "execution_count": 27,
     "metadata": {},
     "output_type": "execute_result"
    },
    {
     "data": {
      "image/png": "[encoded data removed]",
      "text/plain": [
       "<Figure size 432x288 with 1 Axes>"
      ]
     },
     "metadata": {
      "needs_background": "light"
     },
     "output_type": "display_data"
    }
   ],
   "source": [
    "fig, ax = plt.subplots()\n",
    "pb = plt.bar(range(pca.n_components_), pca.explained_variance_ratio_)\n",
    "ax.set_xlabel('n_components')\n",
    "ax.set_ylabel('Percentage')\n",
    "ax.set_title('Percentage of variance explained by each of the selected components')"
   ]
  },
  {
   "cell_type": "code",
   "execution_count": 28,
   "metadata": {},
   "outputs": [
    {
     "data": {
      "text/plain": [
       "(5741, 12)"
      ]
     },
     "execution_count": 28,
     "metadata": {},
     "output_type": "execute_result"
    }
   ],
   "source": [
    "X_reduced = pca.transform(X[var_name + \"_scaled\"])\n",
    "np.shape(X_reduced)"
   ]
  },
  {
   "cell_type": "code",
   "execution_count": 29,
   "metadata": {},
   "outputs": [
    {
     "name": "stdout",
     "output_type": "stream",
     "text": [
      "<xarray.Dataset>\n",
      "Dimensions:               (feature: 52, feature_reduced: 12, sampling: 5741)\n",
      "Coordinates:\n",
      "  * feature               (feature) int64 1 2 3 4 5 6 7 ... 46 47 48 49 50 51 52\n",
      "  * sampling              (sampling) MultiIndex\n",
      "  - lat                   (sampling) float64 30.38 30.38 30.38 ... 46.12 46.12\n",
      "  - lon                   (sampling) float64 18.62 18.88 19.12 ... 38.62 42.88\n",
      "Dimensions without coordinates: feature_reduced\n",
      "Data variables:\n",
      "    analysed_sst          (sampling, feature) float32 291.3304 ... 275.3912\n",
      "    analysed_sst_scaled   (sampling, feature) float32 0.98910934 ... -4.903476\n",
      "    analysed_sst_reduced  (sampling, feature_reduced) float32 6.956739 ... 0.32258075\n"
     ]
    }
   ],
   "source": [
    "X = X.assign(variables={var_name + \"_reduced\":(('sampling', 'feature_reduced'),X_reduced)})\n",
    "print(X)"
   ]
  },
  {
   "cell_type": "markdown",
   "metadata": {},
   "source": [
    "## Apply Model\n",
    "***"
   ]
  },
  {
   "cell_type": "markdown",
   "metadata": {},
   "source": [
    "__Create model__"
   ]
  },
  {
   "cell_type": "code",
   "execution_count": 30,
   "metadata": {},
   "outputs": [
    {
     "data": {
      "text/plain": [
       "GaussianMixture(covariance_type='full', init_params='kmeans', max_iter=100,\n",
       "                means_init=None, n_components=7, n_init=1, precisions_init=None,\n",
       "                random_state=None, reg_covar=1e-06, tol=0.001, verbose=0,\n",
       "                verbose_interval=10, warm_start=False, weights_init=None)"
      ]
     },
     "execution_count": 30,
     "metadata": {},
     "output_type": "execute_result"
    }
   ],
   "source": [
    "from sklearn import mixture\n",
    "k = 7 # number of classes\n",
    "model = mixture.GaussianMixture(n_components=k, covariance_type='full')\n",
    "model"
   ]
  },
  {
   "cell_type": "markdown",
   "metadata": {},
   "source": [
    "__Fit model__"
   ]
  },
  {
   "cell_type": "code",
   "execution_count": 31,
   "metadata": {},
   "outputs": [
    {
     "data": {
      "text/plain": [
       "GaussianMixture(covariance_type='full', init_params='kmeans', max_iter=100,\n",
       "                means_init=None, n_components=7, n_init=1, precisions_init=None,\n",
       "                random_state=None, reg_covar=1e-06, tol=0.001, verbose=0,\n",
       "                verbose_interval=10, warm_start=False, weights_init=None)"
      ]
     },
     "execution_count": 31,
     "metadata": {},
     "output_type": "execute_result"
    }
   ],
   "source": [
    "model.fit(X[var_name + \"_reduced\"])"
   ]
  },
  {
   "cell_type": "markdown",
   "metadata": {},
   "source": [
    "__Predict labels__"
   ]
  },
  {
   "cell_type": "code",
   "execution_count": 32,
   "metadata": {},
   "outputs": [
    {
     "data": {
      "text/plain": [
       "array([2, 2, 2, ..., 3, 3, 3])"
      ]
     },
     "execution_count": 32,
     "metadata": {},
     "output_type": "execute_result"
    }
   ],
   "source": [
    "X_labels = model.predict(X[var_name + \"_reduced\"])\n",
    "X_labels"
   ]
  },
  {
   "cell_type": "code",
   "execution_count": 33,
   "metadata": {},
   "outputs": [
    {
     "name": "stdout",
     "output_type": "stream",
     "text": [
      "<xarray.Dataset>\n",
      "Dimensions:               (feature: 52, feature_reduced: 12, sampling: 5741)\n",
      "Coordinates:\n",
      "  * feature               (feature) int64 1 2 3 4 5 6 7 ... 46 47 48 49 50 51 52\n",
      "  * sampling              (sampling) MultiIndex\n",
      "  - lat                   (sampling) float64 30.38 30.38 30.38 ... 46.12 46.12\n",
      "  - lon                   (sampling) float64 18.62 18.88 19.12 ... 38.62 42.88\n",
      "Dimensions without coordinates: feature_reduced\n",
      "Data variables:\n",
      "    analysed_sst          (sampling, feature) float32 291.3304 ... 275.3912\n",
      "    analysed_sst_scaled   (sampling, feature) float32 0.98910934 ... -4.903476\n",
      "    analysed_sst_reduced  (sampling, feature_reduced) float32 6.956739 ... 0.32258075\n",
      "    GMM_labels            (sampling) int64 2 2 2 2 0 0 2 2 5 ... 3 3 3 3 3 3 3 3\n"
     ]
    }
   ],
   "source": [
    "X = X.assign(variables={\"GMM_labels\":(('sampling'),X_labels)})\n",
    "print(X)\n",
    "#X"
   ]
  },
  {
   "cell_type": "markdown",
   "metadata": {},
   "source": [
    "Calculate other __stadistics__"
   ]
  },
  {
   "cell_type": "markdown",
   "metadata": {},
   "source": [
    "- Predict posterior probability of each component given the data"
   ]
  },
  {
   "cell_type": "code",
   "execution_count": 34,
   "metadata": {},
   "outputs": [
    {
     "data": {
      "text/plain": [
       "(5741, 7)"
      ]
     },
     "execution_count": 34,
     "metadata": {},
     "output_type": "execute_result"
    }
   ],
   "source": [
    "X_proba = model.predict_proba(X[var_name + \"_reduced\"])\n",
    "np.shape(X_proba)"
   ]
  },
  {
   "cell_type": "code",
   "execution_count": 35,
   "metadata": {},
   "outputs": [
    {
     "name": "stdout",
     "output_type": "stream",
     "text": [
      "<xarray.Dataset>\n",
      "Dimensions:               (feature: 52, feature_reduced: 12, k: 7, sampling: 5741)\n",
      "Coordinates:\n",
      "  * feature               (feature) int64 1 2 3 4 5 6 7 ... 46 47 48 49 50 51 52\n",
      "  * sampling              (sampling) MultiIndex\n",
      "  - lat                   (sampling) float64 30.38 30.38 30.38 ... 46.12 46.12\n",
      "  - lon                   (sampling) float64 18.62 18.88 19.12 ... 38.62 42.88\n",
      "Dimensions without coordinates: feature_reduced, k\n",
      "Data variables:\n",
      "    analysed_sst          (sampling, feature) float32 291.3304 ... 275.3912\n",
      "    analysed_sst_scaled   (sampling, feature) float32 0.98910934 ... -4.903476\n",
      "    analysed_sst_reduced  (sampling, feature_reduced) float32 6.956739 ... 0.32258075\n",
      "    GMM_labels            (sampling) int64 2 2 2 2 0 0 2 2 5 ... 3 3 3 3 3 3 3 3\n",
      "    GMM_post              (sampling, k) float64 0.02925 9.396e-15 ... 1.291e-71\n"
     ]
    }
   ],
   "source": [
    "X = X.assign(variables={\"GMM_post\":(('sampling','k'),X_proba)})\n",
    "print(X)\n",
    "#X"
   ]
  },
  {
   "cell_type": "markdown",
   "metadata": {},
   "source": [
    "- Calculate quantiles"
   ]
  },
  {
   "cell_type": "code",
   "execution_count": 36,
   "metadata": {},
   "outputs": [],
   "source": [
    "#quantiles we want to calculate\n",
    "q = [0.05, 0.5, 0.95]"
   ]
  },
  {
   "cell_type": "code",
   "execution_count": 37,
   "metadata": {},
   "outputs": [],
   "source": [
    "m_quantiles = X[var_name].where(X['GMM_labels']==0, drop=True).quantile(q, dim='sampling')\n",
    "for yi in range(1,k):\n",
    "    m_quantiles = xr.concat((m_quantiles, X[var_name].where(X['GMM_labels']==yi, drop=True).quantile(q, dim='sampling')), dim='k')"
   ]
  },
  {
   "cell_type": "code",
   "execution_count": 38,
   "metadata": {},
   "outputs": [
    {
     "name": "stdout",
     "output_type": "stream",
     "text": [
      "<xarray.Dataset>\n",
      "Dimensions:               (feature: 52, feature_reduced: 12, k: 7, quantile: 3, sampling: 5741)\n",
      "Coordinates:\n",
      "  * feature               (feature) int64 1 2 3 4 5 6 7 ... 46 47 48 49 50 51 52\n",
      "  * sampling              (sampling) MultiIndex\n",
      "  - lat                   (sampling) float64 30.38 30.38 30.38 ... 46.12 46.12\n",
      "  - lon                   (sampling) float64 18.62 18.88 19.12 ... 38.62 42.88\n",
      "  * quantile              (quantile) float64 0.05 0.5 0.95\n",
      "Dimensions without coordinates: feature_reduced, k\n",
      "Data variables:\n",
      "    analysed_sst          (sampling, feature) float32 291.3304 ... 275.3912\n",
      "    analysed_sst_scaled   (sampling, feature) float32 0.98910934 ... -4.903476\n",
      "    analysed_sst_reduced  (sampling, feature_reduced) float32 6.956739 ... 0.32258075\n",
      "    GMM_labels            (sampling) int64 2 2 2 2 0 0 2 2 5 ... 3 3 3 3 3 3 3 3\n",
      "    GMM_post              (sampling, k) float64 0.02925 9.396e-15 ... 1.291e-71\n",
      "    analysed_sst_Q        (k, quantile, feature) float64 287.3 286.4 ... 286.9\n"
     ]
    }
   ],
   "source": [
    "X = X.assign(variables={var_name + \"_Q\":(('k','quantile','feature'), m_quantiles)})\n",
    "X = X.assign_coords(coords={'quantile': q})\n",
    "print(X)"
   ]
  },
  {
   "cell_type": "markdown",
   "metadata": {},
   "source": [
    "- Calculate quantiles scaled variable"
   ]
  },
  {
   "cell_type": "code",
   "execution_count": 39,
   "metadata": {},
   "outputs": [],
   "source": [
    "#quantiles we want to calculate\n",
    "q = [0.05, 0.5, 0.95]"
   ]
  },
  {
   "cell_type": "code",
   "execution_count": 40,
   "metadata": {},
   "outputs": [],
   "source": [
    "m_quantiles = X[var_name].where(X['GMM_labels']==0, drop=True).quantile(q, dim='sampling')\n",
    "for yi in range(1,k):\n",
    "    m_quantiles = xr.concat((m_quantiles, X[var_name + '_scaled'].where(X['GMM_labels']==yi, drop=True).quantile(q, dim='sampling')), dim='k')"
   ]
  },
  {
   "cell_type": "code",
   "execution_count": 41,
   "metadata": {},
   "outputs": [
    {
     "name": "stdout",
     "output_type": "stream",
     "text": [
      "<xarray.Dataset>\n",
      "Dimensions:                (feature: 52, feature_reduced: 12, k: 7, quantile: 3, sampling: 5741)\n",
      "Coordinates:\n",
      "  * feature                (feature) int64 1 2 3 4 5 6 7 ... 47 48 49 50 51 52\n",
      "  * sampling               (sampling) MultiIndex\n",
      "  - lat                    (sampling) float64 30.38 30.38 30.38 ... 46.12 46.12\n",
      "  - lon                    (sampling) float64 18.62 18.88 19.12 ... 38.62 42.88\n",
      "  * quantile               (quantile) float64 0.05 0.5 0.95\n",
      "Dimensions without coordinates: feature_reduced, k\n",
      "Data variables:\n",
      "    analysed_sst           (sampling, feature) float32 291.3304 ... 275.3912\n",
      "    analysed_sst_scaled    (sampling, feature) float32 0.98910934 ... -4.903476\n",
      "    analysed_sst_reduced   (sampling, feature_reduced) float32 6.956739 ... 0.32258075\n",
      "    GMM_labels             (sampling) int64 2 2 2 2 0 0 2 2 ... 3 3 3 3 3 3 3 3\n",
      "    GMM_post               (sampling, k) float64 0.02925 9.396e-15 ... 1.291e-71\n",
      "    analysed_sst_Q         (k, quantile, feature) float64 287.3 286.4 ... 286.9\n",
      "    analysed_sst_scaled_Q  (k, quantile, feature) float64 287.3 ... -0.8038\n"
     ]
    }
   ],
   "source": [
    "X = X.assign(variables={var_name + '_scaled' + \"_Q\":(('k','quantile','feature'), m_quantiles)})\n",
    "X = X.assign_coords(coords={'quantile': q})\n",
    "print(X)"
   ]
  },
  {
   "cell_type": "markdown",
   "metadata": {},
   "source": [
    "- Calculate robustness"
   ]
  },
  {
   "cell_type": "code",
   "execution_count": 42,
   "metadata": {},
   "outputs": [],
   "source": [
    "maxpost = X[\"GMM_post\"].max(dim=\"k\")\n",
    "K = len(X[\"GMM_labels\"])\n",
    "robust = (maxpost - 1. / K) * K / (K - 1.)\n",
    "\n",
    "Plist = [0, 0.33, 0.66, 0.9, .99, 1]\n",
    "rowl0 = ('Unlikely', 'As likely as not', 'Likely', 'Very Likely', 'Virtually certain')\n",
    "robust_id = np.digitize(robust, Plist) - 1"
   ]
  },
  {
   "cell_type": "code",
   "execution_count": 43,
   "metadata": {},
   "outputs": [
    {
     "name": "stdout",
     "output_type": "stream",
     "text": [
      "<xarray.Dataset>\n",
      "Dimensions:                (feature: 52, feature_reduced: 12, k: 7, quantile: 3, sampling: 5741)\n",
      "Coordinates:\n",
      "  * feature                (feature) int64 1 2 3 4 5 6 7 ... 47 48 49 50 51 52\n",
      "  * sampling               (sampling) MultiIndex\n",
      "  - lat                    (sampling) float64 30.38 30.38 30.38 ... 46.12 46.12\n",
      "  - lon                    (sampling) float64 18.62 18.88 19.12 ... 38.62 42.88\n",
      "  * quantile               (quantile) float64 0.05 0.5 0.95\n",
      "Dimensions without coordinates: feature_reduced, k\n",
      "Data variables:\n",
      "    analysed_sst           (sampling, feature) float32 291.3304 ... 275.3912\n",
      "    analysed_sst_scaled    (sampling, feature) float32 0.98910934 ... -4.903476\n",
      "    analysed_sst_reduced   (sampling, feature_reduced) float32 6.956739 ... 0.32258075\n",
      "    GMM_labels             (sampling) int64 2 2 2 2 0 0 2 2 ... 3 3 3 3 3 3 3 3\n",
      "    GMM_post               (sampling, k) float64 0.02925 9.396e-15 ... 1.291e-71\n",
      "    analysed_sst_Q         (k, quantile, feature) float64 287.3 286.4 ... 286.9\n",
      "    analysed_sst_scaled_Q  (k, quantile, feature) float64 287.3 ... -0.8038\n",
      "    GMM_robustness         (sampling) float64 0.9707 0.9821 0.9249 ... 1.0 1.0\n",
      "    GMM_robustness_cat     (sampling) int64 3 3 3 2 3 4 2 2 ... 5 5 5 5 5 5 5 5\n"
     ]
    }
   ],
   "source": [
    "X = X.assign(variables={\"GMM_robustness\":(('sampling'), robust), \"GMM_robustness_cat\":(('sampling'), robust_id)})\n",
    "X[\"GMM_robustness_cat\"].attrs['legend'] = rowl0\n",
    "print(X)\n",
    "#X"
   ]
  },
  {
   "cell_type": "markdown",
   "metadata": {},
   "source": [
    "__Unstack dataset__"
   ]
  },
  {
   "cell_type": "code",
   "execution_count": 44,
   "metadata": {},
   "outputs": [
    {
     "name": "stdout",
     "output_type": "stream",
     "text": [
      "<xarray.Dataset>\n",
      "Dimensions:                (feature: 52, feature_reduced: 12, k: 7, lat: 65, lon: 192, quantile: 3)\n",
      "Coordinates:\n",
      "  * lat                    (lat) float64 30.12 30.38 30.62 ... 45.62 45.88 46.12\n",
      "  * lon                    (lon) float64 -4.875 -4.625 -4.375 ... 42.62 42.88\n",
      "  * feature                (feature) int64 1 2 3 4 5 6 7 ... 47 48 49 50 51 52\n",
      "  * quantile               (quantile) float64 0.05 0.5 0.95\n",
      "Dimensions without coordinates: feature_reduced, k\n",
      "Data variables:\n",
      "    analysed_sst           (feature, lat, lon) float32 nan nan ... nan 275.3912\n",
      "    analysed_sst_scaled    (feature, lat, lon) float32 nan nan ... nan -4.903476\n",
      "    analysed_sst_reduced   (feature_reduced, lat, lon) float32 nan ... 0.32258075\n",
      "    GMM_labels             (lat, lon) float64 nan nan nan nan ... nan nan 3.0\n",
      "    GMM_post               (k, lat, lon) float64 nan nan nan ... nan 1.291e-71\n",
      "    analysed_sst_Q         (k, quantile, feature) float64 287.3 286.4 ... 286.9\n",
      "    analysed_sst_scaled_Q  (k, quantile, feature) float64 287.3 ... -0.8038\n",
      "    GMM_robustness         (lat, lon) float64 nan nan nan nan ... nan nan 1.0\n",
      "    GMM_robustness_cat     (lat, lon) float64 nan nan nan nan ... nan nan 5.0\n"
     ]
    }
   ],
   "source": [
    "ds_labels = X.unstack('sampling')\n",
    "#ds_labels = ds_labels.sortby(['lat','lon'])\n",
    "# same lat and lon values in mask and in results\n",
    "mask = stacked_mask.unstack()\n",
    "ds_labels = ds_labels.reindex_like(mask)\n",
    "print(ds_labels)\n",
    "#ds_labels"
   ]
  },
  {
   "cell_type": "code",
   "execution_count": 45,
   "metadata": {},
   "outputs": [
    {
     "data": {
      "text/html": [
       "<div><svg style=\"position: absolute; width: 0; height: 0; overflow: hidden\">\n",
       "<defs>\n",
       "<symbol id=\"icon-database\" viewBox=\"0 0 32 32\">\n",
       "<title>Show/Hide data repr</title>\n",
       "<path d=\"M16 0c-8.837 0-16 2.239-16 5v4c0 2.761 7.163 5 16 5s16-2.239 16-5v-4c0-2.761-7.163-5-16-5z\"></path>\n",
       "<path d=\"M16 17c-8.837 0-16-2.239-16-5v6c0 2.761 7.163 5 16 5s16-2.239 16-5v-6c0 2.761-7.163 5-16 5z\"></path>\n",
       "<path d=\"M16 26c-8.837 0-16-2.239-16-5v6c0 2.761 7.163 5 16 5s16-2.239 16-5v-6c0 2.761-7.163 5-16 5z\"></path>\n",
       "</symbol>\n",
       "<symbol id=\"icon-file-text2\" viewBox=\"0 0 32 32\">\n",
       "<title>Show/Hide attributes</title>\n",
       "<path d=\"M28.681 7.159c-0.694-0.947-1.662-2.053-2.724-3.116s-2.169-2.030-3.116-2.724c-1.612-1.182-2.393-1.319-2.841-1.319h-15.5c-1.378 0-2.5 1.121-2.5 2.5v27c0 1.378 1.122 2.5 2.5 2.5h23c1.378 0 2.5-1.122 2.5-2.5v-19.5c0-0.448-0.137-1.23-1.319-2.841zM24.543 5.457c0.959 0.959 1.712 1.825 2.268 2.543h-4.811v-4.811c0.718 0.556 1.584 1.309 2.543 2.268zM28 29.5c0 0.271-0.229 0.5-0.5 0.5h-23c-0.271 0-0.5-0.229-0.5-0.5v-27c0-0.271 0.229-0.5 0.5-0.5 0 0 15.499-0 15.5 0v7c0 0.552 0.448 1 1 1h7v19.5z\"></path>\n",
       "<path d=\"M23 26h-14c-0.552 0-1-0.448-1-1s0.448-1 1-1h14c0.552 0 1 0.448 1 1s-0.448 1-1 1z\"></path>\n",
       "<path d=\"M23 22h-14c-0.552 0-1-0.448-1-1s0.448-1 1-1h14c0.552 0 1 0.448 1 1s-0.448 1-1 1z\"></path>\n",
       "<path d=\"M23 18h-14c-0.552 0-1-0.448-1-1s0.448-1 1-1h14c0.552 0 1 0.448 1 1s-0.448 1-1 1z\"></path>\n",
       "</symbol>\n",
       "</defs>\n",
       "</svg>\n",
       "<style>/* CSS stylesheet for displaying xarray objects in jupyterlab.\n",
       " *\n",
       " */\n",
       "\n",
       ":root {\n",
       "  --xr-font-color0: var(--jp-content-font-color0, rgba(0, 0, 0, 1));\n",
       "  --xr-font-color2: var(--jp-content-font-color2, rgba(0, 0, 0, 0.54));\n",
       "  --xr-font-color3: var(--jp-content-font-color3, rgba(0, 0, 0, 0.38));\n",
       "  --xr-border-color: var(--jp-border-color2, #e0e0e0);\n",
       "  --xr-disabled-color: var(--jp-layout-color3, #bdbdbd);\n",
       "  --xr-background-color: var(--jp-layout-color0, white);\n",
       "  --xr-background-color-row-even: var(--jp-layout-color1, white);\n",
       "  --xr-background-color-row-odd: var(--jp-layout-color2, #eeeeee);\n",
       "}\n",
       "\n",
       ".xr-wrap {\n",
       "  min-width: 300px;\n",
       "  max-width: 700px;\n",
       "}\n",
       "\n",
       ".xr-header {\n",
       "  padding-top: 6px;\n",
       "  padding-bottom: 6px;\n",
       "  margin-bottom: 4px;\n",
       "  border-bottom: solid 1px var(--xr-border-color);\n",
       "}\n",
       "\n",
       ".xr-header > div,\n",
       ".xr-header > ul {\n",
       "  display: inline;\n",
       "  margin-top: 0;\n",
       "  margin-bottom: 0;\n",
       "}\n",
       "\n",
       ".xr-obj-type,\n",
       ".xr-array-name {\n",
       "  margin-left: 2px;\n",
       "  margin-right: 10px;\n",
       "}\n",
       "\n",
       ".xr-obj-type {\n",
       "  color: var(--xr-font-color2);\n",
       "}\n",
       "\n",
       ".xr-sections {\n",
       "  padding-left: 0 !important;\n",
       "  display: grid;\n",
       "  grid-template-columns: 150px auto auto 1fr 20px 20px;\n",
       "}\n",
       "\n",
       ".xr-section-item {\n",
       "  display: contents;\n",
       "}\n",
       "\n",
       ".xr-section-item input {\n",
       "  display: none;\n",
       "}\n",
       "\n",
       ".xr-section-item input + label {\n",
       "  color: var(--xr-disabled-color);\n",
       "}\n",
       "\n",
       ".xr-section-item input:enabled + label {\n",
       "  cursor: pointer;\n",
       "  color: var(--xr-font-color2);\n",
       "}\n",
       "\n",
       ".xr-section-item input:enabled + label:hover {\n",
       "  color: var(--xr-font-color0);\n",
       "}\n",
       "\n",
       ".xr-section-summary {\n",
       "  grid-column: 1;\n",
       "  color: var(--xr-font-color2);\n",
       "  font-weight: 500;\n",
       "}\n",
       "\n",
       ".xr-section-summary > span {\n",
       "  display: inline-block;\n",
       "  padding-left: 0.5em;\n",
       "}\n",
       "\n",
       ".xr-section-summary-in:disabled + label {\n",
       "  color: var(--xr-font-color2);\n",
       "}\n",
       "\n",
       ".xr-section-summary-in + label:before {\n",
       "  display: inline-block;\n",
       "  content: '►';\n",
       "  font-size: 11px;\n",
       "  width: 15px;\n",
       "  text-align: center;\n",
       "}\n",
       "\n",
       ".xr-section-summary-in:disabled + label:before {\n",
       "  color: var(--xr-disabled-color);\n",
       "}\n",
       "\n",
       ".xr-section-summary-in:checked + label:before {\n",
       "  content: '▼';\n",
       "}\n",
       "\n",
       ".xr-section-summary-in:checked + label > span {\n",
       "  display: none;\n",
       "}\n",
       "\n",
       ".xr-section-summary,\n",
       ".xr-section-inline-details {\n",
       "  padding-top: 4px;\n",
       "  padding-bottom: 4px;\n",
       "}\n",
       "\n",
       ".xr-section-inline-details {\n",
       "  grid-column: 2 / -1;\n",
       "}\n",
       "\n",
       ".xr-section-details {\n",
       "  display: none;\n",
       "  grid-column: 1 / -1;\n",
       "  margin-bottom: 5px;\n",
       "}\n",
       "\n",
       ".xr-section-summary-in:checked ~ .xr-section-details {\n",
       "  display: contents;\n",
       "}\n",
       "\n",
       ".xr-array-wrap {\n",
       "  grid-column: 1 / -1;\n",
       "  display: grid;\n",
       "  grid-template-columns: 20px auto;\n",
       "}\n",
       "\n",
       ".xr-array-wrap > label {\n",
       "  grid-column: 1;\n",
       "  vertical-align: top;\n",
       "}\n",
       "\n",
       ".xr-preview {\n",
       "  color: var(--xr-font-color3);\n",
       "}\n",
       "\n",
       ".xr-array-preview,\n",
       ".xr-array-data {\n",
       "  padding: 0 5px !important;\n",
       "  grid-column: 2;\n",
       "}\n",
       "\n",
       ".xr-array-data,\n",
       ".xr-array-in:checked ~ .xr-array-preview {\n",
       "  display: none;\n",
       "}\n",
       "\n",
       ".xr-array-in:checked ~ .xr-array-data,\n",
       ".xr-array-preview {\n",
       "  display: inline-block;\n",
       "}\n",
       "\n",
       ".xr-dim-list {\n",
       "  display: inline-block !important;\n",
       "  list-style: none;\n",
       "  padding: 0 !important;\n",
       "  margin: 0;\n",
       "}\n",
       "\n",
       ".xr-dim-list li {\n",
       "  display: inline-block;\n",
       "  padding: 0;\n",
       "  margin: 0;\n",
       "}\n",
       "\n",
       ".xr-dim-list:before {\n",
       "  content: '(';\n",
       "}\n",
       "\n",
       ".xr-dim-list:after {\n",
       "  content: ')';\n",
       "}\n",
       "\n",
       ".xr-dim-list li:not(:last-child):after {\n",
       "  content: ',';\n",
       "  padding-right: 5px;\n",
       "}\n",
       "\n",
       ".xr-has-index {\n",
       "  font-weight: bold;\n",
       "}\n",
       "\n",
       ".xr-var-list,\n",
       ".xr-var-item {\n",
       "  display: contents;\n",
       "}\n",
       "\n",
       ".xr-var-item > div,\n",
       ".xr-var-item label,\n",
       ".xr-var-item > .xr-var-name span {\n",
       "  background-color: var(--xr-background-color-row-even);\n",
       "  margin-bottom: 0;\n",
       "}\n",
       "\n",
       ".xr-var-item > .xr-var-name:hover span {\n",
       "  padding-right: 5px;\n",
       "}\n",
       "\n",
       ".xr-var-list > li:nth-child(odd) > div,\n",
       ".xr-var-list > li:nth-child(odd) > label,\n",
       ".xr-var-list > li:nth-child(odd) > .xr-var-name span {\n",
       "  background-color: var(--xr-background-color-row-odd);\n",
       "}\n",
       "\n",
       ".xr-var-name {\n",
       "  grid-column: 1;\n",
       "}\n",
       "\n",
       ".xr-var-dims {\n",
       "  grid-column: 2;\n",
       "}\n",
       "\n",
       ".xr-var-dtype {\n",
       "  grid-column: 3;\n",
       "  text-align: right;\n",
       "  color: var(--xr-font-color2);\n",
       "}\n",
       "\n",
       ".xr-var-preview {\n",
       "  grid-column: 4;\n",
       "}\n",
       "\n",
       ".xr-var-name,\n",
       ".xr-var-dims,\n",
       ".xr-var-dtype,\n",
       ".xr-preview,\n",
       ".xr-attrs dt {\n",
       "  white-space: nowrap;\n",
       "  overflow: hidden;\n",
       "  text-overflow: ellipsis;\n",
       "  padding-right: 10px;\n",
       "}\n",
       "\n",
       ".xr-var-name:hover,\n",
       ".xr-var-dims:hover,\n",
       ".xr-var-dtype:hover,\n",
       ".xr-attrs dt:hover {\n",
       "  overflow: visible;\n",
       "  width: auto;\n",
       "  z-index: 1;\n",
       "}\n",
       "\n",
       ".xr-var-attrs,\n",
       ".xr-var-data {\n",
       "  display: none;\n",
       "  background-color: var(--xr-background-color) !important;\n",
       "  padding-bottom: 5px !important;\n",
       "}\n",
       "\n",
       ".xr-var-attrs-in:checked ~ .xr-var-attrs,\n",
       ".xr-var-data-in:checked ~ .xr-var-data {\n",
       "  display: block;\n",
       "}\n",
       "\n",
       ".xr-var-data > table {\n",
       "  float: right;\n",
       "}\n",
       "\n",
       ".xr-var-name span,\n",
       ".xr-var-data,\n",
       ".xr-attrs {\n",
       "  padding-left: 25px !important;\n",
       "}\n",
       "\n",
       ".xr-attrs,\n",
       ".xr-var-attrs,\n",
       ".xr-var-data {\n",
       "  grid-column: 1 / -1;\n",
       "}\n",
       "\n",
       "dl.xr-attrs {\n",
       "  padding: 0;\n",
       "  margin: 0;\n",
       "  display: grid;\n",
       "  grid-template-columns: 125px auto;\n",
       "}\n",
       "\n",
       ".xr-attrs dt, dd {\n",
       "  padding: 0;\n",
       "  margin: 0;\n",
       "  float: left;\n",
       "  padding-right: 10px;\n",
       "  width: auto;\n",
       "}\n",
       "\n",
       ".xr-attrs dt {\n",
       "  font-weight: normal;\n",
       "  grid-column: 1;\n",
       "}\n",
       "\n",
       ".xr-attrs dt:hover span {\n",
       "  display: inline-block;\n",
       "  background: var(--xr-background-color);\n",
       "  padding-right: 10px;\n",
       "}\n",
       "\n",
       ".xr-attrs dd {\n",
       "  grid-column: 2;\n",
       "  white-space: pre-wrap;\n",
       "  word-break: break-all;\n",
       "}\n",
       "\n",
       ".xr-icon-database,\n",
       ".xr-icon-file-text2 {\n",
       "  display: inline-block;\n",
       "  vertical-align: middle;\n",
       "  width: 1em;\n",
       "  height: 1.5em !important;\n",
       "  stroke-width: 0;\n",
       "  stroke: currentColor;\n",
       "  fill: currentColor;\n",
       "}\n",
       "</style><div class='xr-wrap'><div class='xr-header'><div class='xr-obj-type'>xarray.Dataset</div></div><ul class='xr-sections'><li class='xr-section-item'><input id='section-ef92c3e6-b9b1-41ac-8ed8-04cdee5f9d2a' class='xr-section-summary-in' type='checkbox' disabled ><label for='section-ef92c3e6-b9b1-41ac-8ed8-04cdee5f9d2a' class='xr-section-summary'  title='Expand/collapse section'>Dimensions:</label><div class='xr-section-inline-details'><ul class='xr-dim-list'><li><span class='xr-has-index'>feature</span>: 52</li><li><span>feature_reduced</span>: 12</li><li><span>k</span>: 7</li><li><span class='xr-has-index'>lat</span>: 65</li><li><span class='xr-has-index'>lon</span>: 192</li><li><span class='xr-has-index'>quantile</span>: 3</li><li><span class='xr-has-index'>time</span>: 8760</li></ul></div><div class='xr-section-details'></div></li><li class='xr-section-item'><input id='section-06aa983d-fe60-4194-82a9-2a03e0ff2d9b' class='xr-section-summary-in' type='checkbox'  checked><label for='section-06aa983d-fe60-4194-82a9-2a03e0ff2d9b' class='xr-section-summary' >Coordinates: <span>(5)</span></label><div class='xr-section-inline-details'></div><div class='xr-section-details'><ul class='xr-var-list'><li class='xr-var-item'><div class='xr-var-name'><span class='xr-has-index'>lat</span></div><div class='xr-var-dims'>(lat)</div><div class='xr-var-dtype'>float64</div><div class='xr-var-preview xr-preview'>30.12 30.38 30.62 ... 45.88 46.12</div><input id='attrs-f8ad53e2-b1b5-4fef-9c5c-1a212a14cf15' class='xr-var-attrs-in' type='checkbox' ><label for='attrs-f8ad53e2-b1b5-4fef-9c5c-1a212a14cf15' title='Show/Hide attributes'><svg class='icon xr-icon-file-text2'><use xlink:href='#icon-file-text2'></use></svg></label><input id='data-293501c3-8310-433f-a9bc-cf3d8734ef11' class='xr-var-data-in' type='checkbox'><label for='data-293501c3-8310-433f-a9bc-cf3d8734ef11' title='Show/Hide data repr'><svg class='icon xr-icon-database'><use xlink:href='#icon-database'></use></svg></label><div class='xr-var-attrs'><dl class='xr-attrs'><dt><span>standard_name :</span></dt><dd>latitude</dd><dt><span>long_name :</span></dt><dd>latitude</dd><dt><span>units :</span></dt><dd>degrees_north</dd><dt><span>valid_min :</span></dt><dd>-90.0</dd><dt><span>valid_max :</span></dt><dd>90.0</dd><dt><span>axis :</span></dt><dd>Y</dd><dt><span>comment :</span></dt><dd> Latitude geographical coordinates,WGS84 projection</dd><dt><span>_ChunkSizes :</span></dt><dd>720</dd><dt><span>_CoordinateAxisType :</span></dt><dd>Lat</dd></dl></div><pre class='xr-var-data'>array([30.125, 30.375, 30.625, 30.875, 31.125, 31.375, 31.625, 31.875, 32.125,\n",
       "       32.375, 32.625, 32.875, 33.125, 33.375, 33.625, 33.875, 34.125, 34.375,\n",
       "       34.625, 34.875, 35.125, 35.375, 35.625, 35.875, 36.125, 36.375, 36.625,\n",
       "       36.875, 37.125, 37.375, 37.625, 37.875, 38.125, 38.375, 38.625, 38.875,\n",
       "       39.125, 39.375, 39.625, 39.875, 40.125, 40.375, 40.625, 40.875, 41.125,\n",
       "       41.375, 41.625, 41.875, 42.125, 42.375, 42.625, 42.875, 43.125, 43.375,\n",
       "       43.625, 43.875, 44.125, 44.375, 44.625, 44.875, 45.125, 45.375, 45.625,\n",
       "       45.875, 46.125])</pre></li><li class='xr-var-item'><div class='xr-var-name'><span class='xr-has-index'>lon</span></div><div class='xr-var-dims'>(lon)</div><div class='xr-var-dtype'>float64</div><div class='xr-var-preview xr-preview'>-4.875 -4.625 ... 42.62 42.88</div><input id='attrs-12cfb149-a523-4469-83dd-f64737a30aa9' class='xr-var-attrs-in' type='checkbox' ><label for='attrs-12cfb149-a523-4469-83dd-f64737a30aa9' title='Show/Hide attributes'><svg class='icon xr-icon-file-text2'><use xlink:href='#icon-file-text2'></use></svg></label><input id='data-42002949-c9fe-463e-8c67-7b0a2cdb80bb' class='xr-var-data-in' type='checkbox'><label for='data-42002949-c9fe-463e-8c67-7b0a2cdb80bb' title='Show/Hide data repr'><svg class='icon xr-icon-database'><use xlink:href='#icon-database'></use></svg></label><div class='xr-var-attrs'><dl class='xr-attrs'><dt><span>standard_name :</span></dt><dd>longitude</dd><dt><span>long_name :</span></dt><dd>longitude</dd><dt><span>units :</span></dt><dd>degrees_east</dd><dt><span>valid_min :</span></dt><dd>-180.0</dd><dt><span>valid_max :</span></dt><dd>180.0</dd><dt><span>axis :</span></dt><dd>X</dd><dt><span>comment :</span></dt><dd> Longitude geographical coordinates,WGS84 projection</dd><dt><span>_ChunkSizes :</span></dt><dd>1440</dd><dt><span>_CoordinateAxisType :</span></dt><dd>Lon</dd></dl></div><pre class='xr-var-data'>array([-4.875, -4.625, -4.375, -4.125, -3.875, -3.625, -3.375, -3.125, -2.875,\n",
       "       -2.625, -2.375, -2.125, -1.875, -1.625, -1.375, -1.125, -0.875, -0.625,\n",
       "       -0.375, -0.125,  0.125,  0.375,  0.625,  0.875,  1.125,  1.375,  1.625,\n",
       "        1.875,  2.125,  2.375,  2.625,  2.875,  3.125,  3.375,  3.625,  3.875,\n",
       "        4.125,  4.375,  4.625,  4.875,  5.125,  5.375,  5.625,  5.875,  6.125,\n",
       "        6.375,  6.625,  6.875,  7.125,  7.375,  7.625,  7.875,  8.125,  8.375,\n",
       "        8.625,  8.875,  9.125,  9.375,  9.625,  9.875, 10.125, 10.375, 10.625,\n",
       "       10.875, 11.125, 11.375, 11.625, 11.875, 12.125, 12.375, 12.625, 12.875,\n",
       "       13.125, 13.375, 13.625, 13.875, 14.125, 14.375, 14.625, 14.875, 15.125,\n",
       "       15.375, 15.625, 15.875, 16.125, 16.375, 16.625, 16.875, 17.125, 17.375,\n",
       "       17.625, 17.875, 18.125, 18.375, 18.625, 18.875, 19.125, 19.375, 19.625,\n",
       "       19.875, 20.125, 20.375, 20.625, 20.875, 21.125, 21.375, 21.625, 21.875,\n",
       "       22.125, 22.375, 22.625, 22.875, 23.125, 23.375, 23.625, 23.875, 24.125,\n",
       "       24.375, 24.625, 24.875, 25.125, 25.375, 25.625, 25.875, 26.125, 26.375,\n",
       "       26.625, 26.875, 27.125, 27.375, 27.625, 27.875, 28.125, 28.375, 28.625,\n",
       "       28.875, 29.125, 29.375, 29.625, 29.875, 30.125, 30.375, 30.625, 30.875,\n",
       "       31.125, 31.375, 31.625, 31.875, 32.125, 32.375, 32.625, 32.875, 33.125,\n",
       "       33.375, 33.625, 33.875, 34.125, 34.375, 34.625, 34.875, 35.125, 35.375,\n",
       "       35.625, 35.875, 36.125, 36.375, 36.625, 36.875, 37.125, 37.375, 37.625,\n",
       "       37.875, 38.125, 38.375, 38.625, 38.875, 39.125, 39.375, 39.625, 39.875,\n",
       "       40.125, 40.375, 40.625, 40.875, 41.125, 41.375, 41.625, 41.875, 42.125,\n",
       "       42.375, 42.625, 42.875])</pre></li><li class='xr-var-item'><div class='xr-var-name'><span class='xr-has-index'>feature</span></div><div class='xr-var-dims'>(feature)</div><div class='xr-var-dtype'>int64</div><div class='xr-var-preview xr-preview'>1 2 3 4 5 6 7 ... 47 48 49 50 51 52</div><input id='attrs-fe8e6bf6-cec6-4552-899c-6a67e3828912' class='xr-var-attrs-in' type='checkbox' disabled><label for='attrs-fe8e6bf6-cec6-4552-899c-6a67e3828912' title='Show/Hide attributes'><svg class='icon xr-icon-file-text2'><use xlink:href='#icon-file-text2'></use></svg></label><input id='data-bb3005b8-fc13-41a9-b418-57eac06b4997' class='xr-var-data-in' type='checkbox'><label for='data-bb3005b8-fc13-41a9-b418-57eac06b4997' title='Show/Hide data repr'><svg class='icon xr-icon-database'><use xlink:href='#icon-database'></use></svg></label><div class='xr-var-attrs'><dl class='xr-attrs'></dl></div><pre class='xr-var-data'>array([ 1,  2,  3,  4,  5,  6,  7,  8,  9, 10, 11, 12, 13, 14, 15, 16, 17, 18,\n",
       "       19, 20, 21, 22, 23, 24, 25, 26, 27, 28, 29, 30, 31, 32, 33, 34, 35, 36,\n",
       "       37, 38, 39, 40, 41, 42, 43, 44, 45, 46, 47, 48, 49, 50, 51, 52])</pre></li><li class='xr-var-item'><div class='xr-var-name'><span class='xr-has-index'>quantile</span></div><div class='xr-var-dims'>(quantile)</div><div class='xr-var-dtype'>float64</div><div class='xr-var-preview xr-preview'>0.05 0.5 0.95</div><input id='attrs-8059d37d-9bac-4f3c-b503-764a60b13e0c' class='xr-var-attrs-in' type='checkbox' disabled><label for='attrs-8059d37d-9bac-4f3c-b503-764a60b13e0c' title='Show/Hide attributes'><svg class='icon xr-icon-file-text2'><use xlink:href='#icon-file-text2'></use></svg></label><input id='data-3da135f9-cd0e-43bc-bfc8-b648cd0f6e7a' class='xr-var-data-in' type='checkbox'><label for='data-3da135f9-cd0e-43bc-bfc8-b648cd0f6e7a' title='Show/Hide data repr'><svg class='icon xr-icon-database'><use xlink:href='#icon-database'></use></svg></label><div class='xr-var-attrs'><dl class='xr-attrs'></dl></div><pre class='xr-var-data'>array([0.05, 0.5 , 0.95])</pre></li><li class='xr-var-item'><div class='xr-var-name'><span class='xr-has-index'>time</span></div><div class='xr-var-dims'>(time)</div><div class='xr-var-dtype'>datetime64[ns]</div><div class='xr-var-preview xr-preview'>2019-01-01T00:30:00 ... 2019-12-31T23:30:00</div><input id='attrs-821d39da-4a88-4dec-919a-95764e3e6a12' class='xr-var-attrs-in' type='checkbox' ><label for='attrs-821d39da-4a88-4dec-919a-95764e3e6a12' title='Show/Hide attributes'><svg class='icon xr-icon-file-text2'><use xlink:href='#icon-file-text2'></use></svg></label><input id='data-ddf6dad7-fb45-499f-b84d-5c829fca5a4e' class='xr-var-data-in' type='checkbox'><label for='data-ddf6dad7-fb45-499f-b84d-5c829fca5a4e' title='Show/Hide data repr'><svg class='icon xr-icon-database'><use xlink:href='#icon-database'></use></svg></label><div class='xr-var-attrs'><dl class='xr-attrs'><dt><span>long_name :</span></dt><dd>reference time of sst field</dd><dt><span>standard_name :</span></dt><dd>time</dd><dt><span>axis :</span></dt><dd>T</dd><dt><span>comment :</span></dt><dd></dd><dt><span>_ChunkSizes :</span></dt><dd>24</dd><dt><span>_CoordinateAxisType :</span></dt><dd>Time</dd></dl></div><pre class='xr-var-data'>array([&#x27;2019-01-01T00:30:00.000000000&#x27;, &#x27;2019-01-01T01:30:00.000000000&#x27;,\n",
       "       &#x27;2019-01-01T02:30:00.000000000&#x27;, ..., &#x27;2019-12-31T21:30:00.000000000&#x27;,\n",
       "       &#x27;2019-12-31T22:30:00.000000000&#x27;, &#x27;2019-12-31T23:30:00.000000000&#x27;],\n",
       "      dtype=&#x27;datetime64[ns]&#x27;)</pre></li></ul></div></li><li class='xr-section-item'><input id='section-d832c7c8-feec-40f3-94b0-e1a58d1e5aed' class='xr-section-summary-in' type='checkbox'  checked><label for='section-d832c7c8-feec-40f3-94b0-e1a58d1e5aed' class='xr-section-summary' >Data variables: <span>(9)</span></label><div class='xr-section-inline-details'></div><div class='xr-section-details'><ul class='xr-var-list'><li class='xr-var-item'><div class='xr-var-name'><span>analysed_sst</span></div><div class='xr-var-dims'>(feature, lat, lon)</div><div class='xr-var-dtype'>float32</div><div class='xr-var-preview xr-preview'>nan nan nan ... nan nan 275.3912</div><input id='attrs-9445c8d2-807c-4efd-9769-08674f99f249' class='xr-var-attrs-in' type='checkbox' disabled><label for='attrs-9445c8d2-807c-4efd-9769-08674f99f249' title='Show/Hide attributes'><svg class='icon xr-icon-file-text2'><use xlink:href='#icon-file-text2'></use></svg></label><input id='data-0fe4ef9c-2104-4304-8f7d-1cc4f090b2fa' class='xr-var-data-in' type='checkbox'><label for='data-0fe4ef9c-2104-4304-8f7d-1cc4f090b2fa' title='Show/Hide data repr'><svg class='icon xr-icon-database'><use xlink:href='#icon-database'></use></svg></label><div class='xr-var-attrs'><dl class='xr-attrs'></dl></div><pre class='xr-var-data'>array([[[      nan,       nan,       nan, ...,       nan,       nan,\n",
       "               nan],\n",
       "        [      nan,       nan,       nan, ...,       nan,       nan,\n",
       "               nan],\n",
       "        [      nan,       nan,       nan, ...,       nan,       nan,\n",
       "               nan],\n",
       "        ...,\n",
       "        [285.9456 , 285.90225, 285.94632, ...,       nan,       nan,\n",
       "               nan],\n",
       "        [285.80164, 285.77313, 285.77274, ...,       nan,       nan,\n",
       "               nan],\n",
       "        [285.72232, 285.71152, 285.71255, ...,       nan,       nan,\n",
       "         275.20767]],\n",
       "\n",
       "       [[      nan,       nan,       nan, ...,       nan,       nan,\n",
       "               nan],\n",
       "        [      nan,       nan,       nan, ...,       nan,       nan,\n",
       "               nan],\n",
       "        [      nan,       nan,       nan, ...,       nan,       nan,\n",
       "               nan],\n",
       "        ...,\n",
       "        [285.77808, 285.7301 , 285.77   , ...,       nan,       nan,\n",
       "               nan],\n",
       "        [285.68823, 285.65338, 285.67932, ...,       nan,       nan,\n",
       "               nan],\n",
       "        [285.65558, 285.62915, 285.62134, ...,       nan,       nan,\n",
       "         274.7601 ]],\n",
       "\n",
       "       [[      nan,       nan,       nan, ...,       nan,       nan,\n",
       "               nan],\n",
       "        [      nan,       nan,       nan, ...,       nan,       nan,\n",
       "               nan],\n",
       "        [      nan,       nan,       nan, ...,       nan,       nan,\n",
       "               nan],\n",
       "        ...,\n",
       "        [285.61765, 285.5934 , 285.589  , ...,       nan,       nan,\n",
       "               nan],\n",
       "        [285.5294 , 285.48715, 285.4816 , ...,       nan,       nan,\n",
       "               nan],\n",
       "        [285.46204, 285.3812 , 285.3575 , ...,       nan,       nan,\n",
       "         274.4197 ]],\n",
       "\n",
       "       ...,\n",
       "\n",
       "       [[      nan,       nan,       nan, ...,       nan,       nan,\n",
       "               nan],\n",
       "        [      nan,       nan,       nan, ...,       nan,       nan,\n",
       "               nan],\n",
       "        [      nan,       nan,       nan, ...,       nan,       nan,\n",
       "               nan],\n",
       "        ...,\n",
       "        [286.33334, 286.5006 , 286.58026, ...,       nan,       nan,\n",
       "               nan],\n",
       "        [286.15024, 286.29944, 286.34937, ...,       nan,       nan,\n",
       "               nan],\n",
       "        [285.93643, 286.01236, 286.0766 , ...,       nan,       nan,\n",
       "         276.72717]],\n",
       "\n",
       "       [[      nan,       nan,       nan, ...,       nan,       nan,\n",
       "               nan],\n",
       "        [      nan,       nan,       nan, ...,       nan,       nan,\n",
       "               nan],\n",
       "        [      nan,       nan,       nan, ...,       nan,       nan,\n",
       "               nan],\n",
       "        ...,\n",
       "        [286.21988, 286.29184, 286.28067, ...,       nan,       nan,\n",
       "               nan],\n",
       "        [286.0485 , 286.09097, 286.0829 , ...,       nan,       nan,\n",
       "               nan],\n",
       "        [285.80414, 285.88565, 285.94458, ...,       nan,       nan,\n",
       "         276.32104]],\n",
       "\n",
       "       [[      nan,       nan,       nan, ...,       nan,       nan,\n",
       "               nan],\n",
       "        [      nan,       nan,       nan, ...,       nan,       nan,\n",
       "               nan],\n",
       "        [      nan,       nan,       nan, ...,       nan,       nan,\n",
       "               nan],\n",
       "        ...,\n",
       "        [286.00876, 285.97864, 286.06802, ...,       nan,       nan,\n",
       "               nan],\n",
       "        [285.79688, 285.8666 , 285.8565 , ...,       nan,       nan,\n",
       "               nan],\n",
       "        [285.60513, 285.69946, 285.79395, ...,       nan,       nan,\n",
       "         275.3912 ]]], dtype=float32)</pre></li><li class='xr-var-item'><div class='xr-var-name'><span>analysed_sst_scaled</span></div><div class='xr-var-dims'>(feature, lat, lon)</div><div class='xr-var-dtype'>float32</div><div class='xr-var-preview xr-preview'>nan nan nan ... nan nan -4.903476</div><input id='attrs-84a2ca09-4e42-4fbc-bc81-6593eddbb999' class='xr-var-attrs-in' type='checkbox' disabled><label for='attrs-84a2ca09-4e42-4fbc-bc81-6593eddbb999' title='Show/Hide attributes'><svg class='icon xr-icon-file-text2'><use xlink:href='#icon-file-text2'></use></svg></label><input id='data-d140ad0d-620c-4867-9b36-6417336274a0' class='xr-var-data-in' type='checkbox'><label for='data-d140ad0d-620c-4867-9b36-6417336274a0' title='Show/Hide data repr'><svg class='icon xr-icon-database'><use xlink:href='#icon-database'></use></svg></label><div class='xr-var-attrs'><dl class='xr-attrs'></dl></div><pre class='xr-var-data'>array([[[        nan,         nan,         nan, ...,         nan,\n",
       "                 nan,         nan],\n",
       "        [        nan,         nan,         nan, ...,         nan,\n",
       "                 nan,         nan],\n",
       "        [        nan,         nan,         nan, ...,         nan,\n",
       "                 nan,         nan],\n",
       "        ...,\n",
       "        [-0.73221433, -0.74606687, -0.7319802 , ...,         nan,\n",
       "                 nan,         nan],\n",
       "        [-0.7782301 , -0.78734154, -0.7874684 , ...,         nan,\n",
       "                 nan,         nan],\n",
       "        [-0.80358416, -0.80703753, -0.80670583, ...,         nan,\n",
       "                 nan, -4.1647162 ]],\n",
       "\n",
       "       [[        nan,         nan,         nan, ...,         nan,\n",
       "                 nan,         nan],\n",
       "        [        nan,         nan,         nan, ...,         nan,\n",
       "                 nan,         nan],\n",
       "        [        nan,         nan,         nan, ...,         nan,\n",
       "                 nan,         nan],\n",
       "        ...,\n",
       "        [-0.54738843, -0.56201094, -0.54985344, ...,         nan,\n",
       "                 nan,         nan],\n",
       "        [-0.57477313, -0.5853959 , -0.57748926, ...,         nan,\n",
       "                 nan,         nan],\n",
       "        [-0.5847261 , -0.59278154, -0.5951628 , ...,         nan,\n",
       "                 nan, -3.9057047 ]],\n",
       "\n",
       "       [[        nan,         nan,         nan, ...,         nan,\n",
       "                 nan,         nan],\n",
       "        [        nan,         nan,         nan, ...,         nan,\n",
       "                 nan,         nan],\n",
       "        [        nan,         nan,         nan, ...,         nan,\n",
       "                 nan,         nan],\n",
       "        ...,\n",
       "        [-0.50060946, -0.5080207 , -0.50937414, ...,         nan,\n",
       "                 nan,         nan],\n",
       "        [-0.52760345, -0.54052174, -0.54222053, ...,         nan,\n",
       "                 nan,         nan],\n",
       "        [-0.54820365, -0.5729295 , -0.58017266, ...,         nan,\n",
       "                 nan, -3.9255798 ]],\n",
       "\n",
       "       ...,\n",
       "\n",
       "       [[        nan,         nan,         nan, ...,         nan,\n",
       "                 nan,         nan],\n",
       "        [        nan,         nan,         nan, ...,         nan,\n",
       "                 nan,         nan],\n",
       "        [        nan,         nan,         nan, ...,         nan,\n",
       "                 nan,         nan],\n",
       "        ...,\n",
       "        [-1.225128  , -1.1706184 , -1.1446614 , ...,         nan,\n",
       "                 nan,         nan],\n",
       "        [-1.2847991 , -1.2361771 , -1.2199068 , ...,         nan,\n",
       "                 nan,         nan],\n",
       "        [-1.3544751 , -1.3297316 , -1.3087969 , ...,         nan,\n",
       "                 nan, -4.3556256 ]],\n",
       "\n",
       "       [[        nan,         nan,         nan, ...,         nan,\n",
       "                 nan,         nan],\n",
       "        [        nan,         nan,         nan, ...,         nan,\n",
       "                 nan,         nan],\n",
       "        [        nan,         nan,         nan, ...,         nan,\n",
       "                 nan,         nan],\n",
       "        ...,\n",
       "        [-1.1990385 , -1.1743912 , -1.1782168 , ...,         nan,\n",
       "                 nan,         nan],\n",
       "        [-1.2577404 , -1.2431903 , -1.2459602 , ...,         nan,\n",
       "                 nan,         nan],\n",
       "        [-1.3414344 , -1.3135154 , -1.2933315 , ...,         nan,\n",
       "                 nan, -4.5895    ]],\n",
       "\n",
       "       [[        nan,         nan,         nan, ...,         nan,\n",
       "                 nan,         nan],\n",
       "        [        nan,         nan,         nan, ...,         nan,\n",
       "                 nan,         nan],\n",
       "        [        nan,         nan,         nan, ...,         nan,\n",
       "                 nan,         nan],\n",
       "        ...,\n",
       "        [-1.1274654 , -1.1381775 , -1.1063884 , ...,         nan,\n",
       "                 nan,         nan],\n",
       "        [-1.2028193 , -1.1780198 , -1.1816121 , ...,         nan,\n",
       "                 nan,         nan],\n",
       "        [-1.2710102 , -1.2374629 , -1.2038612 , ...,         nan,\n",
       "                 nan, -4.903476  ]]], dtype=float32)</pre></li><li class='xr-var-item'><div class='xr-var-name'><span>analysed_sst_reduced</span></div><div class='xr-var-dims'>(feature_reduced, lat, lon)</div><div class='xr-var-dtype'>float32</div><div class='xr-var-preview xr-preview'>nan nan nan ... nan nan 0.32258075</div><input id='attrs-88aa925a-7073-4eaf-8167-7acca554a434' class='xr-var-attrs-in' type='checkbox' disabled><label for='attrs-88aa925a-7073-4eaf-8167-7acca554a434' title='Show/Hide attributes'><svg class='icon xr-icon-file-text2'><use xlink:href='#icon-file-text2'></use></svg></label><input id='data-cdaae711-e766-48c3-931f-a5bd7ccc3845' class='xr-var-data-in' type='checkbox'><label for='data-cdaae711-e766-48c3-931f-a5bd7ccc3845' title='Show/Hide data repr'><svg class='icon xr-icon-database'><use xlink:href='#icon-database'></use></svg></label><div class='xr-var-attrs'><dl class='xr-attrs'></dl></div><pre class='xr-var-data'>array([[[           nan,            nan,            nan, ...,\n",
       "                    nan,            nan,            nan],\n",
       "        [           nan,            nan,            nan, ...,\n",
       "                    nan,            nan,            nan],\n",
       "        [           nan,            nan,            nan, ...,\n",
       "                    nan,            nan,            nan],\n",
       "        ...,\n",
       "        [-1.2659854e+01, -1.2592494e+01, -1.2494878e+01, ...,\n",
       "                    nan,            nan,            nan],\n",
       "        [-1.3353225e+01, -1.3271432e+01, -1.3110902e+01, ...,\n",
       "                    nan,            nan,            nan],\n",
       "        [-1.3884481e+01, -1.3800128e+01, -1.3637217e+01, ...,\n",
       "                    nan,            nan, -1.7802534e+01]],\n",
       "\n",
       "       [[           nan,            nan,            nan, ...,\n",
       "                    nan,            nan,            nan],\n",
       "        [           nan,            nan,            nan, ...,\n",
       "                    nan,            nan,            nan],\n",
       "        [           nan,            nan,            nan, ...,\n",
       "                    nan,            nan,            nan],\n",
       "        ...,\n",
       "        [-1.0035064e+01, -9.9907818e+00, -9.9208975e+00, ...,\n",
       "                    nan,            nan,            nan],\n",
       "        [-1.0478359e+01, -1.0358597e+01, -1.0167067e+01, ...,\n",
       "                    nan,            nan,            nan],\n",
       "        [-1.0836388e+01, -1.0700613e+01, -1.0427725e+01, ...,\n",
       "                    nan,            nan,  1.0365499e+01]],\n",
       "\n",
       "       [[           nan,            nan,            nan, ...,\n",
       "                    nan,            nan,            nan],\n",
       "        [           nan,            nan,            nan, ...,\n",
       "                    nan,            nan,            nan],\n",
       "        [           nan,            nan,            nan, ...,\n",
       "                    nan,            nan,            nan],\n",
       "        ...,\n",
       "        [ 8.6842829e-01,  9.0508318e-01,  9.2862201e-01, ...,\n",
       "                    nan,            nan,            nan],\n",
       "        [ 1.0908736e+00,  1.1279684e+00,  1.1324188e+00, ...,\n",
       "                    nan,            nan,            nan],\n",
       "        [ 1.2929235e+00,  1.2317463e+00,  1.2716379e+00, ...,\n",
       "                    nan,            nan,  2.9378529e+00]],\n",
       "\n",
       "       ...,\n",
       "\n",
       "       [[           nan,            nan,            nan, ...,\n",
       "                    nan,            nan,            nan],\n",
       "        [           nan,            nan,            nan, ...,\n",
       "                    nan,            nan,            nan],\n",
       "        [           nan,            nan,            nan, ...,\n",
       "                    nan,            nan,            nan],\n",
       "        ...,\n",
       "        [ 5.5003941e-01,  5.1382899e-01,  4.8956418e-01, ...,\n",
       "                    nan,            nan,            nan],\n",
       "        [ 5.9519589e-01,  4.9753812e-01,  4.2398718e-01, ...,\n",
       "                    nan,            nan,            nan],\n",
       "        [ 5.6446850e-01,  5.7507598e-01,  4.8043868e-01, ...,\n",
       "                    nan,            nan,  2.1765211e+00]],\n",
       "\n",
       "       [[           nan,            nan,            nan, ...,\n",
       "                    nan,            nan,            nan],\n",
       "        [           nan,            nan,            nan, ...,\n",
       "                    nan,            nan,            nan],\n",
       "        [           nan,            nan,            nan, ...,\n",
       "                    nan,            nan,            nan],\n",
       "        ...,\n",
       "        [-2.5848413e-02, -9.5542163e-02, -1.5903423e-02, ...,\n",
       "                    nan,            nan,            nan],\n",
       "        [ 3.9661825e-02, -1.6305473e-02, -2.2529257e-02, ...,\n",
       "                    nan,            nan,            nan],\n",
       "        [-3.0637797e-02,  3.3863798e-02, -1.6023526e-02, ...,\n",
       "                    nan,            nan,  8.5268402e-01]],\n",
       "\n",
       "       [[           nan,            nan,            nan, ...,\n",
       "                    nan,            nan,            nan],\n",
       "        [           nan,            nan,            nan, ...,\n",
       "                    nan,            nan,            nan],\n",
       "        [           nan,            nan,            nan, ...,\n",
       "                    nan,            nan,            nan],\n",
       "        ...,\n",
       "        [-8.0594760e-01, -7.6200360e-01, -8.0425739e-01, ...,\n",
       "                    nan,            nan,            nan],\n",
       "        [-8.3408892e-01, -7.8266883e-01, -8.6193681e-01, ...,\n",
       "                    nan,            nan,            nan],\n",
       "        [-7.7466196e-01, -8.1277388e-01, -7.8385276e-01, ...,\n",
       "                    nan,            nan,  3.2258075e-01]]], dtype=float32)</pre></li><li class='xr-var-item'><div class='xr-var-name'><span>GMM_labels</span></div><div class='xr-var-dims'>(lat, lon)</div><div class='xr-var-dtype'>float64</div><div class='xr-var-preview xr-preview'>nan nan nan nan ... nan nan nan 3.0</div><input id='attrs-63bff3db-cf9a-47ed-8246-834990452f97' class='xr-var-attrs-in' type='checkbox' disabled><label for='attrs-63bff3db-cf9a-47ed-8246-834990452f97' title='Show/Hide attributes'><svg class='icon xr-icon-file-text2'><use xlink:href='#icon-file-text2'></use></svg></label><input id='data-a1117e11-ee7e-449e-9e4b-31d48a50cd30' class='xr-var-data-in' type='checkbox'><label for='data-a1117e11-ee7e-449e-9e4b-31d48a50cd30' title='Show/Hide data repr'><svg class='icon xr-icon-database'><use xlink:href='#icon-database'></use></svg></label><div class='xr-var-attrs'><dl class='xr-attrs'></dl></div><pre class='xr-var-data'>array([[nan, nan, nan, ..., nan, nan, nan],\n",
       "       [nan, nan, nan, ..., nan, nan, nan],\n",
       "       [nan, nan, nan, ..., nan, nan, nan],\n",
       "       ...,\n",
       "       [ 4.,  4.,  4., ..., nan, nan, nan],\n",
       "       [ 4.,  4.,  4., ..., nan, nan, nan],\n",
       "       [ 4.,  4.,  4., ..., nan, nan,  3.]])</pre></li><li class='xr-var-item'><div class='xr-var-name'><span>GMM_post</span></div><div class='xr-var-dims'>(k, lat, lon)</div><div class='xr-var-dtype'>float64</div><div class='xr-var-preview xr-preview'>nan nan nan ... nan nan 1.291e-71</div><input id='attrs-1249e842-5c14-4963-82e8-038dd21d5fb6' class='xr-var-attrs-in' type='checkbox' disabled><label for='attrs-1249e842-5c14-4963-82e8-038dd21d5fb6' title='Show/Hide attributes'><svg class='icon xr-icon-file-text2'><use xlink:href='#icon-file-text2'></use></svg></label><input id='data-8bd2a260-5f85-44ae-a4a4-d050265b98a4' class='xr-var-data-in' type='checkbox'><label for='data-8bd2a260-5f85-44ae-a4a4-d050265b98a4' title='Show/Hide data repr'><svg class='icon xr-icon-database'><use xlink:href='#icon-database'></use></svg></label><div class='xr-var-attrs'><dl class='xr-attrs'></dl></div><pre class='xr-var-data'>array([[[            nan,             nan,             nan, ...,\n",
       "                     nan,             nan,             nan],\n",
       "        [            nan,             nan,             nan, ...,\n",
       "                     nan,             nan,             nan],\n",
       "        [            nan,             nan,             nan, ...,\n",
       "                     nan,             nan,             nan],\n",
       "        ...,\n",
       "        [2.72446140e-047, 1.36557135e-047, 1.88879021e-046, ...,\n",
       "                     nan,             nan,             nan],\n",
       "        [2.71015818e-047, 1.18570147e-047, 1.03801125e-046, ...,\n",
       "                     nan,             nan,             nan],\n",
       "        [1.50185751e-046, 4.88329521e-048, 1.18965510e-046, ...,\n",
       "                     nan,             nan, 2.73304112e-114]],\n",
       "\n",
       "       [[            nan,             nan,             nan, ...,\n",
       "                     nan,             nan,             nan],\n",
       "        [            nan,             nan,             nan, ...,\n",
       "                     nan,             nan,             nan],\n",
       "        [            nan,             nan,             nan, ...,\n",
       "                     nan,             nan,             nan],\n",
       "        ...,\n",
       "        [1.26924884e-047, 3.01453519e-046, 6.03788184e-047, ...,\n",
       "                     nan,             nan,             nan],\n",
       "        [3.47176612e-054, 3.90124579e-051, 5.56095211e-051, ...,\n",
       "                     nan,             nan,             nan],\n",
       "        [5.88548528e-056, 7.57757163e-054, 1.05904070e-050, ...,\n",
       "                     nan,             nan, 0.00000000e+000]],\n",
       "\n",
       "       [[            nan,             nan,             nan, ...,\n",
       "                     nan,             nan,             nan],\n",
       "        [            nan,             nan,             nan, ...,\n",
       "                     nan,             nan,             nan],\n",
       "        [            nan,             nan,             nan, ...,\n",
       "                     nan,             nan,             nan],\n",
       "        ...,\n",
       "        [2.75941119e-126, 2.36128387e-122, 9.00897383e-121, ...,\n",
       "                     nan,             nan,             nan],\n",
       "        [1.59818251e-132, 2.24323549e-127, 2.24696497e-123, ...,\n",
       "                     nan,             nan,             nan],\n",
       "        [4.02192639e-133, 4.61408795e-135, 1.30486357e-128, ...,\n",
       "                     nan,             nan, 0.00000000e+000]],\n",
       "\n",
       "       ...,\n",
       "\n",
       "       [[            nan,             nan,             nan, ...,\n",
       "                     nan,             nan,             nan],\n",
       "        [            nan,             nan,             nan, ...,\n",
       "                     nan,             nan,             nan],\n",
       "        [            nan,             nan,             nan, ...,\n",
       "                     nan,             nan,             nan],\n",
       "        ...,\n",
       "        [1.00000000e+000, 1.00000000e+000, 1.00000000e+000, ...,\n",
       "                     nan,             nan,             nan],\n",
       "        [1.00000000e+000, 1.00000000e+000, 1.00000000e+000, ...,\n",
       "                     nan,             nan,             nan],\n",
       "        [1.00000000e+000, 1.00000000e+000, 1.00000000e+000, ...,\n",
       "                     nan,             nan, 0.00000000e+000]],\n",
       "\n",
       "       [[            nan,             nan,             nan, ...,\n",
       "                     nan,             nan,             nan],\n",
       "        [            nan,             nan,             nan, ...,\n",
       "                     nan,             nan,             nan],\n",
       "        [            nan,             nan,             nan, ...,\n",
       "                     nan,             nan,             nan],\n",
       "        ...,\n",
       "        [3.15109365e-305, 2.14709926e-299, 5.16396276e-305, ...,\n",
       "                     nan,             nan,             nan],\n",
       "        [0.00000000e+000, 0.00000000e+000, 0.00000000e+000, ...,\n",
       "                     nan,             nan,             nan],\n",
       "        [0.00000000e+000, 0.00000000e+000, 0.00000000e+000, ...,\n",
       "                     nan,             nan, 0.00000000e+000]],\n",
       "\n",
       "       [[            nan,             nan,             nan, ...,\n",
       "                     nan,             nan,             nan],\n",
       "        [            nan,             nan,             nan, ...,\n",
       "                     nan,             nan,             nan],\n",
       "        [            nan,             nan,             nan, ...,\n",
       "                     nan,             nan,             nan],\n",
       "        ...,\n",
       "        [9.55947427e-066, 1.20950688e-065, 1.16779159e-063, ...,\n",
       "                     nan,             nan,             nan],\n",
       "        [1.45331725e-065, 1.93073787e-064, 1.64655095e-062, ...,\n",
       "                     nan,             nan,             nan],\n",
       "        [3.04627690e-066, 3.40972770e-066, 1.93910626e-063, ...,\n",
       "                     nan,             nan, 1.29095864e-071]]])</pre></li><li class='xr-var-item'><div class='xr-var-name'><span>analysed_sst_Q</span></div><div class='xr-var-dims'>(k, quantile, feature)</div><div class='xr-var-dtype'>float64</div><div class='xr-var-preview xr-preview'>287.3 286.4 286.2 ... 287.4 286.9</div><input id='attrs-39be54d0-3003-480b-9fef-0735a23c6612' class='xr-var-attrs-in' type='checkbox' disabled><label for='attrs-39be54d0-3003-480b-9fef-0735a23c6612' title='Show/Hide attributes'><svg class='icon xr-icon-file-text2'><use xlink:href='#icon-file-text2'></use></svg></label><input id='data-54240111-d553-4f37-99bb-4b4b26eb6233' class='xr-var-data-in' type='checkbox'><label for='data-54240111-d553-4f37-99bb-4b4b26eb6233' title='Show/Hide data repr'><svg class='icon xr-icon-database'><use xlink:href='#icon-database'></use></svg></label><div class='xr-var-attrs'><dl class='xr-attrs'></dl></div><pre class='xr-var-data'>array([[[287.32270355, 286.4427002 , 286.16719513, ..., 289.12767944,\n",
       "         288.78344574, 288.50732422],\n",
       "        [289.19396973, 288.83630371, 288.70500183, ..., 291.36346436,\n",
       "         291.05857849, 290.44418335],\n",
       "        [291.22394867, 290.64120026, 290.37496796, ..., 293.26304169,\n",
       "         292.78576355, 292.12134857]],\n",
       "\n",
       "       [[287.35831909, 286.81392212, 286.5947998 , ..., 288.20214233,\n",
       "         288.08769531, 287.63707886],\n",
       "        [288.44744873, 287.92877197, 287.67327881, ..., 289.74362183,\n",
       "         289.54403687, 288.94500732],\n",
       "        [289.32996826, 288.94608765, 288.6128418 , ..., 290.85952148,\n",
       "         290.44936523, 289.74129028]],\n",
       "\n",
       "       [[289.34193115, 288.69798584, 288.49640503, ..., 291.81907349,\n",
       "         291.27007446, 290.56821899],\n",
       "        [291.56332397, 290.76934814, 290.29779053, ..., 293.73452759,\n",
       "         293.0838623 , 292.52896118],\n",
       "        [292.6914856 , 292.00194092, 291.44498291, ..., 294.51120605,\n",
       "         293.8444397 , 293.32999878]],\n",
       "\n",
       "       ...,\n",
       "\n",
       "       [[284.5453064 , 283.66528931, 283.51967468, ..., 285.85393982,\n",
       "         285.81002808, 285.21540527],\n",
       "        [286.2069397 , 285.93612671, 285.82836914, ..., 287.33026123,\n",
       "         287.22540283, 286.86087036],\n",
       "        [287.97824402, 287.42184143, 286.93197021, ..., 288.9846344 ,\n",
       "         288.73401184, 288.22080688]],\n",
       "\n",
       "       [[288.66919556, 288.08195648, 287.91849365, ..., 290.46614532,\n",
       "         290.04510956, 289.27069092],\n",
       "        [290.34588623, 289.62452698, 289.22998047, ..., 292.54496765,\n",
       "         291.94497681, 291.16778564],\n",
       "        [291.6688324 , 291.09354248, 290.47605133, ..., 293.75586548,\n",
       "         293.18175201, 292.57411957]],\n",
       "\n",
       "       [[282.39872437, 281.45361938, 281.21322632, ..., 284.44085999,\n",
       "         284.35621033, 284.32756348],\n",
       "        [283.68530273, 282.69573975, 282.3248291 , ..., 286.35516357,\n",
       "         286.06854248, 285.65454102],\n",
       "        [285.89987793, 285.26152954, 284.85801392, ..., 287.83473206,\n",
       "         287.39234924, 286.91872864]]])</pre></li><li class='xr-var-item'><div class='xr-var-name'><span>analysed_sst_scaled_Q</span></div><div class='xr-var-dims'>(k, quantile, feature)</div><div class='xr-var-dtype'>float64</div><div class='xr-var-preview xr-preview'>287.3 286.4 ... -0.7975 -0.8038</div><input id='attrs-938f9661-65b2-4bb1-a3c2-d2f0723f6853' class='xr-var-attrs-in' type='checkbox' disabled><label for='attrs-938f9661-65b2-4bb1-a3c2-d2f0723f6853' title='Show/Hide attributes'><svg class='icon xr-icon-file-text2'><use xlink:href='#icon-file-text2'></use></svg></label><input id='data-332beadb-bf7d-4757-ba81-a4c1a2f213af' class='xr-var-data-in' type='checkbox'><label for='data-332beadb-bf7d-4757-ba81-a4c1a2f213af' title='Show/Hide data repr'><svg class='icon xr-icon-database'><use xlink:href='#icon-database'></use></svg></label><div class='xr-var-attrs'><dl class='xr-attrs'></dl></div><pre class='xr-var-data'>array([[[ 2.87322704e+02,  2.86442700e+02,  2.86167195e+02, ...,\n",
       "          2.89127679e+02,  2.88783446e+02,  2.88507324e+02],\n",
       "        [ 2.89193970e+02,  2.88836304e+02,  2.88705002e+02, ...,\n",
       "          2.91363464e+02,  2.91058578e+02,  2.90444183e+02],\n",
       "        [ 2.91223949e+02,  2.90641200e+02,  2.90374968e+02, ...,\n",
       "          2.93263042e+02,  2.92785764e+02,  2.92121349e+02]],\n",
       "\n",
       "       [[-2.80617827e-01, -2.31659070e-01, -2.01739675e-01, ...,\n",
       "         -6.16116202e-01, -5.59290504e-01, -5.48371935e-01],\n",
       "        [ 6.75353706e-02,  1.08150959e-01,  1.28120929e-01, ...,\n",
       "         -1.13772653e-01, -6.04772270e-02, -8.32222477e-02],\n",
       "        [ 3.49643183e-01,  4.18232256e-01,  4.15493095e-01, ...,\n",
       "          2.49881229e-01,  2.49607879e-01,  1.99966639e-01]],\n",
       "\n",
       "       [[ 3.53467280e-01,  3.42609972e-01,  3.79880077e-01, ...,\n",
       "          5.62583947e-01,  5.30709970e-01,  4.94054317e-01],\n",
       "        [ 1.06356180e+00,  9.73968208e-01,  9.30846870e-01, ...,\n",
       "          1.18679988e+00,  1.15195251e+00,  1.19136965e+00],\n",
       "        [ 1.42419200e+00,  1.34966674e+00,  1.28172400e+00, ...,\n",
       "          1.43990700e+00,  1.41245890e+00,  1.47624955e+00]],\n",
       "\n",
       "       ...,\n",
       "\n",
       "       [[-1.17983060e+00, -1.19137317e+00, -1.14228898e+00, ...,\n",
       "         -1.38135802e+00, -1.33941700e+00, -1.40961238e+00],\n",
       "        [-6.48669899e-01, -4.99214113e-01, -4.36158061e-01, ...,\n",
       "         -9.00248408e-01, -8.54635358e-01, -8.24421644e-01],\n",
       "        [-8.24514642e-02, -4.63631954e-02, -9.86136727e-02, ...,\n",
       "         -3.61114544e-01, -3.37919855e-01, -3.40775806e-01]],\n",
       "\n",
       "       [[ 1.38419373e-01,  1.54842121e-01,  2.03121683e-01, ...,\n",
       "          1.21686224e-01,  1.11145772e-01,  3.26033760e-02],\n",
       "        [ 6.74393386e-01,  6.25022829e-01,  6.04249418e-01, ...,\n",
       "          7.99141228e-01,  7.61871517e-01,  7.07283318e-01],\n",
       "        [ 1.09728885e+00,  1.07278378e+00,  9.85369214e-01, ...,\n",
       "          1.19375357e+00,  1.18548089e+00,  1.20742971e+00]],\n",
       "\n",
       "       [[-1.86601098e+00, -1.86549755e+00, -1.84773287e+00, ...,\n",
       "         -1.84185823e+00, -1.83736581e+00, -1.72536300e+00],\n",
       "        [-1.45474100e+00, -1.48689508e+00, -1.50774109e+00, ...,\n",
       "         -1.21801722e+00, -1.25087297e+00, -1.25343883e+00],\n",
       "        [-7.46825790e-01, -7.04833657e-01, -7.32948261e-01, ...,\n",
       "         -7.35849410e-01, -7.97454315e-01, -8.03845006e-01]]])</pre></li><li class='xr-var-item'><div class='xr-var-name'><span>GMM_robustness</span></div><div class='xr-var-dims'>(lat, lon)</div><div class='xr-var-dtype'>float64</div><div class='xr-var-preview xr-preview'>nan nan nan nan ... nan nan nan 1.0</div><input id='attrs-cae5a483-06e9-44d0-b037-219af98a0a5d' class='xr-var-attrs-in' type='checkbox' disabled><label for='attrs-cae5a483-06e9-44d0-b037-219af98a0a5d' title='Show/Hide attributes'><svg class='icon xr-icon-file-text2'><use xlink:href='#icon-file-text2'></use></svg></label><input id='data-f52cc6c2-c0f0-4f46-9c38-730dee622498' class='xr-var-data-in' type='checkbox'><label for='data-f52cc6c2-c0f0-4f46-9c38-730dee622498' title='Show/Hide data repr'><svg class='icon xr-icon-database'><use xlink:href='#icon-database'></use></svg></label><div class='xr-var-attrs'><dl class='xr-attrs'></dl></div><pre class='xr-var-data'>array([[nan, nan, nan, ..., nan, nan, nan],\n",
       "       [nan, nan, nan, ..., nan, nan, nan],\n",
       "       [nan, nan, nan, ..., nan, nan, nan],\n",
       "       ...,\n",
       "       [ 1.,  1.,  1., ..., nan, nan, nan],\n",
       "       [ 1.,  1.,  1., ..., nan, nan, nan],\n",
       "       [ 1.,  1.,  1., ..., nan, nan,  1.]])</pre></li><li class='xr-var-item'><div class='xr-var-name'><span>GMM_robustness_cat</span></div><div class='xr-var-dims'>(lat, lon)</div><div class='xr-var-dtype'>float64</div><div class='xr-var-preview xr-preview'>nan nan nan nan ... nan nan nan 5.0</div><input id='attrs-93e5d6f6-cdc4-415a-8693-74dcd05666e3' class='xr-var-attrs-in' type='checkbox' ><label for='attrs-93e5d6f6-cdc4-415a-8693-74dcd05666e3' title='Show/Hide attributes'><svg class='icon xr-icon-file-text2'><use xlink:href='#icon-file-text2'></use></svg></label><input id='data-c92d717f-c90a-484b-b967-c983bb8af82f' class='xr-var-data-in' type='checkbox'><label for='data-c92d717f-c90a-484b-b967-c983bb8af82f' title='Show/Hide data repr'><svg class='icon xr-icon-database'><use xlink:href='#icon-database'></use></svg></label><div class='xr-var-attrs'><dl class='xr-attrs'><dt><span>legend :</span></dt><dd>(&#x27;Unlikely&#x27;, &#x27;As likely as not&#x27;, &#x27;Likely&#x27;, &#x27;Very Likely&#x27;, &#x27;Virtually certain&#x27;)</dd></dl></div><pre class='xr-var-data'>array([[nan, nan, nan, ..., nan, nan, nan],\n",
       "       [nan, nan, nan, ..., nan, nan, nan],\n",
       "       [nan, nan, nan, ..., nan, nan, nan],\n",
       "       ...,\n",
       "       [ 5.,  5.,  5., ..., nan, nan, nan],\n",
       "       [ 5.,  5.,  5., ..., nan, nan, nan],\n",
       "       [ 5.,  5.,  5., ..., nan, nan,  5.]])</pre></li></ul></div></li><li class='xr-section-item'><input id='section-8c19daf2-bf17-40eb-9be2-7e91054d8e95' class='xr-section-summary-in' type='checkbox'  ><label for='section-8c19daf2-bf17-40eb-9be2-7e91054d8e95' class='xr-section-summary' >Attributes: <span>(52)</span></label><div class='xr-section-inline-details'></div><div class='xr-section-details'><dl class='xr-attrs'><dt><span>Conventions :</span></dt><dd>CF-1.4</dd><dt><span>title :</span></dt><dd>Global Diurnal Skin SST Analysis, L4 OSTIA, 0.25 deg hourly (METOFFICE-GLO-SST-L4-NRT-OBS-SKIN-DIU-FV01.1)</dd><dt><span>summary :</span></dt><dd>A merged, multi-sensor L4 skin SST product</dd><dt><span>references :</span></dt><dd>While J., Martin M.; 2013;  Development of a variational data assimilation system for the diurnal cycle of sea surface temperature; JGR-Oceans; 118; 2845-2862</dd><dt><span>institution :</span></dt><dd>UKMO</dd><dt><span>history :</span></dt><dd>See source and creation_date attributees</dd><dt><span>comment :</span></dt><dd>WARNING Some applications are unable to properly handle signed byte values. If values are encountered &gt; 127, please subtract 256 from this reported value</dd><dt><span>license :</span></dt><dd>These data are available free of charge under the Copernicus data policy</dd><dt><span>id :</span></dt><dd>UKMO-L4LRskin_GLOB-OSTIAdiu</dd><dt><span>naming_authority :</span></dt><dd>org.ghrsst</dd><dt><span>product_version :</span></dt><dd>1.2</dd><dt><span>uuid :</span></dt><dd>dd7afcc1-acf0-4a0f-9407-19d49b470b7b</dd><dt><span>gds_version_id :</span></dt><dd>2.4</dd><dt><span>netcdf_version_id :</span></dt><dd>4.1</dd><dt><span>date_created :</span></dt><dd>20201203T081437Z</dd><dt><span>start_time :</span></dt><dd>20201202T000000Z</dd><dt><span>time_coverage_start :</span></dt><dd>20201202T000000Z</dd><dt><span>stop_time :</span></dt><dd>20201202T235959Z</dd><dt><span>time_coverage_end :</span></dt><dd>20201202T235959Z</dd><dt><span>file_quality_level :</span></dt><dd>3</dd><dt><span>source :</span></dt><dd>NAVO-L2P-AVHRR19_G, OSPO-L2P-GOES15, SEVIRI_SST-OSISAF-L3C-v1.0, OSPO-L2P-MTSAT2</dd><dt><span>platform :</span></dt><dd>NOAA-19, GOES15, MSG2, MTSAT2</dd><dt><span>sensor :</span></dt><dd>AVHRR, Imager, SEVIRI, Imager</dd><dt><span>Metadata_Conventions :</span></dt><dd>Unidata Observation Dataset v1.0</dd><dt><span>metadata_link :</span></dt><dd>Not yet available</dd><dt><span>keywords :</span></dt><dd>Oceans &gt; Ocean Temperature &gt; Sea Surface Temperature</dd><dt><span>keywords_vocabulary :</span></dt><dd>NASA Global Change Master Directory (GCMD) Science Keywords</dd><dt><span>standard_name_vocabulary :</span></dt><dd>NetCDF Climate and Forecast (CF) Metadata Convention</dd><dt><span>westernmost_longitude :</span></dt><dd>-180.0</dd><dt><span>easternmost_longitude :</span></dt><dd>180.0</dd><dt><span>southernmost_latitude :</span></dt><dd>-90.0</dd><dt><span>northernmost_latitude :</span></dt><dd>90.0</dd><dt><span>spatial_resolution :</span></dt><dd>0.25 degree</dd><dt><span>geospatial_lat_units :</span></dt><dd>degrees_north</dd><dt><span>geospatial_lat_resolution :</span></dt><dd>0.25</dd><dt><span>geospatial_lon_units :</span></dt><dd>degrees_east</dd><dt><span>geospatial_lon_resolution :</span></dt><dd>0.25</dd><dt><span>acknowledgment :</span></dt><dd>Please acknowledge the use of these data with the following statement: These data were provided by GHRSST, Met Office and CMEMS</dd><dt><span>creator_name :</span></dt><dd>Met Office as part of CMEMS</dd><dt><span>creator_email :</span></dt><dd>servicedesk.cmems@mercator-ocean.eu</dd><dt><span>creator_url :</span></dt><dd>http://marine.copernicus.eu/</dd><dt><span>project :</span></dt><dd>Group for High Resolution Sea Surface Temperature</dd><dt><span>publisher_name :</span></dt><dd>GHRSST Project Office</dd><dt><span>publisher_url :</span></dt><dd>http://www.ghrsst.org</dd><dt><span>publisher_email :</span></dt><dd>ghrsst-po@nceo.ac.uk</dd><dt><span>processing_level :</span></dt><dd>L4</dd><dt><span>cdm_data_type :</span></dt><dd>grid</dd><dt><span>History :</span></dt><dd>Translated to CF-1.0 Conventions by Netcdf-Java CDM (CFGridWriter2)\n",
       "Original Dataset = METOFFICE-GLO-SST-L4-NRT-OBS-SKIN-DIU-FV01.1; Translation Date = 2020-12-03T16:45:25.654Z</dd><dt><span>geospatial_lat_min :</span></dt><dd>30.125</dd><dt><span>geospatial_lat_max :</span></dt><dd>46.125</dd><dt><span>geospatial_lon_min :</span></dt><dd>-4.875</dd><dt><span>geospatial_lon_max :</span></dt><dd>42.875</dd></dl></div></li></ul></div></div>"
      ],
      "text/plain": [
       "<xarray.Dataset>\n",
       "Dimensions:                (feature: 52, feature_reduced: 12, k: 7, lat: 65, lon: 192, quantile: 3, time: 8760)\n",
       "Coordinates:\n",
       "  * lat                    (lat) float64 30.12 30.38 30.62 ... 45.62 45.88 46.12\n",
       "  * lon                    (lon) float64 -4.875 -4.625 -4.375 ... 42.62 42.88\n",
       "  * feature                (feature) int64 1 2 3 4 5 6 7 ... 47 48 49 50 51 52\n",
       "  * quantile               (quantile) float64 0.05 0.5 0.95\n",
       "  * time                   (time) datetime64[ns] 2019-01-01T00:30:00 ... 2019-12-31T23:30:00\n",
       "Dimensions without coordinates: feature_reduced, k\n",
       "Data variables:\n",
       "    analysed_sst           (feature, lat, lon) float32 nan nan ... nan 275.3912\n",
       "    analysed_sst_scaled    (feature, lat, lon) float32 nan nan ... nan -4.903476\n",
       "    analysed_sst_reduced   (feature_reduced, lat, lon) float32 nan ... 0.32258075\n",
       "    GMM_labels             (lat, lon) float64 nan nan nan nan ... nan nan 3.0\n",
       "    GMM_post               (k, lat, lon) float64 nan nan nan ... nan 1.291e-71\n",
       "    analysed_sst_Q         (k, quantile, feature) float64 287.3 286.4 ... 286.9\n",
       "    analysed_sst_scaled_Q  (k, quantile, feature) float64 287.3 ... -0.8038\n",
       "    GMM_robustness         (lat, lon) float64 nan nan nan nan ... nan nan 1.0\n",
       "    GMM_robustness_cat     (lat, lon) float64 nan nan nan nan ... nan nan 5.0\n",
       "Attributes:\n",
       "    Conventions:                CF-1.4\n",
       "    title:                      Global Diurnal Skin SST Analysis, L4 OSTIA, 0...\n",
       "    summary:                    A merged, multi-sensor L4 skin SST product\n",
       "    references:                 While J., Martin M.; 2013;  Development of a ...\n",
       "    institution:                UKMO\n",
       "    history:                    See source and creation_date attributees\n",
       "    comment:                    WARNING Some applications are unable to prope...\n",
       "    license:                    These data are available free of charge under...\n",
       "    id:                         UKMO-L4LRskin_GLOB-OSTIAdiu\n",
       "    naming_authority:           org.ghrsst\n",
       "    product_version:            1.2\n",
       "    uuid:                       dd7afcc1-acf0-4a0f-9407-19d49b470b7b\n",
       "    gds_version_id:             2.4\n",
       "    netcdf_version_id:          4.1\n",
       "    date_created:               20201203T081437Z\n",
       "    start_time:                 20201202T000000Z\n",
       "    time_coverage_start:        20201202T000000Z\n",
       "    stop_time:                  20201202T235959Z\n",
       "    time_coverage_end:          20201202T235959Z\n",
       "    file_quality_level:         3\n",
       "    source:                     NAVO-L2P-AVHRR19_G, OSPO-L2P-GOES15, SEVIRI_S...\n",
       "    platform:                   NOAA-19, GOES15, MSG2, MTSAT2\n",
       "    sensor:                     AVHRR, Imager, SEVIRI, Imager\n",
       "    Metadata_Conventions:       Unidata Observation Dataset v1.0\n",
       "    metadata_link:              Not yet available\n",
       "    keywords:                   Oceans > Ocean Temperature > Sea Surface Temp...\n",
       "    keywords_vocabulary:        NASA Global Change Master Directory (GCMD) Sc...\n",
       "    standard_name_vocabulary:   NetCDF Climate and Forecast (CF) Metadata Con...\n",
       "    westernmost_longitude:      -180.0\n",
       "    easternmost_longitude:      180.0\n",
       "    southernmost_latitude:      -90.0\n",
       "    northernmost_latitude:      90.0\n",
       "    spatial_resolution:         0.25 degree\n",
       "    geospatial_lat_units:       degrees_north\n",
       "    geospatial_lat_resolution:  0.25\n",
       "    geospatial_lon_units:       degrees_east\n",
       "    geospatial_lon_resolution:  0.25\n",
       "    acknowledgment:             Please acknowledge the use of these data with...\n",
       "    creator_name:               Met Office as part of CMEMS\n",
       "    creator_email:              servicedesk.cmems@mercator-ocean.eu\n",
       "    creator_url:                http://marine.copernicus.eu/\n",
       "    project:                    Group for High Resolution Sea Surface Tempera...\n",
       "    publisher_name:             GHRSST Project Office\n",
       "    publisher_url:              http://www.ghrsst.org\n",
       "    publisher_email:            ghrsst-po@nceo.ac.uk\n",
       "    processing_level:           L4\n",
       "    cdm_data_type:              grid\n",
       "    History:                    Translated to CF-1.0 Conventions by Netcdf-Ja...\n",
       "    geospatial_lat_min:         30.125\n",
       "    geospatial_lat_max:         46.125\n",
       "    geospatial_lon_min:         -4.875\n",
       "    geospatial_lon_max:         42.875"
      ]
     },
     "execution_count": 45,
     "metadata": {},
     "output_type": "execute_result"
    }
   ],
   "source": [
    "#copy atributtes\n",
    "ds_labels.attrs = ds.attrs\n",
    "ds_labels.lat.attrs = ds.lat.attrs\n",
    "ds_labels.lon.attrs = ds.lon.attrs\n",
    "#include time coord for save_BlueCloud function\n",
    "ds_labels = ds_labels.assign_coords({'time': ds.time.values})\n",
    "ds_labels.time.attrs = ds.time.attrs\n",
    "ds_labels"
   ]
  },
  {
   "cell_type": "markdown",
   "metadata": {},
   "source": [
    "## Preprocesing plots\n",
    "***"
   ]
  },
  {
   "cell_type": "code",
   "execution_count": 46,
   "metadata": {},
   "outputs": [],
   "source": [
    "P = Plotter_OR(ds_labels, model)"
   ]
  },
  {
   "cell_type": "markdown",
   "metadata": {},
   "source": [
    "__Scatter plot__"
   ]
  },
  {
   "cell_type": "code",
   "execution_count": 47,
   "metadata": {},
   "outputs": [
    {
     "name": "stderr",
     "output_type": "stream",
     "text": [
      "/export/home1/agarciaj_local/.local/lib/python3.7/site-packages/seaborn/axisgrid.py:132: UserWarning: You have mixed positional and keyword arguments, some input may be discarded.\n",
      "  figlegend = self.fig.legend(handles, labels, **kwargs)\n"
     ]
    },
    {
     "name": "stdout",
     "output_type": "stream",
     "text": [
      "Figure saved in figures/scatter_PDF_EX.png\n"
     ]
    },
    {
     "data": {
      "image/png": "[encoded data removed]",
      "text/plain": [
       "<Figure size 626.825x576 with 6 Axes>"
      ]
     },
     "metadata": {
      "needs_background": "light"
     },
     "output_type": "display_data"
    }
   ],
   "source": [
    "P.scatter_PDF(var_name = var_name + '_reduced')\n",
    "P.save_BlueCloud('figures/scatter_PDF_EX.png')"
   ]
  },
  {
   "cell_type": "markdown",
   "metadata": {},
   "source": [
    "__BIC__"
   ]
  },
  {
   "cell_type": "code",
   "execution_count": null,
   "metadata": {},
   "outputs": [],
   "source": [
    "corr_dist = 70 # correlation distance in km\n",
    "Nrun = 10 # number of runs for each k\n",
    "NK = 20 # max number of classes to explore"
   ]
  },
  {
   "cell_type": "code",
   "execution_count": null,
   "metadata": {},
   "outputs": [],
   "source": [
    "BIC, BIC_min = BIC_calculation(X=X, coords_dict={'latitude':'lat', 'longitude':'lon'}, \n",
    "                               corr_dist=corr_dist,\n",
    "                               feature_name='feature_reduced', var_name= var_name + \"_reduced\",\n",
    "                               Nrun=Nrun, NK=NK)"
   ]
  },
  {
   "cell_type": "code",
   "execution_count": null,
   "metadata": {},
   "outputs": [],
   "source": [
    "plot_BIC(BIC, NK=NK)\n",
    "P.save_BlueCloud('figures/BIC_EX.png', bic_fig='yes')"
   ]
  },
  {
   "cell_type": "markdown",
   "metadata": {},
   "source": [
    "## Plot results\n",
    "***"
   ]
  },
  {
   "cell_type": "code",
   "execution_count": null,
   "metadata": {},
   "outputs": [],
   "source": [
    "P = Plotter_OR(ds_labels, model)"
   ]
  },
  {
   "cell_type": "markdown",
   "metadata": {},
   "source": [
    "#### __1) Quantiles time series__"
   ]
  },
  {
   "cell_type": "markdown",
   "metadata": {},
   "source": [
    "Median and other quantiles representation"
   ]
  },
  {
   "cell_type": "code",
   "execution_count": null,
   "metadata": {},
   "outputs": [],
   "source": [
    "P.tseries_structure(q_variable = var_name + '_Q', start_month=6, ylabel='Temperature (K)')\n",
    "P.save_BlueCloud('figures/tseries_struc_EX.png')"
   ]
  },
  {
   "cell_type": "markdown",
   "metadata": {},
   "source": [
    "All median time series in the same plot "
   ]
  },
  {
   "cell_type": "code",
   "execution_count": null,
   "metadata": {},
   "outputs": [],
   "source": [
    "P.tseries_structure_comp(q_variable = var_name + '_Q', plot_q= 'all', ylabel='Temperature (K)', start_month=6)\n",
    "P.save_BlueCloud('figures/tseries_struc_comp_EX.png')"
   ]
  },
  {
   "cell_type": "markdown",
   "metadata": {},
   "source": [
    "Quantiles when temperature is scaled (__how we can interpret this figure?__)"
   ]
  },
  {
   "cell_type": "code",
   "execution_count": null,
   "metadata": {},
   "outputs": [],
   "source": [
    "P.tseries_structure(q_variable = var_name + '_scaled' + '_Q', start_month=6, ylabel='Temperature (K)')\n",
    "P.save_BlueCloud('figures/tseries_struc_EX_norm.png')"
   ]
  },
  {
   "cell_type": "markdown",
   "metadata": {},
   "source": [
    "#### __2) Spatial distribution of classes__"
   ]
  },
  {
   "cell_type": "code",
   "execution_count": null,
   "metadata": {},
   "outputs": [],
   "source": [
    "P.spatial_distribution()\n",
    "P.save_BlueCloud('figures/spatial_distr_EX.png')"
   ]
  },
  {
   "cell_type": "markdown",
   "metadata": {},
   "source": [
    "#### __3) Robustness__"
   ]
  },
  {
   "cell_type": "code",
   "execution_count": null,
   "metadata": {},
   "outputs": [],
   "source": [
    "P.plot_robustness()\n",
    "P.save_BlueCloud('figures/robustness_EX.png')"
   ]
  },
  {
   "cell_type": "markdown",
   "metadata": {},
   "source": [
    "#### __4) Classes pie chart__"
   ]
  },
  {
   "cell_type": "code",
   "execution_count": null,
   "metadata": {},
   "outputs": [],
   "source": [
    "P.pie_classes()\n",
    "P.save_BlueCloud('figures/pie_chart_EX.png')"
   ]
  },
  {
   "cell_type": "code",
   "execution_count": null,
   "metadata": {},
   "outputs": [],
   "source": []
  }
 ],
 "metadata": {
  "kernelspec": {
   "display_name": "Python 3",
   "language": "python",
   "name": "python3"
  },
  "language_info": {
   "codemirror_mode": {
    "name": "ipython",
    "version": 3
   },
   "file_extension": ".py",
   "mimetype": "text/x-python",
   "name": "python",
   "nbconvert_exporter": "python",
   "pygments_lexer": "ipython3",
   "version": "3.7.6"
  }
 },
 "nbformat": 4,
 "nbformat_minor": 4
}
