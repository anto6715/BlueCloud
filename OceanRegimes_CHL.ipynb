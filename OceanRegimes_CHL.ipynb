{
 "cells": [
  {
   "cell_type": "markdown",
   "metadata": {},
   "source": [
    "# __Ocean regimes indicator__"
   ]
  },
  {
   "cell_type": "markdown",
   "metadata": {},
   "source": [
    "Apply a Gaussian Mixtures Model to a dataset of time series"
   ]
  },
  {
   "cell_type": "markdown",
   "metadata": {},
   "source": [
    "***\n",
    "ds : initial dataset (lat, lon, week)\n",
    "\n",
    "X : staked dataset (sampling, week, week_reduced)\n",
    "\n",
    "ds_labels: unstacked final dataset (lat, lon, week)\n",
    "***"
   ]
  },
  {
   "cell_type": "code",
   "execution_count": 1,
   "metadata": {},
   "outputs": [],
   "source": [
    "import xarray as xr\n",
    "import numpy as np\n",
    "import pandas as pd\n",
    "\n",
    "import pyxpcm\n",
    "from pyxpcm.models import pcm\n",
    "\n",
    "import cartopy.crs as ccrs\n",
    "import cartopy.feature as cfeature\n",
    "import matplotlib.pyplot as plt\n",
    "import matplotlib.colors as mcolors\n",
    "import matplotlib as mpl\n",
    "\n",
    "import seaborn as sns\n",
    "sns.set_context(\"paper\")\n",
    "with_seaborn = True\n",
    "\n",
    "#import Plotter_2\n",
    "#from Plotter_2 import Plotter #new class for plots in pyxpcm\n",
    "\n",
    "from PIL import Image\n",
    "\n",
    "import importlib\n",
    "\n",
    "from BIC_calculation_OR import *"
   ]
  },
  {
   "cell_type": "markdown",
   "metadata": {},
   "source": [
    "## Load dataset\n",
    "***"
   ]
  },
  {
   "cell_type": "markdown",
   "metadata": {},
   "source": [
    "- One year of Ocean Color data in the Mediterranean Sea:  OCEANCOLOUR_GLO_CHL_L4_REP_OBSERVATIONS_009_082 product"
   ]
  },
  {
   "cell_type": "code",
   "execution_count": 2,
   "metadata": {},
   "outputs": [],
   "source": [
    "#file_path = 'datasets/dataset-oc-glo-bio-multi-l4-chl_interpolated_4km_daily-rep_1611225376956.nc' #in datarmor\n",
    "file_path = 'datasets/dataset-oc-glo-bio-multi-l4-chl_interpolated_4km_daily-rep_1610026811620.nc'"
   ]
  },
  {
   "cell_type": "markdown",
   "metadata": {},
   "source": [
    "Open dataset"
   ]
  },
  {
   "cell_type": "code",
   "execution_count": 3,
   "metadata": {},
   "outputs": [
    {
     "name": "stdout",
     "output_type": "stream",
     "text": [
      "<xarray.Dataset>\n",
      "Dimensions:    (lat: 385, lon: 1152, time: 365)\n",
      "Coordinates:\n",
      "  * time       (time) object 2019-01-01 00:00:00 ... 2019-12-31 00:00:00\n",
      "  * lat        (lat) float32 46.020832 45.979164 45.9375 ... 30.062498 30.020832\n",
      "  * lon        (lon) float32 -4.9791613 -4.9374948 ... 42.937508 42.97917\n",
      "Data variables:\n",
      "    CHL        (time, lat, lon) float32 ...\n",
      "    CHL_error  (time, lat, lon) float32 ...\n",
      "Attributes:\n",
      "    comment:                      average\n",
      "    distribution_statement:       See CMEMS Data License\n",
      "    site_name:                    GLO\n",
      "    parameter_code:               CHL\n",
      "    creation_time:                16:39:54 UTC\n",
      "    creation_date:                2020-11-05 UTC\n",
      "    nb_grid_bins:                 37324800\n",
      "    easternmost_longitude:        180.0\n",
      "    references:                   http://www.globcolour.info GlobColour has b...\n",
      "    registration:                 5\n",
      "    stop_date:                    2020-07-01 UTC\n",
      "    lon_step:                     0.041666668\n",
      "    cmems_product_id:             OCEANCOLOUR_GLO_CHL_L4_REP_OBSERVATIONS_009...\n",
      "    naming_authority:             CMEMS\n",
      "    northernmost_valid_latitude:  86.666664\n",
      "    grid_mapping:                 Equirectangular\n",
      "    title:                        dataset-oc-glo-bio-multi-l4-chl_interpolate...\n",
      "    period_end_day:               20200630\n",
      "    duration_time:                PT151043S\n",
      "    DPM_reference:                GC-UD-ACRI-PUG\n",
      "    product_name:                 20200630_d-ACRI-L4-CHL-MULTI_4KM-GLO-REP\n",
      "    netcdf_version_id:            4.3.3.1 of Jul  8 2016 18:15:50 $\n",
      "    platform:                     Aqua,Suomi-NPP,Sentinel-3a,JPSS-1 (NOAA-20)...\n",
      "    northernmost_latitude:        90.0\n",
      "    IODD_reference:               GC-UD-ACRI-PUG\n",
      "    stop_time:                    08:47:59 UTC\n",
      "    file_quality_index:           0\n",
      "    start_date:                   2020-06-29 UTC\n",
      "    product_level:                4\n",
      "    period_start_day:             20200630\n",
      "    software_name:                globcolour_l3_reproject\n",
      "    citation:                     The Licensees will ensure that original CME...\n",
      "    software_version:             2020.0\n",
      "    start_time:                   14:50:37 UTC\n",
      "    easternmost_valid_longitude:  180.00002\n",
      "    nb_bins:                      37324800\n",
      "    southernmost_valid_latitude:  -54.458336\n",
      "    nb_equ_bins:                  8640\n",
      "    lat_step:                     0.041666668\n",
      "    sensor_name_list:             MOD,VIR,OLA,VJ1,OLB\n",
      "    institution:                  ACRI\n",
      "    publication:                  Gohin, F., Druon, J. N., Lampert, L. (2002)...\n",
      "    grid_resolution:              4.6383123\n",
      "    sensor_name:                  MODISA,VIIRSN,OLCIa,VIIRSJ1,OLCIb\n",
      "    product_type:                 day\n",
      "    sensor:                       Moderate Resolution Imaging Spectroradiomet...\n",
      "    Conventions:                  CF-1.4\n",
      "    westernmost_valid_longitude:  -180.0\n",
      "    contact:                      servicedesk.cmems@acri-st.fr\n",
      "    westernmost_longitude:        -180.0\n",
      "    source:                       surface observation\n",
      "    earth_radius:                 6378.137\n",
      "    southernmost_latitude:        -90.0\n",
      "    pct_bins:                     100.0\n",
      "    cmems_production_unit:        OC-ACRI-NICE-FR\n",
      "    period_duration_day:          P1D\n",
      "    history:                      \n",
      "    nb_valid_bins:                18893040\n",
      "    pct_valid_bins:               50.61792695473251\n",
      "    parameter:                    Chlorophyll-a concentration\n",
      "    History:                      Translated to CF-1.0 Conventions by Netcdf-...\n",
      "    geospatial_lat_min:           30.020832061767578\n",
      "    geospatial_lat_max:           46.02083206176758\n",
      "    geospatial_lon_min:           -4.979161262512207\n",
      "    geospatial_lon_max:           42.97917175292969\n"
     ]
    }
   ],
   "source": [
    "ds = xr.open_dataset(file_path)\n",
    "print(ds)\n",
    "#ds"
   ]
  },
  {
   "cell_type": "code",
   "execution_count": 4,
   "metadata": {},
   "outputs": [],
   "source": [
    "ds['time'] = ds.indexes['time'].to_datetimeindex()\n",
    "var_name = 'CHL'"
   ]
  },
  {
   "cell_type": "markdown",
   "metadata": {},
   "source": [
    "__Quick plot__"
   ]
  },
  {
   "cell_type": "code",
   "execution_count": 5,
   "metadata": {},
   "outputs": [
    {
     "data": {
      "image/png": "[encoded data removed]",
      "text/plain": [
       "<Figure size 432x288 with 2 Axes>"
      ]
     },
     "metadata": {
      "needs_background": "light"
     },
     "output_type": "display_data"
    }
   ],
   "source": [
    "ds[var_name].isel(time=11).plot();"
   ]
  },
  {
   "cell_type": "code",
   "execution_count": 6,
   "metadata": {},
   "outputs": [
    {
     "data": {
      "image/png": "[encoded data removed]",
      "text/plain": [
       "<Figure size 432x288 with 1 Axes>"
      ]
     },
     "metadata": {
      "needs_background": "light"
     },
     "output_type": "display_data"
    }
   ],
   "source": [
    "bins = np.arange(int(ds[var_name].min().values), int(ds[var_name].max().values))\n",
    "ds[var_name].plot.hist(bins=bins);"
   ]
  },
  {
   "cell_type": "markdown",
   "metadata": {},
   "source": [
    "## Preprocessing\n",
    "***"
   ]
  },
  {
   "cell_type": "markdown",
   "metadata": {},
   "source": [
    "#### __1) Weekly mean for each pixel__"
   ]
  },
  {
   "cell_type": "code",
   "execution_count": 7,
   "metadata": {},
   "outputs": [
    {
     "name": "stderr",
     "output_type": "stream",
     "text": [
      "/export/home1/agarciaj/anaconda3/lib/python3.7/site-packages/xarray/core/accessor_dt.py:45: FutureWarning: Series.dt.weekofyear and Series.dt.week have been deprecated.  Please use Series.dt.isocalendar().week instead.\n",
      "  field_values = getattr(values_as_series.dt, name).values\n",
      "/export/home1/agarciaj/anaconda3/lib/python3.7/site-packages/xarray/core/nanops.py:142: RuntimeWarning: Mean of empty slice\n",
      "  return np.nanmean(a, axis=axis, dtype=dtype)\n"
     ]
    },
    {
     "name": "stdout",
     "output_type": "stream",
     "text": [
      "<xarray.Dataset>\n",
      "Dimensions:    (lat: 385, lon: 1152, week: 52)\n",
      "Coordinates:\n",
      "  * lat        (lat) float32 46.020832 45.979164 45.9375 ... 30.062498 30.020832\n",
      "  * lon        (lon) float32 -4.9791613 -4.9374948 ... 42.937508 42.97917\n",
      "  * week       (week) int64 1 2 3 4 5 6 7 8 9 10 ... 44 45 46 47 48 49 50 51 52\n",
      "Data variables:\n",
      "    CHL        (week, lat, lon) float32 0.2544443 0.25952786 ... nan nan\n",
      "    CHL_error  (week, lat, lon) float32 32.89375 32.86875 32.69625 ... nan nan\n"
     ]
    }
   ],
   "source": [
    "ds = ds.groupby(\"time.week\").mean()\n",
    "#ds = ds.groupby(\"time.month\").mean()\n",
    "print(ds)\n",
    "#ds"
   ]
  },
  {
   "cell_type": "markdown",
   "metadata": {},
   "source": [
    "Plot histogram in time"
   ]
  },
  {
   "cell_type": "code",
   "execution_count": 8,
   "metadata": {},
   "outputs": [
    {
     "data": {
      "text/plain": [
       "Text(0, 0.5, 'Counts')"
      ]
     },
     "execution_count": 8,
     "metadata": {},
     "output_type": "execute_result"
    },
    {
     "data": {
      "image/png": "[encoded data removed]",
      "text/plain": [
       "<Figure size 864x720 with 2 Axes>"
      ]
     },
     "metadata": {
      "needs_background": "light"
     },
     "output_type": "display_data"
    }
   ],
   "source": [
    "bins = np.arange(int(ds[var_name].min().values), int(ds[var_name].max().values),0.5)\n",
    "#bins = np.arange(0, 0.3, 0.002)\n",
    "histo_2d = [] \n",
    "for iweek in range(52):\n",
    "#for iweek in range(12):\n",
    "    hist_values, bin_edges = np.histogram(ds[var_name].isel(week=iweek).values, bins=bins)\n",
    "    #hist_values, bin_edges = np.histogram(ds[var_name].isel(month=iweek).values, bins=bins)\n",
    "    histo_2d.append(hist_values)\n",
    "    \n",
    "fig, ax = plt.subplots(figsize=(12,10))\n",
    "\n",
    "#plt.pcolormesh(bins, ds.month.values, histo_2d, cmap='Reds', edgecolors='black')\n",
    "plt.pcolormesh(bins, ds.week.values, histo_2d, cmap='Reds', edgecolors='black')\n",
    "cbar = plt.colorbar()\n",
    "ax.set_xlabel('Temperature (K)')\n",
    "#ax.set_xlabel('Chlorophyll-a concentration (milligram m-3)')\n",
    "ax.set_ylabel('Weeks')\n",
    "cbar.ax.set_ylabel('Counts')"
   ]
  },
  {
   "cell_type": "markdown",
   "metadata": {},
   "source": [
    "Try chlorophyll"
   ]
  },
  {
   "cell_type": "code",
   "execution_count": 9,
   "metadata": {},
   "outputs": [
    {
     "data": {
      "text/plain": [
       "Text(0, 0.5, 'Counts')"
      ]
     },
     "execution_count": 9,
     "metadata": {},
     "output_type": "execute_result"
    },
    {
     "data": {
      "image/png": "[encoded data removed]",
      "text/plain": [
       "<Figure size 864x720 with 2 Axes>"
      ]
     },
     "metadata": {
      "needs_background": "light"
     },
     "output_type": "display_data"
    }
   ],
   "source": [
    "bins = np.arange(int(ds[var_name].min().values), int(ds[var_name].max().values),0.5)\n",
    "#bins = np.arange(0, 0.3, 0.002)\n",
    "histo_2d = [] \n",
    "for iweek in range(52):\n",
    "#for iweek in range(12):\n",
    "    hist_values, bin_edges = np.histogram(ds[var_name].isel(week=iweek).values, bins=bins)\n",
    "    #hist_values, bin_edges = np.histogram(ds[var_name].isel(month=iweek).values, bins=bins)\n",
    "    histo_2d.append(hist_values)\n",
    "    \n",
    "fig, ax = plt.subplots(figsize=(12,10))\n",
    "\n",
    "#plt.pcolormesh(bins, ds.month.values, histo_2d, cmap='Reds', edgecolors='black')\n",
    "plt.pcolormesh(bins, ds.week.values, histo_2d, cmap='Reds', edgecolors='black')\n",
    "cbar = plt.colorbar()\n",
    "ax.set_xlabel('Temperature (K)')\n",
    "#ax.set_xlabel('Chlorophyll-a concentration (milligram m-3)')\n",
    "ax.set_ylabel('Weeks')\n",
    "cbar.ax.set_ylabel('Counts')"
   ]
  },
  {
   "cell_type": "markdown",
   "metadata": {},
   "source": [
    "#### __2) Reduce lat lon dimensions to sampling dimension__"
   ]
  },
  {
   "cell_type": "code",
   "execution_count": 10,
   "metadata": {},
   "outputs": [
    {
     "data": {
      "text/plain": [
       "['lat', 'lon']"
      ]
     },
     "execution_count": 10,
     "metadata": {},
     "output_type": "execute_result"
    }
   ],
   "source": [
    "sampling_dims = list(ds.dims)\n",
    "sampling_dims.remove('week')\n",
    "#sampling_dims.remove('time')\n",
    "sampling_dims"
   ]
  },
  {
   "cell_type": "code",
   "execution_count": 11,
   "metadata": {},
   "outputs": [
    {
     "name": "stdout",
     "output_type": "stream",
     "text": [
      "<xarray.Dataset>\n",
      "Dimensions:    (feature: 52, sampling: 443520)\n",
      "Coordinates:\n",
      "  * feature    (feature) int64 1 2 3 4 5 6 7 8 9 ... 44 45 46 47 48 49 50 51 52\n",
      "  * sampling   (sampling) MultiIndex\n",
      "  - lat        (sampling) float64 46.02 46.02 46.02 46.02 ... 30.02 30.02 30.02\n",
      "  - lon        (sampling) float64 -4.979 -4.937 -4.896 ... 42.9 42.94 42.98\n",
      "Data variables:\n",
      "    CHL        (feature, sampling) float32 0.2544443 0.25952786 ... nan nan\n",
      "    CHL_error  (feature, sampling) float32 32.89375 32.86875 ... nan nan\n"
     ]
    }
   ],
   "source": [
    "X = ds.stack({'sampling': sampling_dims})\n",
    "X = X.rename_dims({'week': 'feature'})\n",
    "X = X.rename({'week': 'feature'})\n",
    "#X = X.rename_dims({'time': 'feature'})\n",
    "#X = X.rename({'time': 'feature'})\n",
    "print(X)\n",
    "#X"
   ]
  },
  {
   "cell_type": "code",
   "execution_count": 12,
   "metadata": {},
   "outputs": [
    {
     "data": {
      "image/png": "[encoded data removed]",
      "text/plain": [
       "<Figure size 432x288 with 1 Axes>"
      ]
     },
     "metadata": {
      "needs_background": "light"
     },
     "output_type": "display_data"
    }
   ],
   "source": [
    "X[var_name].plot.hist(bins=bins);"
   ]
  },
  {
   "cell_type": "markdown",
   "metadata": {},
   "source": [
    "#### __3) Delate all NaN time series using mask__"
   ]
  },
  {
   "cell_type": "markdown",
   "metadata": {},
   "source": [
    "__Chlorophyll mask__: Create mask from another dataset"
   ]
  },
  {
   "cell_type": "code",
   "execution_count": 13,
   "metadata": {},
   "outputs": [
    {
     "data": {
      "text/plain": [
       "<matplotlib.collections.QuadMesh at 0x7fe6829855d0>"
      ]
     },
     "execution_count": 13,
     "metadata": {},
     "output_type": "execute_result"
    },
    {
     "data": {
      "image/png": "[encoded data removed]",
      "text/plain": [
       "<Figure size 432x288 with 2 Axes>"
      ]
     },
     "metadata": {
      "needs_background": "light"
     },
     "output_type": "display_data"
    }
   ],
   "source": [
    "mask_file = 'datasets/med00-ogs-bio-an-fc-d_1611233647884.nc'\n",
    "mask = xr.open_dataset(mask_file)\n",
    "mask = mask.squeeze()\n",
    "mask = mask.rename_dims({'latitude': 'lat', 'longitude':'lon'})\n",
    "mask = mask.rename({'latitude': 'lat', 'longitude':'lon'})\n",
    "mask = mask.interp_like(ds)\n",
    "mask = mask['nppv'].notnull()\n",
    "#print(ds)\n",
    "mask.plot()"
   ]
  },
  {
   "cell_type": "code",
   "execution_count": 14,
   "metadata": {},
   "outputs": [
    {
     "name": "stdout",
     "output_type": "stream",
     "text": [
      "<xarray.DataArray 'nppv' (sampling: 443520)>\n",
      "array([False, False, False, ..., False, False, False])\n",
      "Coordinates:\n",
      "    depth     float32 1.0182366\n",
      "    time      datetime64[ns] 2021-01-29T12:00:00\n",
      "  * sampling  (sampling) MultiIndex\n",
      "  - lat       (sampling) float64 46.02 46.02 46.02 46.02 ... 30.02 30.02 30.02\n",
      "  - lon       (sampling) float64 -4.979 -4.937 -4.896 ... 42.9 42.94 42.98\n"
     ]
    }
   ],
   "source": [
    "stacked_mask = mask.stack({'sampling': sampling_dims})\n",
    "print(stacked_mask)\n",
    "#stacked_mask"
   ]
  },
  {
   "cell_type": "markdown",
   "metadata": {},
   "source": [
    "Apply mask"
   ]
  },
  {
   "cell_type": "code",
   "execution_count": 15,
   "metadata": {},
   "outputs": [
    {
     "name": "stdout",
     "output_type": "stream",
     "text": [
      "<xarray.Dataset>\n",
      "Dimensions:   (feature: 52, sampling: 140719)\n",
      "Coordinates:\n",
      "  * feature   (feature) int64 1 2 3 4 5 6 7 8 9 ... 44 45 46 47 48 49 50 51 52\n",
      "  * sampling  (sampling) MultiIndex\n",
      "  - lat       (sampling) float64 45.73 45.73 45.73 45.69 ... 30.35 30.35 30.35\n",
      "  - lon       (sampling) float64 13.56 13.6 13.65 13.19 ... 19.23 19.27 19.31\n",
      "    depth     float32 1.0182366\n",
      "    time      datetime64[ns] 2021-01-29T12:00:00\n",
      "Data variables:\n",
      "    CHL       (feature, sampling) float32 4.440365 3.7976935 ... 0.250563\n"
     ]
    }
   ],
   "source": [
    "X = X[var_name].where(stacked_mask == True, drop=True).to_dataset()\n",
    "print(X)\n",
    "#X"
   ]
  },
  {
   "cell_type": "markdown",
   "metadata": {},
   "source": [
    "Delate time series that are all NaN, not taken in to acount in the mask"
   ]
  },
  {
   "cell_type": "code",
   "execution_count": 16,
   "metadata": {},
   "outputs": [],
   "source": [
    "X = X[var_name].where(~X[var_name].isnull(),drop=True).to_dataset()"
   ]
  },
  {
   "cell_type": "markdown",
   "metadata": {},
   "source": [
    "Recover the dataset (unravel)"
   ]
  },
  {
   "cell_type": "code",
   "execution_count": 17,
   "metadata": {},
   "outputs": [
    {
     "name": "stdout",
     "output_type": "stream",
     "text": [
      "(52, 370, 988)\n",
      "(52, 385, 1152)\n",
      "<xarray.Dataset>\n",
      "Dimensions:  (feature: 52, lat: 385, lon: 1152)\n",
      "Coordinates:\n",
      "  * lat      (lat) float64 46.02 45.98 45.94 45.9 ... 30.15 30.1 30.06 30.02\n",
      "  * lon      (lon) float64 -4.979 -4.937 -4.896 -4.854 ... 42.9 42.94 42.98\n",
      "  * feature  (feature) int64 1 2 3 4 5 6 7 8 9 10 ... 44 45 46 47 48 49 50 51 52\n",
      "    depth    float32 1.0182366\n",
      "    time     datetime64[ns] 2021-01-29T12:00:00\n",
      "Data variables:\n",
      "    CHL      (feature, lat, lon) float32 nan nan nan nan nan ... nan nan nan nan\n"
     ]
    }
   ],
   "source": [
    "X_unstacked = X[var_name].unstack('sampling').to_dataset(name = var_name)\n",
    "X_unstacked = X_unstacked.sortby(['lat','lon'])\n",
    "print(np.shape(X_unstacked[var_name]))\n",
    "# same lat and lon values in mask and in results\n",
    "mask = stacked_mask.unstack()\n",
    "X_unstacked = X_unstacked.reindex_like(mask)\n",
    "print(np.shape(X_unstacked[var_name]))\n",
    "print(X_unstacked) "
   ]
  },
  {
   "cell_type": "code",
   "execution_count": 18,
   "metadata": {},
   "outputs": [
    {
     "data": {
      "image/png": "[encoded data removed]",
      "text/plain": [
       "<Figure size 432x288 with 2 Axes>"
      ]
     },
     "metadata": {
      "needs_background": "light"
     },
     "output_type": "display_data"
    }
   ],
   "source": [
    "X_unstacked[var_name].isel(feature=11).plot();"
   ]
  },
  {
   "cell_type": "markdown",
   "metadata": {},
   "source": [
    "__There is any NaN in the dataset?__"
   ]
  },
  {
   "cell_type": "code",
   "execution_count": 19,
   "metadata": {},
   "outputs": [
    {
     "data": {
      "text/plain": [
       "48"
      ]
     },
     "execution_count": 19,
     "metadata": {},
     "output_type": "execute_result"
    }
   ],
   "source": [
    "#np.any(np.isnan(X[var_name].values))\n",
    "np.sum(np.isnan(X[var_name].values))\n",
    "\n",
    "#np.argwhere(np.isnan(X[var_name].values))"
   ]
  },
  {
   "cell_type": "markdown",
   "metadata": {},
   "source": [
    "#### __4) Interpolation__"
   ]
  },
  {
   "cell_type": "markdown",
   "metadata": {},
   "source": [
    "Not necessary if using mask created from dataset"
   ]
  },
  {
   "cell_type": "code",
   "execution_count": 20,
   "metadata": {},
   "outputs": [
    {
     "name": "stdout",
     "output_type": "stream",
     "text": [
      "<xarray.Dataset>\n",
      "Dimensions:   (feature: 52, sampling: 140700)\n",
      "Coordinates:\n",
      "  * feature   (feature) int64 1 2 3 4 5 6 7 8 9 ... 44 45 46 47 48 49 50 51 52\n",
      "  * sampling  (sampling) MultiIndex\n",
      "  - lat       (sampling) float64 45.73 45.73 45.73 45.69 ... 30.35 30.35 30.35\n",
      "  - lon       (sampling) float64 13.56 13.6 13.65 13.19 ... 19.23 19.27 19.31\n",
      "    depth     float32 1.0182366\n",
      "    time      datetime64[ns] 2021-01-29T12:00:00\n",
      "Data variables:\n",
      "    CHL       (feature, sampling) float32 4.440365 3.7976935 ... 0.250563\n"
     ]
    }
   ],
   "source": [
    "#X = X[var_name].interpolate_na(dim = 'feature', method=\"linear\", fill_value=\"extrapolate\").to_dataset(name = var_name)\n",
    "X = X[var_name].interpolate_na(dim = 'feature', method=\"linear\", fill_value=\"extrapolate\").to_dataset(name = var_name)\n",
    "print(X)\n",
    "#X"
   ]
  },
  {
   "cell_type": "markdown",
   "metadata": {},
   "source": [
    "__There is any NaN in the dataset?__"
   ]
  },
  {
   "cell_type": "code",
   "execution_count": 21,
   "metadata": {},
   "outputs": [
    {
     "data": {
      "text/plain": [
       "0"
      ]
     },
     "execution_count": 21,
     "metadata": {},
     "output_type": "execute_result"
    }
   ],
   "source": [
    "#np.any(np.isnan(X[var_name].values))\n",
    "np.sum(np.isnan(X[var_name].values))"
   ]
  },
  {
   "cell_type": "markdown",
   "metadata": {},
   "source": [
    "#### __5) Scaler__"
   ]
  },
  {
   "cell_type": "markdown",
   "metadata": {},
   "source": [
    "choose the best scaler: https://datascience.stackexchange.com/questions/45900/when-to-use-standard-scaler-and-when-normalizer"
   ]
  },
  {
   "cell_type": "markdown",
   "metadata": {},
   "source": [
    "__Check dimensions order__\n",
    "***"
   ]
  },
  {
   "cell_type": "code",
   "execution_count": 22,
   "metadata": {},
   "outputs": [
    {
     "data": {
      "text/plain": [
       "(52, 140700)"
      ]
     },
     "execution_count": 22,
     "metadata": {},
     "output_type": "execute_result"
    }
   ],
   "source": [
    "np.shape(X[var_name])"
   ]
  },
  {
   "cell_type": "markdown",
   "metadata": {},
   "source": [
    "Transpose dataset if needed (sampling x features)"
   ]
  },
  {
   "cell_type": "code",
   "execution_count": 23,
   "metadata": {},
   "outputs": [
    {
     "data": {
      "text/plain": [
       "(140700, 52)"
      ]
     },
     "execution_count": 23,
     "metadata": {},
     "output_type": "execute_result"
    }
   ],
   "source": [
    "X = X.transpose(\"sampling\", \"feature\")\n",
    "np.shape(X[var_name].values)"
   ]
  },
  {
   "cell_type": "markdown",
   "metadata": {},
   "source": [
    "***"
   ]
  },
  {
   "cell_type": "markdown",
   "metadata": {},
   "source": [
    "Apply sklearn __StandardScaler__: \n",
    "Standardize features by removing the mean and scaling to unit variance\n",
    "The standard score of a sample x is calculated as:\n",
    "\n",
    "    z = (x - u) / s\n",
    "    \n",
    "where u is the mean of the training samples or zero if `with_mean=False`, and s is the standard deviation of the training samples or one if `with_std=False`.\n",
    "Centering and scaling happen independently on each feature by computing the relevant statistics on the samples in the training set. "
   ]
  },
  {
   "cell_type": "markdown",
   "metadata": {},
   "source": [
    "shape (n_samples, n_features), calculate mean for each feature"
   ]
  },
  {
   "cell_type": "code",
   "execution_count": 24,
   "metadata": {},
   "outputs": [
    {
     "name": "stdout",
     "output_type": "stream",
     "text": [
      "<xarray.Dataset>\n",
      "Dimensions:     (feature: 52, sampling: 140700)\n",
      "Coordinates:\n",
      "  * feature     (feature) int64 1 2 3 4 5 6 7 8 9 ... 44 45 46 47 48 49 50 51 52\n",
      "  * sampling    (sampling) MultiIndex\n",
      "  - lat         (sampling) float64 45.73 45.73 45.73 45.69 ... 30.35 30.35 30.35\n",
      "  - lon         (sampling) float64 13.56 13.6 13.65 13.19 ... 19.23 19.27 19.31\n",
      "    depth       float32 1.0182366\n",
      "    time        datetime64[ns] 2021-01-29T12:00:00\n",
      "Data variables:\n",
      "    CHL         (sampling, feature) float32 4.440365 2.17191 ... 0.250563\n",
      "    CHL_scaled  (sampling, feature) float32 18.874125 8.942784 ... -0.22905086\n"
     ]
    }
   ],
   "source": [
    "from sklearn.preprocessing import StandardScaler\n",
    "X_scale = StandardScaler().fit_transform(X[var_name])\n",
    "X = X.assign(variables={var_name + \"_scaled\":(('sampling', 'feature'), X_scale)})\n",
    "#X = X.assign(variables={var_name + \"_scaled\":(('feature', 'sampling'), X_scale)})\n",
    "print(X)\n",
    "#X"
   ]
  },
  {
   "cell_type": "code",
   "execution_count": 25,
   "metadata": {},
   "outputs": [
    {
     "name": "stdout",
     "output_type": "stream",
     "text": [
      "-0.9744167\n",
      "74.68402\n"
     ]
    }
   ],
   "source": [
    "print(X_scale.min())\n",
    "print(X_scale.max())"
   ]
  },
  {
   "cell_type": "code",
   "execution_count": 26,
   "metadata": {},
   "outputs": [
    {
     "data": {
      "image/png": "[encoded data removed]",
      "text/plain": [
       "<Figure size 432x288 with 1 Axes>"
      ]
     },
     "metadata": {
      "needs_background": "light"
     },
     "output_type": "display_data"
    }
   ],
   "source": [
    "X[var_name].plot.hist(bins=bins);"
   ]
  },
  {
   "cell_type": "markdown",
   "metadata": {},
   "source": [
    "__Normalizer__ : shape (n_samples, n_features), calculate mean for each sample"
   ]
  },
  {
   "cell_type": "code",
   "execution_count": 27,
   "metadata": {},
   "outputs": [],
   "source": [
    "#from sklearn.preprocessing import Normalizer\n",
    "#X_scale = Normalizer().fit_transform(X[var_name])\n",
    "#X = X.assign(variables={var_name + \"_scaled\":(('sampling', 'feature'), X_scale)})"
   ]
  },
  {
   "cell_type": "code",
   "execution_count": 28,
   "metadata": {},
   "outputs": [],
   "source": [
    "#print(X_scale.min())\n",
    "#print(X_scale.max())"
   ]
  },
  {
   "cell_type": "code",
   "execution_count": 29,
   "metadata": {},
   "outputs": [],
   "source": [
    "#X[var_name].plot.hist(bins=bins);"
   ]
  },
  {
   "cell_type": "markdown",
   "metadata": {},
   "source": [
    "__MinMaxScaler__: scale each feature. shape (n_samples, n_features)"
   ]
  },
  {
   "cell_type": "code",
   "execution_count": 30,
   "metadata": {},
   "outputs": [],
   "source": [
    "#from sklearn.preprocessing import MinMaxScaler\n",
    "#X_scale = MinMaxScaler().fit_transform(X[var_name])\n",
    "#X = X.assign(variables={var_name + \"_scaled\":(('sampling', 'feature'), X_scale)})"
   ]
  },
  {
   "cell_type": "code",
   "execution_count": 31,
   "metadata": {},
   "outputs": [],
   "source": [
    "#print(X_scale.min())\n",
    "#print(X_scale.max())"
   ]
  },
  {
   "cell_type": "code",
   "execution_count": 32,
   "metadata": {},
   "outputs": [],
   "source": [
    "#print(X[var_name].min().values)\n",
    "#print(X[var_name].max().values)"
   ]
  },
  {
   "cell_type": "code",
   "execution_count": 33,
   "metadata": {},
   "outputs": [],
   "source": [
    "#X[var_name].plot.hist(bins=bins);"
   ]
  },
  {
   "cell_type": "markdown",
   "metadata": {},
   "source": [
    "#### __5) PCA__"
   ]
  },
  {
   "cell_type": "markdown",
   "metadata": {},
   "source": [
    "Apply __Principal component analysis__ (PCA):\n",
    "Linear dimensionality reduction using Singular Value Decomposition of the data to project it to a lower dimensional space.\n",
    "If `0 < n_components < 1` and `svd_solver == 'full'`, select the number of components such that the amount of variance that needs to be explained is greater than the percentage specified by n_components."
   ]
  },
  {
   "cell_type": "code",
   "execution_count": 34,
   "metadata": {},
   "outputs": [
    {
     "data": {
      "text/plain": [
       "PCA(copy=True, iterated_power='auto', n_components=0.99, random_state=None,\n",
       "    svd_solver='full', tol=0.0, whiten=False)"
      ]
     },
     "execution_count": 34,
     "metadata": {},
     "output_type": "execute_result"
    }
   ],
   "source": [
    "from sklearn.decomposition import PCA\n",
    "pca = PCA(n_components = 0.99, svd_solver = 'full')\n",
    "pca"
   ]
  },
  {
   "cell_type": "code",
   "execution_count": 35,
   "metadata": {},
   "outputs": [],
   "source": [
    "pca = pca.fit(X[var_name + \"_scaled\"])"
   ]
  },
  {
   "cell_type": "code",
   "execution_count": 36,
   "metadata": {},
   "outputs": [
    {
     "data": {
      "text/plain": [
       "Text(0.5, 1.0, 'Percentage of variance explained by each of the selected components')"
      ]
     },
     "execution_count": 36,
     "metadata": {},
     "output_type": "execute_result"
    },
    {
     "data": {
      "image/png": "[encoded data removed]",
      "text/plain": [
       "<Figure size 432x288 with 1 Axes>"
      ]
     },
     "metadata": {
      "needs_background": "light"
     },
     "output_type": "display_data"
    }
   ],
   "source": [
    "fig, ax = plt.subplots()\n",
    "pb = plt.bar(range(pca.n_components_), pca.explained_variance_ratio_)\n",
    "ax.set_xlabel('n_components')\n",
    "ax.set_ylabel('Percentage')\n",
    "ax.set_title('Percentage of variance explained by each of the selected components')"
   ]
  },
  {
   "cell_type": "code",
   "execution_count": 37,
   "metadata": {},
   "outputs": [
    {
     "data": {
      "text/plain": [
       "(140700, 39)"
      ]
     },
     "execution_count": 37,
     "metadata": {},
     "output_type": "execute_result"
    }
   ],
   "source": [
    "X_reduced = pca.transform(X[var_name + \"_scaled\"])\n",
    "np.shape(X_reduced)"
   ]
  },
  {
   "cell_type": "code",
   "execution_count": 38,
   "metadata": {},
   "outputs": [
    {
     "name": "stdout",
     "output_type": "stream",
     "text": [
      "<xarray.Dataset>\n",
      "Dimensions:      (feature: 52, feature_reduced: 39, sampling: 140700)\n",
      "Coordinates:\n",
      "  * feature      (feature) int64 1 2 3 4 5 6 7 8 9 ... 45 46 47 48 49 50 51 52\n",
      "  * sampling     (sampling) MultiIndex\n",
      "  - lat          (sampling) float64 45.73 45.73 45.73 ... 30.35 30.35 30.35\n",
      "  - lon          (sampling) float64 13.56 13.6 13.65 13.19 ... 19.23 19.27 19.31\n",
      "    depth        float32 1.0182366\n",
      "    time         datetime64[ns] 2021-01-29T12:00:00\n",
      "Dimensions without coordinates: feature_reduced\n",
      "Data variables:\n",
      "    CHL          (sampling, feature) float32 4.440365 2.17191 ... 0.250563\n",
      "    CHL_scaled   (sampling, feature) float32 18.874125 8.942784 ... -0.22905086\n",
      "    CHL_reduced  (sampling, feature_reduced) float32 65.005486 ... 0.15470983\n"
     ]
    }
   ],
   "source": [
    "X = X.assign(variables={var_name + \"_reduced\":(('sampling', 'feature_reduced'),X_reduced)})\n",
    "print(X)"
   ]
  },
  {
   "cell_type": "markdown",
   "metadata": {},
   "source": [
    "## Apply Model\n",
    "***"
   ]
  },
  {
   "cell_type": "markdown",
   "metadata": {},
   "source": [
    "__Create model__"
   ]
  },
  {
   "cell_type": "code",
   "execution_count": 39,
   "metadata": {},
   "outputs": [
    {
     "data": {
      "text/plain": [
       "GaussianMixture(covariance_type='full', init_params='kmeans', max_iter=100,\n",
       "                means_init=None, n_components=7, n_init=1, precisions_init=None,\n",
       "                random_state=None, reg_covar=1e-06, tol=0.001, verbose=0,\n",
       "                verbose_interval=10, warm_start=False, weights_init=None)"
      ]
     },
     "execution_count": 39,
     "metadata": {},
     "output_type": "execute_result"
    }
   ],
   "source": [
    "from sklearn import mixture\n",
    "k = 7 # number of classes\n",
    "model = mixture.GaussianMixture(n_components=k, covariance_type='full')\n",
    "model"
   ]
  },
  {
   "cell_type": "code",
   "execution_count": 40,
   "metadata": {},
   "outputs": [],
   "source": [
    "#from sklearn.cluster import KMeans\n",
    "#k=7\n",
    "#model = KMeans(n_clusters=7)\n",
    "#model"
   ]
  },
  {
   "cell_type": "markdown",
   "metadata": {},
   "source": [
    "__Fit model__"
   ]
  },
  {
   "cell_type": "code",
   "execution_count": 41,
   "metadata": {},
   "outputs": [
    {
     "data": {
      "text/plain": [
       "GaussianMixture(covariance_type='full', init_params='kmeans', max_iter=100,\n",
       "                means_init=None, n_components=7, n_init=1, precisions_init=None,\n",
       "                random_state=None, reg_covar=1e-06, tol=0.001, verbose=0,\n",
       "                verbose_interval=10, warm_start=False, weights_init=None)"
      ]
     },
     "execution_count": 41,
     "metadata": {},
     "output_type": "execute_result"
    }
   ],
   "source": [
    "model.fit(X[var_name + \"_reduced\"])"
   ]
  },
  {
   "cell_type": "markdown",
   "metadata": {},
   "source": [
    "__Predict labels__"
   ]
  },
  {
   "cell_type": "code",
   "execution_count": 42,
   "metadata": {},
   "outputs": [
    {
     "data": {
      "text/plain": [
       "array([2, 2, 2, ..., 3, 3, 3])"
      ]
     },
     "execution_count": 42,
     "metadata": {},
     "output_type": "execute_result"
    }
   ],
   "source": [
    "X_labels = model.predict(X[var_name + \"_reduced\"])\n",
    "X_labels"
   ]
  },
  {
   "cell_type": "code",
   "execution_count": 43,
   "metadata": {},
   "outputs": [
    {
     "name": "stdout",
     "output_type": "stream",
     "text": [
      "0\n",
      "6\n"
     ]
    }
   ],
   "source": [
    "print(X_labels.min())\n",
    "print(X_labels.max())"
   ]
  },
  {
   "cell_type": "code",
   "execution_count": 44,
   "metadata": {},
   "outputs": [
    {
     "name": "stdout",
     "output_type": "stream",
     "text": [
      "<xarray.Dataset>\n",
      "Dimensions:      (feature: 52, feature_reduced: 39, sampling: 140700)\n",
      "Coordinates:\n",
      "  * feature      (feature) int64 1 2 3 4 5 6 7 8 9 ... 45 46 47 48 49 50 51 52\n",
      "  * sampling     (sampling) MultiIndex\n",
      "  - lat          (sampling) float64 45.73 45.73 45.73 ... 30.35 30.35 30.35\n",
      "  - lon          (sampling) float64 13.56 13.6 13.65 13.19 ... 19.23 19.27 19.31\n",
      "    depth        float32 1.0182366\n",
      "    time         datetime64[ns] 2021-01-29T12:00:00\n",
      "Dimensions without coordinates: feature_reduced\n",
      "Data variables:\n",
      "    CHL          (sampling, feature) float32 4.440365 2.17191 ... 0.250563\n",
      "    CHL_scaled   (sampling, feature) float32 18.874125 8.942784 ... -0.22905086\n",
      "    CHL_reduced  (sampling, feature_reduced) float32 65.005486 ... 0.15470983\n",
      "    GMM_labels   (sampling) int64 2 2 2 2 2 2 2 2 2 2 2 ... 3 3 3 3 3 3 3 3 3 3\n"
     ]
    }
   ],
   "source": [
    "X = X.assign(variables={\"GMM_labels\":(('sampling'),X_labels)})\n",
    "print(X)\n",
    "#X"
   ]
  },
  {
   "cell_type": "markdown",
   "metadata": {},
   "source": [
    "Calculate other __stadistics__"
   ]
  },
  {
   "cell_type": "markdown",
   "metadata": {},
   "source": [
    "- Predict posterior probability of each component given the data"
   ]
  },
  {
   "cell_type": "code",
   "execution_count": 45,
   "metadata": {},
   "outputs": [
    {
     "data": {
      "text/plain": [
       "(140700, 7)"
      ]
     },
     "execution_count": 45,
     "metadata": {},
     "output_type": "execute_result"
    }
   ],
   "source": [
    "X_proba = model.predict_proba(X[var_name + \"_reduced\"])\n",
    "np.shape(X_proba)"
   ]
  },
  {
   "cell_type": "code",
   "execution_count": 46,
   "metadata": {},
   "outputs": [
    {
     "name": "stdout",
     "output_type": "stream",
     "text": [
      "<xarray.Dataset>\n",
      "Dimensions:      (feature: 52, feature_reduced: 39, k: 7, sampling: 140700)\n",
      "Coordinates:\n",
      "  * feature      (feature) int64 1 2 3 4 5 6 7 8 9 ... 45 46 47 48 49 50 51 52\n",
      "  * sampling     (sampling) MultiIndex\n",
      "  - lat          (sampling) float64 45.73 45.73 45.73 ... 30.35 30.35 30.35\n",
      "  - lon          (sampling) float64 13.56 13.6 13.65 13.19 ... 19.23 19.27 19.31\n",
      "    depth        float32 1.0182366\n",
      "    time         datetime64[ns] 2021-01-29T12:00:00\n",
      "Dimensions without coordinates: feature_reduced, k\n",
      "Data variables:\n",
      "    CHL          (sampling, feature) float32 4.440365 2.17191 ... 0.250563\n",
      "    CHL_scaled   (sampling, feature) float32 18.874125 8.942784 ... -0.22905086\n",
      "    CHL_reduced  (sampling, feature_reduced) float32 65.005486 ... 0.15470983\n",
      "    GMM_labels   (sampling) int64 2 2 2 2 2 2 2 2 2 2 2 ... 3 3 3 3 3 3 3 3 3 3\n",
      "    GMM_post     (sampling, k) float64 0.0 3.755e-322 ... 2.682e-11 2.428e-60\n"
     ]
    }
   ],
   "source": [
    "X = X.assign(variables={\"GMM_post\":(('sampling','k'),X_proba)})\n",
    "print(X)\n",
    "#X"
   ]
  },
  {
   "cell_type": "markdown",
   "metadata": {},
   "source": [
    "- Calculate quantiles"
   ]
  },
  {
   "cell_type": "code",
   "execution_count": 47,
   "metadata": {},
   "outputs": [],
   "source": [
    "#quantiles we want to calculate\n",
    "q = [0.05, 0.5, 0.95]"
   ]
  },
  {
   "cell_type": "code",
   "execution_count": 48,
   "metadata": {},
   "outputs": [],
   "source": [
    "m_quantiles = X[var_name].where(X['GMM_labels']==0, drop=True).quantile(q, dim='sampling')\n",
    "for yi in range(1,k):\n",
    "    m_quantiles = xr.concat((m_quantiles, X[var_name].where(X['GMM_labels']==yi, drop=True).quantile(q, dim='sampling')), dim='k')"
   ]
  },
  {
   "cell_type": "code",
   "execution_count": 49,
   "metadata": {},
   "outputs": [
    {
     "name": "stdout",
     "output_type": "stream",
     "text": [
      "<xarray.Dataset>\n",
      "Dimensions:      (feature: 52, feature_reduced: 39, k: 7, quantiles: 3, sampling: 140700)\n",
      "Coordinates:\n",
      "  * feature      (feature) int64 1 2 3 4 5 6 7 8 9 ... 45 46 47 48 49 50 51 52\n",
      "  * sampling     (sampling) MultiIndex\n",
      "  - lat          (sampling) float64 45.73 45.73 45.73 ... 30.35 30.35 30.35\n",
      "  - lon          (sampling) float64 13.56 13.6 13.65 13.19 ... 19.23 19.27 19.31\n",
      "    depth        float32 1.0182366\n",
      "    time         datetime64[ns] 2021-01-29T12:00:00\n",
      "Dimensions without coordinates: feature_reduced, k, quantiles\n",
      "Data variables:\n",
      "    CHL          (sampling, feature) float32 4.440365 2.17191 ... 0.250563\n",
      "    CHL_scaled   (sampling, feature) float32 18.874125 8.942784 ... -0.22905086\n",
      "    CHL_reduced  (sampling, feature_reduced) float32 65.005486 ... 0.15470983\n",
      "    GMM_labels   (sampling) int64 2 2 2 2 2 2 2 2 2 2 2 ... 3 3 3 3 3 3 3 3 3 3\n",
      "    GMM_post     (sampling, k) float64 0.0 3.755e-322 ... 2.682e-11 2.428e-60\n",
      "    CHL_Q        (k, quantiles, feature) float64 0.2089 0.1764 ... 0.1843 0.1887\n"
     ]
    }
   ],
   "source": [
    "X = X.assign(variables={var_name + \"_Q\":(('k','quantiles','feature'), m_quantiles)})\n",
    "print(X)"
   ]
  },
  {
   "cell_type": "markdown",
   "metadata": {},
   "source": [
    "- Calculate quantiles scaled variable"
   ]
  },
  {
   "cell_type": "code",
   "execution_count": 50,
   "metadata": {},
   "outputs": [],
   "source": [
    "#quantiles we want to calculate\n",
    "q = [0.05, 0.5, 0.95]"
   ]
  },
  {
   "cell_type": "code",
   "execution_count": 51,
   "metadata": {},
   "outputs": [],
   "source": [
    "m_quantiles = X[var_name].where(X['GMM_labels']==0, drop=True).quantile(q, dim='sampling')\n",
    "for yi in range(1,k):\n",
    "    m_quantiles = xr.concat((m_quantiles, X[var_name + '_scaled'].where(X['GMM_labels']==yi, drop=True).quantile(q, dim='sampling')), dim='k')"
   ]
  },
  {
   "cell_type": "code",
   "execution_count": 52,
   "metadata": {},
   "outputs": [
    {
     "name": "stdout",
     "output_type": "stream",
     "text": [
      "<xarray.Dataset>\n",
      "Dimensions:       (feature: 52, feature_reduced: 39, k: 7, quantiles: 3, sampling: 140700)\n",
      "Coordinates:\n",
      "  * feature       (feature) int64 1 2 3 4 5 6 7 8 9 ... 45 46 47 48 49 50 51 52\n",
      "  * sampling      (sampling) MultiIndex\n",
      "  - lat           (sampling) float64 45.73 45.73 45.73 ... 30.35 30.35 30.35\n",
      "  - lon           (sampling) float64 13.56 13.6 13.65 ... 19.23 19.27 19.31\n",
      "    depth         float32 1.0182366\n",
      "    time          datetime64[ns] 2021-01-29T12:00:00\n",
      "Dimensions without coordinates: feature_reduced, k, quantiles\n",
      "Data variables:\n",
      "    CHL           (sampling, feature) float32 4.440365 2.17191 ... 0.250563\n",
      "    CHL_scaled    (sampling, feature) float32 18.874125 8.942784 ... -0.22905086\n",
      "    CHL_reduced   (sampling, feature_reduced) float32 65.005486 ... 0.15470983\n",
      "    GMM_labels    (sampling) int64 2 2 2 2 2 2 2 2 2 2 2 ... 3 3 3 3 3 3 3 3 3 3\n",
      "    GMM_post      (sampling, k) float64 0.0 3.755e-322 ... 2.682e-11 2.428e-60\n",
      "    CHL_Q         (k, quantiles, feature) float64 0.2089 0.1764 ... 0.1887\n",
      "    CHL_scaled_Q  (k, quantiles, feature) float64 0.2089 0.1764 ... -0.4255\n"
     ]
    }
   ],
   "source": [
    "X = X.assign(variables={var_name + '_scaled'+ \"_Q\":(('k','quantiles','feature'), m_quantiles)})\n",
    "print(X)"
   ]
  },
  {
   "cell_type": "markdown",
   "metadata": {},
   "source": [
    "- Calculate robustness"
   ]
  },
  {
   "cell_type": "code",
   "execution_count": 53,
   "metadata": {},
   "outputs": [],
   "source": [
    "maxpost = X[\"GMM_post\"].max(dim=\"k\")\n",
    "K = len(X[\"GMM_labels\"])\n",
    "robust = (maxpost - 1. / K) * K / (K - 1.)\n",
    "\n",
    "Plist = [0, 0.33, 0.66, 0.9, .99, 1]\n",
    "rowl0 = ('Unlikely', 'As likely as not', 'Likely', 'Very Likely', 'Virtually certain')\n",
    "robust_id = np.digitize(robust, Plist) - 1"
   ]
  },
  {
   "cell_type": "code",
   "execution_count": 54,
   "metadata": {},
   "outputs": [
    {
     "name": "stdout",
     "output_type": "stream",
     "text": [
      "<xarray.Dataset>\n",
      "Dimensions:             (feature: 52, feature_reduced: 39, k: 7, quantiles: 3, sampling: 140700)\n",
      "Coordinates:\n",
      "  * feature             (feature) int64 1 2 3 4 5 6 7 8 ... 46 47 48 49 50 51 52\n",
      "  * sampling            (sampling) MultiIndex\n",
      "  - lat                 (sampling) float64 45.73 45.73 45.73 ... 30.35 30.35\n",
      "  - lon                 (sampling) float64 13.56 13.6 13.65 ... 19.27 19.31\n",
      "    depth               float32 1.0182366\n",
      "    time                datetime64[ns] 2021-01-29T12:00:00\n",
      "Dimensions without coordinates: feature_reduced, k, quantiles\n",
      "Data variables:\n",
      "    CHL                 (sampling, feature) float32 4.440365 ... 0.250563\n",
      "    CHL_scaled          (sampling, feature) float32 18.874125 ... -0.22905086\n",
      "    CHL_reduced         (sampling, feature_reduced) float32 65.005486 ... 0.15470983\n",
      "    GMM_labels          (sampling) int64 2 2 2 2 2 2 2 2 2 ... 3 3 3 3 3 3 3 3 3\n",
      "    GMM_post            (sampling, k) float64 0.0 3.755e-322 ... 2.428e-60\n",
      "    CHL_Q               (k, quantiles, feature) float64 0.2089 0.1764 ... 0.1887\n",
      "    CHL_scaled_Q        (k, quantiles, feature) float64 0.2089 ... -0.4255\n",
      "    GMM_robustness      (sampling) float64 1.0 1.0 1.0 1.0 ... 1.0 1.0 1.0 1.0\n",
      "    GMM_robustness_cat  (sampling) int64 5 5 5 5 5 5 5 5 5 ... 4 4 4 4 4 4 4 4 4\n"
     ]
    }
   ],
   "source": [
    "X = X.assign(variables={\"GMM_robustness\":(('sampling'), robust), \"GMM_robustness_cat\":(('sampling'), robust_id)})\n",
    "X[\"GMM_robustness_cat\"].attrs['legend'] = rowl0\n",
    "print(X)\n",
    "#X"
   ]
  },
  {
   "cell_type": "markdown",
   "metadata": {},
   "source": [
    "__Unstack dataset__"
   ]
  },
  {
   "cell_type": "code",
   "execution_count": 55,
   "metadata": {},
   "outputs": [
    {
     "name": "stdout",
     "output_type": "stream",
     "text": [
      "<xarray.Dataset>\n",
      "Dimensions:             (feature: 52, feature_reduced: 39, k: 7, lat: 385, lon: 1152, quantiles: 3)\n",
      "Coordinates:\n",
      "  * lat                 (lat) float64 46.02 45.98 45.94 ... 30.1 30.06 30.02\n",
      "  * lon                 (lon) float64 -4.979 -4.937 -4.896 ... 42.9 42.94 42.98\n",
      "  * feature             (feature) int64 1 2 3 4 5 6 7 8 ... 46 47 48 49 50 51 52\n",
      "    depth               float32 1.0182366\n",
      "    time                datetime64[ns] 2021-01-29T12:00:00\n",
      "Dimensions without coordinates: feature_reduced, k, quantiles\n",
      "Data variables:\n",
      "    CHL                 (feature, lat, lon) float32 nan nan nan ... nan nan nan\n",
      "    CHL_scaled          (feature, lat, lon) float32 nan nan nan ... nan nan nan\n",
      "    CHL_reduced         (feature_reduced, lat, lon) float32 nan nan ... nan nan\n",
      "    GMM_labels          (lat, lon) float64 nan nan nan nan ... nan nan nan nan\n",
      "    GMM_post            (k, lat, lon) float64 nan nan nan nan ... nan nan nan\n",
      "    CHL_Q               (k, quantiles, feature) float64 0.2089 0.1764 ... 0.1887\n",
      "    CHL_scaled_Q        (k, quantiles, feature) float64 0.2089 ... -0.4255\n",
      "    GMM_robustness      (lat, lon) float64 nan nan nan nan ... nan nan nan nan\n",
      "    GMM_robustness_cat  (lat, lon) float64 nan nan nan nan ... nan nan nan nan\n"
     ]
    }
   ],
   "source": [
    "ds_labels = X.unstack('sampling')\n",
    "#ds_labels = ds_labels.sortby(['lat','lon'])\n",
    "# same lat and lon values in mask and in results\n",
    "mask = stacked_mask.unstack()\n",
    "ds_labels = ds_labels.reindex_like(mask)\n",
    "print(ds_labels)\n",
    "#ds_labels"
   ]
  },
  {
   "cell_type": "code",
   "execution_count": 56,
   "metadata": {},
   "outputs": [
    {
     "data": {
      "text/plain": [
       "Coordinates:\n",
       "  * lat      (lat) float64 46.02 45.98 45.94 45.9 ... 30.15 30.1 30.06 30.02\n",
       "  * lon      (lon) float64 -4.979 -4.937 -4.896 -4.854 ... 42.9 42.94 42.98\n",
       "    depth    float32 1.0182366\n",
       "    time     datetime64[ns] 2021-01-29T12:00:00"
      ]
     },
     "execution_count": 56,
     "metadata": {},
     "output_type": "execute_result"
    }
   ],
   "source": [
    "ds_labels['CHL_reduced'].coords"
   ]
  },
  {
   "cell_type": "code",
   "execution_count": 57,
   "metadata": {},
   "outputs": [
    {
     "data": {
      "text/plain": [
       "'CHL_reduced'"
      ]
     },
     "execution_count": 57,
     "metadata": {},
     "output_type": "execute_result"
    }
   ],
   "source": [
    "var_name + '_reduced'"
   ]
  },
  {
   "cell_type": "markdown",
   "metadata": {},
   "source": [
    "## Preprocesing plots\n",
    "***"
   ]
  },
  {
   "cell_type": "markdown",
   "metadata": {},
   "source": [
    "__Scatter plot__"
   ]
  },
  {
   "cell_type": "code",
   "execution_count": 58,
   "metadata": {},
   "outputs": [
    {
     "name": "stdout",
     "output_type": "stream",
     "text": [
      "     feature_reduced_0  feature_reduced_1  labels\n",
      "0             1.739263           0.061998     6.0\n",
      "1            -1.931231           0.706862     2.0\n",
      "2            -1.659998           1.164109     5.0\n",
      "3            -0.036699           0.264292     6.0\n",
      "4            -0.158124           0.080227     3.0\n",
      "..                 ...                ...     ...\n",
      "995          -1.691846           0.911492     0.0\n",
      "996           3.198881          -3.132807     6.0\n",
      "997          -0.482092           0.336192     3.0\n",
      "998           0.560394           0.440789     6.0\n",
      "999          -2.031446           0.762710     5.0\n",
      "\n",
      "[1000 rows x 3 columns]\n"
     ]
    },
    {
     "data": {
      "image/png": "[encoded data removed]",
      "text/plain": [
       "<Figure size 405.68x360 with 6 Axes>"
      ]
     },
     "metadata": {
      "needs_background": "light"
     },
     "output_type": "display_data"
    }
   ],
   "source": [
    "import Plotter_OR\n",
    "from Plotter_OR import Plotter_OR \n",
    "P = Plotter_OR(ds_labels, model, coords_dict={'latitude':'lat', 'longitude':'lon', 'feature': 'feature'})\n",
    "P.scatter_PDF(var_name = var_name + '_reduced')"
   ]
  },
  {
   "cell_type": "code",
   "execution_count": null,
   "metadata": {},
   "outputs": [],
   "source": [
    "#convert colormap to pallete\n",
    "import matplotlib.cm\n",
    "cmap=plt.cm.get_cmap('Spectral', k)\n",
    "matplotlib.cm.register_cmap(\"mycolormap\", cmap)\n",
    "cpal = sns.color_palette(\"mycolormap\", n_colors=k)"
   ]
  },
  {
   "cell_type": "code",
   "execution_count": null,
   "metadata": {},
   "outputs": [],
   "source": [
    "#convert to dataframe\n",
    "ds_p = ds_labels['CHL_reduced']\n",
    "ds_p = ds_p.drop_vars({'depth','time'})\n",
    "df = ds_p.to_dataframe(name='CHL_reduced').unstack(0)\n",
    "#select first and second components\n",
    "df = df.take([0, 1], axis=1)\n",
    "#add labels\n",
    "df['labels'] = ds_labels['GMM_labels'].stack({'sampling': sampling_dims})\n",
    "# do not use NaNs\n",
    "df = df.dropna()\n",
    "\n",
    "# random selection of points to make clear plots\n",
    "n=1000\n",
    "random_rows = np.random.choice(range(df.shape[0]), np.min((n, df.shape[0])), replace=False)\n",
    "df = df.iloc[random_rows]\n",
    "#format to simple dataframe\n",
    "df = df.reset_index(drop=True)\n",
    "df.columns = df.columns.droplevel(0)\n",
    "df = df.rename_axis(None, axis=1)\n",
    "df = df.rename(columns={0: \"feature_reduced_0\", 1: \"feature_reduced_1\", '': \"labels\"})\n",
    "\n",
    "#defaults = {'height':2.5, 'aspect':1, 'hue':'labels', 'palette': m.plot.cmap(palette=True),\n",
    "#                    'vars':m._xlabel, 'despine':False}\n",
    "defaults = {'height':2.5, 'aspect':1, 'hue':'labels', 'despine':False, 'palette': cpal}\n",
    "#defaults = {'height':2.5, 'aspect':1, 'despine':False, 'palette': cpal}\n",
    "g = sns.PairGrid(df, **defaults)\n",
    "\n",
    "g.map_diag(sns.histplot, edgecolor=None, alpha=0.75)\n",
    "g = g.map_upper(plt.scatter, s=3)\n",
    "\n",
    "g.add_legend()"
   ]
  },
  {
   "cell_type": "code",
   "execution_count": null,
   "metadata": {},
   "outputs": [],
   "source": [
    "ds_p.dims\n",
    "ds_p.coords.keys()"
   ]
  },
  {
   "cell_type": "markdown",
   "metadata": {},
   "source": [
    "__BIC__"
   ]
  },
  {
   "cell_type": "code",
   "execution_count": null,
   "metadata": {},
   "outputs": [],
   "source": [
    "corr_dist = 50 # correlation distance in km\n",
    "Nrun = 10 # number of runs for each k\n",
    "NK = 20 # max number of classes to explore"
   ]
  },
  {
   "cell_type": "code",
   "execution_count": null,
   "metadata": {},
   "outputs": [],
   "source": [
    "BIC, BIC_min = BIC_calculation(X=X, coords_dict={'latitude':'lat', 'longitude':'lon'}, \n",
    "                               corr_dist=corr_dist,\n",
    "                               feature_name='feature_reduced', var_name= 'CHL_reduced',\n",
    "                               Nrun=Nrun, NK=NK)"
   ]
  },
  {
   "cell_type": "code",
   "execution_count": null,
   "metadata": {},
   "outputs": [],
   "source": [
    "plot_BIC(BIC, NK=NK)"
   ]
  },
  {
   "cell_type": "markdown",
   "metadata": {},
   "source": [
    "## Plot results\n",
    "***"
   ]
  },
  {
   "cell_type": "code",
   "execution_count": null,
   "metadata": {},
   "outputs": [],
   "source": [
    "P = Plotter(ds)"
   ]
  },
  {
   "cell_type": "markdown",
   "metadata": {},
   "source": [
    "#### __1) Quantiles time series__"
   ]
  },
  {
   "cell_type": "markdown",
   "metadata": {},
   "source": [
    "Median and other quantiles representation"
   ]
  },
  {
   "cell_type": "code",
   "execution_count": null,
   "metadata": {},
   "outputs": [],
   "source": [
    "plot_var= 'CHL_scaled'\n",
    "line_style = ['--','-','--']\n",
    "start_month = 7\n",
    "cmap=plt.cm.get_cmap('Accent', k)\n",
    "fig, ax = plt.subplots(nrows=k, ncols=1, figsize=(10,16))\n",
    "\n",
    "#ticks in months\n",
    "dates = 2019*1000 + ds_labels.feature*10 + 0\n",
    "dates = dates.astype(str)\n",
    "dates = pd.to_datetime(dates.values, format='%Y%W%w')\n",
    "\n",
    "xaxis_labels = ['Jan', 'Feb', 'Mar', 'Apr', 'May',\n",
    "                            'Jun', 'Jul', 'Aug', 'Sep', 'Oct', 'Nov', 'Dec']\n",
    "if start_month != 0:\n",
    "    #reorder x values\n",
    "    start_index = np.where(dates.month == 7)[0][0]\n",
    "    new_order_index = np.concatenate(\n",
    "            (np.arange(start_index, np.shape(dates)), np.arange(0, start_index)))\n",
    "    x_values = pd.to_datetime([dates[i] for i in new_order_index])\n",
    "    #reorder xlabels\n",
    "    new_order = np.concatenate(\n",
    "            (np.arange(start_month, 13), np.arange(1, start_month)))\n",
    "    xaxis_labels = [xaxis_labels[i-1] for i in new_order]\n",
    "    \n",
    "index_ticks = np.unique(x_values.month, return_index=True)\n",
    "index_ticks = np.sort(index_ticks[1])\n",
    "\n",
    "for ik in range(k):\n",
    "    ax[ik].grid()\n",
    "    for iq in range(np.size(q)):\n",
    "        \n",
    "        y_values = ds_labels[plot_var + \"_Q\"].isel(quantiles=iq, k=ik)\n",
    "        if start_month != 0:\n",
    "            y_values = y_values.reindex({'feature': new_order_index+1})\n",
    "            \n",
    "        ax[ik].plot(y_values , line_style[iq], color=cmap(ik),  label = 'q = '+ str(q[iq]), linewidth=2)\n",
    "        \n",
    "    #ax[ik].set_xlabel('Weeks')\n",
    "    ax[ik].set_xticks(index_ticks)\n",
    "    ax[ik].set_xticklabels(xaxis_labels)\n",
    "    ax[ik].set_ylabel('Chlorophyll-a (mg/m3)')\n",
    "    ax[ik].set_title((\"k = %i\") % (ik), color=cmap(ik), fontweight=\"bold\")\n",
    "    ax[ik].legend(loc='upper right')\n",
    "\n",
    "plt.subplots_adjust(hspace=0.4)"
   ]
  },
  {
   "cell_type": "markdown",
   "metadata": {},
   "source": [
    "All median time series in the same plot "
   ]
  },
  {
   "cell_type": "code",
   "execution_count": null,
   "metadata": {},
   "outputs": [],
   "source": [
    "#quantile tou want to plot\n",
    "plot_q = 0.5\n",
    "plot_qi = q.index(plot_q)\n",
    "\n",
    "cmap=plt.cm.get_cmap('Spectral', k)\n",
    "fig = plt.figure(figsize=(20,6))\n",
    "plt.grid()\n",
    "for ik in range(k):\n",
    "    plt.plot(ds_labels[var_name + \"_Q\"].isel(quantiles=plot_qi, k=ik),color=cmap(ik))\n",
    "\n",
    "norm = mpl.colors.Normalize(vmin=0,vmax=k-1)\n",
    "sm = plt.cm.ScalarMappable(cmap=cmap, norm=norm)\n",
    "sm.set_array([])\n",
    "cbar = plt.colorbar(sm, ticks=range(k)) \n",
    "cbar.set_label('Classes', fontsize=12)\n",
    "plt.gca().set_xlabel('Weeks')\n",
    "plt.gca().set_ylabel('Temperature (K)')\n",
    "plt.gca().set_title(\"Median time series (q=0.5)\", fontsize=12, fontweight='bold')\n",
    "plt.show()"
   ]
  },
  {
   "cell_type": "markdown",
   "metadata": {},
   "source": [
    "If temperature is normalized (__how we can interpret this figure?__)"
   ]
  },
  {
   "cell_type": "code",
   "execution_count": null,
   "metadata": {},
   "outputs": [],
   "source": [
    "#quantile tou want to plot\n",
    "plot_q = 0.5\n",
    "\n",
    "cmap=plt.cm.get_cmap('Spectral', k)\n",
    "plt.figure(figsize=(20,6))\n",
    "plt.grid()\n",
    "for ik in range(k):\n",
    "    plt.plot(X[var_name + '_scaled'].where(X['GMM_labels']==ik, drop=True).quantile(plot_q, dim='sampling'),color=cmap(ik))\n",
    "\n",
    "norm = mpl.colors.Normalize(vmin=0,vmax=k-1)\n",
    "sm = plt.cm.ScalarMappable(cmap=cmap, norm=norm)\n",
    "sm.set_array([])\n",
    "cbar = plt.colorbar(sm, ticks=range(k))\n",
    "cbar.set_label('Classes', fontsize=12)\n",
    "plt.gca().set_xlabel('Weeks')\n",
    "plt.gca().set_ylabel('Normalized temperature (K)')\n",
    "plt.gca().set_title(\"Median time series (q=0.5)\", fontsize=12, fontweight='bold')\n",
    "plt.gca().set_ylim([-3.5,3.5])\n",
    "plt.show()"
   ]
  },
  {
   "cell_type": "markdown",
   "metadata": {},
   "source": [
    "#### __2) Spatial distribution of classes__"
   ]
  },
  {
   "cell_type": "code",
   "execution_count": null,
   "metadata": {},
   "outputs": [],
   "source": [
    "from cartopy.mpl.ticker import LongitudeFormatter, LatitudeFormatter\n",
    "\n",
    "land_feature=cfeature.NaturalEarthFeature(category='physical',name='land',scale='10m',facecolor='grey')\n",
    "map_extent = [ds_labels['lon'].values.min()-1, ds_labels['lon'].values.max()+1, ds_labels['lat'].values.min()-1, ds_labels['lat'].values.max()+1]\n",
    "\n",
    "fig=plt.figure(figsize=(18,10))\n",
    "ax = fig.add_subplot(1, 1, 1, projection=ccrs.PlateCarree())\n",
    "ax.add_feature(land_feature, edgecolor='black')\n",
    "ax.set_extent(map_extent, crs=ccrs.PlateCarree())\n",
    "\n",
    "plt.pcolormesh(ds_labels['lon'], ds_labels['lat'], ds_labels['GMM_labels'], vmin=0, vmax=k-1, cmap=plt.cm.get_cmap('Accent', k))\n",
    "\n",
    "cbar = plt.colorbar(ticks=range(k),fraction=0.016, pad=0.04)\n",
    "#plt.clim([-0.5,4.5])\n",
    "cbar.set_label('Classes', fontsize=12)\n",
    "\n",
    "ax.set_xticks(np.arange(int(map_extent[0]),int(map_extent[1]),2), crs=ccrs.PlateCarree())\n",
    "ax.set_yticks(np.arange(int(map_extent[2]),int(map_extent[3]),2), crs=ccrs.PlateCarree())\n",
    "lon_formatter = LongitudeFormatter()\n",
    "lat_formatter = LatitudeFormatter()\n",
    "ax.xaxis.set_major_formatter(lon_formatter)\n",
    "ax.yaxis.set_major_formatter(lat_formatter)\n",
    "plt.grid(True,  linestyle='--')\n",
    "\n",
    "ax.set_title('Spatial distribution of classes', fontsize=14, fontweight='bold')\n",
    "\n",
    "plt.show()"
   ]
  },
  {
   "cell_type": "markdown",
   "metadata": {},
   "source": [
    "#### __3) Robustness__"
   ]
  },
  {
   "cell_type": "code",
   "execution_count": null,
   "metadata": {},
   "outputs": [],
   "source": [
    "from cartopy.mpl.gridliner import LONGITUDE_FORMATTER, LATITUDE_FORMATTER\n",
    "import matplotlib.ticker as mticker\n",
    "import pyxpcm\n",
    "###########################################################\n",
    "from pyxpcm.models import pcm\n",
    "z = np.arange(0,30)\n",
    "pcm_features = {var_name: z}\n",
    "m = pcm(K=k, features=pcm_features)\n",
    "cmap = m.plot.cmap(usage='robustness')\n",
    "###########################################################\n",
    "\n",
    "extent = np.array([min(ds_labels['lon']), max(ds_labels['lon']), min(ds_labels['lat']), max(ds_labels['lat'])] + np.array([-0.1, +0.1, -0.1, +0.1]))\n",
    "fig, ax = plt.subplots(figsize=(10, 20), nrows=k, ncols=1, facecolor='w', edgecolor='k', dpi=120, subplot_kw={'projection': ccrs.PlateCarree(), 'extent': extent})\n",
    "#cmap=plt.cm.get_cmap('Spectral', k)\n",
    "land_feature = cfeature.NaturalEarthFeature(category='physical', name='land', scale='50m', facecolor=[0.9375, 0.9375, 0.859375])\n",
    "#ticks\n",
    "dx=4\n",
    "dy=4\n",
    "\n",
    "for ik in range(k):\n",
    "    ax[ik].add_feature(land_feature, edgecolor='black')\n",
    "    ax[ik].set_extent(extent, crs=ccrs.PlateCarree())\n",
    "    sc = ax[ik].pcolormesh(ds_labels['lon'], ds_labels['lat'], ds_labels['GMM_robustness_cat'].where(ds_labels['GMM_labels'] == ik),\n",
    "                            cmap=cmap, transform=ccrs.PlateCarree(), vmin=0, vmax=5)\n",
    "    ax[ik].set_title('k=%i' % ik, color=cmap(ik), fontweight='bold')    \n",
    "    defaults = {'linewidth':.5, 'color':'gray', 'alpha':0.5, 'linestyle':'--'}\n",
    "    gl=ax[ik].gridlines(crs=ax[ik].projection, draw_labels=True, **defaults)\n",
    "    gl.xlocator = mticker.FixedLocator(np.arange(-180, 180+1, dx))\n",
    "    gl.ylocator = mticker.FixedLocator(np.arange(-90, 90+1, dy))\n",
    "    gl.xformatter = LONGITUDE_FORMATTER\n",
    "    gl.yformatter = LATITUDE_FORMATTER\n",
    "    gl.xlabels_top = False\n",
    "    gl.xlabel_style = {'fontsize':5}\n",
    "    gl.ylabels_right = False\n",
    "    gl.ylabel_style = {'fontsize':5}\n",
    "    \n",
    "rowl0 = ds_labels['GMM_robustness_cat'].attrs['legend']\n",
    "cl = plt.colorbar(sc, ax=ax, fraction=0.02, pad=0.05)\n",
    "cl.set_ticks([0,1,2,3,4,5])\n",
    "cl.set_ticklabels([0,0.33,0.66,0.9,0.99,1])\n",
    "for (i, j) in zip(np.arange(0.5, 5, 1), rowl0):\n",
    "        cl.ax.text(6, i, j, ha='left', va='center', fontsize=8)\n"
   ]
  },
  {
   "cell_type": "markdown",
   "metadata": {},
   "source": [
    "#### __4) Classes pie chart__"
   ]
  },
  {
   "cell_type": "code",
   "execution_count": null,
   "metadata": {},
   "outputs": [],
   "source": [
    "pcm_labels = ds_labels['GMM_labels']\n",
    "cmap=plt.cm.get_cmap('Accent', k)\n",
    "\n",
    "for cl in range(k):\n",
    "    # get labels\n",
    "    pcm_labels_k = pcm_labels.where(pcm_labels == cl)\n",
    "    if cl == 0:\n",
    "        counts_k = pcm_labels_k.count(...)\n",
    "        pie_labels = list(['K=%i' % cl])\n",
    "        table_cn = list([[str(cl), str(counts_k.values)]])\n",
    "    else:\n",
    "        counts_k = xr.concat([counts_k, pcm_labels_k.count(...)], \"k\")\n",
    "        pie_labels.append('K=%i' % cl)\n",
    "        table_cn.append([str(cl), str(counts_k[cl].values)])\n",
    "\n",
    "table_cn.append(['Total', str(sum([int(row[1]) for row in table_cn]))])\n",
    "\n",
    "fig, ax = plt.subplots(ncols=2, figsize=(10, 6))\n",
    "# fig.set_cmap(kmap)\n",
    "\n",
    "cheader = ['$\\\\bf{K}$', '$\\\\bf{Number\\\\ of\\\\ time\\\\ series}$']\n",
    "ccolors = plt.cm.BuPu(np.full(len(cheader), 0.1))\n",
    "the_table = plt.table(cellText=table_cn, cellLoc='center', loc='center',\n",
    "                        colLabels=cheader, colColours=ccolors, fontsize=14, colWidths=(0.2, 0.45))\n",
    "\n",
    "the_table.auto_set_font_size(False)\n",
    "the_table.set_fontsize(12)\n",
    "\n",
    "explode = np.ones(k)*0.05\n",
    "kmap_n = [list(cmap(i)[0:3]) for i in range(k)]\n",
    "textprops = {'fontweight': \"bold\", 'fontsize': 12}\n",
    "\n",
    "_, _, autotexts = ax[0].pie(counts_k, labels=pie_labels, autopct='%1.1f%%',\n",
    "                            startangle=90, colors=kmap_n, explode=explode, textprops=textprops, pctdistance=0.5)\n",
    "\n",
    "#labels in white\n",
    "for autotext in autotexts:\n",
    "    autotext.set_fontweight('normal')\n",
    "    autotext.set_fontsize(10)\n",
    "\n",
    "# draw circle\n",
    "centre_circle = plt.Circle((0, 0), 0.70, fc='white')\n",
    "fig = plt.gcf()\n",
    "ax[0].add_artist(centre_circle)\n",
    "# fig.gca().add_artist(centre_circle)\n",
    "\n",
    "ax[0].axis('equal')\n",
    "ax[1].get_xaxis().set_visible(False)\n",
    "ax[1].get_yaxis().set_visible(False)\n",
    "plt.box(on=None)\n",
    "the_table.scale(1, 1.5)\n",
    "fig.suptitle('$\\\\bf{Classes\\\\ distribution}$', fontsize=14)\n",
    "plt.tight_layout()\n"
   ]
  },
  {
   "cell_type": "code",
   "execution_count": null,
   "metadata": {},
   "outputs": [],
   "source": []
  }
 ],
 "metadata": {
  "kernelspec": {
   "display_name": "Python 3",
   "language": "python",
   "name": "python3"
  },
  "language_info": {
   "codemirror_mode": {
    "name": "ipython",
    "version": 3
   },
   "file_extension": ".py",
   "mimetype": "text/x-python",
   "name": "python",
   "nbconvert_exporter": "python",
   "pygments_lexer": "ipython3",
   "version": "3.7.6"
  }
 },
 "nbformat": 4,
 "nbformat_minor": 4
}
