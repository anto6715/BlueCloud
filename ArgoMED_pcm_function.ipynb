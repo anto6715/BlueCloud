{
 "cells": [
  {
   "cell_type": "markdown",
   "metadata": {},
   "source": [
    "# __Applying PCM to ARGO data in Mediterranean Sea__"
   ]
  },
  {
   "cell_type": "markdown",
   "metadata": {},
   "source": [
    "The aim of this notebookis to be an example of applying the PCM method to in-situ T-S profiles. The dataset is a selection of Argo profiles localted in Mediterranean sea. Notebook developped and run in __Marine Environmental Indicators JupyterLab__"
   ]
  },
  {
   "cell_type": "markdown",
   "metadata": {},
   "source": [
    "Libraries needed:"
   ]
  },
  {
   "cell_type": "code",
   "execution_count": 29,
   "metadata": {},
   "outputs": [],
   "source": [
    "import xarray as xr\n",
    "# xr.set_options(display_style='text')\n",
    "import numpy as np\n",
    "import pandas as pd\n",
    "\n",
    "import argopy\n",
    "# not at home\n",
    "# argopy.set_options(cachedir='/home1/homedir5/perso/agarciaj/.cache/argopy',src='localftp',local_ftp='/home/ref-argo/gdac')\n",
    "from argopy import DataFetcher as ArgoDataFetcher\n",
    "argo_loader = ArgoDataFetcher()\n",
    "# argo_loader = ArgoDataFetcher(cache=True)\n",
    "# trying parallel-requests\n",
    "#argo_loader = ArgoDataFetcher(src='erddap', parallel=True, chunks={'wmo': 2})\n",
    "\n",
    "import cartopy.crs as ccrs\n",
    "import cartopy.feature as cfeature\n",
    "import matplotlib.pyplot as plt\n",
    "import seaborn as sns\n",
    "\n",
    "import pyxpcm\n",
    "from pyxpcm.models import pcm\n",
    "\n",
    "from Plotter import Plotter #new class for plots in pyxpcm"
   ]
  },
  {
   "cell_type": "code",
   "execution_count": 30,
   "metadata": {},
   "outputs": [
    {
     "data": {
      "text/plain": [
       "['__class__',\n",
       " '__delattr__',\n",
       " '__dict__',\n",
       " '__dir__',\n",
       " '__doc__',\n",
       " '__eq__',\n",
       " '__format__',\n",
       " '__ge__',\n",
       " '__getattribute__',\n",
       " '__gt__',\n",
       " '__hash__',\n",
       " '__init__',\n",
       " '__init_subclass__',\n",
       " '__le__',\n",
       " '__lt__',\n",
       " '__module__',\n",
       " '__ne__',\n",
       " '__new__',\n",
       " '__reduce__',\n",
       " '__reduce_ex__',\n",
       " '__repr__',\n",
       " '__setattr__',\n",
       " '__sizeof__',\n",
       " '__str__',\n",
       " '__subclasshook__',\n",
       " '__weakref__',\n",
       " 'plot_posteriors',\n",
       " 'plt',\n",
       " 'spatial_distribution',\n",
       " 'temporal_distribution',\n",
       " 'vertical_structure']"
      ]
     },
     "execution_count": 30,
     "metadata": {},
     "output_type": "execute_result"
    }
   ],
   "source": [
    "dir(Plotter)"
   ]
  },
  {
   "cell_type": "markdown",
   "metadata": {},
   "source": [
    "<font color=blue>__Create class plotter__</font>"
   ]
  },
  {
   "cell_type": "code",
   "execution_count": null,
   "metadata": {},
   "outputs": [],
   "source": [
    "class Plotter:\n",
    "    '''New class for data visualisation of data from pyxpcm\n",
    "        ds: dataset including PCM results'''\n",
    "    \n",
    "    def __init__(self, ds, m, data_type):\n",
    "        \n",
    "        self.ds = ds\n",
    "        self.m = m\n",
    "        self.data_type = data_type\n",
    "        # types: profiles, gridded, timeseries in the future??\n",
    "        # look for latitude and longitude variables inside functions?\n",
    "        \n",
    "        # check if dataset should include PCM variables\n",
    "        assert (\"PCM_LABELS\" in self.ds), \"Dataset should include PCM_LABELS varible to be plotted. Use pyxpcm.predict function with inplace=True option\"\n",
    "        \n",
    "        \n",
    "    def vertical_structure(self,q_variable):\n",
    "        '''Plot vertical structure of each class\n",
    "           q_variable: quantile variable calculated with pyxpcm.quantile function (inplace=True option)'''\n",
    "        \n",
    "        # TODO: check if data is profile\n",
    "        # TODO: try with other k values\n",
    "        # TODO: Plot function already in pyxpcm\n",
    "        fig, ax = self.m.plot.quantile(self.ds[q_variable], maxcols=4, figsize=(10, 8), sharey=True)\n",
    "        \n",
    "        \n",
    "    def spatial_distribution(self, proj, extent, co):\n",
    "        '''Plot spatial distribution of classes\n",
    "           proj: projection\n",
    "           extent: map extent\n",
    "           co: coordinates names co={'longitude':'LONGITUDE', 'latitude':'LATITUDE'}'''\n",
    "        \n",
    "        subplot_kw={'projection': proj, 'extent': extent}\n",
    "        fig, ax = plt.subplots(nrows=1, ncols=1, figsize=(5,5), dpi=120, facecolor='w', edgecolor='k', subplot_kw=subplot_kw)\n",
    "        kmap = self.m.plot.cmap() # TODO: function already in pyxpcm\n",
    "        \n",
    "        # check if gridded or profiles data\n",
    "        if self.data_type == 'profiles':\n",
    "            sc = ax.scatter(self.ds[co['longitude']], self.ds[co['latitude']], s=3, c=self.ds['PCM_LABELS'], cmap=kmap, transform=proj, vmin=0, vmax=m.K)\n",
    "        if self.data_type == 'gridded':\n",
    "            sc = ax.pcolormesh(self.ds[co['longitude']], self.ds[co['latitude']], s=3, c=self.ds['PCM_LABELS'], cmap=kmap, transform=proj, vmin=0, vmax=m.K)\n",
    "        \n",
    "        cl = self.m.plot.colorbar(ax=ax) # TODO: function already in pyxpcm\n",
    "        gl = self.m.plot.latlongrid(ax, dx=10) # TODO: function already in pyxpcm\n",
    "        ax.add_feature(cfeature.LAND)\n",
    "        ax.add_feature(cfeature.COASTLINE)\n",
    "        ax.set_title('LABELS of the training set')\n",
    "        \n",
    "        # saving figure outside??\n",
    "        #plt.savefig('ArgoMed_map_labels_EX.png')\n",
    "        \n",
    "        plt.show()\n",
    "        \n",
    "        \n",
    "    def plot_posteriors(self, proj, extent, co):\n",
    "        '''Plot posteriors in a map\n",
    "           proj: projection\n",
    "           extent: map extent\n",
    "           co: coordinates names co={'longitude':'LONGITUDE', 'latitude':'LATITUDE'}'''\n",
    "        \n",
    "        # check if PCM_POST variable exists\n",
    "        assert (\"PCM_POST\" in self.ds), \"Dataset should include PCM_POST varible to be plotted. Use pyxpcm.predict_proba function with inplace=True option\"\n",
    "        \n",
    "        cmap = sns.light_palette(\"blue\", as_cmap=True)\n",
    "        subplot_kw={'projection': proj, 'extent': extent}\n",
    "        fig, ax = self.m.plot.subplots(figsize=(10,22), maxcols=2, subplot_kw=subplot_kw)# TODO: function already in pyxpcm\n",
    "\n",
    "        for k in self.m:\n",
    "            if self.data_type == 'profiles':\n",
    "                sc = ax[k].scatter(self.ds[co['longitude']], self.ds[co['latitude']], s=3, c=self.ds['PCM_POST'].sel(pcm_class=k),\n",
    "                           cmap=cmap, transform=proj, vmin=0, vmax=1)\n",
    "            if self.data_type == 'gridded':\n",
    "                sc = ax[k].pcolormesh(self.ds[co['longitude']], self.ds[co['latitude']], s=3, c=self.ds['PCM_POST'].sel(pcm_class=k),\n",
    "                           cmap=cmap, transform=proj, vmin=0, vmax=1)\n",
    "            \n",
    "            cl = plt.colorbar(sc, ax=ax[k], fraction=0.03)\n",
    "            gl = self.m.plot.latlongrid(ax[k], fontsize=8, dx=20, dy=10)\n",
    "        \n",
    "            ax[k].add_feature(cfeature.LAND)\n",
    "            ax[k].add_feature(cfeature.COASTLINE)\n",
    "            ax[k].set_title('PCM Posteriors k=%i' % k)\n",
    "            \n",
    "            # saving figure outside??\n",
    "            #plt.savefig('ArgoMed_posteriors_EX.png')\n",
    "\n",
    "        \n",
    "    def temporal_distribution(self, time_variable, time_bins, pond):\n",
    "        '''Plot temmporal distribution of classes by moth or by season\n",
    "           time_variable: time variable name\n",
    "           time_bins: 'month' or 'season'\n",
    "           pond: 'abs' or 'rel' (divided by total nomber of observation in time bin)'''\n",
    "        \n",
    "        # TODO: it only works for profile type data for the moment (how to do when gridded?)\n",
    "        \n",
    "        # check if more than one temporal step\n",
    "        assert (len(self.ds[time_variable]) > 1), \"Length of time variable should be > 1\"\n",
    "                        \n",
    "        # data to be plot\n",
    "        # TODO: is it the best way??\n",
    "        pcm_labels = dsi['PCM_LABELS']\n",
    "       \n",
    "        if time_bins == 'month':\n",
    "            xaxis_labels = ['Jan', 'Feb', 'Mar', 'Apr', 'May', 'Jun', 'Jul', 'Aug', 'Sep', 'Oct', 'Nov', 'Dic']\n",
    "        if time_bins == 'season':\n",
    "            seasons_dict = {1: 'DJF', 2: 'MAM', 3: 'JJA', 4:'SON'}\n",
    "            xaxis_labels = ['DJF', 'MAM', 'JJA', 'SON']\n",
    "        \n",
    "        width = 0.5/(self.m.K)  # the width of the bars\n",
    "        fig, ax = plt.subplots(figsize=(18,10))\n",
    "\n",
    "        #loop in k and counting in months\n",
    "        for cl in range(self.m.K):\n",
    "            #get time array with k=cl\n",
    "            pcm_labels_k = pcm_labels[pcm_labels == cl]\n",
    "            # count for each month\n",
    "            counts_k = pcm_labels_k.groupby(time_variable + '.' + time_bins).count()\n",
    "            \n",
    "            if pond == 'rel':\n",
    "                counts_k = counts_k/sum(counts_k)\n",
    "            \n",
    "            if time_bins == 'month':\n",
    "                bar_plot_k = ax.bar(counts_k.month - (m.K/2-cl)*width, counts_k, width, label = ['K =' + str(cl)])\n",
    "            if time_bins == 'season':\n",
    "                x_ticks_k = []\n",
    "                for i in range(len(counts_k.season)):\n",
    "                    x_ticks_k.append(list(seasons_dict.values()).index(counts_k.season[i])+1)\n",
    "                    # print(x_ticks_k)\n",
    "                #plot\n",
    "                bar_plot_k = ax.bar(np.array(x_ticks_k) - (m.K/2-cl)*width, counts_k, width, label = ['K =' + str(cl)])\n",
    "            \n",
    "    \n",
    "        # format\n",
    "        # TODO: titles when pond = 'rel'\n",
    "        ax.set_xticks(np.arange(1,len(xaxis_labels)+1))\n",
    "        ax.set_xticklabels(xaxis_labels, fontsize=12)\n",
    "        plt.yticks(fontsize=12)\n",
    "        ax.legend(fontsize=12)\n",
    "        ax.set_ylabel('Number of profiles',fontsize=12)\n",
    "        ax.set_title('Number of profiles for each class by month', fontsize=14)\n",
    "        fig.tight_layout()\n",
    "\n",
    "        # saving figure outside??\n",
    "        # plt.savefig('ArgoMed_months_hist_EX.png')\n",
    "\n",
    "        plt.show()\n",
    "        \n",
    "    pass"
   ]
  },
  {
   "cell_type": "markdown",
   "metadata": {},
   "source": [
    "## Getting data\n",
    "***"
   ]
  },
  {
   "cell_type": "markdown",
   "metadata": {},
   "source": [
    "We acces to data using argopy python library"
   ]
  },
  {
   "cell_type": "markdown",
   "metadata": {},
   "source": [
    "<font color=red>TODO</font>: region option makes a square around Mediterranean sea, including some profiles in Black Sea and Atlantic Ocean --> Try to access data using WMO and profile number"
   ]
  },
  {
   "cell_type": "code",
   "execution_count": 2,
   "metadata": {},
   "outputs": [],
   "source": [
    "# only one year\n",
    "ds = argo_loader.region([-6, 35, 30, 46, 0, 1000, '2012', '2013']).to_xarray()\n",
    "#ds"
   ]
  },
  {
   "cell_type": "markdown",
   "metadata": {},
   "source": [
    "<font color=red>TODO</font>: try to use more than one year (memory limits ?)"
   ]
  },
  {
   "cell_type": "code",
   "execution_count": 3,
   "metadata": {},
   "outputs": [],
   "source": [
    "# trying yo use more than one year\n",
    "#ds1 = argo_loader.region([30, 46, -6, 35, 0, 1000, '2011', '2012']).to_xarray()\n",
    "#ds2 = argo_loader.region([30, 46, -6, 35, 0, 1000, '2012', '2013']).to_xarray()\n",
    "#ds = xr.concat([ds1,ds2],dim='N_POINTS')\n",
    "#ds"
   ]
  },
  {
   "cell_type": "code",
   "execution_count": 3,
   "metadata": {},
   "outputs": [],
   "source": [
    "dsp = ds.argo.point2profile()\n",
    "#dsp"
   ]
  },
  {
   "cell_type": "code",
   "execution_count": 4,
   "metadata": {},
   "outputs": [],
   "source": [
    "# interpolation to standard levels\n",
    "z = np.arange(0.,1000,10.)\n",
    "#z"
   ]
  },
  {
   "cell_type": "markdown",
   "metadata": {},
   "source": [
    "with `z = np.arange(0.,200,1.)` interpolation is not working"
   ]
  },
  {
   "cell_type": "code",
   "execution_count": 5,
   "metadata": {},
   "outputs": [],
   "source": [
    "dsi = dsp.argo.interp_std_levels(z)\n",
    "#dsi"
   ]
  },
  {
   "cell_type": "markdown",
   "metadata": {},
   "source": [
    "Pressure should be negative to fit the model"
   ]
  },
  {
   "cell_type": "code",
   "execution_count": 6,
   "metadata": {},
   "outputs": [],
   "source": [
    "dsi['PRES_INTERPOLATED'] = -dsi.PRES_INTERPOLATED\n",
    "#dsi"
   ]
  },
  {
   "cell_type": "markdown",
   "metadata": {},
   "source": [
    "## Applying PCM\n",
    "***"
   ]
  },
  {
   "cell_type": "markdown",
   "metadata": {},
   "source": [
    "We creates a model with K classes and temperature or salinity or both as features"
   ]
  },
  {
   "cell_type": "markdown",
   "metadata": {},
   "source": [
    "### Create PCM"
   ]
  },
  {
   "cell_type": "code",
   "execution_count": 7,
   "metadata": {},
   "outputs": [
    {
     "data": {
      "text/plain": [
       "<pcm 'gmm' (K: 8, F: 1)>\n",
       "Number of class: 8\n",
       "Number of feature: 1\n",
       "Feature names: odict_keys(['temperature'])\n",
       "Fitted: False\n",
       "Feature: 'temperature'\n",
       "\t Interpoler: <class 'pyxpcm.utils.Vertical_Interpolator'>\n",
       "\t Scaler: 'normal', <class 'sklearn.preprocessing._data.StandardScaler'>\n",
       "\t Reducer: True, <class 'sklearn.decomposition._pca.PCA'>\n",
       "Classifier: 'gmm', <class 'sklearn.mixture._gaussian_mixture.GaussianMixture'>"
      ]
     },
     "execution_count": 7,
     "metadata": {},
     "output_type": "execute_result"
    }
   ],
   "source": [
    "z = np.arange(0.,-1000,-10.)\n",
    "# only temperature to try temporal representation\n",
    "# pcm_features = {'temperature': z, 'salinity' : z}\n",
    "pcm_features = {'temperature': z}\n",
    "m = pcm(K=8, features=pcm_features)\n",
    "m"
   ]
  },
  {
   "cell_type": "markdown",
   "metadata": {},
   "source": [
    "### Fit model"
   ]
  },
  {
   "cell_type": "code",
   "execution_count": 8,
   "metadata": {},
   "outputs": [
    {
     "data": {
      "text/plain": [
       "<pcm 'gmm' (K: 8, F: 1)>\n",
       "Number of class: 8\n",
       "Number of feature: 1\n",
       "Feature names: odict_keys(['temperature'])\n",
       "Fitted: True\n",
       "Feature: 'temperature'\n",
       "\t Interpoler: <class 'pyxpcm.utils.Vertical_Interpolator'>\n",
       "\t Scaler: 'normal', <class 'sklearn.preprocessing._data.StandardScaler'>\n",
       "\t Reducer: True, <class 'sklearn.decomposition._pca.PCA'>\n",
       "Classifier: 'gmm', <class 'sklearn.mixture._gaussian_mixture.GaussianMixture'>\n",
       "\t log likelihood of the training set: -2.057540"
      ]
     },
     "execution_count": 8,
     "metadata": {},
     "output_type": "execute_result"
    }
   ],
   "source": [
    "# only temperature to try temporal representation\n",
    "# features_in_ds = {'temperature': 'TEMP', 'salinity': 'PSAL'}\n",
    "features_in_ds = {'temperature': 'TEMP'}\n",
    "features_zdim='PRES_INTERPOLATED'\n",
    "m.fit(dsi, features=features_in_ds, dim=features_zdim)\n",
    "m"
   ]
  },
  {
   "cell_type": "markdown",
   "metadata": {},
   "source": [
    "<font color=red>__TODO__</font> : save all trained PCM in a folder"
   ]
  },
  {
   "cell_type": "markdown",
   "metadata": {},
   "source": [
    "### Classify data"
   ]
  },
  {
   "cell_type": "code",
   "execution_count": 9,
   "metadata": {},
   "outputs": [],
   "source": [
    "m.predict(dsi, features=features_in_ds, dim=features_zdim, inplace=True);\n",
    "#dsi"
   ]
  },
  {
   "cell_type": "code",
   "execution_count": 10,
   "metadata": {},
   "outputs": [],
   "source": [
    "m.predict_proba(dsi, features=features_in_ds, dim=features_zdim, inplace=True);\n",
    "#dsi"
   ]
  },
  {
   "cell_type": "code",
   "execution_count": 11,
   "metadata": {},
   "outputs": [],
   "source": [
    "dsi = dsi.pyxpcm.quantile(m, q=[0.05, 0.5, 0.95], of='TEMP', outname='TEMP' + '_Q', keep_attrs=True, inplace=True);\n",
    "# dsi = dsi.pyxpcm.quantile(m, q=[0.05, 0.5, 0.95], of='PSAL', outname='PSAL' + '_Q', keep_attrs=True, inplace=True)\n",
    "#dsi"
   ]
  },
  {
   "cell_type": "code",
   "execution_count": null,
   "metadata": {},
   "outputs": [],
   "source": [
    "dsi"
   ]
  },
  {
   "cell_type": "markdown",
   "metadata": {
    "toc-hr-collapsed": true,
    "toc-nb-collapsed": true
   },
   "source": [
    "## Visualisation\n",
    "***"
   ]
  },
  {
   "cell_type": "markdown",
   "metadata": {},
   "source": [
    "Initialize Plotter"
   ]
  },
  {
   "cell_type": "code",
   "execution_count": 31,
   "metadata": {},
   "outputs": [],
   "source": [
    "P = Plotter(dsi, m, data_type = 'profiles')"
   ]
  },
  {
   "cell_type": "markdown",
   "metadata": {},
   "source": [
    "#### 1. Vertical structure of classes"
   ]
  },
  {
   "cell_type": "code",
   "execution_count": 21,
   "metadata": {},
   "outputs": [
    {
     "data": {
      "image/png": "[encoded data removed]",
      "text/plain": [
       "<Figure size 800x640 with 8 Axes>"
      ]
     },
     "metadata": {},
     "output_type": "display_data"
    }
   ],
   "source": [
    "P.vertical_structure(q_variable = 'TEMP_Q')"
   ]
  },
  {
   "cell_type": "markdown",
   "metadata": {},
   "source": [
    "#### 2. Spatial distribution of classes"
   ]
  },
  {
   "cell_type": "code",
   "execution_count": 32,
   "metadata": {},
   "outputs": [
    {
     "ename": "NameError",
     "evalue": "name 'plt' is not defined",
     "output_type": "error",
     "traceback": [
      "\u001b[0;31m---------------------------------------------------------------------------\u001b[0m",
      "\u001b[0;31mNameError\u001b[0m                                 Traceback (most recent call last)",
      "\u001b[0;32m<ipython-input-32-7054e2b27e65>\u001b[0m in \u001b[0;36m<module>\u001b[0;34m\u001b[0m\n\u001b[1;32m      1\u001b[0m P.spatial_distribution(proj=ccrs.PlateCarree(), extent=np.array([-10,40,30,56]) + np.array([-0.1,+0.1,-0.1,+0.1]), \n\u001b[0;32m----> 2\u001b[0;31m                        co = {'latitude':'LATITUDE', 'longitude':'LONGITUDE'})\n\u001b[0m",
      "\u001b[0;32m~/Plotter.py\u001b[0m in \u001b[0;36mspatial_distribution\u001b[0;34m(self, proj, extent, co)\u001b[0m\n\u001b[1;32m     34\u001b[0m            co: coordinates names co={'longitude':'LONGITUDE', 'latitude':'LATITUDE'}'''\n\u001b[1;32m     35\u001b[0m \u001b[0;34m\u001b[0m\u001b[0m\n\u001b[0;32m---> 36\u001b[0;31m         \u001b[0msubplot_kw\u001b[0m\u001b[0;34m=\u001b[0m\u001b[0;34m{\u001b[0m\u001b[0;34m'projection'\u001b[0m\u001b[0;34m:\u001b[0m \u001b[0mproj\u001b[0m\u001b[0;34m,\u001b[0m \u001b[0;34m'extent'\u001b[0m\u001b[0;34m:\u001b[0m \u001b[0mextent\u001b[0m\u001b[0;34m}\u001b[0m\u001b[0;34m\u001b[0m\u001b[0;34m\u001b[0m\u001b[0m\n\u001b[0m\u001b[1;32m     37\u001b[0m         \u001b[0mfig\u001b[0m\u001b[0;34m,\u001b[0m \u001b[0max\u001b[0m \u001b[0;34m=\u001b[0m \u001b[0mplt\u001b[0m\u001b[0;34m.\u001b[0m\u001b[0msubplots\u001b[0m\u001b[0;34m(\u001b[0m\u001b[0mnrows\u001b[0m\u001b[0;34m=\u001b[0m\u001b[0;36m1\u001b[0m\u001b[0;34m,\u001b[0m \u001b[0mncols\u001b[0m\u001b[0;34m=\u001b[0m\u001b[0;36m1\u001b[0m\u001b[0;34m,\u001b[0m \u001b[0mfigsize\u001b[0m\u001b[0;34m=\u001b[0m\u001b[0;34m(\u001b[0m\u001b[0;36m5\u001b[0m\u001b[0;34m,\u001b[0m\u001b[0;36m5\u001b[0m\u001b[0;34m)\u001b[0m\u001b[0;34m,\u001b[0m \u001b[0mdpi\u001b[0m\u001b[0;34m=\u001b[0m\u001b[0;36m120\u001b[0m\u001b[0;34m,\u001b[0m \u001b[0mfacecolor\u001b[0m\u001b[0;34m=\u001b[0m\u001b[0;34m'w'\u001b[0m\u001b[0;34m,\u001b[0m \u001b[0medgecolor\u001b[0m\u001b[0;34m=\u001b[0m\u001b[0;34m'k'\u001b[0m\u001b[0;34m,\u001b[0m \u001b[0msubplot_kw\u001b[0m\u001b[0;34m=\u001b[0m\u001b[0msubplot_kw\u001b[0m\u001b[0;34m)\u001b[0m\u001b[0;34m\u001b[0m\u001b[0;34m\u001b[0m\u001b[0m\n\u001b[1;32m     38\u001b[0m         \u001b[0mkmap\u001b[0m \u001b[0;34m=\u001b[0m \u001b[0mself\u001b[0m\u001b[0;34m.\u001b[0m\u001b[0mm\u001b[0m\u001b[0;34m.\u001b[0m\u001b[0mplot\u001b[0m\u001b[0;34m.\u001b[0m\u001b[0mcmap\u001b[0m\u001b[0;34m(\u001b[0m\u001b[0;34m)\u001b[0m \u001b[0;31m# TODO: function already in pyxpcm\u001b[0m\u001b[0;34m\u001b[0m\u001b[0;34m\u001b[0m\u001b[0m\n",
      "\u001b[0;31mNameError\u001b[0m: name 'plt' is not defined"
     ]
    }
   ],
   "source": [
    "P.spatial_distribution(proj=ccrs.PlateCarree(), extent=np.array([-10,40,30,56]) + np.array([-0.1,+0.1,-0.1,+0.1]), \n",
    "                       co = {'latitude':'LATITUDE', 'longitude':'LONGITUDE'})"
   ]
  },
  {
   "cell_type": "markdown",
   "metadata": {},
   "source": [
    "#### 3. Posteriors"
   ]
  },
  {
   "cell_type": "code",
   "execution_count": null,
   "metadata": {},
   "outputs": [],
   "source": [
    "P.plot_posteriors(proj=ccrs.PlateCarree(), extent=np.array([-10,40,30,56]) + np.array([-0.1,+0.1,-0.1,+0.1]), \n",
    "                       co = {'latitude':'LATITUDE', 'longitude':'LONGITUDE'})"
   ]
  },
  {
   "cell_type": "markdown",
   "metadata": {},
   "source": [
    "#### 4. Temporal representation"
   ]
  },
  {
   "cell_type": "code",
   "execution_count": null,
   "metadata": {},
   "outputs": [],
   "source": [
    "# data to be plot\n",
    "pcm_labels = dsi['PCM_LABELS']\n",
    "#pcm_labels"
   ]
  },
  {
   "cell_type": "markdown",
   "metadata": {},
   "source": [
    "Simple histogram"
   ]
  },
  {
   "cell_type": "code",
   "execution_count": null,
   "metadata": {},
   "outputs": [],
   "source": [
    "fig, axes = plt.subplots()\n",
    "pcm_labels.plot.hist()\n",
    "# y axis is number of profiles\n",
    "axes.set_ylabel('Number of profiles')\n",
    "plt.show()"
   ]
  },
  {
   "cell_type": "markdown",
   "metadata": {},
   "source": [
    "Bar plot by __month__"
   ]
  },
  {
   "cell_type": "code",
   "execution_count": null,
   "metadata": {},
   "outputs": [],
   "source": [
    "P.temporal_distribution(time_variable = 'TIME', time_bins = 'month', pond = 'abs')"
   ]
  },
  {
   "cell_type": "markdown",
   "metadata": {},
   "source": [
    "Bar plot by __month__ (__relative__ number of profiles per month)"
   ]
  },
  {
   "cell_type": "code",
   "execution_count": null,
   "metadata": {},
   "outputs": [],
   "source": [
    "P.temporal_distribution(time_variable = 'TIME', time_bins = 'month', pond = 'rel')"
   ]
  },
  {
   "cell_type": "markdown",
   "metadata": {},
   "source": [
    "Bar plot by __season__"
   ]
  },
  {
   "cell_type": "code",
   "execution_count": null,
   "metadata": {},
   "outputs": [],
   "source": [
    "P.temporal_distribution(time_variable = 'TIME', time_bins = 'season', pond = 'rel')"
   ]
  },
  {
   "cell_type": "code",
   "execution_count": null,
   "metadata": {},
   "outputs": [],
   "source": []
  }
 ],
 "metadata": {
  "kernelspec": {
   "display_name": "Python 3",
   "language": "python",
   "name": "python3"
  },
  "language_info": {
   "codemirror_mode": {
    "name": "ipython",
    "version": 3
   },
   "file_extension": ".py",
   "mimetype": "text/x-python",
   "name": "python",
   "nbconvert_exporter": "python",
   "pygments_lexer": "ipython3",
   "version": "3.7.6"
  }
 },
 "nbformat": 4,
 "nbformat_minor": 4
}
