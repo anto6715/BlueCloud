{
 "cells": [
  {
   "cell_type": "code",
   "execution_count": null,
   "metadata": {},
   "outputs": [],
   "source": [
    "import xarray as xr\n",
    "import numpy as np\n",
    "\n",
    "import pyxpcm\n",
    "from pyxpcm.models import pcm\n",
    "\n",
    "import cartopy.crs as ccrs\n",
    "import cartopy.feature as cfeature\n",
    "import matplotlib.pyplot as plt\n",
    "import matplotlib.colors as mcolors\n",
    "import seaborn as sns\n",
    "\n",
    "import Plotter\n",
    "from Plotter import Plotter #new class for plots in pyxpcm\n",
    "\n",
    "from PIL import Image\n",
    "\n",
    "import importlib"
   ]
  },
  {
   "cell_type": "markdown",
   "metadata": {},
   "source": [
    "get data"
   ]
  },
  {
   "cell_type": "code",
   "execution_count": null,
   "metadata": {},
   "outputs": [],
   "source": [
    "file_path = '/export/home1/agarciaj/datasets/global-reanalysis-phy-001-030-monthly_1598523953615.nc'\n",
    "ds = xr.open_dataset(file_path)\n",
    "ds['depth'] = -np.abs(ds['depth'].values)"
   ]
  },
  {
   "cell_type": "markdown",
   "metadata": {},
   "source": [
    "PCM"
   ]
  },
  {
   "cell_type": "code",
   "execution_count": null,
   "metadata": {},
   "outputs": [],
   "source": [
    "z = ds['depth'][0:20]\n",
    "pcm_features = {'temperature': z}\n",
    "m = pcm(K=6, features=pcm_features)"
   ]
  },
  {
   "cell_type": "code",
   "execution_count": null,
   "metadata": {},
   "outputs": [],
   "source": [
    "features_in_ds = {'temperature': 'thetao'}\n",
    "features_zdim='depth'\n",
    "m.fit(ds, features=features_in_ds, dim=features_zdim)\n",
    "m.predict(ds, features=features_in_ds, dim=features_zdim, inplace=True);\n",
    "m.predict_proba(ds, features=features_in_ds, dim=features_zdim, inplace=True);\n",
    "ds = ds.pyxpcm.quantile(m, q=[0.05, 0.5, 0.95], of='thetao', outname='thetao' + '_Q', keep_attrs=True, inplace=True)"
   ]
  },
  {
   "cell_type": "code",
   "execution_count": null,
   "metadata": {},
   "outputs": [],
   "source": [
    "da = ds['thetao_Q']\n",
    "da"
   ]
  },
  {
   "cell_type": "code",
   "execution_count": null,
   "metadata": {},
   "outputs": [],
   "source": [
    "QUANT_DIM = 'quantile'\n",
    "CLASS_DIM = 'pcm_class'\n",
    "VERTICAL_DIM = 'depth'"
   ]
  },
  {
   "cell_type": "code",
   "execution_count": null,
   "metadata": {},
   "outputs": [],
   "source": [
    "nQ = len(da[QUANT_DIM])\n",
    "#Qq = da.loc[{QUANT_DIM: 2}]\n",
    "da['quantile'].values\n",
    "Qqk.values.T\n",
    "da[QUANT_DIM].values[0]\n",
    "da.loc[{QUANT_DIM: da[QUANT_DIM].values[0]}]"
   ]
  },
  {
   "cell_type": "code",
   "execution_count": null,
   "metadata": {},
   "outputs": [],
   "source": [
    "cmapK = m.plot.cmap()  # cmap_discretize(plt.cm.get_cmap(name='Paired'), m.K)\n",
    "#cmapK = self.cmap_discretize(plt.cm.get_cmap(name='Accent'), self.m.K)\n",
    "if not cmap:\n",
    "    cmap = self.cmap_discretize(plt.cm.get_cmap(name='brg'), nQ)\n",
    "\n",
    "fig, ax = plt.subplots(nrows=1, ncols=3, figsize=(10, 8), facecolor='w', edgecolor='k',sharey=True)\n",
    "xlim = np.array([0.9 * da.min(), 1.1 * da.max()])\n",
    "\n",
    "for q in np.arange(0,nQ):\n",
    "    Qq = da.loc[{QUANT_DIM: da[QUANT_DIM].values[q]}]\n",
    "    for k in m:\n",
    "        Qqk = Qq.loc[{CLASS_DIM: k}]\n",
    "        ax[q].plot(Qqk.values.T, da[VERTICAL_DIM], label=(\n",
    "            \"K=%i\") % (Qqk[CLASS_DIM]))\n",
    "    ax[q].set_title((\"quantile: %.2f\") % (da[QUANT_DIM].values[q]))\n",
    "    ax[q].legend(loc='lower right')\n",
    "    ax[q].set_xlim(xlim)\n",
    "    \n",
    "fig.suptitle(r\"$\\bf{\"'Vertical'\"}$\"+' ' + r\"$\\bf{\"'structure'\"}$\"+' '+r\"$\\bf{\"'of'\"}$\"+' '+r\"$\\bf{\"'classes'\"}$\")\n",
    "fig.text(0.04, 0.5, 'depth (m)', va='center', rotation='vertical')"
   ]
  },
  {
   "cell_type": "code",
   "execution_count": null,
   "metadata": {},
   "outputs": [],
   "source": []
  }
 ],
 "metadata": {
  "kernelspec": {
   "display_name": "Python 3",
   "language": "python",
   "name": "python3"
  },
  "language_info": {
   "codemirror_mode": {
    "name": "ipython",
    "version": 3
   },
   "file_extension": ".py",
   "mimetype": "text/x-python",
   "name": "python",
   "nbconvert_exporter": "python",
   "pygments_lexer": "ipython3",
   "version": "3.7.6"
  }
 },
 "nbformat": 4,
 "nbformat_minor": 4
}
