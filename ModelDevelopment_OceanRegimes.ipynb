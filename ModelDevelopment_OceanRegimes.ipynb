{
 "cells": [
  {
   "cell_type": "markdown",
   "metadata": {},
   "source": [
    "# __Ocean regimes indicator__: Model development notebook"
   ]
  },
  {
   "cell_type": "markdown",
   "metadata": {},
   "source": [
    "Create a Gaussian Mixtures Model trained with a dataset of time series"
   ]
  },
  {
   "cell_type": "markdown",
   "metadata": {},
   "source": [
    "***\n",
    "ds : initial dataset (lat, lon, week)\n",
    "\n",
    "X : staked dataset (sampling, week, week_reduced)\n",
    "\n",
    "ds_labels: unstacked final dataset (lat, lon, week)\n",
    "***"
   ]
  },
  {
   "cell_type": "code",
   "execution_count": 1,
   "metadata": {},
   "outputs": [],
   "source": [
    "import xarray as xr\n",
    "import numpy as np\n",
    "import pandas as pd\n",
    "\n",
    "from sklearn import mixture\n",
    "\n",
    "import Plotter_OR\n",
    "from Plotter_OR import Plotter_OR \n",
    "\n",
    "from BIC_calculation_OR import *\n",
    "\n",
    "from io_OR import *\n",
    "\n",
    "import subprocess\n",
    "\n",
    "import joblib\n",
    "\n",
    "from preprocessing import *"
   ]
  },
  {
   "cell_type": "markdown",
   "metadata": {},
   "source": [
    "## Model parameters\n",
    "***"
   ]
  },
  {
   "cell_type": "markdown",
   "metadata": {},
   "source": [
    "....."
   ]
  },
  {
   "cell_type": "code",
   "execution_count": 2,
   "metadata": {},
   "outputs": [],
   "source": [
    "# number of classes\n",
    "K=7"
   ]
  },
  {
   "cell_type": "markdown",
   "metadata": {},
   "source": [
    "## Load training dataset\n",
    "***"
   ]
  },
  {
   "cell_type": "markdown",
   "metadata": {},
   "source": [
    "__Choose training dataset__"
   ]
  },
  {
   "cell_type": "markdown",
   "metadata": {},
   "source": [
    "One year of Ocean Color data in the Mediterranean Sea:  OCEANCOLOUR_GLO_CHL_L4_REP_OBSERVATIONS_009_082 product\n",
    "\n",
    ".........."
   ]
  },
  {
   "cell_type": "code",
   "execution_count": null,
   "metadata": {},
   "outputs": [],
   "source": [
    "CMEMS_user = '########'\n",
    "CMEMS_password = '#######'"
   ]
  },
  {
   "cell_type": "markdown",
   "metadata": {},
   "source": [
    ".............."
   ]
  },
  {
   "cell_type": "code",
   "execution_count": 3,
   "metadata": {},
   "outputs": [],
   "source": [
    "# geographical extent\n",
    "geo_extent = [-5, 42, 30, 46] # [min lon, max lon, min lat, max lat]\n",
    "# time extent\n",
    "time_extent = [\"2019-01-01\", \"2019-12-31\"] # [\"min date\", \"max date\"]\n",
    "# variable to be predict\n",
    "var_name = 'CHL' # name in dataset\n",
    "# file name\n",
    "file_name = 'oceancolour_glo_chl_l4_rep_observations_009_082_2019.nc'"
   ]
  },
  {
   "cell_type": "markdown",
   "metadata": {},
   "source": [
    "__Load training dataset__"
   ]
  },
  {
   "cell_type": "markdown",
   "metadata": {},
   "source": [
    "......."
   ]
  },
  {
   "cell_type": "code",
   "execution_count": null,
   "metadata": {},
   "outputs": [],
   "source": [
    "bashCommand = 'python -m motuclient -u ' + CMEMS_user + ' -p ' + CMEMS_password + ' -m \"http://my.cmems-du.eu/motu-web/Motu\" \\\n",
    "-s OCEANCOLOUR_GLO_CHL_L4_REP_OBSERVATIONS_009_082-TDS -d dataset-oc-glo-bio-multi-l4-chl_interpolated_4km_daily-rep \\\n",
    "-x ' + str(geo_extent[0]) + ' -X ' + str(geo_extent[1]) + ' -y ' + str(geo_extent[2]) + ' -Y ' + str(geo_extent[3]) + \\\n",
    "' -t \"' + time_extent[0] + '\" -T \"' + time_extent[1] + '\" -z 0.0 -Z 2500.0 \\\n",
    "-v ' + var_name + ' -o datasets -f ' + file_name\n",
    "print(bashCommand)\n",
    "sp = subprocess.call(bashCommand, shell=True)"
   ]
  },
  {
   "cell_type": "code",
   "execution_count": null,
   "metadata": {},
   "outputs": [],
   "source": [
    "#if I don't want to downloas dataset\n",
    "#file_path = 'datasets/dataset-oc-glo-bio-multi-l4-chl_interpolated_4km_daily-rep_1611225376956.nc' #in datarmor\n",
    "#file_path = 'datasets/dataset-oc-glo-bio-multi-l4-chl_interpolated_4km_daily-rep_1610026811620.nc'"
   ]
  },
  {
   "cell_type": "markdown",
   "metadata": {},
   "source": [
    "Open dataset\n",
    "\n",
    "........"
   ]
  },
  {
   "cell_type": "code",
   "execution_count": 4,
   "metadata": {},
   "outputs": [
    {
     "data": {
      "text/html": [
       "<div><svg style=\"position: absolute; width: 0; height: 0; overflow: hidden\">\n",
       "<defs>\n",
       "<symbol id=\"icon-database\" viewBox=\"0 0 32 32\">\n",
       "<title>Show/Hide data repr</title>\n",
       "<path d=\"M16 0c-8.837 0-16 2.239-16 5v4c0 2.761 7.163 5 16 5s16-2.239 16-5v-4c0-2.761-7.163-5-16-5z\"></path>\n",
       "<path d=\"M16 17c-8.837 0-16-2.239-16-5v6c0 2.761 7.163 5 16 5s16-2.239 16-5v-6c0 2.761-7.163 5-16 5z\"></path>\n",
       "<path d=\"M16 26c-8.837 0-16-2.239-16-5v6c0 2.761 7.163 5 16 5s16-2.239 16-5v-6c0 2.761-7.163 5-16 5z\"></path>\n",
       "</symbol>\n",
       "<symbol id=\"icon-file-text2\" viewBox=\"0 0 32 32\">\n",
       "<title>Show/Hide attributes</title>\n",
       "<path d=\"M28.681 7.159c-0.694-0.947-1.662-2.053-2.724-3.116s-2.169-2.030-3.116-2.724c-1.612-1.182-2.393-1.319-2.841-1.319h-15.5c-1.378 0-2.5 1.121-2.5 2.5v27c0 1.378 1.122 2.5 2.5 2.5h23c1.378 0 2.5-1.122 2.5-2.5v-19.5c0-0.448-0.137-1.23-1.319-2.841zM24.543 5.457c0.959 0.959 1.712 1.825 2.268 2.543h-4.811v-4.811c0.718 0.556 1.584 1.309 2.543 2.268zM28 29.5c0 0.271-0.229 0.5-0.5 0.5h-23c-0.271 0-0.5-0.229-0.5-0.5v-27c0-0.271 0.229-0.5 0.5-0.5 0 0 15.499-0 15.5 0v7c0 0.552 0.448 1 1 1h7v19.5z\"></path>\n",
       "<path d=\"M23 26h-14c-0.552 0-1-0.448-1-1s0.448-1 1-1h14c0.552 0 1 0.448 1 1s-0.448 1-1 1z\"></path>\n",
       "<path d=\"M23 22h-14c-0.552 0-1-0.448-1-1s0.448-1 1-1h14c0.552 0 1 0.448 1 1s-0.448 1-1 1z\"></path>\n",
       "<path d=\"M23 18h-14c-0.552 0-1-0.448-1-1s0.448-1 1-1h14c0.552 0 1 0.448 1 1s-0.448 1-1 1z\"></path>\n",
       "</symbol>\n",
       "</defs>\n",
       "</svg>\n",
       "<style>/* CSS stylesheet for displaying xarray objects in jupyterlab.\n",
       " *\n",
       " */\n",
       "\n",
       ":root {\n",
       "  --xr-font-color0: var(--jp-content-font-color0, rgba(0, 0, 0, 1));\n",
       "  --xr-font-color2: var(--jp-content-font-color2, rgba(0, 0, 0, 0.54));\n",
       "  --xr-font-color3: var(--jp-content-font-color3, rgba(0, 0, 0, 0.38));\n",
       "  --xr-border-color: var(--jp-border-color2, #e0e0e0);\n",
       "  --xr-disabled-color: var(--jp-layout-color3, #bdbdbd);\n",
       "  --xr-background-color: var(--jp-layout-color0, white);\n",
       "  --xr-background-color-row-even: var(--jp-layout-color1, white);\n",
       "  --xr-background-color-row-odd: var(--jp-layout-color2, #eeeeee);\n",
       "}\n",
       "\n",
       ".xr-wrap {\n",
       "  min-width: 300px;\n",
       "  max-width: 700px;\n",
       "}\n",
       "\n",
       ".xr-header {\n",
       "  padding-top: 6px;\n",
       "  padding-bottom: 6px;\n",
       "  margin-bottom: 4px;\n",
       "  border-bottom: solid 1px var(--xr-border-color);\n",
       "}\n",
       "\n",
       ".xr-header > div,\n",
       ".xr-header > ul {\n",
       "  display: inline;\n",
       "  margin-top: 0;\n",
       "  margin-bottom: 0;\n",
       "}\n",
       "\n",
       ".xr-obj-type,\n",
       ".xr-array-name {\n",
       "  margin-left: 2px;\n",
       "  margin-right: 10px;\n",
       "}\n",
       "\n",
       ".xr-obj-type {\n",
       "  color: var(--xr-font-color2);\n",
       "}\n",
       "\n",
       ".xr-sections {\n",
       "  padding-left: 0 !important;\n",
       "  display: grid;\n",
       "  grid-template-columns: 150px auto auto 1fr 20px 20px;\n",
       "}\n",
       "\n",
       ".xr-section-item {\n",
       "  display: contents;\n",
       "}\n",
       "\n",
       ".xr-section-item input {\n",
       "  display: none;\n",
       "}\n",
       "\n",
       ".xr-section-item input + label {\n",
       "  color: var(--xr-disabled-color);\n",
       "}\n",
       "\n",
       ".xr-section-item input:enabled + label {\n",
       "  cursor: pointer;\n",
       "  color: var(--xr-font-color2);\n",
       "}\n",
       "\n",
       ".xr-section-item input:enabled + label:hover {\n",
       "  color: var(--xr-font-color0);\n",
       "}\n",
       "\n",
       ".xr-section-summary {\n",
       "  grid-column: 1;\n",
       "  color: var(--xr-font-color2);\n",
       "  font-weight: 500;\n",
       "}\n",
       "\n",
       ".xr-section-summary > span {\n",
       "  display: inline-block;\n",
       "  padding-left: 0.5em;\n",
       "}\n",
       "\n",
       ".xr-section-summary-in:disabled + label {\n",
       "  color: var(--xr-font-color2);\n",
       "}\n",
       "\n",
       ".xr-section-summary-in + label:before {\n",
       "  display: inline-block;\n",
       "  content: '►';\n",
       "  font-size: 11px;\n",
       "  width: 15px;\n",
       "  text-align: center;\n",
       "}\n",
       "\n",
       ".xr-section-summary-in:disabled + label:before {\n",
       "  color: var(--xr-disabled-color);\n",
       "}\n",
       "\n",
       ".xr-section-summary-in:checked + label:before {\n",
       "  content: '▼';\n",
       "}\n",
       "\n",
       ".xr-section-summary-in:checked + label > span {\n",
       "  display: none;\n",
       "}\n",
       "\n",
       ".xr-section-summary,\n",
       ".xr-section-inline-details {\n",
       "  padding-top: 4px;\n",
       "  padding-bottom: 4px;\n",
       "}\n",
       "\n",
       ".xr-section-inline-details {\n",
       "  grid-column: 2 / -1;\n",
       "}\n",
       "\n",
       ".xr-section-details {\n",
       "  display: none;\n",
       "  grid-column: 1 / -1;\n",
       "  margin-bottom: 5px;\n",
       "}\n",
       "\n",
       ".xr-section-summary-in:checked ~ .xr-section-details {\n",
       "  display: contents;\n",
       "}\n",
       "\n",
       ".xr-array-wrap {\n",
       "  grid-column: 1 / -1;\n",
       "  display: grid;\n",
       "  grid-template-columns: 20px auto;\n",
       "}\n",
       "\n",
       ".xr-array-wrap > label {\n",
       "  grid-column: 1;\n",
       "  vertical-align: top;\n",
       "}\n",
       "\n",
       ".xr-preview {\n",
       "  color: var(--xr-font-color3);\n",
       "}\n",
       "\n",
       ".xr-array-preview,\n",
       ".xr-array-data {\n",
       "  padding: 0 5px !important;\n",
       "  grid-column: 2;\n",
       "}\n",
       "\n",
       ".xr-array-data,\n",
       ".xr-array-in:checked ~ .xr-array-preview {\n",
       "  display: none;\n",
       "}\n",
       "\n",
       ".xr-array-in:checked ~ .xr-array-data,\n",
       ".xr-array-preview {\n",
       "  display: inline-block;\n",
       "}\n",
       "\n",
       ".xr-dim-list {\n",
       "  display: inline-block !important;\n",
       "  list-style: none;\n",
       "  padding: 0 !important;\n",
       "  margin: 0;\n",
       "}\n",
       "\n",
       ".xr-dim-list li {\n",
       "  display: inline-block;\n",
       "  padding: 0;\n",
       "  margin: 0;\n",
       "}\n",
       "\n",
       ".xr-dim-list:before {\n",
       "  content: '(';\n",
       "}\n",
       "\n",
       ".xr-dim-list:after {\n",
       "  content: ')';\n",
       "}\n",
       "\n",
       ".xr-dim-list li:not(:last-child):after {\n",
       "  content: ',';\n",
       "  padding-right: 5px;\n",
       "}\n",
       "\n",
       ".xr-has-index {\n",
       "  font-weight: bold;\n",
       "}\n",
       "\n",
       ".xr-var-list,\n",
       ".xr-var-item {\n",
       "  display: contents;\n",
       "}\n",
       "\n",
       ".xr-var-item > div,\n",
       ".xr-var-item label,\n",
       ".xr-var-item > .xr-var-name span {\n",
       "  background-color: var(--xr-background-color-row-even);\n",
       "  margin-bottom: 0;\n",
       "}\n",
       "\n",
       ".xr-var-item > .xr-var-name:hover span {\n",
       "  padding-right: 5px;\n",
       "}\n",
       "\n",
       ".xr-var-list > li:nth-child(odd) > div,\n",
       ".xr-var-list > li:nth-child(odd) > label,\n",
       ".xr-var-list > li:nth-child(odd) > .xr-var-name span {\n",
       "  background-color: var(--xr-background-color-row-odd);\n",
       "}\n",
       "\n",
       ".xr-var-name {\n",
       "  grid-column: 1;\n",
       "}\n",
       "\n",
       ".xr-var-dims {\n",
       "  grid-column: 2;\n",
       "}\n",
       "\n",
       ".xr-var-dtype {\n",
       "  grid-column: 3;\n",
       "  text-align: right;\n",
       "  color: var(--xr-font-color2);\n",
       "}\n",
       "\n",
       ".xr-var-preview {\n",
       "  grid-column: 4;\n",
       "}\n",
       "\n",
       ".xr-var-name,\n",
       ".xr-var-dims,\n",
       ".xr-var-dtype,\n",
       ".xr-preview,\n",
       ".xr-attrs dt {\n",
       "  white-space: nowrap;\n",
       "  overflow: hidden;\n",
       "  text-overflow: ellipsis;\n",
       "  padding-right: 10px;\n",
       "}\n",
       "\n",
       ".xr-var-name:hover,\n",
       ".xr-var-dims:hover,\n",
       ".xr-var-dtype:hover,\n",
       ".xr-attrs dt:hover {\n",
       "  overflow: visible;\n",
       "  width: auto;\n",
       "  z-index: 1;\n",
       "}\n",
       "\n",
       ".xr-var-attrs,\n",
       ".xr-var-data {\n",
       "  display: none;\n",
       "  background-color: var(--xr-background-color) !important;\n",
       "  padding-bottom: 5px !important;\n",
       "}\n",
       "\n",
       ".xr-var-attrs-in:checked ~ .xr-var-attrs,\n",
       ".xr-var-data-in:checked ~ .xr-var-data {\n",
       "  display: block;\n",
       "}\n",
       "\n",
       ".xr-var-data > table {\n",
       "  float: right;\n",
       "}\n",
       "\n",
       ".xr-var-name span,\n",
       ".xr-var-data,\n",
       ".xr-attrs {\n",
       "  padding-left: 25px !important;\n",
       "}\n",
       "\n",
       ".xr-attrs,\n",
       ".xr-var-attrs,\n",
       ".xr-var-data {\n",
       "  grid-column: 1 / -1;\n",
       "}\n",
       "\n",
       "dl.xr-attrs {\n",
       "  padding: 0;\n",
       "  margin: 0;\n",
       "  display: grid;\n",
       "  grid-template-columns: 125px auto;\n",
       "}\n",
       "\n",
       ".xr-attrs dt, dd {\n",
       "  padding: 0;\n",
       "  margin: 0;\n",
       "  float: left;\n",
       "  padding-right: 10px;\n",
       "  width: auto;\n",
       "}\n",
       "\n",
       ".xr-attrs dt {\n",
       "  font-weight: normal;\n",
       "  grid-column: 1;\n",
       "}\n",
       "\n",
       ".xr-attrs dt:hover span {\n",
       "  display: inline-block;\n",
       "  background: var(--xr-background-color);\n",
       "  padding-right: 10px;\n",
       "}\n",
       "\n",
       ".xr-attrs dd {\n",
       "  grid-column: 2;\n",
       "  white-space: pre-wrap;\n",
       "  word-break: break-all;\n",
       "}\n",
       "\n",
       ".xr-icon-database,\n",
       ".xr-icon-file-text2 {\n",
       "  display: inline-block;\n",
       "  vertical-align: middle;\n",
       "  width: 1em;\n",
       "  height: 1.5em !important;\n",
       "  stroke-width: 0;\n",
       "  stroke: currentColor;\n",
       "  fill: currentColor;\n",
       "}\n",
       "</style><div class='xr-wrap'><div class='xr-header'><div class='xr-obj-type'>xarray.Dataset</div></div><ul class='xr-sections'><li class='xr-section-item'><input id='section-7cc4b233-bded-4773-bd7d-41fd3a570d33' class='xr-section-summary-in' type='checkbox' disabled ><label for='section-7cc4b233-bded-4773-bd7d-41fd3a570d33' class='xr-section-summary'  title='Expand/collapse section'>Dimensions:</label><div class='xr-section-inline-details'><ul class='xr-dim-list'><li><span class='xr-has-index'>lat</span>: 385</li><li><span class='xr-has-index'>lon</span>: 1128</li><li><span class='xr-has-index'>time</span>: 365</li></ul></div><div class='xr-section-details'></div></li><li class='xr-section-item'><input id='section-7989bbcf-8fc8-408e-9d11-5629e74cbcfc' class='xr-section-summary-in' type='checkbox'  checked><label for='section-7989bbcf-8fc8-408e-9d11-5629e74cbcfc' class='xr-section-summary' >Coordinates: <span>(3)</span></label><div class='xr-section-inline-details'></div><div class='xr-section-details'><ul class='xr-var-list'><li class='xr-var-item'><div class='xr-var-name'><span class='xr-has-index'>time</span></div><div class='xr-var-dims'>(time)</div><div class='xr-var-dtype'>datetime64[ns]</div><div class='xr-var-preview xr-preview'>2019-01-01 ... 2019-12-31</div><input id='attrs-269dade1-0d68-492c-ba78-aa9cba9373bd' class='xr-var-attrs-in' type='checkbox' ><label for='attrs-269dade1-0d68-492c-ba78-aa9cba9373bd' title='Show/Hide attributes'><svg class='icon xr-icon-file-text2'><use xlink:href='#icon-file-text2'></use></svg></label><input id='data-c5ac88b3-a41a-401a-808f-ec523f75abf1' class='xr-var-data-in' type='checkbox'><label for='data-c5ac88b3-a41a-401a-808f-ec523f75abf1' title='Show/Hide data repr'><svg class='icon xr-icon-database'><use xlink:href='#icon-database'></use></svg></label><div class='xr-var-attrs'><dl class='xr-attrs'><dt><span>axis :</span></dt><dd>T</dd></dl></div><pre class='xr-var-data'>array([&#x27;2019-01-01T00:00:00.000000000&#x27;, &#x27;2019-01-02T00:00:00.000000000&#x27;,\n",
       "       &#x27;2019-01-03T00:00:00.000000000&#x27;, ..., &#x27;2019-12-29T00:00:00.000000000&#x27;,\n",
       "       &#x27;2019-12-30T00:00:00.000000000&#x27;, &#x27;2019-12-31T00:00:00.000000000&#x27;],\n",
       "      dtype=&#x27;datetime64[ns]&#x27;)</pre></li><li class='xr-var-item'><div class='xr-var-name'><span class='xr-has-index'>lat</span></div><div class='xr-var-dims'>(lat)</div><div class='xr-var-dtype'>float32</div><div class='xr-var-preview xr-preview'>46.020832 45.979164 ... 30.020832</div><input id='attrs-050088b1-fbff-4f64-a9e8-9619490c6788' class='xr-var-attrs-in' type='checkbox' ><label for='attrs-050088b1-fbff-4f64-a9e8-9619490c6788' title='Show/Hide attributes'><svg class='icon xr-icon-file-text2'><use xlink:href='#icon-file-text2'></use></svg></label><input id='data-a20175a9-b17a-48c4-aaa4-914f3c1ac564' class='xr-var-data-in' type='checkbox'><label for='data-a20175a9-b17a-48c4-aaa4-914f3c1ac564' title='Show/Hide data repr'><svg class='icon xr-icon-database'><use xlink:href='#icon-database'></use></svg></label><div class='xr-var-attrs'><dl class='xr-attrs'><dt><span>long_name :</span></dt><dd>latitude</dd><dt><span>units :</span></dt><dd>degrees_north</dd><dt><span>axis :</span></dt><dd>Y</dd><dt><span>standard_name :</span></dt><dd>latitude</dd><dt><span>valid_min :</span></dt><dd>-90.0</dd><dt><span>valid_max :</span></dt><dd>90.0</dd><dt><span>_ChunkSizes :</span></dt><dd>4320</dd><dt><span>_CoordinateAxisType :</span></dt><dd>Lat</dd></dl></div><pre class='xr-var-data'>array([46.020832, 45.979164, 45.9375  , ..., 30.104164, 30.062498, 30.020832],\n",
       "      dtype=float32)</pre></li><li class='xr-var-item'><div class='xr-var-name'><span class='xr-has-index'>lon</span></div><div class='xr-var-dims'>(lon)</div><div class='xr-var-dtype'>float32</div><div class='xr-var-preview xr-preview'>-4.9791613 -4.9374948 ... 41.97917</div><input id='attrs-61fe9b16-75c0-4dd0-b994-4db0f1b55469' class='xr-var-attrs-in' type='checkbox' ><label for='attrs-61fe9b16-75c0-4dd0-b994-4db0f1b55469' title='Show/Hide attributes'><svg class='icon xr-icon-file-text2'><use xlink:href='#icon-file-text2'></use></svg></label><input id='data-ab4f765c-c583-43f2-935f-bfa52659a794' class='xr-var-data-in' type='checkbox'><label for='data-ab4f765c-c583-43f2-935f-bfa52659a794' title='Show/Hide data repr'><svg class='icon xr-icon-database'><use xlink:href='#icon-database'></use></svg></label><div class='xr-var-attrs'><dl class='xr-attrs'><dt><span>long_name :</span></dt><dd>longitude</dd><dt><span>units :</span></dt><dd>degrees_east</dd><dt><span>axis :</span></dt><dd>X</dd><dt><span>standard_name :</span></dt><dd>longitude</dd><dt><span>valid_min :</span></dt><dd>-180.0</dd><dt><span>valid_max :</span></dt><dd>180.0</dd><dt><span>_ChunkSizes :</span></dt><dd>8640</dd><dt><span>_CoordinateAxisType :</span></dt><dd>Lon</dd></dl></div><pre class='xr-var-data'>array([-4.979161, -4.937495, -4.895828, ..., 41.89584 , 41.937508, 41.97917 ],\n",
       "      dtype=float32)</pre></li></ul></div></li><li class='xr-section-item'><input id='section-d3a8aa23-89d3-4b74-8d71-ca8f620d6c99' class='xr-section-summary-in' type='checkbox'  checked><label for='section-d3a8aa23-89d3-4b74-8d71-ca8f620d6c99' class='xr-section-summary' >Data variables: <span>(1)</span></label><div class='xr-section-inline-details'></div><div class='xr-section-details'><ul class='xr-var-list'><li class='xr-var-item'><div class='xr-var-name'><span>CHL</span></div><div class='xr-var-dims'>(time, lat, lon)</div><div class='xr-var-dtype'>float32</div><div class='xr-var-preview xr-preview'>...</div><input id='attrs-44366358-2448-4896-8f54-d558ad1e493f' class='xr-var-attrs-in' type='checkbox' ><label for='attrs-44366358-2448-4896-8f54-d558ad1e493f' title='Show/Hide attributes'><svg class='icon xr-icon-file-text2'><use xlink:href='#icon-file-text2'></use></svg></label><input id='data-3451d665-a48f-4af4-baed-44f3e8b5ebf9' class='xr-var-data-in' type='checkbox'><label for='data-3451d665-a48f-4af4-baed-44f3e8b5ebf9' title='Show/Hide data repr'><svg class='icon xr-icon-database'><use xlink:href='#icon-database'></use></svg></label><div class='xr-var-attrs'><dl class='xr-attrs'><dt><span>input_files_reprocessings :</span></dt><dd>Processors versions: MODIS 2018.1/VIIRSN 2018.0/OLCIA 2.43/VIIRSJ1 2018.0.1/OLCIB 2.43</dd><dt><span>long_name :</span></dt><dd>Chlorophyll-a concentration - Mean of the binned pixels</dd><dt><span>valid_min :</span></dt><dd>0.0</dd><dt><span>valid_max :</span></dt><dd>1000.0</dd><dt><span>standard_name :</span></dt><dd>mass_concentration_of_chlorophyll_a_in_sea_water</dd><dt><span>units :</span></dt><dd>milligram m-3</dd><dt><span>type :</span></dt><dd>surface</dd><dt><span>_ChunkSizes :</span></dt><dd>[  1 256 256]</dd></dl></div><pre class='xr-var-data'>[158512200 values with dtype=float32]</pre></li></ul></div></li><li class='xr-section-item'><input id='section-8e2bf61f-d7bd-41a5-9f50-12929f50822d' class='xr-section-summary-in' type='checkbox'  ><label for='section-8e2bf61f-d7bd-41a5-9f50-12929f50822d' class='xr-section-summary' >Attributes: <span>(65)</span></label><div class='xr-section-inline-details'></div><div class='xr-section-details'><dl class='xr-attrs'><dt><span>comment :</span></dt><dd>average</dd><dt><span>distribution_statement :</span></dt><dd>See CMEMS Data License</dd><dt><span>site_name :</span></dt><dd>GLO</dd><dt><span>parameter_code :</span></dt><dd>CHL</dd><dt><span>creation_time :</span></dt><dd>16:39:54 UTC</dd><dt><span>creation_date :</span></dt><dd>2020-11-05 UTC</dd><dt><span>nb_grid_bins :</span></dt><dd>37324800</dd><dt><span>easternmost_longitude :</span></dt><dd>180.0</dd><dt><span>references :</span></dt><dd>http://www.globcolour.info GlobColour has been originally funded by ESA with data from ESA, NASA, NOAA and GeoEye. This version has received funding from the European Community s Seventh Framework Programme ([FP7/2007-2013]) under grant agreement n. 282723 [OSS2015 project].</dd><dt><span>registration :</span></dt><dd>5</dd><dt><span>stop_date :</span></dt><dd>2020-07-01 UTC</dd><dt><span>lon_step :</span></dt><dd>0.041666668</dd><dt><span>cmems_product_id :</span></dt><dd>OCEANCOLOUR_GLO_CHL_L4_REP_OBSERVATIONS_009_082</dd><dt><span>naming_authority :</span></dt><dd>CMEMS</dd><dt><span>northernmost_valid_latitude :</span></dt><dd>86.666664</dd><dt><span>grid_mapping :</span></dt><dd>Equirectangular</dd><dt><span>title :</span></dt><dd>dataset-oc-glo-bio-multi-l4-chl_interpolated_4km_daily-rep</dd><dt><span>period_end_day :</span></dt><dd>20200630</dd><dt><span>duration_time :</span></dt><dd>PT151043S</dd><dt><span>DPM_reference :</span></dt><dd>GC-UD-ACRI-PUG</dd><dt><span>product_name :</span></dt><dd>20200630_d-ACRI-L4-CHL-MULTI_4KM-GLO-REP</dd><dt><span>netcdf_version_id :</span></dt><dd>4.3.3.1 of Jul  8 2016 18:15:50 $</dd><dt><span>platform :</span></dt><dd>Aqua,Suomi-NPP,Sentinel-3a,JPSS-1 (NOAA-20),Sentinel-3b</dd><dt><span>northernmost_latitude :</span></dt><dd>90.0</dd><dt><span>IODD_reference :</span></dt><dd>GC-UD-ACRI-PUG</dd><dt><span>stop_time :</span></dt><dd>08:47:59 UTC</dd><dt><span>file_quality_index :</span></dt><dd>0</dd><dt><span>start_date :</span></dt><dd>2020-06-29 UTC</dd><dt><span>product_level :</span></dt><dd>4</dd><dt><span>period_start_day :</span></dt><dd>20200630</dd><dt><span>software_name :</span></dt><dd>globcolour_l3_reproject</dd><dt><span>citation :</span></dt><dd>The Licensees will ensure that original CMEMS products - or value added products or derivative works developed from CMEMS Products including publications and pictures - shall credit CMEMS by explicitly making mention of the originator (CMEMS) in the  following manner:  &lt;Generated using CMEMS Products, production centre ACRI-ST&gt;</dd><dt><span>software_version :</span></dt><dd>2020.0</dd><dt><span>start_time :</span></dt><dd>14:50:37 UTC</dd><dt><span>easternmost_valid_longitude :</span></dt><dd>180.00002</dd><dt><span>nb_bins :</span></dt><dd>37324800</dd><dt><span>southernmost_valid_latitude :</span></dt><dd>-54.458336</dd><dt><span>nb_equ_bins :</span></dt><dd>8640</dd><dt><span>lat_step :</span></dt><dd>0.041666668</dd><dt><span>sensor_name_list :</span></dt><dd>MOD,VIR,OLA,VJ1,OLB</dd><dt><span>institution :</span></dt><dd>ACRI</dd><dt><span>publication :</span></dt><dd>Gohin, F., Druon, J. N., Lampert, L. (2002). A five channel chlorophyll concentration algorithm applied to SeaWiFS data processed by SeaDAS in coastal waters. International journal of remote sensing, 23(8), 1639-1661 + Hu, C., Lee, Z., Franz, B. (2012). Chlorophyll a algorithms for oligotrophic oceans: A novel approach based on three-band reflectance difference. Journal of Geophysical Research, 117(C1). doi: 10.1029/2011jc007395</dd><dt><span>grid_resolution :</span></dt><dd>4.6383123</dd><dt><span>sensor_name :</span></dt><dd>MODISA,VIIRSN,OLCIa,VIIRSJ1,OLCIb</dd><dt><span>product_type :</span></dt><dd>day</dd><dt><span>sensor :</span></dt><dd>Moderate Resolution Imaging Spectroradiometer,Visible Infrared Imaging Radiometer Suite,Ocean and Land Colour Instrument,Visible Infrared Imaging Radiometer Suite,Ocean and Land Colour Instrument</dd><dt><span>Conventions :</span></dt><dd>CF-1.4</dd><dt><span>westernmost_valid_longitude :</span></dt><dd>-180.0</dd><dt><span>contact :</span></dt><dd>servicedesk.cmems@acri-st.fr</dd><dt><span>westernmost_longitude :</span></dt><dd>-180.0</dd><dt><span>source :</span></dt><dd>surface observation</dd><dt><span>earth_radius :</span></dt><dd>6378.137</dd><dt><span>southernmost_latitude :</span></dt><dd>-90.0</dd><dt><span>pct_bins :</span></dt><dd>100.0</dd><dt><span>cmems_production_unit :</span></dt><dd>OC-ACRI-NICE-FR</dd><dt><span>period_duration_day :</span></dt><dd>P1D</dd><dt><span>history :</span></dt><dd></dd><dt><span>nb_valid_bins :</span></dt><dd>18893040</dd><dt><span>pct_valid_bins :</span></dt><dd>50.61792695473251</dd><dt><span>parameter :</span></dt><dd>Chlorophyll-a concentration</dd><dt><span>History :</span></dt><dd>Translated to CF-1.0 Conventions by Netcdf-Java CDM (CFGridWriter2)\n",
       "Original Dataset = dataset-oc-glo-bio-multi-l4-chl_interpolated_4km_daily-rep; Translation Date = 2021-02-17T14:27:58.394Z</dd><dt><span>geospatial_lat_min :</span></dt><dd>30.020832061767578</dd><dt><span>geospatial_lat_max :</span></dt><dd>46.02083206176758</dd><dt><span>geospatial_lon_min :</span></dt><dd>-4.979161262512207</dd><dt><span>geospatial_lon_max :</span></dt><dd>41.97917175292969</dd></dl></div></li></ul></div></div>"
      ],
      "text/plain": [
       "<xarray.Dataset>\n",
       "Dimensions:  (lat: 385, lon: 1128, time: 365)\n",
       "Coordinates:\n",
       "  * time     (time) datetime64[ns] 2019-01-01 2019-01-02 ... 2019-12-31\n",
       "  * lat      (lat) float32 46.020832 45.979164 45.9375 ... 30.062498 30.020832\n",
       "  * lon      (lon) float32 -4.9791613 -4.9374948 ... 41.937508 41.97917\n",
       "Data variables:\n",
       "    CHL      (time, lat, lon) float32 ...\n",
       "Attributes:\n",
       "    comment:                      average\n",
       "    distribution_statement:       See CMEMS Data License\n",
       "    site_name:                    GLO\n",
       "    parameter_code:               CHL\n",
       "    creation_time:                16:39:54 UTC\n",
       "    creation_date:                2020-11-05 UTC\n",
       "    nb_grid_bins:                 37324800\n",
       "    easternmost_longitude:        180.0\n",
       "    references:                   http://www.globcolour.info GlobColour has b...\n",
       "    registration:                 5\n",
       "    stop_date:                    2020-07-01 UTC\n",
       "    lon_step:                     0.041666668\n",
       "    cmems_product_id:             OCEANCOLOUR_GLO_CHL_L4_REP_OBSERVATIONS_009...\n",
       "    naming_authority:             CMEMS\n",
       "    northernmost_valid_latitude:  86.666664\n",
       "    grid_mapping:                 Equirectangular\n",
       "    title:                        dataset-oc-glo-bio-multi-l4-chl_interpolate...\n",
       "    period_end_day:               20200630\n",
       "    duration_time:                PT151043S\n",
       "    DPM_reference:                GC-UD-ACRI-PUG\n",
       "    product_name:                 20200630_d-ACRI-L4-CHL-MULTI_4KM-GLO-REP\n",
       "    netcdf_version_id:            4.3.3.1 of Jul  8 2016 18:15:50 $\n",
       "    platform:                     Aqua,Suomi-NPP,Sentinel-3a,JPSS-1 (NOAA-20)...\n",
       "    northernmost_latitude:        90.0\n",
       "    IODD_reference:               GC-UD-ACRI-PUG\n",
       "    stop_time:                    08:47:59 UTC\n",
       "    file_quality_index:           0\n",
       "    start_date:                   2020-06-29 UTC\n",
       "    product_level:                4\n",
       "    period_start_day:             20200630\n",
       "    software_name:                globcolour_l3_reproject\n",
       "    citation:                     The Licensees will ensure that original CME...\n",
       "    software_version:             2020.0\n",
       "    start_time:                   14:50:37 UTC\n",
       "    easternmost_valid_longitude:  180.00002\n",
       "    nb_bins:                      37324800\n",
       "    southernmost_valid_latitude:  -54.458336\n",
       "    nb_equ_bins:                  8640\n",
       "    lat_step:                     0.041666668\n",
       "    sensor_name_list:             MOD,VIR,OLA,VJ1,OLB\n",
       "    institution:                  ACRI\n",
       "    publication:                  Gohin, F., Druon, J. N., Lampert, L. (2002)...\n",
       "    grid_resolution:              4.6383123\n",
       "    sensor_name:                  MODISA,VIIRSN,OLCIa,VIIRSJ1,OLCIb\n",
       "    product_type:                 day\n",
       "    sensor:                       Moderate Resolution Imaging Spectroradiomet...\n",
       "    Conventions:                  CF-1.4\n",
       "    westernmost_valid_longitude:  -180.0\n",
       "    contact:                      servicedesk.cmems@acri-st.fr\n",
       "    westernmost_longitude:        -180.0\n",
       "    source:                       surface observation\n",
       "    earth_radius:                 6378.137\n",
       "    southernmost_latitude:        -90.0\n",
       "    pct_bins:                     100.0\n",
       "    cmems_production_unit:        OC-ACRI-NICE-FR\n",
       "    period_duration_day:          P1D\n",
       "    history:                      \n",
       "    nb_valid_bins:                18893040\n",
       "    pct_valid_bins:               50.61792695473251\n",
       "    parameter:                    Chlorophyll-a concentration\n",
       "    History:                      Translated to CF-1.0 Conventions by Netcdf-...\n",
       "    geospatial_lat_min:           30.020832061767578\n",
       "    geospatial_lat_max:           46.02083206176758\n",
       "    geospatial_lon_min:           -4.979161262512207\n",
       "    geospatial_lon_max:           41.97917175292969"
      ]
     },
     "execution_count": 4,
     "metadata": {},
     "output_type": "execute_result"
    }
   ],
   "source": [
    "file_path = 'datasets/' + file_name\n",
    "ds = xr.open_dataset(file_path)\n",
    "\n",
    "ds['time'] = ds.indexes['time'].to_datetimeindex()\n",
    "ds.time.attrs['axis'] = 'T'\n",
    "\n",
    "#print(ds)\n",
    "ds"
   ]
  },
  {
   "cell_type": "markdown",
   "metadata": {},
   "source": [
    "__Quick plot__\n",
    "\n",
    "..........."
   ]
  },
  {
   "cell_type": "code",
   "execution_count": null,
   "metadata": {},
   "outputs": [],
   "source": [
    "ds[var_name].isel(time=11).plot();"
   ]
  },
  {
   "cell_type": "markdown",
   "metadata": {},
   "source": [
    "................."
   ]
  },
  {
   "cell_type": "code",
   "execution_count": null,
   "metadata": {},
   "outputs": [],
   "source": [
    "bins = np.arange(int(ds[var_name].min().values), int(ds[var_name].max().values))\n",
    "ds[var_name].plot.hist(bins=bins);"
   ]
  },
  {
   "cell_type": "markdown",
   "metadata": {},
   "source": [
    "## Preprocessing\n",
    "***"
   ]
  },
  {
   "cell_type": "markdown",
   "metadata": {},
   "source": [
    "Create a new function in a .py file called preprocesing?"
   ]
  },
  {
   "cell_type": "markdown",
   "metadata": {},
   "source": [
    "#### __1) Weekly mean for each pixel__"
   ]
  },
  {
   "cell_type": "code",
   "execution_count": 8,
   "metadata": {},
   "outputs": [
    {
     "ename": "ValueError",
     "evalue": "Time variable could not be detected. Please, provide it using time_var input.",
     "output_type": "error",
     "traceback": [
      "\u001b[0;31m---------------------------------------------------------------------------\u001b[0m",
      "\u001b[0;31mValueError\u001b[0m                                Traceback (most recent call last)",
      "\u001b[0;32m<ipython-input-8-a3f3ecd14d93>\u001b[0m in \u001b[0;36m<module>\u001b[0;34m\u001b[0m\n\u001b[0;32m----> 1\u001b[0;31m \u001b[0mX\u001b[0m \u001b[0;34m=\u001b[0m \u001b[0mweekly_mean\u001b[0m\u001b[0;34m(\u001b[0m\u001b[0mX\u001b[0m\u001b[0;34m,\u001b[0m \u001b[0mvar_name\u001b[0m\u001b[0;34m=\u001b[0m\u001b[0mvar_name\u001b[0m\u001b[0;34m)\u001b[0m\u001b[0;34m\u001b[0m\u001b[0;34m\u001b[0m\u001b[0m\n\u001b[0m\u001b[1;32m      2\u001b[0m \u001b[0mX\u001b[0m\u001b[0;34m\u001b[0m\u001b[0;34m\u001b[0m\u001b[0m\n",
      "\u001b[0;32m~/home/WORK/JUPYTER-notebooks/BlueCloud/preprocessing.py\u001b[0m in \u001b[0;36mweekly_mean\u001b[0;34m(ds, var_name, time_var)\u001b[0m\n\u001b[1;32m     34\u001b[0m         \u001b[0;32mif\u001b[0m \u001b[0;34m'auto'\u001b[0m \u001b[0;32min\u001b[0m \u001b[0mtime_var\u001b[0m\u001b[0;34m:\u001b[0m\u001b[0;34m\u001b[0m\u001b[0;34m\u001b[0m\u001b[0m\n\u001b[1;32m     35\u001b[0m             raise ValueError(\n\u001b[0;32m---> 36\u001b[0;31m                 'Time variable could not be detected. Please, provide it using time_var input.')\n\u001b[0m\u001b[1;32m     37\u001b[0m \u001b[0;34m\u001b[0m\u001b[0m\n\u001b[1;32m     38\u001b[0m     \u001b[0mX\u001b[0m \u001b[0;34m=\u001b[0m \u001b[0mds\u001b[0m\u001b[0;34m.\u001b[0m\u001b[0mgroupby\u001b[0m\u001b[0;34m(\u001b[0m\u001b[0mtime_var\u001b[0m \u001b[0;34m+\u001b[0m \u001b[0;34m\".week\"\u001b[0m\u001b[0;34m)\u001b[0m\u001b[0;34m.\u001b[0m\u001b[0mmean\u001b[0m\u001b[0;34m(\u001b[0m\u001b[0;34m)\u001b[0m\u001b[0;34m\u001b[0m\u001b[0;34m\u001b[0m\u001b[0m\n",
      "\u001b[0;31mValueError\u001b[0m: Time variable could not be detected. Please, provide it using time_var input."
     ]
    }
   ],
   "source": [
    "X = weekly_mean(ds, var_name=var_name)\n",
    "X"
   ]
  },
  {
   "cell_type": "markdown",
   "metadata": {},
   "source": [
    "Plot histogram in time"
   ]
  },
  {
   "cell_type": "code",
   "execution_count": null,
   "metadata": {},
   "outputs": [],
   "source": [
    "hist_2D(X, var_name, bins=None, xlabel='Weeks')"
   ]
  },
  {
   "cell_type": "markdown",
   "metadata": {},
   "source": [
    "#### __2) Reduce lat lon dimensions to sampling dimension__"
   ]
  },
  {
   "cell_type": "code",
   "execution_count": 7,
   "metadata": {},
   "outputs": [
    {
     "name": "stdout",
     "output_type": "stream",
     "text": [
      "[]\n"
     ]
    },
    {
     "ename": "ValueError",
     "evalue": "Sampling dimensions could not be detected. Please, provide them using sampling_dims input.",
     "output_type": "error",
     "traceback": [
      "\u001b[0;31m---------------------------------------------------------------------------\u001b[0m",
      "\u001b[0;31mValueError\u001b[0m                                Traceback (most recent call last)",
      "\u001b[0;32m<ipython-input-7-9ceccbfed5c0>\u001b[0m in \u001b[0;36m<module>\u001b[0;34m\u001b[0m\n\u001b[0;32m----> 1\u001b[0;31m \u001b[0mX\u001b[0m \u001b[0;34m=\u001b[0m \u001b[0mreduce_dims\u001b[0m\u001b[0;34m(\u001b[0m\u001b[0mX\u001b[0m\u001b[0;34m)\u001b[0m\u001b[0;34m\u001b[0m\u001b[0;34m\u001b[0m\u001b[0m\n\u001b[0m\u001b[1;32m      2\u001b[0m \u001b[0mX\u001b[0m\u001b[0;34m\u001b[0m\u001b[0;34m\u001b[0m\u001b[0m\n",
      "\u001b[0;32m~/home/WORK/JUPYTER-notebooks/BlueCloud/preprocessing.py\u001b[0m in \u001b[0;36mreduce_dims\u001b[0;34m(X, sampling_dims)\u001b[0m\n\u001b[1;32m    109\u001b[0m         \u001b[0;32mif\u001b[0m \u001b[0;32mnot\u001b[0m \u001b[0msampling_dims\u001b[0m\u001b[0;34m:\u001b[0m\u001b[0;34m\u001b[0m\u001b[0;34m\u001b[0m\u001b[0m\n\u001b[1;32m    110\u001b[0m             raise ValueError(\n\u001b[0;32m--> 111\u001b[0;31m                 'Sampling dimensions could not be detected. Please, provide them using sampling_dims input.')\n\u001b[0m\u001b[1;32m    112\u001b[0m \u001b[0;34m\u001b[0m\u001b[0m\n\u001b[1;32m    113\u001b[0m     \u001b[0mX\u001b[0m \u001b[0;34m=\u001b[0m \u001b[0mX\u001b[0m\u001b[0;34m.\u001b[0m\u001b[0mstack\u001b[0m\u001b[0;34m(\u001b[0m\u001b[0;34m{\u001b[0m\u001b[0;34m'sampling'\u001b[0m\u001b[0;34m:\u001b[0m \u001b[0msampling_dims\u001b[0m\u001b[0;34m}\u001b[0m\u001b[0;34m)\u001b[0m\u001b[0;34m\u001b[0m\u001b[0;34m\u001b[0m\u001b[0m\n",
      "\u001b[0;31mValueError\u001b[0m: Sampling dimensions could not be detected. Please, provide them using sampling_dims input."
     ]
    }
   ],
   "source": [
    "X = reduce_dims(X)\n",
    "X"
   ]
  },
  {
   "cell_type": "code",
   "execution_count": null,
   "metadata": {},
   "outputs": [],
   "source": [
    "sampling_dims = list(ds.dims)\n",
    "sampling_dims.remove('time')\n",
    "sampling_dims"
   ]
  },
  {
   "cell_type": "markdown",
   "metadata": {},
   "source": [
    "#### __3) Delate all NaN time series using mask__"
   ]
  },
  {
   "cell_type": "markdown",
   "metadata": {},
   "source": [
    "__Chlorophyll mask__: Create mask from another dataset\n",
    "2 options: load mask and create mask from the dataset"
   ]
  },
  {
   "cell_type": "code",
   "execution_count": null,
   "metadata": {},
   "outputs": [],
   "source": [
    "X, mask = delate_NaNs(ds, X, mask_path='datasets/Mediterranean_mask.nc')"
   ]
  },
  {
   "cell_type": "code",
   "execution_count": null,
   "metadata": {},
   "outputs": [],
   "source": [
    "index = X.get_index('sampling')  # pd.MultiIndex\n",
    "index.names"
   ]
  },
  {
   "cell_type": "code",
   "execution_count": null,
   "metadata": {},
   "outputs": [],
   "source": [
    "list(X.dims)"
   ]
  },
  {
   "cell_type": "code",
   "execution_count": null,
   "metadata": {},
   "outputs": [],
   "source": [
    "#plot mask\n",
    "mask.isel(feature=0).plot();"
   ]
  },
  {
   "cell_type": "markdown",
   "metadata": {},
   "source": [
    "load mask"
   ]
  },
  {
   "cell_type": "code",
   "execution_count": null,
   "metadata": {},
   "outputs": [],
   "source": [
    "mask_path = 'datasets/Mediterranean_mask.nc'\n",
    "mask = xr.open_dataset(mask_path)\n",
    "#mask = mask['mask'].interp_like(ds)\n",
    "mask"
   ]
  },
  {
   "cell_type": "code",
   "execution_count": null,
   "metadata": {},
   "outputs": [],
   "source": [
    "stacked_mask = mask['mask'].stack({'sampling': sampling_dims})\n",
    "#print(stacked_mask)\n",
    "stacked_mask"
   ]
  },
  {
   "cell_type": "markdown",
   "metadata": {},
   "source": [
    "Apply mask"
   ]
  },
  {
   "cell_type": "code",
   "execution_count": null,
   "metadata": {},
   "outputs": [],
   "source": [
    "X = X[var_name].where(stacked_mask == True, drop=True).to_dataset()\n",
    "#print(X)\n",
    "X"
   ]
  },
  {
   "cell_type": "markdown",
   "metadata": {},
   "source": [
    "Delate time series that are all NaN, not taken in to acount in the mask"
   ]
  },
  {
   "cell_type": "code",
   "execution_count": null,
   "metadata": {},
   "outputs": [],
   "source": [
    "X = X[var_name].where(~X[var_name].isnull(),drop=True).to_dataset()"
   ]
  },
  {
   "cell_type": "markdown",
   "metadata": {},
   "source": [
    "Recover the dataset (unravel) not necessary in the notebook"
   ]
  },
  {
   "cell_type": "code",
   "execution_count": null,
   "metadata": {},
   "outputs": [],
   "source": [
    "X_unstacked = X[var_name].unstack('sampling').to_dataset(name = var_name)\n",
    "X_unstacked = X_unstacked.sortby(['lat','lon'])\n",
    "print(np.shape(X_unstacked[var_name]))\n",
    "# same lat and lon values in mask and in results\n",
    "mask = stacked_mask.unstack()\n",
    "X_unstacked = X_unstacked.reindex_like(mask)\n",
    "print(np.shape(X_unstacked[var_name]))\n",
    "print(X_unstacked) "
   ]
  },
  {
   "cell_type": "code",
   "execution_count": null,
   "metadata": {},
   "outputs": [],
   "source": [
    "X_unstacked[var_name].isel(feature=11).plot();"
   ]
  },
  {
   "cell_type": "markdown",
   "metadata": {},
   "source": [
    "__There is any NaN in the dataset?__"
   ]
  },
  {
   "cell_type": "code",
   "execution_count": null,
   "metadata": {},
   "outputs": [],
   "source": [
    "#np.any(np.isnan(X[var_name].values))\n",
    "np.sum(np.isnan(X[var_name].values))\n",
    "\n",
    "#np.argwhere(np.isnan(X[var_name].values))"
   ]
  },
  {
   "cell_type": "markdown",
   "metadata": {},
   "source": [
    "#### __4) Interpolation__"
   ]
  },
  {
   "cell_type": "markdown",
   "metadata": {},
   "source": [
    "Not necessary if using mask created from dataset"
   ]
  },
  {
   "cell_type": "code",
   "execution_count": null,
   "metadata": {},
   "outputs": [],
   "source": [
    "#X = X[var_name].interpolate_na(dim = 'feature', method=\"linear\", fill_value=\"extrapolate\").to_dataset(name = var_name)\n",
    "X = X[var_name].interpolate_na(dim = 'feature', method=\"linear\", fill_value=\"extrapolate\").to_dataset(name = var_name)\n",
    "print(X)\n",
    "#X"
   ]
  },
  {
   "cell_type": "markdown",
   "metadata": {},
   "source": [
    "__There is any NaN in the dataset?__"
   ]
  },
  {
   "cell_type": "code",
   "execution_count": null,
   "metadata": {},
   "outputs": [],
   "source": [
    "#np.any(np.isnan(X[var_name].values))\n",
    "np.sum(np.isnan(X[var_name].values))"
   ]
  },
  {
   "cell_type": "markdown",
   "metadata": {},
   "source": [
    "#### __5) Scaler__"
   ]
  },
  {
   "cell_type": "markdown",
   "metadata": {},
   "source": [
    "choose the best scaler: https://datascience.stackexchange.com/questions/45900/when-to-use-standard-scaler-and-when-normalizer"
   ]
  },
  {
   "cell_type": "markdown",
   "metadata": {},
   "source": [
    "Apply sklearn __StandardScaler__: \n",
    "Standardize features by removing the mean and scaling to unit variance\n",
    "The standard score of a sample x is calculated as:\n",
    "\n",
    "    z = (x - u) / s\n",
    "    \n",
    "where u is the mean of the training samples or zero if `with_mean=False`, and s is the standard deviation of the training samples or one if `with_std=False`.\n",
    "Centering and scaling happen independently on each feature by computing the relevant statistics on the samples in the training set. "
   ]
  },
  {
   "cell_type": "markdown",
   "metadata": {},
   "source": [
    "shape (n_samples, n_features), calculate mean for each feature"
   ]
  },
  {
   "cell_type": "code",
   "execution_count": null,
   "metadata": {},
   "outputs": [],
   "source": [
    "X = scaler(X)\n",
    "X"
   ]
  },
  {
   "cell_type": "markdown",
   "metadata": {},
   "source": [
    "#### __5) PCA__"
   ]
  },
  {
   "cell_type": "markdown",
   "metadata": {},
   "source": [
    "Apply __Principal component analysis__ (PCA):\n",
    "Linear dimensionality reduction using Singular Value Decomposition of the data to project it to a lower dimensional space.\n",
    "If `0 < n_components < 1` and `svd_solver == 'full'`, select the number of components such that the amount of variance that needs to be explained is greater than the percentage specified by n_components."
   ]
  },
  {
   "cell_type": "code",
   "execution_count": null,
   "metadata": {},
   "outputs": [],
   "source": [
    "X = apply_PCA(X, plot_var=True)\n",
    "X"
   ]
  },
  {
   "cell_type": "markdown",
   "metadata": {},
   "source": [
    "## Create and train model\n",
    "***"
   ]
  },
  {
   "cell_type": "markdown",
   "metadata": {},
   "source": [
    "............."
   ]
  },
  {
   "cell_type": "markdown",
   "metadata": {},
   "source": [
    "### Create model"
   ]
  },
  {
   "cell_type": "code",
   "execution_count": null,
   "metadata": {},
   "outputs": [],
   "source": [
    "model = mixture.GaussianMixture(n_components=K, covariance_type='full')\n",
    "model"
   ]
  },
  {
   "cell_type": "code",
   "execution_count": null,
   "metadata": {},
   "outputs": [],
   "source": [
    "# option kmeans? \n",
    "#from sklearn.cluster import KMeans\n",
    "#k=7\n",
    "#model = KMeans(n_clusters=7)\n",
    "#model"
   ]
  },
  {
   "cell_type": "markdown",
   "metadata": {},
   "source": [
    "### Fit model"
   ]
  },
  {
   "cell_type": "code",
   "execution_count": null,
   "metadata": {},
   "outputs": [],
   "source": [
    "X_labels = model.fit_predict(X[var_name + \"_reduced\"])\n",
    "X = X.assign(variables={\"GMM_labels\":(('sampling'),X_labels)})"
   ]
  },
  {
   "cell_type": "markdown",
   "metadata": {},
   "source": [
    "Calculate __robustness__ for development plots"
   ]
  },
  {
   "cell_type": "markdown",
   "metadata": {},
   "source": [
    "- Predict posterior probability of each component given the data"
   ]
  },
  {
   "cell_type": "code",
   "execution_count": null,
   "metadata": {},
   "outputs": [],
   "source": [
    "X_proba = model.predict_proba(X[var_name + \"_reduced\"])\n",
    "X = X.assign(variables={\"GMM_post\":(('sampling','k'),X_proba)})\n",
    "print(X)\n",
    "#X"
   ]
  },
  {
   "cell_type": "markdown",
   "metadata": {},
   "source": [
    "- Calculate robustness"
   ]
  },
  {
   "cell_type": "code",
   "execution_count": null,
   "metadata": {},
   "outputs": [],
   "source": [
    "maxpost = X[\"GMM_post\"].max(dim=\"k\")\n",
    "K = len(X[\"GMM_labels\"])\n",
    "robust = (maxpost - 1. / K) * K / (K - 1.)\n",
    "\n",
    "Plist = [0, 0.33, 0.66, 0.9, .99, 1]\n",
    "rowl0 = ('Unlikely', 'As likely as not', 'Likely', 'Very Likely', 'Virtually certain')\n",
    "robust_id = np.digitize(robust, Plist) - 1"
   ]
  },
  {
   "cell_type": "code",
   "execution_count": null,
   "metadata": {},
   "outputs": [],
   "source": [
    "X = X.assign(variables={\"GMM_robustness\":(('sampling'), robust), \"GMM_robustness_cat\":(('sampling'), robust_id)})\n",
    "X[\"GMM_robustness_cat\"].attrs['legend'] = rowl0\n",
    "print(X)\n",
    "#X"
   ]
  },
  {
   "cell_type": "markdown",
   "metadata": {},
   "source": [
    "__Unstack dataset__"
   ]
  },
  {
   "cell_type": "code",
   "execution_count": null,
   "metadata": {},
   "outputs": [],
   "source": [
    "ds_labels = unstack_dataset(ds, X, mask)\n",
    "ds_labels"
   ]
  },
  {
   "cell_type": "markdown",
   "metadata": {},
   "source": [
    "## Development plots\n",
    "***"
   ]
  },
  {
   "cell_type": "markdown",
   "metadata": {},
   "source": [
    "............"
   ]
  },
  {
   "cell_type": "code",
   "execution_count": null,
   "metadata": {},
   "outputs": [],
   "source": [
    "P = Plotter_OR(ds_labels, model, coords_dict={'latitude':'lat', 'longitude':'lon', 'feature': 'feature'})"
   ]
  },
  {
   "cell_type": "markdown",
   "metadata": {},
   "source": [
    "#### __1. Scatter plot__"
   ]
  },
  {
   "cell_type": "markdown",
   "metadata": {},
   "source": [
    "............"
   ]
  },
  {
   "cell_type": "code",
   "execution_count": null,
   "metadata": {},
   "outputs": [],
   "source": [
    "P.scatter_PDF(var_name = var_name + '_reduced')\n",
    "P.save_BlueCloud('figures/scatter_PDF_EX_chl.png')"
   ]
  },
  {
   "cell_type": "markdown",
   "metadata": {},
   "source": [
    "#### __2. BIC__"
   ]
  },
  {
   "cell_type": "markdown",
   "metadata": {},
   "source": [
    "..........."
   ]
  },
  {
   "cell_type": "markdown",
   "metadata": {},
   "source": [
    "__User input__"
   ]
  },
  {
   "cell_type": "code",
   "execution_count": null,
   "metadata": {},
   "outputs": [],
   "source": [
    "corr_dist = 50 # correlation distance in km\n",
    "Nrun = 10 # number of runs for each k\n",
    "NK = 20 # max number of classes to explore"
   ]
  },
  {
   "cell_type": "markdown",
   "metadata": {},
   "source": [
    "__BIC calculation__\n",
    "\n",
    "................."
   ]
  },
  {
   "cell_type": "code",
   "execution_count": null,
   "metadata": {},
   "outputs": [],
   "source": [
    "BIC, BIC_min = BIC_calculation(X=X, coords_dict={'latitude':'lat', 'longitude':'lon'}, \n",
    "                               corr_dist=corr_dist,\n",
    "                               feature_name='feature_reduced', var_name= 'CHL_reduced',\n",
    "                               Nrun=Nrun, NK=NK)"
   ]
  },
  {
   "cell_type": "markdown",
   "metadata": {},
   "source": [
    "__BIC plot__"
   ]
  },
  {
   "cell_type": "code",
   "execution_count": null,
   "metadata": {},
   "outputs": [],
   "source": [
    "plot_BIC(BIC, NK=NK)\n",
    "P.save_BlueCloud('figures/BIC_EX_chl.png', bic_fig='yes')"
   ]
  },
  {
   "cell_type": "markdown",
   "metadata": {},
   "source": [
    "__Optimized number of classes__"
   ]
  },
  {
   "cell_type": "code",
   "execution_count": null,
   "metadata": {},
   "outputs": [],
   "source": [
    "BIC_min"
   ]
  },
  {
   "cell_type": "markdown",
   "metadata": {},
   "source": [
    "............."
   ]
  },
  {
   "cell_type": "markdown",
   "metadata": {},
   "source": [
    "#### __3. Robustness__"
   ]
  },
  {
   "cell_type": "markdown",
   "metadata": {},
   "source": [
    "...................."
   ]
  },
  {
   "cell_type": "code",
   "execution_count": null,
   "metadata": {},
   "outputs": [],
   "source": [
    "P.plot_robustness()\n",
    "P.save_BlueCloud('figures/robustness_EX_chl.png')"
   ]
  },
  {
   "cell_type": "markdown",
   "metadata": {},
   "source": [
    "## Refit and save model\n",
    "***"
   ]
  },
  {
   "cell_type": "markdown",
   "metadata": {},
   "source": [
    "........"
   ]
  },
  {
   "cell_type": "code",
   "execution_count": null,
   "metadata": {},
   "outputs": [],
   "source": [
    "# appropriate number of classes\n",
    "K = BIC_min\n",
    "K = 7\n",
    "\n",
    "model = mixture.GaussianMixture(n_components=K, covariance_type='full')\n",
    "model.fit_predict(X[var_name + \"_reduced\"])"
   ]
  },
  {
   "cell_type": "markdown",
   "metadata": {},
   "source": [
    ".........."
   ]
  },
  {
   "cell_type": "code",
   "execution_count": null,
   "metadata": {},
   "outputs": [],
   "source": [
    "joblib.dump(model, 'models/test_modelOR_mediterranean_chl_2019_k7.sav')\n",
    "#model.to_netcdf('models/test_modelOR_mediterranean_chl_2019_k7.nc')"
   ]
  },
  {
   "cell_type": "code",
   "execution_count": null,
   "metadata": {},
   "outputs": [],
   "source": [
    "to_netcdf(model, ncfile='models/test_modelOR_mediterranean_chl_2019_k7.nc')"
   ]
  },
  {
   "cell_type": "code",
   "execution_count": null,
   "metadata": {},
   "outputs": [],
   "source": []
  }
 ],
 "metadata": {
  "kernelspec": {
   "display_name": "Python 3",
   "language": "python",
   "name": "python3"
  },
  "language_info": {
   "codemirror_mode": {
    "name": "ipython",
    "version": 3
   },
   "file_extension": ".py",
   "mimetype": "text/x-python",
   "name": "python",
   "nbconvert_exporter": "python",
   "pygments_lexer": "ipython3",
   "version": "3.7.6"
  }
 },
 "nbformat": 4,
 "nbformat_minor": 4
}
